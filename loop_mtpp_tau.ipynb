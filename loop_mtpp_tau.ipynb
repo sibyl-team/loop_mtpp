{
 "cells": [
  {
   "cell_type": "code",
   "execution_count": 1,
   "metadata": {},
   "outputs": [
    {
     "name": "stderr",
     "output_type": "stream",
     "text": [
      "\n",
      "Bad key \"text.kerning_factor\" on line 4 in\n",
      "/opt/anaconda3/envs/bigdatalab_cpu_202101/lib/python3.7/site-packages/matplotlib/mpl-data/stylelib/_classic_test_patch.mplstyle.\n",
      "You probably need to get an updated matplotlibrc file from\n",
      "https://github.com/matplotlib/matplotlib/blob/v3.1.2/matplotlibrc.template\n",
      "or from the matplotlib source distribution\n"
     ]
    },
    {
     "name": "stdout",
     "output_type": "stream",
     "text": [
      "Log setup complete\n"
     ]
    }
   ],
   "source": [
    "import sys\n",
    "#sys.path.insert(0,'./src/')\n",
    "#simulator_path = \"../covid_de/sim/\" ##change simulatio path here \n",
    "sys.path.insert(0,'src/')\n",
    "sys.path.insert(0, '../sib/')\n",
    "simulator_path = \"../covid_sim_giova/sim/\" ##change simulatio path here \n",
    "sys.path.insert(0,simulator_path)\n",
    "\n",
    "from pathlib import Path\n",
    "import numpy as np, pandas as pd, matplotlib.pyplot as plt\n",
    "import json, log, logging, loop_mtpp\n",
    "from importlib import reload\n",
    "import imp\n",
    "from math import exp\n",
    "import pickle\n",
    "#sys.path.insert(0,'./src/loop_ranker')\n",
    "from lib.mobilitysim import MobilitySimulator\n",
    "import loop_mtpp\n",
    "from mtpp_utils import contacts_cg\n",
    "\n",
    "\n",
    "#logging\n",
    "data_path = '../sib_test/results/MTPP/Isle_of_Wight/'\n",
    "\n",
    "output_dir = data_path + \"/output_pop20_site10/\"\n",
    "fold_out = Path(output_dir)\n",
    "if not fold_out.exists():\n",
    "    fold_out.mkdir(parents=True)\n",
    "\n",
    "reload(log)\n",
    "logger = log.setup_logger()"
   ]
  },
  {
   "cell_type": "markdown",
   "metadata": {},
   "source": [
    "### Mobility simulation"
   ]
  },
  {
   "cell_type": "code",
   "execution_count": 2,
   "metadata": {
    "scrolled": true
   },
   "outputs": [
    {
     "name": "stdout",
     "output_type": "stream",
     "text": [
      "Simulate mobility for 1200.00 time units... "
     ]
    }
   ],
   "source": [
    "beta = 1.14 # from paper\n",
    "country = 'GER'\n",
    "with open(data_path + 'Isle_of_Wight_settings_pop10_site5.pk', 'rb') as fp:\n",
    "    mob_kwargs = pickle.load(fp)\n",
    "\n",
    "mob_kwargs[\"delta\"] = 0.2554120904376099\n",
    "T = 50\n",
    "seed_mob = 1\n",
    "seed = 1\n",
    "t_unit = 24\n",
    "t_res = 0.25 # drop contacts with a duration < t_res (in hours)\n",
    "max_time = T * t_unit  \n",
    "mob = MobilitySimulator(**mob_kwargs)\n",
    "mob.verbose = True\n",
    "out = mob.simulate(max_time=max_time, seed=seed_mob)\n",
    "#contacts_df = pd.DataFrame(contacts_cg(mob, t_res, t_unit, first_filter = True),columns = ['i','j','t','deltat'])\n",
    "N = mob.num_people \n",
    "#print(N)"
   ]
  },
  {
   "cell_type": "code",
   "execution_count": 3,
   "metadata": {
    "scrolled": true
   },
   "outputs": [
    {
     "name": "stdout",
     "output_type": "stream",
     "text": [
      "Check asymmetric contacts\n",
      "All raw (i < j) contacts 1985768\n",
      "0.0 %\n",
      "25.18 %\n",
      "50.36 %\n",
      "75.54 %\n",
      "Coarse-grained contacts 1981276\n"
     ]
    }
   ],
   "source": [
    "contacts_df = pd.DataFrame(contacts_cg(mob, t_res, t_unit, first_filter = True),columns = ['i','j','t','deltat'])"
   ]
  },
  {
   "cell_type": "code",
   "execution_count": 4,
   "metadata": {},
   "outputs": [],
   "source": [
    "contacts_df = contacts_df.sort_values(by=[\"t\",\"i\",\"j\"])"
   ]
  },
  {
   "cell_type": "markdown",
   "metadata": {},
   "source": [
    "## Set testing and quarantine rules"
   ]
  },
  {
   "cell_type": "code",
   "execution_count": 5,
   "metadata": {},
   "outputs": [],
   "source": [
    "#n_indiv=np.ceil(mob_kwargs['num_people_unscaled']/mob_kwargs['downsample_pop'])\n",
    "n_seeds = {'expo': 2, 'iasy':2,'ipre':2} # select initial infected seeds\n",
    "num_test_random = 0 #number of random tests per day\n",
    "fraction_sym_obs = 0.5 #fraction of Symptomatic tested positive\n",
    "initial_steps = 5 #starting time of intervention\n",
    "delta_days = 1 # intervention every delta_days days (for the moment keep to 1)\n",
    "#assert initial_steps % delta_days == 0\n",
    "test_HH = False\n",
    "quarantine_HH = True\n",
    "adoption_fraction = 1.0"
   ]
  },
  {
   "cell_type": "markdown",
   "metadata": {},
   "source": [
    "## Set the inference algorithm class"
   ]
  },
  {
   "cell_type": "code",
   "execution_count": 7,
   "metadata": {},
   "outputs": [],
   "source": [
    "import sib,  scipy\n",
    "\n",
    "from loop_ranker import sib_rank, sib_drop_rank, greedy_rank, dotd_rank, mean_field_rank, tracing_rank, winbp_rank, winbp_prob0_rank\n",
    "from tqdm.notebook import tqdm\n",
    "from scipy.stats import gamma\n",
    "sib.set_num_threads(6)\n",
    "\n",
    "import matplotlib.pyplot as plt\n",
    "\n",
    "mu = 1/12\n",
    "prob_seed = 1/N\n",
    "prob_sus = 0.5\n",
    "pautoinf = 1e-10\n",
    "pseed = prob_seed / (2 - prob_seed)\n",
    "psus = prob_sus * (1 - pseed)\n",
    "pautoinf = 1e-6\n",
    "fp_rate = 0.0\n",
    "fn_rate = 0.0\n",
    "\n",
    "rankers = {}\n",
    "rankers[\"dotd\"] = dotd_rank.DotdRanker()\n",
    "'''\n",
    "\n",
    "rankers[\"MF\"] = mean_field_rank.MeanFieldRanker(\n",
    "                tau = 5,\n",
    "                delta = 10,\n",
    "                mu = mu,\n",
    "                lamb = 1.0\n",
    "                )\n",
    "'''\n",
    "rankers[\"tracing\"] = tracing_rank.TracingRanker(\n",
    "                 tau=5,\n",
    "                 lamb=1.0\n",
    ")\n",
    "\n",
    "rankers[\"greedy\"] = greedy_rank.GreedyRanker(\n",
    "                 include_S = True,\n",
    "                tau=10)\n",
    "\n",
    "\n",
    "\"\"\"\n",
    "rankers[\"winbp20prob0\"] = winbp_prob0_rank.WinBPProb0Ranker(\n",
    "                 params = sib.Params(\n",
    "                                 prob_i = sib.Uniform(1.0),\n",
    "                                 prob_r = sib.Exponential(mu=mu),\n",
    "                                 #prob_i = sib.PriorDiscrete(list(0.25 * abm_utils.gamma_pdf_array(T+1,6,2.5))),\n",
    "                                 #prob_r = sib.PriorDiscrete(list(scipy.stats.gamma.sf(range(T+1), 10., scale=1.7452974337097158))),\n",
    "                                 #prob_i = sib.Uniform(0.014),\n",
    "                                 #prob_r = sib.Gamma(k = 10, mu = 1/1.7452974337097158),\n",
    "                                 pseed = pseed,\n",
    "                                 psus = psus,\n",
    "                                 fp_rate = fp_rate,\n",
    "                                 fn_rate = fn_rate,\n",
    "                                 pautoinf = pautoinf),\n",
    "                 maxit0 = 30,\n",
    "                 maxit1 = 30,\n",
    "                 damp0 = 0.5,\n",
    "                 damp1 = 0.9,\n",
    "                 tol = 1e-3,\n",
    "                 memory_decay = 1e-2,\n",
    "                 window_length = 20\n",
    ")\n",
    "\n",
    "\n",
    "rankers[\"no_intervention\"] = None\n",
    "\n",
    "rankers[\"winbp21_tau7\"] = winbp_prob0_rank.WinBPProb0Ranker(\n",
    "                 params = sib.Params(\n",
    "                                 prob_i = sib.Cached(sib.Scaled(sib.PDF(sib.Gamma(k=5.76, mu=0.96)), scale=0.25), T+1),\n",
    "                                 prob_r = sib.Cached(sib.Gamma(k = 10, mu = 1/1.7452974337097158), T+1),\n",
    "                                 pseed = pseed,\n",
    "                                 psus = psus,\n",
    "                                 fp_rate = fp_rate,\n",
    "                                 fn_rate = fn_rate,\n",
    "                                 pautoinf = pautoinf),\n",
    "                 maxit0 = 20,\n",
    "                 maxit1 = 20,\n",
    "                 tol = 1e-3,\n",
    "                 memory_decay = 1e-5,\n",
    "                 window_length = 21,\n",
    "                 tau=7\n",
    ")\n",
    "\n",
    "rankers[\"winbp21_tau0\"] = winbp_prob0_rank.WinBPProb0Ranker(\n",
    "                 params = sib.Params(\n",
    "                                 prob_i = sib.Cached(sib.Scaled(sib.PDF(sib.Gamma(k=5.76, mu=0.96)), scale=0.25), T+1),\n",
    "                                 prob_r = sib.Cached(sib.Gamma(k = 10, mu = 1/1.7452974337097158), T+1),\n",
    "                                 pseed = pseed,\n",
    "                                 psus = psus,\n",
    "                                 fp_rate = fp_rate,\n",
    "                                 fn_rate = fn_rate,\n",
    "                                 pautoinf = pautoinf),\n",
    "                 maxit0 = 20,\n",
    "                 maxit1 = 20,\n",
    "                 tol = 1e-3,\n",
    "                 memory_decay = 1e-5,\n",
    "                 window_length = 21,\n",
    "                 tau=0\n",
    ")\n",
    "\"\"\"\n",
    "\n",
    "rankers[\"winbp21_uninf\"] = winbp_prob0_rank.WinBPProb0Ranker(\n",
    "                 params = sib.Params(\n",
    "                                 prob_i = sib.Uniform(1.0), \n",
    "                                prob_r = sib.Exponential(0.1), \n",
    "                                 pseed = pseed,\n",
    "                                 psus = psus,\n",
    "                                 fp_rate = fp_rate,\n",
    "                                 fn_rate = fn_rate,\n",
    "                                 pautoinf = pautoinf),\n",
    "                 maxit0 = 20,\n",
    "                 maxit1 = 20,\n",
    "                 tol = 1e-3,\n",
    "                 memory_decay = 1e-5,\n",
    "                 window_length = 21,\n",
    "                 tau=0\n",
    ")\n",
    "\n"
   ]
  },
  {
   "cell_type": "code",
   "execution_count": null,
   "metadata": {},
   "outputs": [],
   "source": [
    "rankers"
   ]
  },
  {
   "cell_type": "code",
   "execution_count": null,
   "metadata": {
    "scrolled": true
   },
   "outputs": [
    {
     "name": "stdout",
     "output_type": "stream",
     "text": [
      "200 1\n",
      "Starting with guys:  {'expo': [10569, 8248], 'iasy': [4355, 12084], 'ipre': [12801, 14142]}\n",
      "t: 24.00 | 1200.00 hrs (50 d)"
     ]
    },
    {
     "name": "stderr",
     "output_type": "stream",
     "text": [
      "iteration.dotd: INFO     time:0\n",
      "numexpr.utils: INFO     Note: detected 72 virtual cores but NumExpr set to maximum of 64, check \"NUMEXPR_MAX_THREADS\" environment variable.\n",
      "numexpr.utils: INFO     Note: NumExpr detected 72 cores but \"NUMEXPR_MAX_THREADS\" not set, so enforcing safe limit of 8.\n",
      "numexpr.utils: INFO     NumExpr defaulting to 8 threads.\n",
      "iteration.dotd: INFO     number of unique contacts: 91364\n"
     ]
    },
    {
     "name": "stdout",
     "output_type": "stream",
     "text": [
      "\n",
      "[Reached max time: 24h (1d)]\n"
     ]
    },
    {
     "name": "stderr",
     "output_type": "stream",
     "text": [
      "iteration.dotd: INFO     True  : (S,I,R): (14188.0, 6.0, 0.0)\n",
      "iteration.dotd: INFO     AUR_I : 0.328, prec100: 0, prec(1% of 14195): 0.00, prec5%: 0.00\n",
      "iteration.dotd: INFO     sym: 0, results test algo (S,I,R): (0,0,0), infected test random: 0/0\n",
      "iteration.dotd: INFO     ...quarantining 0 guys -> got 0 infected, 6 free as birds (+6)\n"
     ]
    },
    {
     "name": "stdout",
     "output_type": "stream",
     "text": [
      "t: 48.00 | 1200.00 hrs (50 d)"
     ]
    },
    {
     "name": "stderr",
     "output_type": "stream",
     "text": [
      "iteration.dotd: INFO     time:1\n",
      "iteration.dotd: INFO     number of unique contacts: 102202\n"
     ]
    },
    {
     "name": "stdout",
     "output_type": "stream",
     "text": [
      "\n",
      "[Reached max time: 48h (2d)]\n"
     ]
    },
    {
     "name": "stderr",
     "output_type": "stream",
     "text": [
      "iteration.dotd: INFO     True  : (S,I,R): (14184.0, 10.0, 0.0)\n",
      "iteration.dotd: INFO     AUR_I : 0.374, prec100: 0, prec(1% of 14195): 0.00, prec5%: 0.00\n",
      "iteration.dotd: INFO     sym: 0, results test algo (S,I,R): (0,0,0), infected test random: 0/0\n",
      "iteration.dotd: INFO     ...quarantining 0 guys -> got 0 infected, 10 free as birds (+4)\n"
     ]
    },
    {
     "name": "stdout",
     "output_type": "stream",
     "text": [
      "t: 72.00 | 1200.00 hrs (50 d)"
     ]
    },
    {
     "name": "stderr",
     "output_type": "stream",
     "text": [
      "iteration.dotd: INFO     time:2\n",
      "iteration.dotd: INFO     number of unique contacts: 96912\n"
     ]
    },
    {
     "name": "stdout",
     "output_type": "stream",
     "text": [
      "\n",
      "[Reached max time: 72h (3d)]\n"
     ]
    },
    {
     "name": "stderr",
     "output_type": "stream",
     "text": [
      "iteration.dotd: INFO     True  : (S,I,R): (14181.0, 13.0, 0.0)\n",
      "iteration.dotd: INFO     AUR_I : 0.475, prec100: 1, prec(1% of 14195): 0.01, prec5%: 0.00\n",
      "iteration.dotd: INFO     sym: 0, results test algo (S,I,R): (0,0,0), infected test random: 0/0\n",
      "iteration.dotd: INFO     ...quarantining 0 guys -> got 0 infected, 13 free as birds (+3)\n"
     ]
    },
    {
     "name": "stdout",
     "output_type": "stream",
     "text": [
      "t: 96.00 | 1200.00 hrs (50 d)"
     ]
    },
    {
     "name": "stderr",
     "output_type": "stream",
     "text": [
      "iteration.dotd: INFO     time:3\n",
      "iteration.dotd: INFO     number of unique contacts: 100654\n"
     ]
    },
    {
     "name": "stdout",
     "output_type": "stream",
     "text": [
      "\n",
      "[Reached max time: 96h (4d)]\n"
     ]
    },
    {
     "name": "stderr",
     "output_type": "stream",
     "text": [
      "iteration.dotd: INFO     True  : (S,I,R): (14181.0, 13.0, 0.0)\n",
      "iteration.dotd: INFO     AUR_I : 0.442, prec100: 0, prec(1% of 14195): 0.00, prec5%: 0.00\n",
      "iteration.dotd: INFO     sym: 0, results test algo (S,I,R): (0,0,0), infected test random: 0/0\n",
      "iteration.dotd: INFO     ...quarantining 0 guys -> got 0 infected, 13 free as birds (+0)\n"
     ]
    },
    {
     "name": "stdout",
     "output_type": "stream",
     "text": [
      "t: 120.00 | 1200.00 hrs (50 d)"
     ]
    },
    {
     "name": "stderr",
     "output_type": "stream",
     "text": [
      "iteration.dotd: INFO     time:4\n",
      "iteration.dotd: INFO     number of unique contacts: 100872\n"
     ]
    },
    {
     "name": "stdout",
     "output_type": "stream",
     "text": [
      "\n",
      "[Reached max time: 120h (5d)]\n"
     ]
    },
    {
     "name": "stderr",
     "output_type": "stream",
     "text": [
      "iteration.dotd: INFO     True  : (S,I,R): (14163.0, 31.0, 0.0)\n",
      "iteration.dotd: INFO     AUR_I : 0.582, prec100: 1, prec(1% of 14195): 0.01, prec5%: 0.01\n",
      "iteration.dotd: INFO     sym: 0, results test algo (S,I,R): (0,0,0), infected test random: 0/0\n",
      "iteration.dotd: INFO     ...quarantining 0 guys -> got 0 infected, 31 free as birds (+18)\n"
     ]
    },
    {
     "name": "stdout",
     "output_type": "stream",
     "text": [
      "t: 144.00 | 1200.00 hrs (50 d)"
     ]
    },
    {
     "name": "stderr",
     "output_type": "stream",
     "text": [
      "iteration.dotd: INFO     \n",
      "observation-based inference algorithm starts now\n",
      "\n",
      "iteration.dotd: INFO     time:5\n"
     ]
    },
    {
     "name": "stdout",
     "output_type": "stream",
     "text": [
      "\n",
      "[Reached max time: 144h (6d)]\n"
     ]
    },
    {
     "name": "stderr",
     "output_type": "stream",
     "text": [
      "iteration.dotd: INFO     number of unique contacts: 100852\n",
      "iteration.dotd: INFO     True  : (S,I,R): (14068.0, 126.0, 0.0)\n",
      "iteration.dotd: INFO     AUR_I : 0.447, prec100: 0, prec(1% of 14190): 0.00, prec5%: 0.01\n",
      "iteration.dotd: INFO     sym: 0, results test algo (S,I,R): (198,2,0), infected test random: 0/0\n",
      "iteration.dotd: INFO     ...quarantining 5 guys -> got 3 infected, 123 free as birds (+92)\n"
     ]
    },
    {
     "name": "stdout",
     "output_type": "stream",
     "text": [
      "t: 168.00 | 1200.00 hrs (50 d)\n",
      "[Reached max time: 168h (7d)]\n"
     ]
    },
    {
     "name": "stderr",
     "output_type": "stream",
     "text": [
      "iteration.dotd: INFO     time:6\n",
      "iteration.dotd: INFO     number of unique contacts: 99784\n",
      "iteration.dotd: INFO     True  : (S,I,R): (13942.0, 252.0, 0.0)\n",
      "iteration.dotd: INFO     AUR_I : 0.467, prec100: 0, prec(1% of 14173): 0.00, prec5%: 0.01\n",
      "iteration.dotd: INFO     sym: 0, results test algo (S,I,R): (195,5,0), infected test random: 0/0\n",
      "iteration.dotd: INFO     ...quarantining 17 guys -> got 12 infected, 235 free as birds (+112)\n"
     ]
    },
    {
     "name": "stdout",
     "output_type": "stream",
     "text": [
      "t: 192.00 | 1200.00 hrs (50 d)\n",
      "[Reached max time: 192h (8d)]\n"
     ]
    },
    {
     "name": "stderr",
     "output_type": "stream",
     "text": [
      "iteration.dotd: INFO     time:7\n",
      "iteration.dotd: INFO     number of unique contacts: 104198\n",
      "iteration.dotd: INFO     True  : (S,I,R): (13665.0, 529.0, 0.0)\n",
      "iteration.dotd: INFO     AUR_I : 0.495, prec100: 0, prec(1% of 14142): 0.00, prec5%: 0.02\n",
      "iteration.dotd: INFO     sym: 4, results test algo (S,I,R): (192,8,0), infected test random: 0/0\n",
      "iteration.dotd: INFO     ...quarantining 43 guys -> got 30 infected, 482 free as birds (+247)\n"
     ]
    },
    {
     "name": "stdout",
     "output_type": "stream",
     "text": [
      "t: 216.00 | 1200.00 hrs (50 d)"
     ]
    },
    {
     "name": "stderr",
     "output_type": "stream",
     "text": [
      "iteration.dotd: INFO     time:8\n"
     ]
    },
    {
     "name": "stdout",
     "output_type": "stream",
     "text": [
      "\n",
      "[Reached max time: 216h (9d)]\n"
     ]
    },
    {
     "name": "stderr",
     "output_type": "stream",
     "text": [
      "iteration.dotd: INFO     number of unique contacts: 98526\n",
      "iteration.dotd: INFO     True  : (S,I,R): (13241.0, 953.0, 0.0)\n",
      "iteration.dotd: INFO     AUR_I : 0.496, prec100: 0, prec(1% of 14098): 0.00, prec5%: 0.05\n",
      "iteration.dotd: INFO     sym: 9, results test algo (S,I,R): (190,10,0), infected test random: 0/0\n",
      "iteration.dotd: INFO     ...quarantining 63 guys -> got 56 infected, 850 free as birds (+368)\n"
     ]
    },
    {
     "name": "stdout",
     "output_type": "stream",
     "text": [
      "t: 240.00 | 1200.00 hrs (50 d)"
     ]
    },
    {
     "name": "stderr",
     "output_type": "stream",
     "text": [
      "iteration.dotd: INFO     time:9\n"
     ]
    },
    {
     "name": "stdout",
     "output_type": "stream",
     "text": [
      "\n",
      "[Reached max time: 240h (10d)]\n"
     ]
    },
    {
     "name": "stderr",
     "output_type": "stream",
     "text": [
      "iteration.dotd: INFO     number of unique contacts: 103640\n",
      "iteration.dotd: INFO     True  : (S,I,R): (12622.0, 1572.0, 0.0)\n",
      "iteration.dotd: INFO     AUR_I : 0.497, prec100: 0, prec(1% of 13997): 0.00, prec5%: 0.07\n",
      "iteration.dotd: INFO     sym: 20, results test algo (S,I,R): (177,23,0), infected test random: 0/0\n",
      "iteration.dotd: INFO     ...quarantining 137 guys -> got 121 infected, 1340 free as birds (+490)\n"
     ]
    },
    {
     "name": "stdout",
     "output_type": "stream",
     "text": [
      "t: 264.00 | 1200.00 hrs (50 d)\n",
      "[Reached max time: 264h (11d)]\n"
     ]
    },
    {
     "name": "stderr",
     "output_type": "stream",
     "text": [
      "iteration.dotd: INFO     time:10\n",
      "iteration.dotd: INFO     number of unique contacts: 94564\n",
      "iteration.dotd: INFO     True  : (S,I,R): (11763.0, 2431.0, 0.0)\n",
      "iteration.dotd: INFO     AUR_I : 0.502, prec100: 0, prec(1% of 13848): 0.00, prec5%: 0.09\n",
      "iteration.dotd: INFO     sym: 38, results test algo (S,I,R): (174,26,0), infected test random: 0/0\n",
      "iteration.dotd: INFO     ...quarantining 196 guys -> got 178 infected, 2007 free as birds (+667)\n"
     ]
    },
    {
     "name": "stdout",
     "output_type": "stream",
     "text": [
      "t: 288.00 | 1200.00 hrs (50 d)\n",
      "[Reached max time: 288h (12d)]\n"
     ]
    },
    {
     "name": "stderr",
     "output_type": "stream",
     "text": [
      "iteration.dotd: INFO     time:11\n",
      "iteration.dotd: INFO     number of unique contacts: 103994\n",
      "iteration.dotd: INFO     True  : (S,I,R): (10631.0, 3563.0, 0.0)\n",
      "iteration.dotd: INFO     AUR_I : 0.488, prec100: 0, prec(1% of 13605): 0.00, prec5%: 0.15\n",
      "iteration.dotd: INFO     sym: 64, results test algo (S,I,R): (158,42,0), infected test random: 0/0\n",
      "iteration.dotd: INFO     ...quarantining 310 guys -> got 297 infected, 2828 free as birds (+821)\n"
     ]
    },
    {
     "name": "stdout",
     "output_type": "stream",
     "text": [
      "t: 305.03 | 1200.00 hrs (50 d)"
     ]
    },
    {
     "name": "stderr",
     "output_type": "stream",
     "text": [
      "IOPub message rate exceeded.\n",
      "The notebook server will temporarily stop sending output\n",
      "to the client in order to avoid crashing it.\n",
      "To change this limit, set the config variable\n",
      "`--NotebookApp.iopub_msg_rate_limit`.\n",
      "\n",
      "Current values:\n",
      "NotebookApp.iopub_msg_rate_limit=1000.0 (msgs/sec)\n",
      "NotebookApp.rate_limit_window=3.0 (secs)\n",
      "\n"
     ]
    },
    {
     "name": "stdout",
     "output_type": "stream",
     "text": [
      "t: 312.00 | 1200.00 hrs (50 d)\n",
      "[Reached max time: 312h (13d)]\n"
     ]
    },
    {
     "name": "stderr",
     "output_type": "stream",
     "text": [
      "iteration.dotd: INFO     time:12\n",
      "iteration.dotd: INFO     number of unique contacts: 100434\n"
     ]
    }
   ],
   "source": [
    "ress = {}\n",
    "for num_test_algo in [200]: #number of test per day by ranking\n",
    "    for seed in [1]:\n",
    "        print(num_test_algo, seed)\n",
    "        for s in list(rankers.keys()):\n",
    "            data = {\"algo\":s}\n",
    "            if s== \"no_intervention\":\n",
    "                    res_s = loop_mtpp.free_mtpp(mob,\n",
    "                    country  = country,\n",
    "                    beta = beta,\n",
    "                    T = T,\n",
    "                    seed=seed,\n",
    "                    logger = logging.getLogger(f\"iteration.{s}\"),\n",
    "                    data = data,\n",
    "                    initial_counts = n_seeds,\n",
    "                    name_file_res = s + f\"_N_{N}_T_{T}_obs_{num_test_algo}_sym_obs_{fraction_sym_obs}_seed_{seed}\",\n",
    "                    output_dir = output_dir,\n",
    "                     )\n",
    "            else:\n",
    "                    res_s = loop_mtpp.loop_mtpp(mob,\n",
    "                    contacts_df,\n",
    "                    rankers[s],\n",
    "                    country  = country,\n",
    "                    T = T,\n",
    "                    seed=seed,\n",
    "                    logger = logging.getLogger(f\"iteration.{s}\"),\n",
    "                    data = data,\n",
    "                    initial_steps = initial_steps, \n",
    "                    num_test_random = num_test_random,\n",
    "                    num_test_algo = num_test_algo,\n",
    "                    fraction_sym_obs = fraction_sym_obs,\n",
    "                    initial_counts = n_seeds,\n",
    "                    beta = beta,\n",
    "                    test_HH = test_HH,\n",
    "                    quarantine_HH = quarantine_HH,\n",
    "                    name_file_res = s + f\"_N_{N}_T_{T}_obs_{num_test_algo}_sym_obs_{fraction_sym_obs}_seed_{seed}\",\n",
    "                    output_dir = output_dir,\n",
    "                    save_every_iter = 1,\n",
    "                    adoption_fraction = adoption_fraction\n",
    "                 )\n",
    "            ress[s] = res_s    \n",
    "        del res_s\n"
   ]
  },
  {
   "cell_type": "code",
   "execution_count": null,
   "metadata": {},
   "outputs": [],
   "source": [
    "import matplotlib.pyplot as plt\n",
    "fig,axs = plt.subplots(1,4,figsize = (25,5))\n",
    "to_plot = ['I','infected_free','num_quarantined', \"q_algo\"]\n",
    "for s in ress.keys():    \n",
    "    for il,l in enumerate(to_plot):\n",
    "        if s != \"no_intervention\":\n",
    "            axs[il].plot(range(T),ress[s][l],label = s)\n",
    "            if l!= \"aurI\":\n",
    "                axs[il].set_yscale (\"log\") \n",
    "                axs[il].vlines(initial_steps,ymin = 1,ymax = 10**4,linestyle = \"--\",alpha = 0.5, color = \"black\")\n",
    "            else:\n",
    "                axs[il].vlines(initial_steps,ymin = 0,ymax = 1,linestyle = \"--\",alpha = 0.5, color = \"black\")\n",
    "            \n",
    "            axs[il].set_title(l,fontsize = 12)\n",
    "    axs[0].legend(loc = 'upper left')\n",
    "    \n",
    "#fig.suptitle(f\"num test algo {num_test_algo} - adoption_fraction {adoption_fraction}\")\n",
    "fig.show()\n"
   ]
  },
  {
   "cell_type": "code",
   "execution_count": null,
   "metadata": {},
   "outputs": [],
   "source": []
  },
  {
   "cell_type": "code",
   "execution_count": null,
   "metadata": {},
   "outputs": [],
   "source": []
  }
 ],
 "metadata": {
  "kernelspec": {
   "display_name": "Python 3",
   "language": "python",
   "name": "python3"
  },
  "language_info": {
   "codemirror_mode": {
    "name": "ipython",
    "version": 3
   },
   "file_extension": ".py",
   "mimetype": "text/x-python",
   "name": "python",
   "nbconvert_exporter": "python",
   "pygments_lexer": "ipython3",
   "version": "3.7.9"
  }
 },
 "nbformat": 4,
 "nbformat_minor": 4
}
