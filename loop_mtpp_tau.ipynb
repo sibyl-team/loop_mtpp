{
 "cells": [
  {
   "cell_type": "code",
   "execution_count": null,
   "metadata": {},
   "outputs": [],
   "source": [
    "### To install sib as a python package look at the sib documentation \n",
    "\n",
    "import sys\n",
    "#sys.path.insert(0,'./src/')\n",
    "#simulator_path = \"../covid_de/sim/\" ##change simulatio path here \n",
    "sys.path.insert(0,'src/')\n",
    "simulator_path = \"../simulator/sim/\" ##change simulatio path here \n",
    "sys.path.insert(0, '../simulator/sim/lib/') # we need distributions.py\n",
    "sys.path.insert(0,simulator_path)\n",
    "sys.path.insert(0, \"../epidemic_mitigation/src/\") # correct rankers\n",
    "\n",
    "from pathlib import Path\n",
    "import numpy as np, pandas as pd, matplotlib.pyplot as plt\n",
    "import json, log, logging, loop_mtpp\n",
    "from importlib import reload\n",
    "import imp\n",
    "from math import exp\n",
    "import pickle\n",
    "#sys.path.insert(0,'./src/loop_ranker')\n",
    "from lib.mobilitysim import MobilitySimulator\n",
    "import loop_mtpp\n",
    "from mtpp_utils import contacts_cg\n",
    "from distributions import CovidDistributions\n",
    "\n",
    "\n",
    "\n",
    "#logging\n",
    "data_path = '../simulator/sim/lib/mobility/'\n",
    "\n",
    "output_dir = \"output_Tubingen_pop1_site1/\"\n",
    "fold_out = Path(output_dir)\n",
    "if not fold_out.exists():\n",
    "    fold_out.mkdir(parents=True)\n",
    "\n",
    "reload(log)\n",
    "logger = log.setup_logger()"
   ]
  },
  {
   "cell_type": "markdown",
   "metadata": {},
   "source": [
    "### Mobility simulation"
   ]
  },
  {
   "cell_type": "code",
   "execution_count": null,
   "metadata": {
    "scrolled": true
   },
   "outputs": [],
   "source": [
    "beta = 0.05  # from paper\n",
    "country = 'GER'\n",
    "distr = CovidDistributions(country)\n",
    "# with open(data_path + 'Isle_of_Wight_settings_pop10_site5.pk', 'rb') as fp:\n",
    "with open(data_path + 'Tubingen_settings_pop1_site1.pk', 'rb') as fp:\n",
    "    mob_kwargs = pickle.load(fp)\n",
    "\n",
    "mob_kwargs[\"delta\"] = 0.2554120904376099\n",
    "T = 15\n",
    "seed_mob = 2\n",
    "t_unit = 24\n",
    "t_res = 0.25  # drop contacts with a duration < t_res (in hours)\n",
    "max_time = T * t_unit\n",
    "mob = MobilitySimulator(**mob_kwargs)\n",
    "mob.verbose = True\n",
    "out = mob.simulate(max_time=max_time, seed=seed_mob)\n",
    "N = mob.num_people\n",
    "# print(N)\n"
   ]
  },
  {
   "cell_type": "markdown",
   "metadata": {},
   "source": [
    "## Set testing and quarantine rules"
   ]
  },
  {
   "cell_type": "code",
   "execution_count": null,
   "metadata": {},
   "outputs": [],
   "source": [
    "# n_indiv=np.ceil(mob_kwargs['num_people_unscaled']/mob_kwargs['downsample_pop'])\n",
    "n_seeds = {'expo': 3, 'iasy': 4, 'ipre': 5}  # select initial infected seeds\n",
    "num_test_random = 0  # number of random tests per day\n",
    "fraction_sym_obs = 0.5  # fraction of Symptomatic tested positive\n",
    "initial_steps = 14  # starting time of intervention\n",
    "delta_days = 1  # intervention every delta_days days\n",
    "test_HH = False\n",
    "quarantine_HH = True\n",
    "adoption_fraction = 1.0\n",
    "probability_th = 0.0\n",
    "adapt_th = False\n",
    "\n"
   ]
  },
  {
   "cell_type": "markdown",
   "metadata": {},
   "source": [
    "## Set the inference algorithm class"
   ]
  },
  {
   "cell_type": "code",
   "execution_count": null,
   "metadata": {},
   "outputs": [],
   "source": [
    "import matplotlib.pyplot as plt\n",
    "import sib\n",
    "import scipy\n",
    "\n",
    "from rankers import sib_rank, greedy_rank, mean_field_rank\n",
    "from tqdm.notebook import tqdm\n",
    "from scipy.stats import gamma\n",
    "sib.set_num_threads(6)\n",
    "\n",
    "\n",
    "mu = 1/12\n",
    "prob_seed = 1/N\n",
    "prob_sus = 0.5\n",
    "pseed = prob_seed / (2 - prob_seed)\n",
    "psus = prob_sus * (1 - pseed)\n",
    "pautoinf = 1e-6\n",
    "fp_rate = 0.0\n",
    "fn_rate = 0.285\n",
    "\n",
    "rankers = {}\n",
    "\n",
    "\n",
    "rankers[\"MF\"] = mean_field_rank.MeanFieldRanker(\n",
    "                tau = 5,\n",
    "                delta = 10,\n",
    "                mu = mu,\n",
    "                lamb = 1.0\n",
    "                )\n",
    "                \n",
    "rankers[\"greedy\"] = greedy_rank.GreedyRanker(\n",
    "                 include_S = True,\n",
    "                tau=10)\n",
    "\n",
    "rankers[\"no_intervention\"] = None\n",
    "\n",
    "k_rec_gamma = 62.484380808876004\n",
    "scale_rec_gamma = 0.2992112296058585\n",
    "t0 = distr.incubation_mean_of_lognormal - \\\n",
    "    distr.median_infectious_without_symptom\n",
    "alpha = 2.0\n",
    "tau = 0\n",
    "\n",
    "prob_i = sib.PiecewiseLinear(sib.RealParams(\n",
    "    list(scipy.special.expit(alpha*(range(T+1) - t0*np.ones(T+1))))))\n",
    "prob_r = sib.PiecewiseLinear(sib.RealParams(\n",
    "    list(scipy.stats.gamma.sf(range(T+1), k_rec_gamma, scale=scale_rec_gamma))))\n",
    "\n",
    "rankers[\"sib\"] = sib_rank.SibRanker(\n",
    "    params=sib.Params(\n",
    "        prob_i=prob_i,\n",
    "        prob_r=prob_r,\n",
    "        pseed=pseed,\n",
    "        psus=psus,\n",
    "        pautoinf=pautoinf),\n",
    "    maxit0=20,\n",
    "    maxit1=20,\n",
    "    tol=1e-3,\n",
    "    memory_decay=1e-5,\n",
    "    window_length=21,\n",
    "    tau=tau,\n",
    "    fnr=fn_rate,\n",
    "    fpr=fp_rate\n",
    "\n",
    ")\n",
    "\n",
    "\n"
   ]
  },
  {
   "cell_type": "code",
   "execution_count": null,
   "metadata": {
    "scrolled": true
   },
   "outputs": [],
   "source": [
    "ress = {}\n",
    "for num_test_algo in [300]: #number of test per day by ranking\n",
    "    for seed in [0]:\n",
    "        print(num_test_algo, seed)\n",
    "        for s in list(rankers.keys()):\n",
    "            data = {\"algo\":s}\n",
    "            if s== \"no_intervention\":\n",
    "                    res_s = loop_mtpp.free_mtpp(mob,\n",
    "                    country  = country,\n",
    "                    beta = beta,\n",
    "                    T = T,\n",
    "                    seed=seed,\n",
    "                    logger = logging.getLogger(f\"iteration.{s}\"),\n",
    "                    data = data,\n",
    "                    initial_counts = n_seeds,\n",
    "                    name_file_res = s + f\"_N_{N}_T_{T}_obs_{num_test_algo}_sym_obs_{fraction_sym_obs}_seed_{seed}\",\n",
    "                    output_dir = output_dir,\n",
    "                     )\n",
    "            else:\n",
    "                    res_s = loop_mtpp.loop_mtpp(mob,\n",
    "                    rankers[s],\n",
    "                    country  = country,\n",
    "                    T = T,\n",
    "                    seed=seed,\n",
    "                    logger = logging.getLogger(f\"iteration.{s}\"),\n",
    "                    data = data,\n",
    "                    initial_steps = initial_steps, \n",
    "                    num_test_random = num_test_random,\n",
    "                    num_test_algo = num_test_algo,\n",
    "                    fraction_sym_obs = fraction_sym_obs,\n",
    "                    initial_counts = n_seeds,\n",
    "                    beta = beta,\n",
    "                    test_HH = test_HH,\n",
    "                    quarantine_HH = quarantine_HH,\n",
    "                    name_file_res = s + f\"_N_{N}_T_{T}_obs_{num_test_algo}_sym_obs_{fraction_sym_obs}_seed_{seed}\",\n",
    "                    output_dir = output_dir,\n",
    "                    save_every_iter = 1,\n",
    "                    adoption_fraction = adoption_fraction,\n",
    "                    probability_th = probability_th,\n",
    "                    adapt_th = adapt_th,\n",
    "                    fp_rate = fp_rate,\n",
    "                    fn_rate = fn_rate\n",
    "                 )\n",
    "            ress[s] = res_s    \n",
    "        del res_s\n"
   ]
  },
  {
   "cell_type": "code",
   "execution_count": null,
   "metadata": {},
   "outputs": [],
   "source": [
    "import matplotlib.pyplot as plt\n",
    "fig, axs = plt.subplots(1, 5, figsize=(25, 5))\n",
    "to_plot = ['I', 'infected_free', 'num_quarantined', \"q_algo\", \"n_test_algo\"]\n",
    "for s in ress.keys():\n",
    "    for il, l in enumerate(to_plot):\n",
    "        if s != \"no_intervention\":\n",
    "            axs[il].plot(range(T), ress[s][l], label=s)\n",
    "            if l != \"aurI\":\n",
    "                axs[il].set_yscale(\"log\")\n",
    "                axs[il].vlines(initial_steps, ymin=1, ymax=10**4,\n",
    "                               linestyle=\"--\", alpha=0.5, color=\"black\")\n",
    "            else:\n",
    "                axs[il].vlines(initial_steps, ymin=0, ymax=1,\n",
    "                               linestyle=\"--\", alpha=0.5, color=\"black\")\n",
    "\n",
    "            axs[il].set_title(l, fontsize=12)\n",
    "    axs[0].legend(loc='upper left')\n",
    "\n",
    "#fig.suptitle(f\"num test algo {num_test_algo} - adoption_fraction {adoption_fraction}\")\n",
    "fig.show()\n"
   ]
  },
  {
   "cell_type": "code",
   "execution_count": null,
   "metadata": {},
   "outputs": [],
   "source": [
    "import pandas as pd\n",
    "\n",
    "filename = f\"sib_N_{N}_T_{T}_obs_{num_test_algo}_sym_obs_{fraction_sym_obs}_seed_{seed}_states.pkl\"\n",
    "\n",
    "object = pd.read_pickle(output_dir + filename)\n",
    "object['transmissions']"
   ]
  },
  {
   "cell_type": "code",
   "execution_count": null,
   "metadata": {},
   "outputs": [],
   "source": [
    "x, y = object[\"ROC\"][12]\n"
   ]
  },
  {
   "cell_type": "code",
   "execution_count": null,
   "metadata": {},
   "outputs": [],
   "source": [
    "plt.plot(x,y)"
   ]
  }
 ],
 "metadata": {
  "interpreter": {
   "hash": "d4d1e4263499bec80672ea0156c357c1ee493ec2b1c70f0acce89fc37c4a6abe"
  },
  "kernelspec": {
   "display_name": "Python 3",
   "language": "python",
   "name": "python3"
  },
  "language_info": {
   "codemirror_mode": {
    "name": "ipython",
    "version": 3
   },
   "file_extension": ".py",
   "mimetype": "text/x-python",
   "name": "python",
   "nbconvert_exporter": "python",
   "pygments_lexer": "ipython3",
   "version": "3.7.9"
  }
 },
 "nbformat": 4,
 "nbformat_minor": 4
}
