{
 "cells": [
  {
   "cell_type": "code",
   "execution_count": 1,
   "metadata": {},
   "outputs": [
    {
     "name": "stdout",
     "output_type": "stream",
     "text": [
      "Log setup complete\n"
     ]
    }
   ],
   "source": [
    "### To install sib as a python package look at the sib documentation \n",
    "\n",
    "import sys\n",
    "#sys.path.insert(0,'./src/')\n",
    "#simulator_path = \"../covid_de/sim/\" ##change simulatio path here \n",
    "sys.path.insert(0,'src/')\n",
    "simulator_path = \"../simulator/sim/\" ##change simulatio path here \n",
    "sys.path.insert(0, '../simulator/sim/lib/') # we need distributions.py\n",
    "sys.path.insert(0,simulator_path)\n",
    "sys.path.insert(0, \"../epidemic_mitigation/src/\") # correct rankers\n",
    "\n",
    "from pathlib import Path\n",
    "import numpy as np, pandas as pd, matplotlib.pyplot as plt\n",
    "import json, log, logging, loop_mtpp\n",
    "from importlib import reload\n",
    "import imp\n",
    "from math import exp\n",
    "import pickle\n",
    "#sys.path.insert(0,'./src/loop_ranker')\n",
    "from lib.mobilitysim import MobilitySimulator\n",
    "import loop_mtpp\n",
    "from mtpp_utils import contacts_cg\n",
    "from distributions import CovidDistributions\n",
    "\n",
    "#logging\n",
    "data_path = '../simulator/sim/lib/mobility/'\n",
    "\n",
    "output_dir = \"output_Tubingen_pop1_site1/\"\n",
    "fold_out = Path(output_dir)\n",
    "if not fold_out.exists():\n",
    "    fold_out.mkdir(parents=True)\n",
    "\n",
    "reload(log)\n",
    "logger = log.setup_logger()"
   ]
  },
  {
   "cell_type": "markdown",
   "metadata": {},
   "source": [
    "### Mobility simulation"
   ]
  },
  {
   "cell_type": "code",
   "execution_count": 2,
   "metadata": {
    "scrolled": true
   },
   "outputs": [
    {
     "name": "stdout",
     "output_type": "stream",
     "text": [
      "Simulate mobility for 744.00 time units... "
     ]
    }
   ],
   "source": [
    "beta = 0.05  # from paper\n",
    "country = 'GER'\n",
    "distr = CovidDistributions(country)\n",
    "# with open(data_path + 'Isle_of_Wight_settings_pop10_site5.pk', 'rb') as fp:\n",
    "with open(data_path + 'Tubingen_settings_pop1_site1.pk', 'rb') as fp:\n",
    "    mob_kwargs = pickle.load(fp)\n",
    "\n",
    "mob_kwargs[\"delta\"] = 0.2554120904376099\n",
    "T = 31\n",
    "seed_mob = 1\n",
    "t_unit = 24\n",
    "t_res = 0.25  # drop contacts with a duration < t_res (in hours)\n",
    "max_time = T * t_unit\n",
    "mob = MobilitySimulator(**mob_kwargs)\n",
    "mob.verbose = True\n",
    "out = mob.simulate(max_time=max_time, seed=seed_mob)\n",
    "N = mob.num_people\n",
    "# print(N)\n"
   ]
  },
  {
   "cell_type": "markdown",
   "metadata": {},
   "source": [
    "## Set testing and quarantine rules"
   ]
  },
  {
   "cell_type": "code",
   "execution_count": 3,
   "metadata": {},
   "outputs": [],
   "source": [
    "# n_indiv=np.ceil(mob_kwargs['num_people_unscaled']/mob_kwargs['downsample_pop'])\n",
    "n_seeds = {'expo': 3, 'iasy': 4, 'ipre': 5}  # select initial infected seeds\n",
    "num_test_random = 50  # number of random tests per day\n",
    "fraction_sym_obs = 0.5  # fraction of Symptomatic tested positive\n",
    "initial_steps = 30  # starting time of intervention\n",
    "delta_days = 1  # intervention every delta_days days\n",
    "test_HH = False\n",
    "quarantine_HH = False\n",
    "adoption_fraction = 1.0\n",
    "probability_th = 0.0\n",
    "adapt_th = False\n",
    "\n"
   ]
  },
  {
   "cell_type": "markdown",
   "metadata": {},
   "source": [
    "## Set the inference algorithm class"
   ]
  },
  {
   "cell_type": "code",
   "execution_count": 4,
   "metadata": {},
   "outputs": [],
   "source": [
    "import matplotlib.pyplot as plt\n",
    "import sib\n",
    "import scipy\n",
    "\n",
    "from rankers import sib_rank, greedy_rank, mean_field_rank\n",
    "from tqdm.notebook import tqdm\n",
    "from scipy.stats import gamma\n",
    "sib.set_num_threads(6)\n",
    "\n",
    "\n",
    "mu = 1/12\n",
    "prob_seed = 1/N\n",
    "prob_sus = 0.5\n",
    "pseed = prob_seed / (2 - prob_seed)\n",
    "psus = prob_sus * (1 - pseed)\n",
    "pautoinf = 1e-6\n",
    "fp_rate = 0.0\n",
    "fn_rate = 0.0\n",
    "\n",
    "rankers = {}\n",
    "\n",
    "\n",
    "rankers[\"MF\"] = mean_field_rank.MeanFieldRanker(\n",
    "                tau = 5,\n",
    "                delta = 10,\n",
    "                mu = mu,\n",
    "                lamb = 1.0\n",
    "                )\n",
    "                \n",
    "rankers[\"greedy\"] = greedy_rank.GreedyRanker(\n",
    "                 include_S = True,\n",
    "                tau=10)\n",
    "\n",
    "rankers[\"no_intervention\"] = None\n",
    "\n",
    "k_rec_gamma = 62.484380808876004\n",
    "scale_rec_gamma = 0.2992112296058585\n",
    "t0 = distr.incubation_mean_of_lognormal - \\\n",
    "    distr.median_infectious_without_symptom\n",
    "alpha = 2.0\n",
    "tau = 0\n",
    "\n",
    "prob_i = sib.PiecewiseLinear(sib.RealParams(\n",
    "    list(scipy.special.expit(alpha*(range(T+1) - t0*np.ones(T+1))))))\n",
    "prob_r = sib.PiecewiseLinear(sib.RealParams(\n",
    "    list(scipy.stats.gamma.sf(range(T+1), k_rec_gamma, scale=scale_rec_gamma))))\n",
    "\n",
    "rankers[\"sib\"] = sib_rank.SibRanker(\n",
    "    params=sib.Params(\n",
    "        prob_i=prob_i,\n",
    "        prob_r=prob_r,\n",
    "        pseed=pseed,\n",
    "        psus=psus,\n",
    "        pautoinf=pautoinf),\n",
    "    maxit0=20,\n",
    "    maxit1=20,\n",
    "    tol=1e-3,\n",
    "    memory_decay=1e-5,\n",
    "    window_length=21,\n",
    "    tau=tau,\n",
    "    fnr=fn_rate,\n",
    "    fpr=fp_rate\n",
    "\n",
    ")\n"
   ]
  },
  {
   "cell_type": "code",
   "execution_count": 5,
   "metadata": {
    "scrolled": true
   },
   "outputs": [
    {
     "name": "stdout",
     "output_type": "stream",
     "text": [
      "300 0\n",
      "Starting with guys:  {'expo': [53551, 44855, 21873], 'iasy': [70851, 41074, 26964, 45836], 'ipre': [54521, 37051, 56361, 58576, 18919]}\n",
      "t: 24.00 | 744.00 hrs (31 d)"
     ]
    },
    {
     "name": "stderr",
     "output_type": "stream",
     "text": [
      "iteration.MF: INFO     time:0\n"
     ]
    },
    {
     "name": "stdout",
     "output_type": "stream",
     "text": [
      "\n",
      "[Reached max time: 24h (1d)]\n",
      "All raw contacts 985818\n",
      "Contacts at midnight  35154\n",
      "Contacts collected by coarse-graining  19478\n",
      "Contacts in multiple days  0\n",
      "Coarse-grained contacts  1001494\n",
      "Missing contacts  0\n",
      "Asymmetric contacts  0\n"
     ]
    },
    {
     "name": "stderr",
     "output_type": "stream",
     "text": [
      "numexpr.utils: INFO     Note: detected 72 virtual cores but NumExpr set to maximum of 64, check \"NUMEXPR_MAX_THREADS\" environment variable.\n",
      "numexpr.utils: INFO     Note: NumExpr detected 72 cores but \"NUMEXPR_MAX_THREADS\" not set, so enforcing safe limit of 8.\n",
      "numexpr.utils: INFO     NumExpr defaulting to 8 threads.\n",
      "iteration.MF: INFO     adding contacts in the interval [0, 24]\n",
      "iteration.MF: INFO     number of unique contacts: 966340\n",
      "iteration.MF: INFO     number of tests today: 0\n",
      "iteration.MF: INFO     True  : (S,I,R): (90499.0, 40.0, 0.0)\n",
      "iteration.MF: INFO     AUC_I : 0.845\n",
      "iteration.MF: INFO     sym: 4, results test algo (S,I,R): (0,0,0), infected test random: 0/50\n",
      "iteration.MF: INFO     ...quarantining 2 guys -> got 2 infected, 22 free as birds (+0)\n"
     ]
    },
    {
     "name": "stdout",
     "output_type": "stream",
     "text": [
      "t: 312.00 | 744.00 hrs (31 d)"
     ]
    },
    {
     "name": "stderr",
     "output_type": "stream",
     "text": [
      "iteration.MF: INFO     time:12\n"
     ]
    },
    {
     "name": "stdout",
     "output_type": "stream",
     "text": [
      "\n",
      "[Reached max time: 312h (13d)]\n",
      "All raw contacts 1089798\n",
      "Contacts at midnight  70226\n",
      "Contacts collected by coarse-graining  23870\n",
      "Contacts in multiple days  0\n",
      "Coarse-grained contacts  1136154\n",
      "Missing contacts  0\n",
      "Asymmetric contacts  0\n"
     ]
    },
    {
     "name": "stderr",
     "output_type": "stream",
     "text": [
      "iteration.MF: INFO     adding contacts in the interval [288, 312]\n",
      "iteration.MF: INFO     number of unique contacts: 1065466\n",
      "iteration.MF: INFO     number of tests today: 0\n",
      "iteration.MF: INFO     True  : (S,I,R): (90498.0, 41.0, 0.0)\n",
      "iteration.MF: INFO     AUC_I : 0.809\n",
      "iteration.MF: INFO     sym: 2, results test algo (S,I,R): (0,0,0), infected test random: 0/50\n",
      "iteration.MF: INFO     ...quarantining 1 guys -> got 1 infected, 22 free as birds (+0)\n"
     ]
    },
    {
     "name": "stdout",
     "output_type": "stream",
     "text": [
      "t: 336.00 | 744.00 hrs (31 d)"
     ]
    },
    {
     "name": "stderr",
     "output_type": "stream",
     "text": [
      "iteration.MF: INFO     time:13\n"
     ]
    },
    {
     "name": "stdout",
     "output_type": "stream",
     "text": [
      "\n",
      "[Reached max time: 336h (14d)]\n",
      "All raw contacts 1087106\n",
      "Contacts at midnight  71346\n",
      "Contacts collected by coarse-graining  23246\n",
      "Contacts in multiple days  0\n",
      "Coarse-grained contacts  1135206\n",
      "Missing contacts  0\n",
      "Asymmetric contacts  0\n"
     ]
    },
    {
     "name": "stderr",
     "output_type": "stream",
     "text": [
      "iteration.MF: INFO     adding contacts in the interval [312, 336]\n",
      "iteration.MF: INFO     number of unique contacts: 1063344\n",
      "iteration.MF: INFO     number of tests today: 0\n",
      "iteration.MF: INFO     True  : (S,I,R): (90491.0, 46.0, 2.0)\n",
      "iteration.MF: INFO     AUC_I : 0.709\n",
      "iteration.MF: INFO     sym: 4, results test algo (S,I,R): (0,0,0), infected test random: 0/50\n",
      "iteration.MF: INFO     ...quarantining 2 guys -> got 2 infected, 26 free as birds (+4)\n"
     ]
    },
    {
     "name": "stdout",
     "output_type": "stream",
     "text": [
      "t: 360.00 | 744.00 hrs (31 d)"
     ]
    },
    {
     "name": "stderr",
     "output_type": "stream",
     "text": [
      "iteration.MF: INFO     time:14\n"
     ]
    },
    {
     "name": "stdout",
     "output_type": "stream",
     "text": [
      "\n",
      "[Reached max time: 360h (15d)]\n",
      "All raw contacts 1091444\n",
      "Contacts at midnight  70910\n",
      "Contacts collected by coarse-graining  22980\n",
      "Contacts in multiple days  0\n",
      "Coarse-grained contacts  1139374\n",
      "Missing contacts  0\n",
      "Asymmetric contacts  0\n"
     ]
    },
    {
     "name": "stderr",
     "output_type": "stream",
     "text": [
      "iteration.MF: INFO     adding contacts in the interval [336, 360]\n",
      "iteration.MF: INFO     number of unique contacts: 1067956\n",
      "iteration.MF: INFO     number of tests today: 0\n",
      "iteration.MF: INFO     True  : (S,I,R): (90487.0, 48.0, 4.0)\n",
      "iteration.MF: INFO     AUC_I : 0.743\n",
      "iteration.MF: INFO     sym: 2, results test algo (S,I,R): (0,0,0), infected test random: 0/50\n",
      "iteration.MF: INFO     ...quarantining 1 guys -> got 1 infected, 27 free as birds (+1)\n"
     ]
    },
    {
     "name": "stdout",
     "output_type": "stream",
     "text": [
      "t: 384.00 | 744.00 hrs (31 d)"
     ]
    },
    {
     "name": "stderr",
     "output_type": "stream",
     "text": [
      "iteration.MF: INFO     time:15\n"
     ]
    },
    {
     "name": "stdout",
     "output_type": "stream",
     "text": [
      "\n",
      "[Reached max time: 384h (16d)]\n",
      "All raw contacts 1087896\n",
      "Contacts at midnight  69584\n",
      "Contacts collected by coarse-graining  23510\n",
      "Contacts in multiple days  0\n",
      "Coarse-grained contacts  1133970\n",
      "Missing contacts  0\n",
      "Asymmetric contacts  0\n"
     ]
    },
    {
     "name": "stderr",
     "output_type": "stream",
     "text": [
      "iteration.MF: INFO     adding contacts in the interval [360, 384]\n",
      "iteration.MF: INFO     number of unique contacts: 1063936\n",
      "iteration.MF: INFO     number of tests today: 0\n",
      "iteration.MF: INFO     True  : (S,I,R): (90479.0, 52.0, 8.0)\n",
      "iteration.MF: INFO     AUC_I : 0.778\n",
      "iteration.MF: INFO     sym: 2, results test algo (S,I,R): (0,0,0), infected test random: 0/50\n",
      "iteration.MF: INFO     ...quarantining 1 guys -> got 1 infected, 33 free as birds (+6)\n"
     ]
    },
    {
     "name": "stdout",
     "output_type": "stream",
     "text": [
      "t: 408.00 | 744.00 hrs (31 d)"
     ]
    },
    {
     "name": "stderr",
     "output_type": "stream",
     "text": [
      "iteration.MF: INFO     time:16\n"
     ]
    },
    {
     "name": "stdout",
     "output_type": "stream",
     "text": [
      "\n",
      "[Reached max time: 408h (17d)]\n",
      "All raw contacts 1083048\n",
      "Contacts at midnight  70610\n",
      "Contacts collected by coarse-graining  22946\n",
      "Contacts in multiple days  0\n",
      "Coarse-grained contacts  1130712\n",
      "Missing contacts  0\n",
      "Asymmetric contacts  0\n"
     ]
    },
    {
     "name": "stderr",
     "output_type": "stream",
     "text": [
      "iteration.MF: INFO     adding contacts in the interval [384, 408]\n",
      "iteration.MF: INFO     number of unique contacts: 1059572\n",
      "iteration.MF: INFO     number of tests today: 0\n",
      "iteration.MF: INFO     True  : (S,I,R): (90472.0, 59.0, 8.0)\n",
      "iteration.MF: INFO     AUC_I : 0.728\n",
      "iteration.MF: INFO     sym: 4, results test algo (S,I,R): (0,0,0), infected test random: 0/50\n",
      "iteration.MF: INFO     ...quarantining 2 guys -> got 2 infected, 38 free as birds (+5)\n"
     ]
    },
    {
     "name": "stdout",
     "output_type": "stream",
     "text": [
      "t: 432.00 | 744.00 hrs (31 d)"
     ]
    },
    {
     "name": "stderr",
     "output_type": "stream",
     "text": [
      "iteration.MF: INFO     time:17\n"
     ]
    },
    {
     "name": "stdout",
     "output_type": "stream",
     "text": [
      "\n",
      "[Reached max time: 432h (18d)]\n",
      "All raw contacts 1093688\n",
      "Contacts at midnight  71670\n",
      "Contacts collected by coarse-graining  23126\n",
      "Contacts in multiple days  0\n",
      "Coarse-grained contacts  1142232\n",
      "Missing contacts  0\n",
      "Asymmetric contacts  0\n"
     ]
    },
    {
     "name": "stderr",
     "output_type": "stream",
     "text": [
      "iteration.MF: INFO     adding contacts in the interval [408, 432]\n",
      "iteration.MF: INFO     number of unique contacts: 1069862\n",
      "iteration.MF: INFO     number of tests today: 0\n",
      "iteration.MF: INFO     True  : (S,I,R): (90462.0, 67.0, 10.0)\n",
      "iteration.MF: INFO     AUC_I : 0.769\n",
      "iteration.MF: INFO     sym: 8, results test algo (S,I,R): (0,0,0), infected test random: 0/50\n",
      "iteration.MF: INFO     ...quarantining 4 guys -> got 4 infected, 44 free as birds (+6)\n"
     ]
    },
    {
     "name": "stdout",
     "output_type": "stream",
     "text": [
      "t: 456.00 | 744.00 hrs (31 d)"
     ]
    },
    {
     "name": "stderr",
     "output_type": "stream",
     "text": [
      "iteration.MF: INFO     time:18\n"
     ]
    },
    {
     "name": "stdout",
     "output_type": "stream",
     "text": [
      "\n",
      "[Reached max time: 456h (19d)]\n",
      "All raw contacts 1090282\n",
      "Contacts at midnight  69020\n",
      "Contacts collected by coarse-graining  23088\n",
      "Contacts in multiple days  0\n",
      "Coarse-grained contacts  1136214\n",
      "Missing contacts  0\n",
      "Asymmetric contacts  0\n"
     ]
    },
    {
     "name": "stderr",
     "output_type": "stream",
     "text": [
      "iteration.MF: INFO     adding contacts in the interval [432, 456]\n",
      "iteration.MF: INFO     number of unique contacts: 1066616\n",
      "iteration.MF: INFO     number of tests today: 0\n",
      "iteration.MF: INFO     True  : (S,I,R): (90456.0, 72.0, 11.0)\n",
      "iteration.MF: INFO     AUC_I : 0.742\n",
      "iteration.MF: INFO     sym: 8, results test algo (S,I,R): (0,0,0), infected test random: 0/50\n",
      "iteration.MF: INFO     ...quarantining 4 guys -> got 4 infected, 46 free as birds (+2)\n"
     ]
    },
    {
     "name": "stdout",
     "output_type": "stream",
     "text": [
      "t: 480.00 | 744.00 hrs (31 d)"
     ]
    },
    {
     "name": "stderr",
     "output_type": "stream",
     "text": [
      "iteration.MF: INFO     time:19\n"
     ]
    },
    {
     "name": "stdout",
     "output_type": "stream",
     "text": [
      "\n",
      "[Reached max time: 480h (20d)]\n",
      "All raw contacts 1073376\n",
      "Contacts at midnight  68092\n",
      "Contacts collected by coarse-graining  23496\n",
      "Contacts in multiple days  0\n",
      "Coarse-grained contacts  1117972\n",
      "Missing contacts  0\n",
      "Asymmetric contacts  0\n"
     ]
    },
    {
     "name": "stderr",
     "output_type": "stream",
     "text": [
      "iteration.MF: INFO     adding contacts in the interval [456, 480]\n",
      "iteration.MF: INFO     number of unique contacts: 1049168\n",
      "iteration.MF: INFO     number of tests today: 0\n",
      "iteration.MF: INFO     True  : (S,I,R): (90446.0, 80.0, 13.0)\n",
      "iteration.MF: INFO     AUC_I : 0.725\n",
      "iteration.MF: INFO     sym: 6, results test algo (S,I,R): (0,0,0), infected test random: 0/50\n",
      "iteration.MF: INFO     ...quarantining 3 guys -> got 3 infected, 52 free as birds (+6)\n"
     ]
    },
    {
     "name": "stdout",
     "output_type": "stream",
     "text": [
      "t: 504.00 | 744.00 hrs (31 d)"
     ]
    },
    {
     "name": "stderr",
     "output_type": "stream",
     "text": [
      "iteration.MF: INFO     time:20\n"
     ]
    },
    {
     "name": "stdout",
     "output_type": "stream",
     "text": [
      "\n",
      "[Reached max time: 504h (21d)]\n",
      "All raw contacts 1103074\n",
      "Contacts at midnight  69274\n",
      "Contacts collected by coarse-graining  23920\n",
      "Contacts in multiple days  0\n",
      "Coarse-grained contacts  1148428\n",
      "Missing contacts  0\n",
      "Asymmetric contacts  0\n"
     ]
    },
    {
     "name": "stderr",
     "output_type": "stream",
     "text": [
      "iteration.MF: INFO     adding contacts in the interval [480, 504]\n",
      "iteration.MF: INFO     number of unique contacts: 1078312\n",
      "iteration.MF: INFO     number of tests today: 0\n",
      "iteration.MF: INFO     True  : (S,I,R): (90431.0, 94.0, 14.0)\n",
      "iteration.MF: INFO     AUC_I : 0.731\n",
      "iteration.MF: INFO     sym: 6, results test algo (S,I,R): (0,0,0), infected test random: 0/50\n",
      "iteration.MF: INFO     ...quarantining 3 guys -> got 3 infected, 63 free as birds (+11)\n"
     ]
    },
    {
     "name": "stdout",
     "output_type": "stream",
     "text": [
      "t: 528.00 | 744.00 hrs (31 d)"
     ]
    },
    {
     "name": "stderr",
     "output_type": "stream",
     "text": [
      "iteration.MF: INFO     time:21\n"
     ]
    },
    {
     "name": "stdout",
     "output_type": "stream",
     "text": [
      "\n",
      "[Reached max time: 528h (22d)]\n",
      "All raw contacts 1079950\n",
      "Contacts at midnight  70672\n",
      "Contacts collected by coarse-graining  23502\n",
      "Contacts in multiple days  0\n",
      "Coarse-grained contacts  1127120\n",
      "Missing contacts  0\n",
      "Asymmetric contacts  0\n"
     ]
    },
    {
     "name": "stderr",
     "output_type": "stream",
     "text": [
      "iteration.MF: INFO     adding contacts in the interval [504, 528]\n",
      "iteration.MF: INFO     number of unique contacts: 1055536\n",
      "iteration.MF: INFO     number of tests today: 0\n",
      "iteration.MF: INFO     True  : (S,I,R): (90419.0, 105.0, 15.0)\n",
      "iteration.MF: INFO     AUC_I : 0.697\n",
      "iteration.MF: INFO     sym: 20, results test algo (S,I,R): (0,0,0), infected test random: 2/50\n",
      "iteration.MF: INFO     ...quarantining 11 guys -> got 11 infected, 64 free as birds (+1)\n"
     ]
    },
    {
     "name": "stdout",
     "output_type": "stream",
     "text": [
      "t: 552.00 | 744.00 hrs (31 d)\n",
      "[Reached max time: 552h (23d)]\n"
     ]
    },
    {
     "name": "stderr",
     "output_type": "stream",
     "text": [
      "iteration.MF: INFO     time:22\n"
     ]
    },
    {
     "name": "stdout",
     "output_type": "stream",
     "text": [
      "All raw contacts 1085386\n",
      "Contacts at midnight  72044\n",
      "Contacts collected by coarse-graining  23674\n",
      "Contacts in multiple days  0\n",
      "Coarse-grained contacts  1133756\n",
      "Missing contacts  0\n",
      "Asymmetric contacts  0\n"
     ]
    },
    {
     "name": "stderr",
     "output_type": "stream",
     "text": [
      "iteration.MF: INFO     adding contacts in the interval [528, 552]\n",
      "iteration.MF: INFO     number of unique contacts: 1060524\n",
      "iteration.MF: INFO     number of tests today: 0\n",
      "iteration.MF: INFO     True  : (S,I,R): (90398.0, 123.0, 18.0)\n",
      "iteration.MF: INFO     AUC_I : 0.698\n",
      "iteration.MF: INFO     sym: 16, results test algo (S,I,R): (0,0,0), infected test random: 0/50\n",
      "iteration.MF: INFO     ...quarantining 8 guys -> got 8 infected, 77 free as birds (+13)\n"
     ]
    },
    {
     "name": "stdout",
     "output_type": "stream",
     "text": [
      "t: 576.00 | 744.00 hrs (31 d)"
     ]
    },
    {
     "name": "stderr",
     "output_type": "stream",
     "text": [
      "iteration.MF: INFO     time:23\n"
     ]
    },
    {
     "name": "stdout",
     "output_type": "stream",
     "text": [
      "\n",
      "[Reached max time: 576h (24d)]\n",
      "All raw contacts 1105608\n",
      "Contacts at midnight  70926\n",
      "Contacts collected by coarse-graining  23962\n",
      "Contacts in multiple days  0\n",
      "Coarse-grained contacts  1152572\n",
      "Missing contacts  0\n",
      "Asymmetric contacts  0\n"
     ]
    },
    {
     "name": "stderr",
     "output_type": "stream",
     "text": [
      "iteration.MF: INFO     adding contacts in the interval [552, 576]\n",
      "iteration.MF: INFO     number of unique contacts: 1080230\n",
      "iteration.MF: INFO     number of tests today: 0\n",
      "iteration.MF: INFO     True  : (S,I,R): (90372.0, 148.0, 19.0)\n",
      "iteration.MF: INFO     AUC_I : 0.723\n",
      "iteration.MF: INFO     sym: 8, results test algo (S,I,R): (0,0,0), infected test random: 0/50\n",
      "iteration.MF: INFO     ...quarantining 4 guys -> got 4 infected, 98 free as birds (+21)\n"
     ]
    },
    {
     "name": "stdout",
     "output_type": "stream",
     "text": [
      "t: 600.00 | 744.00 hrs (31 d)"
     ]
    },
    {
     "name": "stderr",
     "output_type": "stream",
     "text": [
      "iteration.MF: INFO     time:24\n"
     ]
    },
    {
     "name": "stdout",
     "output_type": "stream",
     "text": [
      "\n",
      "[Reached max time: 600h (25d)]\n",
      "All raw contacts 1080322\n",
      "Contacts at midnight  68686\n",
      "Contacts collected by coarse-graining  22776\n",
      "Contacts in multiple days  0\n",
      "Coarse-grained contacts  1126232\n",
      "Missing contacts  0\n",
      "Asymmetric contacts  0\n"
     ]
    },
    {
     "name": "stderr",
     "output_type": "stream",
     "text": [
      "iteration.MF: INFO     adding contacts in the interval [576, 600]\n",
      "iteration.MF: INFO     number of unique contacts: 1056306\n",
      "iteration.MF: INFO     number of tests today: 0\n",
      "iteration.MF: INFO     True  : (S,I,R): (90356.0, 161.0, 22.0)\n",
      "iteration.MF: INFO     AUC_I : 0.726\n",
      "iteration.MF: INFO     sym: 12, results test algo (S,I,R): (0,0,0), infected test random: 0/50\n",
      "iteration.MF: INFO     ...quarantining 6 guys -> got 6 infected, 106 free as birds (+8)\n"
     ]
    },
    {
     "name": "stdout",
     "output_type": "stream",
     "text": [
      "t: 624.00 | 744.00 hrs (31 d)\n",
      "[Reached max time: 624h (26d)]\n"
     ]
    },
    {
     "name": "stderr",
     "output_type": "stream",
     "text": [
      "iteration.MF: INFO     time:25\n"
     ]
    },
    {
     "name": "stdout",
     "output_type": "stream",
     "text": [
      "All raw contacts 1082972\n",
      "Contacts at midnight  67958\n",
      "Contacts collected by coarse-graining  23566\n",
      "Contacts in multiple days  0\n",
      "Coarse-grained contacts  1127364\n",
      "Missing contacts  0\n",
      "Asymmetric contacts  0\n"
     ]
    },
    {
     "name": "stderr",
     "output_type": "stream",
     "text": [
      "iteration.MF: INFO     adding contacts in the interval [600, 624]\n",
      "iteration.MF: INFO     number of unique contacts: 1057462\n",
      "iteration.MF: INFO     number of tests today: 0\n",
      "iteration.MF: INFO     True  : (S,I,R): (90323.0, 189.0, 27.0)\n",
      "iteration.MF: INFO     AUC_I : 0.721\n",
      "iteration.MF: INFO     sym: 14, results test algo (S,I,R): (0,0,0), infected test random: 0/50\n",
      "iteration.MF: INFO     ...quarantining 7 guys -> got 7 infected, 131 free as birds (+25)\n"
     ]
    },
    {
     "name": "stdout",
     "output_type": "stream",
     "text": [
      "t: 648.00 | 744.00 hrs (31 d)\n",
      "[Reached max time: 648h (27d)]\n"
     ]
    },
    {
     "name": "stderr",
     "output_type": "stream",
     "text": [
      "iteration.MF: INFO     time:26\n"
     ]
    },
    {
     "name": "stdout",
     "output_type": "stream",
     "text": [
      "All raw contacts 1089110\n",
      "Contacts at midnight  70874\n",
      "Contacts collected by coarse-graining  23118\n",
      "Contacts in multiple days  0\n",
      "Coarse-grained contacts  1136866\n",
      "Missing contacts  0\n",
      "Asymmetric contacts  0\n"
     ]
    },
    {
     "name": "stderr",
     "output_type": "stream",
     "text": [
      "iteration.MF: INFO     adding contacts in the interval [624, 648]\n",
      "iteration.MF: INFO     number of unique contacts: 1064330\n",
      "iteration.MF: INFO     number of tests today: 0\n",
      "iteration.MF: INFO     True  : (S,I,R): (90271.0, 238.0, 30.0)\n",
      "iteration.MF: INFO     AUC_I : 0.715\n",
      "iteration.MF: INFO     sym: 22, results test algo (S,I,R): (0,0,0), infected test random: 2/50\n",
      "iteration.MF: INFO     ...quarantining 12 guys -> got 12 infected, 171 free as birds (+40)\n"
     ]
    },
    {
     "name": "stdout",
     "output_type": "stream",
     "text": [
      "t: 672.00 | 744.00 hrs (31 d)\n",
      "[Reached max time: 672h (28d)]\n"
     ]
    },
    {
     "name": "stderr",
     "output_type": "stream",
     "text": [
      "iteration.MF: INFO     time:27\n"
     ]
    },
    {
     "name": "stdout",
     "output_type": "stream",
     "text": [
      "All raw contacts 1093720\n",
      "Contacts at midnight  71098\n",
      "Contacts collected by coarse-graining  22750\n",
      "Contacts in multiple days  0\n",
      "Coarse-grained contacts  1142068\n",
      "Missing contacts  0\n",
      "Asymmetric contacts  0\n"
     ]
    },
    {
     "name": "stderr",
     "output_type": "stream",
     "text": [
      "iteration.MF: INFO     adding contacts in the interval [648, 672]\n",
      "iteration.MF: INFO     number of unique contacts: 1068644\n",
      "iteration.MF: INFO     number of tests today: 0\n",
      "iteration.MF: INFO     True  : (S,I,R): (90221.0, 288.0, 30.0)\n",
      "iteration.MF: INFO     AUC_I : 0.699\n",
      "iteration.MF: INFO     sym: 24, results test algo (S,I,R): (0,0,0), infected test random: 0/50\n",
      "iteration.MF: INFO     ...quarantining 12 guys -> got 12 infected, 209 free as birds (+38)\n"
     ]
    },
    {
     "name": "stdout",
     "output_type": "stream",
     "text": [
      "t: 696.00 | 744.00 hrs (31 d)\n",
      "[Reached max time: 696h (29d)]\n"
     ]
    },
    {
     "name": "stderr",
     "output_type": "stream",
     "text": [
      "iteration.MF: INFO     time:28\n"
     ]
    },
    {
     "name": "stdout",
     "output_type": "stream",
     "text": [
      "All raw contacts 1080514\n",
      "Contacts at midnight  69752\n",
      "Contacts collected by coarse-graining  23034\n",
      "Contacts in multiple days  0\n",
      "Coarse-grained contacts  1127232\n",
      "Missing contacts  0\n",
      "Asymmetric contacts  0\n"
     ]
    },
    {
     "name": "stderr",
     "output_type": "stream",
     "text": [
      "iteration.MF: INFO     adding contacts in the interval [672, 696]\n",
      "iteration.MF: INFO     number of unique contacts: 1055046\n",
      "iteration.MF: INFO     number of tests today: 0\n",
      "iteration.MF: INFO     True  : (S,I,R): (90167.0, 340.0, 32.0)\n",
      "iteration.MF: INFO     AUC_I : 0.720\n",
      "iteration.MF: INFO     sym: 26, results test algo (S,I,R): (0,0,0), infected test random: 0/50\n",
      "iteration.MF: INFO     ...quarantining 13 guys -> got 13 infected, 250 free as birds (+41)\n"
     ]
    },
    {
     "name": "stdout",
     "output_type": "stream",
     "text": [
      "t: 720.00 | 744.00 hrs (31 d)\n",
      "[Reached max time: 720h (30d)]\n"
     ]
    },
    {
     "name": "stderr",
     "output_type": "stream",
     "text": [
      "iteration.MF: INFO     time:29\n"
     ]
    },
    {
     "name": "stdout",
     "output_type": "stream",
     "text": [
      "All raw contacts 1078186\n",
      "Contacts at midnight  69954\n",
      "Contacts collected by coarse-graining  22864\n",
      "Contacts in multiple days  0\n",
      "Coarse-grained contacts  1125276\n",
      "Missing contacts  0\n",
      "Asymmetric contacts  0\n"
     ]
    },
    {
     "name": "stderr",
     "output_type": "stream",
     "text": [
      "iteration.MF: INFO     adding contacts in the interval [696, 720]\n",
      "iteration.MF: INFO     number of unique contacts: 1053218\n",
      "iteration.MF: INFO     number of tests today: 0\n",
      "iteration.MF: INFO     True  : (S,I,R): (90105.0, 401.0, 33.0)\n",
      "iteration.MF: INFO     AUC_I : 0.715\n",
      "iteration.MF: INFO     sym: 30, results test algo (S,I,R): (0,0,0), infected test random: 0/50\n",
      "iteration.MF: INFO     ...quarantining 15 guys -> got 15 infected, 296 free as birds (+46)\n"
     ]
    },
    {
     "name": "stdout",
     "output_type": "stream",
     "text": [
      "t: 743.77 | 744.00 hrs (31 d)"
     ]
    },
    {
     "name": "stderr",
     "output_type": "stream",
     "text": [
      "iteration.MF: INFO     \n",
      "observation-based inference algorithm starts now\n",
      "\n",
      "iteration.MF: INFO     time:30\n"
     ]
    },
    {
     "name": "stdout",
     "output_type": "stream",
     "text": [
      "All raw contacts 974550\n",
      "Contacts at midnight  34758\n",
      "Contacts collected by coarse-graining  19354\n",
      "Contacts in multiple days  0\n",
      "Coarse-grained contacts  989954\n",
      "Missing contacts  0\n",
      "Asymmetric contacts  0\n"
     ]
    },
    {
     "name": "stderr",
     "output_type": "stream",
     "text": [
      "iteration.MF: INFO     adding contacts in the interval [720, 744]\n",
      "iteration.MF: INFO     number of unique contacts: 952324\n",
      "iteration.MF: INFO     number of tests today: 300\n",
      "iteration.MF: INFO     True  : (S,I,R): (90008.0, 495.0, 36.0)\n",
      "iteration.MF: INFO     AUC_I : 0.706\n",
      "iteration.MF: INFO     sym: 40, results test algo (S,I,R): (237,62,1), infected test random: 0/50\n",
      "iteration.MF: INFO     ...quarantining 51 guys -> got 51 infected, 340 free as birds (+44)\n"
     ]
    },
    {
     "name": "stdout",
     "output_type": "stream",
     "text": [
      "Time  1273.8104615211487\n",
      "Starting with guys:  {'expo': [53551, 44855, 21873], 'iasy': [70851, 41074, 26964, 45836], 'ipre': [54521, 37051, 56361, 58576, 18919]}\n",
      "t: 24.00 | 744.00 hrs (31 d)"
     ]
    },
    {
     "name": "stderr",
     "output_type": "stream",
     "text": [
      "iteration.greedy: INFO     time:0\n"
     ]
    },
    {
     "name": "stdout",
     "output_type": "stream",
     "text": [
      "\n",
      "[Reached max time: 24h (1d)]\n",
      "All raw contacts 985818\n",
      "Contacts at midnight  35154\n",
      "Contacts collected by coarse-graining  19478\n",
      "Contacts in multiple days  0\n",
      "Coarse-grained contacts  1001494\n",
      "Missing contacts  0\n",
      "Asymmetric contacts  0\n"
     ]
    },
    {
     "name": "stderr",
     "output_type": "stream",
     "text": [
      "iteration.greedy: INFO     adding contacts in the interval [0, 24]\n",
      "iteration.greedy: INFO     number of unique contacts: 966340\n"
     ]
    },
    {
     "name": "stdout",
     "output_type": "stream",
     "text": [
      "all contacts: 966340\n",
      "all contacts cut: 0\n"
     ]
    },
    {
     "name": "stderr",
     "output_type": "stream",
     "text": [
      "iteration.greedy: INFO     number of tests today: 0\n",
      "iteration.greedy: INFO     True  : (S,I,R): (90527.0, 12.0, 0.0)\n",
      "iteration.greedy: INFO     AUC_I : 0.545\n",
      "iteration.greedy: INFO     sym: 0, results test algo (S,I,R): (0,0,0), infected test random: 0/50\n",
      "iteration.greedy: INFO     ...quarantining 0 guys -> got 0 infected, 12 free as birds (+12)\n"
     ]
    },
    {
     "name": "stdout",
     "output_type": "stream",
     "text": [
      "t: 48.00 | 744.00 hrs (31 d)"
     ]
    },
    {
     "name": "stderr",
     "output_type": "stream",
     "text": [
      "iteration.greedy: INFO     time:1\n"
     ]
    },
    {
     "name": "stdout",
     "output_type": "stream",
     "text": [
      "\n",
      "[Reached max time: 48h (2d)]\n",
      "All raw contacts 1084120\n",
      "Contacts at midnight  69598\n",
      "Contacts collected by coarse-graining  23122\n",
      "Contacts in multiple days  0\n",
      "Coarse-grained contacts  1130596\n",
      "Missing contacts  0\n",
      "Asymmetric contacts  0\n"
     ]
    },
    {
     "name": "stderr",
     "output_type": "stream",
     "text": [
      "iteration.greedy: INFO     adding contacts in the interval [24, 48]\n",
      "iteration.greedy: INFO     number of unique contacts: 1060998\n"
     ]
    },
    {
     "name": "stdout",
     "output_type": "stream",
     "text": [
      "all contacts: 2027338\n",
      "all contacts cut: 0\n"
     ]
    },
    {
     "name": "stderr",
     "output_type": "stream",
     "text": [
      "iteration.greedy: INFO     number of tests today: 0\n",
      "iteration.greedy: INFO     True  : (S,I,R): (90527.0, 12.0, 0.0)\n",
      "iteration.greedy: INFO     AUC_I : 0.482\n",
      "iteration.greedy: INFO     sym: 6, results test algo (S,I,R): (0,0,0), infected test random: 0/50\n",
      "iteration.greedy: INFO     ...quarantining 3 guys -> got 3 infected, 9 free as birds (-3)\n"
     ]
    },
    {
     "name": "stdout",
     "output_type": "stream",
     "text": [
      "t: 72.00 | 744.00 hrs (31 d)"
     ]
    },
    {
     "name": "stderr",
     "output_type": "stream",
     "text": [
      "iteration.greedy: INFO     time:2\n"
     ]
    },
    {
     "name": "stdout",
     "output_type": "stream",
     "text": [
      "\n",
      "[Reached max time: 72h (3d)]\n",
      "All raw contacts 1083894\n",
      "Contacts at midnight  70600\n",
      "Contacts collected by coarse-graining  24132\n",
      "Contacts in multiple days  0\n",
      "Coarse-grained contacts  1130362\n",
      "Missing contacts  0\n",
      "Asymmetric contacts  0\n"
     ]
    },
    {
     "name": "stderr",
     "output_type": "stream",
     "text": [
      "iteration.greedy: INFO     adding contacts in the interval [48, 72]\n",
      "iteration.greedy: INFO     number of unique contacts: 1059726\n"
     ]
    },
    {
     "name": "stdout",
     "output_type": "stream",
     "text": [
      "all contacts: 3087064\n",
      "all contacts cut: 94\n"
     ]
    },
    {
     "name": "stderr",
     "output_type": "stream",
     "text": [
      "iteration.greedy: INFO     number of tests today: 0\n",
      "iteration.greedy: INFO     True  : (S,I,R): (90526.0, 13.0, 0.0)\n",
      "iteration.greedy: INFO     AUC_I : 0.598\n",
      "iteration.greedy: INFO     sym: 2, results test algo (S,I,R): (0,0,0), infected test random: 0/50\n",
      "iteration.greedy: INFO     ...quarantining 1 guys -> got 1 infected, 9 free as birds (+0)\n"
     ]
    },
    {
     "name": "stdout",
     "output_type": "stream",
     "text": [
      "t: 96.00 | 744.00 hrs (31 d)"
     ]
    },
    {
     "name": "stderr",
     "output_type": "stream",
     "text": [
      "iteration.greedy: INFO     time:3\n"
     ]
    },
    {
     "name": "stdout",
     "output_type": "stream",
     "text": [
      "\n",
      "[Reached max time: 96h (4d)]\n",
      "All raw contacts 1086298\n",
      "Contacts at midnight  71596\n",
      "Contacts collected by coarse-graining  23290\n",
      "Contacts in multiple days  0\n",
      "Coarse-grained contacts  1134604\n",
      "Missing contacts  0\n",
      "Asymmetric contacts  0\n"
     ]
    },
    {
     "name": "stderr",
     "output_type": "stream",
     "text": [
      "iteration.greedy: INFO     adding contacts in the interval [72, 96]\n",
      "iteration.greedy: INFO     number of unique contacts: 1062732\n"
     ]
    },
    {
     "name": "stdout",
     "output_type": "stream",
     "text": [
      "all contacts: 4149796\n",
      "all contacts cut: 94\n"
     ]
    },
    {
     "name": "stderr",
     "output_type": "stream",
     "text": [
      "iteration.greedy: INFO     number of tests today: 0\n",
      "iteration.greedy: INFO     True  : (S,I,R): (90522.0, 17.0, 0.0)\n",
      "iteration.greedy: INFO     AUC_I : 0.626\n",
      "iteration.greedy: INFO     sym: 4, results test algo (S,I,R): (0,0,0), infected test random: 0/50\n",
      "iteration.greedy: INFO     ...quarantining 2 guys -> got 2 infected, 11 free as birds (+2)\n"
     ]
    },
    {
     "name": "stdout",
     "output_type": "stream",
     "text": [
      "t: 120.00 | 744.00 hrs (31 d)"
     ]
    },
    {
     "name": "stderr",
     "output_type": "stream",
     "text": [
      "iteration.greedy: INFO     time:4\n"
     ]
    },
    {
     "name": "stdout",
     "output_type": "stream",
     "text": [
      "\n",
      "[Reached max time: 120h (5d)]\n",
      "All raw contacts 1092416\n",
      "Contacts at midnight  71214\n",
      "Contacts collected by coarse-graining  24198\n",
      "Contacts in multiple days  0\n",
      "Coarse-grained contacts  1139432\n",
      "Missing contacts  0\n",
      "Asymmetric contacts  0\n"
     ]
    },
    {
     "name": "stderr",
     "output_type": "stream",
     "text": [
      "iteration.greedy: INFO     adding contacts in the interval [96, 120]\n",
      "iteration.greedy: INFO     number of unique contacts: 1068092\n"
     ]
    },
    {
     "name": "stdout",
     "output_type": "stream",
     "text": [
      "all contacts: 5217888\n",
      "all contacts cut: 199\n"
     ]
    },
    {
     "name": "stderr",
     "output_type": "stream",
     "text": [
      "iteration.greedy: INFO     number of tests today: 0\n",
      "iteration.greedy: INFO     True  : (S,I,R): (90518.0, 21.0, 0.0)\n",
      "iteration.greedy: INFO     AUC_I : 0.646\n",
      "iteration.greedy: INFO     sym: 0, results test algo (S,I,R): (0,0,0), infected test random: 0/50\n",
      "iteration.greedy: INFO     ...quarantining 0 guys -> got 0 infected, 15 free as birds (+4)\n"
     ]
    },
    {
     "name": "stdout",
     "output_type": "stream",
     "text": [
      "t: 144.00 | 744.00 hrs (31 d)"
     ]
    },
    {
     "name": "stderr",
     "output_type": "stream",
     "text": [
      "iteration.greedy: INFO     time:5\n"
     ]
    },
    {
     "name": "stdout",
     "output_type": "stream",
     "text": [
      "\n",
      "[Reached max time: 144h (6d)]\n",
      "All raw contacts 1097502\n",
      "Contacts at midnight  70820\n",
      "Contacts collected by coarse-graining  24114\n",
      "Contacts in multiple days  0\n",
      "Coarse-grained contacts  1144208\n",
      "Missing contacts  0\n",
      "Asymmetric contacts  0\n"
     ]
    },
    {
     "name": "stderr",
     "output_type": "stream",
     "text": [
      "iteration.greedy: INFO     adding contacts in the interval [120, 144]\n",
      "iteration.greedy: INFO     number of unique contacts: 1073208\n"
     ]
    },
    {
     "name": "stdout",
     "output_type": "stream",
     "text": [
      "all contacts: 6291096\n",
      "all contacts cut: 199\n"
     ]
    },
    {
     "name": "stderr",
     "output_type": "stream",
     "text": [
      "iteration.greedy: INFO     number of tests today: 0\n",
      "iteration.greedy: INFO     True  : (S,I,R): (90518.0, 21.0, 0.0)\n",
      "iteration.greedy: INFO     AUC_I : 0.644\n",
      "iteration.greedy: INFO     sym: 4, results test algo (S,I,R): (0,0,0), infected test random: 0/50\n",
      "iteration.greedy: INFO     ...quarantining 2 guys -> got 2 infected, 13 free as birds (-2)\n"
     ]
    },
    {
     "name": "stdout",
     "output_type": "stream",
     "text": [
      "t: 168.00 | 744.00 hrs (31 d)"
     ]
    },
    {
     "name": "stderr",
     "output_type": "stream",
     "text": [
      "iteration.greedy: INFO     time:6\n"
     ]
    },
    {
     "name": "stdout",
     "output_type": "stream",
     "text": [
      "\n",
      "[Reached max time: 168h (7d)]\n",
      "All raw contacts 1079764\n",
      "Contacts at midnight  68586\n",
      "Contacts collected by coarse-graining  23266\n",
      "Contacts in multiple days  0\n",
      "Coarse-grained contacts  1125084\n",
      "Missing contacts  0\n",
      "Asymmetric contacts  0\n"
     ]
    },
    {
     "name": "stderr",
     "output_type": "stream",
     "text": [
      "iteration.greedy: INFO     adding contacts in the interval [144, 168]\n",
      "iteration.greedy: INFO     number of unique contacts: 1056262\n"
     ]
    },
    {
     "name": "stdout",
     "output_type": "stream",
     "text": [
      "all contacts: 7347358\n",
      "all contacts cut: 362\n"
     ]
    },
    {
     "name": "stderr",
     "output_type": "stream",
     "text": [
      "iteration.greedy: INFO     number of tests today: 0\n",
      "iteration.greedy: INFO     True  : (S,I,R): (90515.0, 24.0, 0.0)\n",
      "iteration.greedy: INFO     AUC_I : 0.708\n",
      "iteration.greedy: INFO     sym: 0, results test algo (S,I,R): (0,0,0), infected test random: 0/50\n",
      "iteration.greedy: INFO     ...quarantining 0 guys -> got 0 infected, 16 free as birds (+3)\n"
     ]
    },
    {
     "name": "stdout",
     "output_type": "stream",
     "text": [
      "t: 192.00 | 744.00 hrs (31 d)"
     ]
    },
    {
     "name": "stderr",
     "output_type": "stream",
     "text": [
      "iteration.greedy: INFO     time:7\n"
     ]
    },
    {
     "name": "stdout",
     "output_type": "stream",
     "text": [
      "\n",
      "[Reached max time: 192h (8d)]\n",
      "All raw contacts 1083640\n",
      "Contacts at midnight  69724\n",
      "Contacts collected by coarse-graining  23978\n",
      "Contacts in multiple days  0\n",
      "Coarse-grained contacts  1129386\n",
      "Missing contacts  0\n",
      "Asymmetric contacts  0\n"
     ]
    },
    {
     "name": "stderr",
     "output_type": "stream",
     "text": [
      "iteration.greedy: INFO     adding contacts in the interval [168, 192]\n",
      "iteration.greedy: INFO     number of unique contacts: 1059500\n"
     ]
    },
    {
     "name": "stdout",
     "output_type": "stream",
     "text": [
      "all contacts: 8406858\n",
      "all contacts cut: 362\n"
     ]
    },
    {
     "name": "stderr",
     "output_type": "stream",
     "text": [
      "iteration.greedy: INFO     number of tests today: 0\n",
      "iteration.greedy: INFO     True  : (S,I,R): (90513.0, 26.0, 0.0)\n",
      "iteration.greedy: INFO     AUC_I : 0.692\n",
      "iteration.greedy: INFO     sym: 4, results test algo (S,I,R): (0,0,0), infected test random: 0/50\n",
      "iteration.greedy: INFO     ...quarantining 2 guys -> got 2 infected, 16 free as birds (+0)\n"
     ]
    },
    {
     "name": "stdout",
     "output_type": "stream",
     "text": [
      "t: 216.00 | 744.00 hrs (31 d)"
     ]
    },
    {
     "name": "stderr",
     "output_type": "stream",
     "text": [
      "iteration.greedy: INFO     time:8\n"
     ]
    },
    {
     "name": "stdout",
     "output_type": "stream",
     "text": [
      "\n",
      "[Reached max time: 216h (9d)]\n",
      "All raw contacts 1086070\n",
      "Contacts at midnight  72856\n",
      "Contacts collected by coarse-graining  23112\n",
      "Contacts in multiple days  0\n",
      "Coarse-grained contacts  1135814\n",
      "Missing contacts  0\n",
      "Asymmetric contacts  0\n"
     ]
    },
    {
     "name": "stderr",
     "output_type": "stream",
     "text": [
      "iteration.greedy: INFO     adding contacts in the interval [192, 216]\n",
      "iteration.greedy: INFO     number of unique contacts: 1062622\n"
     ]
    },
    {
     "name": "stdout",
     "output_type": "stream",
     "text": [
      "all contacts: 9469480\n",
      "all contacts cut: 579\n"
     ]
    },
    {
     "name": "stderr",
     "output_type": "stream",
     "text": [
      "iteration.greedy: INFO     number of tests today: 0\n",
      "iteration.greedy: INFO     True  : (S,I,R): (90509.0, 30.0, 0.0)\n",
      "iteration.greedy: INFO     AUC_I : 0.698\n",
      "iteration.greedy: INFO     sym: 4, results test algo (S,I,R): (0,0,0), infected test random: 0/50\n",
      "iteration.greedy: INFO     ...quarantining 2 guys -> got 2 infected, 18 free as birds (+2)\n"
     ]
    },
    {
     "name": "stdout",
     "output_type": "stream",
     "text": [
      "t: 240.00 | 744.00 hrs (31 d)"
     ]
    },
    {
     "name": "stderr",
     "output_type": "stream",
     "text": [
      "iteration.greedy: INFO     time:9\n"
     ]
    },
    {
     "name": "stdout",
     "output_type": "stream",
     "text": [
      "\n",
      "[Reached max time: 240h (10d)]\n",
      "All raw contacts 1090482\n",
      "Contacts at midnight  71106\n",
      "Contacts collected by coarse-graining  22786\n",
      "Contacts in multiple days  0\n",
      "Coarse-grained contacts  1138802\n",
      "Missing contacts  0\n",
      "Asymmetric contacts  0\n"
     ]
    },
    {
     "name": "stderr",
     "output_type": "stream",
     "text": [
      "iteration.greedy: INFO     adding contacts in the interval [216, 240]\n",
      "iteration.greedy: INFO     number of unique contacts: 1067386\n"
     ]
    },
    {
     "name": "stdout",
     "output_type": "stream",
     "text": [
      "all contacts: 10536866\n",
      "all contacts cut: 866\n"
     ]
    },
    {
     "name": "stderr",
     "output_type": "stream",
     "text": [
      "iteration.greedy: INFO     number of tests today: 0\n",
      "iteration.greedy: INFO     True  : (S,I,R): (90505.0, 34.0, 0.0)\n",
      "iteration.greedy: INFO     AUC_I : 0.792\n",
      "iteration.greedy: INFO     sym: 0, results test algo (S,I,R): (0,0,0), infected test random: 0/50\n",
      "iteration.greedy: INFO     ...quarantining 0 guys -> got 0 infected, 22 free as birds (+4)\n"
     ]
    },
    {
     "name": "stdout",
     "output_type": "stream",
     "text": [
      "t: 264.00 | 744.00 hrs (31 d)"
     ]
    },
    {
     "name": "stderr",
     "output_type": "stream",
     "text": [
      "iteration.greedy: INFO     time:10\n"
     ]
    },
    {
     "name": "stdout",
     "output_type": "stream",
     "text": [
      "\n",
      "[Reached max time: 264h (11d)]\n",
      "All raw contacts 1095362\n",
      "Contacts at midnight  72024\n",
      "Contacts collected by coarse-graining  23986\n",
      "Contacts in multiple days  0\n",
      "Coarse-grained contacts  1143400\n",
      "Missing contacts  0\n",
      "Asymmetric contacts  0\n"
     ]
    },
    {
     "name": "stderr",
     "output_type": "stream",
     "text": [
      "iteration.greedy: INFO     adding contacts in the interval [240, 264]\n",
      "iteration.greedy: INFO     number of unique contacts: 1071036\n"
     ]
    },
    {
     "name": "stdout",
     "output_type": "stream",
     "text": [
      "all contacts: 11607902\n",
      "all contacts cut: 866\n"
     ]
    },
    {
     "name": "stderr",
     "output_type": "stream",
     "text": [
      "iteration.greedy: INFO     number of tests today: 0\n",
      "iteration.greedy: INFO     True  : (S,I,R): (90501.0, 38.0, 0.0)\n",
      "iteration.greedy: INFO     AUC_I : 0.761\n",
      "iteration.greedy: INFO     sym: 8, results test algo (S,I,R): (0,0,0), infected test random: 0/50\n",
      "iteration.greedy: INFO     ...quarantining 4 guys -> got 4 infected, 22 free as birds (+0)\n"
     ]
    },
    {
     "name": "stdout",
     "output_type": "stream",
     "text": [
      "t: 288.00 | 744.00 hrs (31 d)"
     ]
    },
    {
     "name": "stderr",
     "output_type": "stream",
     "text": [
      "iteration.greedy: INFO     time:11\n"
     ]
    },
    {
     "name": "stdout",
     "output_type": "stream",
     "text": [
      "\n",
      "[Reached max time: 288h (12d)]\n",
      "All raw contacts 1083252\n",
      "Contacts at midnight  72444\n",
      "Contacts collected by coarse-graining  22830\n",
      "Contacts in multiple days  0\n",
      "Coarse-grained contacts  1132866\n",
      "Missing contacts  0\n",
      "Asymmetric contacts  0\n"
     ]
    },
    {
     "name": "stderr",
     "output_type": "stream",
     "text": [
      "iteration.greedy: INFO     adding contacts in the interval [264, 288]\n",
      "iteration.greedy: INFO     number of unique contacts: 1060112\n"
     ]
    },
    {
     "name": "stdout",
     "output_type": "stream",
     "text": [
      "all contacts: 1060112\n",
      "all contacts cut: 0\n"
     ]
    },
    {
     "name": "stderr",
     "output_type": "stream",
     "text": [
      "iteration.greedy: INFO     number of tests today: 0\n",
      "iteration.greedy: INFO     True  : (S,I,R): (90499.0, 40.0, 0.0)\n",
      "iteration.greedy: INFO     AUC_I : 0.691\n",
      "iteration.greedy: INFO     sym: 4, results test algo (S,I,R): (0,0,0), infected test random: 0/50\n",
      "iteration.greedy: INFO     ...quarantining 2 guys -> got 2 infected, 22 free as birds (+0)\n"
     ]
    },
    {
     "name": "stdout",
     "output_type": "stream",
     "text": [
      "t: 312.00 | 744.00 hrs (31 d)"
     ]
    },
    {
     "name": "stderr",
     "output_type": "stream",
     "text": [
      "iteration.greedy: INFO     time:12\n"
     ]
    },
    {
     "name": "stdout",
     "output_type": "stream",
     "text": [
      "\n",
      "[Reached max time: 312h (13d)]\n",
      "All raw contacts 1089798\n",
      "Contacts at midnight  70226\n",
      "Contacts collected by coarse-graining  23870\n",
      "Contacts in multiple days  0\n",
      "Coarse-grained contacts  1136154\n",
      "Missing contacts  0\n",
      "Asymmetric contacts  0\n"
     ]
    },
    {
     "name": "stderr",
     "output_type": "stream",
     "text": [
      "iteration.greedy: INFO     adding contacts in the interval [288, 312]\n",
      "iteration.greedy: INFO     number of unique contacts: 1065466\n"
     ]
    },
    {
     "name": "stdout",
     "output_type": "stream",
     "text": [
      "all contacts: 2125578\n",
      "all contacts cut: 27\n"
     ]
    },
    {
     "name": "stderr",
     "output_type": "stream",
     "text": [
      "iteration.greedy: INFO     number of tests today: 0\n",
      "iteration.greedy: INFO     True  : (S,I,R): (90498.0, 41.0, 0.0)\n",
      "iteration.greedy: INFO     AUC_I : 0.727\n",
      "iteration.greedy: INFO     sym: 2, results test algo (S,I,R): (0,0,0), infected test random: 0/50\n",
      "iteration.greedy: INFO     ...quarantining 1 guys -> got 1 infected, 22 free as birds (+0)\n"
     ]
    },
    {
     "name": "stdout",
     "output_type": "stream",
     "text": [
      "t: 336.00 | 744.00 hrs (31 d)"
     ]
    },
    {
     "name": "stderr",
     "output_type": "stream",
     "text": [
      "iteration.greedy: INFO     time:13\n"
     ]
    },
    {
     "name": "stdout",
     "output_type": "stream",
     "text": [
      "\n",
      "[Reached max time: 336h (14d)]\n",
      "All raw contacts 1087106\n",
      "Contacts at midnight  71346\n",
      "Contacts collected by coarse-graining  23246\n",
      "Contacts in multiple days  0\n",
      "Coarse-grained contacts  1135206\n",
      "Missing contacts  0\n",
      "Asymmetric contacts  0\n"
     ]
    },
    {
     "name": "stderr",
     "output_type": "stream",
     "text": [
      "iteration.greedy: INFO     adding contacts in the interval [312, 336]\n",
      "iteration.greedy: INFO     number of unique contacts: 1063344\n"
     ]
    },
    {
     "name": "stdout",
     "output_type": "stream",
     "text": [
      "all contacts: 3188922\n",
      "all contacts cut: 27\n"
     ]
    },
    {
     "name": "stderr",
     "output_type": "stream",
     "text": [
      "iteration.greedy: INFO     number of tests today: 0\n",
      "iteration.greedy: INFO     True  : (S,I,R): (90491.0, 46.0, 2.0)\n",
      "iteration.greedy: INFO     AUC_I : 0.710\n",
      "iteration.greedy: INFO     sym: 4, results test algo (S,I,R): (0,0,0), infected test random: 0/50\n",
      "iteration.greedy: INFO     ...quarantining 2 guys -> got 2 infected, 26 free as birds (+4)\n"
     ]
    },
    {
     "name": "stdout",
     "output_type": "stream",
     "text": [
      "t: 360.00 | 744.00 hrs (31 d)"
     ]
    },
    {
     "name": "stderr",
     "output_type": "stream",
     "text": [
      "iteration.greedy: INFO     time:14\n"
     ]
    },
    {
     "name": "stdout",
     "output_type": "stream",
     "text": [
      "\n",
      "[Reached max time: 360h (15d)]\n",
      "All raw contacts 1091444\n",
      "Contacts at midnight  70910\n",
      "Contacts collected by coarse-graining  22980\n",
      "Contacts in multiple days  0\n",
      "Coarse-grained contacts  1139374\n",
      "Missing contacts  0\n",
      "Asymmetric contacts  0\n"
     ]
    },
    {
     "name": "stderr",
     "output_type": "stream",
     "text": [
      "iteration.greedy: INFO     adding contacts in the interval [336, 360]\n",
      "iteration.greedy: INFO     number of unique contacts: 1067956\n"
     ]
    },
    {
     "name": "stdout",
     "output_type": "stream",
     "text": [
      "all contacts: 4256878\n",
      "all contacts cut: 103\n"
     ]
    },
    {
     "name": "stderr",
     "output_type": "stream",
     "text": [
      "iteration.greedy: INFO     number of tests today: 0\n",
      "iteration.greedy: INFO     True  : (S,I,R): (90487.0, 48.0, 4.0)\n",
      "iteration.greedy: INFO     AUC_I : 0.745\n",
      "iteration.greedy: INFO     sym: 2, results test algo (S,I,R): (0,0,0), infected test random: 0/50\n",
      "iteration.greedy: INFO     ...quarantining 1 guys -> got 1 infected, 27 free as birds (+1)\n"
     ]
    },
    {
     "name": "stdout",
     "output_type": "stream",
     "text": [
      "t: 384.00 | 744.00 hrs (31 d)"
     ]
    },
    {
     "name": "stderr",
     "output_type": "stream",
     "text": [
      "iteration.greedy: INFO     time:15\n"
     ]
    },
    {
     "name": "stdout",
     "output_type": "stream",
     "text": [
      "\n",
      "[Reached max time: 384h (16d)]\n",
      "All raw contacts 1087896\n",
      "Contacts at midnight  69584\n",
      "Contacts collected by coarse-graining  23510\n",
      "Contacts in multiple days  0\n",
      "Coarse-grained contacts  1133970\n",
      "Missing contacts  0\n",
      "Asymmetric contacts  0\n"
     ]
    },
    {
     "name": "stderr",
     "output_type": "stream",
     "text": [
      "iteration.greedy: INFO     adding contacts in the interval [360, 384]\n",
      "iteration.greedy: INFO     number of unique contacts: 1063936\n"
     ]
    },
    {
     "name": "stdout",
     "output_type": "stream",
     "text": [
      "all contacts: 5320814\n",
      "all contacts cut: 131\n"
     ]
    },
    {
     "name": "stderr",
     "output_type": "stream",
     "text": [
      "iteration.greedy: INFO     number of tests today: 0\n",
      "iteration.greedy: INFO     True  : (S,I,R): (90479.0, 52.0, 8.0)\n",
      "iteration.greedy: INFO     AUC_I : 0.704\n",
      "iteration.greedy: INFO     sym: 2, results test algo (S,I,R): (0,0,0), infected test random: 0/50\n",
      "iteration.greedy: INFO     ...quarantining 1 guys -> got 1 infected, 33 free as birds (+6)\n"
     ]
    },
    {
     "name": "stdout",
     "output_type": "stream",
     "text": [
      "t: 408.00 | 744.00 hrs (31 d)"
     ]
    },
    {
     "name": "stderr",
     "output_type": "stream",
     "text": [
      "iteration.greedy: INFO     time:16\n"
     ]
    },
    {
     "name": "stdout",
     "output_type": "stream",
     "text": [
      "\n",
      "[Reached max time: 408h (17d)]\n",
      "All raw contacts 1083048\n",
      "Contacts at midnight  70610\n",
      "Contacts collected by coarse-graining  22946\n",
      "Contacts in multiple days  0\n",
      "Coarse-grained contacts  1130712\n",
      "Missing contacts  0\n",
      "Asymmetric contacts  0\n"
     ]
    },
    {
     "name": "stderr",
     "output_type": "stream",
     "text": [
      "iteration.greedy: INFO     adding contacts in the interval [384, 408]\n",
      "iteration.greedy: INFO     number of unique contacts: 1059572\n"
     ]
    },
    {
     "name": "stdout",
     "output_type": "stream",
     "text": [
      "all contacts: 6380386\n",
      "all contacts cut: 211\n"
     ]
    },
    {
     "name": "stderr",
     "output_type": "stream",
     "text": [
      "iteration.greedy: INFO     number of tests today: 0\n",
      "iteration.greedy: INFO     True  : (S,I,R): (90472.0, 59.0, 8.0)\n",
      "iteration.greedy: INFO     AUC_I : 0.679\n",
      "iteration.greedy: INFO     sym: 4, results test algo (S,I,R): (0,0,0), infected test random: 0/50\n",
      "iteration.greedy: INFO     ...quarantining 2 guys -> got 2 infected, 38 free as birds (+5)\n"
     ]
    },
    {
     "name": "stdout",
     "output_type": "stream",
     "text": [
      "t: 432.00 | 744.00 hrs (31 d)"
     ]
    },
    {
     "name": "stderr",
     "output_type": "stream",
     "text": [
      "iteration.greedy: INFO     time:17\n"
     ]
    },
    {
     "name": "stdout",
     "output_type": "stream",
     "text": [
      "\n",
      "[Reached max time: 432h (18d)]\n",
      "All raw contacts 1093688\n",
      "Contacts at midnight  71670\n",
      "Contacts collected by coarse-graining  23126\n",
      "Contacts in multiple days  0\n",
      "Coarse-grained contacts  1142232\n",
      "Missing contacts  0\n",
      "Asymmetric contacts  0\n"
     ]
    },
    {
     "name": "stderr",
     "output_type": "stream",
     "text": [
      "iteration.greedy: INFO     adding contacts in the interval [408, 432]\n",
      "iteration.greedy: INFO     number of unique contacts: 1069862\n"
     ]
    },
    {
     "name": "stdout",
     "output_type": "stream",
     "text": [
      "all contacts: 7450248\n",
      "all contacts cut: 283\n"
     ]
    },
    {
     "name": "stderr",
     "output_type": "stream",
     "text": [
      "iteration.greedy: INFO     number of tests today: 0\n",
      "iteration.greedy: INFO     True  : (S,I,R): (90462.0, 67.0, 10.0)\n",
      "iteration.greedy: INFO     AUC_I : 0.657\n",
      "iteration.greedy: INFO     sym: 8, results test algo (S,I,R): (0,0,0), infected test random: 0/50\n",
      "iteration.greedy: INFO     ...quarantining 4 guys -> got 4 infected, 44 free as birds (+6)\n"
     ]
    },
    {
     "name": "stdout",
     "output_type": "stream",
     "text": [
      "t: 456.00 | 744.00 hrs (31 d)"
     ]
    },
    {
     "name": "stderr",
     "output_type": "stream",
     "text": [
      "iteration.greedy: INFO     time:18\n"
     ]
    },
    {
     "name": "stdout",
     "output_type": "stream",
     "text": [
      "\n",
      "[Reached max time: 456h (19d)]\n",
      "All raw contacts 1090282\n",
      "Contacts at midnight  69020\n",
      "Contacts collected by coarse-graining  23088\n",
      "Contacts in multiple days  0\n",
      "Coarse-grained contacts  1136214\n",
      "Missing contacts  0\n",
      "Asymmetric contacts  0\n"
     ]
    },
    {
     "name": "stderr",
     "output_type": "stream",
     "text": [
      "iteration.greedy: INFO     adding contacts in the interval [432, 456]\n",
      "iteration.greedy: INFO     number of unique contacts: 1066616\n"
     ]
    },
    {
     "name": "stdout",
     "output_type": "stream",
     "text": [
      "all contacts: 8516864\n",
      "all contacts cut: 595\n"
     ]
    },
    {
     "name": "stderr",
     "output_type": "stream",
     "text": [
      "iteration.greedy: INFO     number of tests today: 0\n",
      "iteration.greedy: INFO     True  : (S,I,R): (90456.0, 72.0, 11.0)\n",
      "iteration.greedy: INFO     AUC_I : 0.693\n",
      "iteration.greedy: INFO     sym: 8, results test algo (S,I,R): (0,0,0), infected test random: 0/50\n",
      "iteration.greedy: INFO     ...quarantining 4 guys -> got 4 infected, 46 free as birds (+2)\n"
     ]
    },
    {
     "name": "stdout",
     "output_type": "stream",
     "text": [
      "t: 480.00 | 744.00 hrs (31 d)"
     ]
    },
    {
     "name": "stderr",
     "output_type": "stream",
     "text": [
      "iteration.greedy: INFO     time:19\n"
     ]
    },
    {
     "name": "stdout",
     "output_type": "stream",
     "text": [
      "\n",
      "[Reached max time: 480h (20d)]\n",
      "All raw contacts 1073376\n",
      "Contacts at midnight  68092\n",
      "Contacts collected by coarse-graining  23496\n",
      "Contacts in multiple days  0\n",
      "Coarse-grained contacts  1117972\n",
      "Missing contacts  0\n",
      "Asymmetric contacts  0\n"
     ]
    },
    {
     "name": "stderr",
     "output_type": "stream",
     "text": [
      "iteration.greedy: INFO     adding contacts in the interval [456, 480]\n",
      "iteration.greedy: INFO     number of unique contacts: 1049168\n"
     ]
    },
    {
     "name": "stdout",
     "output_type": "stream",
     "text": [
      "all contacts: 9566032\n",
      "all contacts cut: 1067\n"
     ]
    },
    {
     "name": "stderr",
     "output_type": "stream",
     "text": [
      "iteration.greedy: INFO     number of tests today: 0\n",
      "iteration.greedy: INFO     True  : (S,I,R): (90446.0, 80.0, 13.0)\n",
      "iteration.greedy: INFO     AUC_I : 0.715\n",
      "iteration.greedy: INFO     sym: 6, results test algo (S,I,R): (0,0,0), infected test random: 0/50\n",
      "iteration.greedy: INFO     ...quarantining 3 guys -> got 3 infected, 52 free as birds (+6)\n"
     ]
    },
    {
     "name": "stdout",
     "output_type": "stream",
     "text": [
      "t: 504.00 | 744.00 hrs (31 d)"
     ]
    },
    {
     "name": "stderr",
     "output_type": "stream",
     "text": [
      "iteration.greedy: INFO     time:20\n"
     ]
    },
    {
     "name": "stdout",
     "output_type": "stream",
     "text": [
      "\n",
      "[Reached max time: 504h (21d)]\n",
      "All raw contacts 1103074\n",
      "Contacts at midnight  69274\n",
      "Contacts collected by coarse-graining  23920\n",
      "Contacts in multiple days  0\n",
      "Coarse-grained contacts  1148428\n",
      "Missing contacts  0\n",
      "Asymmetric contacts  0\n"
     ]
    },
    {
     "name": "stderr",
     "output_type": "stream",
     "text": [
      "iteration.greedy: INFO     adding contacts in the interval [480, 504]\n",
      "iteration.greedy: INFO     number of unique contacts: 1078312\n"
     ]
    },
    {
     "name": "stdout",
     "output_type": "stream",
     "text": [
      "all contacts: 10644344\n",
      "all contacts cut: 1232\n"
     ]
    },
    {
     "name": "stderr",
     "output_type": "stream",
     "text": [
      "iteration.greedy: INFO     number of tests today: 0\n",
      "iteration.greedy: INFO     True  : (S,I,R): (90431.0, 94.0, 14.0)\n",
      "iteration.greedy: INFO     AUC_I : 0.730\n",
      "iteration.greedy: INFO     sym: 6, results test algo (S,I,R): (0,0,0), infected test random: 0/50\n",
      "iteration.greedy: INFO     ...quarantining 3 guys -> got 3 infected, 63 free as birds (+11)\n"
     ]
    },
    {
     "name": "stdout",
     "output_type": "stream",
     "text": [
      "t: 528.00 | 744.00 hrs (31 d)"
     ]
    },
    {
     "name": "stderr",
     "output_type": "stream",
     "text": [
      "iteration.greedy: INFO     time:21\n"
     ]
    },
    {
     "name": "stdout",
     "output_type": "stream",
     "text": [
      "\n",
      "[Reached max time: 528h (22d)]\n",
      "All raw contacts 1079950\n",
      "Contacts at midnight  70672\n",
      "Contacts collected by coarse-graining  23502\n",
      "Contacts in multiple days  0\n",
      "Coarse-grained contacts  1127120\n",
      "Missing contacts  0\n",
      "Asymmetric contacts  0\n"
     ]
    },
    {
     "name": "stderr",
     "output_type": "stream",
     "text": [
      "iteration.greedy: INFO     adding contacts in the interval [504, 528]\n",
      "iteration.greedy: INFO     number of unique contacts: 1055536\n"
     ]
    },
    {
     "name": "stdout",
     "output_type": "stream",
     "text": [
      "all contacts: 11699880\n",
      "all contacts cut: 1603\n"
     ]
    },
    {
     "name": "stderr",
     "output_type": "stream",
     "text": [
      "iteration.greedy: INFO     number of tests today: 0\n",
      "iteration.greedy: INFO     True  : (S,I,R): (90419.0, 105.0, 15.0)\n",
      "iteration.greedy: INFO     AUC_I : 0.737\n",
      "iteration.greedy: INFO     sym: 20, results test algo (S,I,R): (0,0,0), infected test random: 2/50\n",
      "iteration.greedy: INFO     ...quarantining 11 guys -> got 11 infected, 64 free as birds (+1)\n"
     ]
    },
    {
     "name": "stdout",
     "output_type": "stream",
     "text": [
      "t: 552.00 | 744.00 hrs (31 d)\n",
      "[Reached max time: 552h (23d)]\n"
     ]
    },
    {
     "name": "stderr",
     "output_type": "stream",
     "text": [
      "iteration.greedy: INFO     time:22\n"
     ]
    },
    {
     "name": "stdout",
     "output_type": "stream",
     "text": [
      "All raw contacts 1085386\n",
      "Contacts at midnight  72044\n",
      "Contacts collected by coarse-graining  23674\n",
      "Contacts in multiple days  0\n",
      "Coarse-grained contacts  1133756\n",
      "Missing contacts  0\n",
      "Asymmetric contacts  0\n"
     ]
    },
    {
     "name": "stderr",
     "output_type": "stream",
     "text": [
      "iteration.greedy: INFO     adding contacts in the interval [528, 552]\n",
      "iteration.greedy: INFO     number of unique contacts: 1060524\n"
     ]
    },
    {
     "name": "stdout",
     "output_type": "stream",
     "text": [
      "all contacts: 1060524\n",
      "all contacts cut: 0\n"
     ]
    },
    {
     "name": "stderr",
     "output_type": "stream",
     "text": [
      "iteration.greedy: INFO     number of tests today: 0\n",
      "iteration.greedy: INFO     True  : (S,I,R): (90398.0, 123.0, 18.0)\n",
      "iteration.greedy: INFO     AUC_I : 0.674\n",
      "iteration.greedy: INFO     sym: 16, results test algo (S,I,R): (0,0,0), infected test random: 0/50\n",
      "iteration.greedy: INFO     ...quarantining 8 guys -> got 8 infected, 77 free as birds (+13)\n"
     ]
    },
    {
     "name": "stdout",
     "output_type": "stream",
     "text": [
      "t: 576.00 | 744.00 hrs (31 d)"
     ]
    },
    {
     "name": "stderr",
     "output_type": "stream",
     "text": [
      "iteration.greedy: INFO     time:23\n"
     ]
    },
    {
     "name": "stdout",
     "output_type": "stream",
     "text": [
      "\n",
      "[Reached max time: 576h (24d)]\n",
      "All raw contacts 1105608\n",
      "Contacts at midnight  70926\n",
      "Contacts collected by coarse-graining  23962\n",
      "Contacts in multiple days  0\n",
      "Coarse-grained contacts  1152572\n",
      "Missing contacts  0\n",
      "Asymmetric contacts  0\n"
     ]
    },
    {
     "name": "stderr",
     "output_type": "stream",
     "text": [
      "iteration.greedy: INFO     adding contacts in the interval [552, 576]\n",
      "iteration.greedy: INFO     number of unique contacts: 1080230\n"
     ]
    },
    {
     "name": "stdout",
     "output_type": "stream",
     "text": [
      "all contacts: 2140754\n",
      "all contacts cut: 109\n"
     ]
    },
    {
     "name": "stderr",
     "output_type": "stream",
     "text": [
      "iteration.greedy: INFO     number of tests today: 0\n",
      "iteration.greedy: INFO     True  : (S,I,R): (90372.0, 148.0, 19.0)\n",
      "iteration.greedy: INFO     AUC_I : 0.680\n",
      "iteration.greedy: INFO     sym: 8, results test algo (S,I,R): (0,0,0), infected test random: 0/50\n",
      "iteration.greedy: INFO     ...quarantining 4 guys -> got 4 infected, 98 free as birds (+21)\n"
     ]
    },
    {
     "name": "stdout",
     "output_type": "stream",
     "text": [
      "t: 600.00 | 744.00 hrs (31 d)"
     ]
    },
    {
     "name": "stderr",
     "output_type": "stream",
     "text": [
      "iteration.greedy: INFO     time:24\n"
     ]
    },
    {
     "name": "stdout",
     "output_type": "stream",
     "text": [
      "\n",
      "[Reached max time: 600h (25d)]\n",
      "All raw contacts 1080322\n",
      "Contacts at midnight  68686\n",
      "Contacts collected by coarse-graining  22776\n",
      "Contacts in multiple days  0\n",
      "Coarse-grained contacts  1126232\n",
      "Missing contacts  0\n",
      "Asymmetric contacts  0\n"
     ]
    },
    {
     "name": "stderr",
     "output_type": "stream",
     "text": [
      "iteration.greedy: INFO     adding contacts in the interval [576, 600]\n",
      "iteration.greedy: INFO     number of unique contacts: 1056306\n"
     ]
    },
    {
     "name": "stdout",
     "output_type": "stream",
     "text": [
      "all contacts: 3197060\n",
      "all contacts cut: 183\n"
     ]
    },
    {
     "name": "stderr",
     "output_type": "stream",
     "text": [
      "iteration.greedy: INFO     number of tests today: 0\n",
      "iteration.greedy: INFO     True  : (S,I,R): (90356.0, 161.0, 22.0)\n",
      "iteration.greedy: INFO     AUC_I : 0.680\n",
      "iteration.greedy: INFO     sym: 12, results test algo (S,I,R): (0,0,0), infected test random: 0/50\n",
      "iteration.greedy: INFO     ...quarantining 6 guys -> got 6 infected, 106 free as birds (+8)\n"
     ]
    },
    {
     "name": "stdout",
     "output_type": "stream",
     "text": [
      "t: 624.00 | 744.00 hrs (31 d)\n",
      "[Reached max time: 624h (26d)]\n"
     ]
    },
    {
     "name": "stderr",
     "output_type": "stream",
     "text": [
      "iteration.greedy: INFO     time:25\n"
     ]
    },
    {
     "name": "stdout",
     "output_type": "stream",
     "text": [
      "All raw contacts 1082972\n",
      "Contacts at midnight  67958\n",
      "Contacts collected by coarse-graining  23566\n",
      "Contacts in multiple days  0\n",
      "Coarse-grained contacts  1127364\n",
      "Missing contacts  0\n",
      "Asymmetric contacts  0\n"
     ]
    },
    {
     "name": "stderr",
     "output_type": "stream",
     "text": [
      "iteration.greedy: INFO     adding contacts in the interval [600, 624]\n",
      "iteration.greedy: INFO     number of unique contacts: 1057462\n"
     ]
    },
    {
     "name": "stdout",
     "output_type": "stream",
     "text": [
      "all contacts: 4254522\n",
      "all contacts cut: 335\n"
     ]
    },
    {
     "name": "stderr",
     "output_type": "stream",
     "text": [
      "iteration.greedy: INFO     number of tests today: 0\n",
      "iteration.greedy: INFO     True  : (S,I,R): (90323.0, 189.0, 27.0)\n",
      "iteration.greedy: INFO     AUC_I : 0.660\n",
      "iteration.greedy: INFO     sym: 14, results test algo (S,I,R): (0,0,0), infected test random: 0/50\n",
      "iteration.greedy: INFO     ...quarantining 7 guys -> got 7 infected, 131 free as birds (+25)\n"
     ]
    },
    {
     "name": "stdout",
     "output_type": "stream",
     "text": [
      "t: 648.00 | 744.00 hrs (31 d)\n",
      "[Reached max time: 648h (27d)]\n"
     ]
    },
    {
     "name": "stderr",
     "output_type": "stream",
     "text": [
      "iteration.greedy: INFO     time:26\n"
     ]
    },
    {
     "name": "stdout",
     "output_type": "stream",
     "text": [
      "All raw contacts 1089110\n",
      "Contacts at midnight  70874\n",
      "Contacts collected by coarse-graining  23118\n",
      "Contacts in multiple days  0\n",
      "Coarse-grained contacts  1136866\n",
      "Missing contacts  0\n",
      "Asymmetric contacts  0\n"
     ]
    },
    {
     "name": "stderr",
     "output_type": "stream",
     "text": [
      "iteration.greedy: INFO     adding contacts in the interval [624, 648]\n",
      "iteration.greedy: INFO     number of unique contacts: 1064330\n"
     ]
    },
    {
     "name": "stdout",
     "output_type": "stream",
     "text": [
      "all contacts: 5318852\n",
      "all contacts cut: 839\n"
     ]
    },
    {
     "name": "stderr",
     "output_type": "stream",
     "text": [
      "iteration.greedy: INFO     number of tests today: 0\n",
      "iteration.greedy: INFO     True  : (S,I,R): (90271.0, 238.0, 30.0)\n",
      "iteration.greedy: INFO     AUC_I : 0.674\n",
      "iteration.greedy: INFO     sym: 22, results test algo (S,I,R): (0,0,0), infected test random: 2/50\n",
      "iteration.greedy: INFO     ...quarantining 12 guys -> got 12 infected, 171 free as birds (+40)\n"
     ]
    },
    {
     "name": "stdout",
     "output_type": "stream",
     "text": [
      "t: 672.00 | 744.00 hrs (31 d)\n",
      "[Reached max time: 672h (28d)]\n"
     ]
    },
    {
     "name": "stderr",
     "output_type": "stream",
     "text": [
      "iteration.greedy: INFO     time:27\n"
     ]
    },
    {
     "name": "stdout",
     "output_type": "stream",
     "text": [
      "All raw contacts 1093720\n",
      "Contacts at midnight  71098\n",
      "Contacts collected by coarse-graining  22750\n",
      "Contacts in multiple days  0\n",
      "Coarse-grained contacts  1142068\n",
      "Missing contacts  0\n",
      "Asymmetric contacts  0\n"
     ]
    },
    {
     "name": "stderr",
     "output_type": "stream",
     "text": [
      "iteration.greedy: INFO     adding contacts in the interval [648, 672]\n",
      "iteration.greedy: INFO     number of unique contacts: 1068644\n"
     ]
    },
    {
     "name": "stdout",
     "output_type": "stream",
     "text": [
      "all contacts: 6387496\n",
      "all contacts cut: 1491\n"
     ]
    },
    {
     "name": "stderr",
     "output_type": "stream",
     "text": [
      "iteration.greedy: INFO     number of tests today: 0\n",
      "iteration.greedy: INFO     True  : (S,I,R): (90221.0, 288.0, 30.0)\n",
      "iteration.greedy: INFO     AUC_I : 0.677\n",
      "iteration.greedy: INFO     sym: 24, results test algo (S,I,R): (0,0,0), infected test random: 0/50\n",
      "iteration.greedy: INFO     ...quarantining 12 guys -> got 12 infected, 209 free as birds (+38)\n"
     ]
    },
    {
     "name": "stdout",
     "output_type": "stream",
     "text": [
      "t: 696.00 | 744.00 hrs (31 d)\n",
      "[Reached max time: 696h (29d)]\n"
     ]
    },
    {
     "name": "stderr",
     "output_type": "stream",
     "text": [
      "iteration.greedy: INFO     time:28\n"
     ]
    },
    {
     "name": "stdout",
     "output_type": "stream",
     "text": [
      "All raw contacts 1080514\n",
      "Contacts at midnight  69752\n",
      "Contacts collected by coarse-graining  23034\n",
      "Contacts in multiple days  0\n",
      "Coarse-grained contacts  1127232\n",
      "Missing contacts  0\n",
      "Asymmetric contacts  0\n"
     ]
    },
    {
     "name": "stderr",
     "output_type": "stream",
     "text": [
      "iteration.greedy: INFO     adding contacts in the interval [672, 696]\n",
      "iteration.greedy: INFO     number of unique contacts: 1055046\n"
     ]
    },
    {
     "name": "stdout",
     "output_type": "stream",
     "text": [
      "all contacts: 7442542\n",
      "all contacts cut: 2768\n"
     ]
    },
    {
     "name": "stderr",
     "output_type": "stream",
     "text": [
      "iteration.greedy: INFO     number of tests today: 0\n",
      "iteration.greedy: INFO     True  : (S,I,R): (90167.0, 340.0, 32.0)\n",
      "iteration.greedy: INFO     AUC_I : 0.693\n",
      "iteration.greedy: INFO     sym: 26, results test algo (S,I,R): (0,0,0), infected test random: 0/50\n",
      "iteration.greedy: INFO     ...quarantining 13 guys -> got 13 infected, 250 free as birds (+41)\n"
     ]
    },
    {
     "name": "stdout",
     "output_type": "stream",
     "text": [
      "t: 720.00 | 744.00 hrs (31 d)\n",
      "[Reached max time: 720h (30d)]\n"
     ]
    },
    {
     "name": "stderr",
     "output_type": "stream",
     "text": [
      "iteration.greedy: INFO     time:29\n"
     ]
    },
    {
     "name": "stdout",
     "output_type": "stream",
     "text": [
      "All raw contacts 1078186\n",
      "Contacts at midnight  69954\n",
      "Contacts collected by coarse-graining  22864\n",
      "Contacts in multiple days  0\n",
      "Coarse-grained contacts  1125276\n",
      "Missing contacts  0\n",
      "Asymmetric contacts  0\n"
     ]
    },
    {
     "name": "stderr",
     "output_type": "stream",
     "text": [
      "iteration.greedy: INFO     adding contacts in the interval [696, 720]\n",
      "iteration.greedy: INFO     number of unique contacts: 1053218\n"
     ]
    },
    {
     "name": "stdout",
     "output_type": "stream",
     "text": [
      "all contacts: 8495760\n",
      "all contacts cut: 4120\n"
     ]
    },
    {
     "name": "stderr",
     "output_type": "stream",
     "text": [
      "iteration.greedy: INFO     number of tests today: 0\n",
      "iteration.greedy: INFO     True  : (S,I,R): (90105.0, 401.0, 33.0)\n",
      "iteration.greedy: INFO     AUC_I : 0.702\n",
      "iteration.greedy: INFO     sym: 30, results test algo (S,I,R): (0,0,0), infected test random: 0/50\n",
      "iteration.greedy: INFO     ...quarantining 15 guys -> got 15 infected, 296 free as birds (+46)\n"
     ]
    },
    {
     "name": "stdout",
     "output_type": "stream",
     "text": [
      "t: 743.77 | 744.00 hrs (31 d)"
     ]
    },
    {
     "name": "stderr",
     "output_type": "stream",
     "text": [
      "iteration.greedy: INFO     \n",
      "observation-based inference algorithm starts now\n",
      "\n",
      "iteration.greedy: INFO     time:30\n"
     ]
    },
    {
     "name": "stdout",
     "output_type": "stream",
     "text": [
      "All raw contacts 974550\n",
      "Contacts at midnight  34758\n",
      "Contacts collected by coarse-graining  19354\n",
      "Contacts in multiple days  0\n",
      "Coarse-grained contacts  989954\n",
      "Missing contacts  0\n",
      "Asymmetric contacts  0\n"
     ]
    },
    {
     "name": "stderr",
     "output_type": "stream",
     "text": [
      "iteration.greedy: INFO     adding contacts in the interval [720, 744]\n",
      "iteration.greedy: INFO     number of unique contacts: 952324\n"
     ]
    },
    {
     "name": "stdout",
     "output_type": "stream",
     "text": [
      "all contacts: 9448084\n",
      "all contacts cut: 5471\n"
     ]
    },
    {
     "name": "stderr",
     "output_type": "stream",
     "text": [
      "iteration.greedy: INFO     number of tests today: 300\n",
      "iteration.greedy: INFO     True  : (S,I,R): (90008.0, 495.0, 36.0)\n",
      "iteration.greedy: INFO     AUC_I : 0.699\n",
      "iteration.greedy: INFO     sym: 42, results test algo (S,I,R): (251,48,1), infected test random: 0/50\n",
      "iteration.greedy: INFO     ...quarantining 45 guys -> got 45 infected, 346 free as birds (+50)\n"
     ]
    },
    {
     "name": "stdout",
     "output_type": "stream",
     "text": [
      "Time  1209.0024499893188\n",
      "t: 24.00 | 744.00 hrs (31 d)"
     ]
    },
    {
     "name": "stderr",
     "output_type": "stream",
     "text": [
      "iteration.no_intervention: INFO     time:0\n"
     ]
    },
    {
     "name": "stdout",
     "output_type": "stream",
     "text": [
      "\n",
      "[Reached max time: 24h (1d)]\n",
      "t: 48.00 | 744.00 hrs (31 d)"
     ]
    },
    {
     "name": "stderr",
     "output_type": "stream",
     "text": [
      "iteration.no_intervention: INFO     time:1\n"
     ]
    },
    {
     "name": "stdout",
     "output_type": "stream",
     "text": [
      "\n",
      "[Reached max time: 48h (2d)]\n",
      "t: 72.00 | 744.00 hrs (31 d)"
     ]
    },
    {
     "name": "stderr",
     "output_type": "stream",
     "text": [
      "iteration.no_intervention: INFO     time:2\n"
     ]
    },
    {
     "name": "stdout",
     "output_type": "stream",
     "text": [
      "\n",
      "[Reached max time: 72h (3d)]\n",
      "t: 96.00 | 744.00 hrs (31 d)"
     ]
    },
    {
     "name": "stderr",
     "output_type": "stream",
     "text": [
      "iteration.no_intervention: INFO     time:3\n"
     ]
    },
    {
     "name": "stdout",
     "output_type": "stream",
     "text": [
      "\n",
      "[Reached max time: 96h (4d)]\n",
      "t: 120.00 | 744.00 hrs (31 d)\n",
      "[Reached max time: 120h (5d)]\n"
     ]
    },
    {
     "name": "stderr",
     "output_type": "stream",
     "text": [
      "iteration.no_intervention: INFO     time:4\n"
     ]
    },
    {
     "name": "stdout",
     "output_type": "stream",
     "text": [
      "t: 144.00 | 744.00 hrs (31 d)\n",
      "[Reached max time: 144h (6d)]\n"
     ]
    },
    {
     "name": "stderr",
     "output_type": "stream",
     "text": [
      "iteration.no_intervention: INFO     time:5\n"
     ]
    },
    {
     "name": "stdout",
     "output_type": "stream",
     "text": [
      "t: 168.00 | 744.00 hrs (31 d)\n",
      "[Reached max time: 168h (7d)]\n"
     ]
    },
    {
     "name": "stderr",
     "output_type": "stream",
     "text": [
      "iteration.no_intervention: INFO     time:6\n"
     ]
    },
    {
     "name": "stdout",
     "output_type": "stream",
     "text": [
      "t: 192.00 | 744.00 hrs (31 d)\n",
      "[Reached max time: 192h (8d)]\n"
     ]
    },
    {
     "name": "stderr",
     "output_type": "stream",
     "text": [
      "iteration.no_intervention: INFO     time:7\n"
     ]
    },
    {
     "name": "stdout",
     "output_type": "stream",
     "text": [
      "t: 216.00 | 744.00 hrs (31 d)\n",
      "[Reached max time: 216h (9d)]\n"
     ]
    },
    {
     "name": "stderr",
     "output_type": "stream",
     "text": [
      "iteration.no_intervention: INFO     time:8\n"
     ]
    },
    {
     "name": "stdout",
     "output_type": "stream",
     "text": [
      "t: 240.00 | 744.00 hrs (31 d)\n",
      "[Reached max time: 240h (10d)]\n"
     ]
    },
    {
     "name": "stderr",
     "output_type": "stream",
     "text": [
      "iteration.no_intervention: INFO     time:9\n"
     ]
    },
    {
     "name": "stdout",
     "output_type": "stream",
     "text": [
      "t: 264.00 | 744.00 hrs (31 d)\n",
      "[Reached max time: 264h (11d)]\n"
     ]
    },
    {
     "name": "stderr",
     "output_type": "stream",
     "text": [
      "iteration.no_intervention: INFO     time:10\n"
     ]
    },
    {
     "name": "stdout",
     "output_type": "stream",
     "text": [
      "t: 288.00 | 744.00 hrs (31 d)\n",
      "[Reached max time: 288h (12d)]\n"
     ]
    },
    {
     "name": "stderr",
     "output_type": "stream",
     "text": [
      "iteration.no_intervention: INFO     time:11\n"
     ]
    },
    {
     "name": "stdout",
     "output_type": "stream",
     "text": [
      "t: 312.00 | 744.00 hrs (31 d)\n",
      "[Reached max time: 312h (13d)]\n"
     ]
    },
    {
     "name": "stderr",
     "output_type": "stream",
     "text": [
      "iteration.no_intervention: INFO     time:12\n"
     ]
    },
    {
     "name": "stdout",
     "output_type": "stream",
     "text": [
      "t: 336.00 | 744.00 hrs (31 d)\n",
      "[Reached max time: 336h (14d)]\n"
     ]
    },
    {
     "name": "stderr",
     "output_type": "stream",
     "text": [
      "iteration.no_intervention: INFO     time:13\n"
     ]
    },
    {
     "name": "stdout",
     "output_type": "stream",
     "text": [
      "t: 360.00 | 744.00 hrs (31 d)\n",
      "[Reached max time: 360h (15d)]\n"
     ]
    },
    {
     "name": "stderr",
     "output_type": "stream",
     "text": [
      "iteration.no_intervention: INFO     time:14\n"
     ]
    },
    {
     "name": "stdout",
     "output_type": "stream",
     "text": [
      "t: 384.00 | 744.00 hrs (31 d)\n",
      "[Reached max time: 384h (16d)]\n"
     ]
    },
    {
     "name": "stderr",
     "output_type": "stream",
     "text": [
      "iteration.no_intervention: INFO     time:15\n"
     ]
    },
    {
     "name": "stdout",
     "output_type": "stream",
     "text": [
      "t: 408.00 | 744.00 hrs (31 d)\n",
      "[Reached max time: 408h (17d)]\n"
     ]
    },
    {
     "name": "stderr",
     "output_type": "stream",
     "text": [
      "iteration.no_intervention: INFO     time:16\n"
     ]
    },
    {
     "name": "stdout",
     "output_type": "stream",
     "text": [
      "t: 432.00 | 744.00 hrs (31 d)\n",
      "[Reached max time: 432h (18d)]\n"
     ]
    },
    {
     "name": "stderr",
     "output_type": "stream",
     "text": [
      "iteration.no_intervention: INFO     time:17\n"
     ]
    },
    {
     "name": "stdout",
     "output_type": "stream",
     "text": [
      "t: 456.00 | 744.00 hrs (31 d)\n",
      "[Reached max time: 456h (19d)]\n"
     ]
    },
    {
     "name": "stderr",
     "output_type": "stream",
     "text": [
      "iteration.no_intervention: INFO     time:18\n"
     ]
    },
    {
     "name": "stdout",
     "output_type": "stream",
     "text": [
      "t: 480.00 | 744.00 hrs (31 d)\n",
      "[Reached max time: 480h (20d)]\n"
     ]
    },
    {
     "name": "stderr",
     "output_type": "stream",
     "text": [
      "iteration.no_intervention: INFO     time:19\n"
     ]
    },
    {
     "name": "stdout",
     "output_type": "stream",
     "text": [
      "t: 504.00 | 744.00 hrs (31 d)\n",
      "[Reached max time: 504h (21d)]\n"
     ]
    },
    {
     "name": "stderr",
     "output_type": "stream",
     "text": [
      "iteration.no_intervention: INFO     time:20\n"
     ]
    },
    {
     "name": "stdout",
     "output_type": "stream",
     "text": [
      "t: 528.00 | 744.00 hrs (31 d)\n",
      "[Reached max time: 528h (22d)]\n"
     ]
    },
    {
     "name": "stderr",
     "output_type": "stream",
     "text": [
      "iteration.no_intervention: INFO     time:21\n"
     ]
    },
    {
     "name": "stdout",
     "output_type": "stream",
     "text": [
      "t: 552.00 | 744.00 hrs (31 d)\n",
      "[Reached max time: 552h (23d)]\n"
     ]
    },
    {
     "name": "stderr",
     "output_type": "stream",
     "text": [
      "iteration.no_intervention: INFO     time:22\n"
     ]
    },
    {
     "name": "stdout",
     "output_type": "stream",
     "text": [
      "t: 576.00 | 744.00 hrs (31 d)\n",
      "[Reached max time: 576h (24d)]\n"
     ]
    },
    {
     "name": "stderr",
     "output_type": "stream",
     "text": [
      "iteration.no_intervention: INFO     time:23\n"
     ]
    },
    {
     "name": "stdout",
     "output_type": "stream",
     "text": [
      "t: 600.00 | 744.00 hrs (31 d)\n",
      "[Reached max time: 600h (25d)]\n"
     ]
    },
    {
     "name": "stderr",
     "output_type": "stream",
     "text": [
      "iteration.no_intervention: INFO     time:24\n"
     ]
    },
    {
     "name": "stdout",
     "output_type": "stream",
     "text": [
      "t: 624.00 | 744.00 hrs (31 d)\n",
      "[Reached max time: 624h (26d)]\n"
     ]
    },
    {
     "name": "stderr",
     "output_type": "stream",
     "text": [
      "iteration.no_intervention: INFO     time:25\n"
     ]
    },
    {
     "name": "stdout",
     "output_type": "stream",
     "text": [
      "t: 648.00 | 744.00 hrs (31 d)\n",
      "[Reached max time: 648h (27d)]\n"
     ]
    },
    {
     "name": "stderr",
     "output_type": "stream",
     "text": [
      "iteration.no_intervention: INFO     time:26\n"
     ]
    },
    {
     "name": "stdout",
     "output_type": "stream",
     "text": [
      "t: 672.00 | 744.00 hrs (31 d)\n",
      "[Reached max time: 672h (28d)]\n"
     ]
    },
    {
     "name": "stderr",
     "output_type": "stream",
     "text": [
      "iteration.no_intervention: INFO     time:27\n"
     ]
    },
    {
     "name": "stdout",
     "output_type": "stream",
     "text": [
      "t: 696.00 | 744.00 hrs (31 d)\n",
      "[Reached max time: 696h (29d)]\n"
     ]
    },
    {
     "name": "stderr",
     "output_type": "stream",
     "text": [
      "iteration.no_intervention: INFO     time:28\n"
     ]
    },
    {
     "name": "stdout",
     "output_type": "stream",
     "text": [
      "t: 720.00 | 744.00 hrs (31 d)\n",
      "[Reached max time: 720h (30d)]\n"
     ]
    },
    {
     "name": "stderr",
     "output_type": "stream",
     "text": [
      "iteration.no_intervention: INFO     time:29\n"
     ]
    },
    {
     "name": "stdout",
     "output_type": "stream",
     "text": [
      "t: 743.97 | 744.00 hrs (31 d)"
     ]
    },
    {
     "name": "stderr",
     "output_type": "stream",
     "text": [
      "iteration.no_intervention: INFO     time:30\n"
     ]
    },
    {
     "name": "stdout",
     "output_type": "stream",
     "text": [
      "Starting with guys:  {'expo': [53551, 44855, 21873], 'iasy': [70851, 41074, 26964, 45836], 'ipre': [54521, 37051, 56361, 58576, 18919]}\n",
      "t: 24.00 | 744.00 hrs (31 d)"
     ]
    },
    {
     "name": "stderr",
     "output_type": "stream",
     "text": [
      "iteration.sib: INFO     time:0\n"
     ]
    },
    {
     "name": "stdout",
     "output_type": "stream",
     "text": [
      "\n",
      "[Reached max time: 24h (1d)]\n",
      "All raw contacts 985818\n",
      "Contacts at midnight  35154\n",
      "Contacts collected by coarse-graining  19478\n",
      "Contacts in multiple days  0\n",
      "Coarse-grained contacts  1001494\n",
      "Missing contacts  0\n",
      "Asymmetric contacts  0\n"
     ]
    },
    {
     "name": "stderr",
     "output_type": "stream",
     "text": [
      "iteration.sib: INFO     adding contacts in the interval [0, 24]\n",
      "iteration.sib: INFO     number of unique contacts: 966340\n"
     ]
    },
    {
     "name": "stdout",
     "output_type": "stream",
     "text": [
      "sib.iterate(damp=0):  2/20 1.110e-15/0.001        \n",
      "sib.iterate(damp=0.5):  0/20 7.772e-16/0.001    \n"
     ]
    },
    {
     "name": "stderr",
     "output_type": "stream",
     "text": [
      "iteration.sib: INFO     winBP: (S,I,R): (90538.0, 1.0, 0.0), seeds: 1.0, ll: -62756.4\n",
      "iteration.sib: INFO     number of tests today: 0\n",
      "iteration.sib: INFO     True  : (S,I,R): (90527.0, 12.0, 0.0)\n",
      "iteration.sib: INFO     AUC_I : 0.478\n",
      "iteration.sib: INFO     sym: 0, results test algo (S,I,R): (0,0,0), infected test random: 0/50\n",
      "iteration.sib: INFO     ...quarantining 0 guys -> got 0 infected, 12 free as birds (+12)\n"
     ]
    },
    {
     "name": "stdout",
     "output_type": "stream",
     "text": [
      "t: 48.00 | 744.00 hrs (31 d)"
     ]
    },
    {
     "name": "stderr",
     "output_type": "stream",
     "text": [
      "iteration.sib: INFO     time:1\n"
     ]
    },
    {
     "name": "stdout",
     "output_type": "stream",
     "text": [
      "\n",
      "[Reached max time: 48h (2d)]\n",
      "All raw contacts 1084120\n",
      "Contacts at midnight  69598\n",
      "Contacts collected by coarse-graining  23122\n",
      "Contacts in multiple days  0\n",
      "Coarse-grained contacts  1130596\n",
      "Missing contacts  0\n",
      "Asymmetric contacts  0\n"
     ]
    },
    {
     "name": "stderr",
     "output_type": "stream",
     "text": [
      "iteration.sib: INFO     adding contacts in the interval [24, 48]\n",
      "iteration.sib: INFO     number of unique contacts: 1060998\n"
     ]
    },
    {
     "name": "stdout",
     "output_type": "stream",
     "text": [
      "sib.iterate(damp=0):  2/20 1.214e-12/0.001    \n",
      "sib.iterate(damp=0.5):  0/20 2.109e-15/0.001    \n"
     ]
    },
    {
     "name": "stderr",
     "output_type": "stream",
     "text": [
      "iteration.sib: INFO     winBP: (S,I,R): (90537.9, 1.1, 0.0), seeds: 1.0, ll: -62756.4\n",
      "iteration.sib: INFO     number of tests today: 0\n",
      "iteration.sib: INFO     True  : (S,I,R): (90527.0, 12.0, 0.0)\n",
      "iteration.sib: INFO     AUC_I : 0.481\n",
      "iteration.sib: INFO     sym: 6, results test algo (S,I,R): (0,0,0), infected test random: 0/50\n",
      "iteration.sib: INFO     ...quarantining 3 guys -> got 3 infected, 9 free as birds (-3)\n"
     ]
    },
    {
     "name": "stdout",
     "output_type": "stream",
     "text": [
      "t: 72.00 | 744.00 hrs (31 d)"
     ]
    },
    {
     "name": "stderr",
     "output_type": "stream",
     "text": [
      "iteration.sib: INFO     time:2\n"
     ]
    },
    {
     "name": "stdout",
     "output_type": "stream",
     "text": [
      "\n",
      "[Reached max time: 72h (3d)]\n",
      "All raw contacts 1083894\n",
      "Contacts at midnight  70600\n",
      "Contacts collected by coarse-graining  24132\n",
      "Contacts in multiple days  0\n",
      "Coarse-grained contacts  1130362\n",
      "Missing contacts  0\n",
      "Asymmetric contacts  0\n"
     ]
    },
    {
     "name": "stderr",
     "output_type": "stream",
     "text": [
      "iteration.sib: INFO     adding contacts in the interval [48, 72]\n",
      "iteration.sib: INFO     number of unique contacts: 1059726\n"
     ]
    },
    {
     "name": "stdout",
     "output_type": "stream",
     "text": [
      "sib.iterate(damp=0):  2/20 2.588e-07/0.001    \n",
      "sib.iterate(damp=0.5):  0/20 3.479e-11/0.001    \n"
     ]
    },
    {
     "name": "stderr",
     "output_type": "stream",
     "text": [
      "iteration.sib: INFO     winBP: (S,I,R): (90534.8, 4.2, 0.0), seeds: 3.7, ll: -62790.3\n",
      "iteration.sib: INFO     number of tests today: 0\n",
      "iteration.sib: INFO     True  : (S,I,R): (90526.0, 13.0, 0.0)\n",
      "iteration.sib: INFO     AUC_I : 0.569\n",
      "iteration.sib: INFO     sym: 2, results test algo (S,I,R): (0,0,0), infected test random: 0/50\n",
      "iteration.sib: INFO     ...quarantining 1 guys -> got 1 infected, 9 free as birds (+0)\n"
     ]
    },
    {
     "name": "stdout",
     "output_type": "stream",
     "text": [
      "t: 96.00 | 744.00 hrs (31 d)"
     ]
    },
    {
     "name": "stderr",
     "output_type": "stream",
     "text": [
      "iteration.sib: INFO     time:3\n"
     ]
    },
    {
     "name": "stdout",
     "output_type": "stream",
     "text": [
      "\n",
      "[Reached max time: 96h (4d)]\n",
      "All raw contacts 1086298\n",
      "Contacts at midnight  71596\n",
      "Contacts collected by coarse-graining  23290\n",
      "Contacts in multiple days  0\n",
      "Coarse-grained contacts  1134604\n",
      "Missing contacts  0\n",
      "Asymmetric contacts  0\n"
     ]
    },
    {
     "name": "stderr",
     "output_type": "stream",
     "text": [
      "iteration.sib: INFO     adding contacts in the interval [72, 96]\n",
      "iteration.sib: INFO     number of unique contacts: 1062732\n"
     ]
    },
    {
     "name": "stdout",
     "output_type": "stream",
     "text": [
      "sib.iterate(damp=0):  2/20 3.039e-10/0.001        \n",
      "sib.iterate(damp=0.5):  0/20 3.381e-11/0.001    \n"
     ]
    },
    {
     "name": "stderr",
     "output_type": "stream",
     "text": [
      "iteration.sib: INFO     winBP: (S,I,R): (90533.7, 5.3, 0.0), seeds: 4.6, ll: -62801.6\n",
      "iteration.sib: INFO     number of tests today: 0\n",
      "iteration.sib: INFO     True  : (S,I,R): (90522.0, 17.0, 0.0)\n",
      "iteration.sib: INFO     AUC_I : 0.566\n",
      "iteration.sib: INFO     sym: 4, results test algo (S,I,R): (0,0,0), infected test random: 0/50\n",
      "iteration.sib: INFO     ...quarantining 2 guys -> got 2 infected, 11 free as birds (+2)\n"
     ]
    },
    {
     "name": "stdout",
     "output_type": "stream",
     "text": [
      "t: 120.00 | 744.00 hrs (31 d)"
     ]
    },
    {
     "name": "stderr",
     "output_type": "stream",
     "text": [
      "iteration.sib: INFO     time:4\n"
     ]
    },
    {
     "name": "stdout",
     "output_type": "stream",
     "text": [
      "\n",
      "[Reached max time: 120h (5d)]\n",
      "All raw contacts 1092416\n",
      "Contacts at midnight  71214\n",
      "Contacts collected by coarse-graining  24198\n",
      "Contacts in multiple days  0\n",
      "Coarse-grained contacts  1139432\n",
      "Missing contacts  0\n",
      "Asymmetric contacts  0\n"
     ]
    },
    {
     "name": "stderr",
     "output_type": "stream",
     "text": [
      "iteration.sib: INFO     adding contacts in the interval [96, 120]\n",
      "iteration.sib: INFO     number of unique contacts: 1068092\n"
     ]
    },
    {
     "name": "stdout",
     "output_type": "stream",
     "text": [
      "sib.iterate(damp=0):  3/20 5.313e-07/0.001    \n",
      "sib.iterate(damp=0.5):  0/20 2.777e-09/0.001    \n"
     ]
    },
    {
     "name": "stderr",
     "output_type": "stream",
     "text": [
      "iteration.sib: INFO     winBP: (S,I,R): (90531.5, 7.5, 0.0), seeds: 6.2, ll: -62823.9\n",
      "iteration.sib: INFO     number of tests today: 0\n",
      "iteration.sib: INFO     True  : (S,I,R): (90518.0, 21.0, 0.0)\n",
      "iteration.sib: INFO     AUC_I : 0.686\n",
      "iteration.sib: INFO     sym: 0, results test algo (S,I,R): (0,0,0), infected test random: 0/50\n",
      "iteration.sib: INFO     ...quarantining 0 guys -> got 0 infected, 15 free as birds (+4)\n"
     ]
    },
    {
     "name": "stdout",
     "output_type": "stream",
     "text": [
      "t: 144.00 | 744.00 hrs (31 d)"
     ]
    },
    {
     "name": "stderr",
     "output_type": "stream",
     "text": [
      "iteration.sib: INFO     time:5\n"
     ]
    },
    {
     "name": "stdout",
     "output_type": "stream",
     "text": [
      "\n",
      "[Reached max time: 144h (6d)]\n",
      "All raw contacts 1097502\n",
      "Contacts at midnight  70820\n",
      "Contacts collected by coarse-graining  24114\n",
      "Contacts in multiple days  0\n",
      "Coarse-grained contacts  1144208\n",
      "Missing contacts  0\n",
      "Asymmetric contacts  0\n"
     ]
    },
    {
     "name": "stderr",
     "output_type": "stream",
     "text": [
      "iteration.sib: INFO     adding contacts in the interval [120, 144]\n",
      "iteration.sib: INFO     number of unique contacts: 1073208\n"
     ]
    },
    {
     "name": "stdout",
     "output_type": "stream",
     "text": [
      "sib.iterate(damp=0):  2/20 1.891e-08/0.001    \n",
      "sib.iterate(damp=0.5):  0/20 7.590e-11/0.001    \n"
     ]
    },
    {
     "name": "stderr",
     "output_type": "stream",
     "text": [
      "iteration.sib: INFO     winBP: (S,I,R): (90531.4, 7.6, 0.0), seeds: 6.2, ll: -62823.9\n",
      "iteration.sib: INFO     number of tests today: 0\n",
      "iteration.sib: INFO     True  : (S,I,R): (90518.0, 21.0, 0.0)\n",
      "iteration.sib: INFO     AUC_I : 0.751\n",
      "iteration.sib: INFO     sym: 4, results test algo (S,I,R): (0,0,0), infected test random: 0/50\n",
      "iteration.sib: INFO     ...quarantining 2 guys -> got 2 infected, 13 free as birds (-2)\n"
     ]
    },
    {
     "name": "stdout",
     "output_type": "stream",
     "text": [
      "t: 168.00 | 744.00 hrs (31 d)"
     ]
    },
    {
     "name": "stderr",
     "output_type": "stream",
     "text": [
      "iteration.sib: INFO     time:6\n"
     ]
    },
    {
     "name": "stdout",
     "output_type": "stream",
     "text": [
      "\n",
      "[Reached max time: 168h (7d)]\n",
      "All raw contacts 1079764\n",
      "Contacts at midnight  68586\n",
      "Contacts collected by coarse-graining  23266\n",
      "Contacts in multiple days  0\n",
      "Coarse-grained contacts  1125084\n",
      "Missing contacts  0\n",
      "Asymmetric contacts  0\n"
     ]
    },
    {
     "name": "stderr",
     "output_type": "stream",
     "text": [
      "iteration.sib: INFO     adding contacts in the interval [144, 168]\n",
      "iteration.sib: INFO     number of unique contacts: 1056262\n"
     ]
    },
    {
     "name": "stdout",
     "output_type": "stream",
     "text": [
      "sib.iterate(damp=0):  3/20 2.565e-04/0.001        \n",
      "sib.iterate(damp=0.5):  0/20 4.165e-06/0.001    \n"
     ]
    },
    {
     "name": "stderr",
     "output_type": "stream",
     "text": [
      "iteration.sib: INFO     winBP: (S,I,R): (90529.0, 10.0, 0.0), seeds: 7.6, ll: -62845.9\n",
      "iteration.sib: INFO     number of tests today: 0\n",
      "iteration.sib: INFO     True  : (S,I,R): (90515.0, 24.0, 0.0)\n",
      "iteration.sib: INFO     AUC_I : 0.799\n",
      "iteration.sib: INFO     sym: 0, results test algo (S,I,R): (0,0,0), infected test random: 0/50\n",
      "iteration.sib: INFO     ...quarantining 0 guys -> got 0 infected, 16 free as birds (+3)\n"
     ]
    },
    {
     "name": "stdout",
     "output_type": "stream",
     "text": [
      "t: 192.00 | 744.00 hrs (31 d)"
     ]
    },
    {
     "name": "stderr",
     "output_type": "stream",
     "text": [
      "iteration.sib: INFO     time:7\n"
     ]
    },
    {
     "name": "stdout",
     "output_type": "stream",
     "text": [
      "\n",
      "[Reached max time: 192h (8d)]\n",
      "All raw contacts 1083640\n",
      "Contacts at midnight  69724\n",
      "Contacts collected by coarse-graining  23978\n",
      "Contacts in multiple days  0\n",
      "Coarse-grained contacts  1129386\n",
      "Missing contacts  0\n",
      "Asymmetric contacts  0\n"
     ]
    },
    {
     "name": "stderr",
     "output_type": "stream",
     "text": [
      "iteration.sib: INFO     adding contacts in the interval [168, 192]\n",
      "iteration.sib: INFO     number of unique contacts: 1059500\n"
     ]
    },
    {
     "name": "stdout",
     "output_type": "stream",
     "text": [
      "sib.iterate(damp=0):  2/20 6.569e-06/0.001        \n",
      "sib.iterate(damp=0.5):  0/20 1.254e-07/0.001    \n"
     ]
    },
    {
     "name": "stderr",
     "output_type": "stream",
     "text": [
      "iteration.sib: INFO     winBP: (S,I,R): (90528.9, 10.1, 0.0), seeds: 7.6, ll: -62845.9\n",
      "iteration.sib: INFO     number of tests today: 0\n",
      "iteration.sib: INFO     True  : (S,I,R): (90513.0, 26.0, 0.0)\n",
      "iteration.sib: INFO     AUC_I : 0.754\n",
      "iteration.sib: INFO     sym: 4, results test algo (S,I,R): (0,0,0), infected test random: 0/50\n",
      "iteration.sib: INFO     ...quarantining 2 guys -> got 2 infected, 16 free as birds (+0)\n"
     ]
    },
    {
     "name": "stdout",
     "output_type": "stream",
     "text": [
      "t: 216.00 | 744.00 hrs (31 d)"
     ]
    },
    {
     "name": "stderr",
     "output_type": "stream",
     "text": [
      "iteration.sib: INFO     time:8\n"
     ]
    },
    {
     "name": "stdout",
     "output_type": "stream",
     "text": [
      "\n",
      "[Reached max time: 216h (9d)]\n",
      "All raw contacts 1086070\n",
      "Contacts at midnight  72856\n",
      "Contacts collected by coarse-graining  23112\n",
      "Contacts in multiple days  0\n",
      "Coarse-grained contacts  1135814\n",
      "Missing contacts  0\n",
      "Asymmetric contacts  0\n"
     ]
    },
    {
     "name": "stderr",
     "output_type": "stream",
     "text": [
      "iteration.sib: INFO     adding contacts in the interval [192, 216]\n",
      "iteration.sib: INFO     number of unique contacts: 1062622\n"
     ]
    },
    {
     "name": "stdout",
     "output_type": "stream",
     "text": [
      "sib.iterate(damp=0):  4/20 1.276e-04/0.001    \n",
      "sib.iterate(damp=0.5):  0/20 7.025e-05/0.001    \n"
     ]
    },
    {
     "name": "stderr",
     "output_type": "stream",
     "text": [
      "iteration.sib: INFO     winBP: (S,I,R): (90526.4, 12.6, 0.0), seeds: 8.8, ll: -62867.5\n",
      "iteration.sib: INFO     number of tests today: 0\n",
      "iteration.sib: INFO     True  : (S,I,R): (90509.0, 30.0, 0.0)\n",
      "iteration.sib: INFO     AUC_I : 0.745\n",
      "iteration.sib: INFO     sym: 4, results test algo (S,I,R): (0,0,0), infected test random: 0/50\n",
      "iteration.sib: INFO     ...quarantining 2 guys -> got 2 infected, 18 free as birds (+2)\n"
     ]
    },
    {
     "name": "stdout",
     "output_type": "stream",
     "text": [
      "t: 240.00 | 744.00 hrs (31 d)"
     ]
    },
    {
     "name": "stderr",
     "output_type": "stream",
     "text": [
      "iteration.sib: INFO     time:9\n"
     ]
    },
    {
     "name": "stdout",
     "output_type": "stream",
     "text": [
      "\n",
      "[Reached max time: 240h (10d)]\n",
      "All raw contacts 1090482\n",
      "Contacts at midnight  71106\n",
      "Contacts collected by coarse-graining  22786\n",
      "Contacts in multiple days  0\n",
      "Coarse-grained contacts  1138802\n",
      "Missing contacts  0\n",
      "Asymmetric contacts  0\n"
     ]
    },
    {
     "name": "stderr",
     "output_type": "stream",
     "text": [
      "iteration.sib: INFO     adding contacts in the interval [216, 240]\n",
      "iteration.sib: INFO     number of unique contacts: 1067386\n"
     ]
    },
    {
     "name": "stdout",
     "output_type": "stream",
     "text": [
      "sib.iterate(damp=0):  8/20 2.444e-04/0.001            \n",
      "sib.iterate(damp=0.5):  0/20 1.815e-04/0.001    \n"
     ]
    },
    {
     "name": "stderr",
     "output_type": "stream",
     "text": [
      "iteration.sib: INFO     winBP: (S,I,R): (90524.0, 15.0, 0.0), seeds: 9.6, ll: -62886.8\n",
      "iteration.sib: INFO     number of tests today: 0\n",
      "iteration.sib: INFO     True  : (S,I,R): (90505.0, 34.0, 0.0)\n",
      "iteration.sib: INFO     AUC_I : 0.798\n",
      "iteration.sib: INFO     sym: 0, results test algo (S,I,R): (0,0,0), infected test random: 0/50\n",
      "iteration.sib: INFO     ...quarantining 0 guys -> got 0 infected, 22 free as birds (+4)\n"
     ]
    },
    {
     "name": "stdout",
     "output_type": "stream",
     "text": [
      "t: 264.00 | 744.00 hrs (31 d)"
     ]
    },
    {
     "name": "stderr",
     "output_type": "stream",
     "text": [
      "iteration.sib: INFO     time:10\n"
     ]
    },
    {
     "name": "stdout",
     "output_type": "stream",
     "text": [
      "\n",
      "[Reached max time: 264h (11d)]\n",
      "All raw contacts 1095362\n",
      "Contacts at midnight  72024\n",
      "Contacts collected by coarse-graining  23986\n",
      "Contacts in multiple days  0\n",
      "Coarse-grained contacts  1143400\n",
      "Missing contacts  0\n",
      "Asymmetric contacts  0\n"
     ]
    },
    {
     "name": "stderr",
     "output_type": "stream",
     "text": [
      "iteration.sib: INFO     adding contacts in the interval [240, 264]\n",
      "iteration.sib: INFO     number of unique contacts: 1071036\n"
     ]
    },
    {
     "name": "stdout",
     "output_type": "stream",
     "text": [
      "sib.iterate(damp=0):  2/20 3.784e-05/0.001        \n",
      "sib.iterate(damp=0.5):  0/20 5.057e-05/0.001    \n"
     ]
    },
    {
     "name": "stderr",
     "output_type": "stream",
     "text": [
      "iteration.sib: INFO     winBP: (S,I,R): (90523.8, 15.2, 0.0), seeds: 9.6, ll: -62885.6\n",
      "iteration.sib: INFO     number of tests today: 0\n",
      "iteration.sib: INFO     True  : (S,I,R): (90501.0, 38.0, 0.0)\n",
      "iteration.sib: INFO     AUC_I : 0.764\n",
      "iteration.sib: INFO     sym: 8, results test algo (S,I,R): (0,0,0), infected test random: 0/50\n",
      "iteration.sib: INFO     ...quarantining 4 guys -> got 4 infected, 22 free as birds (+0)\n"
     ]
    },
    {
     "name": "stdout",
     "output_type": "stream",
     "text": [
      "t: 288.00 | 744.00 hrs (31 d)"
     ]
    },
    {
     "name": "stderr",
     "output_type": "stream",
     "text": [
      "iteration.sib: INFO     time:11\n"
     ]
    },
    {
     "name": "stdout",
     "output_type": "stream",
     "text": [
      "\n",
      "[Reached max time: 288h (12d)]\n",
      "All raw contacts 1083252\n",
      "Contacts at midnight  72444\n",
      "Contacts collected by coarse-graining  22830\n",
      "Contacts in multiple days  0\n",
      "Coarse-grained contacts  1132866\n",
      "Missing contacts  0\n",
      "Asymmetric contacts  0\n"
     ]
    },
    {
     "name": "stderr",
     "output_type": "stream",
     "text": [
      "iteration.sib: INFO     adding contacts in the interval [264, 288]\n",
      "iteration.sib: INFO     number of unique contacts: 1060112\n"
     ]
    },
    {
     "name": "stdout",
     "output_type": "stream",
     "text": [
      "sib.iterate(damp=0):  19/20 9.397e-03/0.001                       \n",
      "sib.iterate(damp=0.5):  12/20 8.325e-04/0.001               \n"
     ]
    },
    {
     "name": "stderr",
     "output_type": "stream",
     "text": [
      "iteration.sib: INFO     winBP: (S,I,R): (90518.2, 20.8, 0.0), seeds: 10.6, ll: -62911.4\n",
      "iteration.sib: INFO     number of tests today: 0\n",
      "iteration.sib: INFO     True  : (S,I,R): (90499.0, 40.0, 0.0)\n",
      "iteration.sib: INFO     AUC_I : 0.820\n",
      "iteration.sib: INFO     sym: 4, results test algo (S,I,R): (0,0,0), infected test random: 0/50\n",
      "iteration.sib: INFO     ...quarantining 2 guys -> got 2 infected, 22 free as birds (+0)\n"
     ]
    },
    {
     "name": "stdout",
     "output_type": "stream",
     "text": [
      "t: 312.00 | 744.00 hrs (31 d)"
     ]
    },
    {
     "name": "stderr",
     "output_type": "stream",
     "text": [
      "iteration.sib: INFO     time:12\n"
     ]
    },
    {
     "name": "stdout",
     "output_type": "stream",
     "text": [
      "\n",
      "[Reached max time: 312h (13d)]\n",
      "All raw contacts 1089798\n",
      "Contacts at midnight  70226\n",
      "Contacts collected by coarse-graining  23870\n",
      "Contacts in multiple days  0\n",
      "Coarse-grained contacts  1136154\n",
      "Missing contacts  0\n",
      "Asymmetric contacts  0\n"
     ]
    },
    {
     "name": "stderr",
     "output_type": "stream",
     "text": [
      "iteration.sib: INFO     adding contacts in the interval [288, 312]\n",
      "iteration.sib: INFO     number of unique contacts: 1065466\n"
     ]
    },
    {
     "name": "stdout",
     "output_type": "stream",
     "text": [
      "sib.iterate(damp=0):  10/20 9.284e-04/0.001       \n",
      "sib.iterate(damp=0.5):  0/20 4.293e-04/0.001    \n"
     ]
    },
    {
     "name": "stderr",
     "output_type": "stream",
     "text": [
      "iteration.sib: INFO     winBP: (S,I,R): (90515.5, 23.4, 0.0), seeds: 11.2, ll: -62932.3\n",
      "iteration.sib: INFO     number of tests today: 0\n",
      "iteration.sib: INFO     True  : (S,I,R): (90498.0, 41.0, 0.0)\n",
      "iteration.sib: INFO     AUC_I : 0.849\n",
      "iteration.sib: INFO     sym: 2, results test algo (S,I,R): (0,0,0), infected test random: 0/50\n",
      "iteration.sib: INFO     ...quarantining 1 guys -> got 1 infected, 22 free as birds (+0)\n"
     ]
    },
    {
     "name": "stdout",
     "output_type": "stream",
     "text": [
      "t: 336.00 | 744.00 hrs (31 d)"
     ]
    },
    {
     "name": "stderr",
     "output_type": "stream",
     "text": [
      "iteration.sib: INFO     time:13\n"
     ]
    },
    {
     "name": "stdout",
     "output_type": "stream",
     "text": [
      "\n",
      "[Reached max time: 336h (14d)]\n",
      "All raw contacts 1087106\n",
      "Contacts at midnight  71346\n",
      "Contacts collected by coarse-graining  23246\n",
      "Contacts in multiple days  0\n",
      "Coarse-grained contacts  1135206\n",
      "Missing contacts  0\n",
      "Asymmetric contacts  0\n"
     ]
    },
    {
     "name": "stderr",
     "output_type": "stream",
     "text": [
      "iteration.sib: INFO     adding contacts in the interval [312, 336]\n",
      "iteration.sib: INFO     number of unique contacts: 1063344\n"
     ]
    },
    {
     "name": "stdout",
     "output_type": "stream",
     "text": [
      "sib.iterate(damp=0):  11/20 6.449e-04/0.001       \n",
      "sib.iterate(damp=0.5):  0/20 4.904e-04/0.001    \n"
     ]
    },
    {
     "name": "stderr",
     "output_type": "stream",
     "text": [
      "iteration.sib: INFO     winBP: (S,I,R): (90514.3, 24.5, 0.2), seeds: 11.2, ll: -62937.0\n",
      "iteration.sib: INFO     number of tests today: 0\n",
      "iteration.sib: INFO     True  : (S,I,R): (90491.0, 46.0, 2.0)\n",
      "iteration.sib: INFO     AUC_I : 0.802\n",
      "iteration.sib: INFO     sym: 4, results test algo (S,I,R): (0,0,0), infected test random: 0/50\n",
      "iteration.sib: INFO     ...quarantining 2 guys -> got 2 infected, 26 free as birds (+4)\n"
     ]
    },
    {
     "name": "stdout",
     "output_type": "stream",
     "text": [
      "t: 360.00 | 744.00 hrs (31 d)"
     ]
    },
    {
     "name": "stderr",
     "output_type": "stream",
     "text": [
      "iteration.sib: INFO     time:14\n"
     ]
    },
    {
     "name": "stdout",
     "output_type": "stream",
     "text": [
      "\n",
      "[Reached max time: 360h (15d)]\n",
      "All raw contacts 1091444\n",
      "Contacts at midnight  70910\n",
      "Contacts collected by coarse-graining  22980\n",
      "Contacts in multiple days  0\n",
      "Coarse-grained contacts  1139374\n",
      "Missing contacts  0\n",
      "Asymmetric contacts  0\n"
     ]
    },
    {
     "name": "stderr",
     "output_type": "stream",
     "text": [
      "iteration.sib: INFO     adding contacts in the interval [336, 360]\n",
      "iteration.sib: INFO     number of unique contacts: 1067956\n"
     ]
    },
    {
     "name": "stdout",
     "output_type": "stream",
     "text": [
      "sib.iterate(damp=0):  11/20 9.515e-04/0.001           \n",
      "sib.iterate(damp=0.5):  0/20 9.701e-04/0.001    \n"
     ]
    },
    {
     "name": "stderr",
     "output_type": "stream",
     "text": [
      "iteration.sib: INFO     winBP: (S,I,R): (90511.6, 26.8, 0.6), seeds: 11.8, ll: -62954.8\n",
      "iteration.sib: INFO     number of tests today: 0\n",
      "iteration.sib: INFO     True  : (S,I,R): (90487.0, 48.0, 4.0)\n",
      "iteration.sib: INFO     AUC_I : 0.819\n",
      "iteration.sib: INFO     sym: 2, results test algo (S,I,R): (0,0,0), infected test random: 0/50\n",
      "iteration.sib: INFO     ...quarantining 1 guys -> got 1 infected, 27 free as birds (+1)\n"
     ]
    },
    {
     "name": "stdout",
     "output_type": "stream",
     "text": [
      "t: 384.00 | 744.00 hrs (31 d)"
     ]
    },
    {
     "name": "stderr",
     "output_type": "stream",
     "text": [
      "iteration.sib: INFO     time:15\n"
     ]
    },
    {
     "name": "stdout",
     "output_type": "stream",
     "text": [
      "\n",
      "[Reached max time: 384h (16d)]\n",
      "All raw contacts 1087896\n",
      "Contacts at midnight  69584\n",
      "Contacts collected by coarse-graining  23510\n",
      "Contacts in multiple days  0\n",
      "Coarse-grained contacts  1133970\n",
      "Missing contacts  0\n",
      "Asymmetric contacts  0\n"
     ]
    },
    {
     "name": "stderr",
     "output_type": "stream",
     "text": [
      "iteration.sib: INFO     adding contacts in the interval [360, 384]\n",
      "iteration.sib: INFO     number of unique contacts: 1063936\n"
     ]
    },
    {
     "name": "stdout",
     "output_type": "stream",
     "text": [
      "sib.iterate(damp=0):  3/20 9.015e-04/0.001        \n",
      "sib.iterate(damp=0.5):  0/20 7.143e-04/0.001    \n"
     ]
    },
    {
     "name": "stderr",
     "output_type": "stream",
     "text": [
      "iteration.sib: INFO     winBP: (S,I,R): (90510.3, 27.2, 1.6), seeds: 12.2, ll: -62964.3\n",
      "iteration.sib: INFO     number of tests today: 0\n",
      "iteration.sib: INFO     True  : (S,I,R): (90479.0, 52.0, 8.0)\n",
      "iteration.sib: INFO     AUC_I : 0.819\n",
      "iteration.sib: INFO     sym: 2, results test algo (S,I,R): (0,0,0), infected test random: 0/50\n",
      "iteration.sib: INFO     ...quarantining 1 guys -> got 1 infected, 33 free as birds (+6)\n"
     ]
    },
    {
     "name": "stdout",
     "output_type": "stream",
     "text": [
      "t: 408.00 | 744.00 hrs (31 d)"
     ]
    },
    {
     "name": "stderr",
     "output_type": "stream",
     "text": [
      "iteration.sib: INFO     time:16\n"
     ]
    },
    {
     "name": "stdout",
     "output_type": "stream",
     "text": [
      "\n",
      "[Reached max time: 408h (17d)]\n",
      "All raw contacts 1083048\n",
      "Contacts at midnight  70610\n",
      "Contacts collected by coarse-graining  22946\n",
      "Contacts in multiple days  0\n",
      "Coarse-grained contacts  1130712\n",
      "Missing contacts  0\n",
      "Asymmetric contacts  0\n"
     ]
    },
    {
     "name": "stderr",
     "output_type": "stream",
     "text": [
      "iteration.sib: INFO     adding contacts in the interval [384, 408]\n",
      "iteration.sib: INFO     number of unique contacts: 1059572\n"
     ]
    },
    {
     "name": "stdout",
     "output_type": "stream",
     "text": [
      "sib.iterate(damp=0):  7/20 7.795e-04/0.001            \n",
      "sib.iterate(damp=0.5):  0/20 2.130e-04/0.001    \n"
     ]
    },
    {
     "name": "stderr",
     "output_type": "stream",
     "text": [
      "iteration.sib: INFO     winBP: (S,I,R): (90509.1, 26.7, 3.2), seeds: 12.4, ll: -62969.5\n",
      "iteration.sib: INFO     number of tests today: 0\n",
      "iteration.sib: INFO     True  : (S,I,R): (90472.0, 59.0, 8.0)\n",
      "iteration.sib: INFO     AUC_I : 0.802\n",
      "iteration.sib: INFO     sym: 4, results test algo (S,I,R): (0,0,0), infected test random: 0/50\n",
      "iteration.sib: INFO     ...quarantining 2 guys -> got 2 infected, 38 free as birds (+5)\n"
     ]
    },
    {
     "name": "stdout",
     "output_type": "stream",
     "text": [
      "t: 432.00 | 744.00 hrs (31 d)"
     ]
    },
    {
     "name": "stderr",
     "output_type": "stream",
     "text": [
      "iteration.sib: INFO     time:17\n"
     ]
    },
    {
     "name": "stdout",
     "output_type": "stream",
     "text": [
      "\n",
      "[Reached max time: 432h (18d)]\n",
      "All raw contacts 1093688\n",
      "Contacts at midnight  71670\n",
      "Contacts collected by coarse-graining  23126\n",
      "Contacts in multiple days  0\n",
      "Coarse-grained contacts  1142232\n",
      "Missing contacts  0\n",
      "Asymmetric contacts  0\n"
     ]
    },
    {
     "name": "stderr",
     "output_type": "stream",
     "text": [
      "iteration.sib: INFO     adding contacts in the interval [408, 432]\n",
      "iteration.sib: INFO     number of unique contacts: 1069862\n"
     ]
    },
    {
     "name": "stdout",
     "output_type": "stream",
     "text": [
      "sib.iterate(damp=0):  3/20 5.367e-04/0.001    \n",
      "sib.iterate(damp=0.5):  0/20 3.712e-04/0.001    \n"
     ]
    },
    {
     "name": "stderr",
     "output_type": "stream",
     "text": [
      "iteration.sib: INFO     winBP: (S,I,R): (90506.4, 27.0, 5.6), seeds: 13.1, ll: -62989.0\n",
      "iteration.sib: INFO     number of tests today: 0\n",
      "iteration.sib: INFO     True  : (S,I,R): (90462.0, 67.0, 10.0)\n",
      "iteration.sib: INFO     AUC_I : 0.796\n",
      "iteration.sib: INFO     sym: 8, results test algo (S,I,R): (0,0,0), infected test random: 0/50\n",
      "iteration.sib: INFO     ...quarantining 4 guys -> got 4 infected, 44 free as birds (+6)\n"
     ]
    },
    {
     "name": "stdout",
     "output_type": "stream",
     "text": [
      "t: 456.00 | 744.00 hrs (31 d)"
     ]
    },
    {
     "name": "stderr",
     "output_type": "stream",
     "text": [
      "iteration.sib: INFO     time:18\n"
     ]
    },
    {
     "name": "stdout",
     "output_type": "stream",
     "text": [
      "\n",
      "[Reached max time: 456h (19d)]\n",
      "All raw contacts 1090282\n",
      "Contacts at midnight  69020\n",
      "Contacts collected by coarse-graining  23088\n",
      "Contacts in multiple days  0\n",
      "Coarse-grained contacts  1136214\n",
      "Missing contacts  0\n",
      "Asymmetric contacts  0\n"
     ]
    },
    {
     "name": "stderr",
     "output_type": "stream",
     "text": [
      "iteration.sib: INFO     adding contacts in the interval [432, 456]\n",
      "iteration.sib: INFO     number of unique contacts: 1066616\n"
     ]
    },
    {
     "name": "stdout",
     "output_type": "stream",
     "text": [
      "sib.iterate(damp=0):  19/20 1.153e-03/0.001        \n",
      "sib.iterate(damp=0.5):  0/20 3.329e-04/0.001    \n"
     ]
    },
    {
     "name": "stderr",
     "output_type": "stream",
     "text": [
      "iteration.sib: INFO     winBP: (S,I,R): (90501.0, 29.5, 8.5), seeds: 13.5, ll: -63020.5\n",
      "iteration.sib: INFO     number of tests today: 0\n",
      "iteration.sib: INFO     True  : (S,I,R): (90456.0, 72.0, 11.0)\n",
      "iteration.sib: INFO     AUC_I : 0.786\n",
      "iteration.sib: INFO     sym: 8, results test algo (S,I,R): (0,0,0), infected test random: 0/50\n",
      "iteration.sib: INFO     ...quarantining 4 guys -> got 4 infected, 46 free as birds (+2)\n"
     ]
    },
    {
     "name": "stdout",
     "output_type": "stream",
     "text": [
      "t: 480.00 | 744.00 hrs (31 d)"
     ]
    },
    {
     "name": "stderr",
     "output_type": "stream",
     "text": [
      "iteration.sib: INFO     time:19\n"
     ]
    },
    {
     "name": "stdout",
     "output_type": "stream",
     "text": [
      "\n",
      "[Reached max time: 480h (20d)]\n",
      "All raw contacts 1073376\n",
      "Contacts at midnight  68092\n",
      "Contacts collected by coarse-graining  23496\n",
      "Contacts in multiple days  0\n",
      "Coarse-grained contacts  1117972\n",
      "Missing contacts  0\n",
      "Asymmetric contacts  0\n"
     ]
    },
    {
     "name": "stderr",
     "output_type": "stream",
     "text": [
      "iteration.sib: INFO     adding contacts in the interval [456, 480]\n",
      "iteration.sib: INFO     number of unique contacts: 1049168\n"
     ]
    },
    {
     "name": "stdout",
     "output_type": "stream",
     "text": [
      "sib.iterate(damp=0):  19/20 1.491e-01/0.001           \n",
      "sib.iterate(damp=0.5):  19/20 5.178e-03/0.001    \n"
     ]
    },
    {
     "name": "stderr",
     "output_type": "stream",
     "text": [
      "iteration.sib: INFO     winBP: (S,I,R): (90492.7, 34.4, 11.9), seeds: 14.3, ll: -63022.0\n",
      "iteration.sib: INFO     number of tests today: 0\n",
      "iteration.sib: INFO     True  : (S,I,R): (90446.0, 80.0, 13.0)\n",
      "iteration.sib: INFO     AUC_I : 0.783\n",
      "iteration.sib: INFO     sym: 6, results test algo (S,I,R): (0,0,0), infected test random: 0/50\n",
      "iteration.sib: INFO     ...quarantining 3 guys -> got 3 infected, 52 free as birds (+6)\n"
     ]
    },
    {
     "name": "stdout",
     "output_type": "stream",
     "text": [
      "t: 504.00 | 744.00 hrs (31 d)"
     ]
    },
    {
     "name": "stderr",
     "output_type": "stream",
     "text": [
      "iteration.sib: INFO     time:20\n"
     ]
    },
    {
     "name": "stdout",
     "output_type": "stream",
     "text": [
      "\n",
      "[Reached max time: 504h (21d)]\n",
      "All raw contacts 1103074\n",
      "Contacts at midnight  69274\n",
      "Contacts collected by coarse-graining  23920\n",
      "Contacts in multiple days  0\n",
      "Coarse-grained contacts  1148428\n",
      "Missing contacts  0\n",
      "Asymmetric contacts  0\n"
     ]
    },
    {
     "name": "stderr",
     "output_type": "stream",
     "text": [
      "iteration.sib: INFO     adding contacts in the interval [480, 504]\n",
      "iteration.sib: INFO     number of unique contacts: 1078312\n"
     ]
    },
    {
     "name": "stdout",
     "output_type": "stream",
     "text": [
      "sib.iterate(damp=0):  19/20 4.813e-01/0.001    \n",
      "sib.iterate(damp=0.5):  19/20 3.660e-03/0.001    \n"
     ]
    },
    {
     "name": "stderr",
     "output_type": "stream",
     "text": [
      "iteration.sib: INFO     winBP: (S,I,R): (90488.1, 35.6, 15.3), seeds: 14.7, ll: -63065.3\n",
      "iteration.sib: INFO     number of tests today: 0\n",
      "iteration.sib: INFO     True  : (S,I,R): (90431.0, 94.0, 14.0)\n",
      "iteration.sib: INFO     AUC_I : 0.797\n",
      "iteration.sib: INFO     sym: 6, results test algo (S,I,R): (0,0,0), infected test random: 0/50\n",
      "iteration.sib: INFO     ...quarantining 3 guys -> got 3 infected, 63 free as birds (+11)\n"
     ]
    },
    {
     "name": "stdout",
     "output_type": "stream",
     "text": [
      "t: 528.00 | 744.00 hrs (31 d)\n",
      "[Reached max time: 528h (22d)]\n"
     ]
    },
    {
     "name": "stderr",
     "output_type": "stream",
     "text": [
      "iteration.sib: INFO     time:21\n"
     ]
    },
    {
     "name": "stdout",
     "output_type": "stream",
     "text": [
      "All raw contacts 1079950\n",
      "Contacts at midnight  70672\n",
      "Contacts collected by coarse-graining  23502\n",
      "Contacts in multiple days  0\n",
      "Coarse-grained contacts  1127120\n",
      "Missing contacts  0\n",
      "Asymmetric contacts  0\n"
     ]
    },
    {
     "name": "stderr",
     "output_type": "stream",
     "text": [
      "iteration.sib: INFO     adding contacts in the interval [504, 528]\n",
      "iteration.sib: INFO     number of unique contacts: 1055536\n"
     ]
    },
    {
     "name": "stdout",
     "output_type": "stream",
     "text": [
      "...adjust prob_i0 and prob_r0\n",
      "...drop first time and reset observations\n",
      "pI at intial time: 0.9999950000239625\n",
      "sib.iterate(damp=0):  19/20 2.750e-01/0.001    \n",
      "sib.iterate(damp=0.5):  19/20 2.543e-02/0.001    \n"
     ]
    },
    {
     "name": "stderr",
     "output_type": "stream",
     "text": [
      "iteration.sib: INFO     winBP: (S,I,R): (90481.5, 38.9, 18.7), seeds: 16.1, ll: -100251.7\n",
      "iteration.sib: INFO     number of tests today: 0\n",
      "iteration.sib: INFO     True  : (S,I,R): (90419.0, 105.0, 15.0)\n",
      "iteration.sib: INFO     AUC_I : 0.804\n",
      "iteration.sib: INFO     sym: 20, results test algo (S,I,R): (0,0,0), infected test random: 2/50\n",
      "iteration.sib: INFO     ...quarantining 11 guys -> got 11 infected, 64 free as birds (+1)\n"
     ]
    },
    {
     "name": "stdout",
     "output_type": "stream",
     "text": [
      "t: 552.00 | 744.00 hrs (31 d)\n",
      "[Reached max time: 552h (23d)]\n"
     ]
    },
    {
     "name": "stderr",
     "output_type": "stream",
     "text": [
      "iteration.sib: INFO     time:22\n"
     ]
    },
    {
     "name": "stdout",
     "output_type": "stream",
     "text": [
      "All raw contacts 1085386\n",
      "Contacts at midnight  72044\n",
      "Contacts collected by coarse-graining  23674\n",
      "Contacts in multiple days  0\n",
      "Coarse-grained contacts  1133756\n",
      "Missing contacts  0\n",
      "Asymmetric contacts  0\n"
     ]
    },
    {
     "name": "stderr",
     "output_type": "stream",
     "text": [
      "iteration.sib: INFO     adding contacts in the interval [528, 552]\n",
      "iteration.sib: INFO     number of unique contacts: 1060524\n"
     ]
    },
    {
     "name": "stdout",
     "output_type": "stream",
     "text": [
      "...adjust prob_i0 and prob_r0\n",
      "...drop first time and reset observations\n",
      "pI at intial time: 1.0901805291525184\n",
      "sib.iterate(damp=0):  19/20 9.954e-01/0.001                           \n",
      "sib.iterate(damp=0.5):  19/20 1.014e-01/0.001    \n"
     ]
    },
    {
     "name": "stderr",
     "output_type": "stream",
     "text": [
      "iteration.sib: INFO     winBP: (S,I,R): (90465.9, 52.8, 20.3), seeds: 15.3, ll: -99132.9\n",
      "iteration.sib: INFO     number of tests today: 0\n",
      "iteration.sib: INFO     True  : (S,I,R): (90398.0, 123.0, 18.0)\n",
      "iteration.sib: INFO     AUC_I : 0.789\n",
      "iteration.sib: INFO     sym: 16, results test algo (S,I,R): (0,0,0), infected test random: 0/50\n",
      "iteration.sib: INFO     ...quarantining 8 guys -> got 8 infected, 77 free as birds (+13)\n"
     ]
    },
    {
     "name": "stdout",
     "output_type": "stream",
     "text": [
      "t: 576.00 | 744.00 hrs (31 d)"
     ]
    },
    {
     "name": "stderr",
     "output_type": "stream",
     "text": [
      "iteration.sib: INFO     time:23\n"
     ]
    },
    {
     "name": "stdout",
     "output_type": "stream",
     "text": [
      "\n",
      "[Reached max time: 576h (24d)]\n",
      "All raw contacts 1105608\n",
      "Contacts at midnight  70926\n",
      "Contacts collected by coarse-graining  23962\n",
      "Contacts in multiple days  0\n",
      "Coarse-grained contacts  1152572\n",
      "Missing contacts  0\n",
      "Asymmetric contacts  0\n"
     ]
    },
    {
     "name": "stderr",
     "output_type": "stream",
     "text": [
      "iteration.sib: INFO     adding contacts in the interval [552, 576]\n",
      "iteration.sib: INFO     number of unique contacts: 1080230\n"
     ]
    },
    {
     "name": "stdout",
     "output_type": "stream",
     "text": [
      "...adjust prob_i0 and prob_r0\n",
      "...drop first time and reset observations\n",
      "pI at intial time: 4.1980684850091325\n",
      "sib.iterate(damp=0):  19/20 9.477e-01/0.001                                       \n",
      "sib.iterate(damp=0.5):  19/20 1.281e-01/0.001           \n"
     ]
    },
    {
     "name": "stderr",
     "output_type": "stream",
     "text": [
      "iteration.sib: INFO     winBP: (S,I,R): (90450.8, 62.5, 25.7), seeds: 17.9, ll: -99383.5\n",
      "iteration.sib: INFO     number of tests today: 0\n",
      "iteration.sib: INFO     True  : (S,I,R): (90372.0, 148.0, 19.0)\n",
      "iteration.sib: INFO     AUC_I : 0.796\n",
      "iteration.sib: INFO     sym: 8, results test algo (S,I,R): (0,0,0), infected test random: 0/50\n",
      "iteration.sib: INFO     ...quarantining 4 guys -> got 4 infected, 98 free as birds (+21)\n"
     ]
    },
    {
     "name": "stdout",
     "output_type": "stream",
     "text": [
      "t: 600.00 | 744.00 hrs (31 d)"
     ]
    },
    {
     "name": "stderr",
     "output_type": "stream",
     "text": [
      "iteration.sib: INFO     time:24\n"
     ]
    },
    {
     "name": "stdout",
     "output_type": "stream",
     "text": [
      "\n",
      "[Reached max time: 600h (25d)]\n",
      "All raw contacts 1080322\n",
      "Contacts at midnight  68686\n",
      "Contacts collected by coarse-graining  22776\n",
      "Contacts in multiple days  0\n",
      "Coarse-grained contacts  1126232\n",
      "Missing contacts  0\n",
      "Asymmetric contacts  0\n"
     ]
    },
    {
     "name": "stderr",
     "output_type": "stream",
     "text": [
      "iteration.sib: INFO     adding contacts in the interval [576, 600]\n",
      "iteration.sib: INFO     number of unique contacts: 1056306\n"
     ]
    },
    {
     "name": "stdout",
     "output_type": "stream",
     "text": [
      "...adjust prob_i0 and prob_r0\n",
      "...drop first time and reset observations\n",
      "pI at intial time: 5.2955836021127345\n",
      "sib.iterate(damp=0):  19/20 7.581e-01/0.001        \n",
      "sib.iterate(damp=0.5):  19/20 3.169e-02/0.001    \n"
     ]
    },
    {
     "name": "stderr",
     "output_type": "stream",
     "text": [
      "iteration.sib: INFO     winBP: (S,I,R): (90446.7, 64.4, 27.8), seeds: 18.8, ll: -100292.5\n",
      "iteration.sib: INFO     number of tests today: 0\n",
      "iteration.sib: INFO     True  : (S,I,R): (90356.0, 161.0, 22.0)\n",
      "iteration.sib: INFO     AUC_I : 0.792\n",
      "iteration.sib: INFO     sym: 12, results test algo (S,I,R): (0,0,0), infected test random: 0/50\n",
      "iteration.sib: INFO     ...quarantining 6 guys -> got 6 infected, 106 free as birds (+8)\n"
     ]
    },
    {
     "name": "stdout",
     "output_type": "stream",
     "text": [
      "t: 624.00 | 744.00 hrs (31 d)\n",
      "[Reached max time: 624h (26d)]\n"
     ]
    },
    {
     "name": "stderr",
     "output_type": "stream",
     "text": [
      "iteration.sib: INFO     time:25\n"
     ]
    },
    {
     "name": "stdout",
     "output_type": "stream",
     "text": [
      "All raw contacts 1082972\n",
      "Contacts at midnight  67958\n",
      "Contacts collected by coarse-graining  23566\n",
      "Contacts in multiple days  0\n",
      "Coarse-grained contacts  1127364\n",
      "Missing contacts  0\n",
      "Asymmetric contacts  0\n"
     ]
    },
    {
     "name": "stderr",
     "output_type": "stream",
     "text": [
      "iteration.sib: INFO     adding contacts in the interval [600, 624]\n",
      "iteration.sib: INFO     number of unique contacts: 1057462\n"
     ]
    },
    {
     "name": "stdout",
     "output_type": "stream",
     "text": [
      "...adjust prob_i0 and prob_r0\n",
      "...drop first time and reset observations\n",
      "pI at intial time: 7.460870014751038\n",
      "sib.iterate(damp=0):  19/20 6.144e-01/0.001                               \n",
      "sib.iterate(damp=0.5):  19/20 3.911e-02/0.001    \n"
     ]
    },
    {
     "name": "stderr",
     "output_type": "stream",
     "text": [
      "iteration.sib: INFO     winBP: (S,I,R): (90437.2, 69.8, 32.0), seeds: 22.1, ll: -98028.8\n",
      "iteration.sib: INFO     number of tests today: 0\n",
      "iteration.sib: INFO     True  : (S,I,R): (90323.0, 189.0, 27.0)\n",
      "iteration.sib: INFO     AUC_I : 0.778\n",
      "iteration.sib: INFO     sym: 14, results test algo (S,I,R): (0,0,0), infected test random: 0/50\n",
      "iteration.sib: INFO     ...quarantining 7 guys -> got 7 infected, 131 free as birds (+25)\n"
     ]
    },
    {
     "name": "stdout",
     "output_type": "stream",
     "text": [
      "t: 648.00 | 744.00 hrs (31 d)\n",
      "[Reached max time: 648h (27d)]\n"
     ]
    },
    {
     "name": "stderr",
     "output_type": "stream",
     "text": [
      "iteration.sib: INFO     time:26\n"
     ]
    },
    {
     "name": "stdout",
     "output_type": "stream",
     "text": [
      "All raw contacts 1089110\n",
      "Contacts at midnight  70874\n",
      "Contacts collected by coarse-graining  23118\n",
      "Contacts in multiple days  0\n",
      "Coarse-grained contacts  1136866\n",
      "Missing contacts  0\n",
      "Asymmetric contacts  0\n"
     ]
    },
    {
     "name": "stderr",
     "output_type": "stream",
     "text": [
      "iteration.sib: INFO     adding contacts in the interval [624, 648]\n",
      "iteration.sib: INFO     number of unique contacts: 1064330\n"
     ]
    },
    {
     "name": "stdout",
     "output_type": "stream",
     "text": [
      "...adjust prob_i0 and prob_r0\n",
      "...drop first time and reset observations\n",
      "pI at intial time: 7.572291578496975\n",
      "sib.iterate(damp=0):  19/20 8.874e-01/0.001        \n",
      "sib.iterate(damp=0.5):  19/20 1.597e-02/0.001    \n"
     ]
    },
    {
     "name": "stderr",
     "output_type": "stream",
     "text": [
      "iteration.sib: INFO     winBP: (S,I,R): (90428.7, 76.2, 34.1), seeds: 22.0, ll: -99936.5\n",
      "iteration.sib: INFO     number of tests today: 0\n",
      "iteration.sib: INFO     True  : (S,I,R): (90271.0, 238.0, 30.0)\n",
      "iteration.sib: INFO     AUC_I : 0.750\n",
      "iteration.sib: INFO     sym: 22, results test algo (S,I,R): (0,0,0), infected test random: 2/50\n",
      "iteration.sib: INFO     ...quarantining 12 guys -> got 12 infected, 171 free as birds (+40)\n"
     ]
    },
    {
     "name": "stdout",
     "output_type": "stream",
     "text": [
      "t: 672.00 | 744.00 hrs (31 d)\n",
      "[Reached max time: 672h (28d)]\n"
     ]
    },
    {
     "name": "stderr",
     "output_type": "stream",
     "text": [
      "iteration.sib: INFO     time:27\n"
     ]
    },
    {
     "name": "stdout",
     "output_type": "stream",
     "text": [
      "All raw contacts 1093720\n",
      "Contacts at midnight  71098\n",
      "Contacts collected by coarse-graining  22750\n",
      "Contacts in multiple days  0\n",
      "Coarse-grained contacts  1142068\n",
      "Missing contacts  0\n",
      "Asymmetric contacts  0\n"
     ]
    },
    {
     "name": "stderr",
     "output_type": "stream",
     "text": [
      "iteration.sib: INFO     adding contacts in the interval [648, 672]\n",
      "iteration.sib: INFO     number of unique contacts: 1068644\n"
     ]
    },
    {
     "name": "stdout",
     "output_type": "stream",
     "text": [
      "...adjust prob_i0 and prob_r0\n",
      "...drop first time and reset observations\n",
      "pI at intial time: 9.963285579793267\n",
      "sib.iterate(damp=0):  19/20 8.210e-01/0.001       \n",
      "sib.iterate(damp=0):  19/20 4.785e-01/0.001                     \n",
      "sib.iterate(damp=0.5):  19/20 6.960e-02/0.001       \n"
     ]
    },
    {
     "name": "stderr",
     "output_type": "stream",
     "text": [
      "iteration.sib: INFO     winBP: (S,I,R): (90393.0, 102.3, 43.7), seeds: 27.0, ll: -101920.2\n",
      "iteration.sib: INFO     number of tests today: 0\n",
      "iteration.sib: INFO     True  : (S,I,R): (90167.0, 340.0, 32.0)\n",
      "iteration.sib: INFO     AUC_I : 0.741\n",
      "iteration.sib: INFO     sym: 26, results test algo (S,I,R): (0,0,0), infected test random: 0/50\n",
      "iteration.sib: INFO     ...quarantining 13 guys -> got 13 infected, 250 free as birds (+41)\n"
     ]
    },
    {
     "name": "stdout",
     "output_type": "stream",
     "text": [
      "t: 720.00 | 744.00 hrs (31 d)\n",
      "[Reached max time: 720h (30d)]\n"
     ]
    },
    {
     "name": "stderr",
     "output_type": "stream",
     "text": [
      "iteration.sib: INFO     time:29\n"
     ]
    },
    {
     "name": "stdout",
     "output_type": "stream",
     "text": [
      "All raw contacts 1078186\n",
      "Contacts at midnight  69954\n",
      "Contacts collected by coarse-graining  22864\n",
      "Contacts in multiple days  0\n",
      "Coarse-grained contacts  1125276\n",
      "Missing contacts  0\n",
      "Asymmetric contacts  0\n"
     ]
    },
    {
     "name": "stderr",
     "output_type": "stream",
     "text": [
      "iteration.sib: INFO     adding contacts in the interval [696, 720]\n",
      "iteration.sib: INFO     number of unique contacts: 1053218\n"
     ]
    },
    {
     "name": "stdout",
     "output_type": "stream",
     "text": [
      "...adjust prob_i0 and prob_r0\n",
      "...drop first time and reset observations\n",
      "pI at intial time: 12.57980582637078\n",
      "sib.iterate(damp=0):  19/20 2.300e-01/0.001                           \n",
      "sib.iterate(damp=0.5):  19/20 7.528e-02/0.001                       \n"
     ]
    },
    {
     "name": "stderr",
     "output_type": "stream",
     "text": [
      "iteration.sib: INFO     winBP: (S,I,R): (90374.4, 114.9, 49.7), seeds: 32.0, ll: -99683.3\n",
      "iteration.sib: INFO     number of tests today: 0\n",
      "iteration.sib: INFO     True  : (S,I,R): (90105.0, 401.0, 33.0)\n",
      "iteration.sib: INFO     AUC_I : 0.745\n",
      "iteration.sib: INFO     sym: 30, results test algo (S,I,R): (0,0,0), infected test random: 0/50\n",
      "iteration.sib: INFO     ...quarantining 15 guys -> got 15 infected, 296 free as birds (+46)\n"
     ]
    },
    {
     "name": "stdout",
     "output_type": "stream",
     "text": [
      "t: 743.77 | 744.00 hrs (31 d)"
     ]
    },
    {
     "name": "stderr",
     "output_type": "stream",
     "text": [
      "iteration.sib: INFO     \n",
      "observation-based inference algorithm starts now\n",
      "\n",
      "iteration.sib: INFO     time:30\n"
     ]
    },
    {
     "name": "stdout",
     "output_type": "stream",
     "text": [
      "All raw contacts 974550\n",
      "Contacts at midnight  34758\n",
      "Contacts collected by coarse-graining  19354\n",
      "Contacts in multiple days  0\n",
      "Coarse-grained contacts  989954\n",
      "Missing contacts  0\n",
      "Asymmetric contacts  0\n"
     ]
    },
    {
     "name": "stderr",
     "output_type": "stream",
     "text": [
      "iteration.sib: INFO     adding contacts in the interval [720, 744]\n",
      "iteration.sib: INFO     number of unique contacts: 952324\n"
     ]
    },
    {
     "name": "stdout",
     "output_type": "stream",
     "text": [
      "...adjust prob_i0 and prob_r0\n",
      "...drop first time and reset observations\n",
      "pI at intial time: 15.028702371338218\n",
      "sib.iterate(damp=0):  19/20 6.262e-01/0.001                           \n",
      "sib.iterate(damp=0.5):  19/20 2.322e-02/0.001                       \n"
     ]
    },
    {
     "name": "stderr",
     "output_type": "stream",
     "text": [
      "iteration.sib: INFO     winBP: (S,I,R): (90347.5, 130.1, 61.4), seeds: 39.9, ll: -99346.6\n",
      "iteration.sib: INFO     number of tests today: 300\n",
      "iteration.sib: INFO     True  : (S,I,R): (90008.0, 495.0, 36.0)\n",
      "iteration.sib: INFO     AUC_I : 0.740\n",
      "iteration.sib: INFO     sym: 42, results test algo (S,I,R): (249,46,5), infected test random: 0/50\n",
      "iteration.sib: INFO     ...quarantining 44 guys -> got 44 infected, 347 free as birds (+51)\n"
     ]
    },
    {
     "name": "stdout",
     "output_type": "stream",
     "text": [
      "Time  14162.912455320358\n"
     ]
    }
   ],
   "source": [
    "ress = {}\n",
    "for num_test_algo in [300]: #number of test per day by ranking\n",
    "    for seed in [0]:\n",
    "        print(num_test_algo, seed)\n",
    "        for s in list(rankers.keys()):\n",
    "            data = {\"algo\":s}\n",
    "            if s== \"no_intervention\":\n",
    "                    res_s = loop_mtpp.free_mtpp(mob,\n",
    "                    country  = country,\n",
    "                    beta = beta,\n",
    "                    T = T,\n",
    "                    seed=seed,\n",
    "                    logger = logging.getLogger(f\"iteration.{s}\"),\n",
    "                    data = data,\n",
    "                    initial_counts = n_seeds,\n",
    "                    name_file_res = s + f\"_N_{N}_T_{T}_obs_{num_test_algo}_sym_obs_{fraction_sym_obs}_seed_{seed}\",\n",
    "                    output_dir = output_dir,\n",
    "                     )\n",
    "            else:\n",
    "                    res_s = loop_mtpp.loop_mtpp(mob,\n",
    "                    rankers[s],\n",
    "                    country  = country,\n",
    "                    T = T,\n",
    "                    seed=seed,\n",
    "                    logger = logging.getLogger(f\"iteration.{s}\"),\n",
    "                    data = data,\n",
    "                    initial_steps = initial_steps, \n",
    "                    num_test_random = num_test_random,\n",
    "                    num_test_algo = num_test_algo,\n",
    "                    fraction_sym_obs = fraction_sym_obs,\n",
    "                    initial_counts = n_seeds,\n",
    "                    beta = beta,\n",
    "                    test_HH = test_HH,\n",
    "                    quarantine_HH = quarantine_HH,\n",
    "                    name_file_res = s + f\"_N_{N}_T_{T}_obs_{num_test_algo}_sym_obs_{fraction_sym_obs}_seed_{seed}\",\n",
    "                    output_dir = output_dir,\n",
    "                    save_every_iter = 1,\n",
    "                    adoption_fraction = adoption_fraction,\n",
    "                    probability_th = probability_th,\n",
    "                    adapt_th = adapt_th,\n",
    "                    fp_rate = fp_rate,\n",
    "                    fn_rate = fn_rate\n",
    "                 )\n",
    "            ress[s] = res_s    \n",
    "        del res_s\n"
   ]
  },
  {
   "cell_type": "code",
   "execution_count": 6,
   "metadata": {},
   "outputs": [
    {
     "data": {
      "image/png": "[encoded data removed]",
      "text/plain": [
       "<Figure size 1800x360 with 5 Axes>"
      ]
     },
     "metadata": {
      "needs_background": "light"
     },
     "output_type": "display_data"
    }
   ],
   "source": [
    "import matplotlib.pyplot as plt\n",
    "fig, axs = plt.subplots(1, 5, figsize=(25, 5))\n",
    "to_plot = ['I', 'infected_free', 'num_quarantined', \"q_algo\", \"n_test_algo\"]\n",
    "for s in ress.keys():\n",
    "    for il, l in enumerate(to_plot):\n",
    "        if s != \"no_intervention\":\n",
    "            axs[il].plot(range(T), ress[s][l], label=s)\n",
    "            if l != \"aurI\":\n",
    "                axs[il].set_yscale(\"log\")\n",
    "                axs[il].vlines(initial_steps, ymin=1, ymax=10**4,\n",
    "                               linestyle=\"--\", alpha=0.5, color=\"black\")\n",
    "            else:\n",
    "                axs[il].vlines(initial_steps, ymin=0, ymax=1,\n",
    "                               linestyle=\"--\", alpha=0.5, color=\"black\")\n",
    "\n",
    "            axs[il].set_title(l, fontsize=12)\n",
    "    axs[0].legend(loc='upper left')\n",
    "\n",
    "#fig.suptitle(f\"num test algo {num_test_algo} - adoption_fraction {adoption_fraction}\")\n",
    "fig.show()\n"
   ]
  },
  {
   "cell_type": "code",
   "execution_count": 7,
   "metadata": {},
   "outputs": [],
   "source": [
    "import pandas as pd\n",
    "\n",
    "filename = f\"sib_N_{N}_T_{T}_obs_{num_test_algo}_sym_obs_{fraction_sym_obs}_seed_{seed}_states.pkl\"\n",
    "\n",
    "object = pd.read_pickle(output_dir + filename)\n",
    "#object['transmissions']"
   ]
  },
  {
   "cell_type": "code",
   "execution_count": 13,
   "metadata": {},
   "outputs": [],
   "source": [
    "x, y = object[\"ROC\"][30]"
   ]
  },
  {
   "cell_type": "code",
   "execution_count": 14,
   "metadata": {},
   "outputs": [
    {
     "data": {
      "text/plain": [
       "[<matplotlib.lines.Line2D at 0x7f2162c65490>]"
      ]
     },
     "execution_count": 14,
     "metadata": {},
     "output_type": "execute_result"
    },
    {
     "data": {
      "image/png": "[encoded data removed]",
      "text/plain": [
       "<Figure size 432x288 with 1 Axes>"
      ]
     },
     "metadata": {
      "needs_background": "light"
     },
     "output_type": "display_data"
    }
   ],
   "source": [
    "plt.plot(x,y)"
   ]
  },
  {
   "cell_type": "code",
   "execution_count": 15,
   "metadata": {},
   "outputs": [],
   "source": [
    "prec, recall = object[\"PPV\"][30]"
   ]
  },
  {
   "cell_type": "code",
   "execution_count": 16,
   "metadata": {},
   "outputs": [
    {
     "data": {
      "text/plain": [
       "90392"
      ]
     },
     "execution_count": 16,
     "metadata": {},
     "output_type": "execute_result"
    }
   ],
   "source": [
    "len(recall)"
   ]
  },
  {
   "cell_type": "code",
   "execution_count": 17,
   "metadata": {},
   "outputs": [
    {
     "data": {
      "text/plain": [
       "[<matplotlib.lines.Line2D at 0x7f213f68f950>]"
      ]
     },
     "execution_count": 17,
     "metadata": {},
     "output_type": "execute_result"
    },
    {
     "data": {
      "image/png": "[encoded data removed]",
      "text/plain": [
       "<Figure size 432x288 with 1 Axes>"
      ]
     },
     "metadata": {
      "needs_background": "light"
     },
     "output_type": "display_data"
    }
   ],
   "source": [
    "plt.plot(recall,prec)"
   ]
  }
 ],
 "metadata": {
  "interpreter": {
   "hash": "d4d1e4263499bec80672ea0156c357c1ee493ec2b1c70f0acce89fc37c4a6abe"
  },
  "kernelspec": {
   "display_name": "Python 3",
   "language": "python",
   "name": "python3"
  },
  "language_info": {
   "codemirror_mode": {
    "name": "ipython",
    "version": 3
   },
   "file_extension": ".py",
   "mimetype": "text/x-python",
   "name": "python",
   "nbconvert_exporter": "python",
   "pygments_lexer": "ipython3",
   "version": "3.7.9"
  }
 },
 "nbformat": 4,
 "nbformat_minor": 4
}
