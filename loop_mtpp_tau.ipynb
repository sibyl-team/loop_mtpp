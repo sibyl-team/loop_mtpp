{
 "cells": [
  {
   "cell_type": "code",
   "execution_count": 1,
   "metadata": {},
   "outputs": [
    {
     "name": "stdout",
     "output_type": "stream",
     "text": [
      "Log setup complete\n"
     ]
    }
   ],
   "source": [
    "import sys\n",
    "#sys.path.insert(0,'./src/')\n",
    "#simulator_path = \"../covid_de/sim/\" ##change simulatio path here \n",
    "sys.path.insert(0,'src/')\n",
    "sys.path.insert(0, '../sib/')\n",
    "simulator_path = \"../simulator/sim/\" ##change simulatio path here \n",
    "sys.path.insert(0, '../simulator/sim/lib/') # we need distributions.py\n",
    "sys.path.insert(0,simulator_path)\n",
    "sys.path.insert(0, \"../epidemic_mitigation/src/\") # correct rankers\n",
    "\n",
    "from pathlib import Path\n",
    "import numpy as np, pandas as pd, matplotlib.pyplot as plt\n",
    "import json, log, logging, loop_mtpp\n",
    "from importlib import reload\n",
    "import imp\n",
    "from math import exp\n",
    "import pickle\n",
    "#sys.path.insert(0,'./src/loop_ranker')\n",
    "from lib.mobilitysim import MobilitySimulator\n",
    "import loop_mtpp\n",
    "from mtpp_utils import contacts_cg\n",
    "from distributions import CovidDistributions\n",
    "\n",
    "\n",
    "\n",
    "#logging\n",
    "data_path = '../simulator/sim/lib/mobility/'\n",
    "\n",
    "output_dir = \"output_Tubingen_pop1_site1/\"\n",
    "fold_out = Path(output_dir)\n",
    "if not fold_out.exists():\n",
    "    fold_out.mkdir(parents=True)\n",
    "\n",
    "reload(log)\n",
    "logger = log.setup_logger()"
   ]
  },
  {
   "cell_type": "markdown",
   "metadata": {},
   "source": [
    "### Mobility simulation"
   ]
  },
  {
   "cell_type": "code",
   "execution_count": 2,
   "metadata": {
    "scrolled": true
   },
   "outputs": [
    {
     "name": "stdout",
     "output_type": "stream",
     "text": [
      "Simulate mobility for 120.00 time units... "
     ]
    }
   ],
   "source": [
    "beta = 0.05 # from paper\n",
    "country = 'GER'\n",
    "distr = CovidDistributions(country)\n",
    "#with open(data_path + 'Isle_of_Wight_settings_pop10_site5.pk', 'rb') as fp:\n",
    "with open(data_path + 'Tubingen_settings_pop1_site1.pk', 'rb') as fp:\n",
    "    mob_kwargs = pickle.load(fp)\n",
    "\n",
    "mob_kwargs[\"delta\"] = 0.2554120904376099\n",
    "T = 5\n",
    "seed_mob = 2\n",
    "seed = 1\n",
    "t_unit = 24\n",
    "t_res = 0.25 # drop contacts with a duration < t_res (in hours)\n",
    "max_time = T * t_unit  \n",
    "mob = MobilitySimulator(**mob_kwargs)\n",
    "mob.verbose = True\n",
    "out = mob.simulate(max_time=max_time, seed=seed_mob)\n",
    "N = mob.num_people \n",
    "#print(N)"
   ]
  },
  {
   "cell_type": "code",
   "execution_count": 3,
   "metadata": {
    "scrolled": true
   },
   "outputs": [],
   "source": [
    "#contacts_df = pd.DataFrame(contacts_cg(mob, t_res, t_unit, 0, np.inf, first_filter = False),columns = ['i','j','t','deltat'])"
   ]
  },
  {
   "cell_type": "code",
   "execution_count": 4,
   "metadata": {},
   "outputs": [],
   "source": [
    "#contacts_df = contacts_df.sort_values(by=[\"t\",\"i\",\"j\"])"
   ]
  },
  {
   "cell_type": "markdown",
   "metadata": {},
   "source": [
    "## Set testing and quarantine rules"
   ]
  },
  {
   "cell_type": "code",
   "execution_count": 5,
   "metadata": {},
   "outputs": [],
   "source": [
    "#n_indiv=np.ceil(mob_kwargs['num_people_unscaled']/mob_kwargs['downsample_pop'])\n",
    "n_seeds = {'expo': 3, 'iasy':4,'ipre':5} # select initial infected seeds\n",
    "num_test_random = 0 #number of random tests per day\n",
    "fraction_sym_obs = 0.5 #fraction of Symptomatic tested positive\n",
    "initial_steps = 2 #starting time of intervention\n",
    "delta_days = 1 # intervention every delta_days days\n",
    "#assert initial_steps % delta_days == 0\n",
    "test_HH = False\n",
    "quarantine_HH = True\n",
    "adoption_fraction = 1.0\n",
    "probability_th = 0.00\n",
    "adapt_th = True"
   ]
  },
  {
   "cell_type": "markdown",
   "metadata": {},
   "source": [
    "## Set the inference algorithm class"
   ]
  },
  {
   "cell_type": "code",
   "execution_count": 6,
   "metadata": {},
   "outputs": [
    {
     "data": {
      "text/plain": [
       "'\\nrankers[\"winbp21_tau0\"] = winbp_prob0_rank.WinBPProb0Ranker(\\n                 params = sib.Params(\\n                                 prob_i = sib.Cached(sib.Scaled(sib.PDF(sib.Gamma(k=5.76, mu=0.96)), scale=0.25), T+1),\\n                                 prob_r = sib.Cached(sib.Gamma(k = 10, mu = 1/1.7452974337097158), T+1),\\n                                 pseed = pseed,\\n                                 psus = psus,\\n                                 fp_rate = fp_rate,\\n                                 fn_rate = fn_rate,\\n                                 pautoinf = pautoinf),\\n                 maxit0 = 20,\\n                 maxit1 = 20,\\n                 tol = 1e-3,\\n                 memory_decay = 1e-5,\\n                 window_length = 21,\\n                 tau=0\\n)\\n\\n\\nrankers[\"winbp21_uninf\"] = winbp_prob0_rank.WinBPProb0Ranker(\\n                 params = sib.Params(\\n                                 prob_i = sib.Uniform(1.0), \\n                                 prob_r = sib.Exponential(0.1), \\n                                 pseed = pseed,\\n                                 psus = psus,\\n                                 fp_rate = fp_rate,\\n                                 fn_rate = fn_rate,\\n                                 pautoinf = pautoinf),\\n                 maxit0 = 20,\\n                 maxit1 = 20,\\n                 tol = 1e-3,\\n                 memory_decay = 1e-5,\\n                 window_length = 21,\\n                 tau=7\\n)\\n\\n'"
      ]
     },
     "execution_count": 6,
     "metadata": {},
     "output_type": "execute_result"
    }
   ],
   "source": [
    "import sib,  scipy\n",
    "\n",
    "from rankers import sib_rank, dotd_rank, mean_field_rank, tracing_rank\n",
    "from tqdm.notebook import tqdm\n",
    "from scipy.stats import gamma\n",
    "sib.set_num_threads(6)\n",
    "\n",
    "import matplotlib.pyplot as plt\n",
    "\n",
    "mu = 1/12\n",
    "prob_seed = 1/N\n",
    "prob_sus = 0.5\n",
    "pseed = prob_seed / (2 - prob_seed)\n",
    "psus = prob_sus * (1 - pseed)\n",
    "pautoinf = 1e-6\n",
    "fp_rate = 0.0\n",
    "fn_rate = 0.0\n",
    "\n",
    "rankers = {}\n",
    "#rankers[\"dotd\"] = dotd_rank.DotdRanker()\n",
    "\n",
    "\"\"\"\n",
    "rankers[\"MF\"] = mean_field_rank.MeanFieldRanker(\n",
    "                tau = 5,\n",
    "                delta = 10,\n",
    "                mu = mu,\n",
    "                lamb = 1.0\n",
    "                )\n",
    "                \n",
    "\n",
    "rankers[\"tracing\"] = tracing_rank.TracingRanker(\n",
    "                 tau=5,\n",
    "                 lamb=1.0\n",
    ")\n",
    "\n",
    "\n",
    "rankers[\"greedy\"] = greedy_rank.GreedyRanker(\n",
    "                 include_S = True,\n",
    "                tau=10)\n",
    "\n",
    "\n",
    "\n",
    "rankers[\"winbp20prob0\"] = winbp_prob0_rank.WinBPProb0Ranker(\n",
    "                 params = sib.Params(\n",
    "                                 prob_i = sib.Uniform(1.0),\n",
    "                                 prob_r = sib.Exponential(mu=mu),\n",
    "                                 #prob_i = sib.PriorDiscrete(list(0.25 * abm_utils.gamma_pdf_array(T+1,6,2.5))),\n",
    "                                 #prob_r = sib.PriorDiscrete(list(scipy.stats.gamma.sf(range(T+1), 10., scale=1.7452974337097158))),\n",
    "                                 #prob_i = sib.Uniform(0.014),\n",
    "                                 #prob_r = sib.Gamma(k = 10, mu = 1/1.7452974337097158),\n",
    "                                 pseed = pseed,\n",
    "                                 psus = psus,\n",
    "                                 fp_rate = fp_rate,\n",
    "                                 fn_rate = fn_rate,\n",
    "                                 pautoinf = pautoinf),\n",
    "                 maxit0 = 30,\n",
    "                 maxit1 = 30,\n",
    "                 damp0 = 0.5,\n",
    "                 damp1 = 0.9,\n",
    "                 tol = 1e-3,\n",
    "                 memory_decay = 1e-2,\n",
    "                 window_length = 20\n",
    ")\n",
    "\n",
    "\n",
    "rankers[\"no_intervention\"] = None\n",
    "\"\"\"\n",
    "k_rec_gamma = 62.484380808876004\n",
    "scale_rec_gamma = 0.2992112296058585\n",
    "t0 = distr.incubation_mean_of_lognormal - distr.median_infectious_without_symptom\n",
    "alpha = 2.0\n",
    "tau =  7\n",
    "\n",
    "rankers[\"sib\"] = sib_rank.SibRanker(\n",
    "                 params = sib.Params(\n",
    "                                 #prob_i = sib.Cached(sib.Scaled(sib.PDF(sib.Gamma(k=5.76, mu=0.96)), scale=0.25), T+1),\n",
    "                                 #prob_r = sib.Cached(sib.Gamma(k = 10, mu = 1/1.7452974337097158), T+1),\n",
    "                                 prob_i = sib.PiecewiseLinear(sib.RealParams(list(scipy.special.expit(alpha*(range(T+1) -t0*np.ones(T+1)))))), \n",
    "                                 prob_r = sib.PiecewiseLinear(sib.RealParams(list(scipy.stats.gamma.sf(range(T+1), k_rec_gamma, scale=scale_rec_gamma)))),\n",
    "                                 pseed = pseed,\n",
    "                                 psus = psus,\n",
    "                                 fp_rate = fp_rate,\n",
    "                                 fn_rate = fn_rate,\n",
    "                                 pautoinf = pautoinf),\n",
    "                 maxit0 = 20,\n",
    "                 maxit1 = 20,\n",
    "                 tol = 1e-3,\n",
    "                 memory_decay = 1e-5,\n",
    "                 window_length = 21,\n",
    "                 tau=tau\n",
    ")\n",
    "\n",
    "\"\"\"\n",
    "rankers[\"winbp21_tau0\"] = winbp_prob0_rank.WinBPProb0Ranker(\n",
    "                 params = sib.Params(\n",
    "                                 prob_i = sib.Cached(sib.Scaled(sib.PDF(sib.Gamma(k=5.76, mu=0.96)), scale=0.25), T+1),\n",
    "                                 prob_r = sib.Cached(sib.Gamma(k = 10, mu = 1/1.7452974337097158), T+1),\n",
    "                                 pseed = pseed,\n",
    "                                 psus = psus,\n",
    "                                 fp_rate = fp_rate,\n",
    "                                 fn_rate = fn_rate,\n",
    "                                 pautoinf = pautoinf),\n",
    "                 maxit0 = 20,\n",
    "                 maxit1 = 20,\n",
    "                 tol = 1e-3,\n",
    "                 memory_decay = 1e-5,\n",
    "                 window_length = 21,\n",
    "                 tau=0\n",
    ")\n",
    "\n",
    "\n",
    "rankers[\"winbp21_uninf\"] = winbp_prob0_rank.WinBPProb0Ranker(\n",
    "                 params = sib.Params(\n",
    "                                 prob_i = sib.Uniform(1.0), \n",
    "                                 prob_r = sib.Exponential(0.1), \n",
    "                                 pseed = pseed,\n",
    "                                 psus = psus,\n",
    "                                 fp_rate = fp_rate,\n",
    "                                 fn_rate = fn_rate,\n",
    "                                 pautoinf = pautoinf),\n",
    "                 maxit0 = 20,\n",
    "                 maxit1 = 20,\n",
    "                 tol = 1e-3,\n",
    "                 memory_decay = 1e-5,\n",
    "                 window_length = 21,\n",
    "                 tau=7\n",
    ")\n",
    "\n",
    "\"\"\""
   ]
  },
  {
   "cell_type": "code",
   "execution_count": 7,
   "metadata": {},
   "outputs": [
    {
     "data": {
      "text/plain": [
       "0.2554120904376099"
      ]
     },
     "execution_count": 7,
     "metadata": {},
     "output_type": "execute_result"
    }
   ],
   "source": [
    "mob.delta"
   ]
  },
  {
   "cell_type": "code",
   "execution_count": 8,
   "metadata": {
    "scrolled": true
   },
   "outputs": [
    {
     "name": "stdout",
     "output_type": "stream",
     "text": [
      "300 0\n",
      "Starting with guys:  {'expo': [2529, 14544, 47560], 'iasy': [23291, 62890, 63479, 90427], 'ipre': [19479, 72336, 49207, 59093, 82846]}\n",
      "t: 24.00 | 120.00 hrs (5 d)"
     ]
    },
    {
     "name": "stderr",
     "output_type": "stream",
     "text": [
      "iteration.sib: INFO     time:0\n"
     ]
    },
    {
     "name": "stdout",
     "output_type": "stream",
     "text": [
      "\n",
      "[Reached max time: 24h (1d)]\n",
      "All raw contacts 990322\n",
      "Contacts at midnight  35418\n",
      "Contacts collected by coarse-graining  19636\n",
      "Contacts in multiple days  0\n",
      "Coarse-grained contacts  1006104\n",
      "Missing contacts  0\n",
      "Asymmetric contacts  0\n"
     ]
    },
    {
     "name": "stderr",
     "output_type": "stream",
     "text": [
      "numexpr.utils: INFO     Note: detected 72 virtual cores but NumExpr set to maximum of 64, check \"NUMEXPR_MAX_THREADS\" environment variable.\n",
      "numexpr.utils: INFO     Note: NumExpr detected 72 cores but \"NUMEXPR_MAX_THREADS\" not set, so enforcing safe limit of 8.\n",
      "numexpr.utils: INFO     NumExpr defaulting to 8 threads.\n",
      "iteration.sib: INFO     adding contacts in the interval [0, 24]\n",
      "iteration.sib: INFO     number of unique contacts: 970686\n"
     ]
    },
    {
     "name": "stdout",
     "output_type": "stream",
     "text": [
      "sib.iterate(damp=0):  2/20 1.110e-15/0.001        \n",
      "sib.iterate(damp=0.5):  0/20 7.772e-16/0.001    \n"
     ]
    },
    {
     "name": "stderr",
     "output_type": "stream",
     "text": [
      "iteration.sib: INFO     winBP: (S,I,R): (90538.0, 1.0, 0.0), seeds: 1.0, ll: -62756.4\n",
      "iteration.sib: INFO     number of tests today: 0\n",
      "iteration.sib: INFO     True  : (S,I,R): (90527.0, 12.0, 0.0)\n",
      "iteration.sib: INFO     AUR_I : 0.462, prec100: 0, prec(1% of 90540): 0.00, prec5%: 0.00\n",
      "iteration.sib: INFO     sym: 0, results test algo (S,I,R): (0,0,0), infected test random: 0/0\n",
      "iteration.sib: INFO     ...quarantining 0 guys -> got 0 infected, 12 free as birds (+12)\n"
     ]
    },
    {
     "name": "stdout",
     "output_type": "stream",
     "text": [
      "t: 48.00 | 120.00 hrs (5 d)"
     ]
    },
    {
     "name": "stderr",
     "output_type": "stream",
     "text": [
      "iteration.sib: INFO     time:1\n"
     ]
    },
    {
     "name": "stdout",
     "output_type": "stream",
     "text": [
      "\n",
      "[Reached max time: 48h (2d)]\n",
      "All raw contacts 1079942\n",
      "Contacts at midnight  71042\n",
      "Contacts collected by coarse-graining  22620\n",
      "Contacts in multiple days  0\n",
      "Coarse-grained contacts  1128364\n",
      "Missing contacts  0\n",
      "Asymmetric contacts  0\n"
     ]
    },
    {
     "name": "stderr",
     "output_type": "stream",
     "text": [
      "iteration.sib: INFO     adding contacts in the interval [24, 48]\n",
      "iteration.sib: INFO     number of unique contacts: 1057322\n"
     ]
    },
    {
     "name": "stdout",
     "output_type": "stream",
     "text": [
      "sib.iterate(damp=0):  2/20 1.442e-12/0.001        \n",
      "sib.iterate(damp=0.5):  0/20 1.998e-15/0.001    \n"
     ]
    },
    {
     "name": "stderr",
     "output_type": "stream",
     "text": [
      "iteration.sib: INFO     winBP: (S,I,R): (90537.9, 1.1, 0.0), seeds: 1.0, ll: -62756.4\n",
      "iteration.sib: INFO     number of tests today: 0\n",
      "iteration.sib: INFO     True  : (S,I,R): (90524.0, 15.0, 0.0)\n",
      "iteration.sib: INFO     AUR_I : 0.431, prec100: 0, prec(1% of 90540): 0.00, prec5%: 0.00\n",
      "iteration.sib: INFO     sym: 1, results test algo (S,I,R): (0,0,0), infected test random: 0/0\n",
      "iteration.sib: INFO     ...quarantining 2 guys -> got 1 infected, 14 free as birds (+2)\n"
     ]
    },
    {
     "name": "stdout",
     "output_type": "stream",
     "text": [
      "t: 72.00 | 120.00 hrs (5 d)"
     ]
    },
    {
     "name": "stderr",
     "output_type": "stream",
     "text": [
      "iteration.sib: INFO     \n",
      "observation-based inference algorithm starts now\n",
      "\n",
      "iteration.sib: INFO     time:2\n"
     ]
    },
    {
     "name": "stdout",
     "output_type": "stream",
     "text": [
      "\n",
      "[Reached max time: 72h (3d)]\n",
      "All raw contacts 1094472\n",
      "Contacts at midnight  68930\n",
      "Contacts collected by coarse-graining  23316\n",
      "Contacts in multiple days  0\n",
      "Coarse-grained contacts  1140086\n",
      "Missing contacts  0\n",
      "Asymmetric contacts  0\n"
     ]
    },
    {
     "name": "stderr",
     "output_type": "stream",
     "text": [
      "iteration.sib: INFO     adding contacts in the interval [48, 72]\n",
      "iteration.sib: INFO     number of unique contacts: 1071156\n"
     ]
    },
    {
     "name": "stdout",
     "output_type": "stream",
     "text": [
      "sib.iterate(damp=0):  2/20 1.221e-11/0.001            \n",
      "sib.iterate(damp=0.5):  0/20 2.704e-15/0.001    \n"
     ]
    },
    {
     "name": "stderr",
     "output_type": "stream",
     "text": [
      "iteration.sib: INFO     winBP: (S,I,R): (90536.8, 2.2, 0.0), seeds: 1.9, ll: -62767.7\n",
      "iteration.sib: INFO     number of tests today: 2\n",
      "iteration.sib: INFO     True  : (S,I,R): (90523.0, 16.0, 0.0)\n",
      "iteration.sib: INFO     AUR_I : 0.504, prec100: 0, prec(1% of 90538): 0.00, prec5%: 0.00\n",
      "iteration.sib: INFO     sym: 1, results test algo (S,I,R): (2,0,0), infected test random: 0/0\n",
      "iteration.sib: INFO     ...quarantining 3 guys -> got 1 infected, 14 free as birds (+0)\n"
     ]
    },
    {
     "name": "stdout",
     "output_type": "stream",
     "text": [
      "t: 96.00 | 120.00 hrs (5 d)"
     ]
    },
    {
     "name": "stderr",
     "output_type": "stream",
     "text": [
      "iteration.sib: INFO     time:3\n"
     ]
    },
    {
     "name": "stdout",
     "output_type": "stream",
     "text": [
      "\n",
      "[Reached max time: 96h (4d)]\n",
      "All raw contacts 1078168\n",
      "Contacts at midnight  67594\n",
      "Contacts collected by coarse-graining  23578\n",
      "Contacts in multiple days  0\n",
      "Coarse-grained contacts  1122184\n",
      "Missing contacts  0\n",
      "Asymmetric contacts  0\n"
     ]
    },
    {
     "name": "stderr",
     "output_type": "stream",
     "text": [
      "iteration.sib: INFO     adding contacts in the interval [72, 96]\n",
      "iteration.sib: INFO     number of unique contacts: 1054400\n"
     ]
    },
    {
     "name": "stdout",
     "output_type": "stream",
     "text": [
      "sib.iterate(damp=0):  2/20 3.160e-10/0.001        \n",
      "sib.iterate(damp=0.5):  0/20 1.311e-13/0.001    \n"
     ]
    },
    {
     "name": "stderr",
     "output_type": "stream",
     "text": [
      "iteration.sib: INFO     winBP: (S,I,R): (90535.7, 3.3, 0.0), seeds: 2.8, ll: -62778.9\n",
      "iteration.sib: INFO     number of tests today: 1\n",
      "iteration.sib: INFO     True  : (S,I,R): (90523.0, 16.0, 0.0)\n",
      "iteration.sib: INFO     AUR_I : 0.704, prec100: 0, prec(1% of 90535): 0.00, prec5%: 0.00\n",
      "iteration.sib: INFO     sym: 2, results test algo (S,I,R): (1,0,0), infected test random: 0/0\n",
      "iteration.sib: INFO     ...quarantining 7 guys -> got 3 infected, 11 free as birds (-3)\n"
     ]
    },
    {
     "name": "stdout",
     "output_type": "stream",
     "text": [
      "t: 119.90 | 120.00 hrs (5 d)"
     ]
    },
    {
     "name": "stderr",
     "output_type": "stream",
     "text": [
      "iteration.sib: INFO     time:4\n"
     ]
    },
    {
     "name": "stdout",
     "output_type": "stream",
     "text": [
      "All raw contacts 984892\n",
      "Contacts at midnight  34288\n",
      "Contacts collected by coarse-graining  18868\n",
      "Contacts in multiple days  0\n",
      "Coarse-grained contacts  1000312\n",
      "Missing contacts  0\n",
      "Asymmetric contacts  0\n"
     ]
    },
    {
     "name": "stderr",
     "output_type": "stream",
     "text": [
      "iteration.sib: INFO     adding contacts in the interval [96, 120]\n",
      "iteration.sib: INFO     number of unique contacts: 965782\n"
     ]
    },
    {
     "name": "stdout",
     "output_type": "stream",
     "text": [
      "sib.iterate(damp=0):  2/20 1.097e-05/0.001        \n",
      "sib.iterate(damp=0.5):  0/20 8.957e-07/0.001    \n"
     ]
    },
    {
     "name": "stderr",
     "output_type": "stream",
     "text": [
      "iteration.sib: INFO     winBP: (S,I,R): (90532.5, 6.5, 0.0), seeds: 5.1, ll: -62812.4\n",
      "iteration.sib: INFO     number of tests today: 6\n",
      "iteration.sib: INFO     True  : (S,I,R): (90518.0, 21.0, 0.0)\n",
      "iteration.sib: INFO     AUR_I : 0.600, prec100: 3, prec(1% of 90528): 0.00, prec5%: 0.00\n",
      "iteration.sib: INFO     sym: 1, results test algo (S,I,R): (6,0,0), infected test random: 0/0\n",
      "iteration.sib: INFO     ...quarantining 5 guys -> got 1 infected, 15 free as birds (+4)\n"
     ]
    },
    {
     "name": "stdout",
     "output_type": "stream",
     "text": [
      "Time  219.5606129169464\n"
     ]
    }
   ],
   "source": [
    "ress = {}\n",
    "for num_test_algo in [300]: #number of test per day by ranking\n",
    "    for seed in [0]:\n",
    "        print(num_test_algo, seed)\n",
    "        for s in list(rankers.keys()):\n",
    "            data = {\"algo\":s}\n",
    "            if s== \"no_intervention\":\n",
    "                    res_s = loop_mtpp.free_mtpp(mob,\n",
    "                    country  = country,\n",
    "                    beta = beta,\n",
    "                    T = T,\n",
    "                    seed=seed,\n",
    "                    logger = logging.getLogger(f\"iteration.{s}\"),\n",
    "                    data = data,\n",
    "                    initial_counts = n_seeds,\n",
    "                    name_file_res = s + f\"_N_{N}_T_{T}_obs_{num_test_algo}_sym_obs_{fraction_sym_obs}_seed_{seed}\",\n",
    "                    output_dir = output_dir,\n",
    "                     )\n",
    "            else:\n",
    "                    res_s = loop_mtpp.loop_mtpp(mob,\n",
    "                    rankers[s],\n",
    "                    country  = country,\n",
    "                    T = T,\n",
    "                    seed=seed,\n",
    "                    logger = logging.getLogger(f\"iteration.{s}\"),\n",
    "                    data = data,\n",
    "                    initial_steps = initial_steps, \n",
    "                    num_test_random = num_test_random,\n",
    "                    num_test_algo = num_test_algo,\n",
    "                    fraction_sym_obs = fraction_sym_obs,\n",
    "                    initial_counts = n_seeds,\n",
    "                    beta = beta,\n",
    "                    test_HH = test_HH,\n",
    "                    quarantine_HH = quarantine_HH,\n",
    "                    name_file_res = s + f\"_N_{N}_T_{T}_obs_{num_test_algo}_sym_obs_{fraction_sym_obs}_seed_{seed}\",\n",
    "                    output_dir = output_dir,\n",
    "                    save_every_iter = 1,\n",
    "                    adoption_fraction = adoption_fraction,\n",
    "                    probability_th = probability_th,\n",
    "                    adapt_th = adapt_th,\n",
    "                    fp_rate = fp_rate,\n",
    "                    fn_rate = fn_rate\n",
    "                 )\n",
    "            ress[s] = res_s    \n",
    "        del res_s\n"
   ]
  },
  {
   "cell_type": "code",
   "execution_count": 9,
   "metadata": {},
   "outputs": [
    {
     "data": {
      "image/png": "[encoded data removed]",
      "text/plain": [
       "<Figure size 1800x360 with 5 Axes>"
      ]
     },
     "metadata": {
      "needs_background": "light"
     },
     "output_type": "display_data"
    }
   ],
   "source": [
    "import matplotlib.pyplot as plt\n",
    "fig,axs = plt.subplots(1,5,figsize = (25,5))\n",
    "to_plot = ['I','infected_free','num_quarantined', \"q_algo\", \"n_test_algo\"]\n",
    "for s in ress.keys():    \n",
    "    for il,l in enumerate(to_plot):\n",
    "        if s != \"no_intervention\":\n",
    "            axs[il].plot(range(T),ress[s][l],label = s)\n",
    "            if l!= \"aurI\":\n",
    "                axs[il].set_yscale (\"log\") \n",
    "                axs[il].vlines(initial_steps,ymin = 1,ymax = 10**4,linestyle = \"--\",alpha = 0.5, color = \"black\")\n",
    "            else:\n",
    "                axs[il].vlines(initial_steps,ymin = 0,ymax = 1,linestyle = \"--\",alpha = 0.5, color = \"black\")\n",
    "            \n",
    "            axs[il].set_title(l,fontsize = 12)\n",
    "    axs[0].legend(loc = 'upper left')\n",
    "    \n",
    "#fig.suptitle(f\"num test algo {num_test_algo} - adoption_fraction {adoption_fraction}\")\n",
    "fig.show()\n",
    "\n",
    "\n"
   ]
  },
  {
   "cell_type": "code",
   "execution_count": 10,
   "metadata": {},
   "outputs": [
    {
     "data": {
      "text/plain": [
       "0"
      ]
     },
     "execution_count": 10,
     "metadata": {},
     "output_type": "execute_result"
    }
   ],
   "source": [
    "len(ress['sib']['tested_algo'][0])"
   ]
  },
  {
   "cell_type": "code",
   "execution_count": 11,
   "metadata": {},
   "outputs": [
    {
     "ename": "IndexError",
     "evalue": "list index out of range",
     "output_type": "error",
     "traceback": [
      "\u001b[0;31m---------------------------------------------------------------------------\u001b[0m",
      "\u001b[0;31mIndexError\u001b[0m                                Traceback (most recent call last)",
      "\u001b[0;32m<ipython-input-11-215b9cfbca78>\u001b[0m in \u001b[0;36m<module>\u001b[0;34m\u001b[0m\n\u001b[1;32m      1\u001b[0m \u001b[0ma\u001b[0m \u001b[0;34m=\u001b[0m \u001b[0mress\u001b[0m\u001b[0;34m[\u001b[0m\u001b[0;34m'sib'\u001b[0m\u001b[0;34m]\u001b[0m\u001b[0;34m[\u001b[0m\u001b[0;34m'tested_algo'\u001b[0m\u001b[0;34m]\u001b[0m\u001b[0;34m[\u001b[0m\u001b[0;36m0\u001b[0m\u001b[0;34m]\u001b[0m\u001b[0;34m\u001b[0m\u001b[0;34m\u001b[0m\u001b[0m\n\u001b[0;32m----> 2\u001b[0;31m \u001b[0mprint\u001b[0m\u001b[0;34m(\u001b[0m\u001b[0ma\u001b[0m\u001b[0;34m[\u001b[0m\u001b[0;36m10899\u001b[0m\u001b[0;34m]\u001b[0m\u001b[0;34m)\u001b[0m\u001b[0;34m\u001b[0m\u001b[0;34m\u001b[0m\u001b[0m\n\u001b[0m",
      "\u001b[0;31mIndexError\u001b[0m: list index out of range"
     ]
    }
   ],
   "source": [
    "a = ress['sib']['tested_algo'][0]\n",
    "print(a[10899])"
   ]
  },
  {
   "cell_type": "code",
   "execution_count": null,
   "metadata": {},
   "outputs": [],
   "source": [
    "df = pd.DataFrame.from_records(ress[\"sib\"])\n",
    "df.to_csv(\"prova.gz\")"
   ]
  },
  {
   "cell_type": "code",
   "execution_count": null,
   "metadata": {},
   "outputs": [],
   "source": [
    "res = pd.read_csv(\"prova.gz\", usecols = [\"tested_algo\"], dtype = int)"
   ]
  },
  {
   "cell_type": "code",
   "execution_count": null,
   "metadata": {},
   "outputs": [],
   "source": []
  },
  {
   "cell_type": "code",
   "execution_count": null,
   "metadata": {},
   "outputs": [],
   "source": []
  }
 ],
 "metadata": {
  "interpreter": {
   "hash": "d4d1e4263499bec80672ea0156c357c1ee493ec2b1c70f0acce89fc37c4a6abe"
  },
  "kernelspec": {
   "display_name": "Python 3",
   "language": "python",
   "name": "python3"
  },
  "language_info": {
   "codemirror_mode": {
    "name": "ipython",
    "version": 3
   },
   "file_extension": ".py",
   "mimetype": "text/x-python",
   "name": "python",
   "nbconvert_exporter": "python",
   "pygments_lexer": "ipython3",
   "version": "3.7.9"
  }
 },
 "nbformat": 4,
 "nbformat_minor": 4
}
