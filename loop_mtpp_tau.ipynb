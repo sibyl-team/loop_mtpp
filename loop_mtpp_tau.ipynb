{
 "cells": [
  {
   "cell_type": "code",
   "execution_count": 1,
   "metadata": {},
   "outputs": [
    {
     "name": "stdout",
     "output_type": "stream",
     "text": [
      "Log setup complete\n"
     ]
    }
   ],
   "source": [
    "### To install sib as a python package look at the sib documentation \n",
    "\n",
    "import sys\n",
    "#sys.path.insert(0,'./src/')\n",
    "#simulator_path = \"../covid_de/sim/\" ##change simulatio path here \n",
    "sys.path.insert(0,'src/')\n",
    "simulator_path = \"../simulator/sim/\" ##change simulatio path here \n",
    "sys.path.insert(0, '../simulator/sim/lib/') # we need distributions.py\n",
    "sys.path.insert(0,simulator_path)\n",
    "sys.path.insert(0, \"../epidemic_mitigation/src/\") # correct rankers\n",
    "\n",
    "from pathlib import Path\n",
    "import numpy as np, pandas as pd, matplotlib.pyplot as plt\n",
    "import json, log, logging, loop_mtpp\n",
    "from importlib import reload\n",
    "import imp\n",
    "from math import exp\n",
    "import pickle\n",
    "#sys.path.insert(0,'./src/loop_ranker')\n",
    "from lib.mobilitysim import MobilitySimulator\n",
    "import loop_mtpp\n",
    "from mtpp_utils import contacts_cg\n",
    "from distributions import CovidDistributions\n",
    "\n",
    "\n",
    "\n",
    "#logging\n",
    "data_path = '../simulator/sim/lib/mobility/'\n",
    "\n",
    "output_dir = \"output_Tubingen_pop1_site1/\"\n",
    "fold_out = Path(output_dir)\n",
    "if not fold_out.exists():\n",
    "    fold_out.mkdir(parents=True)\n",
    "\n",
    "reload(log)\n",
    "logger = log.setup_logger()"
   ]
  },
  {
   "cell_type": "markdown",
   "metadata": {},
   "source": [
    "### Mobility simulation"
   ]
  },
  {
   "cell_type": "code",
   "execution_count": 2,
   "metadata": {
    "scrolled": true
   },
   "outputs": [
    {
     "name": "stdout",
     "output_type": "stream",
     "text": [
      "Simulate mobility for 1200.00 time units... "
     ]
    }
   ],
   "source": [
    "beta = 0.05  # from paper\n",
    "country = 'GER'\n",
    "distr = CovidDistributions(country)\n",
    "# with open(data_path + 'Isle_of_Wight_settings_pop10_site5.pk', 'rb') as fp:\n",
    "with open(data_path + 'Tubingen_settings_100_20.pk', 'rb') as fp:\n",
    "    mob_kwargs = pickle.load(fp)\n",
    "\n",
    "mob_kwargs[\"delta\"] = 0.2554120904376099\n",
    "T = 50\n",
    "seed_mob = 2\n",
    "t_unit = 24\n",
    "t_res = 0.25  # drop contacts with a duration < t_res (in hours)\n",
    "max_time = T * t_unit\n",
    "mob = MobilitySimulator(**mob_kwargs)\n",
    "mob.verbose = True\n",
    "out = mob.simulate(max_time=max_time, seed=seed_mob)\n",
    "N = mob.num_people\n",
    "# print(N)\n"
   ]
  },
  {
   "cell_type": "markdown",
   "metadata": {},
   "source": [
    "## Set testing and quarantine rules"
   ]
  },
  {
   "cell_type": "code",
   "execution_count": 3,
   "metadata": {},
   "outputs": [],
   "source": [
    "# n_indiv=np.ceil(mob_kwargs['num_people_unscaled']/mob_kwargs['downsample_pop'])\n",
    "n_seeds = {'expo': 3, 'iasy': 4, 'ipre': 5}  # select initial infected seeds\n",
    "num_test_random = 0  # number of random tests per day\n",
    "fraction_sym_obs = 0.05  # fraction of Symptomatic tested positive\n",
    "initial_steps = 5  # starting time of intervention\n",
    "delta_days = 1  # intervention every delta_days days\n",
    "test_HH = False\n",
    "quarantine_HH = True\n",
    "adoption_fraction = 1.0\n",
    "probability_th = 0.0005\n",
    "adapt_th = False\n",
    "\n"
   ]
  },
  {
   "cell_type": "markdown",
   "metadata": {},
   "source": [
    "## Set the inference algorithm class"
   ]
  },
  {
   "cell_type": "code",
   "execution_count": 4,
   "metadata": {},
   "outputs": [],
   "source": [
    "import matplotlib.pyplot as plt\n",
    "import sib\n",
    "import scipy\n",
    "\n",
    "from rankers import sib_rank, greedy_rank, mean_field_rank\n",
    "from tqdm.notebook import tqdm\n",
    "from scipy.stats import gamma\n",
    "sib.set_num_threads(6)\n",
    "\n",
    "\n",
    "mu = 1/12\n",
    "prob_seed = 1/N\n",
    "prob_sus = 0.5\n",
    "pseed = prob_seed / (2 - prob_seed)\n",
    "psus = prob_sus * (1 - pseed)\n",
    "pautoinf = 1e-6\n",
    "fp_rate = 0.0\n",
    "fn_rate = 0.285\n",
    "\n",
    "rankers = {}\n",
    "\n",
    "\n",
    "rankers[\"MF\"] = mean_field_rank.MeanFieldRanker(\n",
    "                tau = 5,\n",
    "                delta = 10,\n",
    "                mu = mu,\n",
    "                lamb = 1.0\n",
    "                )\n",
    "                \n",
    "rankers[\"greedy\"] = greedy_rank.GreedyRanker(\n",
    "                 include_S = True,\n",
    "                tau=10)\n",
    "\n",
    "rankers[\"no_intervention\"] = None\n",
    "\n",
    "k_rec_gamma = 62.484380808876004\n",
    "scale_rec_gamma = 0.2992112296058585\n",
    "t0 = distr.incubation_mean_of_lognormal - \\\n",
    "    distr.median_infectious_without_symptom\n",
    "alpha = 2.0\n",
    "tau = 7\n",
    "\n",
    "prob_i = sib.PiecewiseLinear(sib.RealParams(\n",
    "    list(scipy.special.expit(alpha*(range(T+1) - t0*np.ones(T+1))))))\n",
    "prob_r = sib.PiecewiseLinear(sib.RealParams(\n",
    "    list(scipy.stats.gamma.sf(range(T+1), k_rec_gamma, scale=scale_rec_gamma))))\n",
    "\n",
    "rankers[\"sib\"] = sib_rank.SibRanker(\n",
    "    params=sib.Params(\n",
    "        prob_i=prob_i,\n",
    "        prob_r=prob_r,\n",
    "        pseed=pseed,\n",
    "        psus=psus,\n",
    "        pautoinf=pautoinf),\n",
    "    maxit0=20,\n",
    "    maxit1=20,\n",
    "    tol=1e-3,\n",
    "    memory_decay=1e-5,\n",
    "    window_length=21,\n",
    "    tau=tau,\n",
    "    fnr=fn_rate,\n",
    "    fpr=fp_rate\n",
    "\n",
    ")\n",
    "\n",
    "\n"
   ]
  },
  {
   "cell_type": "code",
   "execution_count": 5,
   "metadata": {
    "scrolled": true
   },
   "outputs": [
    {
     "name": "stdout",
     "output_type": "stream",
     "text": [
      "300 42\n",
      "Starting with guys:  {'expo': [70, 457, 218], 'iasy': [250, 39, 855, 486], 'ipre': [110, 72, 86, 695, 448]}\n",
      "t: 24.00 | 1200.00 hrs (50 d)"
     ]
    },
    {
     "name": "stderr",
     "output_type": "stream",
     "text": [
      "iteration.MF: INFO     time:0\n",
      "iteration.MF: INFO     adding contacts in the interval [0, 24]\n",
      "iteration.MF: INFO     number of unique contacts: 2094\n",
      "iteration.MF: INFO     number of tests today: 0\n",
      "iteration.MF: INFO     True  : (S,I,R): (892.0, 12.0, 0.0)\n",
      "iteration.MF: INFO     AUR_I : 0.652, prec100: 4, prec(1% of 905): 0.00, prec5%: 0.02\n",
      "iteration.MF: INFO     sym: 0, results test algo (S,I,R): (0,0,0), infected test random: 0/0\n",
      "iteration.MF: INFO     ...quarantining 0 guys -> got 0 infected, 12 free as birds (+12)\n"
     ]
    },
    {
     "name": "stdout",
     "output_type": "stream",
     "text": [
      "\n",
      "[Reached max time: 24h (1d)]\n",
      "All raw contacts 2114\n",
      "Contacts at midnight  46\n",
      "Contacts collected by coarse-graining  20\n",
      "Contacts in multiple days  0\n",
      "Coarse-grained contacts  2140\n",
      "Missing contacts  0\n",
      "Asymmetric contacts  0\n",
      "t: 48.00 | 1200.00 hrs (50 d)"
     ]
    },
    {
     "name": "stderr",
     "output_type": "stream",
     "text": [
      "iteration.MF: INFO     time:1\n",
      "iteration.MF: INFO     adding contacts in the interval [24, 48]\n",
      "iteration.MF: INFO     number of unique contacts: 2096\n"
     ]
    },
    {
     "name": "stdout",
     "output_type": "stream",
     "text": [
      "\n",
      "[Reached max time: 48h (2d)]\n",
      "All raw contacts 2140\n",
      "Contacts at midnight  112\n",
      "Contacts collected by coarse-graining  44\n",
      "Contacts in multiple days  0\n",
      "Coarse-grained contacts  2208\n",
      "Missing contacts  0\n",
      "Asymmetric contacts  0\n"
     ]
    },
    {
     "name": "stderr",
     "output_type": "stream",
     "text": [
      "iteration.MF: INFO     number of tests today: 0\n",
      "iteration.MF: INFO     True  : (S,I,R): (892.0, 12.0, 0.0)\n",
      "iteration.MF: INFO     AUR_I : 0.652, prec100: 4, prec(1% of 905): 0.00, prec5%: 0.02\n",
      "iteration.MF: INFO     sym: 0, results test algo (S,I,R): (0,0,0), infected test random: 0/0\n",
      "iteration.MF: INFO     ...quarantining 0 guys -> got 0 infected, 12 free as birds (+0)\n"
     ]
    },
    {
     "name": "stdout",
     "output_type": "stream",
     "text": [
      "t: 72.00 | 1200.00 hrs (50 d)"
     ]
    },
    {
     "name": "stderr",
     "output_type": "stream",
     "text": [
      "iteration.MF: INFO     time:2\n",
      "iteration.MF: INFO     adding contacts in the interval [48, 72]\n",
      "iteration.MF: INFO     number of unique contacts: 2268\n"
     ]
    },
    {
     "name": "stdout",
     "output_type": "stream",
     "text": [
      "\n",
      "[Reached max time: 72h (3d)]\n",
      "All raw contacts 2340\n",
      "Contacts at midnight  144\n",
      "Contacts collected by coarse-graining  72\n",
      "Contacts in multiple days  0\n",
      "Coarse-grained contacts  2412\n",
      "Missing contacts  0\n",
      "Asymmetric contacts  0\n"
     ]
    },
    {
     "name": "stderr",
     "output_type": "stream",
     "text": [
      "iteration.MF: INFO     number of tests today: 0\n",
      "iteration.MF: INFO     True  : (S,I,R): (892.0, 12.0, 0.0)\n",
      "iteration.MF: INFO     AUR_I : 0.652, prec100: 4, prec(1% of 905): 0.00, prec5%: 0.02\n",
      "iteration.MF: INFO     sym: 0, results test algo (S,I,R): (0,0,0), infected test random: 0/0\n",
      "iteration.MF: INFO     ...quarantining 0 guys -> got 0 infected, 12 free as birds (+0)\n"
     ]
    },
    {
     "name": "stdout",
     "output_type": "stream",
     "text": [
      "t: 96.00 | 1200.00 hrs (50 d)"
     ]
    },
    {
     "name": "stderr",
     "output_type": "stream",
     "text": [
      "iteration.MF: INFO     time:3\n"
     ]
    },
    {
     "name": "stdout",
     "output_type": "stream",
     "text": [
      "\n",
      "[Reached max time: 96h (4d)]\n"
     ]
    },
    {
     "name": "stderr",
     "output_type": "stream",
     "text": [
      "iteration.MF: INFO     adding contacts in the interval [72, 96]\n",
      "iteration.MF: INFO     number of unique contacts: 2640\n",
      "iteration.MF: INFO     number of tests today: 0\n",
      "iteration.MF: INFO     True  : (S,I,R): (892.0, 12.0, 0.0)\n",
      "iteration.MF: INFO     AUR_I : 0.652, prec100: 4, prec(1% of 905): 0.00, prec5%: 0.02\n",
      "iteration.MF: INFO     sym: 0, results test algo (S,I,R): (0,0,0), infected test random: 0/0\n",
      "iteration.MF: INFO     ...quarantining 0 guys -> got 0 infected, 12 free as birds (+0)\n"
     ]
    },
    {
     "name": "stdout",
     "output_type": "stream",
     "text": [
      "All raw contacts 2688\n",
      "Contacts at midnight  144\n",
      "Contacts collected by coarse-graining  48\n",
      "Contacts in multiple days  0\n",
      "Coarse-grained contacts  2784\n",
      "Missing contacts  0\n",
      "Asymmetric contacts  0\n",
      "t: 120.00 | 1200.00 hrs (50 d)"
     ]
    },
    {
     "name": "stderr",
     "output_type": "stream",
     "text": [
      "iteration.MF: INFO     time:4\n",
      "iteration.MF: INFO     adding contacts in the interval [96, 120]\n",
      "iteration.MF: INFO     number of unique contacts: 2532\n"
     ]
    },
    {
     "name": "stdout",
     "output_type": "stream",
     "text": [
      "\n",
      "[Reached max time: 120h (5d)]\n",
      "All raw contacts 2584\n",
      "Contacts at midnight  116\n",
      "Contacts collected by coarse-graining  52\n",
      "Contacts in multiple days  0\n",
      "Coarse-grained contacts  2648\n",
      "Missing contacts  0\n",
      "Asymmetric contacts  0\n"
     ]
    },
    {
     "name": "stderr",
     "output_type": "stream",
     "text": [
      "iteration.MF: INFO     number of tests today: 0\n",
      "iteration.MF: INFO     True  : (S,I,R): (890.0, 14.0, 0.0)\n",
      "iteration.MF: INFO     AUR_I : 0.610, prec100: 4, prec(1% of 905): 0.00, prec5%: 0.02\n",
      "iteration.MF: INFO     sym: 0, results test algo (S,I,R): (0,0,0), infected test random: 0/0\n",
      "iteration.MF: INFO     ...quarantining 0 guys -> got 0 infected, 14 free as birds (+2)\n"
     ]
    },
    {
     "name": "stdout",
     "output_type": "stream",
     "text": [
      "t: 144.00 | 1200.00 hrs (50 d)"
     ]
    },
    {
     "name": "stderr",
     "output_type": "stream",
     "text": [
      "iteration.MF: INFO     \n",
      "observation-based inference algorithm starts now\n",
      "\n",
      "iteration.MF: INFO     time:5\n",
      "iteration.MF: INFO     adding contacts in the interval [120, 144]\n",
      "iteration.MF: INFO     number of unique contacts: 2498\n",
      "iteration.MF: INFO     number of tests today: 0\n",
      "iteration.MF: INFO     True  : (S,I,R): (887.0, 17.0, 0.0)\n",
      "iteration.MF: INFO     AUR_I : 0.582, prec100: 4, prec(1% of 905): 0.00, prec5%: 0.02\n",
      "iteration.MF: INFO     sym: 0, results test algo (S,I,R): (0,0,0), infected test random: 0/0\n",
      "iteration.MF: INFO     ...quarantining 0 guys -> got 0 infected, 17 free as birds (+3)\n"
     ]
    },
    {
     "name": "stdout",
     "output_type": "stream",
     "text": [
      "\n",
      "[Reached max time: 144h (6d)]\n",
      "All raw contacts 2538\n",
      "Contacts at midnight  206\n",
      "Contacts collected by coarse-graining  40\n",
      "Contacts in multiple days  0\n",
      "Coarse-grained contacts  2704\n",
      "Missing contacts  0\n",
      "Asymmetric contacts  0\n",
      "t: 168.00 | 1200.00 hrs (50 d)"
     ]
    },
    {
     "name": "stderr",
     "output_type": "stream",
     "text": [
      "iteration.MF: INFO     time:6\n"
     ]
    },
    {
     "name": "stdout",
     "output_type": "stream",
     "text": [
      "\n",
      "[Reached max time: 168h (7d)]\n",
      "All raw contacts 2632\n",
      "Contacts at midnight  206\n",
      "Contacts collected by coarse-graining  82\n",
      "Contacts in multiple days  0\n",
      "Coarse-grained contacts  2756\n",
      "Missing contacts  0\n",
      "Asymmetric contacts  0\n"
     ]
    },
    {
     "name": "stderr",
     "output_type": "stream",
     "text": [
      "iteration.MF: INFO     adding contacts in the interval [144, 168]\n",
      "iteration.MF: INFO     number of unique contacts: 2550\n",
      "iteration.MF: INFO     number of tests today: 0\n",
      "iteration.MF: INFO     True  : (S,I,R): (887.0, 17.0, 0.0)\n",
      "iteration.MF: INFO     AUR_I : 0.582, prec100: 4, prec(1% of 905): 0.00, prec5%: 0.02\n",
      "iteration.MF: INFO     sym: 0, results test algo (S,I,R): (0,0,0), infected test random: 0/0\n",
      "iteration.MF: INFO     ...quarantining 0 guys -> got 0 infected, 17 free as birds (+0)\n"
     ]
    },
    {
     "name": "stdout",
     "output_type": "stream",
     "text": [
      "t: 192.00 | 1200.00 hrs (50 d)"
     ]
    },
    {
     "name": "stderr",
     "output_type": "stream",
     "text": [
      "iteration.MF: INFO     time:7\n",
      "iteration.MF: INFO     adding contacts in the interval [168, 192]\n",
      "iteration.MF: INFO     number of unique contacts: 2780\n"
     ]
    },
    {
     "name": "stdout",
     "output_type": "stream",
     "text": [
      "\n",
      "[Reached max time: 192h (8d)]\n",
      "All raw contacts 2848\n",
      "Contacts at midnight  142\n",
      "Contacts collected by coarse-graining  68\n",
      "Contacts in multiple days  0\n",
      "Coarse-grained contacts  2922\n",
      "Missing contacts  0\n",
      "Asymmetric contacts  0\n"
     ]
    },
    {
     "name": "stderr",
     "output_type": "stream",
     "text": [
      "iteration.MF: INFO     number of tests today: 0\n",
      "iteration.MF: INFO     True  : (S,I,R): (886.0, 18.0, 0.0)\n",
      "iteration.MF: INFO     AUR_I : 0.555, prec100: 4, prec(1% of 905): 0.00, prec5%: 0.02\n",
      "iteration.MF: INFO     sym: 0, results test algo (S,I,R): (0,0,0), infected test random: 0/0\n",
      "iteration.MF: INFO     ...quarantining 0 guys -> got 0 infected, 18 free as birds (+1)\n"
     ]
    },
    {
     "name": "stdout",
     "output_type": "stream",
     "text": [
      "t: 216.00 | 1200.00 hrs (50 d)"
     ]
    },
    {
     "name": "stderr",
     "output_type": "stream",
     "text": [
      "iteration.MF: INFO     time:8\n",
      "iteration.MF: INFO     adding contacts in the interval [192, 216]\n",
      "iteration.MF: INFO     number of unique contacts: 2332\n"
     ]
    },
    {
     "name": "stdout",
     "output_type": "stream",
     "text": [
      "\n",
      "[Reached max time: 216h (9d)]\n",
      "All raw contacts 2374\n",
      "Contacts at midnight  188\n",
      "Contacts collected by coarse-graining  42\n",
      "Contacts in multiple days  0\n",
      "Coarse-grained contacts  2520\n",
      "Missing contacts  0\n",
      "Asymmetric contacts  0\n"
     ]
    },
    {
     "name": "stderr",
     "output_type": "stream",
     "text": [
      "iteration.MF: INFO     number of tests today: 0\n",
      "iteration.MF: INFO     True  : (S,I,R): (885.0, 19.0, 0.0)\n",
      "iteration.MF: INFO     AUR_I : 0.546, prec100: 4, prec(1% of 905): 0.00, prec5%: 0.02\n",
      "iteration.MF: INFO     sym: 0, results test algo (S,I,R): (0,0,0), infected test random: 0/0\n",
      "iteration.MF: INFO     ...quarantining 0 guys -> got 0 infected, 19 free as birds (+1)\n"
     ]
    },
    {
     "name": "stdout",
     "output_type": "stream",
     "text": [
      "t: 240.00 | 1200.00 hrs (50 d)"
     ]
    },
    {
     "name": "stderr",
     "output_type": "stream",
     "text": [
      "iteration.MF: INFO     time:9\n"
     ]
    },
    {
     "name": "stdout",
     "output_type": "stream",
     "text": [
      "\n",
      "[Reached max time: 240h (10d)]\n"
     ]
    },
    {
     "name": "stderr",
     "output_type": "stream",
     "text": [
      "iteration.MF: INFO     adding contacts in the interval [216, 240]\n",
      "iteration.MF: INFO     number of unique contacts: 2488\n",
      "iteration.MF: INFO     number of tests today: 0\n",
      "iteration.MF: INFO     True  : (S,I,R): (883.0, 21.0, 0.0)\n",
      "iteration.MF: INFO     AUR_I : 0.551, prec100: 4, prec(1% of 905): 0.00, prec5%: 0.02\n"
     ]
    },
    {
     "name": "stdout",
     "output_type": "stream",
     "text": [
      "All raw contacts 2540\n",
      "Contacts at midnight  138\n",
      "Contacts collected by coarse-graining  52\n",
      "Contacts in multiple days  0\n",
      "Coarse-grained contacts  2626\n",
      "Missing contacts  0\n",
      "Asymmetric contacts  0\n"
     ]
    },
    {
     "name": "stderr",
     "output_type": "stream",
     "text": [
      "iteration.MF: INFO     sym: 0, results test algo (S,I,R): (0,0,0), infected test random: 0/0\n",
      "iteration.MF: INFO     ...quarantining 0 guys -> got 0 infected, 21 free as birds (+2)\n"
     ]
    },
    {
     "name": "stdout",
     "output_type": "stream",
     "text": [
      "t: 264.00 | 1200.00 hrs (50 d)"
     ]
    },
    {
     "name": "stderr",
     "output_type": "stream",
     "text": [
      "iteration.MF: INFO     time:10\n"
     ]
    },
    {
     "name": "stdout",
     "output_type": "stream",
     "text": [
      "\n",
      "[Reached max time: 264h (11d)]\n",
      "All raw contacts 2010\n",
      "Contacts at midnight "
     ]
    },
    {
     "name": "stderr",
     "output_type": "stream",
     "text": [
      "iteration.MF: INFO     adding contacts in the interval [240, 264]\n",
      "iteration.MF: INFO     number of unique contacts: 1968\n",
      "iteration.MF: INFO     number of tests today: 0\n",
      "iteration.MF: INFO     True  : (S,I,R): (882.0, 22.0, 0.0)\n",
      "iteration.MF: INFO     AUR_I : 0.531, prec100: 4, prec(1% of 905): 0.00, prec5%: 0.02\n",
      "iteration.MF: INFO     sym: 0, results test algo (S,I,R): (0,0,0), infected test random: 0/0\n",
      "iteration.MF: INFO     ...quarantining 0 guys -> got 0 infected, 22 free as birds (+1)\n"
     ]
    },
    {
     "name": "stdout",
     "output_type": "stream",
     "text": [
      " 118\n",
      "Contacts collected by coarse-graining  42\n",
      "Contacts in multiple days  0\n",
      "Coarse-grained contacts  2086\n",
      "Missing contacts  0\n",
      "Asymmetric contacts  0\n",
      "t: 288.00 | 1200.00 hrs (50 d)"
     ]
    },
    {
     "name": "stderr",
     "output_type": "stream",
     "text": [
      "iteration.MF: INFO     time:11\n"
     ]
    },
    {
     "name": "stdout",
     "output_type": "stream",
     "text": [
      "\n",
      "[Reached max time: 288h (12d)]\n",
      "All raw contacts 2356\n",
      "Contacts at midnight  150\n",
      "Contacts collected by coarse-graining  58\n",
      "Contacts in multiple days "
     ]
    },
    {
     "name": "stderr",
     "output_type": "stream",
     "text": [
      "iteration.MF: INFO     adding contacts in the interval [264, 288]\n",
      "iteration.MF: INFO     number of unique contacts: 2298\n"
     ]
    },
    {
     "name": "stdout",
     "output_type": "stream",
     "text": [
      " 0\n",
      "Coarse-grained contacts  2448\n",
      "Missing contacts  0\n",
      "Asymmetric contacts  0\n"
     ]
    },
    {
     "name": "stderr",
     "output_type": "stream",
     "text": [
      "iteration.MF: INFO     number of tests today: 0\n",
      "iteration.MF: INFO     True  : (S,I,R): (881.0, 23.0, 0.0)\n",
      "iteration.MF: INFO     AUR_I : 0.536, prec100: 5, prec(1% of 904): 0.00, prec5%: 0.04\n",
      "iteration.MF: INFO     sym: 0, results test algo (S,I,R): (0,0,0), infected test random: 0/0\n",
      "iteration.MF: INFO     ...quarantining 0 guys -> got 0 infected, 22 free as birds (+0)\n"
     ]
    },
    {
     "name": "stdout",
     "output_type": "stream",
     "text": [
      "t: 312.00 | 1200.00 hrs (50 d)"
     ]
    },
    {
     "name": "stderr",
     "output_type": "stream",
     "text": [
      "iteration.MF: INFO     time:12\n"
     ]
    },
    {
     "name": "stdout",
     "output_type": "stream",
     "text": [
      "\n",
      "[Reached max time: 312h (13d)]\n",
      "All raw contacts 2566\n",
      "Contacts at midnight  126\n",
      "Contacts collected by coarse-graining  44\n",
      "Contacts in multiple days  0\n",
      "Coarse-grained contacts  2648\n",
      "Missing contacts  0\n",
      "Asymmetric contacts  0\n"
     ]
    },
    {
     "name": "stderr",
     "output_type": "stream",
     "text": [
      "iteration.MF: INFO     adding contacts in the interval [288, 312]\n",
      "iteration.MF: INFO     number of unique contacts: 2522\n",
      "iteration.MF: INFO     number of tests today: 0\n",
      "iteration.MF: INFO     True  : (S,I,R): (881.0, 21.0, 2.0)\n",
      "iteration.MF: INFO     AUR_I : 0.551, prec100: 5, prec(1% of 904): 0.00, prec5%: 0.04\n",
      "iteration.MF: INFO     sym: 0, results test algo (S,I,R): (0,0,0), infected test random: 0/0\n",
      "iteration.MF: INFO     ...quarantining 0 guys -> got 0 infected, 20 free as birds (-2)\n"
     ]
    },
    {
     "name": "stdout",
     "output_type": "stream",
     "text": [
      "t: 336.00 | 1200.00 hrs (50 d)"
     ]
    },
    {
     "name": "stderr",
     "output_type": "stream",
     "text": [
      "iteration.MF: INFO     time:13\n"
     ]
    },
    {
     "name": "stdout",
     "output_type": "stream",
     "text": [
      "\n",
      "[Reached max time: 336h (14d)]\n"
     ]
    },
    {
     "name": "stderr",
     "output_type": "stream",
     "text": [
      "iteration.MF: INFO     adding contacts in the interval [312, 336]\n",
      "iteration.MF: INFO     number of unique contacts: 2298\n",
      "iteration.MF: INFO     number of tests today: 0\n",
      "iteration.MF: INFO     True  : (S,I,R): (880.0, 20.0, 4.0)\n",
      "iteration.MF: INFO     AUR_I : 0.528, prec100: 4, prec(1% of 904): 0.00, prec5%: 0.02\n",
      "iteration.MF: INFO     sym: 0, results test algo (S,I,R): (0,0,0), infected test random: 0/0\n",
      "iteration.MF: INFO     ...quarantining 0 guys -> got 0 infected, 19 free as birds (-1)\n"
     ]
    },
    {
     "name": "stdout",
     "output_type": "stream",
     "text": [
      "All raw contacts 2382\n",
      "Contacts at midnight  144\n",
      "Contacts collected by coarse-graining  84\n",
      "Contacts in multiple days  0\n",
      "Coarse-grained contacts  2442\n",
      "Missing contacts  0\n",
      "Asymmetric contacts  0\n",
      "t: 360.00 | 1200.00 hrs (50 d)"
     ]
    },
    {
     "name": "stderr",
     "output_type": "stream",
     "text": [
      "iteration.MF: INFO     time:14\n"
     ]
    },
    {
     "name": "stdout",
     "output_type": "stream",
     "text": [
      "\n",
      "[Reached max time: 360h (15d)]\n",
      "All raw contacts 2992\n",
      "Contacts at midnight  156\n",
      "Contacts collected by coarse-graining  70\n",
      "Contacts in multiple days  0\n",
      "Coarse-grained contacts  3078\n",
      "Missing contacts  0\n",
      "Asymmetric contacts  0\n"
     ]
    },
    {
     "name": "stderr",
     "output_type": "stream",
     "text": [
      "iteration.MF: INFO     adding contacts in the interval [336, 360]\n",
      "iteration.MF: INFO     number of unique contacts: 2922\n",
      "iteration.MF: INFO     number of tests today: 0\n",
      "iteration.MF: INFO     True  : (S,I,R): (878.0, 19.0, 7.0)\n",
      "iteration.MF: INFO     AUR_I : 0.493, prec100: 3, prec(1% of 904): 0.00, prec5%: 0.02\n",
      "iteration.MF: INFO     sym: 0, results test algo (S,I,R): (0,0,0), infected test random: 0/0\n",
      "iteration.MF: INFO     ...quarantining 0 guys -> got 0 infected, 18 free as birds (-1)\n"
     ]
    },
    {
     "name": "stdout",
     "output_type": "stream",
     "text": [
      "t: 384.00 | 1200.00 hrs (50 d)"
     ]
    },
    {
     "name": "stderr",
     "output_type": "stream",
     "text": [
      "iteration.MF: INFO     time:15\n"
     ]
    },
    {
     "name": "stdout",
     "output_type": "stream",
     "text": [
      "\n",
      "[Reached max time: 384h (16d)]\n"
     ]
    },
    {
     "name": "stderr",
     "output_type": "stream",
     "text": [
      "iteration.MF: INFO     adding contacts in the interval [360, 384]\n",
      "iteration.MF: INFO     number of unique contacts: 2222\n"
     ]
    },
    {
     "name": "stdout",
     "output_type": "stream",
     "text": [
      "All raw contacts 2272\n",
      "Contacts at midnight  116\n",
      "Contacts collected by coarse-graining  50\n",
      "Contacts in multiple days  0\n",
      "Coarse-grained contacts  2338\n",
      "Missing contacts  0\n",
      "Asymmetric contacts  0\n"
     ]
    },
    {
     "name": "stderr",
     "output_type": "stream",
     "text": [
      "iteration.MF: INFO     number of tests today: 0\n",
      "iteration.MF: INFO     True  : (S,I,R): (875.0, 21.0, 8.0)\n",
      "iteration.MF: INFO     AUR_I : 0.492, prec100: 3, prec(1% of 904): 0.11, prec5%: 0.04\n",
      "iteration.MF: INFO     sym: 0, results test algo (S,I,R): (0,0,0), infected test random: 0/0\n",
      "iteration.MF: INFO     ...quarantining 0 guys -> got 0 infected, 20 free as birds (+2)\n"
     ]
    },
    {
     "name": "stdout",
     "output_type": "stream",
     "text": [
      "t: 408.00 | 1200.00 hrs (50 d)"
     ]
    },
    {
     "name": "stderr",
     "output_type": "stream",
     "text": [
      "iteration.MF: INFO     time:16\n"
     ]
    },
    {
     "name": "stdout",
     "output_type": "stream",
     "text": [
      "\n",
      "[Reached max time: 408h (17d)]\n",
      "All raw contacts 2370\n",
      "Contacts at midnight  142\n",
      "Contacts collected by coarse-graining  36\n",
      "Contacts in multiple days  0\n",
      "Coarse-grained contacts  2476\n",
      "Missing contacts  0\n",
      "Asymmetric contacts  0\n"
     ]
    },
    {
     "name": "stderr",
     "output_type": "stream",
     "text": [
      "iteration.MF: INFO     adding contacts in the interval [384, 408]\n",
      "iteration.MF: INFO     number of unique contacts: 2334\n",
      "iteration.MF: INFO     number of tests today: 0\n",
      "iteration.MF: INFO     True  : (S,I,R): (875.0, 21.0, 8.0)\n",
      "iteration.MF: INFO     AUR_I : 0.492, prec100: 3, prec(1% of 904): 0.11, prec5%: 0.04\n",
      "iteration.MF: INFO     sym: 0, results test algo (S,I,R): (0,0,0), infected test random: 0/0\n",
      "iteration.MF: INFO     ...quarantining 0 guys -> got 0 infected, 20 free as birds (+0)\n"
     ]
    },
    {
     "name": "stdout",
     "output_type": "stream",
     "text": [
      "t: 432.00 | 1200.00 hrs (50 d)"
     ]
    },
    {
     "name": "stderr",
     "output_type": "stream",
     "text": [
      "iteration.MF: INFO     time:17\n"
     ]
    },
    {
     "name": "stdout",
     "output_type": "stream",
     "text": [
      "\n",
      "[Reached max time: 432h (18d)]\n",
      "All raw contacts 2572\n",
      "Contacts at midnight  150\n",
      "Contacts collected by coarse-graining  72\n",
      "Contacts in multiple days  0\n",
      "Coarse-grained contacts  2650\n",
      "Missing contacts  0\n",
      "Asymmetric contacts  0\n"
     ]
    },
    {
     "name": "stderr",
     "output_type": "stream",
     "text": [
      "iteration.MF: INFO     adding contacts in the interval [408, 432]\n",
      "iteration.MF: INFO     number of unique contacts: 2500\n",
      "iteration.MF: INFO     number of tests today: 0\n",
      "iteration.MF: INFO     True  : (S,I,R): (875.0, 20.0, 9.0)\n",
      "iteration.MF: INFO     AUR_I : 0.492, prec100: 3, prec(1% of 904): 0.11, prec5%: 0.04\n",
      "iteration.MF: INFO     sym: 0, results test algo (S,I,R): (0,0,0), infected test random: 0/0\n",
      "iteration.MF: INFO     ...quarantining 0 guys -> got 0 infected, 20 free as birds (+0)\n"
     ]
    },
    {
     "name": "stdout",
     "output_type": "stream",
     "text": [
      "t: 456.00 | 1200.00 hrs (50 d)"
     ]
    },
    {
     "name": "stderr",
     "output_type": "stream",
     "text": [
      "iteration.MF: INFO     time:18\n",
      "iteration.MF: INFO     adding contacts in the interval [432, 456]\n",
      "iteration.MF: INFO     number of unique contacts: 2610\n"
     ]
    },
    {
     "name": "stdout",
     "output_type": "stream",
     "text": [
      "\n",
      "[Reached max time: 456h (19d)]\n",
      "All raw contacts 2684\n",
      "Contacts at midnight  160\n",
      "Contacts collected by coarse-graining  74\n",
      "Contacts in multiple days  0\n",
      "Coarse-grained contacts  2770\n",
      "Missing contacts  0\n",
      "Asymmetric contacts  0\n"
     ]
    },
    {
     "name": "stderr",
     "output_type": "stream",
     "text": [
      "iteration.MF: INFO     number of tests today: 0\n",
      "iteration.MF: INFO     True  : (S,I,R): (872.0, 22.0, 10.0)\n",
      "iteration.MF: INFO     AUR_I : 0.455, prec100: 2, prec(1% of 904): 0.11, prec5%: 0.04\n",
      "iteration.MF: INFO     sym: 0, results test algo (S,I,R): (0,0,0), infected test random: 0/0\n",
      "iteration.MF: INFO     ...quarantining 0 guys -> got 0 infected, 22 free as birds (+2)\n"
     ]
    },
    {
     "name": "stdout",
     "output_type": "stream",
     "text": [
      "t: 480.00 | 1200.00 hrs (50 d)"
     ]
    },
    {
     "name": "stderr",
     "output_type": "stream",
     "text": [
      "iteration.MF: INFO     time:19\n"
     ]
    },
    {
     "name": "stdout",
     "output_type": "stream",
     "text": [
      "\n",
      "[Reached max time: 480h (20d)]\n"
     ]
    },
    {
     "name": "stderr",
     "output_type": "stream",
     "text": [
      "iteration.MF: INFO     adding contacts in the interval [456, 480]\n",
      "iteration.MF: INFO     number of unique contacts: 2144\n",
      "iteration.MF: INFO     number of tests today: 0\n",
      "iteration.MF: INFO     True  : (S,I,R): (871.0, 23.0, 10.0)\n",
      "iteration.MF: INFO     AUR_I : 0.452, prec100: 2, prec(1% of 904): 0.11, prec5%: 0.04\n",
      "iteration.MF: INFO     sym: 0, results test algo (S,I,R): (0,0,0), infected test random: 0/0\n",
      "iteration.MF: INFO     ...quarantining 0 guys -> got 0 infected, 23 free as birds (+1)\n"
     ]
    },
    {
     "name": "stdout",
     "output_type": "stream",
     "text": [
      "All raw contacts 2194\n",
      "Contacts at midnight  148\n",
      "Contacts collected by coarse-graining  50\n",
      "Contacts in multiple days  0\n",
      "Coarse-grained contacts  2292\n",
      "Missing contacts  0\n",
      "Asymmetric contacts  0\n",
      "t: 504.00 | 1200.00 hrs (50 d)"
     ]
    },
    {
     "name": "stderr",
     "output_type": "stream",
     "text": [
      "iteration.MF: INFO     time:20\n"
     ]
    },
    {
     "name": "stdout",
     "output_type": "stream",
     "text": [
      "\n",
      "[Reached max time: 504h (21d)]\n",
      "All raw contacts 2726\n",
      "Contacts at midnight  104\n",
      "Contacts collected by coarse-graining  60\n",
      "Contacts in multiple days  0\n",
      "Coarse-grained contacts  2770\n",
      "Missing contacts  0\n",
      "Asymmetric contacts  0\n"
     ]
    },
    {
     "name": "stderr",
     "output_type": "stream",
     "text": [
      "iteration.MF: INFO     adding contacts in the interval [480, 504]\n",
      "iteration.MF: INFO     number of unique contacts: 2666\n",
      "iteration.MF: INFO     number of tests today: 0\n",
      "iteration.MF: INFO     True  : (S,I,R): (869.0, 24.0, 11.0)\n",
      "iteration.MF: INFO     AUR_I : 0.469, prec100: 3, prec(1% of 904): 0.11, prec5%: 0.04\n",
      "iteration.MF: INFO     sym: 0, results test algo (S,I,R): (0,0,0), infected test random: 0/0\n",
      "iteration.MF: INFO     ...quarantining 0 guys -> got 0 infected, 24 free as birds (+1)\n"
     ]
    },
    {
     "name": "stdout",
     "output_type": "stream",
     "text": [
      "t: 528.00 | 1200.00 hrs (50 d)"
     ]
    },
    {
     "name": "stderr",
     "output_type": "stream",
     "text": [
      "iteration.MF: INFO     time:21\n"
     ]
    },
    {
     "name": "stdout",
     "output_type": "stream",
     "text": [
      "\n",
      "[Reached max time: 528h (22d)]\n"
     ]
    },
    {
     "name": "stderr",
     "output_type": "stream",
     "text": [
      "iteration.MF: INFO     adding contacts in the interval [504, 528]\n",
      "iteration.MF: INFO     number of unique contacts: 2554\n",
      "iteration.MF: INFO     number of tests today: 0\n",
      "iteration.MF: INFO     True  : (S,I,R): (868.0, 21.0, 15.0)\n",
      "iteration.MF: INFO     AUR_I : 0.485, prec100: 3, prec(1% of 904): 0.11, prec5%: 0.04\n",
      "iteration.MF: INFO     sym: 0, results test algo (S,I,R): (0,0,0), infected test random: 0/0\n",
      "iteration.MF: INFO     ...quarantining 0 guys -> got 0 infected, 21 free as birds (-3)\n"
     ]
    },
    {
     "name": "stdout",
     "output_type": "stream",
     "text": [
      "All raw contacts 2646\n",
      "Contacts at midnight  158\n",
      "Contacts collected by coarse-graining  92\n",
      "Contacts in multiple days  0\n",
      "Coarse-grained contacts  2712\n",
      "Missing contacts  0\n",
      "Asymmetric contacts  0\n",
      "t: 552.00 | 1200.00 hrs (50 d)"
     ]
    },
    {
     "name": "stderr",
     "output_type": "stream",
     "text": [
      "iteration.MF: INFO     time:22\n"
     ]
    },
    {
     "name": "stdout",
     "output_type": "stream",
     "text": [
      "\n",
      "[Reached max time: 552h (23d)]\n",
      "All raw contacts 2530\n",
      "Contacts at midnight  168\n",
      "Contacts collected by coarse-graining  70\n",
      "Contacts in multiple days  0\n",
      "Coarse-grained contacts  2628\n",
      "Missing contacts  0\n",
      "Asymmetric contacts  0\n"
     ]
    },
    {
     "name": "stderr",
     "output_type": "stream",
     "text": [
      "iteration.MF: INFO     adding contacts in the interval [528, 552]\n",
      "iteration.MF: INFO     number of unique contacts: 2460\n",
      "iteration.MF: INFO     number of tests today: 0\n",
      "iteration.MF: INFO     True  : (S,I,R): (862.0, 26.0, 16.0)\n",
      "iteration.MF: INFO     AUR_I : 0.539, prec100: 3, prec(1% of 904): 0.11, prec5%: 0.04\n",
      "iteration.MF: INFO     sym: 0, results test algo (S,I,R): (0,0,0), infected test random: 0/0\n",
      "iteration.MF: INFO     ...quarantining 0 guys -> got 0 infected, 26 free as birds (+5)\n"
     ]
    },
    {
     "name": "stdout",
     "output_type": "stream",
     "text": [
      "t: 576.00 | 1200.00 hrs (50 d)"
     ]
    },
    {
     "name": "stderr",
     "output_type": "stream",
     "text": [
      "iteration.MF: INFO     time:23\n"
     ]
    },
    {
     "name": "stdout",
     "output_type": "stream",
     "text": [
      "\n",
      "[Reached max time: 576h (24d)]\n",
      "All raw contacts 2572\n",
      "Contacts at midnight  122\n",
      "Contacts collected by coarse-graining  62\n",
      "Contacts in multiple days  0\n",
      "Coarse-grained contacts  2632\n",
      "Missing contacts  0\n",
      "Asymmetric contacts  0\n"
     ]
    },
    {
     "name": "stderr",
     "output_type": "stream",
     "text": [
      "iteration.MF: INFO     adding contacts in the interval [552, 576]\n",
      "iteration.MF: INFO     number of unique contacts: 2510\n",
      "iteration.MF: INFO     number of tests today: 0\n",
      "iteration.MF: INFO     True  : (S,I,R): (859.0, 29.0, 16.0)\n",
      "iteration.MF: INFO     AUR_I : 0.496, prec100: 3, prec(1% of 904): 0.11, prec5%: 0.04\n",
      "iteration.MF: INFO     sym: 0, results test algo (S,I,R): (0,0,0), infected test random: 0/0\n",
      "iteration.MF: INFO     ...quarantining 0 guys -> got 0 infected, 29 free as birds (+3)\n"
     ]
    },
    {
     "name": "stdout",
     "output_type": "stream",
     "text": [
      "t: 600.00 | 1200.00 hrs (50 d)\n",
      "[Reached max time: 600h (25d)]\n"
     ]
    },
    {
     "name": "stderr",
     "output_type": "stream",
     "text": [
      "iteration.MF: INFO     time:24\n",
      "iteration.MF: INFO     adding contacts in the interval [576, 600]\n",
      "iteration.MF: INFO     number of unique contacts: 2434\n"
     ]
    },
    {
     "name": "stdout",
     "output_type": "stream",
     "text": [
      "All raw contacts 2476\n",
      "Contacts at midnight  120\n",
      "Contacts collected by coarse-graining  42\n",
      "Contacts in multiple days  0\n",
      "Coarse-grained contacts  2554\n",
      "Missing contacts  0\n",
      "Asymmetric contacts  0\n"
     ]
    },
    {
     "name": "stderr",
     "output_type": "stream",
     "text": [
      "iteration.MF: INFO     number of tests today: 0\n",
      "iteration.MF: INFO     True  : (S,I,R): (854.0, 32.0, 18.0)\n",
      "iteration.MF: INFO     AUR_I : 0.484, prec100: 4, prec(1% of 904): 0.11, prec5%: 0.07\n",
      "iteration.MF: INFO     sym: 0, results test algo (S,I,R): (0,0,0), infected test random: 0/0\n",
      "iteration.MF: INFO     ...quarantining 0 guys -> got 0 infected, 32 free as birds (+3)\n"
     ]
    },
    {
     "name": "stdout",
     "output_type": "stream",
     "text": [
      "t: 624.00 | 1200.00 hrs (50 d)"
     ]
    },
    {
     "name": "stderr",
     "output_type": "stream",
     "text": [
      "iteration.MF: INFO     time:25\n"
     ]
    },
    {
     "name": "stdout",
     "output_type": "stream",
     "text": [
      "\n",
      "[Reached max time: 624h (26d)]\n",
      "All raw contacts 2758\n",
      "Contacts at midnight  144\n",
      "Contacts collected by coarse-graining  46\n",
      "Contacts in multiple days  0\n",
      "Coarse-grained contacts  2856\n",
      "Missing contacts  0\n",
      "Asymmetric contacts  0\n"
     ]
    },
    {
     "name": "stderr",
     "output_type": "stream",
     "text": [
      "iteration.MF: INFO     adding contacts in the interval [600, 624]\n",
      "iteration.MF: INFO     number of unique contacts: 2712\n",
      "iteration.MF: INFO     number of tests today: 0\n",
      "iteration.MF: INFO     True  : (S,I,R): (849.0, 37.0, 18.0)\n",
      "iteration.MF: INFO     AUR_I : 0.498, prec100: 4, prec(1% of 904): 0.11, prec5%: 0.07\n",
      "iteration.MF: INFO     sym: 0, results test algo (S,I,R): (0,0,0), infected test random: 0/0\n",
      "iteration.MF: INFO     ...quarantining 0 guys -> got 0 infected, 37 free as birds (+5)\n"
     ]
    },
    {
     "name": "stdout",
     "output_type": "stream",
     "text": [
      "t: 648.00 | 1200.00 hrs (50 d)"
     ]
    },
    {
     "name": "stderr",
     "output_type": "stream",
     "text": [
      "iteration.MF: INFO     time:26\n"
     ]
    },
    {
     "name": "stdout",
     "output_type": "stream",
     "text": [
      "\n",
      "[Reached max time: 648h (27d)]\n",
      "All raw contacts 2404\n",
      "Contacts at midnight  212\n",
      "Contacts collected by coarse-graining  24\n",
      "Contacts in multiple days  0\n",
      "Coarse-grained contacts  2592\n",
      "Missing contacts  0\n",
      "Asymmetric contacts  0\n"
     ]
    },
    {
     "name": "stderr",
     "output_type": "stream",
     "text": [
      "iteration.MF: INFO     adding contacts in the interval [624, 648]\n",
      "iteration.MF: INFO     number of unique contacts: 2380\n",
      "iteration.MF: INFO     number of tests today: 0\n",
      "iteration.MF: INFO     True  : (S,I,R): (845.0, 38.0, 21.0)\n",
      "iteration.MF: INFO     AUR_I : 0.464, prec100: 4, prec(1% of 904): 0.11, prec5%: 0.07\n",
      "iteration.MF: INFO     sym: 0, results test algo (S,I,R): (0,0,0), infected test random: 0/0\n",
      "iteration.MF: INFO     ...quarantining 0 guys -> got 0 infected, 38 free as birds (+1)\n"
     ]
    },
    {
     "name": "stdout",
     "output_type": "stream",
     "text": [
      "t: 672.00 | 1200.00 hrs (50 d)"
     ]
    },
    {
     "name": "stderr",
     "output_type": "stream",
     "text": [
      "iteration.MF: INFO     time:27\n"
     ]
    },
    {
     "name": "stdout",
     "output_type": "stream",
     "text": [
      "\n",
      "[Reached max time: 672h (28d)]\n",
      "All raw contacts 2412\n",
      "Contacts at midnight  204\n",
      "Contacts collected by coarse-graining  52\n",
      "Contacts in multiple days  0\n",
      "Coarse-grained contacts  2564\n",
      "Missing contacts  0\n",
      "Asymmetric contacts  0\n"
     ]
    },
    {
     "name": "stderr",
     "output_type": "stream",
     "text": [
      "iteration.MF: INFO     adding contacts in the interval [648, 672]\n",
      "iteration.MF: INFO     number of unique contacts: 2360\n",
      "iteration.MF: INFO     number of tests today: 0\n",
      "iteration.MF: INFO     True  : (S,I,R): (840.0, 43.0, 21.0)\n",
      "iteration.MF: INFO     AUR_I : 0.477, prec100: 4, prec(1% of 904): 0.11, prec5%: 0.07\n",
      "iteration.MF: INFO     sym: 0, results test algo (S,I,R): (0,0,0), infected test random: 0/0\n",
      "iteration.MF: INFO     ...quarantining 0 guys -> got 0 infected, 43 free as birds (+5)\n"
     ]
    },
    {
     "name": "stdout",
     "output_type": "stream",
     "text": [
      "t: 696.00 | 1200.00 hrs (50 d)"
     ]
    },
    {
     "name": "stderr",
     "output_type": "stream",
     "text": [
      "iteration.MF: INFO     time:28\n"
     ]
    },
    {
     "name": "stdout",
     "output_type": "stream",
     "text": [
      "\n",
      "[Reached max time: 696h (29d)]\n",
      "All raw contacts"
     ]
    },
    {
     "name": "stderr",
     "output_type": "stream",
     "text": [
      "iteration.MF: INFO     adding contacts in the interval [672, 696]\n",
      "iteration.MF: INFO     number of unique contacts: 2524\n"
     ]
    },
    {
     "name": "stdout",
     "output_type": "stream",
     "text": [
      " 2578\n",
      "Contacts at midnight  166\n",
      "Contacts collected by coarse-graining  54\n",
      "Contacts in multiple days  0\n",
      "Coarse-grained contacts  2690\n",
      "Missing contacts  0\n",
      "Asymmetric contacts  0\n"
     ]
    },
    {
     "name": "stderr",
     "output_type": "stream",
     "text": [
      "iteration.MF: INFO     number of tests today: 0\n",
      "iteration.MF: INFO     True  : (S,I,R): (832.0, 51.0, 21.0)\n",
      "iteration.MF: INFO     AUR_I : 0.489, prec100: 6, prec(1% of 904): 0.11, prec5%: 0.07\n",
      "iteration.MF: INFO     sym: 0, results test algo (S,I,R): (0,0,0), infected test random: 0/0\n",
      "iteration.MF: INFO     ...quarantining 0 guys -> got 0 infected, 51 free as birds (+8)\n"
     ]
    },
    {
     "name": "stdout",
     "output_type": "stream",
     "text": [
      "t: 720.00 | 1200.00 hrs (50 d)"
     ]
    },
    {
     "name": "stderr",
     "output_type": "stream",
     "text": [
      "iteration.MF: INFO     time:29\n"
     ]
    },
    {
     "name": "stdout",
     "output_type": "stream",
     "text": [
      "\n",
      "[Reached max time: 720h (30d)]\n",
      "All raw contacts"
     ]
    },
    {
     "name": "stderr",
     "output_type": "stream",
     "text": [
      "iteration.MF: INFO     adding contacts in the interval [696, 720]\n",
      "iteration.MF: INFO     number of unique contacts: 2148\n"
     ]
    },
    {
     "name": "stdout",
     "output_type": "stream",
     "text": [
      " 2230\n",
      "Contacts at midnight  146\n",
      "Contacts collected by coarse-graining  82\n",
      "Contacts in multiple days  0\n",
      "Coarse-grained contacts  2294\n",
      "Missing contacts  0\n",
      "Asymmetric contacts  0\n"
     ]
    },
    {
     "name": "stderr",
     "output_type": "stream",
     "text": [
      "iteration.MF: INFO     number of tests today: 0\n",
      "iteration.MF: INFO     True  : (S,I,R): (825.0, 58.0, 21.0)\n",
      "iteration.MF: INFO     AUR_I : 0.504, prec100: 7, prec(1% of 904): 0.11, prec5%: 0.09\n",
      "iteration.MF: INFO     sym: 0, results test algo (S,I,R): (0,0,0), infected test random: 0/0\n",
      "iteration.MF: INFO     ...quarantining 0 guys -> got 0 infected, 58 free as birds (+7)\n"
     ]
    },
    {
     "name": "stdout",
     "output_type": "stream",
     "text": [
      "t: 744.00 | 1200.00 hrs (50 d)"
     ]
    },
    {
     "name": "stderr",
     "output_type": "stream",
     "text": [
      "iteration.MF: INFO     time:30\n"
     ]
    },
    {
     "name": "stdout",
     "output_type": "stream",
     "text": [
      "\n",
      "[Reached max time: 744h (31d)]\n"
     ]
    },
    {
     "name": "stderr",
     "output_type": "stream",
     "text": [
      "iteration.MF: INFO     adding contacts in the interval [720, 744]\n",
      "iteration.MF: INFO     number of unique contacts: 2458\n"
     ]
    },
    {
     "name": "stdout",
     "output_type": "stream",
     "text": [
      "All raw contacts 2490\n",
      "Contacts at midnight  136\n",
      "Contacts collected by coarse-graining  32\n",
      "Contacts in multiple days  0\n",
      "Coarse-grained contacts  2594\n",
      "Missing contacts  0\n",
      "Asymmetric contacts  0\n"
     ]
    },
    {
     "name": "stderr",
     "output_type": "stream",
     "text": [
      "iteration.MF: INFO     number of tests today: 0\n",
      "iteration.MF: INFO     True  : (S,I,R): (817.0, 66.0, 21.0)\n",
      "iteration.MF: INFO     AUR_I : 0.506, prec100: 9, prec(1% of 903): 0.11, prec5%: 0.13\n",
      "iteration.MF: INFO     sym: 0, results test algo (S,I,R): (0,0,0), infected test random: 0/0\n",
      "iteration.MF: INFO     ...quarantining 0 guys -> got 0 infected, 65 free as birds (+7)\n"
     ]
    },
    {
     "name": "stdout",
     "output_type": "stream",
     "text": [
      "t: 768.00 | 1200.00 hrs (50 d)\n",
      "[Reached max time: 768h (32d)]\n"
     ]
    },
    {
     "name": "stderr",
     "output_type": "stream",
     "text": [
      "iteration.MF: INFO     time:31\n"
     ]
    },
    {
     "name": "stdout",
     "output_type": "stream",
     "text": [
      "All raw contacts 2436\n",
      "Contacts at midnight  156\n",
      "Contacts collected by coarse-graining  76\n",
      "Contacts in multiple days  0\n",
      "Coarse-grained contacts  2516\n",
      "Missing contacts  0\n",
      "Asymmetric contacts  0\n"
     ]
    },
    {
     "name": "stderr",
     "output_type": "stream",
     "text": [
      "iteration.MF: INFO     adding contacts in the interval [744, 768]\n",
      "iteration.MF: INFO     number of unique contacts: 2360\n",
      "iteration.MF: INFO     number of tests today: 0\n",
      "iteration.MF: INFO     True  : (S,I,R): (813.0, 65.0, 26.0)\n",
      "iteration.MF: INFO     AUR_I : 0.493, prec100: 7, prec(1% of 903): 0.00, prec5%: 0.09\n",
      "iteration.MF: INFO     sym: 0, results test algo (S,I,R): (0,0,0), infected test random: 0/0\n",
      "iteration.MF: INFO     ...quarantining 0 guys -> got 0 infected, 64 free as birds (-1)\n"
     ]
    },
    {
     "name": "stdout",
     "output_type": "stream",
     "text": [
      "t: 792.00 | 1200.00 hrs (50 d)"
     ]
    },
    {
     "name": "stderr",
     "output_type": "stream",
     "text": [
      "iteration.MF: INFO     time:32\n"
     ]
    },
    {
     "name": "stdout",
     "output_type": "stream",
     "text": [
      "\n",
      "[Reached max time: 792h (33d)]\n"
     ]
    },
    {
     "name": "stderr",
     "output_type": "stream",
     "text": [
      "iteration.MF: INFO     adding contacts in the interval [768, 792]\n",
      "iteration.MF: INFO     number of unique contacts: 2324\n",
      "iteration.MF: INFO     number of tests today: 0\n",
      "iteration.MF: INFO     True  : (S,I,R): (803.0, 74.0, 27.0)\n",
      "iteration.MF: INFO     AUR_I : 0.507, prec100: 8, prec(1% of 902): 0.00, prec5%: 0.11\n",
      "iteration.MF: INFO     sym: 0, results test algo (S,I,R): (0,0,0), infected test random: 0/0\n",
      "iteration.MF: INFO     ...quarantining 0 guys -> got 0 infected, 72 free as birds (+8)\n"
     ]
    },
    {
     "name": "stdout",
     "output_type": "stream",
     "text": [
      "All raw contacts 2378\n",
      "Contacts at midnight  178\n",
      "Contacts collected by coarse-graining  54\n",
      "Contacts in multiple days  0\n",
      "Coarse-grained contacts  2502\n",
      "Missing contacts  0\n",
      "Asymmetric contacts  0\n",
      "t: 816.00 | 1200.00 hrs (50 d)"
     ]
    },
    {
     "name": "stderr",
     "output_type": "stream",
     "text": [
      "iteration.MF: INFO     time:33\n",
      "iteration.MF: INFO     adding contacts in the interval [792, 816]\n"
     ]
    },
    {
     "name": "stdout",
     "output_type": "stream",
     "text": [
      "\n",
      "[Reached max time: 816h (34d)]\n",
      "All raw contacts 2312\n",
      "Contacts at midnight  178\n",
      "Contacts collected by coarse-graining  34\n",
      "Contacts in multiple days  0\n",
      "Coarse-grained contacts  2456\n",
      "Missing contacts  0\n",
      "Asymmetric contacts  0\n"
     ]
    },
    {
     "name": "stderr",
     "output_type": "stream",
     "text": [
      "iteration.MF: INFO     number of unique contacts: 2278\n",
      "iteration.MF: INFO     number of tests today: 0\n",
      "iteration.MF: INFO     True  : (S,I,R): (798.0, 78.0, 28.0)\n",
      "iteration.MF: INFO     AUR_I : 0.510, prec100: 8, prec(1% of 902): 0.00, prec5%: 0.11\n",
      "iteration.MF: INFO     sym: 1, results test algo (S,I,R): (0,0,0), infected test random: 0/0\n",
      "iteration.MF: INFO     ...quarantining 5 guys -> got 5 infected, 71 free as birds (-1)\n"
     ]
    },
    {
     "name": "stdout",
     "output_type": "stream",
     "text": [
      "t: 840.00 | 1200.00 hrs (50 d)"
     ]
    },
    {
     "name": "stderr",
     "output_type": "stream",
     "text": [
      "iteration.MF: INFO     time:34\n",
      "iteration.MF: INFO     adding contacts in the interval [816, 840]\n",
      "iteration.MF: INFO     number of unique contacts: 2646\n",
      "iteration.MF: INFO     number of tests today: 24\n",
      "iteration.MF: INFO     True  : (S,I,R): (788.0, 87.0, 29.0)\n",
      "iteration.MF: INFO     AUR_I : 0.501, prec100: 8, prec(1% of 893): 0.00, prec5%: 0.05\n",
      "iteration.MF: INFO     sym: 1, results test algo (S,I,R): (23,1,0), infected test random: 0/0\n",
      "iteration.MF: INFO     ...quarantining 5 guys -> got 5 infected, 75 free as birds (+4)\n"
     ]
    },
    {
     "name": "stdout",
     "output_type": "stream",
     "text": [
      "\n",
      "[Reached max time: 840h (35d)]\n",
      "All raw contacts 2742\n",
      "Contacts at midnight  136\n",
      "Contacts collected by coarse-graining  48\n",
      "Contacts in multiple days  0\n",
      "Coarse-grained contacts  2830\n",
      "Missing contacts  0\n",
      "Asymmetric contacts  0\n",
      "t: 864.00 | 1200.00 hrs (50 d)"
     ]
    },
    {
     "name": "stderr",
     "output_type": "stream",
     "text": [
      "iteration.MF: INFO     time:35\n"
     ]
    },
    {
     "name": "stdout",
     "output_type": "stream",
     "text": [
      "\n",
      "[Reached max time: 864h (36d)]\n",
      "All raw contacts 2686\n",
      "Contacts at midnight  126\n",
      "Contacts collected by coarse-graining  78\n",
      "Contacts in multiple days  0\n",
      "Coarse-grained contacts  2734\n",
      "Missing contacts  0\n",
      "Asymmetric contacts  0\n"
     ]
    },
    {
     "name": "stderr",
     "output_type": "stream",
     "text": [
      "iteration.MF: INFO     adding contacts in the interval [840, 864]\n",
      "iteration.MF: INFO     number of unique contacts: 2556\n",
      "iteration.MF: INFO     number of tests today: 56\n",
      "iteration.MF: INFO     True  : (S,I,R): (781.0, 94.0, 29.0)\n",
      "iteration.MF: INFO     AUR_I : 0.523, prec100: 5, prec(1% of 860): 0.12, prec5%: 0.05\n",
      "iteration.MF: INFO     sym: 1, results test algo (S,I,R): (42,11,3), infected test random: 0/0\n",
      "iteration.MF: INFO     ...quarantining 32 guys -> got 24 infected, 58 free as birds (-17)\n"
     ]
    },
    {
     "name": "stdout",
     "output_type": "stream",
     "text": [
      "t: 888.00 | 1200.00 hrs (50 d)"
     ]
    },
    {
     "name": "stderr",
     "output_type": "stream",
     "text": [
      "iteration.MF: INFO     time:36\n"
     ]
    },
    {
     "name": "stdout",
     "output_type": "stream",
     "text": [
      "\n",
      "[Reached max time: 888h (37d)]\n",
      "All raw contacts 2544\n",
      "Contacts at midnight  146\n",
      "Contacts collected by coarse-graining  34\n",
      "Contacts in multiple days  0\n",
      "Coarse-grained contacts  2656\n",
      "Missing contacts  0\n",
      "Asymmetric contacts  0\n"
     ]
    },
    {
     "name": "stderr",
     "output_type": "stream",
     "text": [
      "iteration.MF: INFO     adding contacts in the interval [864, 888]\n",
      "iteration.MF: INFO     number of unique contacts: 2294\n",
      "iteration.MF: INFO     number of tests today: 184\n",
      "iteration.MF: INFO     True  : (S,I,R): (772.0, 101.0, 31.0)\n",
      "iteration.MF: INFO     AUR_I : 0.508, prec100: 3, prec(1% of 820): 0.00, prec5%: 0.00\n",
      "iteration.MF: INFO     sym: 1, results test algo (S,I,R): (157,18,9), infected test random: 0/0\n",
      "iteration.MF: INFO     ...quarantining 41 guys -> got 35 infected, 30 free as birds (-28)\n"
     ]
    },
    {
     "name": "stdout",
     "output_type": "stream",
     "text": [
      "t: 912.00 | 1200.00 hrs (50 d)"
     ]
    },
    {
     "name": "stderr",
     "output_type": "stream",
     "text": [
      "iteration.MF: INFO     time:37\n",
      "iteration.MF: INFO     adding contacts in the interval [888, 912]\n",
      "iteration.MF: INFO     number of unique contacts: 2120\n",
      "iteration.MF: INFO     number of tests today: 139\n",
      "iteration.MF: INFO     True  : (S,I,R): (769.0, 101.0, 34.0)\n",
      "iteration.MF: INFO     AUR_I : 0.546, prec100: 1, prec(1% of 773): 0.00, prec5%: 0.00\n",
      "iteration.MF: INFO     sym: 1, results test algo (S,I,R): (119,17,3), infected test random: 0/0\n",
      "iteration.MF: INFO     ...quarantining 37 guys -> got 24 infected, 8 free as birds (-22)\n"
     ]
    },
    {
     "name": "stdout",
     "output_type": "stream",
     "text": [
      "\n",
      "[Reached max time: 912h (38d)]\n",
      "All raw contacts 2672\n",
      "Contacts at midnight  118\n",
      "Contacts collected by coarse-graining  58\n",
      "Contacts in multiple days  0\n",
      "Coarse-grained contacts  2732\n",
      "Missing contacts  0\n",
      "Asymmetric contacts  0\n",
      "t: 936.00 | 1200.00 hrs (50 d)"
     ]
    },
    {
     "name": "stderr",
     "output_type": "stream",
     "text": [
      "iteration.MF: INFO     time:38\n"
     ]
    },
    {
     "name": "stdout",
     "output_type": "stream",
     "text": [
      "\n",
      "[Reached max time: 936h (39d)]\n",
      "All raw contacts 1944\n",
      "Contacts at midnight  78\n",
      "Contacts collected by coarse-graining  42\n",
      "Contacts in multiple days  0\n",
      "Coarse-grained contacts  1980\n",
      "Missing contacts  0\n",
      "Asymmetric contacts  0\n"
     ]
    },
    {
     "name": "stderr",
     "output_type": "stream",
     "text": [
      "iteration.MF: INFO     adding contacts in the interval [912, 936]\n",
      "iteration.MF: INFO     number of unique contacts: 1374\n",
      "iteration.MF: INFO     number of tests today: 98\n",
      "iteration.MF: INFO     True  : (S,I,R): (760.0, 109.0, 35.0)\n",
      "iteration.MF: INFO     AUR_I : 0.422, prec100: 0, prec(1% of 766): 0.00, prec5%: 0.00\n",
      "iteration.MF: INFO     sym: 1, results test algo (S,I,R): (95,1,2), infected test random: 0/0\n",
      "iteration.MF: INFO     ...quarantining 2 guys -> got 2 infected, 8 free as birds (+0)\n"
     ]
    },
    {
     "name": "stdout",
     "output_type": "stream",
     "text": [
      "t: 960.00 | 1200.00 hrs (50 d)"
     ]
    },
    {
     "name": "stderr",
     "output_type": "stream",
     "text": [
      "iteration.MF: INFO     time:39\n"
     ]
    },
    {
     "name": "stdout",
     "output_type": "stream",
     "text": [
      "\n",
      "[Reached max time: 960h (40d)]\n",
      "All raw contacts 2490\n",
      "Contacts at midnight  130\n",
      "Contacts collected by coarse-graining  52\n",
      "Contacts in multiple days  0\n",
      "Coarse-grained contacts  2568\n",
      "Missing contacts  0\n",
      "Asymmetric contacts  0\n"
     ]
    },
    {
     "name": "stderr",
     "output_type": "stream",
     "text": [
      "iteration.MF: INFO     adding contacts in the interval [936, 960]\n",
      "iteration.MF: INFO     number of unique contacts: 1810\n",
      "iteration.MF: INFO     number of tests today: 9\n",
      "iteration.MF: INFO     True  : (S,I,R): (757.0, 110.0, 37.0)\n",
      "iteration.MF: INFO     AUR_I : 0.606, prec100: 2, prec(1% of 764): 0.00, prec5%: 0.03\n",
      "iteration.MF: INFO     sym: 1, results test algo (S,I,R): (9,0,0), infected test random: 0/0\n",
      "iteration.MF: INFO     ...quarantining 0 guys -> got 0 infected, 8 free as birds (+0)\n"
     ]
    },
    {
     "name": "stdout",
     "output_type": "stream",
     "text": [
      "t: 984.00 | 1200.00 hrs (50 d)"
     ]
    },
    {
     "name": "stderr",
     "output_type": "stream",
     "text": [
      "iteration.MF: INFO     time:40\n"
     ]
    },
    {
     "name": "stdout",
     "output_type": "stream",
     "text": [
      "\n",
      "[Reached max time: 984h (41d)]\n",
      "All raw contacts 2426\n",
      "Contacts at midnight  216\n",
      "Contacts collected by coarse-graining  26\n",
      "Contacts in multiple days  0\n",
      "Coarse-grained contacts  2616\n",
      "Missing contacts  0\n",
      "Asymmetric contacts "
     ]
    },
    {
     "name": "stderr",
     "output_type": "stream",
     "text": [
      "iteration.MF: INFO     adding contacts in the interval [960, 984]\n",
      "iteration.MF: INFO     number of unique contacts: 1842\n"
     ]
    },
    {
     "name": "stdout",
     "output_type": "stream",
     "text": [
      " 0\n"
     ]
    },
    {
     "name": "stderr",
     "output_type": "stream",
     "text": [
      "iteration.MF: INFO     number of tests today: 0\n",
      "iteration.MF: INFO     True  : (S,I,R): (754.0, 110.0, 40.0)\n",
      "iteration.MF: INFO     AUR_I : 0.655, prec100: 2, prec(1% of 764): 0.00, prec5%: 0.03\n",
      "iteration.MF: INFO     sym: 1, results test algo (S,I,R): (0,0,0), infected test random: 0/0\n",
      "iteration.MF: INFO     ...quarantining 2 guys -> got 2 infected, 6 free as birds (-2)\n"
     ]
    },
    {
     "name": "stdout",
     "output_type": "stream",
     "text": [
      "t: 1008.00 | 1200.00 hrs (50 d)"
     ]
    },
    {
     "name": "stderr",
     "output_type": "stream",
     "text": [
      "iteration.MF: INFO     time:41\n"
     ]
    },
    {
     "name": "stdout",
     "output_type": "stream",
     "text": [
      "\n",
      "[Reached max time: 1008h (42d)]\n",
      "All raw contacts 2648\n",
      "Contacts at midnight  212\n",
      "Contacts collected by coarse-graining  "
     ]
    },
    {
     "name": "stderr",
     "output_type": "stream",
     "text": [
      "iteration.MF: INFO     adding contacts in the interval [984, 1008]\n",
      "iteration.MF: INFO     number of unique contacts: 1914\n"
     ]
    },
    {
     "name": "stdout",
     "output_type": "stream",
     "text": [
      "34\n",
      "Contacts in multiple days  0\n",
      "Coarse-grained contacts  2826\n",
      "Missing contacts  0\n",
      "Asymmetric contacts  0\n"
     ]
    },
    {
     "name": "stderr",
     "output_type": "stream",
     "text": [
      "iteration.MF: INFO     number of tests today: 13\n",
      "iteration.MF: INFO     True  : (S,I,R): (751.0, 108.0, 45.0)\n",
      "iteration.MF: INFO     AUR_I : 0.583, prec100: 2, prec(1% of 762): 0.00, prec5%: 0.03\n",
      "iteration.MF: INFO     sym: 0, results test algo (S,I,R): (13,0,0), infected test random: 0/0\n",
      "iteration.MF: INFO     ...quarantining 0 guys -> got 0 infected, 8 free as birds (+2)\n"
     ]
    },
    {
     "name": "stdout",
     "output_type": "stream",
     "text": [
      "t: 1032.00 | 1200.00 hrs (50 d)"
     ]
    },
    {
     "name": "stderr",
     "output_type": "stream",
     "text": [
      "iteration.MF: INFO     time:42\n"
     ]
    },
    {
     "name": "stdout",
     "output_type": "stream",
     "text": [
      "\n",
      "[Reached max time: 1032h (43d)]\n",
      "All raw contacts 2850\n",
      "Contacts at midnight  138\n",
      "Contacts collected by coarse-graining  56\n",
      "Contacts in multiple days  0\n",
      "Coarse-grained contacts  "
     ]
    },
    {
     "name": "stderr",
     "output_type": "stream",
     "text": [
      "iteration.MF: INFO     adding contacts in the interval [1008, 1032]\n"
     ]
    },
    {
     "name": "stdout",
     "output_type": "stream",
     "text": [
      "2932\n",
      "Missing contacts  0\n",
      "Asymmetric contacts  0\n"
     ]
    },
    {
     "name": "stderr",
     "output_type": "stream",
     "text": [
      "iteration.MF: INFO     number of unique contacts: 2022\n",
      "iteration.MF: INFO     number of tests today: 0\n",
      "iteration.MF: INFO     True  : (S,I,R): (749.0, 107.0, 48.0)\n",
      "iteration.MF: INFO     AUR_I : 0.483, prec100: 1, prec(1% of 762): 0.00, prec5%: 0.03\n",
      "iteration.MF: INFO     sym: 1, results test algo (S,I,R): (0,0,0), infected test random: 0/0\n",
      "iteration.MF: INFO     ...quarantining 0 guys -> got 0 infected, 8 free as birds (+0)\n"
     ]
    },
    {
     "name": "stdout",
     "output_type": "stream",
     "text": [
      "t: 1056.00 | 1200.00 hrs (50 d)"
     ]
    },
    {
     "name": "stderr",
     "output_type": "stream",
     "text": [
      "iteration.MF: INFO     time:43\n"
     ]
    },
    {
     "name": "stdout",
     "output_type": "stream",
     "text": [
      "\n",
      "[Reached max time: 1056h (44d)]\n"
     ]
    },
    {
     "name": "stderr",
     "output_type": "stream",
     "text": [
      "iteration.MF: INFO     adding contacts in the interval [1032, 1056]\n",
      "iteration.MF: INFO     number of unique contacts: 1726\n"
     ]
    },
    {
     "name": "stdout",
     "output_type": "stream",
     "text": [
      "All raw contacts 2528\n",
      "Contacts at midnight  92\n",
      "Contacts collected by coarse-graining  30\n",
      "Contacts in multiple days  0\n",
      "Coarse-grained contacts  2590\n",
      "Missing contacts  0\n",
      "Asymmetric contacts  0\n"
     ]
    },
    {
     "name": "stderr",
     "output_type": "stream",
     "text": [
      "iteration.MF: INFO     number of tests today: 0\n",
      "iteration.MF: INFO     True  : (S,I,R): (748.0, 103.0, 53.0)\n",
      "iteration.MF: INFO     AUR_I : 0.423, prec100: 1, prec(1% of 762): 0.00, prec5%: 0.03\n",
      "iteration.MF: INFO     sym: 2, results test algo (S,I,R): (0,0,0), infected test random: 0/0\n",
      "iteration.MF: INFO     ...quarantining 6 guys -> got 6 infected, 2 free as birds (-6)\n"
     ]
    },
    {
     "name": "stdout",
     "output_type": "stream",
     "text": [
      "t: 1080.00 | 1200.00 hrs (50 d)"
     ]
    },
    {
     "name": "stderr",
     "output_type": "stream",
     "text": [
      "iteration.MF: INFO     time:44\n"
     ]
    },
    {
     "name": "stdout",
     "output_type": "stream",
     "text": [
      "\n",
      "[Reached max time: 1080h (45d)]\n",
      "All raw contacts 2424\n",
      "Contacts at midnight  110\n",
      "Contacts collected by coarse-graining  24\n",
      "Contacts in multiple days  0\n",
      "Coarse-grained contacts  2510\n",
      "Missing contacts  0\n",
      "Asymmetric contacts  0\n"
     ]
    },
    {
     "name": "stderr",
     "output_type": "stream",
     "text": [
      "iteration.MF: INFO     adding contacts in the interval [1056, 1080]\n",
      "iteration.MF: INFO     number of unique contacts: 1682\n",
      "iteration.MF: INFO     number of tests today: 33\n",
      "iteration.MF: INFO     True  : (S,I,R): (744.0, 102.0, 58.0)\n",
      "iteration.MF: INFO     AUR_I : 0.675, prec100: 1, prec(1% of 755): 0.00, prec5%: 0.00\n",
      "iteration.MF: INFO     sym: 0, results test algo (S,I,R): (31,1,1), infected test random: 0/0\n",
      "iteration.MF: INFO     ...quarantining 1 guys -> got 1 infected, 2 free as birds (+0)\n"
     ]
    },
    {
     "name": "stdout",
     "output_type": "stream",
     "text": [
      "t: 1104.00 | 1200.00 hrs (50 d)"
     ]
    },
    {
     "name": "stderr",
     "output_type": "stream",
     "text": [
      "iteration.MF: INFO     time:45\n",
      "iteration.MF: INFO     adding contacts in the interval [1080, 1104]\n"
     ]
    },
    {
     "name": "stdout",
     "output_type": "stream",
     "text": [
      "\n",
      "[Reached max time: 1104h (46d)]\n",
      "All raw contacts 2134\n",
      "Contacts at midnight  126\n",
      "Contacts collected by coarse-graining  50\n",
      "Contacts in multiple days  0\n",
      "Coarse-grained contacts  2210\n",
      "Missing contacts  0\n",
      "Asymmetric contacts  0\n"
     ]
    },
    {
     "name": "stderr",
     "output_type": "stream",
     "text": [
      "iteration.MF: INFO     number of unique contacts: 1442\n",
      "iteration.MF: INFO     number of tests today: 2\n",
      "iteration.MF: INFO     True  : (S,I,R): (742.0, 98.0, 64.0)\n",
      "iteration.MF: INFO     AUR_I : 0.599, prec100: 0, prec(1% of 754): 0.00, prec5%: 0.00\n",
      "iteration.MF: INFO     sym: 0, results test algo (S,I,R): (2,0,0), infected test random: 0/0\n",
      "iteration.MF: INFO     ...quarantining 0 guys -> got 0 infected, 3 free as birds (+1)\n"
     ]
    },
    {
     "name": "stdout",
     "output_type": "stream",
     "text": [
      "t: 1128.00 | 1200.00 hrs (50 d)"
     ]
    },
    {
     "name": "stderr",
     "output_type": "stream",
     "text": [
      "iteration.MF: INFO     time:46\n"
     ]
    },
    {
     "name": "stdout",
     "output_type": "stream",
     "text": [
      "\n",
      "[Reached max time: 1128h (47d)]\n",
      "All raw contacts 2316\n",
      "Contacts at midnight  148\n",
      "Contacts collected by coarse-graining  48\n",
      "Contacts in multiple days  0\n",
      "Coarse-grained contacts  2416\n",
      "Missing contacts  0\n",
      "Asymmetric contacts  0\n"
     ]
    },
    {
     "name": "stderr",
     "output_type": "stream",
     "text": [
      "iteration.MF: INFO     adding contacts in the interval [1104, 1128]\n",
      "iteration.MF: INFO     number of unique contacts: 1596\n",
      "iteration.MF: INFO     number of tests today: 0\n",
      "iteration.MF: INFO     True  : (S,I,R): (740.0, 92.0, 72.0)\n",
      "iteration.MF: INFO     AUR_I : 0.582, prec100: 1, prec(1% of 754): 0.00, prec5%: 0.00\n",
      "iteration.MF: INFO     sym: 0, results test algo (S,I,R): (0,0,0), infected test random: 0/0\n",
      "iteration.MF: INFO     ...quarantining 0 guys -> got 0 infected, 3 free as birds (+0)\n"
     ]
    },
    {
     "name": "stdout",
     "output_type": "stream",
     "text": [
      "t: 1152.00 | 1200.00 hrs (50 d)"
     ]
    },
    {
     "name": "stderr",
     "output_type": "stream",
     "text": [
      "iteration.MF: INFO     time:47\n",
      "iteration.MF: INFO     adding contacts in the interval [1128, 1152]\n",
      "iteration.MF: INFO     number of unique contacts: 1588\n"
     ]
    },
    {
     "name": "stdout",
     "output_type": "stream",
     "text": [
      "\n",
      "[Reached max time: 1152h (48d)]\n",
      "All raw contacts 2328\n",
      "Contacts at midnight  152\n",
      "Contacts collected by coarse-graining  30\n",
      "Contacts in multiple days  0\n",
      "Coarse-grained contacts  2450\n",
      "Missing contacts  0\n",
      "Asymmetric contacts  0\n"
     ]
    },
    {
     "name": "stderr",
     "output_type": "stream",
     "text": [
      "iteration.MF: INFO     number of tests today: 0\n",
      "iteration.MF: INFO     True  : (S,I,R): (740.0, 90.0, 74.0)\n",
      "iteration.MF: INFO     AUR_I : 0.629, prec100: 1, prec(1% of 754): 0.00, prec5%: 0.00\n",
      "iteration.MF: INFO     sym: 0, results test algo (S,I,R): (0,0,0), infected test random: 0/0\n",
      "iteration.MF: INFO     ...quarantining 0 guys -> got 0 infected, 3 free as birds (+0)\n"
     ]
    },
    {
     "name": "stdout",
     "output_type": "stream",
     "text": [
      "t: 1176.00 | 1200.00 hrs (50 d)"
     ]
    },
    {
     "name": "stderr",
     "output_type": "stream",
     "text": [
      "iteration.MF: INFO     time:48\n"
     ]
    },
    {
     "name": "stdout",
     "output_type": "stream",
     "text": [
      "\n",
      "[Reached max time: 1176h (49d)]\n",
      "All raw contacts"
     ]
    },
    {
     "name": "stderr",
     "output_type": "stream",
     "text": [
      "iteration.MF: INFO     adding contacts in the interval [1152, 1176]\n",
      "iteration.MF: INFO     number of unique contacts: 1696\n",
      "iteration.MF: INFO     number of tests today: 0\n",
      "iteration.MF: INFO     True  : (S,I,R): (740.0, 81.0, 83.0)\n",
      "iteration.MF: INFO     AUR_I : 0.545, prec100: 1, prec(1% of 754): 0.00, prec5%: 0.00\n",
      "iteration.MF: INFO     sym: 1, results test algo (S,I,R): (0,0,0), infected test random: 0/0\n",
      "iteration.MF: INFO     ...quarantining 3 guys -> got 3 infected, 0 free as birds (-3)\n"
     ]
    },
    {
     "name": "stdout",
     "output_type": "stream",
     "text": [
      " 2432\n",
      "Contacts at midnight  134\n",
      "Contacts collected by coarse-graining  56\n",
      "Contacts in multiple days  0\n",
      "Coarse-grained contacts  2510\n",
      "Missing contacts  0\n",
      "Asymmetric contacts  0\n",
      "t: 1197.94 | 1200.00 hrs (50 d)"
     ]
    },
    {
     "name": "stderr",
     "output_type": "stream",
     "text": [
      "iteration.MF: INFO     time:49\n"
     ]
    },
    {
     "name": "stdout",
     "output_type": "stream",
     "text": [
      "All raw contacts 2582\n",
      "Contacts at midnight  78\n",
      "Contacts collected by coarse-graining  64\n",
      "Contacts in multiple days  0\n",
      "Coarse-grained contacts  2596\n",
      "Missing contacts  0\n",
      "Asymmetric contacts  0\n"
     ]
    },
    {
     "name": "stderr",
     "output_type": "stream",
     "text": [
      "iteration.MF: INFO     adding contacts in the interval [1176, 1200]\n",
      "iteration.MF: INFO     number of unique contacts: 1760\n",
      "iteration.MF: INFO     number of tests today: 12\n",
      "iteration.MF: INFO     True  : (S,I,R): (740.0, 73.0, 91.0)\n",
      "iteration.MF: INFO     AUR_I : nan, prec100: 0, prec(1% of 751): 0.00, prec5%: 0.00\n",
      "iteration.MF: INFO     sym: 0, results test algo (S,I,R): (12,0,0), infected test random: 0/0\n",
      "iteration.MF: INFO     ...quarantining 0 guys -> got 0 infected, 0 free as birds (+0)\n"
     ]
    },
    {
     "name": "stdout",
     "output_type": "stream",
     "text": [
      "Time  8.03780746459961\n",
      "Starting with guys:  {'expo': [70, 457, 218], 'iasy': [250, 39, 855, 486], 'ipre': [110, 72, 86, 695, 448]}\n",
      "t: 24.00 | 1200.00 hrs (50 d)"
     ]
    },
    {
     "name": "stderr",
     "output_type": "stream",
     "text": [
      "iteration.greedy: INFO     time:0\n",
      "iteration.greedy: INFO     adding contacts in the interval [0, 24]\n",
      "iteration.greedy: INFO     number of unique contacts: 2094\n",
      "iteration.greedy: INFO     number of tests today: 0\n",
      "iteration.greedy: INFO     True  : (S,I,R): (892.0, 12.0, 0.0)\n",
      "iteration.greedy: INFO     AUR_I : 0.607, prec100: 4, prec(1% of 905): 0.00, prec5%: 0.04\n",
      "iteration.greedy: INFO     sym: 0, results test algo (S,I,R): (0,0,0), infected test random: 0/0\n",
      "iteration.greedy: INFO     ...quarantining 0 guys -> got 0 infected, 12 free as birds (+12)\n"
     ]
    },
    {
     "name": "stdout",
     "output_type": "stream",
     "text": [
      "\n",
      "[Reached max time: 24h (1d)]\n",
      "All raw contacts 2114\n",
      "Contacts at midnight  46\n",
      "Contacts collected by coarse-graining  20\n",
      "Contacts in multiple days  0\n",
      "Coarse-grained contacts  2140\n",
      "Missing contacts  0\n",
      "Asymmetric contacts  0\n",
      "all contacts: 2094\n",
      "all contacts cut: 0\n",
      "t: 48.00 | 1200.00 hrs (50 d)"
     ]
    },
    {
     "name": "stderr",
     "output_type": "stream",
     "text": [
      "iteration.greedy: INFO     time:1\n",
      "iteration.greedy: INFO     adding contacts in the interval [24, 48]\n",
      "iteration.greedy: INFO     number of unique contacts: 2096\n",
      "iteration.greedy: INFO     number of tests today: 0\n",
      "iteration.greedy: INFO     True  : (S,I,R): (892.0, 12.0, 0.0)\n",
      "iteration.greedy: INFO     AUR_I : 0.601, prec100: 4, prec(1% of 905): 0.00, prec5%: 0.02\n",
      "iteration.greedy: INFO     sym: 0, results test algo (S,I,R): (0,0,0), infected test random: 0/0\n"
     ]
    },
    {
     "name": "stdout",
     "output_type": "stream",
     "text": [
      "\n",
      "[Reached max time: 48h (2d)]\n",
      "All raw contacts 2140\n",
      "Contacts at midnight  112\n",
      "Contacts collected by coarse-graining  44\n",
      "Contacts in multiple days  0\n",
      "Coarse-grained contacts  2208\n",
      "Missing contacts  0\n",
      "Asymmetric contacts  0\n",
      "all contacts: 4190\n",
      "all contacts cut: 0\n"
     ]
    },
    {
     "name": "stderr",
     "output_type": "stream",
     "text": [
      "iteration.greedy: INFO     ...quarantining 0 guys -> got 0 infected, 12 free as birds (+0)\n"
     ]
    },
    {
     "name": "stdout",
     "output_type": "stream",
     "text": [
      "t: 72.00 | 1200.00 hrs (50 d)\n",
      "[Reached max time: 72h (3d)]\n"
     ]
    },
    {
     "name": "stderr",
     "output_type": "stream",
     "text": [
      "iteration.greedy: INFO     time:2\n",
      "iteration.greedy: INFO     adding contacts in the interval [48, 72]\n",
      "iteration.greedy: INFO     number of unique contacts: 2268\n",
      "iteration.greedy: INFO     number of tests today: 0\n",
      "iteration.greedy: INFO     True  : (S,I,R): (892.0, 12.0, 0.0)\n",
      "iteration.greedy: INFO     AUR_I : 0.643, prec100: 4, prec(1% of 905): 0.00, prec5%: 0.02\n",
      "iteration.greedy: INFO     sym: 0, results test algo (S,I,R): (0,0,0), infected test random: 0/0\n",
      "iteration.greedy: INFO     ...quarantining 0 guys -> got 0 infected, 12 free as birds (+0)\n"
     ]
    },
    {
     "name": "stdout",
     "output_type": "stream",
     "text": [
      "All raw contacts 2340\n",
      "Contacts at midnight  144\n",
      "Contacts collected by coarse-graining  72\n",
      "Contacts in multiple days  0\n",
      "Coarse-grained contacts  2412\n",
      "Missing contacts  0\n",
      "Asymmetric contacts  0\n",
      "all contacts: 6458\n",
      "all contacts cut: 0\n",
      "t: 96.00 | 1200.00 hrs (50 d)"
     ]
    },
    {
     "name": "stderr",
     "output_type": "stream",
     "text": [
      "iteration.greedy: INFO     time:3\n",
      "iteration.greedy: INFO     adding contacts in the interval [72, 96]\n",
      "iteration.greedy: INFO     number of unique contacts: 2640\n"
     ]
    },
    {
     "name": "stdout",
     "output_type": "stream",
     "text": [
      "\n",
      "[Reached max time: 96h (4d)]\n",
      "All raw contacts 2688\n",
      "Contacts at midnight  144\n",
      "Contacts collected by coarse-graining  48\n",
      "Contacts in multiple days  0\n",
      "Coarse-grained contacts  2784\n",
      "Missing contacts  0\n",
      "Asymmetric contacts  0\n",
      "all contacts: 9098\n"
     ]
    },
    {
     "name": "stderr",
     "output_type": "stream",
     "text": [
      "iteration.greedy: INFO     number of tests today: 0\n",
      "iteration.greedy: INFO     True  : (S,I,R): (892.0, 12.0, 0.0)\n",
      "iteration.greedy: INFO     AUR_I : 0.631, prec100: 4, prec(1% of 905): 0.00, prec5%: 0.02\n",
      "iteration.greedy: INFO     sym: 0, results test algo (S,I,R): (0,0,0), infected test random: 0/0\n",
      "iteration.greedy: INFO     ...quarantining 0 guys -> got 0 infected, 12 free as birds (+0)\n"
     ]
    },
    {
     "name": "stdout",
     "output_type": "stream",
     "text": [
      "all contacts cut: 0\n",
      "t: 120.00 | 1200.00 hrs (50 d)"
     ]
    },
    {
     "name": "stderr",
     "output_type": "stream",
     "text": [
      "iteration.greedy: INFO     time:4\n"
     ]
    },
    {
     "name": "stdout",
     "output_type": "stream",
     "text": [
      "\n",
      "[Reached max time: 120h (5d)]\n"
     ]
    },
    {
     "name": "stderr",
     "output_type": "stream",
     "text": [
      "iteration.greedy: INFO     adding contacts in the interval [96, 120]\n",
      "iteration.greedy: INFO     number of unique contacts: 2532\n"
     ]
    },
    {
     "name": "stdout",
     "output_type": "stream",
     "text": [
      "All raw contacts 2584\n",
      "Contacts at midnight  116\n",
      "Contacts collected by coarse-graining  52\n",
      "Contacts in multiple days  0\n",
      "Coarse-grained contacts  2648\n",
      "Missing contacts  0\n",
      "Asymmetric contacts  0\n"
     ]
    },
    {
     "name": "stderr",
     "output_type": "stream",
     "text": [
      "iteration.greedy: INFO     number of tests today: 0\n",
      "iteration.greedy: INFO     True  : (S,I,R): (890.0, 14.0, 0.0)\n",
      "iteration.greedy: INFO     AUR_I : 0.622, prec100: 4, prec(1% of 905): 0.00, prec5%: 0.02\n",
      "iteration.greedy: INFO     sym: 0, results test algo (S,I,R): (0,0,0), infected test random: 0/0\n",
      "iteration.greedy: INFO     ...quarantining 0 guys -> got 0 infected, 14 free as birds (+2)\n"
     ]
    },
    {
     "name": "stdout",
     "output_type": "stream",
     "text": [
      "all contacts: 11630\n",
      "all contacts cut: 0\n",
      "t: 144.00 | 1200.00 hrs (50 d)"
     ]
    },
    {
     "name": "stderr",
     "output_type": "stream",
     "text": [
      "iteration.greedy: INFO     \n",
      "observation-based inference algorithm starts now\n",
      "\n",
      "iteration.greedy: INFO     time:5\n",
      "iteration.greedy: INFO     adding contacts in the interval [120, 144]\n",
      "iteration.greedy: INFO     number of unique contacts: 2498\n"
     ]
    },
    {
     "name": "stdout",
     "output_type": "stream",
     "text": [
      "\n",
      "[Reached max time: 144h (6d)]\n",
      "All raw contacts 2538\n",
      "Contacts at midnight  206\n",
      "Contacts collected by coarse-graining  40\n",
      "Contacts in multiple days  0\n",
      "Coarse-grained contacts  2704\n",
      "Missing contacts  0\n",
      "Asymmetric contacts  0\n"
     ]
    },
    {
     "name": "stderr",
     "output_type": "stream",
     "text": [
      "iteration.greedy: INFO     number of tests today: 0\n",
      "iteration.greedy: INFO     True  : (S,I,R): (887.0, 17.0, 0.0)\n",
      "iteration.greedy: INFO     AUR_I : 0.567, prec100: 4, prec(1% of 905): 0.00, prec5%: 0.02\n",
      "iteration.greedy: INFO     sym: 0, results test algo (S,I,R): (0,0,0), infected test random: 0/0\n",
      "iteration.greedy: INFO     ...quarantining 0 guys -> got 0 infected, 17 free as birds (+3)\n"
     ]
    },
    {
     "name": "stdout",
     "output_type": "stream",
     "text": [
      "all contacts: 14128\n",
      "all contacts cut: 0\n",
      "t: 168.00 | 1200.00 hrs (50 d)"
     ]
    },
    {
     "name": "stderr",
     "output_type": "stream",
     "text": [
      "iteration.greedy: INFO     time:6\n"
     ]
    },
    {
     "name": "stdout",
     "output_type": "stream",
     "text": [
      "\n",
      "[Reached max time: 168h (7d)]\n",
      "All raw contacts 2632\n",
      "Contacts at midnight  206\n",
      "Contacts collected by coarse-graining  82\n",
      "Contacts in multiple days  0\n",
      "Coarse-grained contacts  2756\n",
      "Missing contacts  0\n",
      "Asymmetric contacts  0\n"
     ]
    },
    {
     "name": "stderr",
     "output_type": "stream",
     "text": [
      "iteration.greedy: INFO     adding contacts in the interval [144, 168]\n",
      "iteration.greedy: INFO     number of unique contacts: 2550\n",
      "iteration.greedy: INFO     number of tests today: 0\n",
      "iteration.greedy: INFO     True  : (S,I,R): (887.0, 17.0, 0.0)\n",
      "iteration.greedy: INFO     AUR_I : 0.586, prec100: 4, prec(1% of 905): 0.00, prec5%: 0.02\n",
      "iteration.greedy: INFO     sym: 0, results test algo (S,I,R): (0,0,0), infected test random: 0/0\n",
      "iteration.greedy: INFO     ...quarantining 0 guys -> got 0 infected, 17 free as birds (+0)\n"
     ]
    },
    {
     "name": "stdout",
     "output_type": "stream",
     "text": [
      "all contacts: 16678\n",
      "all contacts cut: 0\n",
      "t: 192.00 | 1200.00 hrs (50 d)"
     ]
    },
    {
     "name": "stderr",
     "output_type": "stream",
     "text": [
      "iteration.greedy: INFO     time:7\n"
     ]
    },
    {
     "name": "stdout",
     "output_type": "stream",
     "text": [
      "\n",
      "[Reached max time: 192h (8d)]\n"
     ]
    },
    {
     "name": "stderr",
     "output_type": "stream",
     "text": [
      "iteration.greedy: INFO     adding contacts in the interval [168, 192]\n",
      "iteration.greedy: INFO     number of unique contacts: 2780\n"
     ]
    },
    {
     "name": "stdout",
     "output_type": "stream",
     "text": [
      "All raw contacts 2848\n",
      "Contacts at midnight  142\n",
      "Contacts collected by coarse-graining  68\n",
      "Contacts in multiple days  0\n",
      "Coarse-grained contacts  2922\n",
      "Missing contacts  0\n",
      "Asymmetric contacts  0\n",
      "all contacts: 19458\n",
      "all contacts cut: 0\n"
     ]
    },
    {
     "name": "stderr",
     "output_type": "stream",
     "text": [
      "iteration.greedy: INFO     number of tests today: 0\n",
      "iteration.greedy: INFO     True  : (S,I,R): (886.0, 18.0, 0.0)\n",
      "iteration.greedy: INFO     AUR_I : 0.558, prec100: 4, prec(1% of 905): 0.00, prec5%: 0.02\n",
      "iteration.greedy: INFO     sym: 0, results test algo (S,I,R): (0,0,0), infected test random: 0/0\n",
      "iteration.greedy: INFO     ...quarantining 0 guys -> got 0 infected, 18 free as birds (+1)\n"
     ]
    },
    {
     "name": "stdout",
     "output_type": "stream",
     "text": [
      "t: 216.00 | 1200.00 hrs (50 d)"
     ]
    },
    {
     "name": "stderr",
     "output_type": "stream",
     "text": [
      "iteration.greedy: INFO     time:8\n"
     ]
    },
    {
     "name": "stdout",
     "output_type": "stream",
     "text": [
      "\n",
      "[Reached max time: 216h (9d)]\n"
     ]
    },
    {
     "name": "stderr",
     "output_type": "stream",
     "text": [
      "iteration.greedy: INFO     adding contacts in the interval [192, 216]\n",
      "iteration.greedy: INFO     number of unique contacts: 2332\n"
     ]
    },
    {
     "name": "stdout",
     "output_type": "stream",
     "text": [
      "All raw contacts 2374\n",
      "Contacts at midnight  188\n",
      "Contacts collected by coarse-graining  42\n",
      "Contacts in multiple days  0\n",
      "Coarse-grained contacts  2520\n",
      "Missing contacts  0\n",
      "Asymmetric contacts  0\n"
     ]
    },
    {
     "name": "stderr",
     "output_type": "stream",
     "text": [
      "iteration.greedy: INFO     number of tests today: 0\n"
     ]
    },
    {
     "name": "stdout",
     "output_type": "stream",
     "text": [
      "all contacts: 21790\n",
      "all contacts cut: 0\n"
     ]
    },
    {
     "name": "stderr",
     "output_type": "stream",
     "text": [
      "iteration.greedy: INFO     True  : (S,I,R): (885.0, 19.0, 0.0)\n",
      "iteration.greedy: INFO     AUR_I : 0.548, prec100: 4, prec(1% of 905): 0.00, prec5%: 0.02\n",
      "iteration.greedy: INFO     sym: 0, results test algo (S,I,R): (0,0,0), infected test random: 0/0\n",
      "iteration.greedy: INFO     ...quarantining 0 guys -> got 0 infected, 19 free as birds (+1)\n"
     ]
    },
    {
     "name": "stdout",
     "output_type": "stream",
     "text": [
      "t: 240.00 | 1200.00 hrs (50 d)"
     ]
    },
    {
     "name": "stderr",
     "output_type": "stream",
     "text": [
      "iteration.greedy: INFO     time:9\n"
     ]
    },
    {
     "name": "stdout",
     "output_type": "stream",
     "text": [
      "\n",
      "[Reached max time: 240h (10d)]\n",
      "All raw contacts 2540\n",
      "Contacts at midnight  138\n",
      "Contacts collected by coarse-graining  52\n"
     ]
    },
    {
     "name": "stderr",
     "output_type": "stream",
     "text": [
      "iteration.greedy: INFO     adding contacts in the interval [216, 240]\n",
      "iteration.greedy: INFO     number of unique contacts: 2488\n"
     ]
    },
    {
     "name": "stdout",
     "output_type": "stream",
     "text": [
      "Contacts in multiple days  0\n",
      "Coarse-grained contacts  2626\n",
      "Missing contacts  0\n",
      "Asymmetric contacts  0\n"
     ]
    },
    {
     "name": "stderr",
     "output_type": "stream",
     "text": [
      "iteration.greedy: INFO     number of tests today: 0\n"
     ]
    },
    {
     "name": "stdout",
     "output_type": "stream",
     "text": [
      "all contacts: 24278\n",
      "all contacts cut: 0\n"
     ]
    },
    {
     "name": "stderr",
     "output_type": "stream",
     "text": [
      "iteration.greedy: INFO     True  : (S,I,R): (883.0, 21.0, 0.0)\n",
      "iteration.greedy: INFO     AUR_I : 0.552, prec100: 4, prec(1% of 905): 0.00, prec5%: 0.02\n",
      "iteration.greedy: INFO     sym: 0, results test algo (S,I,R): (0,0,0), infected test random: 0/0\n",
      "iteration.greedy: INFO     ...quarantining 0 guys -> got 0 infected, 21 free as birds (+2)\n"
     ]
    },
    {
     "name": "stdout",
     "output_type": "stream",
     "text": [
      "t: 264.00 | 1200.00 hrs (50 d)"
     ]
    },
    {
     "name": "stderr",
     "output_type": "stream",
     "text": [
      "iteration.greedy: INFO     time:10\n"
     ]
    },
    {
     "name": "stdout",
     "output_type": "stream",
     "text": [
      "\n",
      "[Reached max time: 264h (11d)]\n",
      "All raw contacts 2010\n",
      "Contacts at midnight "
     ]
    },
    {
     "name": "stderr",
     "output_type": "stream",
     "text": [
      "iteration.greedy: INFO     adding contacts in the interval [240, 264]\n",
      "iteration.greedy: INFO     number of unique contacts: 1968\n"
     ]
    },
    {
     "name": "stdout",
     "output_type": "stream",
     "text": [
      " 118\n",
      "Contacts collected by coarse-graining  42\n",
      "Contacts in multiple days  0\n",
      "Coarse-grained contacts  2086\n",
      "Missing contacts  0\n",
      "Asymmetric contacts  0\n",
      "all contacts: 26246\n",
      "all contacts cut: 0\n"
     ]
    },
    {
     "name": "stderr",
     "output_type": "stream",
     "text": [
      "iteration.greedy: INFO     number of tests today: 0\n",
      "iteration.greedy: INFO     True  : (S,I,R): (882.0, 22.0, 0.0)\n",
      "iteration.greedy: INFO     AUR_I : 0.531, prec100: 4, prec(1% of 905): 0.00, prec5%: 0.02\n",
      "iteration.greedy: INFO     sym: 0, results test algo (S,I,R): (0,0,0), infected test random: 0/0\n",
      "iteration.greedy: INFO     ...quarantining 0 guys -> got 0 infected, 22 free as birds (+1)\n"
     ]
    },
    {
     "name": "stdout",
     "output_type": "stream",
     "text": [
      "t: 288.00 | 1200.00 hrs (50 d)"
     ]
    },
    {
     "name": "stderr",
     "output_type": "stream",
     "text": [
      "iteration.greedy: INFO     time:11\n"
     ]
    },
    {
     "name": "stdout",
     "output_type": "stream",
     "text": [
      "\n",
      "[Reached max time: 288h (12d)]\n",
      "All raw contacts 2356\n",
      "Contacts at midnight  150\n",
      "Contacts collected by coarse-graining  58\n",
      "Contacts in multiple days  0\n"
     ]
    },
    {
     "name": "stderr",
     "output_type": "stream",
     "text": [
      "iteration.greedy: INFO     adding contacts in the interval [264, 288]\n",
      "iteration.greedy: INFO     number of unique contacts: 2298\n"
     ]
    },
    {
     "name": "stdout",
     "output_type": "stream",
     "text": [
      "Coarse-grained contacts  2448\n",
      "Missing contacts  0\n",
      "Asymmetric contacts  0\n"
     ]
    },
    {
     "name": "stderr",
     "output_type": "stream",
     "text": [
      "iteration.greedy: INFO     number of tests today: 0\n",
      "iteration.greedy: INFO     True  : (S,I,R): (881.0, 23.0, 0.0)\n",
      "iteration.greedy: INFO     AUR_I : 0.523, prec100: 3, prec(1% of 904): 0.00, prec5%: 0.04\n",
      "iteration.greedy: INFO     sym: 0, results test algo (S,I,R): (0,0,0), infected test random: 0/0\n",
      "iteration.greedy: INFO     ...quarantining 0 guys -> got 0 infected, 22 free as birds (+0)\n"
     ]
    },
    {
     "name": "stdout",
     "output_type": "stream",
     "text": [
      "all contacts: 2298\n",
      "all contacts cut: 0\n",
      "t: 312.00 | 1200.00 hrs (50 d)"
     ]
    },
    {
     "name": "stderr",
     "output_type": "stream",
     "text": [
      "iteration.greedy: INFO     time:12\n",
      "iteration.greedy: INFO     adding contacts in the interval [288, 312]\n",
      "iteration.greedy: INFO     number of unique contacts: 2522\n"
     ]
    },
    {
     "name": "stdout",
     "output_type": "stream",
     "text": [
      "\n",
      "[Reached max time: 312h (13d)]\n",
      "All raw contacts 2566\n",
      "Contacts at midnight  126\n",
      "Contacts collected by coarse-graining  44\n",
      "Contacts in multiple days  0\n",
      "Coarse-grained contacts  2648\n",
      "Missing contacts  0\n",
      "Asymmetric contacts  0\n"
     ]
    },
    {
     "name": "stderr",
     "output_type": "stream",
     "text": [
      "iteration.greedy: INFO     number of tests today: 0\n",
      "iteration.greedy: INFO     True  : (S,I,R): (881.0, 21.0, 2.0)\n",
      "iteration.greedy: INFO     AUR_I : 0.568, prec100: 4, prec(1% of 904): 0.00, prec5%: 0.04\n",
      "iteration.greedy: INFO     sym: 0, results test algo (S,I,R): (0,0,0), infected test random: 0/0\n",
      "iteration.greedy: INFO     ...quarantining 0 guys -> got 0 infected, 20 free as birds (-2)\n"
     ]
    },
    {
     "name": "stdout",
     "output_type": "stream",
     "text": [
      "all contacts: 4820\n",
      "all contacts cut: 0\n",
      "t: 336.00 | 1200.00 hrs (50 d)"
     ]
    },
    {
     "name": "stderr",
     "output_type": "stream",
     "text": [
      "iteration.greedy: INFO     time:13\n"
     ]
    },
    {
     "name": "stdout",
     "output_type": "stream",
     "text": [
      "\n",
      "[Reached max time: 336h (14d)]\n"
     ]
    },
    {
     "name": "stderr",
     "output_type": "stream",
     "text": [
      "iteration.greedy: INFO     adding contacts in the interval [312, 336]\n",
      "iteration.greedy: INFO     number of unique contacts: 2298\n"
     ]
    },
    {
     "name": "stdout",
     "output_type": "stream",
     "text": [
      "All raw contacts 2382\n",
      "Contacts at midnight  144\n",
      "Contacts collected by coarse-graining  84\n",
      "Contacts in multiple days  0\n",
      "Coarse-grained contacts  2442\n",
      "Missing contacts  0\n",
      "Asymmetric contacts  0\n",
      "all contacts: 7118\n",
      "all contacts cut: 0\n"
     ]
    },
    {
     "name": "stderr",
     "output_type": "stream",
     "text": [
      "iteration.greedy: INFO     number of tests today: 0\n",
      "iteration.greedy: INFO     True  : (S,I,R): (880.0, 20.0, 4.0)\n",
      "iteration.greedy: INFO     AUR_I : 0.557, prec100: 4, prec(1% of 904): 0.00, prec5%: 0.02\n",
      "iteration.greedy: INFO     sym: 0, results test algo (S,I,R): (0,0,0), infected test random: 0/0\n",
      "iteration.greedy: INFO     ...quarantining 0 guys -> got 0 infected, 19 free as birds (-1)\n"
     ]
    },
    {
     "name": "stdout",
     "output_type": "stream",
     "text": [
      "t: 360.00 | 1200.00 hrs (50 d)"
     ]
    },
    {
     "name": "stderr",
     "output_type": "stream",
     "text": [
      "iteration.greedy: INFO     time:14\n",
      "iteration.greedy: INFO     adding contacts in the interval [336, 360]\n",
      "iteration.greedy: INFO     number of unique contacts: 2922\n"
     ]
    },
    {
     "name": "stdout",
     "output_type": "stream",
     "text": [
      "\n",
      "[Reached max time: 360h (15d)]\n",
      "All raw contacts 2992\n",
      "Contacts at midnight  156\n",
      "Contacts collected by coarse-graining  70\n",
      "Contacts in multiple days  0\n",
      "Coarse-grained contacts  3078\n",
      "Missing contacts  0\n",
      "Asymmetric contacts  0\n",
      "all contacts: 10040\n"
     ]
    },
    {
     "name": "stderr",
     "output_type": "stream",
     "text": [
      "iteration.greedy: INFO     number of tests today: 0\n",
      "iteration.greedy: INFO     True  : (S,I,R): (878.0, 19.0, 7.0)\n",
      "iteration.greedy: INFO     AUR_I : 0.520, prec100: 3, prec(1% of 904): 0.00, prec5%: 0.02\n",
      "iteration.greedy: INFO     sym: 0, results test algo (S,I,R): (0,0,0), infected test random: 0/0\n",
      "iteration.greedy: INFO     ...quarantining 0 guys -> got 0 infected, 18 free as birds (-1)\n"
     ]
    },
    {
     "name": "stdout",
     "output_type": "stream",
     "text": [
      "all contacts cut: 0\n",
      "t: 384.00 | 1200.00 hrs (50 d)"
     ]
    },
    {
     "name": "stderr",
     "output_type": "stream",
     "text": [
      "iteration.greedy: INFO     time:15\n"
     ]
    },
    {
     "name": "stdout",
     "output_type": "stream",
     "text": [
      "\n",
      "[Reached max time: 384h (16d)]\n",
      "All raw contacts 2272\n",
      "Contacts at midnight  116\n",
      "Contacts collected by coarse-graining  50\n",
      "Contacts in multiple days  0\n",
      "Coarse-grained contacts  2338\n",
      "Missing contacts  0\n",
      "Asymmetric contacts  0"
     ]
    },
    {
     "name": "stderr",
     "output_type": "stream",
     "text": [
      "iteration.greedy: INFO     adding contacts in the interval [360, 384]\n",
      "iteration.greedy: INFO     number of unique contacts: 2222\n"
     ]
    },
    {
     "name": "stdout",
     "output_type": "stream",
     "text": [
      "\n"
     ]
    },
    {
     "name": "stderr",
     "output_type": "stream",
     "text": [
      "iteration.greedy: INFO     number of tests today: 0\n",
      "iteration.greedy: INFO     True  : (S,I,R): (875.0, 21.0, 8.0)\n",
      "iteration.greedy: INFO     AUR_I : 0.510, prec100: 3, prec(1% of 904): 0.11, prec5%: 0.04\n",
      "iteration.greedy: INFO     sym: 0, results test algo (S,I,R): (0,0,0), infected test random: 0/0\n",
      "iteration.greedy: INFO     ...quarantining 0 guys -> got 0 infected, 20 free as birds (+2)\n"
     ]
    },
    {
     "name": "stdout",
     "output_type": "stream",
     "text": [
      "all contacts: 12262\n",
      "all contacts cut: 0\n",
      "t: 408.00 | 1200.00 hrs (50 d)"
     ]
    },
    {
     "name": "stderr",
     "output_type": "stream",
     "text": [
      "iteration.greedy: INFO     time:16\n",
      "iteration.greedy: INFO     adding contacts in the interval [384, 408]\n",
      "iteration.greedy: INFO     number of unique contacts: 2334\n",
      "iteration.greedy: INFO     number of tests today: 0\n",
      "iteration.greedy: INFO     True  : (S,I,R): (875.0, 21.0, 8.0)\n",
      "iteration.greedy: INFO     AUR_I : 0.503, prec100: 3, prec(1% of 904): 0.11, prec5%: 0.04\n",
      "iteration.greedy: INFO     sym: 0, results test algo (S,I,R): (0,0,0), infected test random: 0/0\n",
      "iteration.greedy: INFO     ...quarantining 0 guys -> got 0 infected, 20 free as birds (+0)\n"
     ]
    },
    {
     "name": "stdout",
     "output_type": "stream",
     "text": [
      "\n",
      "[Reached max time: 408h (17d)]\n",
      "All raw contacts 2370\n",
      "Contacts at midnight  142\n",
      "Contacts collected by coarse-graining  36\n",
      "Contacts in multiple days  0\n",
      "Coarse-grained contacts  2476\n",
      "Missing contacts  0\n",
      "Asymmetric contacts  0\n",
      "all contacts: 14596\n",
      "all contacts cut: 0\n",
      "t: 432.00 | 1200.00 hrs (50 d)"
     ]
    },
    {
     "name": "stderr",
     "output_type": "stream",
     "text": [
      "iteration.greedy: INFO     time:17\n"
     ]
    },
    {
     "name": "stdout",
     "output_type": "stream",
     "text": [
      "\n",
      "[Reached max time: 432h (18d)]\n"
     ]
    },
    {
     "name": "stderr",
     "output_type": "stream",
     "text": [
      "iteration.greedy: INFO     adding contacts in the interval [408, 432]\n",
      "iteration.greedy: INFO     number of unique contacts: 2500\n"
     ]
    },
    {
     "name": "stdout",
     "output_type": "stream",
     "text": [
      "All raw contacts 2572\n",
      "Contacts at midnight  150\n",
      "Contacts collected by coarse-graining  72\n",
      "Contacts in multiple days  0\n",
      "Coarse-grained contacts  2650\n",
      "Missing contacts  0\n",
      "Asymmetric contacts  0\n"
     ]
    },
    {
     "name": "stderr",
     "output_type": "stream",
     "text": [
      "iteration.greedy: INFO     number of tests today: 0\n"
     ]
    },
    {
     "name": "stdout",
     "output_type": "stream",
     "text": [
      "all contacts: 17096\n",
      "all contacts cut: 0\n"
     ]
    },
    {
     "name": "stderr",
     "output_type": "stream",
     "text": [
      "iteration.greedy: INFO     True  : (S,I,R): (875.0, 20.0, 9.0)\n",
      "iteration.greedy: INFO     AUR_I : 0.497, prec100: 3, prec(1% of 904): 0.11, prec5%: 0.04\n",
      "iteration.greedy: INFO     sym: 0, results test algo (S,I,R): (0,0,0), infected test random: 0/0\n",
      "iteration.greedy: INFO     ...quarantining 0 guys -> got 0 infected, 20 free as birds (+0)\n"
     ]
    },
    {
     "name": "stdout",
     "output_type": "stream",
     "text": [
      "t: 456.00 | 1200.00 hrs (50 d)"
     ]
    },
    {
     "name": "stderr",
     "output_type": "stream",
     "text": [
      "iteration.greedy: INFO     time:18\n",
      "iteration.greedy: INFO     adding contacts in the interval [432, 456]\n",
      "iteration.greedy: INFO     number of unique contacts: 2610\n"
     ]
    },
    {
     "name": "stdout",
     "output_type": "stream",
     "text": [
      "\n",
      "[Reached max time: 456h (19d)]\n",
      "All raw contacts 2684\n",
      "Contacts at midnight  160\n",
      "Contacts collected by coarse-graining  74\n",
      "Contacts in multiple days  0\n",
      "Coarse-grained contacts  2770\n",
      "Missing contacts  0\n",
      "Asymmetric contacts  0\n"
     ]
    },
    {
     "name": "stderr",
     "output_type": "stream",
     "text": [
      "iteration.greedy: INFO     number of tests today: 0\n",
      "iteration.greedy: INFO     True  : (S,I,R): (872.0, 22.0, 10.0)\n",
      "iteration.greedy: INFO     AUR_I : 0.457, prec100: 2, prec(1% of 904): 0.11, prec5%: 0.04\n",
      "iteration.greedy: INFO     sym: 0, results test algo (S,I,R): (0,0,0), infected test random: 0/0\n",
      "iteration.greedy: INFO     ...quarantining 0 guys -> got 0 infected, 22 free as birds (+2)\n"
     ]
    },
    {
     "name": "stdout",
     "output_type": "stream",
     "text": [
      "all contacts: 19706\n",
      "all contacts cut: 0\n",
      "t: 480.00 | 1200.00 hrs (50 d)"
     ]
    },
    {
     "name": "stderr",
     "output_type": "stream",
     "text": [
      "iteration.greedy: INFO     time:19\n"
     ]
    },
    {
     "name": "stdout",
     "output_type": "stream",
     "text": [
      "\n",
      "[Reached max time: 480h (20d)]\n"
     ]
    },
    {
     "name": "stderr",
     "output_type": "stream",
     "text": [
      "iteration.greedy: INFO     adding contacts in the interval [456, 480]\n",
      "iteration.greedy: INFO     number of unique contacts: 2144\n"
     ]
    },
    {
     "name": "stdout",
     "output_type": "stream",
     "text": [
      "All raw contacts 2194\n",
      "Contacts at midnight  148\n",
      "Contacts collected by coarse-graining  50\n",
      "Contacts in multiple days  0\n",
      "Coarse-grained contacts  2292\n",
      "Missing contacts  0\n",
      "Asymmetric contacts  0\n"
     ]
    },
    {
     "name": "stderr",
     "output_type": "stream",
     "text": [
      "iteration.greedy: INFO     number of tests today: 0\n",
      "iteration.greedy: INFO     True  : (S,I,R): (871.0, 23.0, 10.0)\n",
      "iteration.greedy: INFO     AUR_I : 0.452, prec100: 2, prec(1% of 904): 0.11, prec5%: 0.04\n",
      "iteration.greedy: INFO     sym: 0, results test algo (S,I,R): (0,0,0), infected test random: 0/0\n",
      "iteration.greedy: INFO     ...quarantining 0 guys -> got 0 infected, 23 free as birds (+1)\n"
     ]
    },
    {
     "name": "stdout",
     "output_type": "stream",
     "text": [
      "all contacts: 21850\n",
      "all contacts cut: 0\n",
      "t: 504.00 | 1200.00 hrs (50 d)"
     ]
    },
    {
     "name": "stderr",
     "output_type": "stream",
     "text": [
      "iteration.greedy: INFO     time:20\n",
      "iteration.greedy: INFO     adding contacts in the interval [480, 504]\n"
     ]
    },
    {
     "name": "stdout",
     "output_type": "stream",
     "text": [
      "\n",
      "[Reached max time: 504h (21d)]\n",
      "All raw contacts 2726\n",
      "Contacts at midnight  104\n",
      "Contacts collected by coarse-graining  60\n",
      "Contacts in multiple days  0\n",
      "Coarse-grained contacts  2770\n",
      "Missing contacts  0\n",
      "Asymmetric contacts  0\n"
     ]
    },
    {
     "name": "stderr",
     "output_type": "stream",
     "text": [
      "iteration.greedy: INFO     number of unique contacts: 2666\n",
      "iteration.greedy: INFO     number of tests today: 0\n",
      "iteration.greedy: INFO     True  : (S,I,R): (869.0, 24.0, 11.0)\n",
      "iteration.greedy: INFO     AUR_I : 0.470, prec100: 3, prec(1% of 904): 0.11, prec5%: 0.04\n",
      "iteration.greedy: INFO     sym: 0, results test algo (S,I,R): (0,0,0), infected test random: 0/0\n",
      "iteration.greedy: INFO     ...quarantining 0 guys -> got 0 infected, 24 free as birds (+1)\n"
     ]
    },
    {
     "name": "stdout",
     "output_type": "stream",
     "text": [
      "all contacts: 24516\n",
      "all contacts cut: 0\n",
      "t: 528.00 | 1200.00 hrs (50 d)"
     ]
    },
    {
     "name": "stderr",
     "output_type": "stream",
     "text": [
      "iteration.greedy: INFO     time:21\n"
     ]
    },
    {
     "name": "stdout",
     "output_type": "stream",
     "text": [
      "\n",
      "[Reached max time: 528h (22d)]\n"
     ]
    },
    {
     "name": "stderr",
     "output_type": "stream",
     "text": [
      "iteration.greedy: INFO     adding contacts in the interval [504, 528]\n",
      "iteration.greedy: INFO     number of unique contacts: 2554\n",
      "iteration.greedy: INFO     number of tests today: 0\n",
      "iteration.greedy: INFO     True  : (S,I,R): (868.0, 21.0, 15.0)\n",
      "iteration.greedy: INFO     AUR_I : 0.485, prec100: 3, prec(1% of 904): 0.11, prec5%: 0.04\n",
      "iteration.greedy: INFO     sym: 0, results test algo (S,I,R): (0,0,0), infected test random: 0/0\n",
      "iteration.greedy: INFO     ...quarantining 0 guys -> got 0 infected, 21 free as birds (-3)\n"
     ]
    },
    {
     "name": "stdout",
     "output_type": "stream",
     "text": [
      "All raw contacts 2646\n",
      "Contacts at midnight  158\n",
      "Contacts collected by coarse-graining  92\n",
      "Contacts in multiple days  0\n",
      "Coarse-grained contacts  2712\n",
      "Missing contacts  0\n",
      "Asymmetric contacts  0\n",
      "all contacts: 27070\n",
      "all contacts cut: 0\n",
      "t: 552.00 | 1200.00 hrs (50 d)"
     ]
    },
    {
     "name": "stderr",
     "output_type": "stream",
     "text": [
      "iteration.greedy: INFO     time:22\n"
     ]
    },
    {
     "name": "stdout",
     "output_type": "stream",
     "text": [
      "\n",
      "[Reached max time: 552h (23d)]\n"
     ]
    },
    {
     "name": "stderr",
     "output_type": "stream",
     "text": [
      "iteration.greedy: INFO     adding contacts in the interval [528, 552]\n",
      "iteration.greedy: INFO     number of unique contacts: 2460\n"
     ]
    },
    {
     "name": "stdout",
     "output_type": "stream",
     "text": [
      "All raw contacts 2530\n",
      "Contacts at midnight  168\n",
      "Contacts collected by coarse-graining  70\n",
      "Contacts in multiple days  0\n",
      "Coarse-grained contacts  2628\n",
      "Missing contacts  0\n",
      "Asymmetric contacts  0\n"
     ]
    },
    {
     "name": "stderr",
     "output_type": "stream",
     "text": [
      "iteration.greedy: INFO     number of tests today: 0\n",
      "iteration.greedy: INFO     True  : (S,I,R): (862.0, 26.0, 16.0)\n",
      "iteration.greedy: INFO     AUR_I : 0.532, prec100: 4, prec(1% of 904): 0.11, prec5%: 0.07\n",
      "iteration.greedy: INFO     sym: 0, results test algo (S,I,R): (0,0,0), infected test random: 0/0\n",
      "iteration.greedy: INFO     ...quarantining 0 guys -> got 0 infected, 26 free as birds (+5)\n"
     ]
    },
    {
     "name": "stdout",
     "output_type": "stream",
     "text": [
      "all contacts: 2460\n",
      "all contacts cut: 0\n",
      "t: 576.00 | 1200.00 hrs (50 d)"
     ]
    },
    {
     "name": "stderr",
     "output_type": "stream",
     "text": [
      "iteration.greedy: INFO     time:23\n",
      "iteration.greedy: INFO     adding contacts in the interval [552, 576]\n",
      "iteration.greedy: INFO     number of unique contacts: 2510\n"
     ]
    },
    {
     "name": "stdout",
     "output_type": "stream",
     "text": [
      "\n",
      "[Reached max time: 576h (24d)]\n",
      "All raw contacts 2572\n",
      "Contacts at midnight  122\n",
      "Contacts collected by coarse-graining  62\n",
      "Contacts in multiple days  0\n",
      "Coarse-grained contacts  2632\n",
      "Missing contacts  0\n",
      "Asymmetric contacts  0\n"
     ]
    },
    {
     "name": "stderr",
     "output_type": "stream",
     "text": [
      "iteration.greedy: INFO     number of tests today: 0\n",
      "iteration.greedy: INFO     True  : (S,I,R): (859.0, 29.0, 16.0)\n",
      "iteration.greedy: INFO     AUR_I : 0.484, prec100: 3, prec(1% of 904): 0.11, prec5%: 0.04\n",
      "iteration.greedy: INFO     sym: 0, results test algo (S,I,R): (0,0,0), infected test random: 0/0\n",
      "iteration.greedy: INFO     ...quarantining 0 guys -> got 0 infected, 29 free as birds (+3)\n"
     ]
    },
    {
     "name": "stdout",
     "output_type": "stream",
     "text": [
      "all contacts: 4970\n",
      "all contacts cut: 0\n",
      "t: 600.00 | 1200.00 hrs (50 d)"
     ]
    },
    {
     "name": "stderr",
     "output_type": "stream",
     "text": [
      "iteration.greedy: INFO     time:24\n",
      "iteration.greedy: INFO     adding contacts in the interval [576, 600]\n",
      "iteration.greedy: INFO     number of unique contacts: 2434\n"
     ]
    },
    {
     "name": "stdout",
     "output_type": "stream",
     "text": [
      "\n",
      "[Reached max time: 600h (25d)]\n",
      "All raw contacts 2476\n",
      "Contacts at midnight  120\n",
      "Contacts collected by coarse-graining  42\n",
      "Contacts in multiple days  0\n",
      "Coarse-grained contacts  2554\n",
      "Missing contacts  0\n",
      "Asymmetric contacts  0\n"
     ]
    },
    {
     "name": "stderr",
     "output_type": "stream",
     "text": [
      "iteration.greedy: INFO     number of tests today: 0\n",
      "iteration.greedy: INFO     True  : (S,I,R): (854.0, 32.0, 18.0)\n",
      "iteration.greedy: INFO     AUR_I : 0.480, prec100: 4, prec(1% of 904): 0.11, prec5%: 0.07\n",
      "iteration.greedy: INFO     sym: 0, results test algo (S,I,R): (0,0,0), infected test random: 0/0\n",
      "iteration.greedy: INFO     ...quarantining 0 guys -> got 0 infected, 32 free as birds (+3)\n"
     ]
    },
    {
     "name": "stdout",
     "output_type": "stream",
     "text": [
      "all contacts: 7404\n",
      "all contacts cut: 0\n",
      "t: 624.00 | 1200.00 hrs (50 d)"
     ]
    },
    {
     "name": "stderr",
     "output_type": "stream",
     "text": [
      "iteration.greedy: INFO     time:25\n"
     ]
    },
    {
     "name": "stdout",
     "output_type": "stream",
     "text": [
      "\n",
      "[Reached max time: 624h (26d)]\n"
     ]
    },
    {
     "name": "stderr",
     "output_type": "stream",
     "text": [
      "iteration.greedy: INFO     adding contacts in the interval [600, 624]\n",
      "iteration.greedy: INFO     number of unique contacts: 2712\n"
     ]
    },
    {
     "name": "stdout",
     "output_type": "stream",
     "text": [
      "All raw contacts 2758\n",
      "Contacts at midnight  144\n",
      "Contacts collected by coarse-graining  46\n",
      "Contacts in multiple days  0\n",
      "Coarse-grained contacts  2856\n",
      "Missing contacts  0\n",
      "Asymmetric contacts  0\n"
     ]
    },
    {
     "name": "stderr",
     "output_type": "stream",
     "text": [
      "iteration.greedy: INFO     number of tests today: 0\n",
      "iteration.greedy: INFO     True  : (S,I,R): (849.0, 37.0, 18.0)\n",
      "iteration.greedy: INFO     AUR_I : 0.498, prec100: 4, prec(1% of 904): 0.11, prec5%: 0.07\n",
      "iteration.greedy: INFO     sym: 0, results test algo (S,I,R): (0,0,0), infected test random: 0/0\n",
      "iteration.greedy: INFO     ...quarantining 0 guys -> got 0 infected, 37 free as birds (+5)\n"
     ]
    },
    {
     "name": "stdout",
     "output_type": "stream",
     "text": [
      "all contacts: 10116\n",
      "all contacts cut: 0\n",
      "t: 648.00 | 1200.00 hrs (50 d)"
     ]
    },
    {
     "name": "stderr",
     "output_type": "stream",
     "text": [
      "iteration.greedy: INFO     time:26\n"
     ]
    },
    {
     "name": "stdout",
     "output_type": "stream",
     "text": [
      "\n",
      "[Reached max time: 648h (27d)]\n",
      "All raw contacts 2404\n",
      "Contacts at midnight "
     ]
    },
    {
     "name": "stderr",
     "output_type": "stream",
     "text": [
      "iteration.greedy: INFO     adding contacts in the interval [624, 648]\n",
      "iteration.greedy: INFO     number of unique contacts: 2380\n"
     ]
    },
    {
     "name": "stdout",
     "output_type": "stream",
     "text": [
      " 212\n",
      "Contacts collected by coarse-graining  24\n",
      "Contacts in multiple days  0\n",
      "Coarse-grained contacts  2592\n",
      "Missing contacts  0\n",
      "Asymmetric contacts  0\n"
     ]
    },
    {
     "name": "stderr",
     "output_type": "stream",
     "text": [
      "iteration.greedy: INFO     number of tests today: 0\n",
      "iteration.greedy: INFO     True  : (S,I,R): (845.0, 38.0, 21.0)\n",
      "iteration.greedy: INFO     AUR_I : 0.453, prec100: 4, prec(1% of 904): 0.11, prec5%: 0.07\n",
      "iteration.greedy: INFO     sym: 0, results test algo (S,I,R): (0,0,0), infected test random: 0/0\n",
      "iteration.greedy: INFO     ...quarantining 0 guys -> got 0 infected, 38 free as birds (+1)\n"
     ]
    },
    {
     "name": "stdout",
     "output_type": "stream",
     "text": [
      "all contacts: 12496\n",
      "all contacts cut: 0\n",
      "t: 672.00 | 1200.00 hrs (50 d)"
     ]
    },
    {
     "name": "stderr",
     "output_type": "stream",
     "text": [
      "iteration.greedy: INFO     time:27\n"
     ]
    },
    {
     "name": "stdout",
     "output_type": "stream",
     "text": [
      "\n",
      "[Reached max time: 672h (28d)]\n"
     ]
    },
    {
     "name": "stderr",
     "output_type": "stream",
     "text": [
      "iteration.greedy: INFO     adding contacts in the interval [648, 672]\n",
      "iteration.greedy: INFO     number of unique contacts: 2360\n"
     ]
    },
    {
     "name": "stdout",
     "output_type": "stream",
     "text": [
      "All raw contacts 2412\n",
      "Contacts at midnight  204\n",
      "Contacts collected by coarse-graining  52\n",
      "Contacts in multiple days  0\n",
      "Coarse-grained contacts  2564\n",
      "Missing contacts  0\n",
      "Asymmetric contacts  0\n"
     ]
    },
    {
     "name": "stderr",
     "output_type": "stream",
     "text": [
      "iteration.greedy: INFO     number of tests today: 0\n"
     ]
    },
    {
     "name": "stdout",
     "output_type": "stream",
     "text": [
      "all contacts: 14856\n",
      "all contacts cut: 0\n"
     ]
    },
    {
     "name": "stderr",
     "output_type": "stream",
     "text": [
      "iteration.greedy: INFO     True  : (S,I,R): (840.0, 43.0, 21.0)\n",
      "iteration.greedy: INFO     AUR_I : 0.483, prec100: 4, prec(1% of 904): 0.11, prec5%: 0.07\n",
      "iteration.greedy: INFO     sym: 0, results test algo (S,I,R): (0,0,0), infected test random: 0/0\n",
      "iteration.greedy: INFO     ...quarantining 0 guys -> got 0 infected, 43 free as birds (+5)\n"
     ]
    },
    {
     "name": "stdout",
     "output_type": "stream",
     "text": [
      "t: 696.00 | 1200.00 hrs (50 d)"
     ]
    },
    {
     "name": "stderr",
     "output_type": "stream",
     "text": [
      "iteration.greedy: INFO     time:28\n"
     ]
    },
    {
     "name": "stdout",
     "output_type": "stream",
     "text": [
      "\n",
      "[Reached max time: 696h (29d)]\n",
      "All raw contacts 2578\n",
      "Contacts at midnight  166\n",
      "Contacts collected by coarse-graining  54\n",
      "Contacts in multiple days  0\n",
      "Coarse-grained contacts  2690\n",
      "Missing contacts  0\n",
      "Asymmetric contacts  0\n"
     ]
    },
    {
     "name": "stderr",
     "output_type": "stream",
     "text": [
      "iteration.greedy: INFO     adding contacts in the interval [672, 696]\n",
      "iteration.greedy: INFO     number of unique contacts: 2524\n",
      "iteration.greedy: INFO     number of tests today: 0\n",
      "iteration.greedy: INFO     True  : (S,I,R): (832.0, 51.0, 21.0)\n",
      "iteration.greedy: INFO     AUR_I : 0.494, prec100: 6, prec(1% of 904): 0.11, prec5%: 0.07\n",
      "iteration.greedy: INFO     sym: 0, results test algo (S,I,R): (0,0,0), infected test random: 0/0\n",
      "iteration.greedy: INFO     ...quarantining 0 guys -> got 0 infected, 51 free as birds (+8)\n"
     ]
    },
    {
     "name": "stdout",
     "output_type": "stream",
     "text": [
      "all contacts: 17380\n",
      "all contacts cut: 0\n",
      "t: 720.00 | 1200.00 hrs (50 d)"
     ]
    },
    {
     "name": "stderr",
     "output_type": "stream",
     "text": [
      "iteration.greedy: INFO     time:29\n"
     ]
    },
    {
     "name": "stdout",
     "output_type": "stream",
     "text": [
      "\n",
      "[Reached max time: 720h (30d)]\n",
      "All raw contacts 2230\n",
      "Contacts at midnight  146\n",
      "Contacts collected by coarse-graining  82\n",
      "Contacts in multiple days  0\n",
      "Coarse-grained contacts  2294\n",
      "Missing contacts  0\n",
      "Asymmetric contacts  0\n"
     ]
    },
    {
     "name": "stderr",
     "output_type": "stream",
     "text": [
      "iteration.greedy: INFO     adding contacts in the interval [696, 720]\n",
      "iteration.greedy: INFO     number of unique contacts: 2148\n",
      "iteration.greedy: INFO     number of tests today: 0\n",
      "iteration.greedy: INFO     True  : (S,I,R): (825.0, 58.0, 21.0)\n",
      "iteration.greedy: INFO     AUR_I : 0.507, prec100: 7, prec(1% of 904): 0.11, prec5%: 0.09\n",
      "iteration.greedy: INFO     sym: 0, results test algo (S,I,R): (0,0,0), infected test random: 0/0\n",
      "iteration.greedy: INFO     ...quarantining 0 guys -> got 0 infected, 58 free as birds (+7)\n"
     ]
    },
    {
     "name": "stdout",
     "output_type": "stream",
     "text": [
      "all contacts: 19528\n",
      "all contacts cut: 0\n",
      "t: 744.00 | 1200.00 hrs (50 d)"
     ]
    },
    {
     "name": "stderr",
     "output_type": "stream",
     "text": [
      "iteration.greedy: INFO     time:30\n"
     ]
    },
    {
     "name": "stdout",
     "output_type": "stream",
     "text": [
      "\n",
      "[Reached max time: 744h (31d)]\n"
     ]
    },
    {
     "name": "stderr",
     "output_type": "stream",
     "text": [
      "iteration.greedy: INFO     adding contacts in the interval [720, 744]\n",
      "iteration.greedy: INFO     number of unique contacts: 2458\n"
     ]
    },
    {
     "name": "stdout",
     "output_type": "stream",
     "text": [
      "All raw contacts 2490\n",
      "Contacts at midnight  136\n",
      "Contacts collected by coarse-graining  32\n",
      "Contacts in multiple days  0\n",
      "Coarse-grained contacts  2594\n",
      "Missing contacts  0\n",
      "Asymmetric contacts  0\n"
     ]
    },
    {
     "name": "stderr",
     "output_type": "stream",
     "text": [
      "iteration.greedy: INFO     number of tests today: 0\n",
      "iteration.greedy: INFO     True  : (S,I,R): (817.0, 66.0, 21.0)\n",
      "iteration.greedy: INFO     AUR_I : 0.509, prec100: 9, prec(1% of 903): 0.11, prec5%: 0.13\n",
      "iteration.greedy: INFO     sym: 0, results test algo (S,I,R): (0,0,0), infected test random: 0/0\n",
      "iteration.greedy: INFO     ...quarantining 0 guys -> got 0 infected, 65 free as birds (+7)\n"
     ]
    },
    {
     "name": "stdout",
     "output_type": "stream",
     "text": [
      "all contacts: 21986\n",
      "all contacts cut: 0\n",
      "t: 768.00 | 1200.00 hrs (50 d)"
     ]
    },
    {
     "name": "stderr",
     "output_type": "stream",
     "text": [
      "iteration.greedy: INFO     time:31\n"
     ]
    },
    {
     "name": "stdout",
     "output_type": "stream",
     "text": [
      "\n",
      "[Reached max time: 768h (32d)]\n",
      "All raw contacts 2436\n",
      "Contacts at midnight  156\n",
      "Contacts collected by coarse-graining  76\n",
      "Contacts in multiple days  0\n",
      "Coarse-grained contacts  2516\n",
      "Missing contacts  0\n",
      "Asymmetric contacts  0\n"
     ]
    },
    {
     "name": "stderr",
     "output_type": "stream",
     "text": [
      "iteration.greedy: INFO     adding contacts in the interval [744, 768]\n",
      "iteration.greedy: INFO     number of unique contacts: 2360\n"
     ]
    },
    {
     "name": "stdout",
     "output_type": "stream",
     "text": [
      "all contacts: 24346\n",
      "all contacts cut: 0\n"
     ]
    },
    {
     "name": "stderr",
     "output_type": "stream",
     "text": [
      "iteration.greedy: INFO     number of tests today: 0\n",
      "iteration.greedy: INFO     True  : (S,I,R): (813.0, 65.0, 26.0)\n",
      "iteration.greedy: INFO     AUR_I : 0.494, prec100: 7, prec(1% of 903): 0.00, prec5%: 0.09\n",
      "iteration.greedy: INFO     sym: 0, results test algo (S,I,R): (0,0,0), infected test random: 0/0\n",
      "iteration.greedy: INFO     ...quarantining 0 guys -> got 0 infected, 64 free as birds (-1)\n"
     ]
    },
    {
     "name": "stdout",
     "output_type": "stream",
     "text": [
      "t: 792.00 | 1200.00 hrs (50 d)"
     ]
    },
    {
     "name": "stderr",
     "output_type": "stream",
     "text": [
      "iteration.greedy: INFO     time:32\n"
     ]
    },
    {
     "name": "stdout",
     "output_type": "stream",
     "text": [
      "\n",
      "[Reached max time: 792h (33d)]\n",
      "All raw contacts 2378\n",
      "Contacts at midnight  178\n",
      "Contacts collected by coarse-graining  54\n",
      "Contacts in multiple days  0\n",
      "Coarse-grained contacts  2502\n",
      "Missing contacts  0\n",
      "Asymmetric contacts  0\n"
     ]
    },
    {
     "name": "stderr",
     "output_type": "stream",
     "text": [
      "iteration.greedy: INFO     adding contacts in the interval [768, 792]\n",
      "iteration.greedy: INFO     number of unique contacts: 2324\n",
      "iteration.greedy: INFO     number of tests today: 0\n",
      "iteration.greedy: INFO     True  : (S,I,R): (803.0, 74.0, 27.0)\n",
      "iteration.greedy: INFO     AUR_I : 0.507, prec100: 8, prec(1% of 902): 0.00, prec5%: 0.11\n",
      "iteration.greedy: INFO     sym: 0, results test algo (S,I,R): (0,0,0), infected test random: 0/0\n",
      "iteration.greedy: INFO     ...quarantining 0 guys -> got 0 infected, 72 free as birds (+8)\n"
     ]
    },
    {
     "name": "stdout",
     "output_type": "stream",
     "text": [
      "all contacts: 26670\n",
      "all contacts cut: 0\n",
      "t: 816.00 | 1200.00 hrs (50 d)"
     ]
    },
    {
     "name": "stderr",
     "output_type": "stream",
     "text": [
      "iteration.greedy: INFO     time:33\n",
      "iteration.greedy: INFO     adding contacts in the interval [792, 816]\n",
      "iteration.greedy: INFO     number of unique contacts: 2278\n"
     ]
    },
    {
     "name": "stdout",
     "output_type": "stream",
     "text": [
      "\n",
      "[Reached max time: 816h (34d)]\n",
      "All raw contacts 2312\n",
      "Contacts at midnight  178\n",
      "Contacts collected by coarse-graining  34\n",
      "Contacts in multiple days  0\n",
      "Coarse-grained contacts  2456\n",
      "Missing contacts  0\n",
      "Asymmetric contacts  0\n"
     ]
    },
    {
     "name": "stderr",
     "output_type": "stream",
     "text": [
      "iteration.greedy: INFO     number of tests today: 0\n",
      "iteration.greedy: INFO     True  : (S,I,R): (798.0, 78.0, 28.0)\n",
      "iteration.greedy: INFO     AUR_I : 0.450, prec100: 7, prec(1% of 902): 0.00, prec5%: 0.02\n",
      "iteration.greedy: INFO     sym: 1, results test algo (S,I,R): (0,0,0), infected test random: 0/0\n",
      "iteration.greedy: INFO     ...quarantining 5 guys -> got 5 infected, 71 free as birds (-1)\n"
     ]
    },
    {
     "name": "stdout",
     "output_type": "stream",
     "text": [
      "all contacts: 2278\n",
      "all contacts cut: 0\n",
      "t: 840.00 | 1200.00 hrs (50 d)"
     ]
    },
    {
     "name": "stderr",
     "output_type": "stream",
     "text": [
      "iteration.greedy: INFO     time:34\n"
     ]
    },
    {
     "name": "stdout",
     "output_type": "stream",
     "text": [
      "\n",
      "[Reached max time: 840h (35d)]\n",
      "All raw contacts 2742\n",
      "Contacts at midnight  136\n",
      "Contacts collected by coarse-graining  48\n",
      "Contacts in multiple days  0\n",
      "Coarse-grained contacts  2830\n",
      "Missing contacts  0\n",
      "Asymmetric contacts  0\n"
     ]
    },
    {
     "name": "stderr",
     "output_type": "stream",
     "text": [
      "iteration.greedy: INFO     adding contacts in the interval [816, 840]\n",
      "iteration.greedy: INFO     number of unique contacts: 2646\n",
      "iteration.greedy: INFO     number of tests today: 0\n",
      "iteration.greedy: INFO     True  : (S,I,R): (788.0, 87.0, 29.0)\n",
      "iteration.greedy: INFO     AUR_I : 0.473, prec100: 6, prec(1% of 897): 0.00, prec5%: 0.09\n",
      "iteration.greedy: INFO     sym: 1, results test algo (S,I,R): (0,0,0), infected test random: 0/0\n",
      "iteration.greedy: INFO     ...quarantining 1 guys -> got 1 infected, 79 free as birds (+8)\n"
     ]
    },
    {
     "name": "stdout",
     "output_type": "stream",
     "text": [
      "all contacts: 4924\n",
      "all contacts cut: 0\n",
      "t: 864.00 | 1200.00 hrs (50 d)"
     ]
    },
    {
     "name": "stderr",
     "output_type": "stream",
     "text": [
      "iteration.greedy: INFO     time:35\n"
     ]
    },
    {
     "name": "stdout",
     "output_type": "stream",
     "text": [
      "\n",
      "[Reached max time: 864h (36d)]\n"
     ]
    },
    {
     "name": "stderr",
     "output_type": "stream",
     "text": [
      "iteration.greedy: INFO     adding contacts in the interval [840, 864]\n"
     ]
    },
    {
     "name": "stdout",
     "output_type": "stream",
     "text": [
      "All raw contacts 2686\n",
      "Contacts at midnight  126\n",
      "Contacts collected by coarse-graining  78\n",
      "Contacts in multiple days  0\n",
      "Coarse-grained contacts  2734\n",
      "Missing contacts  0\n",
      "Asymmetric contacts  0\n"
     ]
    },
    {
     "name": "stderr",
     "output_type": "stream",
     "text": [
      "iteration.greedy: INFO     number of unique contacts: 2600\n",
      "iteration.greedy: INFO     number of tests today: 19\n"
     ]
    },
    {
     "name": "stdout",
     "output_type": "stream",
     "text": [
      "all contacts: 7524\n",
      "all contacts cut: 19\n"
     ]
    },
    {
     "name": "stderr",
     "output_type": "stream",
     "text": [
      "iteration.greedy: INFO     True  : (S,I,R): (779.0, 96.0, 29.0)\n",
      "iteration.greedy: INFO     AUR_I : 0.470, prec100: 6, prec(1% of 886): 0.00, prec5%: 0.07\n",
      "iteration.greedy: INFO     sym: 1, results test algo (S,I,R): (14,3,2), infected test random: 0/0\n",
      "iteration.greedy: INFO     ...quarantining 10 guys -> got 5 infected, 83 free as birds (+4)\n"
     ]
    },
    {
     "name": "stdout",
     "output_type": "stream",
     "text": [
      "t: 888.00 | 1200.00 hrs (50 d)"
     ]
    },
    {
     "name": "stderr",
     "output_type": "stream",
     "text": [
      "iteration.greedy: INFO     time:36\n"
     ]
    },
    {
     "name": "stdout",
     "output_type": "stream",
     "text": [
      "\n",
      "[Reached max time: 888h (37d)]\n",
      "All raw contacts 2544\n",
      "Contacts at midnight  146\n",
      "Contacts collected by coarse-graining  34\n",
      "Contacts in multiple days  0\n",
      "Coarse-grained contacts  2656\n",
      "Missing contacts  0\n",
      "Asymmetric contacts  0\n"
     ]
    },
    {
     "name": "stderr",
     "output_type": "stream",
     "text": [
      "iteration.greedy: INFO     adding contacts in the interval [864, 888]\n",
      "iteration.greedy: INFO     number of unique contacts: 2420\n",
      "iteration.greedy: INFO     number of tests today: 27\n"
     ]
    },
    {
     "name": "stdout",
     "output_type": "stream",
     "text": [
      "all contacts: 9944\n",
      "all contacts cut: 52\n"
     ]
    },
    {
     "name": "stderr",
     "output_type": "stream",
     "text": [
      "iteration.greedy: INFO     True  : (S,I,R): (767.0, 106.0, 31.0)\n",
      "iteration.greedy: INFO     AUR_I : 0.479, prec100: 9, prec(1% of 879): 0.12, prec5%: 0.07\n",
      "iteration.greedy: INFO     sym: 1, results test algo (S,I,R): (23,3,1), infected test random: 0/0\n",
      "iteration.greedy: INFO     ...quarantining 5 guys -> got 5 infected, 88 free as birds (+5)\n"
     ]
    },
    {
     "name": "stdout",
     "output_type": "stream",
     "text": [
      "t: 912.00 | 1200.00 hrs (50 d)"
     ]
    },
    {
     "name": "stderr",
     "output_type": "stream",
     "text": [
      "iteration.greedy: INFO     time:37\n"
     ]
    },
    {
     "name": "stdout",
     "output_type": "stream",
     "text": [
      "\n",
      "[Reached max time: 912h (38d)]\n",
      "All raw contacts 2672\n",
      "Contacts at midnight  118\n",
      "Contacts collected by coarse-graining  58\n",
      "Contacts in multiple days  0\n",
      "Coarse-grained contacts  2732\n",
      "Missing contacts  0\n",
      "Asymmetric contacts  0\n"
     ]
    },
    {
     "name": "stderr",
     "output_type": "stream",
     "text": [
      "iteration.greedy: INFO     adding contacts in the interval [888, 912]\n",
      "iteration.greedy: INFO     number of unique contacts: 2506\n"
     ]
    },
    {
     "name": "stdout",
     "output_type": "stream",
     "text": [
      "all contacts: 12450\n",
      "all contacts cut: 69\n"
     ]
    },
    {
     "name": "stderr",
     "output_type": "stream",
     "text": [
      "iteration.greedy: INFO     number of tests today: 17\n",
      "iteration.greedy: INFO     True  : (S,I,R): (761.0, 109.0, 34.0)\n",
      "iteration.greedy: INFO     AUR_I : 0.476, prec100: 8, prec(1% of 878): 0.00, prec5%: 0.07\n",
      "iteration.greedy: INFO     sym: 1, results test algo (S,I,R): (16,0,1), infected test random: 0/0\n",
      "iteration.greedy: INFO     ...quarantining 4 guys -> got 4 infected, 89 free as birds (+1)\n"
     ]
    },
    {
     "name": "stdout",
     "output_type": "stream",
     "text": [
      "t: 936.00 | 1200.00 hrs (50 d)"
     ]
    },
    {
     "name": "stderr",
     "output_type": "stream",
     "text": [
      "iteration.greedy: INFO     time:38\n"
     ]
    },
    {
     "name": "stdout",
     "output_type": "stream",
     "text": [
      "\n",
      "[Reached max time: 936h (39d)]\n",
      "All raw contacts"
     ]
    },
    {
     "name": "stderr",
     "output_type": "stream",
     "text": [
      "iteration.greedy: INFO     adding contacts in the interval [912, 936]\n",
      "iteration.greedy: INFO     number of unique contacts: 1740\n"
     ]
    },
    {
     "name": "stdout",
     "output_type": "stream",
     "text": [
      " 1944\n",
      "Contacts at midnight  78\n",
      "Contacts collected by coarse-graining  42\n",
      "Contacts in multiple days  0\n",
      "Coarse-grained contacts  1980\n",
      "Missing contacts  0\n",
      "Asymmetric contacts  0\n"
     ]
    },
    {
     "name": "stderr",
     "output_type": "stream",
     "text": [
      "iteration.greedy: INFO     number of tests today: 17\n"
     ]
    },
    {
     "name": "stdout",
     "output_type": "stream",
     "text": [
      "all contacts: 14190\n",
      "all contacts cut: 85\n"
     ]
    },
    {
     "name": "stderr",
     "output_type": "stream",
     "text": [
      "iteration.greedy: INFO     True  : (S,I,R): (754.0, 115.0, 35.0)\n",
      "iteration.greedy: INFO     AUR_I : 0.504, prec100: 12, prec(1% of 866): 0.12, prec5%: 0.16\n",
      "iteration.greedy: INFO     sym: 1, results test algo (S,I,R): (12,4,1), infected test random: 0/0\n",
      "iteration.greedy: INFO     ...quarantining 10 guys -> got 8 infected, 88 free as birds (-1)\n"
     ]
    },
    {
     "name": "stdout",
     "output_type": "stream",
     "text": [
      "t: 960.00 | 1200.00 hrs (50 d)\n",
      "[Reached max time: 960h (40d)]\n"
     ]
    },
    {
     "name": "stderr",
     "output_type": "stream",
     "text": [
      "iteration.greedy: INFO     time:39\n",
      "iteration.greedy: INFO     adding contacts in the interval [936, 960]\n",
      "iteration.greedy: INFO     number of unique contacts: 2224\n"
     ]
    },
    {
     "name": "stdout",
     "output_type": "stream",
     "text": [
      "All raw contacts 2490\n",
      "Contacts at midnight  130\n",
      "Contacts collected by coarse-graining  52\n",
      "Contacts in multiple days  0\n",
      "Coarse-grained contacts  2568\n",
      "Missing contacts  0\n",
      "Asymmetric contacts  0\n",
      "all contacts: 16414\n",
      "all contacts cut: 181\n"
     ]
    },
    {
     "name": "stderr",
     "output_type": "stream",
     "text": [
      "iteration.greedy: INFO     number of tests today: 72\n",
      "iteration.greedy: INFO     True  : (S,I,R): (743.0, 124.0, 37.0)\n",
      "iteration.greedy: INFO     AUR_I : 0.467, prec100: 5, prec(1% of 847): 0.00, prec5%: 0.02\n",
      "iteration.greedy: INFO     sym: 2, results test algo (S,I,R): (62,7,3), infected test random: 0/0\n",
      "iteration.greedy: INFO     ...quarantining 19 guys -> got 18 infected, 80 free as birds (-8)\n"
     ]
    },
    {
     "name": "stdout",
     "output_type": "stream",
     "text": [
      "t: 984.00 | 1200.00 hrs (50 d)"
     ]
    },
    {
     "name": "stderr",
     "output_type": "stream",
     "text": [
      "iteration.greedy: INFO     time:40\n"
     ]
    },
    {
     "name": "stdout",
     "output_type": "stream",
     "text": [
      "\n",
      "[Reached max time: 984h (41d)]\n",
      "All raw contacts 2426\n",
      "Contacts at midnight  216\n",
      "Contacts collected by coarse-graining  26\n",
      "Contacts in multiple days  0\n",
      "Coarse-grained contacts  2616\n",
      "Missing contacts  0\n",
      "Asymmetric contacts  0\n"
     ]
    },
    {
     "name": "stderr",
     "output_type": "stream",
     "text": [
      "iteration.greedy: INFO     adding contacts in the interval [960, 984]\n",
      "iteration.greedy: INFO     number of unique contacts: 2100\n"
     ]
    },
    {
     "name": "stdout",
     "output_type": "stream",
     "text": [
      "all contacts: 18514\n",
      "all contacts cut: 414\n"
     ]
    },
    {
     "name": "stderr",
     "output_type": "stream",
     "text": [
      "iteration.greedy: INFO     number of tests today: 142\n",
      "iteration.greedy: INFO     True  : (S,I,R): (732.0, 132.0, 40.0)\n",
      "iteration.greedy: INFO     AUR_I : 0.515, prec100: 6, prec(1% of 782): 0.00, prec5%: 0.05\n",
      "iteration.greedy: INFO     sym: 2, results test algo (S,I,R): (115,24,3), infected test random: 0/0\n",
      "iteration.greedy: INFO     ...quarantining 58 guys -> got 42 infected, 48 free as birds (-32)\n"
     ]
    },
    {
     "name": "stdout",
     "output_type": "stream",
     "text": [
      "t: 1008.00 | 1200.00 hrs (50 d)"
     ]
    },
    {
     "name": "stderr",
     "output_type": "stream",
     "text": [
      "iteration.greedy: INFO     time:41\n"
     ]
    },
    {
     "name": "stdout",
     "output_type": "stream",
     "text": [
      "\n",
      "[Reached max time: 1008h (42d)]\n",
      "All raw contacts 2648\n",
      "Contacts at midnight  212\n",
      "Contacts collected by coarse-graining  34\n",
      "Contacts in multiple days  "
     ]
    },
    {
     "name": "stderr",
     "output_type": "stream",
     "text": [
      "iteration.greedy: INFO     adding contacts in the interval [984, 1008]\n"
     ]
    },
    {
     "name": "stdout",
     "output_type": "stream",
     "text": [
      "0\n",
      "Coarse-grained contacts  2826\n",
      "Missing contacts  0\n",
      "Asymmetric contacts  0\n"
     ]
    },
    {
     "name": "stderr",
     "output_type": "stream",
     "text": [
      "iteration.greedy: INFO     number of unique contacts: 1980\n"
     ]
    },
    {
     "name": "stdout",
     "output_type": "stream",
     "text": [
      "all contacts: 20494\n",
      "all contacts cut: 1121\n"
     ]
    },
    {
     "name": "stderr",
     "output_type": "stream",
     "text": [
      "iteration.greedy: INFO     number of tests today: 244\n",
      "iteration.greedy: INFO     True  : (S,I,R): (727.0, 132.0, 45.0)\n",
      "iteration.greedy: INFO     AUR_I : 0.399, prec100: 2, prec(1% of 750): 0.14, prec5%: 0.03\n",
      "iteration.greedy: INFO     sym: 2, results test algo (S,I,R): (223,12,9), infected test random: 0/0\n",
      "iteration.greedy: INFO     ...quarantining 30 guys -> got 23 infected, 26 free as birds (-22)\n"
     ]
    },
    {
     "name": "stdout",
     "output_type": "stream",
     "text": [
      "t: 1032.00 | 1200.00 hrs (50 d)"
     ]
    },
    {
     "name": "stderr",
     "output_type": "stream",
     "text": [
      "iteration.greedy: INFO     time:42\n"
     ]
    },
    {
     "name": "stdout",
     "output_type": "stream",
     "text": [
      "\n",
      "[Reached max time: 1032h (43d)]\n"
     ]
    },
    {
     "name": "stderr",
     "output_type": "stream",
     "text": [
      "iteration.greedy: INFO     adding contacts in the interval [1008, 1032]\n",
      "iteration.greedy: INFO     number of unique contacts: 1954\n"
     ]
    },
    {
     "name": "stdout",
     "output_type": "stream",
     "text": [
      "All raw contacts 2850\n",
      "Contacts at midnight  138\n",
      "Contacts collected by coarse-graining  56\n",
      "Contacts in multiple days  0\n",
      "Coarse-grained contacts  2932\n",
      "Missing contacts  0\n",
      "Asymmetric contacts  0\n",
      "all contacts: 22448\n",
      "all contacts cut: 1481\n"
     ]
    },
    {
     "name": "stderr",
     "output_type": "stream",
     "text": [
      "iteration.greedy: INFO     number of tests today: 101\n",
      "iteration.greedy: INFO     True  : (S,I,R): (722.0, 134.0, 48.0)\n",
      "iteration.greedy: INFO     AUR_I : 0.512, prec100: 4, prec(1% of 730): 0.29, prec5%: 0.08\n",
      "iteration.greedy: INFO     sym: 2, results test algo (S,I,R): (90,8,3), infected test random: 0/0\n",
      "iteration.greedy: INFO     ...quarantining 14 guys -> got 13 infected, 17 free as birds (-9)\n"
     ]
    },
    {
     "name": "stdout",
     "output_type": "stream",
     "text": [
      "t: 1056.00 | 1200.00 hrs (50 d)"
     ]
    },
    {
     "name": "stderr",
     "output_type": "stream",
     "text": [
      "iteration.greedy: INFO     time:43\n"
     ]
    },
    {
     "name": "stdout",
     "output_type": "stream",
     "text": [
      "\n",
      "[Reached max time: 1056h (44d)]\n"
     ]
    },
    {
     "name": "stderr",
     "output_type": "stream",
     "text": [
      "iteration.greedy: INFO     adding contacts in the interval [1032, 1056]\n",
      "iteration.greedy: INFO     number of unique contacts: 1618\n"
     ]
    },
    {
     "name": "stdout",
     "output_type": "stream",
     "text": [
      "All raw contacts 2528\n",
      "Contacts at midnight  92\n",
      "Contacts collected by coarse-graining  30\n",
      "Contacts in multiple days  0\n",
      "Coarse-grained contacts  2590\n",
      "Missing contacts  0\n",
      "Asymmetric contacts  0\n",
      "all contacts: 24066\n",
      "all contacts cut: 1645\n"
     ]
    },
    {
     "name": "stderr",
     "output_type": "stream",
     "text": [
      "iteration.greedy: INFO     number of tests today: 33\n",
      "iteration.greedy: INFO     True  : (S,I,R): (714.0, 137.0, 53.0)\n",
      "iteration.greedy: INFO     AUR_I : 0.489, prec100: 2, prec(1% of 722): 0.00, prec5%: 0.03\n",
      "iteration.greedy: INFO     sym: 3, results test algo (S,I,R): (31,2,0), infected test random: 0/0\n",
      "iteration.greedy: INFO     ...quarantining 6 guys -> got 6 infected, 11 free as birds (-6)\n"
     ]
    },
    {
     "name": "stdout",
     "output_type": "stream",
     "text": [
      "t: 1080.00 | 1200.00 hrs (50 d)"
     ]
    },
    {
     "name": "stderr",
     "output_type": "stream",
     "text": [
      "iteration.greedy: INFO     time:44\n"
     ]
    },
    {
     "name": "stdout",
     "output_type": "stream",
     "text": [
      "\n",
      "[Reached max time: 1080h (45d)]\n"
     ]
    },
    {
     "name": "stderr",
     "output_type": "stream",
     "text": [
      "iteration.greedy: INFO     adding contacts in the interval [1056, 1080]\n",
      "iteration.greedy: INFO     number of unique contacts: 1570\n"
     ]
    },
    {
     "name": "stdout",
     "output_type": "stream",
     "text": [
      "All raw contacts 2424\n",
      "Contacts at midnight  110\n",
      "Contacts collected by coarse-graining  24\n",
      "Contacts in multiple days  0\n",
      "Coarse-grained contacts  2510\n",
      "Missing contacts  0\n",
      "Asymmetric contacts  0\n",
      "all contacts: 1570\n",
      "all contacts cut: 0\n"
     ]
    },
    {
     "name": "stderr",
     "output_type": "stream",
     "text": [
      "iteration.greedy: INFO     number of tests today: 0\n",
      "iteration.greedy: INFO     True  : (S,I,R): (699.0, 147.0, 58.0)\n",
      "iteration.greedy: INFO     AUR_I : 0.583, prec100: 2, prec(1% of 717): 0.00, prec5%: 0.00\n",
      "iteration.greedy: INFO     sym: 3, results test algo (S,I,R): (0,0,0), infected test random: 0/0\n",
      "iteration.greedy: INFO     ...quarantining 4 guys -> got 4 infected, 11 free as birds (+0)\n"
     ]
    },
    {
     "name": "stdout",
     "output_type": "stream",
     "text": [
      "t: 1104.00 | 1200.00 hrs (50 d)"
     ]
    },
    {
     "name": "stderr",
     "output_type": "stream",
     "text": [
      "iteration.greedy: INFO     time:45\n"
     ]
    },
    {
     "name": "stdout",
     "output_type": "stream",
     "text": [
      "\n",
      "[Reached max time: 1104h (46d)]\n"
     ]
    },
    {
     "name": "stderr",
     "output_type": "stream",
     "text": [
      "iteration.greedy: INFO     adding contacts in the interval [1080, 1104]\n",
      "iteration.greedy: INFO     number of unique contacts: 1270\n"
     ]
    },
    {
     "name": "stdout",
     "output_type": "stream",
     "text": [
      "All raw contacts 2134\n",
      "Contacts at midnight  126\n",
      "Contacts collected by coarse-graining  50\n",
      "Contacts in multiple days  0\n",
      "Coarse-grained contacts  2210\n",
      "Missing contacts  0\n",
      "Asymmetric contacts  0\n"
     ]
    },
    {
     "name": "stderr",
     "output_type": "stream",
     "text": [
      "iteration.greedy: INFO     number of tests today: 5\n"
     ]
    },
    {
     "name": "stdout",
     "output_type": "stream",
     "text": [
      "all contacts: 2840\n",
      "all contacts cut: 5\n"
     ]
    },
    {
     "name": "stderr",
     "output_type": "stream",
     "text": [
      "iteration.greedy: INFO     True  : (S,I,R): (692.0, 148.0, 64.0)\n",
      "iteration.greedy: INFO     AUR_I : 0.537, prec100: 0, prec(1% of 713): 0.00, prec5%: 0.00\n",
      "iteration.greedy: INFO     sym: 1, results test algo (S,I,R): (5,0,0), infected test random: 0/0\n",
      "iteration.greedy: INFO     ...quarantining 2 guys -> got 2 infected, 10 free as birds (-1)\n"
     ]
    },
    {
     "name": "stdout",
     "output_type": "stream",
     "text": [
      "t: 1128.00 | 1200.00 hrs (50 d)"
     ]
    },
    {
     "name": "stderr",
     "output_type": "stream",
     "text": [
      "iteration.greedy: INFO     time:46\n"
     ]
    },
    {
     "name": "stdout",
     "output_type": "stream",
     "text": [
      "\n",
      "[Reached max time: 1128h (47d)]\n",
      "All raw contacts 2316\n",
      "Contacts at midnight  148\n",
      "Contacts collected by coarse-graining  48\n",
      "Contacts in multiple days  0\n",
      "Coarse-grained contacts  2416\n",
      "Missing contacts  0\n",
      "Asymmetric contacts  0\n"
     ]
    },
    {
     "name": "stderr",
     "output_type": "stream",
     "text": [
      "iteration.greedy: INFO     adding contacts in the interval [1104, 1128]\n",
      "iteration.greedy: INFO     number of unique contacts: 1434\n"
     ]
    },
    {
     "name": "stdout",
     "output_type": "stream",
     "text": [
      "all contacts: 4274\n",
      "all contacts cut: 16\n"
     ]
    },
    {
     "name": "stderr",
     "output_type": "stream",
     "text": [
      "iteration.greedy: INFO     number of tests today: 0\n",
      "iteration.greedy: INFO     True  : (S,I,R): (689.0, 143.0, 72.0)\n",
      "iteration.greedy: INFO     AUR_I : 0.475, prec100: 0, prec(1% of 711): 0.00, prec5%: 0.00\n",
      "iteration.greedy: INFO     sym: 0, results test algo (S,I,R): (0,0,0), infected test random: 0/0\n",
      "iteration.greedy: INFO     ...quarantining 0 guys -> got 0 infected, 10 free as birds (+0)\n"
     ]
    },
    {
     "name": "stdout",
     "output_type": "stream",
     "text": [
      "t: 1152.00 | 1200.00 hrs (50 d)\n",
      "[Reached max time: 1152h (48d)]\n"
     ]
    },
    {
     "name": "stderr",
     "output_type": "stream",
     "text": [
      "iteration.greedy: INFO     time:47\n",
      "iteration.greedy: INFO     adding contacts in the interval [1128, 1152]\n",
      "iteration.greedy: INFO     number of unique contacts: 1460\n"
     ]
    },
    {
     "name": "stdout",
     "output_type": "stream",
     "text": [
      "All raw contacts 2328\n",
      "Contacts at midnight  152\n",
      "Contacts collected by coarse-graining  30\n",
      "Contacts in multiple days  0\n",
      "Coarse-grained contacts  2450\n",
      "Missing contacts  0\n",
      "Asymmetric contacts  0\n",
      "all contacts: 5734\n",
      "all contacts cut: 16\n"
     ]
    },
    {
     "name": "stderr",
     "output_type": "stream",
     "text": [
      "iteration.greedy: INFO     number of tests today: 0\n",
      "iteration.greedy: INFO     True  : (S,I,R): (689.0, 141.0, 74.0)\n",
      "iteration.greedy: INFO     AUR_I : 0.494, prec100: 0, prec(1% of 711): 0.00, prec5%: 0.00\n",
      "iteration.greedy: INFO     sym: 0, results test algo (S,I,R): (0,0,0), infected test random: 0/0\n",
      "iteration.greedy: INFO     ...quarantining 0 guys -> got 0 infected, 10 free as birds (+0)\n"
     ]
    },
    {
     "name": "stdout",
     "output_type": "stream",
     "text": [
      "t: 1176.00 | 1200.00 hrs (50 d)\n",
      "[Reached max time: 1176h (49d)]\n"
     ]
    },
    {
     "name": "stderr",
     "output_type": "stream",
     "text": [
      "iteration.greedy: INFO     time:48\n",
      "iteration.greedy: INFO     adding contacts in the interval [1152, 1176]\n",
      "iteration.greedy: INFO     number of unique contacts: 1550\n"
     ]
    },
    {
     "name": "stdout",
     "output_type": "stream",
     "text": [
      "All raw contacts 2432\n",
      "Contacts at midnight  134\n",
      "Contacts collected by coarse-graining  56\n",
      "Contacts in multiple days  0\n",
      "Coarse-grained contacts  2510\n",
      "Missing contacts  0\n",
      "Asymmetric contacts  0\n"
     ]
    },
    {
     "name": "stderr",
     "output_type": "stream",
     "text": [
      "iteration.greedy: INFO     number of tests today: 0\n",
      "iteration.greedy: INFO     True  : (S,I,R): (689.0, 132.0, 83.0)\n",
      "iteration.greedy: INFO     AUR_I : 0.483, prec100: 0, prec(1% of 711): 0.00, prec5%: 0.00\n",
      "iteration.greedy: INFO     sym: 1, results test algo (S,I,R): (0,0,0), infected test random: 0/0\n",
      "iteration.greedy: INFO     ...quarantining 3 guys -> got 3 infected, 7 free as birds (-3)\n"
     ]
    },
    {
     "name": "stdout",
     "output_type": "stream",
     "text": [
      "all contacts: 7284\n",
      "all contacts cut: 16\n",
      "t: 1197.94 | 1200.00 hrs (50 d)"
     ]
    },
    {
     "name": "stderr",
     "output_type": "stream",
     "text": [
      "iteration.greedy: INFO     time:49\n",
      "iteration.greedy: INFO     adding contacts in the interval [1176, 1200]\n",
      "iteration.greedy: INFO     number of unique contacts: 1636\n"
     ]
    },
    {
     "name": "stdout",
     "output_type": "stream",
     "text": [
      "All raw contacts 2582\n",
      "Contacts at midnight  78\n",
      "Contacts collected by coarse-graining  64\n",
      "Contacts in multiple days  0\n",
      "Coarse-grained contacts  2596\n",
      "Missing contacts  0\n",
      "Asymmetric contacts  0\n"
     ]
    },
    {
     "name": "stderr",
     "output_type": "stream",
     "text": [
      "iteration.greedy: INFO     number of tests today: 8\n",
      "iteration.greedy: INFO     True  : (S,I,R): (688.0, 125.0, 91.0)\n",
      "iteration.greedy: INFO     AUR_I : 0.475, prec100: 0, prec(1% of 708): 0.00, prec5%: 0.00\n",
      "iteration.greedy: INFO     sym: 0, results test algo (S,I,R): (8,0,0), infected test random: 0/0\n",
      "iteration.greedy: INFO     ...quarantining 0 guys -> got 0 infected, 6 free as birds (-1)\n"
     ]
    },
    {
     "name": "stdout",
     "output_type": "stream",
     "text": [
      "all contacts: 8920\n",
      "all contacts cut: 24\n",
      "Time  7.713759183883667\n",
      "t: 24.00 | 1200.00 hrs (50 d)"
     ]
    },
    {
     "name": "stderr",
     "output_type": "stream",
     "text": [
      "iteration.no_intervention: INFO     time:0\n"
     ]
    },
    {
     "name": "stdout",
     "output_type": "stream",
     "text": [
      "\n",
      "[Reached max time: 24h (1d)]\n",
      "t: 48.00 | 1200.00 hrs (50 d)"
     ]
    },
    {
     "name": "stderr",
     "output_type": "stream",
     "text": [
      "iteration.no_intervention: INFO     time:1\n"
     ]
    },
    {
     "name": "stdout",
     "output_type": "stream",
     "text": [
      "\n",
      "[Reached max time: 48h (2d)]\n",
      "t: 72.00 | 1200.00 hrs (50 d)"
     ]
    },
    {
     "name": "stderr",
     "output_type": "stream",
     "text": [
      "iteration.no_intervention: INFO     time:2\n"
     ]
    },
    {
     "name": "stdout",
     "output_type": "stream",
     "text": [
      "\n",
      "[Reached max time: 72h (3d)]\n",
      "t: 96.00 | 1200.00 hrs (50 d)"
     ]
    },
    {
     "name": "stderr",
     "output_type": "stream",
     "text": [
      "iteration.no_intervention: INFO     time:3\n"
     ]
    },
    {
     "name": "stdout",
     "output_type": "stream",
     "text": [
      "\n",
      "[Reached max time: 96h (4d)]\n",
      "t: 120.00 | 1200.00 hrs (50 d)"
     ]
    },
    {
     "name": "stderr",
     "output_type": "stream",
     "text": [
      "iteration.no_intervention: INFO     time:4\n"
     ]
    },
    {
     "name": "stdout",
     "output_type": "stream",
     "text": [
      "\n",
      "[Reached max time: 120h (5d)]\n",
      "t: 144.00 | 1200.00 hrs (50 d)"
     ]
    },
    {
     "name": "stderr",
     "output_type": "stream",
     "text": [
      "iteration.no_intervention: INFO     time:5\n"
     ]
    },
    {
     "name": "stdout",
     "output_type": "stream",
     "text": [
      "\n",
      "[Reached max time: 144h (6d)]\n",
      "t: 168.00 | 1200.00 hrs (50 d)"
     ]
    },
    {
     "name": "stderr",
     "output_type": "stream",
     "text": [
      "iteration.no_intervention: INFO     time:6\n"
     ]
    },
    {
     "name": "stdout",
     "output_type": "stream",
     "text": [
      "\n",
      "[Reached max time: 168h (7d)]\n",
      "t: 192.00 | 1200.00 hrs (50 d)"
     ]
    },
    {
     "name": "stderr",
     "output_type": "stream",
     "text": [
      "iteration.no_intervention: INFO     time:7\n"
     ]
    },
    {
     "name": "stdout",
     "output_type": "stream",
     "text": [
      "\n",
      "[Reached max time: 192h (8d)]\n",
      "t: 216.00 | 1200.00 hrs (50 d)"
     ]
    },
    {
     "name": "stderr",
     "output_type": "stream",
     "text": [
      "iteration.no_intervention: INFO     time:8\n"
     ]
    },
    {
     "name": "stdout",
     "output_type": "stream",
     "text": [
      "\n",
      "[Reached max time: 216h (9d)]\n",
      "t: 240.00 | 1200.00 hrs (50 d)"
     ]
    },
    {
     "name": "stderr",
     "output_type": "stream",
     "text": [
      "iteration.no_intervention: INFO     time:9\n"
     ]
    },
    {
     "name": "stdout",
     "output_type": "stream",
     "text": [
      "\n",
      "[Reached max time: 240h (10d)]\n",
      "t: 264.00 | 1200.00 hrs (50 d)"
     ]
    },
    {
     "name": "stderr",
     "output_type": "stream",
     "text": [
      "iteration.no_intervention: INFO     time:10\n"
     ]
    },
    {
     "name": "stdout",
     "output_type": "stream",
     "text": [
      "\n",
      "[Reached max time: 264h (11d)]\n",
      "t: 288.00 | 1200.00 hrs (50 d)"
     ]
    },
    {
     "name": "stderr",
     "output_type": "stream",
     "text": [
      "iteration.no_intervention: INFO     time:11\n"
     ]
    },
    {
     "name": "stdout",
     "output_type": "stream",
     "text": [
      "\n",
      "[Reached max time: 288h (12d)]\n",
      "t: 312.00 | 1200.00 hrs (50 d)"
     ]
    },
    {
     "name": "stderr",
     "output_type": "stream",
     "text": [
      "iteration.no_intervention: INFO     time:12\n"
     ]
    },
    {
     "name": "stdout",
     "output_type": "stream",
     "text": [
      "\n",
      "[Reached max time: 312h (13d)]\n",
      "t: 336.00 | 1200.00 hrs (50 d)"
     ]
    },
    {
     "name": "stderr",
     "output_type": "stream",
     "text": [
      "iteration.no_intervention: INFO     time:13\n"
     ]
    },
    {
     "name": "stdout",
     "output_type": "stream",
     "text": [
      "\n",
      "[Reached max time: 336h (14d)]\n",
      "t: 360.00 | 1200.00 hrs (50 d)"
     ]
    },
    {
     "name": "stderr",
     "output_type": "stream",
     "text": [
      "iteration.no_intervention: INFO     time:14\n"
     ]
    },
    {
     "name": "stdout",
     "output_type": "stream",
     "text": [
      "\n",
      "[Reached max time: 360h (15d)]\n",
      "t: 384.00 | 1200.00 hrs (50 d)"
     ]
    },
    {
     "name": "stderr",
     "output_type": "stream",
     "text": [
      "iteration.no_intervention: INFO     time:15\n"
     ]
    },
    {
     "name": "stdout",
     "output_type": "stream",
     "text": [
      "\n",
      "[Reached max time: 384h (16d)]\n",
      "t: 408.00 | 1200.00 hrs (50 d)"
     ]
    },
    {
     "name": "stderr",
     "output_type": "stream",
     "text": [
      "iteration.no_intervention: INFO     time:16\n"
     ]
    },
    {
     "name": "stdout",
     "output_type": "stream",
     "text": [
      "\n",
      "[Reached max time: 408h (17d)]\n",
      "t: 432.00 | 1200.00 hrs (50 d)"
     ]
    },
    {
     "name": "stderr",
     "output_type": "stream",
     "text": [
      "iteration.no_intervention: INFO     time:17\n"
     ]
    },
    {
     "name": "stdout",
     "output_type": "stream",
     "text": [
      "\n",
      "[Reached max time: 432h (18d)]\n",
      "t: 456.00 | 1200.00 hrs (50 d)"
     ]
    },
    {
     "name": "stderr",
     "output_type": "stream",
     "text": [
      "iteration.no_intervention: INFO     time:18\n"
     ]
    },
    {
     "name": "stdout",
     "output_type": "stream",
     "text": [
      "\n",
      "[Reached max time: 456h (19d)]\n",
      "t: 480.00 | 1200.00 hrs (50 d)"
     ]
    },
    {
     "name": "stderr",
     "output_type": "stream",
     "text": [
      "iteration.no_intervention: INFO     time:19\n"
     ]
    },
    {
     "name": "stdout",
     "output_type": "stream",
     "text": [
      "\n",
      "[Reached max time: 480h (20d)]\n",
      "t: 504.00 | 1200.00 hrs (50 d)"
     ]
    },
    {
     "name": "stderr",
     "output_type": "stream",
     "text": [
      "iteration.no_intervention: INFO     time:20\n"
     ]
    },
    {
     "name": "stdout",
     "output_type": "stream",
     "text": [
      "\n",
      "[Reached max time: 504h (21d)]\n",
      "t: 528.00 | 1200.00 hrs (50 d)"
     ]
    },
    {
     "name": "stderr",
     "output_type": "stream",
     "text": [
      "iteration.no_intervention: INFO     time:21\n"
     ]
    },
    {
     "name": "stdout",
     "output_type": "stream",
     "text": [
      "\n",
      "[Reached max time: 528h (22d)]\n",
      "t: 552.00 | 1200.00 hrs (50 d)"
     ]
    },
    {
     "name": "stderr",
     "output_type": "stream",
     "text": [
      "iteration.no_intervention: INFO     time:22\n"
     ]
    },
    {
     "name": "stdout",
     "output_type": "stream",
     "text": [
      "\n",
      "[Reached max time: 552h (23d)]\n",
      "t: 576.00 | 1200.00 hrs (50 d)"
     ]
    },
    {
     "name": "stderr",
     "output_type": "stream",
     "text": [
      "iteration.no_intervention: INFO     time:23\n"
     ]
    },
    {
     "name": "stdout",
     "output_type": "stream",
     "text": [
      "\n",
      "[Reached max time: 576h (24d)]\n",
      "t: 600.00 | 1200.00 hrs (50 d)"
     ]
    },
    {
     "name": "stderr",
     "output_type": "stream",
     "text": [
      "iteration.no_intervention: INFO     time:24\n"
     ]
    },
    {
     "name": "stdout",
     "output_type": "stream",
     "text": [
      "\n",
      "[Reached max time: 600h (25d)]\n",
      "t: 624.00 | 1200.00 hrs (50 d)\n",
      "[Reached max time: 624h (26d)]\n"
     ]
    },
    {
     "name": "stderr",
     "output_type": "stream",
     "text": [
      "iteration.no_intervention: INFO     time:25\n"
     ]
    },
    {
     "name": "stdout",
     "output_type": "stream",
     "text": [
      "t: 648.00 | 1200.00 hrs (50 d)\n",
      "[Reached max time: 648h (27d)]\n"
     ]
    },
    {
     "name": "stderr",
     "output_type": "stream",
     "text": [
      "iteration.no_intervention: INFO     time:26\n"
     ]
    },
    {
     "name": "stdout",
     "output_type": "stream",
     "text": [
      "t: 672.00 | 1200.00 hrs (50 d)"
     ]
    },
    {
     "name": "stderr",
     "output_type": "stream",
     "text": [
      "iteration.no_intervention: INFO     time:27\n"
     ]
    },
    {
     "name": "stdout",
     "output_type": "stream",
     "text": [
      "\n",
      "[Reached max time: 672h (28d)]\n",
      "t: 696.00 | 1200.00 hrs (50 d)"
     ]
    },
    {
     "name": "stderr",
     "output_type": "stream",
     "text": [
      "iteration.no_intervention: INFO     time:28\n"
     ]
    },
    {
     "name": "stdout",
     "output_type": "stream",
     "text": [
      "\n",
      "[Reached max time: 696h (29d)]\n",
      "t: 720.00 | 1200.00 hrs (50 d)"
     ]
    },
    {
     "name": "stderr",
     "output_type": "stream",
     "text": [
      "iteration.no_intervention: INFO     time:29\n"
     ]
    },
    {
     "name": "stdout",
     "output_type": "stream",
     "text": [
      "\n",
      "[Reached max time: 720h (30d)]\n",
      "t: 744.00 | 1200.00 hrs (50 d)\n",
      "[Reached max time: 744h (31d)]\n"
     ]
    },
    {
     "name": "stderr",
     "output_type": "stream",
     "text": [
      "iteration.no_intervention: INFO     time:30\n"
     ]
    },
    {
     "name": "stdout",
     "output_type": "stream",
     "text": [
      "t: 768.00 | 1200.00 hrs (50 d)"
     ]
    },
    {
     "name": "stderr",
     "output_type": "stream",
     "text": [
      "iteration.no_intervention: INFO     time:31\n"
     ]
    },
    {
     "name": "stdout",
     "output_type": "stream",
     "text": [
      "\n",
      "[Reached max time: 768h (32d)]\n",
      "t: 792.00 | 1200.00 hrs (50 d)\n",
      "[Reached max time: 792h (33d)]\n"
     ]
    },
    {
     "name": "stderr",
     "output_type": "stream",
     "text": [
      "iteration.no_intervention: INFO     time:32\n"
     ]
    },
    {
     "name": "stdout",
     "output_type": "stream",
     "text": [
      "t: 816.00 | 1200.00 hrs (50 d)\n",
      "[Reached max time: 816h (34d)]\n"
     ]
    },
    {
     "name": "stderr",
     "output_type": "stream",
     "text": [
      "iteration.no_intervention: INFO     time:33\n"
     ]
    },
    {
     "name": "stdout",
     "output_type": "stream",
     "text": [
      "t: 840.00 | 1200.00 hrs (50 d)\n",
      "[Reached max time: 840h (35d)]\n"
     ]
    },
    {
     "name": "stderr",
     "output_type": "stream",
     "text": [
      "iteration.no_intervention: INFO     time:34\n"
     ]
    },
    {
     "name": "stdout",
     "output_type": "stream",
     "text": [
      "t: 864.00 | 1200.00 hrs (50 d)\n",
      "[Reached max time: 864h (36d)]\n"
     ]
    },
    {
     "name": "stderr",
     "output_type": "stream",
     "text": [
      "iteration.no_intervention: INFO     time:35\n"
     ]
    },
    {
     "name": "stdout",
     "output_type": "stream",
     "text": [
      "t: 888.00 | 1200.00 hrs (50 d)\n",
      "[Reached max time: 888h (37d)]\n"
     ]
    },
    {
     "name": "stderr",
     "output_type": "stream",
     "text": [
      "iteration.no_intervention: INFO     time:36\n"
     ]
    },
    {
     "name": "stdout",
     "output_type": "stream",
     "text": [
      "t: 912.00 | 1200.00 hrs (50 d)\n",
      "[Reached max time: 912h (38d)]\n"
     ]
    },
    {
     "name": "stderr",
     "output_type": "stream",
     "text": [
      "iteration.no_intervention: INFO     time:37\n"
     ]
    },
    {
     "name": "stdout",
     "output_type": "stream",
     "text": [
      "t: 936.00 | 1200.00 hrs (50 d)\n",
      "[Reached max time: 936h (39d)]\n"
     ]
    },
    {
     "name": "stderr",
     "output_type": "stream",
     "text": [
      "iteration.no_intervention: INFO     time:38\n"
     ]
    },
    {
     "name": "stdout",
     "output_type": "stream",
     "text": [
      "t: 960.00 | 1200.00 hrs (50 d)"
     ]
    },
    {
     "name": "stderr",
     "output_type": "stream",
     "text": [
      "iteration.no_intervention: INFO     time:39\n"
     ]
    },
    {
     "name": "stdout",
     "output_type": "stream",
     "text": [
      "\n",
      "[Reached max time: 960h (40d)]\n",
      "t: 984.00 | 1200.00 hrs (50 d)"
     ]
    },
    {
     "name": "stderr",
     "output_type": "stream",
     "text": [
      "iteration.no_intervention: INFO     time:40\n"
     ]
    },
    {
     "name": "stdout",
     "output_type": "stream",
     "text": [
      "\n",
      "[Reached max time: 984h (41d)]\n",
      "t: 1008.00 | 1200.00 hrs (50 d)"
     ]
    },
    {
     "name": "stderr",
     "output_type": "stream",
     "text": [
      "iteration.no_intervention: INFO     time:41\n"
     ]
    },
    {
     "name": "stdout",
     "output_type": "stream",
     "text": [
      "\n",
      "[Reached max time: 1008h (42d)]\n",
      "t: 1032.00 | 1200.00 hrs (50 d)"
     ]
    },
    {
     "name": "stderr",
     "output_type": "stream",
     "text": [
      "iteration.no_intervention: INFO     time:42\n"
     ]
    },
    {
     "name": "stdout",
     "output_type": "stream",
     "text": [
      "\n",
      "[Reached max time: 1032h (43d)]\n",
      "t: 1056.00 | 1200.00 hrs (50 d)\n",
      "[Reached max time: 1056h (44d)]\n"
     ]
    },
    {
     "name": "stderr",
     "output_type": "stream",
     "text": [
      "iteration.no_intervention: INFO     time:43\n"
     ]
    },
    {
     "name": "stdout",
     "output_type": "stream",
     "text": [
      "t: 1080.00 | 1200.00 hrs (50 d)\n",
      "[Reached max time: 1080h (45d)]\n"
     ]
    },
    {
     "name": "stderr",
     "output_type": "stream",
     "text": [
      "iteration.no_intervention: INFO     time:44\n"
     ]
    },
    {
     "name": "stdout",
     "output_type": "stream",
     "text": [
      "t: 1104.00 | 1200.00 hrs (50 d)"
     ]
    },
    {
     "name": "stderr",
     "output_type": "stream",
     "text": [
      "iteration.no_intervention: INFO     time:45\n"
     ]
    },
    {
     "name": "stdout",
     "output_type": "stream",
     "text": [
      "\n",
      "[Reached max time: 1104h (46d)]\n",
      "t: 1128.00 | 1200.00 hrs (50 d)\n",
      "[Reached max time: 1128h (47d)]\n"
     ]
    },
    {
     "name": "stderr",
     "output_type": "stream",
     "text": [
      "iteration.no_intervention: INFO     time:46\n"
     ]
    },
    {
     "name": "stdout",
     "output_type": "stream",
     "text": [
      "t: 1152.00 | 1200.00 hrs (50 d)\n",
      "[Reached max time: 1152h (48d)]\n"
     ]
    },
    {
     "name": "stderr",
     "output_type": "stream",
     "text": [
      "iteration.no_intervention: INFO     time:47\n"
     ]
    },
    {
     "name": "stdout",
     "output_type": "stream",
     "text": [
      "t: 1176.00 | 1200.00 hrs (50 d)"
     ]
    },
    {
     "name": "stderr",
     "output_type": "stream",
     "text": [
      "iteration.no_intervention: INFO     time:48\n"
     ]
    },
    {
     "name": "stdout",
     "output_type": "stream",
     "text": [
      "\n",
      "[Reached max time: 1176h (49d)]\n",
      "t: 1199.26 | 1200.00 hrs (50 d)"
     ]
    },
    {
     "name": "stderr",
     "output_type": "stream",
     "text": [
      "iteration.no_intervention: INFO     time:49\n"
     ]
    },
    {
     "name": "stdout",
     "output_type": "stream",
     "text": [
      "Starting with guys:  {'expo': [70, 457, 218], 'iasy': [250, 39, 855, 486], 'ipre': [110, 72, 86, 695, 448]}\n",
      "t: 24.00 | 1200.00 hrs (50 d)"
     ]
    },
    {
     "name": "stderr",
     "output_type": "stream",
     "text": [
      "iteration.sib: INFO     time:0\n",
      "iteration.sib: INFO     adding contacts in the interval [0, 24]\n",
      "iteration.sib: INFO     number of unique contacts: 2094\n"
     ]
    },
    {
     "name": "stdout",
     "output_type": "stream",
     "text": [
      "\n",
      "[Reached max time: 24h (1d)]\n",
      "All raw contacts 2114\n",
      "Contacts at midnight  46\n",
      "Contacts collected by coarse-graining  20\n",
      "Contacts in multiple days  0\n",
      "Coarse-grained contacts  2140\n",
      "Missing contacts  0\n",
      "Asymmetric contacts  0\n",
      "sib.iterate(damp=0):  2/20 2.220e-16/0.001    \n",
      "sib.iterate(damp=0.5):  0/20 2.220e-16/0.001    \r"
     ]
    },
    {
     "name": "stderr",
     "output_type": "stream",
     "text": [
      "iteration.sib: INFO     winBP: (S,I,R): (903.0, 1.0, 0.0), seeds: 1.0, ll: -626.1\n",
      "iteration.sib: INFO     number of tests today: 0\n",
      "iteration.sib: INFO     True  : (S,I,R): (892.0, 12.0, 0.0)\n",
      "iteration.sib: INFO     AUR_I : 0.624, prec100: 3, prec(1% of 905): 0.00, prec5%: 0.02\n",
      "iteration.sib: INFO     sym: 0, results test algo (S,I,R): (0,0,0), infected test random: 0/0\n",
      "iteration.sib: INFO     ...quarantining 0 guys -> got 0 infected, 12 free as birds (+12)\n"
     ]
    },
    {
     "name": "stdout",
     "output_type": "stream",
     "text": [
      "\n",
      "t: 48.00 | 1200.00 hrs (50 d)"
     ]
    },
    {
     "name": "stderr",
     "output_type": "stream",
     "text": [
      "iteration.sib: INFO     time:1\n",
      "iteration.sib: INFO     adding contacts in the interval [24, 48]\n",
      "iteration.sib: INFO     number of unique contacts: 2096\n"
     ]
    },
    {
     "name": "stdout",
     "output_type": "stream",
     "text": [
      "\n",
      "[Reached max time: 48h (2d)]\n",
      "All raw contacts 2140\n",
      "Contacts at midnight  112\n",
      "Contacts collected by coarse-graining  44\n",
      "Contacts in multiple days  0\n",
      "Coarse-grained contacts  2208\n",
      "Missing contacts  0\n",
      "Asymmetric contacts  0\n",
      "sib.iterate(damp=0):  2/20 1.177e-11/0.001    \n",
      "sib.iterate(damp=0.5):  0/20 4.441e-16/0.001    \r"
     ]
    },
    {
     "name": "stderr",
     "output_type": "stream",
     "text": [
      "iteration.sib: INFO     winBP: (S,I,R): (903.0, 1.0, 0.0), seeds: 1.0, ll: -626.1\n"
     ]
    },
    {
     "name": "stdout",
     "output_type": "stream",
     "text": [
      "\n"
     ]
    },
    {
     "name": "stderr",
     "output_type": "stream",
     "text": [
      "iteration.sib: INFO     number of tests today: 0\n",
      "iteration.sib: INFO     True  : (S,I,R): (892.0, 12.0, 0.0)\n",
      "iteration.sib: INFO     AUR_I : 0.547, prec100: 1, prec(1% of 905): 0.00, prec5%: 0.02\n",
      "iteration.sib: INFO     sym: 0, results test algo (S,I,R): (0,0,0), infected test random: 0/0\n",
      "iteration.sib: INFO     ...quarantining 0 guys -> got 0 infected, 12 free as birds (+0)\n"
     ]
    },
    {
     "name": "stdout",
     "output_type": "stream",
     "text": [
      "t: 72.00 | 1200.00 hrs (50 d)\n",
      "[Reached max time: 72h (3d)]\n"
     ]
    },
    {
     "name": "stderr",
     "output_type": "stream",
     "text": [
      "iteration.sib: INFO     time:2\n",
      "iteration.sib: INFO     adding contacts in the interval [48, 72]\n",
      "iteration.sib: INFO     number of unique contacts: 2268\n"
     ]
    },
    {
     "name": "stdout",
     "output_type": "stream",
     "text": [
      "All raw contacts 2340\n",
      "Contacts at midnight  144\n",
      "Contacts collected by coarse-graining  72\n",
      "Contacts in multiple days  0\n",
      "Coarse-grained contacts  2412\n",
      "Missing contacts  0\n",
      "Asymmetric contacts  0\n",
      "sib.iterate(damp=0):  2/20 4.324e-11/0.001    \n",
      "sib.iterate(damp=0.5):  0/20 5.614e-16/0.001    \r"
     ]
    },
    {
     "name": "stderr",
     "output_type": "stream",
     "text": [
      "iteration.sib: INFO     winBP: (S,I,R): (903.0, 1.0, 0.0), seeds: 1.0, ll: -626.1\n",
      "iteration.sib: INFO     number of tests today: 0\n"
     ]
    },
    {
     "name": "stdout",
     "output_type": "stream",
     "text": [
      "\n"
     ]
    },
    {
     "name": "stderr",
     "output_type": "stream",
     "text": [
      "iteration.sib: INFO     True  : (S,I,R): (892.0, 12.0, 0.0)\n",
      "iteration.sib: INFO     AUR_I : 0.345, prec100: 0, prec(1% of 905): 0.00, prec5%: 0.00\n",
      "iteration.sib: INFO     sym: 0, results test algo (S,I,R): (0,0,0), infected test random: 0/0\n",
      "iteration.sib: INFO     ...quarantining 0 guys -> got 0 infected, 12 free as birds (+0)\n"
     ]
    },
    {
     "name": "stdout",
     "output_type": "stream",
     "text": [
      "t: 96.00 | 1200.00 hrs (50 d)"
     ]
    },
    {
     "name": "stderr",
     "output_type": "stream",
     "text": [
      "iteration.sib: INFO     time:3\n"
     ]
    },
    {
     "name": "stdout",
     "output_type": "stream",
     "text": [
      "\n",
      "[Reached max time: 96h (4d)]\n"
     ]
    },
    {
     "name": "stderr",
     "output_type": "stream",
     "text": [
      "iteration.sib: INFO     adding contacts in the interval [72, 96]\n",
      "iteration.sib: INFO     number of unique contacts: 2640\n"
     ]
    },
    {
     "name": "stdout",
     "output_type": "stream",
     "text": [
      "All raw contacts 2688\n",
      "Contacts at midnight  144\n",
      "Contacts collected by coarse-graining  48\n",
      "Contacts in multiple days  0\n",
      "Coarse-grained contacts  2784\n",
      "Missing contacts  0\n",
      "Asymmetric contacts  0\n",
      "sib.iterate(damp=0):  2/20 1.293e-10/0.001    \n",
      "sib.iterate(damp=0.5):  0/20 9.354e-16/0.001    \r"
     ]
    },
    {
     "name": "stderr",
     "output_type": "stream",
     "text": [
      "iteration.sib: INFO     winBP: (S,I,R): (903.0, 1.0, 0.0), seeds: 1.0, ll: -626.1\n"
     ]
    },
    {
     "name": "stdout",
     "output_type": "stream",
     "text": [
      "\n"
     ]
    },
    {
     "name": "stderr",
     "output_type": "stream",
     "text": [
      "iteration.sib: INFO     number of tests today: 0\n",
      "iteration.sib: INFO     True  : (S,I,R): (892.0, 12.0, 0.0)\n",
      "iteration.sib: INFO     AUR_I : 0.392, prec100: 0, prec(1% of 905): 0.00, prec5%: 0.00\n",
      "iteration.sib: INFO     sym: 0, results test algo (S,I,R): (0,0,0), infected test random: 0/0\n",
      "iteration.sib: INFO     ...quarantining 0 guys -> got 0 infected, 12 free as birds (+0)\n"
     ]
    },
    {
     "name": "stdout",
     "output_type": "stream",
     "text": [
      "t: 120.00 | 1200.00 hrs (50 d)"
     ]
    },
    {
     "name": "stderr",
     "output_type": "stream",
     "text": [
      "iteration.sib: INFO     time:4\n"
     ]
    },
    {
     "name": "stdout",
     "output_type": "stream",
     "text": [
      "\n",
      "[Reached max time: 120h (5d)]\n"
     ]
    },
    {
     "name": "stderr",
     "output_type": "stream",
     "text": [
      "iteration.sib: INFO     adding contacts in the interval [96, 120]\n",
      "iteration.sib: INFO     number of unique contacts: 2532\n"
     ]
    },
    {
     "name": "stdout",
     "output_type": "stream",
     "text": [
      "All raw contacts 2584\n",
      "Contacts at midnight  116\n",
      "Contacts collected by coarse-graining  52\n",
      "Contacts in multiple days  0\n",
      "Coarse-grained contacts  2648\n",
      "Missing contacts  0\n",
      "Asymmetric contacts  0\n",
      "sib.iterate(damp=0):  2/20 1.477e-09/0.001    \n",
      "sib.iterate(damp=0.5):  0/20 3.826e-15/0.001    \n"
     ]
    },
    {
     "name": "stderr",
     "output_type": "stream",
     "text": [
      "iteration.sib: INFO     winBP: (S,I,R): (903.0, 1.0, 0.0), seeds: 1.0, ll: -626.1\n",
      "iteration.sib: INFO     number of tests today: 0\n",
      "iteration.sib: INFO     True  : (S,I,R): (890.0, 14.0, 0.0)\n",
      "iteration.sib: INFO     AUR_I : 0.414, prec100: 1, prec(1% of 905): 0.00, prec5%: 0.00\n",
      "iteration.sib: INFO     sym: 0, results test algo (S,I,R): (0,0,0), infected test random: 0/0\n",
      "iteration.sib: INFO     ...quarantining 0 guys -> got 0 infected, 14 free as birds (+2)\n"
     ]
    },
    {
     "name": "stdout",
     "output_type": "stream",
     "text": [
      "t: 144.00 | 1200.00 hrs (50 d)"
     ]
    },
    {
     "name": "stderr",
     "output_type": "stream",
     "text": [
      "iteration.sib: INFO     \n",
      "observation-based inference algorithm starts now\n",
      "\n"
     ]
    },
    {
     "name": "stdout",
     "output_type": "stream",
     "text": [
      "\n",
      "[Reached max time: 144h (6d)]\n"
     ]
    },
    {
     "name": "stderr",
     "output_type": "stream",
     "text": [
      "iteration.sib: INFO     time:5\n"
     ]
    },
    {
     "name": "stdout",
     "output_type": "stream",
     "text": [
      "All raw contacts 2538\n",
      "Contacts at midnight  206\n",
      "Contacts collected by coarse-graining  40\n",
      "Contacts in multiple days  0\n",
      "Coarse-grained contacts  2704\n",
      "Missing contacts  0\n",
      "Asymmetric contacts  0\n"
     ]
    },
    {
     "name": "stderr",
     "output_type": "stream",
     "text": [
      "iteration.sib: INFO     adding contacts in the interval [120, 144]\n",
      "iteration.sib: INFO     number of unique contacts: 2498\n"
     ]
    },
    {
     "name": "stdout",
     "output_type": "stream",
     "text": [
      "sib.iterate(damp=0):  2/20 4.966e-09/0.001    \n",
      "sib.iterate(damp=0.5):  0/20 2.595e-13/0.001    \n"
     ]
    },
    {
     "name": "stderr",
     "output_type": "stream",
     "text": [
      "iteration.sib: INFO     winBP: (S,I,R): (903.0, 1.0, 0.0), seeds: 1.0, ll: -626.1\n",
      "iteration.sib: INFO     number of tests today: 897\n",
      "iteration.sib: INFO     True  : (S,I,R): (887.0, 17.0, 0.0)\n",
      "iteration.sib: INFO     AUR_I : 0.869, prec100: 0, prec(1% of 875): 0.00, prec5%: 0.00\n",
      "iteration.sib: INFO     sym: 0, results test algo (S,I,R): (883,14,0), infected test random: 0/0\n",
      "iteration.sib: INFO     ...quarantining 30 guys -> got 16 infected, 1 free as a bird (-13)\n"
     ]
    },
    {
     "name": "stdout",
     "output_type": "stream",
     "text": [
      "t: 168.00 | 1200.00 hrs (50 d)"
     ]
    },
    {
     "name": "stderr",
     "output_type": "stream",
     "text": [
      "iteration.sib: INFO     time:6\n"
     ]
    },
    {
     "name": "stdout",
     "output_type": "stream",
     "text": [
      "\n",
      "[Reached max time: 168h (7d)]\n"
     ]
    },
    {
     "name": "stderr",
     "output_type": "stream",
     "text": [
      "iteration.sib: INFO     adding contacts in the interval [144, 168]\n",
      "iteration.sib: INFO     number of unique contacts: 2360\n"
     ]
    },
    {
     "name": "stdout",
     "output_type": "stream",
     "text": [
      "All raw contacts 2632\n",
      "Contacts at midnight  206\n",
      "Contacts collected by coarse-graining  82\n",
      "Contacts in multiple days  0\n",
      "Coarse-grained contacts  2756\n",
      "Missing contacts  0\n",
      "Asymmetric contacts  0\n",
      "sib.iterate(damp=0):  3/20 2.558e-06/0.001    \n",
      "sib.iterate(damp=0.5):  0/20 6.265e-09/0.001    \r"
     ]
    },
    {
     "name": "stderr",
     "output_type": "stream",
     "text": [
      "iteration.sib: INFO     winBP: (S,I,R): (889.5, 14.5, 0.0), seeds: 14.3, ll: -1024.2\n"
     ]
    },
    {
     "name": "stdout",
     "output_type": "stream",
     "text": [
      "\n"
     ]
    },
    {
     "name": "stderr",
     "output_type": "stream",
     "text": [
      "iteration.sib: INFO     number of tests today: 123\n",
      "iteration.sib: INFO     True  : (S,I,R): (886.0, 18.0, 0.0)\n",
      "iteration.sib: INFO     AUR_I : 0.786, prec100: 0, prec(1% of 875): 0.00, prec5%: 0.00\n",
      "iteration.sib: INFO     sym: 0, results test algo (S,I,R): (123,0,0), infected test random: 0/0\n",
      "iteration.sib: INFO     ...quarantining 0 guys -> got 0 infected, 1 free as a bird (+0)\n"
     ]
    },
    {
     "name": "stdout",
     "output_type": "stream",
     "text": [
      "t: 192.00 | 1200.00 hrs (50 d)"
     ]
    },
    {
     "name": "stderr",
     "output_type": "stream",
     "text": [
      "iteration.sib: INFO     time:7\n"
     ]
    },
    {
     "name": "stdout",
     "output_type": "stream",
     "text": [
      "\n",
      "[Reached max time: 192h (8d)]\n"
     ]
    },
    {
     "name": "stderr",
     "output_type": "stream",
     "text": [
      "iteration.sib: INFO     adding contacts in the interval [168, 192]\n",
      "iteration.sib: INFO     number of unique contacts: 2558\n"
     ]
    },
    {
     "name": "stdout",
     "output_type": "stream",
     "text": [
      "All raw contacts 2848\n",
      "Contacts at midnight  142\n",
      "Contacts collected by coarse-graining  68\n",
      "Contacts in multiple days  0\n",
      "Coarse-grained contacts  2922\n",
      "Missing contacts  0\n",
      "Asymmetric contacts  0\n",
      "sib.iterate(damp=0):  2/20 9.951e-06/0.001    \n",
      "sib.iterate(damp=0.5):  0/20 4.442e-06/0.001    \r"
     ]
    },
    {
     "name": "stderr",
     "output_type": "stream",
     "text": [
      "iteration.sib: INFO     winBP: (S,I,R): (889.6, 14.4, 0.0), seeds: 14.3, ll: -1065.6\n"
     ]
    },
    {
     "name": "stdout",
     "output_type": "stream",
     "text": [
      "\n"
     ]
    },
    {
     "name": "stderr",
     "output_type": "stream",
     "text": [
      "iteration.sib: INFO     number of tests today: 18\n",
      "iteration.sib: INFO     True  : (S,I,R): (886.0, 18.0, 0.0)\n",
      "iteration.sib: INFO     AUR_I : 0.774, prec100: 0, prec(1% of 875): 0.00, prec5%: 0.00\n",
      "iteration.sib: INFO     sym: 0, results test algo (S,I,R): (18,0,0), infected test random: 0/0\n",
      "iteration.sib: INFO     ...quarantining 0 guys -> got 0 infected, 1 free as a bird (+0)\n"
     ]
    },
    {
     "name": "stdout",
     "output_type": "stream",
     "text": [
      "t: 216.00 | 1200.00 hrs (50 d)"
     ]
    },
    {
     "name": "stderr",
     "output_type": "stream",
     "text": [
      "iteration.sib: INFO     time:8\n"
     ]
    },
    {
     "name": "stdout",
     "output_type": "stream",
     "text": [
      "\n",
      "[Reached max time: 216h (9d)]\n"
     ]
    },
    {
     "name": "stderr",
     "output_type": "stream",
     "text": [
      "iteration.sib: INFO     adding contacts in the interval [192, 216]\n",
      "iteration.sib: INFO     number of unique contacts: 2234\n"
     ]
    },
    {
     "name": "stdout",
     "output_type": "stream",
     "text": [
      "All raw contacts 2374\n",
      "Contacts at midnight  188\n",
      "Contacts collected by coarse-graining  42\n",
      "Contacts in multiple days  0\n",
      "Coarse-grained contacts  2520\n",
      "Missing contacts  0\n",
      "Asymmetric contacts  0\n",
      "sib.iterate(damp=0):  2/20 1.464e-06/0.001    \n",
      "sib.iterate(damp=0.5):  0/20 2.582e-07/0.001    \n"
     ]
    },
    {
     "name": "stderr",
     "output_type": "stream",
     "text": [
      "iteration.sib: INFO     winBP: (S,I,R): (889.6, 14.4, 0.0), seeds: 14.3, ll: -1071.6\n",
      "iteration.sib: INFO     number of tests today: 7\n",
      "iteration.sib: INFO     True  : (S,I,R): (885.0, 19.0, 0.0)\n",
      "iteration.sib: INFO     AUR_I : 0.761, prec100: 0, prec(1% of 875): 0.00, prec5%: 0.00\n",
      "iteration.sib: INFO     sym: 0, results test algo (S,I,R): (7,0,0), infected test random: 0/0\n",
      "iteration.sib: INFO     ...quarantining 0 guys -> got 0 infected, 1 free as a bird (+0)\n"
     ]
    },
    {
     "name": "stdout",
     "output_type": "stream",
     "text": [
      "t: 240.00 | 1200.00 hrs (50 d)"
     ]
    },
    {
     "name": "stderr",
     "output_type": "stream",
     "text": [
      "iteration.sib: INFO     time:9\n"
     ]
    },
    {
     "name": "stdout",
     "output_type": "stream",
     "text": [
      "\n",
      "[Reached max time: 240h (10d)]\n"
     ]
    },
    {
     "name": "stderr",
     "output_type": "stream",
     "text": [
      "iteration.sib: INFO     adding contacts in the interval [216, 240]\n",
      "iteration.sib: INFO     number of unique contacts: 2368\n"
     ]
    },
    {
     "name": "stdout",
     "output_type": "stream",
     "text": [
      "All raw contacts 2540\n",
      "Contacts at midnight  138\n",
      "Contacts collected by coarse-graining  52\n",
      "Contacts in multiple days  0\n",
      "Coarse-grained contacts  2626\n",
      "Missing contacts  0\n",
      "Asymmetric contacts  0\n",
      "sib.iterate(damp=0):  2/20 1.559e-06/0.001    \n",
      "sib.iterate(damp=0.5):  0/20 1.938e-09/0.001    \r"
     ]
    },
    {
     "name": "stderr",
     "output_type": "stream",
     "text": [
      "iteration.sib: INFO     winBP: (S,I,R): (889.6, 14.4, 0.0), seeds: 14.3, ll: -1074.0\n"
     ]
    },
    {
     "name": "stdout",
     "output_type": "stream",
     "text": [
      "\n"
     ]
    },
    {
     "name": "stderr",
     "output_type": "stream",
     "text": [
      "iteration.sib: INFO     number of tests today: 1\n",
      "iteration.sib: INFO     True  : (S,I,R): (885.0, 19.0, 0.0)\n",
      "iteration.sib: INFO     AUR_I : 0.816, prec100: 0, prec(1% of 875): 0.00, prec5%: 0.00\n",
      "iteration.sib: INFO     sym: 0, results test algo (S,I,R): (1,0,0), infected test random: 0/0\n",
      "iteration.sib: INFO     ...quarantining 0 guys -> got 0 infected, 1 free as a bird (+0)\n"
     ]
    },
    {
     "name": "stdout",
     "output_type": "stream",
     "text": [
      "t: 264.00 | 1200.00 hrs (50 d)"
     ]
    },
    {
     "name": "stderr",
     "output_type": "stream",
     "text": [
      "iteration.sib: INFO     time:10\n"
     ]
    },
    {
     "name": "stdout",
     "output_type": "stream",
     "text": [
      "\n",
      "[Reached max time: 264h (11d)]\n"
     ]
    },
    {
     "name": "stderr",
     "output_type": "stream",
     "text": [
      "iteration.sib: INFO     adding contacts in the interval [240, 264]\n",
      "iteration.sib: INFO     number of unique contacts: 1790\n"
     ]
    },
    {
     "name": "stdout",
     "output_type": "stream",
     "text": [
      "All raw contacts 2010\n",
      "Contacts at midnight  118\n",
      "Contacts collected by coarse-graining  42\n",
      "Contacts in multiple days  0\n",
      "Coarse-grained contacts  2086\n",
      "Missing contacts  0\n",
      "Asymmetric contacts  0\n",
      "sib.iterate(damp=0):  2/20 6.354e-08/0.001    \n",
      "sib.iterate(damp=0.5):  0/20 2.403e-08/0.001    \r"
     ]
    },
    {
     "name": "stderr",
     "output_type": "stream",
     "text": [
      "iteration.sib: INFO     winBP: (S,I,R): (889.6, 14.4, 0.0), seeds: 14.3, ll: -1074.3\n"
     ]
    },
    {
     "name": "stdout",
     "output_type": "stream",
     "text": [
      "\n"
     ]
    },
    {
     "name": "stderr",
     "output_type": "stream",
     "text": [
      "iteration.sib: INFO     number of tests today: 0\n",
      "iteration.sib: INFO     True  : (S,I,R): (885.0, 19.0, 0.0)\n",
      "iteration.sib: INFO     AUR_I : 0.843, prec100: 0, prec(1% of 875): 0.00, prec5%: 0.00\n",
      "iteration.sib: INFO     sym: 0, results test algo (S,I,R): (0,0,0), infected test random: 0/0\n",
      "iteration.sib: INFO     ...quarantining 0 guys -> got 0 infected, 1 free as a bird (+0)\n"
     ]
    },
    {
     "name": "stdout",
     "output_type": "stream",
     "text": [
      "t: 288.00 | 1200.00 hrs (50 d)"
     ]
    },
    {
     "name": "stderr",
     "output_type": "stream",
     "text": [
      "iteration.sib: INFO     time:11\n"
     ]
    },
    {
     "name": "stdout",
     "output_type": "stream",
     "text": [
      "\n",
      "[Reached max time: 288h (12d)]\n",
      "All raw contacts 2356\n",
      "Contacts at midnight  150\n",
      "Contacts collected by coarse-graining  58\n",
      "Contacts in multiple days  0\n",
      "Coarse-grained contacts  2448\n",
      "Missing contacts  0\n",
      "Asymmetric contacts  0\n"
     ]
    },
    {
     "name": "stderr",
     "output_type": "stream",
     "text": [
      "iteration.sib: INFO     adding contacts in the interval [264, 288]\n",
      "iteration.sib: INFO     number of unique contacts: 2162\n"
     ]
    },
    {
     "name": "stdout",
     "output_type": "stream",
     "text": [
      "sib.iterate(damp=0):  2/20 6.689e-09/0.001    \n",
      "sib.iterate(damp=0.5):  0/20 9.792e-12/0.001    \n"
     ]
    },
    {
     "name": "stderr",
     "output_type": "stream",
     "text": [
      "iteration.sib: INFO     winBP: (S,I,R): (889.6, 14.4, 0.0), seeds: 14.3, ll: -1074.3\n",
      "iteration.sib: INFO     number of tests today: 0\n",
      "iteration.sib: INFO     True  : (S,I,R): (885.0, 19.0, 0.0)\n",
      "iteration.sib: INFO     AUR_I : 0.840, prec100: 0, prec(1% of 875): 0.00, prec5%: 0.00\n",
      "iteration.sib: INFO     sym: 0, results test algo (S,I,R): (0,0,0), infected test random: 0/0\n",
      "iteration.sib: INFO     ...quarantining 0 guys -> got 0 infected, 1 free as a bird (+0)\n"
     ]
    },
    {
     "name": "stdout",
     "output_type": "stream",
     "text": [
      "t: 312.00 | 1200.00 hrs (50 d)"
     ]
    },
    {
     "name": "stderr",
     "output_type": "stream",
     "text": [
      "iteration.sib: INFO     time:12\n"
     ]
    },
    {
     "name": "stdout",
     "output_type": "stream",
     "text": [
      "\n",
      "[Reached max time: 312h (13d)]\n",
      "All raw contacts 2566\n",
      "Contacts at midnight  126\n",
      "Contacts collected by coarse-graining  44\n",
      "Contacts in multiple days  0\n",
      "Coarse-grained contacts  2648\n",
      "Missing contacts  0\n",
      "Asymmetric contacts "
     ]
    },
    {
     "name": "stderr",
     "output_type": "stream",
     "text": [
      "iteration.sib: INFO     adding contacts in the interval [288, 312]\n",
      "iteration.sib: INFO     number of unique contacts: 2370\n"
     ]
    },
    {
     "name": "stdout",
     "output_type": "stream",
     "text": [
      " 0\n",
      "sib.iterate(damp=0):  2/20 2.897e-08/0.001    \n",
      "sib.iterate(damp=0.5):  0/20 9.227e-11/0.001    \n"
     ]
    },
    {
     "name": "stderr",
     "output_type": "stream",
     "text": [
      "iteration.sib: INFO     winBP: (S,I,R): (889.6, 14.3, 0.1), seeds: 14.3, ll: -1074.3\n",
      "iteration.sib: INFO     number of tests today: 0\n",
      "iteration.sib: INFO     True  : (S,I,R): (885.0, 17.0, 2.0)\n",
      "iteration.sib: INFO     AUR_I : nan, prec100: 0, prec(1% of 875): 0.00, prec5%: 0.00\n",
      "iteration.sib: INFO     sym: 0, results test algo (S,I,R): (0,0,0), infected test random: 0/0\n",
      "iteration.sib: INFO     ...quarantining 0 guys -> got 0 infected, 0 free as birds (-1)\n"
     ]
    },
    {
     "name": "stdout",
     "output_type": "stream",
     "text": [
      "t: 336.00 | 1200.00 hrs (50 d)"
     ]
    },
    {
     "name": "stderr",
     "output_type": "stream",
     "text": [
      "iteration.sib: INFO     time:13\n"
     ]
    },
    {
     "name": "stdout",
     "output_type": "stream",
     "text": [
      "\n",
      "[Reached max time: 336h (14d)]\n",
      "All raw contacts"
     ]
    },
    {
     "name": "stderr",
     "output_type": "stream",
     "text": [
      "iteration.sib: INFO     adding contacts in the interval [312, 336]\n",
      "iteration.sib: INFO     number of unique contacts: 2196\n"
     ]
    },
    {
     "name": "stdout",
     "output_type": "stream",
     "text": [
      " 2382\n",
      "Contacts at midnight  144\n",
      "Contacts collected by coarse-graining  84\n",
      "Contacts in multiple days  0\n",
      "Coarse-grained contacts  2442\n",
      "Missing contacts  0\n",
      "Asymmetric contacts  0\n",
      "sib.iterate(damp=0):  2/20 2.607e-08/0.001    \n",
      "sib.iterate(damp=0.5):  0/20 1.549e-11/0.001    \r"
     ]
    },
    {
     "name": "stderr",
     "output_type": "stream",
     "text": [
      "iteration.sib: INFO     winBP: (S,I,R): (889.6, 14.2, 0.2), seeds: 14.3, ll: -1074.3\n"
     ]
    },
    {
     "name": "stdout",
     "output_type": "stream",
     "text": [
      "\n"
     ]
    },
    {
     "name": "stderr",
     "output_type": "stream",
     "text": [
      "iteration.sib: INFO     number of tests today: 0\n",
      "iteration.sib: INFO     True  : (S,I,R): (885.0, 15.0, 4.0)\n",
      "iteration.sib: INFO     AUR_I : nan, prec100: 0, prec(1% of 875): 0.00, prec5%: 0.00\n",
      "iteration.sib: INFO     sym: 0, results test algo (S,I,R): (0,0,0), infected test random: 0/0\n",
      "iteration.sib: INFO     ...quarantining 0 guys -> got 0 infected, 0 free as birds (+0)\n"
     ]
    },
    {
     "name": "stdout",
     "output_type": "stream",
     "text": [
      "t: 360.00 | 1200.00 hrs (50 d)"
     ]
    },
    {
     "name": "stderr",
     "output_type": "stream",
     "text": [
      "iteration.sib: INFO     time:14\n"
     ]
    },
    {
     "name": "stdout",
     "output_type": "stream",
     "text": [
      "\n",
      "[Reached max time: 360h (15d)]\n",
      "All raw contacts 2992\n",
      "Contacts at midnight  156\n",
      "Contacts collected by coarse-graining  70\n",
      "Contacts in multiple days  0\n",
      "Coarse-grained contacts  3078\n",
      "Missing contacts  0\n",
      "Asymmetric contacts  0\n"
     ]
    },
    {
     "name": "stderr",
     "output_type": "stream",
     "text": [
      "iteration.sib: INFO     adding contacts in the interval [336, 360]\n",
      "iteration.sib: INFO     number of unique contacts: 2704\n"
     ]
    },
    {
     "name": "stdout",
     "output_type": "stream",
     "text": [
      "sib.iterate(damp=0):  2/20 2.183e-08/0.001    \n",
      "sib.iterate(damp=0.5):  0/20 2.960e-11/0.001    \r"
     ]
    },
    {
     "name": "stderr",
     "output_type": "stream",
     "text": [
      "iteration.sib: INFO     winBP: (S,I,R): (889.6, 13.7, 0.7), seeds: 14.3, ll: -1074.3\n",
      "iteration.sib: INFO     number of tests today: 0\n"
     ]
    },
    {
     "name": "stdout",
     "output_type": "stream",
     "text": [
      "\n"
     ]
    },
    {
     "name": "stderr",
     "output_type": "stream",
     "text": [
      "iteration.sib: INFO     True  : (S,I,R): (885.0, 12.0, 7.0)\n",
      "iteration.sib: INFO     AUR_I : nan, prec100: 0, prec(1% of 875): 0.00, prec5%: 0.00\n",
      "iteration.sib: INFO     sym: 0, results test algo (S,I,R): (0,0,0), infected test random: 0/0\n",
      "iteration.sib: INFO     ...quarantining 0 guys -> got 0 infected, 0 free as birds (+0)\n"
     ]
    },
    {
     "name": "stdout",
     "output_type": "stream",
     "text": [
      "t: 384.00 | 1200.00 hrs (50 d)"
     ]
    },
    {
     "name": "stderr",
     "output_type": "stream",
     "text": [
      "iteration.sib: INFO     time:15\n"
     ]
    },
    {
     "name": "stdout",
     "output_type": "stream",
     "text": [
      "\n",
      "[Reached max time: 384h (16d)]\n"
     ]
    },
    {
     "name": "stderr",
     "output_type": "stream",
     "text": [
      "iteration.sib: INFO     adding contacts in the interval [360, 384]\n",
      "iteration.sib: INFO     number of unique contacts: 2054\n"
     ]
    },
    {
     "name": "stdout",
     "output_type": "stream",
     "text": [
      "All raw contacts 2272\n",
      "Contacts at midnight  116\n",
      "Contacts collected by coarse-graining  50\n",
      "Contacts in multiple days  0\n",
      "Coarse-grained contacts  2338\n",
      "Missing contacts  0\n",
      "Asymmetric contacts  0\n",
      "sib.iterate(damp=0):  2/20 4.742e-08/0.001    \n",
      "sib.iterate(damp=0.5):  0/20 3.394e-11/0.001    \r"
     ]
    },
    {
     "name": "stderr",
     "output_type": "stream",
     "text": [
      "iteration.sib: INFO     winBP: (S,I,R): (889.6, 12.6, 1.8), seeds: 14.3, ll: -1074.3\n",
      "iteration.sib: INFO     number of tests today: 0\n",
      "iteration.sib: INFO     True  : (S,I,R): (885.0, 11.0, 8.0)\n",
      "iteration.sib: INFO     AUR_I : nan, prec100: 0, prec(1% of 875): 0.00, prec5%: 0.00\n",
      "iteration.sib: INFO     sym: 0, results test algo (S,I,R): (0,0,0), infected test random: 0/0\n",
      "iteration.sib: INFO     ...quarantining 0 guys -> got 0 infected, 0 free as birds (+0)\n"
     ]
    },
    {
     "name": "stdout",
     "output_type": "stream",
     "text": [
      "\n",
      "t: 408.00 | 1200.00 hrs (50 d)"
     ]
    },
    {
     "name": "stderr",
     "output_type": "stream",
     "text": [
      "iteration.sib: INFO     time:16\n"
     ]
    },
    {
     "name": "stdout",
     "output_type": "stream",
     "text": [
      "\n",
      "[Reached max time: 408h (17d)]\n"
     ]
    },
    {
     "name": "stderr",
     "output_type": "stream",
     "text": [
      "iteration.sib: INFO     adding contacts in the interval [384, 408]\n",
      "iteration.sib: INFO     number of unique contacts: 2188\n"
     ]
    },
    {
     "name": "stdout",
     "output_type": "stream",
     "text": [
      "All raw contacts 2370\n",
      "Contacts at midnight  142\n",
      "Contacts collected by coarse-graining  36\n",
      "Contacts in multiple days  0\n",
      "Coarse-grained contacts  2476\n",
      "Missing contacts  0\n",
      "Asymmetric contacts  0\n",
      "sib.iterate(damp=0):  2/20 2.331e-08/0.001    \n",
      "sib.iterate(damp=0.5):  0/20 1.213e-10/0.001    \r"
     ]
    },
    {
     "name": "stderr",
     "output_type": "stream",
     "text": [
      "iteration.sib: INFO     winBP: (S,I,R): (889.6, 10.9, 3.5), seeds: 14.3, ll: -1074.3\n",
      "iteration.sib: INFO     number of tests today: 0\n",
      "iteration.sib: INFO     True  : (S,I,R): (885.0, 11.0, 8.0)\n",
      "iteration.sib: INFO     AUR_I : nan, prec100: 0, prec(1% of 875): 0.00, prec5%: 0.00\n",
      "iteration.sib: INFO     sym: 0, results test algo (S,I,R): (0,0,0), infected test random: 0/0\n",
      "iteration.sib: INFO     ...quarantining 0 guys -> got 0 infected, 0 free as birds (+0)\n"
     ]
    },
    {
     "name": "stdout",
     "output_type": "stream",
     "text": [
      "\n",
      "t: 432.00 | 1200.00 hrs (50 d)"
     ]
    },
    {
     "name": "stderr",
     "output_type": "stream",
     "text": [
      "iteration.sib: INFO     time:17\n"
     ]
    },
    {
     "name": "stdout",
     "output_type": "stream",
     "text": [
      "\n",
      "[Reached max time: 432h (18d)]\n",
      "All raw contacts 2572\n",
      "Contacts at midnight  150\n",
      "Contacts collected by coarse-graining  72\n",
      "Contacts in multiple days  0\n",
      "Coarse-grained contacts  2650\n",
      "Missing contacts  0\n",
      "Asymmetric contacts  0"
     ]
    },
    {
     "name": "stderr",
     "output_type": "stream",
     "text": [
      "iteration.sib: INFO     adding contacts in the interval [408, 432]\n",
      "iteration.sib: INFO     number of unique contacts: 2358\n"
     ]
    },
    {
     "name": "stdout",
     "output_type": "stream",
     "text": [
      "\n",
      "sib.iterate(damp=0):  2/20 6.217e-08/0.001    \n",
      "sib.iterate(damp=0.5):  0/20 1.972e-10/0.001    \n"
     ]
    },
    {
     "name": "stderr",
     "output_type": "stream",
     "text": [
      "iteration.sib: INFO     winBP: (S,I,R): (889.6, 8.7, 5.7), seeds: 14.3, ll: -1074.3\n",
      "iteration.sib: INFO     number of tests today: 0\n",
      "iteration.sib: INFO     True  : (S,I,R): (885.0, 10.0, 9.0)\n",
      "iteration.sib: INFO     AUR_I : nan, prec100: 0, prec(1% of 875): 0.00, prec5%: 0.00\n",
      "iteration.sib: INFO     sym: 0, results test algo (S,I,R): (0,0,0), infected test random: 0/0\n",
      "iteration.sib: INFO     ...quarantining 0 guys -> got 0 infected, 0 free as birds (+0)\n"
     ]
    },
    {
     "name": "stdout",
     "output_type": "stream",
     "text": [
      "t: 456.00 | 1200.00 hrs (50 d)"
     ]
    },
    {
     "name": "stderr",
     "output_type": "stream",
     "text": [
      "iteration.sib: INFO     time:18\n"
     ]
    },
    {
     "name": "stdout",
     "output_type": "stream",
     "text": [
      "\n",
      "[Reached max time: 456h (19d)]\n"
     ]
    },
    {
     "name": "stderr",
     "output_type": "stream",
     "text": [
      "iteration.sib: INFO     adding contacts in the interval [432, 456]\n",
      "iteration.sib: INFO     number of unique contacts: 2438\n"
     ]
    },
    {
     "name": "stdout",
     "output_type": "stream",
     "text": [
      "All raw contacts 2684\n",
      "Contacts at midnight  160\n",
      "Contacts collected by coarse-graining  74\n",
      "Contacts in multiple days  0\n",
      "Coarse-grained contacts  2770\n",
      "Missing contacts  0\n",
      "Asymmetric contacts  0\n",
      "sib.iterate(damp=0):  2/20 4.552e-08/0.001    \n",
      "sib.iterate(damp=0.5):  0/20 1.502e-10/0.001    \r"
     ]
    },
    {
     "name": "stderr",
     "output_type": "stream",
     "text": [
      "iteration.sib: INFO     winBP: (S,I,R): (889.6, 6.3, 8.1), seeds: 14.3, ll: -1074.3\n"
     ]
    },
    {
     "name": "stdout",
     "output_type": "stream",
     "text": [
      "\n"
     ]
    },
    {
     "name": "stderr",
     "output_type": "stream",
     "text": [
      "iteration.sib: INFO     number of tests today: 0\n",
      "iteration.sib: INFO     True  : (S,I,R): (885.0, 9.0, 10.0)\n",
      "iteration.sib: INFO     AUR_I : nan, prec100: 0, prec(1% of 875): 0.00, prec5%: 0.00\n",
      "iteration.sib: INFO     sym: 0, results test algo (S,I,R): (0,0,0), infected test random: 0/0\n",
      "iteration.sib: INFO     ...quarantining 0 guys -> got 0 infected, 0 free as birds (+0)\n"
     ]
    },
    {
     "name": "stdout",
     "output_type": "stream",
     "text": [
      "t: 480.00 | 1200.00 hrs (50 d)"
     ]
    },
    {
     "name": "stderr",
     "output_type": "stream",
     "text": [
      "iteration.sib: INFO     time:19\n"
     ]
    },
    {
     "name": "stdout",
     "output_type": "stream",
     "text": [
      "\n",
      "[Reached max time: 480h (20d)]\n"
     ]
    },
    {
     "name": "stderr",
     "output_type": "stream",
     "text": [
      "iteration.sib: INFO     adding contacts in the interval [456, 480]\n",
      "iteration.sib: INFO     number of unique contacts: 1996\n"
     ]
    },
    {
     "name": "stdout",
     "output_type": "stream",
     "text": [
      "All raw contacts 2194\n",
      "Contacts at midnight  148\n",
      "Contacts collected by coarse-graining  50\n",
      "Contacts in multiple days  0\n",
      "Coarse-grained contacts  2292\n",
      "Missing contacts  0\n",
      "Asymmetric contacts  0\n",
      "sib.iterate(damp=0):  2/20 2.560e-08/0.001    \n",
      "sib.iterate(damp=0.5):  0/20 2.549e-10/0.001    \r"
     ]
    },
    {
     "name": "stderr",
     "output_type": "stream",
     "text": [
      "iteration.sib: INFO     winBP: (S,I,R): (889.6, 4.1, 10.3), seeds: 14.3, ll: -1074.3\n"
     ]
    },
    {
     "name": "stdout",
     "output_type": "stream",
     "text": [
      "\n"
     ]
    },
    {
     "name": "stderr",
     "output_type": "stream",
     "text": [
      "iteration.sib: INFO     number of tests today: 0\n",
      "iteration.sib: INFO     True  : (S,I,R): (885.0, 9.0, 10.0)\n",
      "iteration.sib: INFO     AUR_I : nan, prec100: 0, prec(1% of 875): 0.00, prec5%: 0.00\n",
      "iteration.sib: INFO     sym: 0, results test algo (S,I,R): (0,0,0), infected test random: 0/0\n",
      "iteration.sib: INFO     ...quarantining 0 guys -> got 0 infected, 0 free as birds (+0)\n"
     ]
    },
    {
     "name": "stdout",
     "output_type": "stream",
     "text": [
      "t: 504.00 | 1200.00 hrs (50 d)"
     ]
    },
    {
     "name": "stderr",
     "output_type": "stream",
     "text": [
      "iteration.sib: INFO     time:20\n"
     ]
    },
    {
     "name": "stdout",
     "output_type": "stream",
     "text": [
      "\n",
      "[Reached max time: 504h (21d)]\n"
     ]
    },
    {
     "name": "stderr",
     "output_type": "stream",
     "text": [
      "iteration.sib: INFO     adding contacts in the interval [480, 504]\n",
      "iteration.sib: INFO     number of unique contacts: 2492\n"
     ]
    },
    {
     "name": "stdout",
     "output_type": "stream",
     "text": [
      "All raw contacts 2726\n",
      "Contacts at midnight  104\n",
      "Contacts collected by coarse-graining  60\n",
      "Contacts in multiple days  0\n",
      "Coarse-grained contacts  2770\n",
      "Missing contacts  0\n",
      "Asymmetric contacts  0\n",
      "sib.iterate(damp=0):  2/20 3.921e-08/0.001    \n",
      "sib.iterate(damp=0.5):  0/20 1.763e-10/0.001    \n"
     ]
    },
    {
     "name": "stderr",
     "output_type": "stream",
     "text": [
      "iteration.sib: INFO     winBP: (S,I,R): (889.6, 2.4, 12.0), seeds: 14.3, ll: -1074.3\n",
      "iteration.sib: INFO     number of tests today: 0\n",
      "iteration.sib: INFO     True  : (S,I,R): (885.0, 8.0, 11.0)\n",
      "iteration.sib: INFO     AUR_I : nan, prec100: 0, prec(1% of 875): 0.00, prec5%: 0.00\n",
      "iteration.sib: INFO     sym: 0, results test algo (S,I,R): (0,0,0), infected test random: 0/0\n",
      "iteration.sib: INFO     ...quarantining 0 guys -> got 0 infected, 0 free as birds (+0)\n"
     ]
    },
    {
     "name": "stdout",
     "output_type": "stream",
     "text": [
      "t: 528.00 | 1200.00 hrs (50 d)"
     ]
    },
    {
     "name": "stderr",
     "output_type": "stream",
     "text": [
      "iteration.sib: INFO     time:21\n"
     ]
    },
    {
     "name": "stdout",
     "output_type": "stream",
     "text": [
      "\n",
      "[Reached max time: 528h (22d)]\n"
     ]
    },
    {
     "name": "stderr",
     "output_type": "stream",
     "text": [
      "iteration.sib: INFO     adding contacts in the interval [504, 528]\n",
      "iteration.sib: INFO     number of unique contacts: 2382\n"
     ]
    },
    {
     "name": "stdout",
     "output_type": "stream",
     "text": [
      "All raw contacts 2646\n",
      "Contacts at midnight  158\n",
      "Contacts collected by coarse-graining  92\n",
      "Contacts in multiple days  0\n",
      "Coarse-grained contacts  2712\n",
      "Missing contacts  0\n",
      "Asymmetric contacts  0\n",
      "...adjust prob_i0 and prob_r0\n",
      "...drop first time and reset observations\n",
      "pI at intial time: 0.9999950027670899\n",
      "sib.iterate(damp=0):  2/20 4.879e-08/0.001    \n",
      "sib.iterate(damp=0.5):  0/20 7.183e-10/0.001    \n"
     ]
    },
    {
     "name": "stderr",
     "output_type": "stream",
     "text": [
      "iteration.sib: INFO     winBP: (S,I,R): (889.6, 1.3, 13.1), seeds: 14.3, ll: -1440.4\n",
      "iteration.sib: INFO     number of tests today: 0\n",
      "iteration.sib: INFO     True  : (S,I,R): (885.0, 4.0, 15.0)\n",
      "iteration.sib: INFO     AUR_I : nan, prec100: 0, prec(1% of 875): 0.00, prec5%: 0.00\n",
      "iteration.sib: INFO     sym: 0, results test algo (S,I,R): (0,0,0), infected test random: 0/0\n",
      "iteration.sib: INFO     ...quarantining 0 guys -> got 0 infected, 0 free as birds (+0)\n"
     ]
    },
    {
     "name": "stdout",
     "output_type": "stream",
     "text": [
      "t: 552.00 | 1200.00 hrs (50 d)"
     ]
    },
    {
     "name": "stderr",
     "output_type": "stream",
     "text": [
      "iteration.sib: INFO     time:22\n"
     ]
    },
    {
     "name": "stdout",
     "output_type": "stream",
     "text": [
      "\n",
      "[Reached max time: 552h (23d)]\n"
     ]
    },
    {
     "name": "stderr",
     "output_type": "stream",
     "text": [
      "iteration.sib: INFO     adding contacts in the interval [528, 552]\n",
      "iteration.sib: INFO     number of unique contacts: 2306\n"
     ]
    },
    {
     "name": "stdout",
     "output_type": "stream",
     "text": [
      "All raw contacts 2530\n",
      "Contacts at midnight  168\n",
      "Contacts collected by coarse-graining  70\n",
      "Contacts in multiple days  0\n",
      "Coarse-grained contacts  2628\n",
      "Missing contacts  0\n",
      "Asymmetric contacts  0\n",
      "...adjust prob_i0 and prob_r0\n",
      "...drop first time and reset observations\n",
      "pI at intial time: 1.0009399481054304\n",
      "sib.iterate(damp=0):  2/20 7.262e-08/0.001    \n",
      "sib.iterate(damp=0.5):  0/20 3.289e-10/0.001    \n"
     ]
    },
    {
     "name": "stderr",
     "output_type": "stream",
     "text": [
      "iteration.sib: INFO     winBP: (S,I,R): (889.6, 0.7, 13.8), seeds: 14.3, ll: -1440.4\n",
      "iteration.sib: INFO     number of tests today: 0\n",
      "iteration.sib: INFO     True  : (S,I,R): (885.0, 3.0, 16.0)\n",
      "iteration.sib: INFO     AUR_I : nan, prec100: 0, prec(1% of 875): 0.00, prec5%: 0.00\n",
      "iteration.sib: INFO     sym: 0, results test algo (S,I,R): (0,0,0), infected test random: 0/0\n",
      "iteration.sib: INFO     ...quarantining 0 guys -> got 0 infected, 0 free as birds (+0)\n"
     ]
    },
    {
     "name": "stdout",
     "output_type": "stream",
     "text": [
      "t: 576.00 | 1200.00 hrs (50 d)"
     ]
    },
    {
     "name": "stderr",
     "output_type": "stream",
     "text": [
      "iteration.sib: INFO     time:23\n"
     ]
    },
    {
     "name": "stdout",
     "output_type": "stream",
     "text": [
      "\n",
      "[Reached max time: 576h (24d)]\n"
     ]
    },
    {
     "name": "stderr",
     "output_type": "stream",
     "text": [
      "iteration.sib: INFO     adding contacts in the interval [552, 576]\n",
      "iteration.sib: INFO     number of unique contacts: 2386\n"
     ]
    },
    {
     "name": "stdout",
     "output_type": "stream",
     "text": [
      "All raw contacts 2572\n",
      "Contacts at midnight  122\n",
      "Contacts collected by coarse-graining  62\n",
      "Contacts in multiple days  0\n",
      "Coarse-grained contacts  2632\n",
      "Missing contacts  0\n",
      "Asymmetric contacts  0\n",
      "...adjust prob_i0 and prob_r0\n",
      "...drop first time and reset observations\n",
      "pI at intial time: 1.0021372839019034\n",
      "sib.iterate(damp=0):  2/20 7.152e-08/0.001    \n",
      "sib.iterate(damp=0.5):  0/20 6.947e-10/0.001    \n"
     ]
    },
    {
     "name": "stderr",
     "output_type": "stream",
     "text": [
      "iteration.sib: INFO     winBP: (S,I,R): (889.6, 0.3, 14.1), seeds: 14.3, ll: -1440.4\n",
      "iteration.sib: INFO     number of tests today: 0\n",
      "iteration.sib: INFO     True  : (S,I,R): (885.0, 3.0, 16.0)\n",
      "iteration.sib: INFO     AUR_I : nan, prec100: 0, prec(1% of 875): 0.00, prec5%: 0.00\n",
      "iteration.sib: INFO     sym: 0, results test algo (S,I,R): (0,0,0), infected test random: 0/0\n",
      "iteration.sib: INFO     ...quarantining 0 guys -> got 0 infected, 0 free as birds (+0)\n"
     ]
    },
    {
     "name": "stdout",
     "output_type": "stream",
     "text": [
      "t: 600.00 | 1200.00 hrs (50 d)"
     ]
    },
    {
     "name": "stderr",
     "output_type": "stream",
     "text": [
      "iteration.sib: INFO     time:24\n"
     ]
    },
    {
     "name": "stdout",
     "output_type": "stream",
     "text": [
      "\n",
      "[Reached max time: 600h (25d)]\n"
     ]
    },
    {
     "name": "stderr",
     "output_type": "stream",
     "text": [
      "iteration.sib: INFO     adding contacts in the interval [576, 600]\n",
      "iteration.sib: INFO     number of unique contacts: 2340\n"
     ]
    },
    {
     "name": "stdout",
     "output_type": "stream",
     "text": [
      "All raw contacts 2476\n",
      "Contacts at midnight  120\n",
      "Contacts collected by coarse-graining  42\n",
      "Contacts in multiple days  0\n",
      "Coarse-grained contacts  2554\n",
      "Missing contacts  0\n",
      "Asymmetric contacts  0\n",
      "...adjust prob_i0 and prob_r0\n",
      "...drop first time and reset observations\n",
      "pI at intial time: 1.0045940315800839\n",
      "sib.iterate(damp=0):  2/20 1.272e-06/0.001    \n",
      "sib.iterate(damp=0.5):  0/20 4.431e-10/0.001    \n"
     ]
    },
    {
     "name": "stderr",
     "output_type": "stream",
     "text": [
      "iteration.sib: INFO     winBP: (S,I,R): (889.6, 0.1, 14.3), seeds: 14.3, ll: -1440.4\n",
      "iteration.sib: INFO     number of tests today: 0\n",
      "iteration.sib: INFO     True  : (S,I,R): (885.0, 2.0, 17.0)\n",
      "iteration.sib: INFO     AUR_I : nan, prec100: 0, prec(1% of 875): 0.00, prec5%: 0.00\n",
      "iteration.sib: INFO     sym: 0, results test algo (S,I,R): (0,0,0), infected test random: 0/0\n",
      "iteration.sib: INFO     ...quarantining 0 guys -> got 0 infected, 0 free as birds (+0)\n"
     ]
    },
    {
     "name": "stdout",
     "output_type": "stream",
     "text": [
      "t: 624.00 | 1200.00 hrs (50 d)"
     ]
    },
    {
     "name": "stderr",
     "output_type": "stream",
     "text": [
      "iteration.sib: INFO     time:25\n"
     ]
    },
    {
     "name": "stdout",
     "output_type": "stream",
     "text": [
      "\n",
      "[Reached max time: 624h (26d)]\n",
      "All raw contacts 2758\n",
      "Contacts at midnight  144\n",
      "Contacts collected by coarse-graining  46\n",
      "Contacts in multiple days  0\n",
      "Coarse-grained contacts  2856\n",
      "Missing contacts  0\n",
      "Asymmetric contacts  0\n"
     ]
    },
    {
     "name": "stderr",
     "output_type": "stream",
     "text": [
      "iteration.sib: INFO     adding contacts in the interval [600, 624]\n",
      "iteration.sib: INFO     number of unique contacts: 2552\n"
     ]
    },
    {
     "name": "stdout",
     "output_type": "stream",
     "text": [
      "...adjust prob_i0 and prob_r0\n",
      "...drop first time and reset observations\n",
      "pI at intial time: 1.0091715765031137\n",
      "sib.iterate(damp=0):  2/20 7.362e-08/0.001    \n",
      "sib.iterate(damp=0.5):  0/20 4.776e-10/0.001    \n"
     ]
    },
    {
     "name": "stderr",
     "output_type": "stream",
     "text": [
      "iteration.sib: INFO     winBP: (S,I,R): (889.6, 0.1, 14.3), seeds: 14.4, ll: -1440.3\n",
      "iteration.sib: INFO     number of tests today: 0\n",
      "iteration.sib: INFO     True  : (S,I,R): (885.0, 1.0, 18.0)\n",
      "iteration.sib: INFO     AUR_I : nan, prec100: 0, prec(1% of 875): 0.00, prec5%: 0.00\n",
      "iteration.sib: INFO     sym: 0, results test algo (S,I,R): (0,0,0), infected test random: 0/0\n",
      "iteration.sib: INFO     ...quarantining 0 guys -> got 0 infected, 0 free as birds (+0)\n"
     ]
    },
    {
     "name": "stdout",
     "output_type": "stream",
     "text": [
      "t: 648.00 | 1200.00 hrs (50 d)"
     ]
    },
    {
     "name": "stderr",
     "output_type": "stream",
     "text": [
      "iteration.sib: INFO     time:26\n",
      "iteration.sib: INFO     adding contacts in the interval [624, 648]\n",
      "iteration.sib: INFO     number of unique contacts: 2210\n"
     ]
    },
    {
     "name": "stdout",
     "output_type": "stream",
     "text": [
      "\n",
      "[Reached max time: 648h (27d)]\n",
      "All raw contacts 2404\n",
      "Contacts at midnight  212\n",
      "Contacts collected by coarse-graining  24\n",
      "Contacts in multiple days  0\n",
      "Coarse-grained contacts  2592\n",
      "Missing contacts  0\n",
      "Asymmetric contacts  0\n",
      "...adjust prob_i0 and prob_r0\n",
      "...drop first time and reset observations\n",
      "pI at intial time: 1.0148047885523295\n",
      "sib.iterate(damp=0):  2/20 2.984e-06/0.001    \n",
      "sib.iterate(damp=0.5):  0/20 3.286e-08/0.001    \n"
     ]
    },
    {
     "name": "stderr",
     "output_type": "stream",
     "text": [
      "iteration.sib: INFO     winBP: (S,I,R): (903.0, 0.1, 0.9), seeds: 0.9, ll: -1042.2\n",
      "iteration.sib: INFO     number of tests today: 0\n",
      "iteration.sib: INFO     True  : (S,I,R): (885.0, 1.0, 18.0)\n",
      "iteration.sib: INFO     AUR_I : nan, prec100: 0, prec(1% of 875): 0.00, prec5%: 0.00\n",
      "iteration.sib: INFO     sym: 0, results test algo (S,I,R): (0,0,0), infected test random: 0/0\n",
      "iteration.sib: INFO     ...quarantining 0 guys -> got 0 infected, 0 free as birds (+0)\n"
     ]
    },
    {
     "name": "stdout",
     "output_type": "stream",
     "text": [
      "t: 672.00 | 1200.00 hrs (50 d)"
     ]
    },
    {
     "name": "stderr",
     "output_type": "stream",
     "text": [
      "iteration.sib: INFO     time:27\n",
      "iteration.sib: INFO     adding contacts in the interval [648, 672]\n",
      "iteration.sib: INFO     number of unique contacts: 2230\n"
     ]
    },
    {
     "name": "stdout",
     "output_type": "stream",
     "text": [
      "\n",
      "[Reached max time: 672h (28d)]\n",
      "All raw contacts 2412\n",
      "Contacts at midnight  204\n",
      "Contacts collected by coarse-graining  52\n",
      "Contacts in multiple days  0\n",
      "Coarse-grained contacts  2564\n",
      "Missing contacts  0\n",
      "Asymmetric contacts  0\n",
      "...adjust prob_i0 and prob_r0\n",
      "...drop first time and reset observations\n",
      "pI at intial time: 14.52241156522201\n",
      "sib.iterate(damp=0):  2/20 1.900e-06/0.001    \n",
      "sib.iterate(damp=0.5):  0/20 1.810e-08/0.001    \r"
     ]
    },
    {
     "name": "stderr",
     "output_type": "stream",
     "text": [
      "iteration.sib: INFO     winBP: (S,I,R): (896.5, 0.0, 7.5), seeds: 7.5, ll: -991.7\n"
     ]
    },
    {
     "name": "stdout",
     "output_type": "stream",
     "text": [
      "\n"
     ]
    },
    {
     "name": "stderr",
     "output_type": "stream",
     "text": [
      "iteration.sib: INFO     number of tests today: 0\n",
      "iteration.sib: INFO     True  : (S,I,R): (885.0, 1.0, 18.0)\n",
      "iteration.sib: INFO     AUR_I : nan, prec100: 0, prec(1% of 875): 0.00, prec5%: 0.00\n",
      "iteration.sib: INFO     sym: 0, results test algo (S,I,R): (0,0,0), infected test random: 0/0\n",
      "iteration.sib: INFO     ...quarantining 0 guys -> got 0 infected, 0 free as birds (+0)\n"
     ]
    },
    {
     "name": "stdout",
     "output_type": "stream",
     "text": [
      "t: 696.00 | 1200.00 hrs (50 d)"
     ]
    },
    {
     "name": "stderr",
     "output_type": "stream",
     "text": [
      "iteration.sib: INFO     time:28\n",
      "iteration.sib: INFO     adding contacts in the interval [672, 696]\n",
      "iteration.sib: INFO     number of unique contacts: 2324\n"
     ]
    },
    {
     "name": "stdout",
     "output_type": "stream",
     "text": [
      "\n",
      "[Reached max time: 696h (29d)]\n",
      "All raw contacts 2578\n",
      "Contacts at midnight  166\n",
      "Contacts collected by coarse-graining  54\n",
      "Contacts in multiple days  0\n",
      "Coarse-grained contacts  2690\n",
      "Missing contacts  0\n",
      "Asymmetric contacts  0\n",
      "...adjust prob_i0 and prob_r0\n",
      "...drop first time and reset observations\n",
      "pI at intial time: 14.414529791469601\n",
      "sib.iterate(damp=0):  2/20 3.295e-07/0.001    \n",
      "sib.iterate(damp=0.5):  0/20 3.435e-09/0.001    \n"
     ]
    },
    {
     "name": "stderr",
     "output_type": "stream",
     "text": [
      "iteration.sib: INFO     winBP: (S,I,R): (896.6, 0.0, 7.4), seeds: 7.4, ll: -985.7\n",
      "iteration.sib: INFO     number of tests today: 0\n",
      "iteration.sib: INFO     True  : (S,I,R): (885.0, 1.0, 18.0)\n",
      "iteration.sib: INFO     AUR_I : nan, prec100: 0, prec(1% of 875): 0.00, prec5%: 0.00\n",
      "iteration.sib: INFO     sym: 0, results test algo (S,I,R): (0,0,0), infected test random: 0/0\n",
      "iteration.sib: INFO     ...quarantining 0 guys -> got 0 infected, 0 free as birds (+0)\n"
     ]
    },
    {
     "name": "stdout",
     "output_type": "stream",
     "text": [
      "t: 720.00 | 1200.00 hrs (50 d)"
     ]
    },
    {
     "name": "stderr",
     "output_type": "stream",
     "text": [
      "iteration.sib: INFO     time:29\n",
      "iteration.sib: INFO     adding contacts in the interval [696, 720]\n",
      "iteration.sib: INFO     number of unique contacts: 1998\n"
     ]
    },
    {
     "name": "stdout",
     "output_type": "stream",
     "text": [
      "\n",
      "[Reached max time: 720h (30d)]\n",
      "All raw contacts 2230\n",
      "Contacts at midnight  146\n",
      "Contacts collected by coarse-graining  82\n",
      "Contacts in multiple days  0\n",
      "Coarse-grained contacts  2294\n",
      "Missing contacts  0\n",
      "Asymmetric contacts  0\n",
      "...adjust prob_i0 and prob_r0\n",
      "...drop first time and reset observations\n",
      "pI at intial time: 14.396472152079742\n",
      "sib.iterate(damp=0):  2/20 1.163e-07/0.001    \n",
      "sib.iterate(damp=0.5):  0/20 1.163e-09/0.001    \r"
     ]
    },
    {
     "name": "stderr",
     "output_type": "stream",
     "text": [
      "iteration.sib: INFO     winBP: (S,I,R): (896.6, 0.0, 7.4), seeds: 7.4, ll: -983.4\n"
     ]
    },
    {
     "name": "stdout",
     "output_type": "stream",
     "text": [
      "\n"
     ]
    },
    {
     "name": "stderr",
     "output_type": "stream",
     "text": [
      "iteration.sib: INFO     number of tests today: 0\n",
      "iteration.sib: INFO     True  : (S,I,R): (885.0, 1.0, 18.0)\n",
      "iteration.sib: INFO     AUR_I : nan, prec100: 0, prec(1% of 875): 0.00, prec5%: 0.00\n",
      "iteration.sib: INFO     sym: 0, results test algo (S,I,R): (0,0,0), infected test random: 0/0\n",
      "iteration.sib: INFO     ...quarantining 0 guys -> got 0 infected, 0 free as birds (+0)\n"
     ]
    },
    {
     "name": "stdout",
     "output_type": "stream",
     "text": [
      "t: 744.00 | 1200.00 hrs (50 d)"
     ]
    },
    {
     "name": "stderr",
     "output_type": "stream",
     "text": [
      "iteration.sib: INFO     time:30\n",
      "iteration.sib: INFO     adding contacts in the interval [720, 744]\n",
      "iteration.sib: INFO     number of unique contacts: 2338\n"
     ]
    },
    {
     "name": "stdout",
     "output_type": "stream",
     "text": [
      "\n",
      "[Reached max time: 744h (31d)]\n",
      "All raw contacts 2490\n",
      "Contacts at midnight  136\n",
      "Contacts collected by coarse-graining  32\n",
      "Contacts in multiple days  0\n",
      "Coarse-grained contacts  2594\n",
      "Missing contacts  0\n",
      "Asymmetric contacts  0\n",
      "...adjust prob_i0 and prob_r0\n",
      "...drop first time and reset observations\n",
      "pI at intial time: 14.39378401565542\n",
      "sib.iterate(damp=0):  2/20 4.414e-08/0.001    \n",
      "sib.iterate(damp=0.5):  0/20 2.657e-10/0.001    \r"
     ]
    },
    {
     "name": "stderr",
     "output_type": "stream",
     "text": [
      "iteration.sib: INFO     winBP: (S,I,R): (896.6, 0.0, 7.4), seeds: 7.4, ll: -983.0\n"
     ]
    },
    {
     "name": "stdout",
     "output_type": "stream",
     "text": [
      "\n"
     ]
    },
    {
     "name": "stderr",
     "output_type": "stream",
     "text": [
      "iteration.sib: INFO     number of tests today: 0\n",
      "iteration.sib: INFO     True  : (S,I,R): (885.0, 1.0, 18.0)\n",
      "iteration.sib: INFO     AUR_I : nan, prec100: 0, prec(1% of 875): 0.00, prec5%: 0.00\n",
      "iteration.sib: INFO     sym: 0, results test algo (S,I,R): (0,0,0), infected test random: 0/0\n",
      "iteration.sib: INFO     ...quarantining 0 guys -> got 0 infected, 0 free as birds (+0)\n"
     ]
    },
    {
     "name": "stdout",
     "output_type": "stream",
     "text": [
      "t: 745.07 | 1200.00 hrs (50 d)"
     ]
    },
    {
     "name": "stderr",
     "output_type": "stream",
     "text": [
      "iteration.sib: INFO     stopping simulation as there are no more infected individuals\n"
     ]
    },
    {
     "name": "stdout",
     "output_type": "stream",
     "text": [
      "Time  13.033682346343994\n"
     ]
    }
   ],
   "source": [
    "ress = {}\n",
    "for num_test_algo in [300]:  # number of test per day by ranking\n",
    "    for seed in [42]: # never use seed = 0\n",
    "        print(num_test_algo, seed)\n",
    "        for s in list(rankers.keys()):\n",
    "            data = {\"algo\": s}\n",
    "            if s == \"no_intervention\":\n",
    "                res_s = loop_mtpp.free_mtpp(mob,\n",
    "                                            country=country,\n",
    "                                            beta=beta,\n",
    "                                            T=T,\n",
    "                                            seed=seed,\n",
    "                                            logger=logging.getLogger(\n",
    "                                                f\"iteration.{s}\"),\n",
    "                                            data=data,\n",
    "                                            initial_counts=n_seeds,\n",
    "                                            name_file_res=s +\n",
    "                                            f\"_N_{N}_T_{T}_obs_{num_test_algo}_sym_obs_{fraction_sym_obs}_seed_{seed}\",\n",
    "                                            output_dir=output_dir,\n",
    "                                            )\n",
    "            else:\n",
    "                res_s = loop_mtpp.loop_mtpp(mob,\n",
    "                                            rankers[s],\n",
    "                                            country=country,\n",
    "                                            T=T,\n",
    "                                            seed=seed,\n",
    "                                            logger=logging.getLogger(\n",
    "                                                f\"iteration.{s}\"),\n",
    "                                            data=data,\n",
    "                                            initial_steps=initial_steps,\n",
    "                                            num_test_random=num_test_random,\n",
    "                                            num_test_algo=num_test_algo,\n",
    "                                            fraction_sym_obs=fraction_sym_obs,\n",
    "                                            initial_counts=n_seeds,\n",
    "                                            beta=beta,\n",
    "                                            test_HH=test_HH,\n",
    "                                            quarantine_HH=quarantine_HH,\n",
    "                                            name_file_res=s +\n",
    "                                            f\"_N_{N}_T_{T}_obs_{num_test_algo}_sym_obs_{fraction_sym_obs}_seed_{seed}\",\n",
    "                                            output_dir=output_dir,\n",
    "                                            save_every_iter=1,\n",
    "                                            adoption_fraction=adoption_fraction,\n",
    "                                            probability_th=probability_th,\n",
    "                                            adapt_th=adapt_th,\n",
    "                                            fp_rate=fp_rate,\n",
    "                                            fn_rate=fn_rate\n",
    "                                            )\n",
    "            ress[s] = res_s\n",
    "        del res_s\n"
   ]
  },
  {
   "cell_type": "code",
   "execution_count": 6,
   "metadata": {},
   "outputs": [
    {
     "data": {
      "image/png": "[encoded data removed]",
      "text/plain": [
       "<Figure size 1800x360 with 5 Axes>"
      ]
     },
     "metadata": {
      "needs_background": "light"
     },
     "output_type": "display_data"
    }
   ],
   "source": [
    "import matplotlib.pyplot as plt\n",
    "fig, axs = plt.subplots(1, 5, figsize=(25, 5))\n",
    "to_plot = ['I', 'infected_free', 'num_quarantined', \"q_algo\", \"n_test_algo\"]\n",
    "for s in ress.keys():\n",
    "    for il, l in enumerate(to_plot):\n",
    "        if s != \"no_intervention\":\n",
    "            axs[il].plot(range(T), ress[s][l], label=s)\n",
    "            if l != \"aurI\":\n",
    "                axs[il].set_yscale(\"log\")\n",
    "                axs[il].vlines(initial_steps, ymin=1, ymax=10**4,\n",
    "                               linestyle=\"--\", alpha=0.5, color=\"black\")\n",
    "            else:\n",
    "                axs[il].vlines(initial_steps, ymin=0, ymax=1,\n",
    "                               linestyle=\"--\", alpha=0.5, color=\"black\")\n",
    "\n",
    "            axs[il].set_title(l, fontsize=12)\n",
    "    axs[0].legend(loc='upper left')\n",
    "\n",
    "#fig.suptitle(f\"num test algo {num_test_algo} - adoption_fraction {adoption_fraction}\")\n",
    "fig.show()\n"
   ]
  },
  {
   "cell_type": "code",
   "execution_count": 11,
   "metadata": {},
   "outputs": [
    {
     "data": {
      "text/plain": [
       "[[[340.2019315565212, 70, 687], [131.95647805315014, 70, 767]],\n",
       " [],\n",
       " [],\n",
       " [],\n",
       " [[443.8642544391405, 457, 169], [446.58557659977487, 457, 859]],\n",
       " [],\n",
       " [[496.8092497974145, 425, 71]],\n",
       " [[180.7882932107915, 527, 811]],\n",
       " [[460.8312880643761, 811, 552],\n",
       "  [351.8889250369396, 811, 706],\n",
       "  [314.6034360979932, 811, 461]],\n",
       " [[273.9303402120962, 541, 20], [536.1035919047368, 541, 158]],\n",
       " [[369.49174753449853, 198, 325], [374.80358503279535, 459, 681]],\n",
       " [],\n",
       " [[557.962939520921, 278, 663]],\n",
       " [],\n",
       " [[556.5820615309623, 461, 853]],\n",
       " [],\n",
       " [[639.6565014806564, 706, 580],\n",
       "  [701.1784311631366, 706, 638],\n",
       "  [734.252565287945, 681, 765]],\n",
       " [[554.2869442363282, 20, 839]],\n",
       " [[447.0056726335478, 687, 682]],\n",
       " [[594.4993771964363, 682, 798], [626.8908180856051, 169, 849]],\n",
       " [[732.9198693227864, 859, 286],\n",
       "  [712.5091095166881, 859, 42],\n",
       "  [732.6007468673126, 859, 752]],\n",
       " [[746.3032298368565, 325, 265], [620.438682893206, 325, 576]],\n",
       " [[729.4342825283269, 513, 32],\n",
       "  [831.1274271522934, 513, 748],\n",
       "  [544.570223391706, 71, 704]],\n",
       " [[616.177721716426, 704, 435]],\n",
       " [[791.0377831465902, 552, 138],\n",
       "  [933.1207203588974, 552, 662],\n",
       "  [837.000906736134, 552, 684],\n",
       "  [695.8517238002439, 552, 511],\n",
       "  [618.8620299235633, 163, 433],\n",
       "  [968.3085572586687, 663, 134],\n",
       "  [697.9632212017711, 158, 107]],\n",
       " [[899.9000450827831, 182, 200],\n",
       "  [627.5214772114156, 9, 794],\n",
       "  [769.6129184795863, 9, 30],\n",
       "  [727.4849174809872, 839, 26],\n",
       "  [1039.3127142030094, 230, 268],\n",
       "  [650.8014995080272, 230, 288]],\n",
       " [[662.8527327271769, 296, 516],\n",
       "  [878.1705119096894, 308, 427],\n",
       "  [877.549363030502, 308, 864]],\n",
       " [[868.5823791059698, 646, 420],\n",
       "  [926.1333423386659, 646, 38],\n",
       "  [835.0742862374921, 646, 378],\n",
       "  [971.3326472947899, 646, 636],\n",
       "  [711.3026955504997, 149, 551],\n",
       "  [776.8512892895745, 254, 172],\n",
       "  [861.2041010191278, 254, 816],\n",
       "  [730.0727949911269, 254, 723],\n",
       "  [773.7432639191131, 254, 629],\n",
       "  [821.2119076515587, 254, 889]],\n",
       " [[953.8071874066293, 435, 57],\n",
       "  [881.426957695407, 435, 239],\n",
       "  [890.4627294391927, 435, 636],\n",
       "  [941.113975136456, 407, 258],\n",
       "  [1049.352333127676, 261, 809],\n",
       "  [764.3511248865063, 261, 692],\n",
       "  [1068.2849727601958, 261, 584],\n",
       "  [1069.869314748836, 261, 365]],\n",
       " [[1016.0878141197311, 516, 648], [1060.5491370204659, 516, 353]],\n",
       " [[1011.7947402103277, 320, 6],\n",
       "  [988.9625862652304, 320, 693],\n",
       "  [850.0691850440825, 318, 132],\n",
       "  [1021.013903268245, 318, 147],\n",
       "  [1127.187631131225, 318, 544],\n",
       "  [1059.4989539132866, 318, 854]],\n",
       " [[1083.8748239968609, 26, 591],\n",
       "  [900.5054638586588, 849, 720],\n",
       "  [844.6762686147739, 765, 246],\n",
       "  [1048.4491947842903, 794, 232],\n",
       "  [817.36169243447, 794, 109],\n",
       "  [1007.8471853861619, 83, 393]],\n",
       " [[965.6322381597967, 660, 822]],\n",
       " [[917.4692749212503, 723, 11],\n",
       "  [1045.4069487002987, 723, 851],\n",
       "  [807.2831248626466, 286, 492],\n",
       "  [876.2792518882256, 638, 488],\n",
       "  [849.9732208610037, 572, 898],\n",
       "  [1012.6105237939223, 572, 284],\n",
       "  [854.7695913856752, 572, 113],\n",
       "  [1152.0678291323695, 805, 124],\n",
       "  [957.7071425098045, 692, 565],\n",
       "  [1187.4362756687772, 692, 888],\n",
       "  [938.7029293865969, 107, 232]],\n",
       " [[981.0094973361885, 179, 119],\n",
       "  [1092.6505678077826, 179, 248],\n",
       "  [926.466367906011, 669, 257],\n",
       "  [894.6875532592439, 669, 232],\n",
       "  [1035.4882189108203, 294, 689],\n",
       "  [1008.214687038221, 265, 344]],\n",
       " [[1141.5685990042855, 709, 588],\n",
       "  [920.906246262002, 492, 884],\n",
       "  [1050.6461714128209, 676, 809],\n",
       "  [1009.0741558777822, 676, 208]],\n",
       " [[1026.1320462461345, 378, 99]],\n",
       " [[940.1675839066737, 113, 52],\n",
       "  [1037.1815553111333, 113, 627],\n",
       "  [982.6552197748514, 297, 390],\n",
       "  [984.6062132461386, 297, 293],\n",
       "  [948.7159847656073, 297, 597]],\n",
       " [],\n",
       " [[940.0130188197998, 107, 232]],\n",
       " [[1100.4610282644685, 316, 384], [1100.4819277340791, 316, 739]],\n",
       " [],\n",
       " [[1089.565161016915, 873, 248]],\n",
       " [],\n",
       " [],\n",
       " [],\n",
       " [],\n",
       " [],\n",
       " [],\n",
       " []]"
      ]
     },
     "execution_count": 11,
     "metadata": {},
     "output_type": "execute_result"
    }
   ],
   "source": [
    "import pandas as pd\n",
    "\n",
    "object = pd.read_pickle('output_Tubingen_pop1_site1/MF_N_904_T_50_obs_300_sym_obs_0.05_seed_42_states.pkl')\n",
    "object['transmissions']"
   ]
  }
 ],
 "metadata": {
  "interpreter": {
   "hash": "d4d1e4263499bec80672ea0156c357c1ee493ec2b1c70f0acce89fc37c4a6abe"
  },
  "kernelspec": {
   "display_name": "Python 3",
   "language": "python",
   "name": "python3"
  },
  "language_info": {
   "codemirror_mode": {
    "name": "ipython",
    "version": 3
   },
   "file_extension": ".py",
   "mimetype": "text/x-python",
   "name": "python",
   "nbconvert_exporter": "python",
   "pygments_lexer": "ipython3",
   "version": "3.8.10"
  }
 },
 "nbformat": 4,
 "nbformat_minor": 4
}
