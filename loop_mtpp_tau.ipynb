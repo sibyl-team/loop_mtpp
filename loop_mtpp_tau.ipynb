{
 "cells": [
  {
   "cell_type": "code",
   "execution_count": 81,
   "metadata": {},
   "outputs": [
    {
     "name": "stdout",
     "output_type": "stream",
     "text": [
      "Log setup already done\n"
     ]
    }
   ],
   "source": [
    "### To install sib as a python package look at the sib documentation \n",
    "\n",
    "import sys\n",
    "#sys.path.insert(0,'./src/')\n",
    "#simulator_path = \"../covid_de/sim/\" ##change simulatio path here \n",
    "sys.path.insert(0,'src/')\n",
    "simulator_path = \"../simulator/sim/\" ##change simulatio path here \n",
    "sys.path.insert(0, '../simulator/sim/lib/') # we need distributions.py\n",
    "sys.path.insert(0,simulator_path)\n",
    "sys.path.insert(0, \"../epidemic_mitigation/src/\") # correct rankers\n",
    "\n",
    "from pathlib import Path\n",
    "import numpy as np, pandas as pd, matplotlib.pyplot as plt\n",
    "import json, log, logging, loop_mtpp\n",
    "from importlib import reload\n",
    "import imp\n",
    "from math import exp\n",
    "import pickle\n",
    "#sys.path.insert(0,'./src/loop_ranker')\n",
    "from lib.mobilitysim import MobilitySimulator\n",
    "import loop_mtpp\n",
    "from mtpp_utils import contacts_cg\n",
    "from distributions import CovidDistributions\n",
    "\n",
    "\n",
    "\n",
    "#logging\n",
    "data_path = '../simulator/sim/lib/mobility/'\n",
    "\n",
    "output_dir = \"output_Tubingen_pop1_site1/\"\n",
    "fold_out = Path(output_dir)\n",
    "if not fold_out.exists():\n",
    "    fold_out.mkdir(parents=True)\n",
    "\n",
    "reload(log)\n",
    "logger = log.setup_logger()"
   ]
  },
  {
   "cell_type": "markdown",
   "metadata": {},
   "source": [
    "### Mobility simulation"
   ]
  },
  {
   "cell_type": "code",
   "execution_count": 82,
   "metadata": {
    "scrolled": true
   },
   "outputs": [
    {
     "name": "stdout",
     "output_type": "stream",
     "text": [
      "Simulate mobility for 1200.00 time units... "
     ]
    }
   ],
   "source": [
    "beta = 0.05  # from paper\n",
    "country = 'GER'\n",
    "distr = CovidDistributions(country)\n",
    "# with open(data_path + 'Isle_of_Wight_settings_pop10_site5.pk', 'rb') as fp:\n",
    "with open(data_path + 'Tubingen_settings_100_20.pk', 'rb') as fp:\n",
    "    mob_kwargs = pickle.load(fp)\n",
    "\n",
    "mob_kwargs[\"delta\"] = 0.2554120904376099\n",
    "T = 50\n",
    "seed_mob = 2\n",
    "t_unit = 24\n",
    "t_res = 0.25  # drop contacts with a duration < t_res (in hours)\n",
    "max_time = T * t_unit\n",
    "mob = MobilitySimulator(**mob_kwargs)\n",
    "mob.verbose = True\n",
    "out = mob.simulate(max_time=max_time, seed=seed_mob)\n",
    "N = mob.num_people\n",
    "# print(N)\n"
   ]
  },
  {
   "cell_type": "markdown",
   "metadata": {},
   "source": [
    "## Set testing and quarantine rules"
   ]
  },
  {
   "cell_type": "code",
   "execution_count": 83,
   "metadata": {},
   "outputs": [],
   "source": [
    "# n_indiv=np.ceil(mob_kwargs['num_people_unscaled']/mob_kwargs['downsample_pop'])\n",
    "n_seeds = {'expo': 3, 'iasy': 4, 'ipre': 5}  # select initial infected seeds\n",
    "num_test_random = 0  # number of random tests per day\n",
    "fraction_sym_obs = 0.05  # fraction of Symptomatic tested positive\n",
    "initial_steps = 5  # starting time of intervention\n",
    "delta_days = 1  # intervention every delta_days days\n",
    "test_HH = False\n",
    "quarantine_HH = True\n",
    "adoption_fraction = 1.0\n",
    "probability_th = 0.0\n",
    "adapt_th = False\n",
    "\n"
   ]
  },
  {
   "cell_type": "markdown",
   "metadata": {},
   "source": [
    "## Set the inference algorithm class"
   ]
  },
  {
   "cell_type": "code",
   "execution_count": 84,
   "metadata": {},
   "outputs": [],
   "source": [
    "import matplotlib.pyplot as plt\n",
    "import sib\n",
    "import scipy\n",
    "\n",
    "from rankers import sib_rank, greedy_rank, mean_field_rank\n",
    "from tqdm.notebook import tqdm\n",
    "from scipy.stats import gamma\n",
    "sib.set_num_threads(6)\n",
    "\n",
    "\n",
    "mu = 1/12\n",
    "prob_seed = 1/N\n",
    "prob_sus = 0.5\n",
    "pseed = prob_seed / (2 - prob_seed)\n",
    "psus = prob_sus * (1 - pseed)\n",
    "pautoinf = 1e-6\n",
    "fp_rate = 0.0\n",
    "fn_rate = 0.285\n",
    "\n",
    "rankers = {}\n",
    "\n",
    "\n",
    "rankers[\"MF\"] = mean_field_rank.MeanFieldRanker(\n",
    "                tau = 5,\n",
    "                delta = 10,\n",
    "                mu = mu,\n",
    "                lamb = 1.0\n",
    "                )\n",
    "                \n",
    "rankers[\"greedy\"] = greedy_rank.GreedyRanker(\n",
    "                 include_S = True,\n",
    "                tau=10)\n",
    "\n",
    "rankers[\"no_intervention\"] = None\n",
    "\n",
    "k_rec_gamma = 62.484380808876004\n",
    "scale_rec_gamma = 0.2992112296058585\n",
    "t0 = distr.incubation_mean_of_lognormal - \\\n",
    "    distr.median_infectious_without_symptom\n",
    "alpha = 2.0\n",
    "tau = 0\n",
    "\n",
    "prob_i = sib.PiecewiseLinear(sib.RealParams(\n",
    "    list(scipy.special.expit(alpha*(range(T+1) - t0*np.ones(T+1))))))\n",
    "prob_r = sib.PiecewiseLinear(sib.RealParams(\n",
    "    list(scipy.stats.gamma.sf(range(T+1), k_rec_gamma, scale=scale_rec_gamma))))\n",
    "\n",
    "rankers[\"sib\"] = sib_rank.SibRanker(\n",
    "    params=sib.Params(\n",
    "        prob_i=prob_i,\n",
    "        prob_r=prob_r,\n",
    "        pseed=pseed,\n",
    "        psus=psus,\n",
    "        pautoinf=pautoinf),\n",
    "    maxit0=20,\n",
    "    maxit1=20,\n",
    "    tol=1e-3,\n",
    "    memory_decay=1e-5,\n",
    "    window_length=21,\n",
    "    tau=tau,\n",
    "    fnr=fn_rate,\n",
    "    fpr=fp_rate\n",
    "\n",
    ")\n",
    "\n",
    "\n"
   ]
  },
  {
   "cell_type": "code",
   "execution_count": 85,
   "metadata": {
    "scrolled": true
   },
   "outputs": [
    {
     "name": "stdout",
     "output_type": "stream",
     "text": [
      "20 42\n",
      "Starting with guys:  {'expo': [70, 457, 218], 'iasy': [250, 39, 855, 486], 'ipre': [110, 72, 86, 695, 448]}\n",
      "t: 24.00 | 1200.00 hrs (50 d)"
     ]
    },
    {
     "name": "stderr",
     "output_type": "stream",
     "text": [
      "iteration.MF: INFO     time:0\n",
      "iteration.MF: INFO     adding contacts in the interval [0, 24]\n",
      "iteration.MF: INFO     number of unique contacts: 2094\n",
      "iteration.MF: INFO     number of tests today: 0\n",
      "iteration.MF: INFO     True  : (S,I,R): (892.0, 12.0, 0.0)\n",
      "iteration.MF: INFO     AUR_I : 0.652, prec100: 4, prec(1% of 905): 0.00, prec5%: 0.02\n",
      "iteration.MF: INFO     sym: 0, results test algo (S,I,R): (0,0,0), infected test random: 0/0\n",
      "iteration.MF: INFO     ...quarantining 0 guys -> got 0 infected, 12 free as birds (+12)\n"
     ]
    },
    {
     "name": "stdout",
     "output_type": "stream",
     "text": [
      "\n",
      "[Reached max time: 24h (1d)]\n",
      "All raw contacts 2114\n",
      "Contacts at midnight  46\n",
      "Contacts collected by coarse-graining  20\n",
      "Contacts in multiple days  0\n",
      "Coarse-grained contacts  2140\n",
      "Missing contacts  0\n",
      "Asymmetric contacts  0\n",
      "t: 48.00 | 1200.00 hrs (50 d)"
     ]
    },
    {
     "name": "stderr",
     "output_type": "stream",
     "text": [
      "iteration.MF: INFO     time:1\n",
      "iteration.MF: INFO     adding contacts in the interval [24, 48]\n",
      "iteration.MF: INFO     number of unique contacts: 2096\n"
     ]
    },
    {
     "name": "stdout",
     "output_type": "stream",
     "text": [
      "\n",
      "[Reached max time: 48h (2d)]\n",
      "All raw contacts 2140\n",
      "Contacts at midnight  112\n",
      "Contacts collected by coarse-graining  44\n",
      "Contacts in multiple days  0\n",
      "Coarse-grained contacts  2208\n",
      "Missing contacts  0\n",
      "Asymmetric contacts  0\n"
     ]
    },
    {
     "name": "stderr",
     "output_type": "stream",
     "text": [
      "iteration.MF: INFO     number of tests today: 0\n",
      "iteration.MF: INFO     True  : (S,I,R): (892.0, 12.0, 0.0)\n",
      "iteration.MF: INFO     AUR_I : 0.652, prec100: 4, prec(1% of 905): 0.00, prec5%: 0.02\n",
      "iteration.MF: INFO     sym: 0, results test algo (S,I,R): (0,0,0), infected test random: 0/0\n",
      "iteration.MF: INFO     ...quarantining 0 guys -> got 0 infected, 12 free as birds (+0)\n"
     ]
    },
    {
     "name": "stdout",
     "output_type": "stream",
     "text": [
      "t: 72.00 | 1200.00 hrs (50 d)"
     ]
    },
    {
     "name": "stderr",
     "output_type": "stream",
     "text": [
      "iteration.MF: INFO     time:2\n",
      "iteration.MF: INFO     adding contacts in the interval [48, 72]\n"
     ]
    },
    {
     "name": "stdout",
     "output_type": "stream",
     "text": [
      "\n",
      "[Reached max time: 72h (3d)]\n",
      "All raw contacts 2340\n",
      "Contacts at midnight  144\n",
      "Contacts collected by coarse-graining  72\n",
      "Contacts in multiple days  0\n",
      "Coarse-grained contacts  2412\n",
      "Missing contacts  0\n",
      "Asymmetric contacts  0\n"
     ]
    },
    {
     "name": "stderr",
     "output_type": "stream",
     "text": [
      "iteration.MF: INFO     number of unique contacts: 2268\n",
      "iteration.MF: INFO     number of tests today: 0\n",
      "iteration.MF: INFO     True  : (S,I,R): (892.0, 12.0, 0.0)\n",
      "iteration.MF: INFO     AUR_I : 0.652, prec100: 4, prec(1% of 905): 0.00, prec5%: 0.02\n",
      "iteration.MF: INFO     sym: 0, results test algo (S,I,R): (0,0,0), infected test random: 0/0\n",
      "iteration.MF: INFO     ...quarantining 0 guys -> got 0 infected, 12 free as birds (+0)\n"
     ]
    },
    {
     "name": "stdout",
     "output_type": "stream",
     "text": [
      "t: 96.00 | 1200.00 hrs (50 d)"
     ]
    },
    {
     "name": "stderr",
     "output_type": "stream",
     "text": [
      "iteration.MF: INFO     time:3\n"
     ]
    },
    {
     "name": "stdout",
     "output_type": "stream",
     "text": [
      "\n",
      "[Reached max time: 96h (4d)]\n",
      "All raw contacts 2688\n",
      "Contacts at midnight  144\n",
      "Contacts collected by coarse-graining  48\n",
      "Contacts in multiple days  0\n",
      "Coarse-grained contacts  2784\n",
      "Missing contacts  0\n",
      "Asymmetric contacts  0\n"
     ]
    },
    {
     "name": "stderr",
     "output_type": "stream",
     "text": [
      "iteration.MF: INFO     adding contacts in the interval [72, 96]\n",
      "iteration.MF: INFO     number of unique contacts: 2640\n",
      "iteration.MF: INFO     number of tests today: 0\n",
      "iteration.MF: INFO     True  : (S,I,R): (892.0, 12.0, 0.0)\n",
      "iteration.MF: INFO     AUR_I : 0.652, prec100: 4, prec(1% of 905): 0.00, prec5%: 0.02\n",
      "iteration.MF: INFO     sym: 0, results test algo (S,I,R): (0,0,0), infected test random: 0/0\n",
      "iteration.MF: INFO     ...quarantining 0 guys -> got 0 infected, 12 free as birds (+0)\n"
     ]
    },
    {
     "name": "stdout",
     "output_type": "stream",
     "text": [
      "t: 120.00 | 1200.00 hrs (50 d)"
     ]
    },
    {
     "name": "stderr",
     "output_type": "stream",
     "text": [
      "iteration.MF: INFO     time:4\n"
     ]
    },
    {
     "name": "stdout",
     "output_type": "stream",
     "text": [
      "\n",
      "[Reached max time: 120h (5d)]\n",
      "All raw contacts 2584\n",
      "Contacts at midnight  116\n",
      "Contacts collected by coarse-graining  52\n",
      "Contacts in multiple days  0\n"
     ]
    },
    {
     "name": "stderr",
     "output_type": "stream",
     "text": [
      "iteration.MF: INFO     adding contacts in the interval [96, 120]\n",
      "iteration.MF: INFO     number of unique contacts: 2532\n",
      "iteration.MF: INFO     number of tests today: 0\n",
      "iteration.MF: INFO     True  : (S,I,R): (890.0, 14.0, 0.0)\n",
      "iteration.MF: INFO     AUR_I : 0.610, prec100: 4, prec(1% of 905): 0.00, prec5%: 0.02\n",
      "iteration.MF: INFO     sym: 0, results test algo (S,I,R): (0,0,0), infected test random: 0/0\n",
      "iteration.MF: INFO     ...quarantining 0 guys -> got 0 infected, 14 free as birds (+2)\n"
     ]
    },
    {
     "name": "stdout",
     "output_type": "stream",
     "text": [
      "Coarse-grained contacts  2648\n",
      "Missing contacts  0\n",
      "Asymmetric contacts  0\n",
      "t: 144.00 | 1200.00 hrs (50 d)"
     ]
    },
    {
     "name": "stderr",
     "output_type": "stream",
     "text": [
      "iteration.MF: INFO     \n",
      "observation-based inference algorithm starts now\n",
      "\n",
      "iteration.MF: INFO     time:5\n",
      "iteration.MF: INFO     adding contacts in the interval [120, 144]\n",
      "iteration.MF: INFO     number of unique contacts: 2498\n"
     ]
    },
    {
     "name": "stdout",
     "output_type": "stream",
     "text": [
      "\n",
      "[Reached max time: 144h (6d)]\n",
      "All raw contacts 2538\n",
      "Contacts at midnight  206\n",
      "Contacts collected by coarse-graining  40\n",
      "Contacts in multiple days  0\n",
      "Coarse-grained contacts  2704\n",
      "Missing contacts  0\n",
      "Asymmetric contacts  0\n"
     ]
    },
    {
     "name": "stderr",
     "output_type": "stream",
     "text": [
      "iteration.MF: INFO     number of tests today: 20\n",
      "iteration.MF: INFO     True  : (S,I,R): (887.0, 17.0, 0.0)\n",
      "iteration.MF: INFO     AUR_I : 0.582, prec100: 4, prec(1% of 905): 0.00, prec5%: 0.02\n",
      "iteration.MF: INFO     sym: 0, results test algo (S,I,R): (20,0,0), infected test random: 0/0\n",
      "iteration.MF: INFO     ...quarantining 0 guys -> got 0 infected, 17 free as birds (+3)\n"
     ]
    },
    {
     "name": "stdout",
     "output_type": "stream",
     "text": [
      "t: 168.00 | 1200.00 hrs (50 d)"
     ]
    },
    {
     "name": "stderr",
     "output_type": "stream",
     "text": [
      "iteration.MF: INFO     time:6\n"
     ]
    },
    {
     "name": "stdout",
     "output_type": "stream",
     "text": [
      "\n",
      "[Reached max time: 168h (7d)]\n"
     ]
    },
    {
     "name": "stderr",
     "output_type": "stream",
     "text": [
      "iteration.MF: INFO     adding contacts in the interval [144, 168]\n",
      "iteration.MF: INFO     number of unique contacts: 2550\n",
      "iteration.MF: INFO     number of tests today: 20\n",
      "iteration.MF: INFO     True  : (S,I,R): (887.0, 17.0, 0.0)\n",
      "iteration.MF: INFO     AUR_I : 0.582, prec100: 4, prec(1% of 905): 0.00, prec5%: 0.02\n",
      "iteration.MF: INFO     sym: 0, results test algo (S,I,R): (20,0,0), infected test random: 0/0\n",
      "iteration.MF: INFO     ...quarantining 0 guys -> got 0 infected, 17 free as birds (+0)\n"
     ]
    },
    {
     "name": "stdout",
     "output_type": "stream",
     "text": [
      "All raw contacts 2632\n",
      "Contacts at midnight  206\n",
      "Contacts collected by coarse-graining  82\n",
      "Contacts in multiple days  0\n",
      "Coarse-grained contacts  2756\n",
      "Missing contacts  0\n",
      "Asymmetric contacts  0\n",
      "t: 192.00 | 1200.00 hrs (50 d)"
     ]
    },
    {
     "name": "stderr",
     "output_type": "stream",
     "text": [
      "iteration.MF: INFO     time:7\n"
     ]
    },
    {
     "name": "stdout",
     "output_type": "stream",
     "text": [
      "\n",
      "[Reached max time: 192h (8d)]\n",
      "All raw contacts 2848\n",
      "Contacts at midnight  142\n",
      "Contacts collected by coarse-graining  68\n",
      "Contacts in multiple days  0\n",
      "Coarse-grained contacts  2922\n",
      "Missing contacts  0\n",
      "Asymmetric contacts  0\n"
     ]
    },
    {
     "name": "stderr",
     "output_type": "stream",
     "text": [
      "iteration.MF: INFO     adding contacts in the interval [168, 192]\n",
      "iteration.MF: INFO     number of unique contacts: 2780\n",
      "iteration.MF: INFO     number of tests today: 20\n",
      "iteration.MF: INFO     True  : (S,I,R): (886.0, 18.0, 0.0)\n",
      "iteration.MF: INFO     AUR_I : 0.555, prec100: 4, prec(1% of 905): 0.00, prec5%: 0.02\n",
      "iteration.MF: INFO     sym: 0, results test algo (S,I,R): (20,0,0), infected test random: 0/0\n",
      "iteration.MF: INFO     ...quarantining 0 guys -> got 0 infected, 18 free as birds (+1)\n"
     ]
    },
    {
     "name": "stdout",
     "output_type": "stream",
     "text": [
      "t: 216.00 | 1200.00 hrs (50 d)"
     ]
    },
    {
     "name": "stderr",
     "output_type": "stream",
     "text": [
      "iteration.MF: INFO     time:8\n"
     ]
    },
    {
     "name": "stdout",
     "output_type": "stream",
     "text": [
      "\n",
      "[Reached max time: 216h (9d)]\n"
     ]
    },
    {
     "name": "stderr",
     "output_type": "stream",
     "text": [
      "iteration.MF: INFO     adding contacts in the interval [192, 216]\n",
      "iteration.MF: INFO     number of unique contacts: 2332\n"
     ]
    },
    {
     "name": "stdout",
     "output_type": "stream",
     "text": [
      "All raw contacts 2374\n",
      "Contacts at midnight  188\n",
      "Contacts collected by coarse-graining  42\n",
      "Contacts in multiple days  0\n",
      "Coarse-grained contacts  2520\n",
      "Missing contacts  0\n",
      "Asymmetric contacts  0\n"
     ]
    },
    {
     "name": "stderr",
     "output_type": "stream",
     "text": [
      "iteration.MF: INFO     number of tests today: 20\n",
      "iteration.MF: INFO     True  : (S,I,R): (885.0, 19.0, 0.0)\n",
      "iteration.MF: INFO     AUR_I : 0.546, prec100: 4, prec(1% of 905): 0.00, prec5%: 0.02\n",
      "iteration.MF: INFO     sym: 0, results test algo (S,I,R): (20,0,0), infected test random: 0/0\n",
      "iteration.MF: INFO     ...quarantining 0 guys -> got 0 infected, 19 free as birds (+1)\n"
     ]
    },
    {
     "name": "stdout",
     "output_type": "stream",
     "text": [
      "t: 240.00 | 1200.00 hrs (50 d)"
     ]
    },
    {
     "name": "stderr",
     "output_type": "stream",
     "text": [
      "iteration.MF: INFO     time:9\n"
     ]
    },
    {
     "name": "stdout",
     "output_type": "stream",
     "text": [
      "\n",
      "[Reached max time: 240h (10d)]\n"
     ]
    },
    {
     "name": "stderr",
     "output_type": "stream",
     "text": [
      "iteration.MF: INFO     adding contacts in the interval [216, 240]\n",
      "iteration.MF: INFO     number of unique contacts: 2488\n"
     ]
    },
    {
     "name": "stdout",
     "output_type": "stream",
     "text": [
      "All raw contacts 2540\n",
      "Contacts at midnight  138\n",
      "Contacts collected by coarse-graining  52\n",
      "Contacts in multiple days  0\n",
      "Coarse-grained contacts  2626\n",
      "Missing contacts  0\n",
      "Asymmetric contacts  0\n"
     ]
    },
    {
     "name": "stderr",
     "output_type": "stream",
     "text": [
      "iteration.MF: INFO     number of tests today: 20\n",
      "iteration.MF: INFO     True  : (S,I,R): (883.0, 21.0, 0.0)\n",
      "iteration.MF: INFO     AUR_I : 0.551, prec100: 4, prec(1% of 905): 0.00, prec5%: 0.02\n",
      "iteration.MF: INFO     sym: 0, results test algo (S,I,R): (20,0,0), infected test random: 0/0\n",
      "iteration.MF: INFO     ...quarantining 0 guys -> got 0 infected, 21 free as birds (+2)\n"
     ]
    },
    {
     "name": "stdout",
     "output_type": "stream",
     "text": [
      "t: 264.00 | 1200.00 hrs (50 d)"
     ]
    },
    {
     "name": "stderr",
     "output_type": "stream",
     "text": [
      "iteration.MF: INFO     time:10\n"
     ]
    },
    {
     "name": "stdout",
     "output_type": "stream",
     "text": [
      "\n",
      "[Reached max time: 264h (11d)]\n"
     ]
    },
    {
     "name": "stderr",
     "output_type": "stream",
     "text": [
      "iteration.MF: INFO     adding contacts in the interval [240, 264]\n",
      "iteration.MF: INFO     number of unique contacts: 1968\n"
     ]
    },
    {
     "name": "stdout",
     "output_type": "stream",
     "text": [
      "All raw contacts 2010\n",
      "Contacts at midnight  118\n",
      "Contacts collected by coarse-graining  42\n",
      "Contacts in multiple days  0\n",
      "Coarse-grained contacts  2086\n",
      "Missing contacts  0\n",
      "Asymmetric contacts  0\n"
     ]
    },
    {
     "name": "stderr",
     "output_type": "stream",
     "text": [
      "iteration.MF: INFO     number of tests today: 20\n",
      "iteration.MF: INFO     True  : (S,I,R): (882.0, 22.0, 0.0)\n",
      "iteration.MF: INFO     AUR_I : 0.531, prec100: 4, prec(1% of 905): 0.00, prec5%: 0.02\n",
      "iteration.MF: INFO     sym: 0, results test algo (S,I,R): (20,0,0), infected test random: 0/0\n",
      "iteration.MF: INFO     ...quarantining 0 guys -> got 0 infected, 22 free as birds (+1)\n"
     ]
    },
    {
     "name": "stdout",
     "output_type": "stream",
     "text": [
      "t: 288.00 | 1200.00 hrs (50 d)"
     ]
    },
    {
     "name": "stderr",
     "output_type": "stream",
     "text": [
      "iteration.MF: INFO     time:11\n"
     ]
    },
    {
     "name": "stdout",
     "output_type": "stream",
     "text": [
      "\n",
      "[Reached max time: 288h (12d)]\n",
      "All raw contacts 2356\n",
      "Contacts at midnight  150\n",
      "Contacts collected by coarse-graining  58\n",
      "Contacts in multiple days  0\n",
      "Coarse-grained contacts  2448\n",
      "Missing contacts  0\n",
      "Asymmetric contacts  0\n"
     ]
    },
    {
     "name": "stderr",
     "output_type": "stream",
     "text": [
      "iteration.MF: INFO     adding contacts in the interval [264, 288]\n",
      "iteration.MF: INFO     number of unique contacts: 2298\n",
      "iteration.MF: INFO     number of tests today: 20\n",
      "iteration.MF: INFO     True  : (S,I,R): (881.0, 23.0, 0.0)\n",
      "iteration.MF: INFO     AUR_I : 0.536, prec100: 5, prec(1% of 904): 0.00, prec5%: 0.04\n",
      "iteration.MF: INFO     sym: 0, results test algo (S,I,R): (20,0,0), infected test random: 0/0\n",
      "iteration.MF: INFO     ...quarantining 0 guys -> got 0 infected, 22 free as birds (+0)\n"
     ]
    },
    {
     "name": "stdout",
     "output_type": "stream",
     "text": [
      "t: 312.00 | 1200.00 hrs (50 d)"
     ]
    },
    {
     "name": "stderr",
     "output_type": "stream",
     "text": [
      "iteration.MF: INFO     time:12\n"
     ]
    },
    {
     "name": "stdout",
     "output_type": "stream",
     "text": [
      "\n",
      "[Reached max time: 312h (13d)]\n"
     ]
    },
    {
     "name": "stderr",
     "output_type": "stream",
     "text": [
      "iteration.MF: INFO     adding contacts in the interval [288, 312]\n",
      "iteration.MF: INFO     number of unique contacts: 2522\n",
      "iteration.MF: INFO     number of tests today: 20\n",
      "iteration.MF: INFO     True  : (S,I,R): (881.0, 21.0, 2.0)\n",
      "iteration.MF: INFO     AUR_I : 0.551, prec100: 5, prec(1% of 904): 0.00, prec5%: 0.04\n",
      "iteration.MF: INFO     sym: 0, results test algo (S,I,R): (20,0,0), infected test random: 0/0\n",
      "iteration.MF: INFO     ...quarantining 0 guys -> got 0 infected, 20 free as birds (-2)\n"
     ]
    },
    {
     "name": "stdout",
     "output_type": "stream",
     "text": [
      "All raw contacts 2566\n",
      "Contacts at midnight  126\n",
      "Contacts collected by coarse-graining  44\n",
      "Contacts in multiple days  0\n",
      "Coarse-grained contacts  2648\n",
      "Missing contacts  0\n",
      "Asymmetric contacts  0\n",
      "t: 336.00 | 1200.00 hrs (50 d)"
     ]
    },
    {
     "name": "stderr",
     "output_type": "stream",
     "text": [
      "iteration.MF: INFO     time:13\n"
     ]
    },
    {
     "name": "stdout",
     "output_type": "stream",
     "text": [
      "\n",
      "[Reached max time: 336h (14d)]\n"
     ]
    },
    {
     "name": "stderr",
     "output_type": "stream",
     "text": [
      "iteration.MF: INFO     adding contacts in the interval [312, 336]\n"
     ]
    },
    {
     "name": "stdout",
     "output_type": "stream",
     "text": [
      "All raw contacts 2382\n",
      "Contacts at midnight  144\n",
      "Contacts collected by coarse-graining  84\n",
      "Contacts in multiple days  0\n",
      "Coarse-grained contacts  2442\n",
      "Missing contacts  0\n",
      "Asymmetric contacts  0\n"
     ]
    },
    {
     "name": "stderr",
     "output_type": "stream",
     "text": [
      "iteration.MF: INFO     number of unique contacts: 2298\n",
      "iteration.MF: INFO     number of tests today: 20\n",
      "iteration.MF: INFO     True  : (S,I,R): (880.0, 20.0, 4.0)\n",
      "iteration.MF: INFO     AUR_I : 0.528, prec100: 4, prec(1% of 904): 0.00, prec5%: 0.02\n",
      "iteration.MF: INFO     sym: 0, results test algo (S,I,R): (20,0,0), infected test random: 0/0\n",
      "iteration.MF: INFO     ...quarantining 0 guys -> got 0 infected, 19 free as birds (-1)\n"
     ]
    },
    {
     "name": "stdout",
     "output_type": "stream",
     "text": [
      "t: 360.00 | 1200.00 hrs (50 d)"
     ]
    },
    {
     "name": "stderr",
     "output_type": "stream",
     "text": [
      "iteration.MF: INFO     time:14\n"
     ]
    },
    {
     "name": "stdout",
     "output_type": "stream",
     "text": [
      "\n",
      "[Reached max time: 360h (15d)]\n",
      "All raw contacts 2992\n",
      "Contacts at midnight  156\n",
      "Contacts collected by coarse-graining  70\n",
      "Contacts in multiple days  0\n",
      "Coarse-grained contacts  3078\n",
      "Missing contacts  0\n",
      "Asymmetric contacts  0\n"
     ]
    },
    {
     "name": "stderr",
     "output_type": "stream",
     "text": [
      "iteration.MF: INFO     adding contacts in the interval [336, 360]\n",
      "iteration.MF: INFO     number of unique contacts: 2922\n",
      "iteration.MF: INFO     number of tests today: 20\n",
      "iteration.MF: INFO     True  : (S,I,R): (878.0, 19.0, 7.0)\n",
      "iteration.MF: INFO     AUR_I : 0.493, prec100: 3, prec(1% of 904): 0.00, prec5%: 0.02\n",
      "iteration.MF: INFO     sym: 0, results test algo (S,I,R): (20,0,0), infected test random: 0/0\n",
      "iteration.MF: INFO     ...quarantining 0 guys -> got 0 infected, 18 free as birds (-1)\n"
     ]
    },
    {
     "name": "stdout",
     "output_type": "stream",
     "text": [
      "t: 384.00 | 1200.00 hrs (50 d)\n",
      "[Reached max time: 384h (16d)]\n"
     ]
    },
    {
     "name": "stderr",
     "output_type": "stream",
     "text": [
      "iteration.MF: INFO     time:15\n",
      "iteration.MF: INFO     adding contacts in the interval [360, 384]\n",
      "iteration.MF: INFO     number of unique contacts: 2222\n"
     ]
    },
    {
     "name": "stdout",
     "output_type": "stream",
     "text": [
      "All raw contacts 2272\n",
      "Contacts at midnight  116\n",
      "Contacts collected by coarse-graining  50\n",
      "Contacts in multiple days  0\n",
      "Coarse-grained contacts  2338\n",
      "Missing contacts  0\n",
      "Asymmetric contacts  0\n"
     ]
    },
    {
     "name": "stderr",
     "output_type": "stream",
     "text": [
      "iteration.MF: INFO     number of tests today: 20\n",
      "iteration.MF: INFO     True  : (S,I,R): (875.0, 21.0, 8.0)\n",
      "iteration.MF: INFO     AUR_I : 0.464, prec100: 2, prec(1% of 902): 0.00, prec5%: 0.02\n",
      "iteration.MF: INFO     sym: 0, results test algo (S,I,R): (19,1,0), infected test random: 0/0\n",
      "iteration.MF: INFO     ...quarantining 2 guys -> got 2 infected, 18 free as birds (+0)\n"
     ]
    },
    {
     "name": "stdout",
     "output_type": "stream",
     "text": [
      "t: 408.00 | 1200.00 hrs (50 d)"
     ]
    },
    {
     "name": "stderr",
     "output_type": "stream",
     "text": [
      "iteration.MF: INFO     time:16\n"
     ]
    },
    {
     "name": "stdout",
     "output_type": "stream",
     "text": [
      "\n",
      "[Reached max time: 408h (17d)]\n"
     ]
    },
    {
     "name": "stderr",
     "output_type": "stream",
     "text": [
      "iteration.MF: INFO     adding contacts in the interval [384, 408]\n",
      "iteration.MF: INFO     number of unique contacts: 2312\n"
     ]
    },
    {
     "name": "stdout",
     "output_type": "stream",
     "text": [
      "All raw contacts 2370\n",
      "Contacts at midnight  142\n",
      "Contacts collected by coarse-graining  36\n",
      "Contacts in multiple days  0\n",
      "Coarse-grained contacts  2476\n",
      "Missing contacts  0\n",
      "Asymmetric contacts  0\n"
     ]
    },
    {
     "name": "stderr",
     "output_type": "stream",
     "text": [
      "iteration.MF: INFO     number of tests today: 20\n",
      "iteration.MF: INFO     True  : (S,I,R): (875.0, 21.0, 8.0)\n",
      "iteration.MF: INFO     AUR_I : 0.594, prec100: 3, prec(1% of 897): 0.00, prec5%: 0.02\n",
      "iteration.MF: INFO     sym: 0, results test algo (S,I,R): (17,2,1), infected test random: 0/0\n",
      "iteration.MF: INFO     ...quarantining 5 guys -> got 4 infected, 14 free as birds (-4)\n"
     ]
    },
    {
     "name": "stdout",
     "output_type": "stream",
     "text": [
      "t: 432.00 | 1200.00 hrs (50 d)"
     ]
    },
    {
     "name": "stderr",
     "output_type": "stream",
     "text": [
      "iteration.MF: INFO     time:17\n"
     ]
    },
    {
     "name": "stdout",
     "output_type": "stream",
     "text": [
      "\n",
      "[Reached max time: 432h (18d)]\n"
     ]
    },
    {
     "name": "stderr",
     "output_type": "stream",
     "text": [
      "iteration.MF: INFO     adding contacts in the interval [408, 432]\n",
      "iteration.MF: INFO     number of unique contacts: 2476\n"
     ]
    },
    {
     "name": "stdout",
     "output_type": "stream",
     "text": [
      "All raw contacts 2572\n",
      "Contacts at midnight  150\n",
      "Contacts collected by coarse-graining  72\n",
      "Contacts in multiple days  0\n",
      "Coarse-grained contacts  2650\n",
      "Missing contacts  0\n",
      "Asymmetric contacts  0\n"
     ]
    },
    {
     "name": "stderr",
     "output_type": "stream",
     "text": [
      "iteration.MF: INFO     number of tests today: 20\n",
      "iteration.MF: INFO     True  : (S,I,R): (875.0, 20.0, 9.0)\n",
      "iteration.MF: INFO     AUR_I : 0.508, prec100: 3, prec(1% of 896): 0.12, prec5%: 0.05\n",
      "iteration.MF: INFO     sym: 0, results test algo (S,I,R): (19,1,0), infected test random: 0/0\n",
      "iteration.MF: INFO     ...quarantining 0 guys -> got 0 infected, 14 free as birds (+0)\n"
     ]
    },
    {
     "name": "stdout",
     "output_type": "stream",
     "text": [
      "t: 456.00 | 1200.00 hrs (50 d)"
     ]
    },
    {
     "name": "stderr",
     "output_type": "stream",
     "text": [
      "iteration.MF: INFO     time:18\n"
     ]
    },
    {
     "name": "stdout",
     "output_type": "stream",
     "text": [
      "\n",
      "[Reached max time: 456h (19d)]\n"
     ]
    },
    {
     "name": "stderr",
     "output_type": "stream",
     "text": [
      "iteration.MF: INFO     adding contacts in the interval [432, 456]\n"
     ]
    },
    {
     "name": "stdout",
     "output_type": "stream",
     "text": [
      "All raw contacts 2684\n",
      "Contacts at midnight  160\n",
      "Contacts collected by coarse-graining  74\n",
      "Contacts in multiple days  0\n",
      "Coarse-grained contacts  2770\n",
      "Missing contacts  0\n",
      "Asymmetric contacts  0\n"
     ]
    },
    {
     "name": "stderr",
     "output_type": "stream",
     "text": [
      "iteration.MF: INFO     number of unique contacts: 2564\n",
      "iteration.MF: INFO     number of tests today: 20\n",
      "iteration.MF: INFO     True  : (S,I,R): (872.0, 22.0, 10.0)\n",
      "iteration.MF: INFO     AUR_I : 0.445, prec100: 0, prec(1% of 896): 0.00, prec5%: 0.00\n",
      "iteration.MF: INFO     sym: 0, results test algo (S,I,R): (20,0,0), infected test random: 0/0\n",
      "iteration.MF: INFO     ...quarantining 0 guys -> got 0 infected, 16 free as birds (+2)\n"
     ]
    },
    {
     "name": "stdout",
     "output_type": "stream",
     "text": [
      "t: 480.00 | 1200.00 hrs (50 d)"
     ]
    },
    {
     "name": "stderr",
     "output_type": "stream",
     "text": [
      "iteration.MF: INFO     time:19\n"
     ]
    },
    {
     "name": "stdout",
     "output_type": "stream",
     "text": [
      "\n",
      "[Reached max time: 480h (20d)]\n"
     ]
    },
    {
     "name": "stderr",
     "output_type": "stream",
     "text": [
      "iteration.MF: INFO     adding contacts in the interval [456, 480]\n",
      "iteration.MF: INFO     number of unique contacts: 2114\n"
     ]
    },
    {
     "name": "stdout",
     "output_type": "stream",
     "text": [
      "All raw contacts 2194\n",
      "Contacts at midnight  148\n",
      "Contacts collected by coarse-graining  50\n",
      "Contacts in multiple days  0\n",
      "Coarse-grained contacts  2292\n",
      "Missing contacts  0\n",
      "Asymmetric contacts  0\n"
     ]
    },
    {
     "name": "stderr",
     "output_type": "stream",
     "text": [
      "iteration.MF: INFO     number of tests today: 20\n",
      "iteration.MF: INFO     True  : (S,I,R): (872.0, 22.0, 10.0)\n",
      "iteration.MF: INFO     AUR_I : 0.477, prec100: 1, prec(1% of 896): 0.00, prec5%: 0.02\n",
      "iteration.MF: INFO     sym: 0, results test algo (S,I,R): (19,1,0), infected test random: 0/0\n",
      "iteration.MF: INFO     ...quarantining 0 guys -> got 0 infected, 16 free as birds (+0)\n"
     ]
    },
    {
     "name": "stdout",
     "output_type": "stream",
     "text": [
      "t: 504.00 | 1200.00 hrs (50 d)"
     ]
    },
    {
     "name": "stderr",
     "output_type": "stream",
     "text": [
      "iteration.MF: INFO     time:20\n"
     ]
    },
    {
     "name": "stdout",
     "output_type": "stream",
     "text": [
      "\n",
      "[Reached max time: 504h (21d)]\n",
      "All raw contacts 2726\n",
      "Contacts at midnight  104\n",
      "Contacts collected by coarse-graining  60\n",
      "Contacts in multiple days  0\n",
      "Coarse-grained contacts  2770\n",
      "Missing contacts  0\n",
      "Asymmetric contacts  0\n"
     ]
    },
    {
     "name": "stderr",
     "output_type": "stream",
     "text": [
      "iteration.MF: INFO     adding contacts in the interval [480, 504]\n",
      "iteration.MF: INFO     number of unique contacts: 2640\n",
      "iteration.MF: INFO     number of tests today: 20\n",
      "iteration.MF: INFO     True  : (S,I,R): (870.0, 23.0, 11.0)\n",
      "iteration.MF: INFO     AUR_I : 0.504, prec100: 2, prec(1% of 896): 0.00, prec5%: 0.02\n",
      "iteration.MF: INFO     sym: 0, results test algo (S,I,R): (19,1,0), infected test random: 0/0\n",
      "iteration.MF: INFO     ...quarantining 0 guys -> got 0 infected, 16 free as birds (+0)\n"
     ]
    },
    {
     "name": "stdout",
     "output_type": "stream",
     "text": [
      "t: 528.00 | 1200.00 hrs (50 d)"
     ]
    },
    {
     "name": "stderr",
     "output_type": "stream",
     "text": [
      "iteration.MF: INFO     time:21\n"
     ]
    },
    {
     "name": "stdout",
     "output_type": "stream",
     "text": [
      "\n",
      "[Reached max time: 528h (22d)]\n"
     ]
    },
    {
     "name": "stderr",
     "output_type": "stream",
     "text": [
      "iteration.MF: INFO     adding contacts in the interval [504, 528]\n",
      "iteration.MF: INFO     number of unique contacts: 2530\n",
      "iteration.MF: INFO     number of tests today: 20\n",
      "iteration.MF: INFO     True  : (S,I,R): (869.0, 20.0, 15.0)\n",
      "iteration.MF: INFO     AUR_I : 0.502, prec100: 1, prec(1% of 895): 0.00, prec5%: 0.00\n",
      "iteration.MF: INFO     sym: 0, results test algo (S,I,R): (19,1,0), infected test random: 0/0\n"
     ]
    },
    {
     "name": "stdout",
     "output_type": "stream",
     "text": [
      "All raw contacts 2646\n",
      "Contacts at midnight  158\n",
      "Contacts collected by coarse-graining  92\n",
      "Contacts in multiple days  0\n",
      "Coarse-grained contacts  2712\n",
      "Missing contacts  0\n",
      "Asymmetric contacts  0\n"
     ]
    },
    {
     "name": "stderr",
     "output_type": "stream",
     "text": [
      "iteration.MF: INFO     ...quarantining 1 guys -> got 1 infected, 12 free as birds (-4)\n"
     ]
    },
    {
     "name": "stdout",
     "output_type": "stream",
     "text": [
      "t: 552.00 | 1200.00 hrs (50 d)\n",
      "[Reached max time: 552h (23d)]\n"
     ]
    },
    {
     "name": "stderr",
     "output_type": "stream",
     "text": [
      "iteration.MF: INFO     time:22\n"
     ]
    },
    {
     "name": "stdout",
     "output_type": "stream",
     "text": [
      "All raw contacts 2530\n",
      "Contacts at midnight  168\n",
      "Contacts collected by coarse-graining  70\n",
      "Contacts in multiple days  0\n",
      "Coarse-grained contacts  2628\n",
      "Missing contacts  0\n",
      "Asymmetric contacts  0\n"
     ]
    },
    {
     "name": "stderr",
     "output_type": "stream",
     "text": [
      "iteration.MF: INFO     adding contacts in the interval [528, 552]\n",
      "iteration.MF: INFO     number of unique contacts: 2398\n",
      "iteration.MF: INFO     number of tests today: 20\n",
      "iteration.MF: INFO     True  : (S,I,R): (866.0, 22.0, 16.0)\n",
      "iteration.MF: INFO     AUR_I : 0.511, prec100: 1, prec(1% of 895): 0.00, prec5%: 0.00\n",
      "iteration.MF: INFO     sym: 0, results test algo (S,I,R): (19,0,1), infected test random: 0/0\n",
      "iteration.MF: INFO     ...quarantining 0 guys -> got 0 infected, 14 free as birds (+2)\n"
     ]
    },
    {
     "name": "stdout",
     "output_type": "stream",
     "text": [
      "t: 576.00 | 1200.00 hrs (50 d)"
     ]
    },
    {
     "name": "stderr",
     "output_type": "stream",
     "text": [
      "iteration.MF: INFO     time:23\n"
     ]
    },
    {
     "name": "stdout",
     "output_type": "stream",
     "text": [
      "\n",
      "[Reached max time: 576h (24d)]\n",
      "All raw contacts"
     ]
    },
    {
     "name": "stderr",
     "output_type": "stream",
     "text": [
      "iteration.MF: INFO     adding contacts in the interval [552, 576]\n",
      "iteration.MF: INFO     number of unique contacts: 2408\n"
     ]
    },
    {
     "name": "stdout",
     "output_type": "stream",
     "text": [
      " 2572\n",
      "Contacts at midnight  122\n",
      "Contacts collected by coarse-graining  62\n",
      "Contacts in multiple days  0\n",
      "Coarse-grained contacts  2632\n",
      "Missing contacts  0\n",
      "Asymmetric contacts  0\n"
     ]
    },
    {
     "name": "stderr",
     "output_type": "stream",
     "text": [
      "iteration.MF: INFO     number of tests today: 20\n",
      "iteration.MF: INFO     True  : (S,I,R): (863.0, 25.0, 16.0)\n",
      "iteration.MF: INFO     AUR_I : 0.564, prec100: 1, prec(1% of 892): 0.00, prec5%: 0.02\n",
      "iteration.MF: INFO     sym: 0, results test algo (S,I,R): (17,2,1), infected test random: 0/0\n",
      "iteration.MF: INFO     ...quarantining 2 guys -> got 1 infected, 16 free as birds (+2)\n"
     ]
    },
    {
     "name": "stdout",
     "output_type": "stream",
     "text": [
      "t: 600.00 | 1200.00 hrs (50 d)"
     ]
    },
    {
     "name": "stderr",
     "output_type": "stream",
     "text": [
      "iteration.MF: INFO     time:24\n"
     ]
    },
    {
     "name": "stdout",
     "output_type": "stream",
     "text": [
      "\n",
      "[Reached max time: 600h (25d)]\n"
     ]
    },
    {
     "name": "stderr",
     "output_type": "stream",
     "text": [
      "iteration.MF: INFO     adding contacts in the interval [576, 600]\n",
      "iteration.MF: INFO     number of unique contacts: 2372\n"
     ]
    },
    {
     "name": "stdout",
     "output_type": "stream",
     "text": [
      "All raw contacts 2476\n",
      "Contacts at midnight  120\n",
      "Contacts collected by coarse-graining  42\n",
      "Contacts in multiple days  0\n",
      "Coarse-grained contacts  2554\n",
      "Missing contacts  0\n",
      "Asymmetric contacts  0\n"
     ]
    },
    {
     "name": "stderr",
     "output_type": "stream",
     "text": [
      "iteration.MF: INFO     number of tests today: 20\n",
      "iteration.MF: INFO     True  : (S,I,R): (862.0, 24.0, 18.0)\n",
      "iteration.MF: INFO     AUR_I : 0.442, prec100: 1, prec(1% of 890): 0.00, prec5%: 0.00\n",
      "iteration.MF: INFO     sym: 0, results test algo (S,I,R): (19,1,0), infected test random: 0/0\n",
      "iteration.MF: INFO     ...quarantining 2 guys -> got 2 infected, 15 free as birds (-1)\n"
     ]
    },
    {
     "name": "stdout",
     "output_type": "stream",
     "text": [
      "t: 624.00 | 1200.00 hrs (50 d)"
     ]
    },
    {
     "name": "stderr",
     "output_type": "stream",
     "text": [
      "iteration.MF: INFO     time:25\n"
     ]
    },
    {
     "name": "stdout",
     "output_type": "stream",
     "text": [
      "\n",
      "[Reached max time: 624h (26d)]\n"
     ]
    },
    {
     "name": "stderr",
     "output_type": "stream",
     "text": [
      "iteration.MF: INFO     adding contacts in the interval [600, 624]\n",
      "iteration.MF: INFO     number of unique contacts: 2684\n"
     ]
    },
    {
     "name": "stdout",
     "output_type": "stream",
     "text": [
      "All raw contacts 2758\n",
      "Contacts at midnight  144\n",
      "Contacts collected by coarse-graining  46\n",
      "Contacts in multiple days  0\n",
      "Coarse-grained contacts  2856\n",
      "Missing contacts  0\n",
      "Asymmetric contacts  0\n"
     ]
    },
    {
     "name": "stderr",
     "output_type": "stream",
     "text": [
      "iteration.MF: INFO     number of tests today: 20\n",
      "iteration.MF: INFO     True  : (S,I,R): (860.0, 26.0, 18.0)\n",
      "iteration.MF: INFO     AUR_I : 0.466, prec100: 0, prec(1% of 890): 0.00, prec5%: 0.00\n",
      "iteration.MF: INFO     sym: 0, results test algo (S,I,R): (20,0,0), infected test random: 0/0\n",
      "iteration.MF: INFO     ...quarantining 0 guys -> got 0 infected, 17 free as birds (+2)\n"
     ]
    },
    {
     "name": "stdout",
     "output_type": "stream",
     "text": [
      "t: 648.00 | 1200.00 hrs (50 d)"
     ]
    },
    {
     "name": "stderr",
     "output_type": "stream",
     "text": [
      "iteration.MF: INFO     time:26\n"
     ]
    },
    {
     "name": "stdout",
     "output_type": "stream",
     "text": [
      "\n",
      "[Reached max time: 648h (27d)]\n"
     ]
    },
    {
     "name": "stderr",
     "output_type": "stream",
     "text": [
      "iteration.MF: INFO     adding contacts in the interval [624, 648]\n",
      "iteration.MF: INFO     number of unique contacts: 2356\n"
     ]
    },
    {
     "name": "stdout",
     "output_type": "stream",
     "text": [
      "All raw contacts 2404\n",
      "Contacts at midnight  212\n",
      "Contacts collected by coarse-graining  24\n",
      "Contacts in multiple days  0\n",
      "Coarse-grained contacts  2592\n",
      "Missing contacts  0\n",
      "Asymmetric contacts  0\n"
     ]
    },
    {
     "name": "stderr",
     "output_type": "stream",
     "text": [
      "iteration.MF: INFO     number of tests today: 20\n",
      "iteration.MF: INFO     True  : (S,I,R): (857.0, 26.0, 21.0)\n",
      "iteration.MF: INFO     AUR_I : 0.623, prec100: 1, prec(1% of 890): 0.00, prec5%: 0.02\n",
      "iteration.MF: INFO     sym: 0, results test algo (S,I,R): (20,0,0), infected test random: 0/0\n",
      "iteration.MF: INFO     ...quarantining 0 guys -> got 0 infected, 19 free as birds (+2)\n"
     ]
    },
    {
     "name": "stdout",
     "output_type": "stream",
     "text": [
      "t: 672.00 | 1200.00 hrs (50 d)\n",
      "[Reached max time: 672h (28d)]\n"
     ]
    },
    {
     "name": "stderr",
     "output_type": "stream",
     "text": [
      "iteration.MF: INFO     time:27\n"
     ]
    },
    {
     "name": "stdout",
     "output_type": "stream",
     "text": [
      "All raw contacts 2412\n",
      "Contacts at midnight  204\n",
      "Contacts collected by coarse-graining  52\n",
      "Contacts in multiple days  0\n",
      "Coarse-grained contacts  2564\n",
      "Missing contacts  0\n",
      "Asymmetric contacts  0\n"
     ]
    },
    {
     "name": "stderr",
     "output_type": "stream",
     "text": [
      "iteration.MF: INFO     adding contacts in the interval [648, 672]\n",
      "iteration.MF: INFO     number of unique contacts: 2314\n",
      "iteration.MF: INFO     number of tests today: 20\n",
      "iteration.MF: INFO     True  : (S,I,R): (857.0, 26.0, 21.0)\n",
      "iteration.MF: INFO     AUR_I : 0.558, prec100: 2, prec(1% of 884): 0.00, prec5%: 0.02\n",
      "iteration.MF: INFO     sym: 0, results test algo (S,I,R): (18,2,0), infected test random: 0/0\n",
      "iteration.MF: INFO     ...quarantining 6 guys -> got 3 infected, 16 free as birds (-3)\n"
     ]
    },
    {
     "name": "stdout",
     "output_type": "stream",
     "text": [
      "t: 696.00 | 1200.00 hrs (50 d)"
     ]
    },
    {
     "name": "stderr",
     "output_type": "stream",
     "text": [
      "iteration.MF: INFO     time:28\n"
     ]
    },
    {
     "name": "stdout",
     "output_type": "stream",
     "text": [
      "\n",
      "[Reached max time: 696h (29d)]\n"
     ]
    },
    {
     "name": "stderr",
     "output_type": "stream",
     "text": [
      "iteration.MF: INFO     adding contacts in the interval [672, 696]\n",
      "iteration.MF: INFO     number of unique contacts: 2450\n"
     ]
    },
    {
     "name": "stdout",
     "output_type": "stream",
     "text": [
      "All raw contacts 2578\n",
      "Contacts at midnight  166\n",
      "Contacts collected by coarse-graining  54\n",
      "Contacts in multiple days  0\n",
      "Coarse-grained contacts  2690\n",
      "Missing contacts  0\n",
      "Asymmetric contacts  0\n"
     ]
    },
    {
     "name": "stderr",
     "output_type": "stream",
     "text": [
      "iteration.MF: INFO     number of tests today: 20\n",
      "iteration.MF: INFO     True  : (S,I,R): (854.0, 29.0, 21.0)\n",
      "iteration.MF: INFO     AUR_I : 0.574, prec100: 0, prec(1% of 880): 0.00, prec5%: 0.00\n",
      "iteration.MF: INFO     sym: 0, results test algo (S,I,R): (19,1,0), infected test random: 0/0\n",
      "iteration.MF: INFO     ...quarantining 4 guys -> got 4 infected, 13 free as birds (-3)\n"
     ]
    },
    {
     "name": "stdout",
     "output_type": "stream",
     "text": [
      "t: 720.00 | 1200.00 hrs (50 d)"
     ]
    },
    {
     "name": "stderr",
     "output_type": "stream",
     "text": [
      "iteration.MF: INFO     time:29\n"
     ]
    },
    {
     "name": "stdout",
     "output_type": "stream",
     "text": [
      "\n",
      "[Reached max time: 720h (30d)]\n"
     ]
    },
    {
     "name": "stderr",
     "output_type": "stream",
     "text": [
      "iteration.MF: INFO     adding contacts in the interval [696, 720]\n",
      "iteration.MF: INFO     number of unique contacts: 2026\n"
     ]
    },
    {
     "name": "stdout",
     "output_type": "stream",
     "text": [
      "All raw contacts 2230\n",
      "Contacts at midnight  146\n",
      "Contacts collected by coarse-graining  82\n",
      "Contacts in multiple days  0\n",
      "Coarse-grained contacts  2294\n",
      "Missing contacts  0\n",
      "Asymmetric contacts  0\n"
     ]
    },
    {
     "name": "stderr",
     "output_type": "stream",
     "text": [
      "iteration.MF: INFO     number of tests today: 20\n",
      "iteration.MF: INFO     True  : (S,I,R): (853.0, 30.0, 21.0)\n",
      "iteration.MF: INFO     AUR_I : 0.581, prec100: 3, prec(1% of 880): 0.00, prec5%: 0.00\n",
      "iteration.MF: INFO     sym: 0, results test algo (S,I,R): (20,0,0), infected test random: 0/0\n",
      "iteration.MF: INFO     ...quarantining 0 guys -> got 0 infected, 13 free as birds (+0)\n"
     ]
    },
    {
     "name": "stdout",
     "output_type": "stream",
     "text": [
      "t: 744.00 | 1200.00 hrs (50 d)"
     ]
    },
    {
     "name": "stderr",
     "output_type": "stream",
     "text": [
      "iteration.MF: INFO     time:30\n"
     ]
    },
    {
     "name": "stdout",
     "output_type": "stream",
     "text": [
      "\n",
      "[Reached max time: 744h (31d)]\n"
     ]
    },
    {
     "name": "stderr",
     "output_type": "stream",
     "text": [
      "iteration.MF: INFO     adding contacts in the interval [720, 744]\n",
      "iteration.MF: INFO     number of unique contacts: 2378\n"
     ]
    },
    {
     "name": "stdout",
     "output_type": "stream",
     "text": [
      "All raw contacts 2490\n",
      "Contacts at midnight  136\n",
      "Contacts collected by coarse-graining  32\n",
      "Contacts in multiple days  0\n",
      "Coarse-grained contacts  2594\n",
      "Missing contacts  0\n",
      "Asymmetric contacts  0\n"
     ]
    },
    {
     "name": "stderr",
     "output_type": "stream",
     "text": [
      "iteration.MF: INFO     number of tests today: 20\n",
      "iteration.MF: INFO     True  : (S,I,R): (853.0, 30.0, 21.0)\n",
      "iteration.MF: INFO     AUR_I : 0.601, prec100: 3, prec(1% of 879): 0.00, prec5%: 0.02\n",
      "iteration.MF: INFO     sym: 0, results test algo (S,I,R): (20,0,0), infected test random: 0/0\n",
      "iteration.MF: INFO     ...quarantining 0 guys -> got 0 infected, 12 free as birds (-1)\n"
     ]
    },
    {
     "name": "stdout",
     "output_type": "stream",
     "text": [
      "t: 768.00 | 1200.00 hrs (50 d)"
     ]
    },
    {
     "name": "stderr",
     "output_type": "stream",
     "text": [
      "iteration.MF: INFO     time:31\n"
     ]
    },
    {
     "name": "stdout",
     "output_type": "stream",
     "text": [
      "\n",
      "[Reached max time: 768h (32d)]\n",
      "All raw contacts"
     ]
    },
    {
     "name": "stderr",
     "output_type": "stream",
     "text": [
      "iteration.MF: INFO     adding contacts in the interval [744, 768]\n",
      "iteration.MF: INFO     number of unique contacts: 2276\n"
     ]
    },
    {
     "name": "stdout",
     "output_type": "stream",
     "text": [
      " 2436\n",
      "Contacts at midnight  156\n",
      "Contacts collected by coarse-graining  76\n",
      "Contacts in multiple days  0\n",
      "Coarse-grained contacts  2516\n",
      "Missing contacts  0\n",
      "Asymmetric contacts  0\n"
     ]
    },
    {
     "name": "stderr",
     "output_type": "stream",
     "text": [
      "iteration.MF: INFO     number of tests today: 20\n",
      "iteration.MF: INFO     True  : (S,I,R): (852.0, 26.0, 26.0)\n",
      "iteration.MF: INFO     AUR_I : 0.500, prec100: 2, prec(1% of 879): 0.00, prec5%: 0.00\n",
      "iteration.MF: INFO     sym: 0, results test algo (S,I,R): (20,0,0), infected test random: 0/0\n",
      "iteration.MF: INFO     ...quarantining 0 guys -> got 0 infected, 12 free as birds (+0)\n"
     ]
    },
    {
     "name": "stdout",
     "output_type": "stream",
     "text": [
      "t: 792.00 | 1200.00 hrs (50 d)"
     ]
    },
    {
     "name": "stderr",
     "output_type": "stream",
     "text": [
      "iteration.MF: INFO     time:32\n"
     ]
    },
    {
     "name": "stdout",
     "output_type": "stream",
     "text": [
      "\n",
      "[Reached max time: 792h (33d)]\n",
      "All raw contacts 2378\n"
     ]
    },
    {
     "name": "stderr",
     "output_type": "stream",
     "text": [
      "iteration.MF: INFO     adding contacts in the interval [768, 792]\n",
      "iteration.MF: INFO     number of unique contacts: 2240\n",
      "iteration.MF: INFO     number of tests today: 20\n",
      "iteration.MF: INFO     True  : (S,I,R): (851.0, 26.0, 27.0)\n",
      "iteration.MF: INFO     AUR_I : 0.597, prec100: 1, prec(1% of 879): 0.00, prec5%: 0.02\n",
      "iteration.MF: INFO     sym: 0, results test algo (S,I,R): (20,0,0), infected test random: 0/0\n",
      "iteration.MF: INFO     ...quarantining 0 guys -> got 0 infected, 12 free as birds (+0)\n"
     ]
    },
    {
     "name": "stdout",
     "output_type": "stream",
     "text": [
      "Contacts at midnight  178\n",
      "Contacts collected by coarse-graining  54\n",
      "Contacts in multiple days  0\n",
      "Coarse-grained contacts  2502\n",
      "Missing contacts  0\n",
      "Asymmetric contacts  0\n",
      "t: 816.00 | 1200.00 hrs (50 d)"
     ]
    },
    {
     "name": "stderr",
     "output_type": "stream",
     "text": [
      "iteration.MF: INFO     time:33\n"
     ]
    },
    {
     "name": "stdout",
     "output_type": "stream",
     "text": [
      "\n",
      "[Reached max time: 816h (34d)]\n",
      "All raw contacts 2312\n",
      "Contacts at midnight  178\n",
      "Contacts collected by coarse-graining  34\n",
      "Contacts in multiple days  0\n",
      "Coarse-grained contacts  2456\n",
      "Missing contacts  0\n",
      "Asymmetric contacts  0\n"
     ]
    },
    {
     "name": "stderr",
     "output_type": "stream",
     "text": [
      "iteration.MF: INFO     adding contacts in the interval [792, 816]\n",
      "iteration.MF: INFO     number of unique contacts: 2190\n",
      "iteration.MF: INFO     number of tests today: 20\n",
      "iteration.MF: INFO     True  : (S,I,R): (849.0, 27.0, 28.0)\n",
      "iteration.MF: INFO     AUR_I : 0.569, prec100: 1, prec(1% of 879): 0.00, prec5%: 0.02\n",
      "iteration.MF: INFO     sym: 0, results test algo (S,I,R): (20,0,0), infected test random: 0/0\n",
      "iteration.MF: INFO     ...quarantining 0 guys -> got 0 infected, 13 free as birds (+1)\n"
     ]
    },
    {
     "name": "stdout",
     "output_type": "stream",
     "text": [
      "t: 840.00 | 1200.00 hrs (50 d)"
     ]
    },
    {
     "name": "stderr",
     "output_type": "stream",
     "text": [
      "iteration.MF: INFO     time:34\n"
     ]
    },
    {
     "name": "stdout",
     "output_type": "stream",
     "text": [
      "\n",
      "[Reached max time: 840h (35d)]\n"
     ]
    },
    {
     "name": "stderr",
     "output_type": "stream",
     "text": [
      "iteration.MF: INFO     adding contacts in the interval [816, 840]\n",
      "iteration.MF: INFO     number of unique contacts: 2524\n"
     ]
    },
    {
     "name": "stdout",
     "output_type": "stream",
     "text": [
      "All raw contacts 2742\n",
      "Contacts at midnight  136\n",
      "Contacts collected by coarse-graining  48\n",
      "Contacts in multiple days  0\n",
      "Coarse-grained contacts  2830\n",
      "Missing contacts  0\n",
      "Asymmetric contacts  0\n"
     ]
    },
    {
     "name": "stderr",
     "output_type": "stream",
     "text": [
      "iteration.MF: INFO     number of tests today: 20\n",
      "iteration.MF: INFO     True  : (S,I,R): (849.0, 26.0, 29.0)\n",
      "iteration.MF: INFO     AUR_I : 0.525, prec100: 1, prec(1% of 878): 0.00, prec5%: 0.02\n",
      "iteration.MF: INFO     sym: 0, results test algo (S,I,R): (20,0,0), infected test random: 0/0\n",
      "iteration.MF: INFO     ...quarantining 0 guys -> got 0 infected, 11 free as birds (-2)\n"
     ]
    },
    {
     "name": "stdout",
     "output_type": "stream",
     "text": [
      "t: 864.00 | 1200.00 hrs (50 d)"
     ]
    },
    {
     "name": "stderr",
     "output_type": "stream",
     "text": [
      "iteration.MF: INFO     time:35\n"
     ]
    },
    {
     "name": "stdout",
     "output_type": "stream",
     "text": [
      "\n",
      "[Reached max time: 864h (36d)]\n"
     ]
    },
    {
     "name": "stderr",
     "output_type": "stream",
     "text": [
      "iteration.MF: INFO     adding contacts in the interval [840, 864]\n",
      "iteration.MF: INFO     number of unique contacts: 2506\n"
     ]
    },
    {
     "name": "stdout",
     "output_type": "stream",
     "text": [
      "All raw contacts 2686\n",
      "Contacts at midnight  126\n",
      "Contacts collected by coarse-graining  78\n",
      "Contacts in multiple days  0\n",
      "Coarse-grained contacts  2734\n",
      "Missing contacts  0\n",
      "Asymmetric contacts  0\n"
     ]
    },
    {
     "name": "stderr",
     "output_type": "stream",
     "text": [
      "iteration.MF: INFO     number of tests today: 20\n",
      "iteration.MF: INFO     True  : (S,I,R): (845.0, 29.0, 30.0)\n",
      "iteration.MF: INFO     AUR_I : 0.589, prec100: 2, prec(1% of 878): 0.00, prec5%: 0.02\n",
      "iteration.MF: INFO     sym: 0, results test algo (S,I,R): (20,0,0), infected test random: 0/0\n",
      "iteration.MF: INFO     ...quarantining 0 guys -> got 0 infected, 15 free as birds (+4)\n"
     ]
    },
    {
     "name": "stdout",
     "output_type": "stream",
     "text": [
      "t: 888.00 | 1200.00 hrs (50 d)"
     ]
    },
    {
     "name": "stderr",
     "output_type": "stream",
     "text": [
      "iteration.MF: INFO     time:36\n"
     ]
    },
    {
     "name": "stdout",
     "output_type": "stream",
     "text": [
      "\n",
      "[Reached max time: 888h (37d)]\n"
     ]
    },
    {
     "name": "stderr",
     "output_type": "stream",
     "text": [
      "iteration.MF: INFO     adding contacts in the interval [864, 888]\n",
      "iteration.MF: INFO     number of unique contacts: 2356\n"
     ]
    },
    {
     "name": "stdout",
     "output_type": "stream",
     "text": [
      "All raw contacts 2544\n",
      "Contacts at midnight  146\n",
      "Contacts collected by coarse-graining  34\n",
      "Contacts in multiple days  0\n",
      "Coarse-grained contacts  2656\n",
      "Missing contacts  0\n",
      "Asymmetric contacts  0\n"
     ]
    },
    {
     "name": "stderr",
     "output_type": "stream",
     "text": [
      "iteration.MF: INFO     number of tests today: 20\n",
      "iteration.MF: INFO     True  : (S,I,R): (842.0, 31.0, 31.0)\n",
      "iteration.MF: INFO     AUR_I : 0.577, prec100: 2, prec(1% of 878): 0.00, prec5%: 0.02\n",
      "iteration.MF: INFO     sym: 0, results test algo (S,I,R): (20,0,0), infected test random: 0/0\n",
      "iteration.MF: INFO     ...quarantining 0 guys -> got 0 infected, 18 free as birds (+3)\n"
     ]
    },
    {
     "name": "stdout",
     "output_type": "stream",
     "text": [
      "t: 912.00 | 1200.00 hrs (50 d)"
     ]
    },
    {
     "name": "stderr",
     "output_type": "stream",
     "text": [
      "iteration.MF: INFO     time:37\n"
     ]
    },
    {
     "name": "stdout",
     "output_type": "stream",
     "text": [
      "\n",
      "[Reached max time: 912h (38d)]\n"
     ]
    },
    {
     "name": "stderr",
     "output_type": "stream",
     "text": [
      "iteration.MF: INFO     adding contacts in the interval [888, 912]\n",
      "iteration.MF: INFO     number of unique contacts: 2488\n"
     ]
    },
    {
     "name": "stdout",
     "output_type": "stream",
     "text": [
      "All raw contacts 2672\n",
      "Contacts at midnight  118\n",
      "Contacts collected by coarse-graining  58\n",
      "Contacts in multiple days  0\n",
      "Coarse-grained contacts  2732\n",
      "Missing contacts  0\n",
      "Asymmetric contacts  0\n"
     ]
    },
    {
     "name": "stderr",
     "output_type": "stream",
     "text": [
      "iteration.MF: INFO     number of tests today: 20\n",
      "iteration.MF: INFO     True  : (S,I,R): (841.0, 31.0, 32.0)\n",
      "iteration.MF: INFO     AUR_I : 0.562, prec100: 2, prec(1% of 878): 0.00, prec5%: 0.02\n",
      "iteration.MF: INFO     sym: 0, results test algo (S,I,R): (20,0,0), infected test random: 0/0\n",
      "iteration.MF: INFO     ...quarantining 0 guys -> got 0 infected, 18 free as birds (+0)\n"
     ]
    },
    {
     "name": "stdout",
     "output_type": "stream",
     "text": [
      "t: 936.00 | 1200.00 hrs (50 d)\n",
      "[Reached max time: 936h (39d)]\n"
     ]
    },
    {
     "name": "stderr",
     "output_type": "stream",
     "text": [
      "iteration.MF: INFO     time:38\n",
      "iteration.MF: INFO     adding contacts in the interval [912, 936]\n",
      "iteration.MF: INFO     number of unique contacts: 1836\n"
     ]
    },
    {
     "name": "stdout",
     "output_type": "stream",
     "text": [
      "All raw contacts 1944\n",
      "Contacts at midnight  78\n",
      "Contacts collected by coarse-graining  42\n",
      "Contacts in multiple days  0\n",
      "Coarse-grained contacts  1980\n",
      "Missing contacts  0\n",
      "Asymmetric contacts  0\n"
     ]
    },
    {
     "name": "stderr",
     "output_type": "stream",
     "text": [
      "iteration.MF: INFO     number of tests today: 20\n",
      "iteration.MF: INFO     True  : (S,I,R): (839.0, 30.0, 35.0)\n",
      "iteration.MF: INFO     AUR_I : 0.486, prec100: 2, prec(1% of 878): 0.00, prec5%: 0.02\n",
      "iteration.MF: INFO     sym: 0, results test algo (S,I,R): (20,0,0), infected test random: 0/0\n",
      "iteration.MF: INFO     ...quarantining 0 guys -> got 0 infected, 18 free as birds (+0)\n"
     ]
    },
    {
     "name": "stdout",
     "output_type": "stream",
     "text": [
      "t: 960.00 | 1200.00 hrs (50 d)"
     ]
    },
    {
     "name": "stderr",
     "output_type": "stream",
     "text": [
      "iteration.MF: INFO     time:39\n"
     ]
    },
    {
     "name": "stdout",
     "output_type": "stream",
     "text": [
      "\n",
      "[Reached max time: 960h (40d)]\n",
      "All raw contacts 2490\n",
      "Contacts at midnight  130\n",
      "Contacts collected by coarse-graining  52\n",
      "Contacts in multiple days  0\n",
      "Coarse-grained contacts  2568\n",
      "Missing contacts  0\n",
      "Asymmetric contacts  0\n"
     ]
    },
    {
     "name": "stderr",
     "output_type": "stream",
     "text": [
      "iteration.MF: INFO     adding contacts in the interval [936, 960]\n",
      "iteration.MF: INFO     number of unique contacts: 2252\n",
      "iteration.MF: INFO     number of tests today: 20\n",
      "iteration.MF: INFO     True  : (S,I,R): (838.0, 30.0, 36.0)\n",
      "iteration.MF: INFO     AUR_I : 0.465, prec100: 2, prec(1% of 878): 0.00, prec5%: 0.02\n",
      "iteration.MF: INFO     sym: 0, results test algo (S,I,R): (20,0,0), infected test random: 0/0\n",
      "iteration.MF: INFO     ...quarantining 0 guys -> got 0 infected, 19 free as birds (+1)\n"
     ]
    },
    {
     "name": "stdout",
     "output_type": "stream",
     "text": [
      "t: 984.00 | 1200.00 hrs (50 d)"
     ]
    },
    {
     "name": "stderr",
     "output_type": "stream",
     "text": [
      "iteration.MF: INFO     time:40\n"
     ]
    },
    {
     "name": "stdout",
     "output_type": "stream",
     "text": [
      "\n",
      "[Reached max time: 984h (41d)]\n"
     ]
    },
    {
     "name": "stderr",
     "output_type": "stream",
     "text": [
      "iteration.MF: INFO     adding contacts in the interval [960, 984]\n",
      "iteration.MF: INFO     number of unique contacts: 2256\n"
     ]
    },
    {
     "name": "stdout",
     "output_type": "stream",
     "text": [
      "All raw contacts 2426\n",
      "Contacts at midnight  216\n",
      "Contacts collected by coarse-graining  26\n",
      "Contacts in multiple days  0\n",
      "Coarse-grained contacts  2616\n",
      "Missing contacts  0\n",
      "Asymmetric contacts  0\n"
     ]
    },
    {
     "name": "stderr",
     "output_type": "stream",
     "text": [
      "iteration.MF: INFO     number of tests today: 20\n",
      "iteration.MF: INFO     True  : (S,I,R): (837.0, 29.0, 38.0)\n",
      "iteration.MF: INFO     AUR_I : 0.486, prec100: 2, prec(1% of 878): 0.00, prec5%: 0.02\n",
      "iteration.MF: INFO     sym: 0, results test algo (S,I,R): (20,0,0), infected test random: 0/0\n",
      "iteration.MF: INFO     ...quarantining 0 guys -> got 0 infected, 20 free as birds (+1)\n"
     ]
    },
    {
     "name": "stdout",
     "output_type": "stream",
     "text": [
      "t: 1008.00 | 1200.00 hrs (50 d)\n",
      "[Reached max time: 1008h (42d)]\n"
     ]
    },
    {
     "name": "stderr",
     "output_type": "stream",
     "text": [
      "iteration.MF: INFO     time:41\n",
      "iteration.MF: INFO     adding contacts in the interval [984, 1008]\n",
      "iteration.MF: INFO     number of unique contacts: 2502\n",
      "iteration.MF: INFO     number of tests today: 20\n",
      "iteration.MF: INFO     True  : (S,I,R): (834.0, 30.0, 40.0)\n",
      "iteration.MF: INFO     AUR_I : 0.482, prec100: 2, prec(1% of 878): 0.00, prec5%: 0.02\n",
      "iteration.MF: INFO     sym: 0, results test algo (S,I,R): (20,0,0), infected test random: 0/0\n",
      "iteration.MF: INFO     ...quarantining 0 guys -> got 0 infected, 23 free as birds (+3)\n"
     ]
    },
    {
     "name": "stdout",
     "output_type": "stream",
     "text": [
      "All raw contacts 2648\n",
      "Contacts at midnight  212\n",
      "Contacts collected by coarse-graining  34\n",
      "Contacts in multiple days  0\n",
      "Coarse-grained contacts  2826\n",
      "Missing contacts  0\n",
      "Asymmetric contacts  0\n",
      "t: 1032.00 | 1200.00 hrs (50 d)"
     ]
    },
    {
     "name": "stderr",
     "output_type": "stream",
     "text": [
      "iteration.MF: INFO     time:42\n"
     ]
    },
    {
     "name": "stdout",
     "output_type": "stream",
     "text": [
      "\n",
      "[Reached max time: 1032h (43d)]\n"
     ]
    },
    {
     "name": "stderr",
     "output_type": "stream",
     "text": [
      "iteration.MF: INFO     adding contacts in the interval [1008, 1032]\n",
      "iteration.MF: INFO     number of unique contacts: 2574\n"
     ]
    },
    {
     "name": "stdout",
     "output_type": "stream",
     "text": [
      "All raw contacts 2850\n",
      "Contacts at midnight  138\n",
      "Contacts collected by coarse-graining  56\n",
      "Contacts in multiple days  0\n",
      "Coarse-grained contacts  2932\n",
      "Missing contacts  0\n",
      "Asymmetric contacts  0\n"
     ]
    },
    {
     "name": "stderr",
     "output_type": "stream",
     "text": [
      "iteration.MF: INFO     number of tests today: 20\n",
      "iteration.MF: INFO     True  : (S,I,R): (829.0, 32.0, 43.0)\n",
      "iteration.MF: INFO     AUR_I : 0.468, prec100: 2, prec(1% of 878): 0.00, prec5%: 0.02\n",
      "iteration.MF: INFO     sym: 0, results test algo (S,I,R): (19,1,0), infected test random: 0/0\n",
      "iteration.MF: INFO     ...quarantining 0 guys -> got 0 infected, 26 free as birds (+3)\n"
     ]
    },
    {
     "name": "stdout",
     "output_type": "stream",
     "text": [
      "t: 1056.00 | 1200.00 hrs (50 d)"
     ]
    },
    {
     "name": "stderr",
     "output_type": "stream",
     "text": [
      "iteration.MF: INFO     time:43\n"
     ]
    },
    {
     "name": "stdout",
     "output_type": "stream",
     "text": [
      "\n",
      "[Reached max time: 1056h (44d)]\n"
     ]
    },
    {
     "name": "stderr",
     "output_type": "stream",
     "text": [
      "iteration.MF: INFO     adding contacts in the interval [1032, 1056]\n",
      "iteration.MF: INFO     number of unique contacts: 2376\n"
     ]
    },
    {
     "name": "stdout",
     "output_type": "stream",
     "text": [
      "All raw contacts 2528\n",
      "Contacts at midnight  92\n",
      "Contacts collected by coarse-graining  30\n",
      "Contacts in multiple days  0\n",
      "Coarse-grained contacts  2590\n",
      "Missing contacts  0\n",
      "Asymmetric contacts  0\n"
     ]
    },
    {
     "name": "stderr",
     "output_type": "stream",
     "text": [
      "iteration.MF: INFO     number of tests today: 20\n",
      "iteration.MF: INFO     True  : (S,I,R): (828.0, 31.0, 45.0)\n",
      "iteration.MF: INFO     AUR_I : 0.458, prec100: 1, prec(1% of 874): 0.00, prec5%: 0.00\n",
      "iteration.MF: INFO     sym: 0, results test algo (S,I,R): (19,1,0), infected test random: 0/0\n",
      "iteration.MF: INFO     ...quarantining 4 guys -> got 4 infected, 23 free as birds (-3)\n"
     ]
    },
    {
     "name": "stdout",
     "output_type": "stream",
     "text": [
      "t: 1080.00 | 1200.00 hrs (50 d)"
     ]
    },
    {
     "name": "stderr",
     "output_type": "stream",
     "text": [
      "iteration.MF: INFO     time:44\n"
     ]
    },
    {
     "name": "stdout",
     "output_type": "stream",
     "text": [
      "\n",
      "[Reached max time: 1080h (45d)]\n"
     ]
    },
    {
     "name": "stderr",
     "output_type": "stream",
     "text": [
      "iteration.MF: INFO     adding contacts in the interval [1056, 1080]\n"
     ]
    },
    {
     "name": "stdout",
     "output_type": "stream",
     "text": [
      "All raw contacts 2424\n",
      "Contacts at midnight  110\n",
      "Contacts collected by coarse-graining  24\n",
      "Contacts in multiple days  0\n",
      "Coarse-grained contacts  2510\n",
      "Missing contacts  0\n",
      "Asymmetric contacts  0\n"
     ]
    },
    {
     "name": "stderr",
     "output_type": "stream",
     "text": [
      "iteration.MF: INFO     number of unique contacts: 2248\n",
      "iteration.MF: INFO     number of tests today: 20\n",
      "iteration.MF: INFO     True  : (S,I,R): (824.0, 32.0, 48.0)\n",
      "iteration.MF: INFO     AUR_I : 0.440, prec100: 1, prec(1% of 868): 0.00, prec5%: 0.00\n",
      "iteration.MF: INFO     sym: 0, results test algo (S,I,R): (17,3,0), infected test random: 0/0\n",
      "iteration.MF: INFO     ...quarantining 6 guys -> got 6 infected, 20 free as birds (-3)\n"
     ]
    },
    {
     "name": "stdout",
     "output_type": "stream",
     "text": [
      "t: 1104.00 | 1200.00 hrs (50 d)"
     ]
    },
    {
     "name": "stderr",
     "output_type": "stream",
     "text": [
      "iteration.MF: INFO     time:45\n"
     ]
    },
    {
     "name": "stdout",
     "output_type": "stream",
     "text": [
      "\n",
      "[Reached max time: 1104h (46d)]\n",
      "All raw contacts 2134\n",
      "Contacts at midnight  126\n",
      "Contacts collected by coarse-graining  50"
     ]
    },
    {
     "name": "stderr",
     "output_type": "stream",
     "text": [
      "iteration.MF: INFO     adding contacts in the interval [1080, 1104]\n",
      "iteration.MF: INFO     number of unique contacts: 1878\n"
     ]
    },
    {
     "name": "stdout",
     "output_type": "stream",
     "text": [
      "\n",
      "Contacts in multiple days  0\n",
      "Coarse-grained contacts  2210\n",
      "Missing contacts  0\n",
      "Asymmetric contacts  0\n"
     ]
    },
    {
     "name": "stderr",
     "output_type": "stream",
     "text": [
      "iteration.MF: INFO     number of tests today: 20\n",
      "iteration.MF: INFO     True  : (S,I,R): (822.0, 32.0, 50.0)\n",
      "iteration.MF: INFO     AUR_I : 0.470, prec100: 1, prec(1% of 861): 0.00, prec5%: 0.02\n",
      "iteration.MF: INFO     sym: 0, results test algo (S,I,R): (15,4,1), infected test random: 0/0\n",
      "iteration.MF: INFO     ...quarantining 7 guys -> got 5 infected, 17 free as birds (-3)\n"
     ]
    },
    {
     "name": "stdout",
     "output_type": "stream",
     "text": [
      "t: 1128.00 | 1200.00 hrs (50 d)"
     ]
    },
    {
     "name": "stderr",
     "output_type": "stream",
     "text": [
      "iteration.MF: INFO     time:46\n"
     ]
    },
    {
     "name": "stdout",
     "output_type": "stream",
     "text": [
      "\n",
      "[Reached max time: 1128h (47d)]\n",
      "All raw contacts 2316\n",
      "Contacts at midnight  148\n",
      "Contacts collected by coarse-graining "
     ]
    },
    {
     "name": "stderr",
     "output_type": "stream",
     "text": [
      "iteration.MF: INFO     adding contacts in the interval [1104, 1128]\n",
      "iteration.MF: INFO     number of unique contacts: 2114\n"
     ]
    },
    {
     "name": "stdout",
     "output_type": "stream",
     "text": [
      " 48\n",
      "Contacts in multiple days  0\n",
      "Coarse-grained contacts  2416\n",
      "Missing contacts  0\n",
      "Asymmetric contacts  0\n"
     ]
    },
    {
     "name": "stderr",
     "output_type": "stream",
     "text": [
      "iteration.MF: INFO     number of tests today: 20\n",
      "iteration.MF: INFO     True  : (S,I,R): (819.0, 35.0, 50.0)\n",
      "iteration.MF: INFO     AUR_I : 0.470, prec100: 1, prec(1% of 855): 0.00, prec5%: 0.00\n",
      "iteration.MF: INFO     sym: 0, results test algo (S,I,R): (19,1,0), infected test random: 0/0\n",
      "iteration.MF: INFO     ...quarantining 5 guys -> got 1 infected, 19 free as birds (+2)\n"
     ]
    },
    {
     "name": "stdout",
     "output_type": "stream",
     "text": [
      "t: 1152.00 | 1200.00 hrs (50 d)"
     ]
    },
    {
     "name": "stderr",
     "output_type": "stream",
     "text": [
      "iteration.MF: INFO     time:47\n"
     ]
    },
    {
     "name": "stdout",
     "output_type": "stream",
     "text": [
      "\n",
      "[Reached max time: 1152h (48d)]\n"
     ]
    },
    {
     "name": "stderr",
     "output_type": "stream",
     "text": [
      "iteration.MF: INFO     adding contacts in the interval [1128, 1152]\n",
      "iteration.MF: INFO     number of unique contacts: 2078\n"
     ]
    },
    {
     "name": "stdout",
     "output_type": "stream",
     "text": [
      "All raw contacts 2328\n",
      "Contacts at midnight  152\n",
      "Contacts collected by coarse-graining  30\n",
      "Contacts in multiple days  0\n",
      "Coarse-grained contacts  2450\n",
      "Missing contacts  0\n",
      "Asymmetric contacts  0\n"
     ]
    },
    {
     "name": "stderr",
     "output_type": "stream",
     "text": [
      "iteration.MF: INFO     number of tests today: 20\n",
      "iteration.MF: INFO     True  : (S,I,R): (816.0, 38.0, 50.0)\n",
      "iteration.MF: INFO     AUR_I : 0.495, prec100: 2, prec(1% of 855): 0.00, prec5%: 0.00\n",
      "iteration.MF: INFO     sym: 0, results test algo (S,I,R): (18,0,2), infected test random: 0/0\n",
      "iteration.MF: INFO     ...quarantining 0 guys -> got 0 infected, 20 free as birds (+1)\n"
     ]
    },
    {
     "name": "stdout",
     "output_type": "stream",
     "text": [
      "t: 1176.00 | 1200.00 hrs (50 d)"
     ]
    },
    {
     "name": "stderr",
     "output_type": "stream",
     "text": [
      "iteration.MF: INFO     time:48\n"
     ]
    },
    {
     "name": "stdout",
     "output_type": "stream",
     "text": [
      "\n",
      "[Reached max time: 1176h (49d)]\n",
      "All raw contacts 2432\n",
      "Contacts at midnight  134\n",
      "Contacts collected by coarse-graining  56\n",
      "Contacts in multiple days  0\n",
      "Coarse-grained contacts  2510\n",
      "Missing contacts  0\n",
      "Asymmetric contacts "
     ]
    },
    {
     "name": "stderr",
     "output_type": "stream",
     "text": [
      "iteration.MF: INFO     adding contacts in the interval [1152, 1176]\n",
      "iteration.MF: INFO     number of unique contacts: 2142\n"
     ]
    },
    {
     "name": "stdout",
     "output_type": "stream",
     "text": [
      " 0\n"
     ]
    },
    {
     "name": "stderr",
     "output_type": "stream",
     "text": [
      "iteration.MF: INFO     number of tests today: 20\n",
      "iteration.MF: INFO     True  : (S,I,R): (811.0, 43.0, 50.0)\n",
      "iteration.MF: INFO     AUR_I : 0.522, prec100: 4, prec(1% of 853): 0.00, prec5%: 0.00\n",
      "iteration.MF: INFO     sym: 0, results test algo (S,I,R): (19,0,1), infected test random: 0/0\n",
      "iteration.MF: INFO     ...quarantining 0 guys -> got 0 infected, 23 free as birds (+3)\n"
     ]
    },
    {
     "name": "stdout",
     "output_type": "stream",
     "text": [
      "t: 1199.76 | 1200.00 hrs (50 d)"
     ]
    },
    {
     "name": "stderr",
     "output_type": "stream",
     "text": [
      "iteration.MF: INFO     time:49\n",
      "iteration.MF: INFO     adding contacts in the interval [1176, 1200]\n"
     ]
    },
    {
     "name": "stdout",
     "output_type": "stream",
     "text": [
      "All raw contacts 2582\n",
      "Contacts at midnight  78\n",
      "Contacts collected by coarse-graining  64\n",
      "Contacts in multiple days  0\n",
      "Coarse-grained contacts  2596\n",
      "Missing contacts  0\n",
      "Asymmetric contacts  0\n"
     ]
    },
    {
     "name": "stderr",
     "output_type": "stream",
     "text": [
      "iteration.MF: INFO     number of unique contacts: 2252\n",
      "iteration.MF: INFO     number of tests today: 20\n",
      "iteration.MF: INFO     True  : (S,I,R): (807.0, 44.0, 53.0)\n",
      "iteration.MF: INFO     AUR_I : 0.527, prec100: 5, prec(1% of 852): 0.00, prec5%: 0.05\n",
      "iteration.MF: INFO     sym: 1, results test algo (S,I,R): (18,1,1), infected test random: 0/0\n",
      "iteration.MF: INFO     ...quarantining 2 guys -> got 2 infected, 22 free as birds (-1)\n"
     ]
    },
    {
     "name": "stdout",
     "output_type": "stream",
     "text": [
      "Time  8.935527563095093\n",
      "Starting with guys:  {'expo': [70, 457, 218], 'iasy': [250, 39, 855, 486], 'ipre': [110, 72, 86, 695, 448]}\n",
      "t: 24.00 | 1200.00 hrs (50 d)"
     ]
    },
    {
     "name": "stderr",
     "output_type": "stream",
     "text": [
      "iteration.greedy: INFO     time:0\n",
      "iteration.greedy: INFO     adding contacts in the interval [0, 24]\n",
      "iteration.greedy: INFO     number of unique contacts: 2094\n",
      "iteration.greedy: INFO     number of tests today: 0\n",
      "iteration.greedy: INFO     True  : (S,I,R): (892.0, 12.0, 0.0)\n",
      "iteration.greedy: INFO     AUR_I : 0.607, prec100: 4, prec(1% of 905): 0.00, prec5%: 0.04\n",
      "iteration.greedy: INFO     sym: 0, results test algo (S,I,R): (0,0,0), infected test random: 0/0\n",
      "iteration.greedy: INFO     ...quarantining 0 guys -> got 0 infected, 12 free as birds (+12)\n"
     ]
    },
    {
     "name": "stdout",
     "output_type": "stream",
     "text": [
      "\n",
      "[Reached max time: 24h (1d)]\n",
      "All raw contacts 2114\n",
      "Contacts at midnight  46\n",
      "Contacts collected by coarse-graining  20\n",
      "Contacts in multiple days  0\n",
      "Coarse-grained contacts  2140\n",
      "Missing contacts  0\n",
      "Asymmetric contacts  0\n",
      "all contacts: 2094\n",
      "all contacts cut: 0\n",
      "t: 48.00 | 1200.00 hrs (50 d)"
     ]
    },
    {
     "name": "stderr",
     "output_type": "stream",
     "text": [
      "iteration.greedy: INFO     time:1\n"
     ]
    },
    {
     "name": "stdout",
     "output_type": "stream",
     "text": [
      "\n",
      "[Reached max time: 48h (2d)]\n"
     ]
    },
    {
     "name": "stderr",
     "output_type": "stream",
     "text": [
      "iteration.greedy: INFO     adding contacts in the interval [24, 48]\n",
      "iteration.greedy: INFO     number of unique contacts: 2096\n",
      "iteration.greedy: INFO     number of tests today: 0\n",
      "iteration.greedy: INFO     True  : (S,I,R): (892.0, 12.0, 0.0)\n",
      "iteration.greedy: INFO     AUR_I : 0.601, prec100: 4, prec(1% of 905): 0.00, prec5%: 0.02\n",
      "iteration.greedy: INFO     sym: 0, results test algo (S,I,R): (0,0,0), infected test random: 0/0\n",
      "iteration.greedy: INFO     ...quarantining 0 guys -> got 0 infected, 12 free as birds (+0)\n"
     ]
    },
    {
     "name": "stdout",
     "output_type": "stream",
     "text": [
      "All raw contacts 2140\n",
      "Contacts at midnight  112\n",
      "Contacts collected by coarse-graining  44\n",
      "Contacts in multiple days  0\n",
      "Coarse-grained contacts  2208\n",
      "Missing contacts  0\n",
      "Asymmetric contacts  0\n",
      "all contacts: 4190\n",
      "all contacts cut: 0\n",
      "t: 72.00 | 1200.00 hrs (50 d)"
     ]
    },
    {
     "name": "stderr",
     "output_type": "stream",
     "text": [
      "iteration.greedy: INFO     time:2\n"
     ]
    },
    {
     "name": "stdout",
     "output_type": "stream",
     "text": [
      "\n",
      "[Reached max time: 72h (3d)]\n"
     ]
    },
    {
     "name": "stderr",
     "output_type": "stream",
     "text": [
      "iteration.greedy: INFO     adding contacts in the interval [48, 72]\n",
      "iteration.greedy: INFO     number of unique contacts: 2268\n"
     ]
    },
    {
     "name": "stdout",
     "output_type": "stream",
     "text": [
      "All raw contacts 2340\n",
      "Contacts at midnight  144\n",
      "Contacts collected by coarse-graining  72\n",
      "Contacts in multiple days  0\n",
      "Coarse-grained contacts  2412\n",
      "Missing contacts  0\n",
      "Asymmetric contacts  0\n"
     ]
    },
    {
     "name": "stderr",
     "output_type": "stream",
     "text": [
      "iteration.greedy: INFO     number of tests today: 0\n",
      "iteration.greedy: INFO     True  : (S,I,R): (892.0, 12.0, 0.0)\n",
      "iteration.greedy: INFO     AUR_I : 0.643, prec100: 4, prec(1% of 905): 0.00, prec5%: 0.02\n",
      "iteration.greedy: INFO     sym: 0, results test algo (S,I,R): (0,0,0), infected test random: 0/0\n",
      "iteration.greedy: INFO     ...quarantining 0 guys -> got 0 infected, 12 free as birds (+0)\n"
     ]
    },
    {
     "name": "stdout",
     "output_type": "stream",
     "text": [
      "all contacts: 6458\n",
      "all contacts cut: 0\n",
      "t: 96.00 | 1200.00 hrs (50 d)"
     ]
    },
    {
     "name": "stderr",
     "output_type": "stream",
     "text": [
      "iteration.greedy: INFO     time:3\n"
     ]
    },
    {
     "name": "stdout",
     "output_type": "stream",
     "text": [
      "\n",
      "[Reached max time: 96h (4d)]\n"
     ]
    },
    {
     "name": "stderr",
     "output_type": "stream",
     "text": [
      "iteration.greedy: INFO     adding contacts in the interval [72, 96]\n",
      "iteration.greedy: INFO     number of unique contacts: 2640\n"
     ]
    },
    {
     "name": "stdout",
     "output_type": "stream",
     "text": [
      "All raw contacts 2688\n",
      "Contacts at midnight  144\n",
      "Contacts collected by coarse-graining  48\n",
      "Contacts in multiple days  0\n",
      "Coarse-grained contacts  2784\n",
      "Missing contacts  0\n",
      "Asymmetric contacts  0\n"
     ]
    },
    {
     "name": "stderr",
     "output_type": "stream",
     "text": [
      "iteration.greedy: INFO     number of tests today: 0\n",
      "iteration.greedy: INFO     True  : (S,I,R): (892.0, 12.0, 0.0)\n",
      "iteration.greedy: INFO     AUR_I : 0.631, prec100: 4, prec(1% of 905): 0.00, prec5%: 0.02\n",
      "iteration.greedy: INFO     sym: 0, results test algo (S,I,R): (0,0,0), infected test random: 0/0\n",
      "iteration.greedy: INFO     ...quarantining 0 guys -> got 0 infected, 12 free as birds (+0)\n"
     ]
    },
    {
     "name": "stdout",
     "output_type": "stream",
     "text": [
      "all contacts: 9098\n",
      "all contacts cut: 0\n",
      "t: 120.00 | 1200.00 hrs (50 d)"
     ]
    },
    {
     "name": "stderr",
     "output_type": "stream",
     "text": [
      "iteration.greedy: INFO     time:4\n"
     ]
    },
    {
     "name": "stdout",
     "output_type": "stream",
     "text": [
      "\n",
      "[Reached max time: 120h (5d)]\n"
     ]
    },
    {
     "name": "stderr",
     "output_type": "stream",
     "text": [
      "iteration.greedy: INFO     adding contacts in the interval [96, 120]\n",
      "iteration.greedy: INFO     number of unique contacts: 2532\n",
      "iteration.greedy: INFO     number of tests today: 0\n",
      "iteration.greedy: INFO     True  : (S,I,R): (890.0, 14.0, 0.0)\n",
      "iteration.greedy: INFO     AUR_I : 0.622, prec100: 4, prec(1% of 905): 0.00, prec5%: 0.02\n",
      "iteration.greedy: INFO     sym: 0, results test algo (S,I,R): (0,0,0), infected test random: 0/0\n",
      "iteration.greedy: INFO     ...quarantining 0 guys -> got 0 infected, 14 free as birds (+2)\n"
     ]
    },
    {
     "name": "stdout",
     "output_type": "stream",
     "text": [
      "All raw contacts 2584\n",
      "Contacts at midnight  116\n",
      "Contacts collected by coarse-graining  52\n",
      "Contacts in multiple days  0\n",
      "Coarse-grained contacts  2648\n",
      "Missing contacts  0\n",
      "Asymmetric contacts  0\n",
      "all contacts: 11630\n",
      "all contacts cut: 0\n",
      "t: 144.00 | 1200.00 hrs (50 d)"
     ]
    },
    {
     "name": "stderr",
     "output_type": "stream",
     "text": [
      "iteration.greedy: INFO     \n",
      "observation-based inference algorithm starts now\n",
      "\n",
      "iteration.greedy: INFO     time:5\n"
     ]
    },
    {
     "name": "stdout",
     "output_type": "stream",
     "text": [
      "\n",
      "[Reached max time: 144h (6d)]\n"
     ]
    },
    {
     "name": "stderr",
     "output_type": "stream",
     "text": [
      "iteration.greedy: INFO     adding contacts in the interval [120, 144]\n",
      "iteration.greedy: INFO     number of unique contacts: 2498\n"
     ]
    },
    {
     "name": "stdout",
     "output_type": "stream",
     "text": [
      "All raw contacts 2538\n",
      "Contacts at midnight  206\n",
      "Contacts collected by coarse-graining  40\n",
      "Contacts in multiple days  0\n",
      "Coarse-grained contacts  2704\n",
      "Missing contacts  0\n",
      "Asymmetric contacts  0\n"
     ]
    },
    {
     "name": "stderr",
     "output_type": "stream",
     "text": [
      "iteration.greedy: INFO     number of tests today: 20\n",
      "iteration.greedy: INFO     True  : (S,I,R): (887.0, 17.0, 0.0)\n",
      "iteration.greedy: INFO     AUR_I : 0.567, prec100: 4, prec(1% of 905): 0.00, prec5%: 0.02\n",
      "iteration.greedy: INFO     sym: 0, results test algo (S,I,R): (20,0,0), infected test random: 0/0\n",
      "iteration.greedy: INFO     ...quarantining 0 guys -> got 0 infected, 17 free as birds (+3)\n"
     ]
    },
    {
     "name": "stdout",
     "output_type": "stream",
     "text": [
      "all contacts: 14128\n",
      "all contacts cut: 0\n",
      "t: 168.00 | 1200.00 hrs (50 d)"
     ]
    },
    {
     "name": "stderr",
     "output_type": "stream",
     "text": [
      "iteration.greedy: INFO     time:6\n"
     ]
    },
    {
     "name": "stdout",
     "output_type": "stream",
     "text": [
      "\n",
      "[Reached max time: 168h (7d)]\n"
     ]
    },
    {
     "name": "stderr",
     "output_type": "stream",
     "text": [
      "iteration.greedy: INFO     adding contacts in the interval [144, 168]\n",
      "iteration.greedy: INFO     number of unique contacts: 2550\n"
     ]
    },
    {
     "name": "stdout",
     "output_type": "stream",
     "text": [
      "All raw contacts 2632\n",
      "Contacts at midnight  206\n",
      "Contacts collected by coarse-graining  82\n",
      "Contacts in multiple days  0\n",
      "Coarse-grained contacts  2756\n",
      "Missing contacts  0\n",
      "Asymmetric contacts  0\n"
     ]
    },
    {
     "name": "stderr",
     "output_type": "stream",
     "text": [
      "iteration.greedy: INFO     number of tests today: 20\n"
     ]
    },
    {
     "name": "stdout",
     "output_type": "stream",
     "text": [
      "all contacts: 16678\n",
      "all contacts cut: 0\n"
     ]
    },
    {
     "name": "stderr",
     "output_type": "stream",
     "text": [
      "iteration.greedy: INFO     True  : (S,I,R): (887.0, 17.0, 0.0)\n",
      "iteration.greedy: INFO     AUR_I : 0.586, prec100: 4, prec(1% of 905): 0.00, prec5%: 0.02\n",
      "iteration.greedy: INFO     sym: 0, results test algo (S,I,R): (20,0,0), infected test random: 0/0\n",
      "iteration.greedy: INFO     ...quarantining 0 guys -> got 0 infected, 17 free as birds (+0)\n"
     ]
    },
    {
     "name": "stdout",
     "output_type": "stream",
     "text": [
      "t: 192.00 | 1200.00 hrs (50 d)"
     ]
    },
    {
     "name": "stderr",
     "output_type": "stream",
     "text": [
      "iteration.greedy: INFO     time:7\n"
     ]
    },
    {
     "name": "stdout",
     "output_type": "stream",
     "text": [
      "\n",
      "[Reached max time: 192h (8d)]\n"
     ]
    },
    {
     "name": "stderr",
     "output_type": "stream",
     "text": [
      "iteration.greedy: INFO     adding contacts in the interval [168, 192]\n",
      "iteration.greedy: INFO     number of unique contacts: 2780\n"
     ]
    },
    {
     "name": "stdout",
     "output_type": "stream",
     "text": [
      "All raw contacts 2848\n",
      "Contacts at midnight  142\n",
      "Contacts collected by coarse-graining  68\n",
      "Contacts in multiple days  0\n",
      "Coarse-grained contacts  2922\n",
      "Missing contacts  0\n",
      "Asymmetric contacts  0\n",
      "all contacts: 19458\n",
      "all contacts cut: 0\n"
     ]
    },
    {
     "name": "stderr",
     "output_type": "stream",
     "text": [
      "iteration.greedy: INFO     number of tests today: 20\n",
      "iteration.greedy: INFO     True  : (S,I,R): (886.0, 18.0, 0.0)\n",
      "iteration.greedy: INFO     AUR_I : 0.558, prec100: 4, prec(1% of 905): 0.00, prec5%: 0.02\n",
      "iteration.greedy: INFO     sym: 0, results test algo (S,I,R): (20,0,0), infected test random: 0/0\n",
      "iteration.greedy: INFO     ...quarantining 0 guys -> got 0 infected, 18 free as birds (+1)\n"
     ]
    },
    {
     "name": "stdout",
     "output_type": "stream",
     "text": [
      "t: 216.00 | 1200.00 hrs (50 d)"
     ]
    },
    {
     "name": "stderr",
     "output_type": "stream",
     "text": [
      "iteration.greedy: INFO     time:8\n"
     ]
    },
    {
     "name": "stdout",
     "output_type": "stream",
     "text": [
      "\n",
      "[Reached max time: 216h (9d)]\n"
     ]
    },
    {
     "name": "stderr",
     "output_type": "stream",
     "text": [
      "iteration.greedy: INFO     adding contacts in the interval [192, 216]\n",
      "iteration.greedy: INFO     number of unique contacts: 2332\n"
     ]
    },
    {
     "name": "stdout",
     "output_type": "stream",
     "text": [
      "All raw contacts 2374\n",
      "Contacts at midnight  188\n",
      "Contacts collected by coarse-graining  42\n",
      "Contacts in multiple days  0\n",
      "Coarse-grained contacts  2520\n",
      "Missing contacts  0\n",
      "Asymmetric contacts  0\n",
      "all contacts: 21790\n",
      "all contacts cut: 0\n"
     ]
    },
    {
     "name": "stderr",
     "output_type": "stream",
     "text": [
      "iteration.greedy: INFO     number of tests today: 20\n",
      "iteration.greedy: INFO     True  : (S,I,R): (885.0, 19.0, 0.0)\n",
      "iteration.greedy: INFO     AUR_I : 0.548, prec100: 4, prec(1% of 905): 0.00, prec5%: 0.02\n",
      "iteration.greedy: INFO     sym: 0, results test algo (S,I,R): (20,0,0), infected test random: 0/0\n",
      "iteration.greedy: INFO     ...quarantining 0 guys -> got 0 infected, 19 free as birds (+1)\n"
     ]
    },
    {
     "name": "stdout",
     "output_type": "stream",
     "text": [
      "t: 240.00 | 1200.00 hrs (50 d)"
     ]
    },
    {
     "name": "stderr",
     "output_type": "stream",
     "text": [
      "iteration.greedy: INFO     time:9\n"
     ]
    },
    {
     "name": "stdout",
     "output_type": "stream",
     "text": [
      "\n",
      "[Reached max time: 240h (10d)]\n"
     ]
    },
    {
     "name": "stderr",
     "output_type": "stream",
     "text": [
      "iteration.greedy: INFO     adding contacts in the interval [216, 240]\n",
      "iteration.greedy: INFO     number of unique contacts: 2488\n"
     ]
    },
    {
     "name": "stdout",
     "output_type": "stream",
     "text": [
      "All raw contacts 2540\n",
      "Contacts at midnight  138\n",
      "Contacts collected by coarse-graining  52\n",
      "Contacts in multiple days  0\n",
      "Coarse-grained contacts  2626\n",
      "Missing contacts  0\n",
      "Asymmetric contacts  0\n",
      "all contacts: 24278\n",
      "all contacts cut: 0\n"
     ]
    },
    {
     "name": "stderr",
     "output_type": "stream",
     "text": [
      "iteration.greedy: INFO     number of tests today: 20\n",
      "iteration.greedy: INFO     True  : (S,I,R): (883.0, 21.0, 0.0)\n",
      "iteration.greedy: INFO     AUR_I : 0.552, prec100: 4, prec(1% of 905): 0.00, prec5%: 0.02\n",
      "iteration.greedy: INFO     sym: 0, results test algo (S,I,R): (20,0,0), infected test random: 0/0\n",
      "iteration.greedy: INFO     ...quarantining 0 guys -> got 0 infected, 21 free as birds (+2)\n"
     ]
    },
    {
     "name": "stdout",
     "output_type": "stream",
     "text": [
      "t: 264.00 | 1200.00 hrs (50 d)"
     ]
    },
    {
     "name": "stderr",
     "output_type": "stream",
     "text": [
      "iteration.greedy: INFO     time:10\n"
     ]
    },
    {
     "name": "stdout",
     "output_type": "stream",
     "text": [
      "\n",
      "[Reached max time: 264h (11d)]\n"
     ]
    },
    {
     "name": "stderr",
     "output_type": "stream",
     "text": [
      "iteration.greedy: INFO     adding contacts in the interval [240, 264]\n",
      "iteration.greedy: INFO     number of unique contacts: 1968\n"
     ]
    },
    {
     "name": "stdout",
     "output_type": "stream",
     "text": [
      "All raw contacts 2010\n",
      "Contacts at midnight  118\n",
      "Contacts collected by coarse-graining  42\n",
      "Contacts in multiple days  0\n",
      "Coarse-grained contacts  2086\n",
      "Missing contacts  0\n",
      "Asymmetric contacts  0\n"
     ]
    },
    {
     "name": "stderr",
     "output_type": "stream",
     "text": [
      "iteration.greedy: INFO     number of tests today: 20\n",
      "iteration.greedy: INFO     True  : (S,I,R): (882.0, 22.0, 0.0)\n",
      "iteration.greedy: INFO     AUR_I : 0.531, prec100: 4, prec(1% of 905): 0.00, prec5%: 0.02\n",
      "iteration.greedy: INFO     sym: 0, results test algo (S,I,R): (20,0,0), infected test random: 0/0\n",
      "iteration.greedy: INFO     ...quarantining 0 guys -> got 0 infected, 22 free as birds (+1)\n"
     ]
    },
    {
     "name": "stdout",
     "output_type": "stream",
     "text": [
      "all contacts: 26246\n",
      "all contacts cut: 0\n",
      "t: 288.00 | 1200.00 hrs (50 d)"
     ]
    },
    {
     "name": "stderr",
     "output_type": "stream",
     "text": [
      "iteration.greedy: INFO     time:11\n"
     ]
    },
    {
     "name": "stdout",
     "output_type": "stream",
     "text": [
      "\n",
      "[Reached max time: 288h (12d)]\n",
      "All raw contacts 2356\n",
      "Contacts at midnight  150\n",
      "Contacts collected by coarse-graining  58\n",
      "Contacts in multiple days  0\n",
      "Coarse-grained contacts  2448\n",
      "Missing contacts  0\n",
      "Asymmetric contacts  0\n"
     ]
    },
    {
     "name": "stderr",
     "output_type": "stream",
     "text": [
      "iteration.greedy: INFO     adding contacts in the interval [264, 288]\n",
      "iteration.greedy: INFO     number of unique contacts: 2298\n",
      "iteration.greedy: INFO     number of tests today: 20\n",
      "iteration.greedy: INFO     True  : (S,I,R): (881.0, 23.0, 0.0)\n",
      "iteration.greedy: INFO     AUR_I : 0.501, prec100: 2, prec(1% of 903): 0.00, prec5%: 0.02\n",
      "iteration.greedy: INFO     sym: 0, results test algo (S,I,R): (19,1,0), infected test random: 0/0\n",
      "iteration.greedy: INFO     ...quarantining 1 guys -> got 1 infected, 21 free as birds (-1)\n"
     ]
    },
    {
     "name": "stdout",
     "output_type": "stream",
     "text": [
      "all contacts: 2298\n",
      "all contacts cut: 0\n",
      "t: 312.00 | 1200.00 hrs (50 d)"
     ]
    },
    {
     "name": "stderr",
     "output_type": "stream",
     "text": [
      "iteration.greedy: INFO     time:12\n"
     ]
    },
    {
     "name": "stdout",
     "output_type": "stream",
     "text": [
      "\n",
      "[Reached max time: 312h (13d)]\n",
      "All raw contacts 2566\n",
      "Contacts at midnight  126\n",
      "Contacts collected by coarse-graining  44\n",
      "Contacts in multiple days  0\n",
      "Coarse-grained contacts  2648\n",
      "Missing contacts  0\n",
      "Asymmetric contacts  0\n"
     ]
    },
    {
     "name": "stderr",
     "output_type": "stream",
     "text": [
      "iteration.greedy: INFO     adding contacts in the interval [288, 312]\n",
      "iteration.greedy: INFO     number of unique contacts: 2520\n",
      "iteration.greedy: INFO     number of tests today: 20\n",
      "iteration.greedy: INFO     True  : (S,I,R): (881.0, 21.0, 2.0)\n",
      "iteration.greedy: INFO     AUR_I : 0.540, prec100: 3, prec(1% of 896): 0.00, prec5%: 0.02\n",
      "iteration.greedy: INFO     sym: 0, results test algo (S,I,R): (18,2,0), infected test random: 0/0\n",
      "iteration.greedy: INFO     ...quarantining 7 guys -> got 7 infected, 12 free as birds (-9)\n"
     ]
    },
    {
     "name": "stdout",
     "output_type": "stream",
     "text": [
      "all contacts: 4818\n",
      "all contacts cut: 8\n",
      "t: 336.00 | 1200.00 hrs (50 d)"
     ]
    },
    {
     "name": "stderr",
     "output_type": "stream",
     "text": [
      "iteration.greedy: INFO     time:13\n"
     ]
    },
    {
     "name": "stdout",
     "output_type": "stream",
     "text": [
      "\n",
      "[Reached max time: 336h (14d)]\n"
     ]
    },
    {
     "name": "stderr",
     "output_type": "stream",
     "text": [
      "iteration.greedy: INFO     adding contacts in the interval [312, 336]\n",
      "iteration.greedy: INFO     number of unique contacts: 2294\n",
      "iteration.greedy: INFO     number of tests today: 20\n"
     ]
    },
    {
     "name": "stdout",
     "output_type": "stream",
     "text": [
      "All raw contacts 2382\n",
      "Contacts at midnight  144\n",
      "Contacts collected by coarse-graining  84\n",
      "Contacts in multiple days  0\n",
      "Coarse-grained contacts  2442\n",
      "Missing contacts  0\n",
      "Asymmetric contacts  0\n",
      "all contacts: 7112\n",
      "all contacts cut: 41\n"
     ]
    },
    {
     "name": "stderr",
     "output_type": "stream",
     "text": [
      "iteration.greedy: INFO     True  : (S,I,R): (880.0, 20.0, 4.0)\n",
      "iteration.greedy: INFO     AUR_I : 0.540, prec100: 2, prec(1% of 896): 0.00, prec5%: 0.00\n",
      "iteration.greedy: INFO     sym: 0, results test algo (S,I,R): (20,0,0), infected test random: 0/0\n",
      "iteration.greedy: INFO     ...quarantining 0 guys -> got 0 infected, 11 free as birds (-1)\n"
     ]
    },
    {
     "name": "stdout",
     "output_type": "stream",
     "text": [
      "t: 360.00 | 1200.00 hrs (50 d)"
     ]
    },
    {
     "name": "stderr",
     "output_type": "stream",
     "text": [
      "iteration.greedy: INFO     time:14\n"
     ]
    },
    {
     "name": "stdout",
     "output_type": "stream",
     "text": [
      "\n",
      "[Reached max time: 360h (15d)]\n",
      "All raw contacts 2992\n"
     ]
    },
    {
     "name": "stderr",
     "output_type": "stream",
     "text": [
      "iteration.greedy: INFO     adding contacts in the interval [336, 360]\n",
      "iteration.greedy: INFO     number of unique contacts: 2874\n"
     ]
    },
    {
     "name": "stdout",
     "output_type": "stream",
     "text": [
      "Contacts at midnight  156\n",
      "Contacts collected by coarse-graining  70\n",
      "Contacts in multiple days  0\n",
      "Coarse-grained contacts  3078\n",
      "Missing contacts  0\n",
      "Asymmetric contacts  0\n",
      "all contacts: 9986\n",
      "all contacts cut: 41\n"
     ]
    },
    {
     "name": "stderr",
     "output_type": "stream",
     "text": [
      "iteration.greedy: INFO     number of tests today: 20\n",
      "iteration.greedy: INFO     True  : (S,I,R): (878.0, 19.0, 7.0)\n",
      "iteration.greedy: INFO     AUR_I : 0.459, prec100: 2, prec(1% of 896): 0.00, prec5%: 0.00\n",
      "iteration.greedy: INFO     sym: 0, results test algo (S,I,R): (20,0,0), infected test random: 0/0\n",
      "iteration.greedy: INFO     ...quarantining 0 guys -> got 0 infected, 10 free as birds (-1)\n"
     ]
    },
    {
     "name": "stdout",
     "output_type": "stream",
     "text": [
      "t: 384.00 | 1200.00 hrs (50 d)"
     ]
    },
    {
     "name": "stderr",
     "output_type": "stream",
     "text": [
      "iteration.greedy: INFO     time:15\n"
     ]
    },
    {
     "name": "stdout",
     "output_type": "stream",
     "text": [
      "\n",
      "[Reached max time: 384h (16d)]\n"
     ]
    },
    {
     "name": "stderr",
     "output_type": "stream",
     "text": [
      "iteration.greedy: INFO     adding contacts in the interval [360, 384]\n",
      "iteration.greedy: INFO     number of unique contacts: 2164\n",
      "iteration.greedy: INFO     number of tests today: 20\n"
     ]
    },
    {
     "name": "stdout",
     "output_type": "stream",
     "text": [
      "All raw contacts 2272\n",
      "Contacts at midnight  116\n",
      "Contacts collected by coarse-graining  50\n",
      "Contacts in multiple days  0\n",
      "Coarse-grained contacts  2338\n",
      "Missing contacts  0\n",
      "Asymmetric contacts  0\n",
      "all contacts: 12150\n",
      "all contacts cut: 41\n"
     ]
    },
    {
     "name": "stderr",
     "output_type": "stream",
     "text": [
      "iteration.greedy: INFO     True  : (S,I,R): (876.0, 20.0, 8.0)\n",
      "iteration.greedy: INFO     AUR_I : 0.375, prec100: 1, prec(1% of 894): 0.00, prec5%: 0.00\n",
      "iteration.greedy: INFO     sym: 0, results test algo (S,I,R): (19,1,0), infected test random: 0/0\n",
      "iteration.greedy: INFO     ...quarantining 2 guys -> got 2 infected, 9 free as birds (-1)\n"
     ]
    },
    {
     "name": "stdout",
     "output_type": "stream",
     "text": [
      "t: 408.00 | 1200.00 hrs (50 d)"
     ]
    },
    {
     "name": "stderr",
     "output_type": "stream",
     "text": [
      "iteration.greedy: INFO     time:16\n"
     ]
    },
    {
     "name": "stdout",
     "output_type": "stream",
     "text": [
      "\n",
      "[Reached max time: 408h (17d)]\n"
     ]
    },
    {
     "name": "stderr",
     "output_type": "stream",
     "text": [
      "iteration.greedy: INFO     adding contacts in the interval [384, 408]\n",
      "iteration.greedy: INFO     number of unique contacts: 2252\n"
     ]
    },
    {
     "name": "stdout",
     "output_type": "stream",
     "text": [
      "All raw contacts 2370\n",
      "Contacts at midnight  142\n",
      "Contacts collected by coarse-graining  36\n",
      "Contacts in multiple days  0\n",
      "Coarse-grained contacts  2476\n",
      "Missing contacts  0\n",
      "Asymmetric contacts  0\n"
     ]
    },
    {
     "name": "stderr",
     "output_type": "stream",
     "text": [
      "iteration.greedy: INFO     number of tests today: 20\n",
      "iteration.greedy: INFO     True  : (S,I,R): (876.0, 20.0, 8.0)\n",
      "iteration.greedy: INFO     AUR_I : 0.342, prec100: 1, prec(1% of 889): 0.00, prec5%: 0.00\n",
      "iteration.greedy: INFO     sym: 0, results test algo (S,I,R): (17,2,1), infected test random: 0/0\n",
      "iteration.greedy: INFO     ...quarantining 5 guys -> got 4 infected, 5 free as birds (-4)\n"
     ]
    },
    {
     "name": "stdout",
     "output_type": "stream",
     "text": [
      "all contacts: 14402\n",
      "all contacts cut: 80\n",
      "t: 432.00 | 1200.00 hrs (50 d)"
     ]
    },
    {
     "name": "stderr",
     "output_type": "stream",
     "text": [
      "iteration.greedy: INFO     time:17\n"
     ]
    },
    {
     "name": "stdout",
     "output_type": "stream",
     "text": [
      "\n",
      "[Reached max time: 432h (18d)]\n"
     ]
    },
    {
     "name": "stderr",
     "output_type": "stream",
     "text": [
      "iteration.greedy: INFO     adding contacts in the interval [408, 432]\n",
      "iteration.greedy: INFO     number of unique contacts: 2444\n",
      "iteration.greedy: INFO     number of tests today: 20\n",
      "iteration.greedy: INFO     True  : (S,I,R): (876.0, 19.0, 9.0)\n",
      "iteration.greedy: INFO     AUR_I : 0.485, prec100: 2, prec(1% of 888): 0.12, prec5%: 0.02\n",
      "iteration.greedy: INFO     sym: 0, results test algo (S,I,R): (19,1,0), infected test random: 0/0\n",
      "iteration.greedy: INFO     ...quarantining 0 guys -> got 0 infected, 5 free as birds (+0)\n"
     ]
    },
    {
     "name": "stdout",
     "output_type": "stream",
     "text": [
      "All raw contacts 2572\n",
      "Contacts at midnight  150\n",
      "Contacts collected by coarse-graining  72\n",
      "Contacts in multiple days  0\n",
      "Coarse-grained contacts  2650\n",
      "Missing contacts  0\n",
      "Asymmetric contacts  0\n",
      "all contacts: 16846\n",
      "all contacts cut: 105\n",
      "t: 456.00 | 1200.00 hrs (50 d)"
     ]
    },
    {
     "name": "stderr",
     "output_type": "stream",
     "text": [
      "iteration.greedy: INFO     time:18\n"
     ]
    },
    {
     "name": "stdout",
     "output_type": "stream",
     "text": [
      "\n",
      "[Reached max time: 456h (19d)]\n"
     ]
    },
    {
     "name": "stderr",
     "output_type": "stream",
     "text": [
      "iteration.greedy: INFO     adding contacts in the interval [432, 456]\n",
      "iteration.greedy: INFO     number of unique contacts: 2514\n"
     ]
    },
    {
     "name": "stdout",
     "output_type": "stream",
     "text": [
      "All raw contacts 2684\n",
      "Contacts at midnight  160\n",
      "Contacts collected by coarse-graining  74\n",
      "Contacts in multiple days  0\n",
      "Coarse-grained contacts  2770\n",
      "Missing contacts  0\n",
      "Asymmetric contacts  0\n",
      "all contacts: 19360\n",
      "all contacts cut: 105\n"
     ]
    },
    {
     "name": "stderr",
     "output_type": "stream",
     "text": [
      "iteration.greedy: INFO     number of tests today: 20\n",
      "iteration.greedy: INFO     True  : (S,I,R): (875.0, 19.0, 10.0)\n",
      "iteration.greedy: INFO     AUR_I : 0.206, prec100: 0, prec(1% of 888): 0.00, prec5%: 0.00\n",
      "iteration.greedy: INFO     sym: 0, results test algo (S,I,R): (20,0,0), infected test random: 0/0\n",
      "iteration.greedy: INFO     ...quarantining 0 guys -> got 0 infected, 5 free as birds (+0)\n"
     ]
    },
    {
     "name": "stdout",
     "output_type": "stream",
     "text": [
      "t: 480.00 | 1200.00 hrs (50 d)"
     ]
    },
    {
     "name": "stderr",
     "output_type": "stream",
     "text": [
      "iteration.greedy: INFO     time:19\n"
     ]
    },
    {
     "name": "stdout",
     "output_type": "stream",
     "text": [
      "\n",
      "[Reached max time: 480h (20d)]\n"
     ]
    },
    {
     "name": "stderr",
     "output_type": "stream",
     "text": [
      "iteration.greedy: INFO     adding contacts in the interval [456, 480]\n",
      "iteration.greedy: INFO     number of unique contacts: 2076\n"
     ]
    },
    {
     "name": "stdout",
     "output_type": "stream",
     "text": [
      "All raw contacts 2194\n",
      "Contacts at midnight  148\n",
      "Contacts collected by coarse-graining  50\n",
      "Contacts in multiple days  0\n",
      "Coarse-grained contacts  2292\n",
      "Missing contacts  0\n",
      "Asymmetric contacts  0\n",
      "all contacts: 21436\n",
      "all contacts cut: 105\n"
     ]
    },
    {
     "name": "stderr",
     "output_type": "stream",
     "text": [
      "iteration.greedy: INFO     number of tests today: 20\n",
      "iteration.greedy: INFO     True  : (S,I,R): (875.0, 19.0, 10.0)\n",
      "iteration.greedy: INFO     AUR_I : 0.204, prec100: 0, prec(1% of 888): 0.00, prec5%: 0.00\n",
      "iteration.greedy: INFO     sym: 0, results test algo (S,I,R): (20,0,0), infected test random: 0/0\n",
      "iteration.greedy: INFO     ...quarantining 0 guys -> got 0 infected, 5 free as birds (+0)\n"
     ]
    },
    {
     "name": "stdout",
     "output_type": "stream",
     "text": [
      "t: 504.00 | 1200.00 hrs (50 d)"
     ]
    },
    {
     "name": "stderr",
     "output_type": "stream",
     "text": [
      "iteration.greedy: INFO     time:20\n"
     ]
    },
    {
     "name": "stdout",
     "output_type": "stream",
     "text": [
      "\n",
      "[Reached max time: 504h (21d)]\n"
     ]
    },
    {
     "name": "stderr",
     "output_type": "stream",
     "text": [
      "iteration.greedy: INFO     adding contacts in the interval [480, 504]\n",
      "iteration.greedy: INFO     number of unique contacts: 2582\n"
     ]
    },
    {
     "name": "stdout",
     "output_type": "stream",
     "text": [
      "All raw contacts 2726\n",
      "Contacts at midnight  104\n",
      "Contacts collected by coarse-graining  60\n",
      "Contacts in multiple days  0\n",
      "Coarse-grained contacts  2770\n",
      "Missing contacts  0\n",
      "Asymmetric contacts  0\n",
      "all contacts: 24018\n",
      "all contacts cut: 105\n"
     ]
    },
    {
     "name": "stderr",
     "output_type": "stream",
     "text": [
      "iteration.greedy: INFO     number of tests today: 20\n",
      "iteration.greedy: INFO     True  : (S,I,R): (874.0, 19.0, 11.0)\n",
      "iteration.greedy: INFO     AUR_I : 0.204, prec100: 0, prec(1% of 888): 0.00, prec5%: 0.00\n",
      "iteration.greedy: INFO     sym: 0, results test algo (S,I,R): (20,0,0), infected test random: 0/0\n",
      "iteration.greedy: INFO     ...quarantining 0 guys -> got 0 infected, 5 free as birds (+0)\n"
     ]
    },
    {
     "name": "stdout",
     "output_type": "stream",
     "text": [
      "t: 528.00 | 1200.00 hrs (50 d)"
     ]
    },
    {
     "name": "stderr",
     "output_type": "stream",
     "text": [
      "iteration.greedy: INFO     time:21\n",
      "iteration.greedy: INFO     adding contacts in the interval [504, 528]\n"
     ]
    },
    {
     "name": "stdout",
     "output_type": "stream",
     "text": [
      "\n",
      "[Reached max time: 528h (22d)]\n",
      "All raw contacts 2646\n",
      "Contacts at midnight  158\n",
      "Contacts collected by coarse-graining  92\n",
      "Contacts in multiple days  0\n",
      "Coarse-grained contacts  2712\n",
      "Missing contacts  0\n",
      "Asymmetric contacts  0\n"
     ]
    },
    {
     "name": "stderr",
     "output_type": "stream",
     "text": [
      "iteration.greedy: INFO     number of unique contacts: 2500\n",
      "iteration.greedy: INFO     number of tests today: 20\n",
      "iteration.greedy: INFO     True  : (S,I,R): (874.0, 15.0, 15.0)\n",
      "iteration.greedy: INFO     AUR_I : 0.204, prec100: 0, prec(1% of 888): 0.00, prec5%: 0.00\n",
      "iteration.greedy: INFO     sym: 0, results test algo (S,I,R): (20,0,0), infected test random: 0/0\n",
      "iteration.greedy: INFO     ...quarantining 0 guys -> got 0 infected, 5 free as birds (+0)\n"
     ]
    },
    {
     "name": "stdout",
     "output_type": "stream",
     "text": [
      "all contacts: 26518\n",
      "all contacts cut: 105\n",
      "t: 552.00 | 1200.00 hrs (50 d)"
     ]
    },
    {
     "name": "stderr",
     "output_type": "stream",
     "text": [
      "iteration.greedy: INFO     time:22\n",
      "iteration.greedy: INFO     adding contacts in the interval [528, 552]\n",
      "iteration.greedy: INFO     number of unique contacts: 2352\n"
     ]
    },
    {
     "name": "stdout",
     "output_type": "stream",
     "text": [
      "\n",
      "[Reached max time: 552h (23d)]\n",
      "All raw contacts 2530\n",
      "Contacts at midnight  168\n",
      "Contacts collected by coarse-graining  70\n",
      "Contacts in multiple days  0\n",
      "Coarse-grained contacts  2628\n",
      "Missing contacts  0\n",
      "Asymmetric contacts  0\n",
      "all contacts: 2352\n"
     ]
    },
    {
     "name": "stderr",
     "output_type": "stream",
     "text": [
      "iteration.greedy: INFO     number of tests today: 20\n",
      "iteration.greedy: INFO     True  : (S,I,R): (874.0, 14.0, 16.0)\n",
      "iteration.greedy: INFO     AUR_I : 0.364, prec100: 0, prec(1% of 888): 0.00, prec5%: 0.00\n",
      "iteration.greedy: INFO     sym: 0, results test algo (S,I,R): (20,0,0), infected test random: 0/0\n",
      "iteration.greedy: INFO     ...quarantining 0 guys -> got 0 infected, 4 free as birds (-1)\n"
     ]
    },
    {
     "name": "stdout",
     "output_type": "stream",
     "text": [
      "all contacts cut: 0\n",
      "t: 576.00 | 1200.00 hrs (50 d)"
     ]
    },
    {
     "name": "stderr",
     "output_type": "stream",
     "text": [
      "iteration.greedy: INFO     time:23\n",
      "iteration.greedy: INFO     adding contacts in the interval [552, 576]\n",
      "iteration.greedy: INFO     number of unique contacts: 2374\n"
     ]
    },
    {
     "name": "stdout",
     "output_type": "stream",
     "text": [
      "\n",
      "[Reached max time: 576h (24d)]\n",
      "All raw contacts 2572\n",
      "Contacts at midnight  122\n",
      "Contacts collected by coarse-graining  62\n",
      "Contacts in multiple days  0\n",
      "Coarse-grained contacts  2632\n",
      "Missing contacts  0\n",
      "Asymmetric contacts  0\n"
     ]
    },
    {
     "name": "stderr",
     "output_type": "stream",
     "text": [
      "iteration.greedy: INFO     number of tests today: 20\n",
      "iteration.greedy: INFO     True  : (S,I,R): (874.0, 14.0, 16.0)\n",
      "iteration.greedy: INFO     AUR_I : 0.299, prec100: 0, prec(1% of 888): 0.00, prec5%: 0.00\n",
      "iteration.greedy: INFO     sym: 0, results test algo (S,I,R): (20,0,0), infected test random: 0/0\n",
      "iteration.greedy: INFO     ...quarantining 0 guys -> got 0 infected, 4 free as birds (+0)\n"
     ]
    },
    {
     "name": "stdout",
     "output_type": "stream",
     "text": [
      "all contacts: 4726\n",
      "all contacts cut: 0\n",
      "t: 600.00 | 1200.00 hrs (50 d)"
     ]
    },
    {
     "name": "stderr",
     "output_type": "stream",
     "text": [
      "iteration.greedy: INFO     time:24\n",
      "iteration.greedy: INFO     adding contacts in the interval [576, 600]\n",
      "iteration.greedy: INFO     number of unique contacts: 2370\n"
     ]
    },
    {
     "name": "stdout",
     "output_type": "stream",
     "text": [
      "\n",
      "[Reached max time: 600h (25d)]\n",
      "All raw contacts 2476\n",
      "Contacts at midnight  120\n",
      "Contacts collected by coarse-graining  42\n",
      "Contacts in multiple days  0\n",
      "Coarse-grained contacts  2554\n",
      "Missing contacts  0\n",
      "Asymmetric contacts  0\n",
      "all contacts: 7096\n",
      "all contacts cut: 0\n"
     ]
    },
    {
     "name": "stderr",
     "output_type": "stream",
     "text": [
      "iteration.greedy: INFO     number of tests today: 20\n",
      "iteration.greedy: INFO     True  : (S,I,R): (874.0, 12.0, 18.0)\n",
      "iteration.greedy: INFO     AUR_I : 0.206, prec100: 0, prec(1% of 888): 0.00, prec5%: 0.00\n",
      "iteration.greedy: INFO     sym: 0, results test algo (S,I,R): (20,0,0), infected test random: 0/0\n",
      "iteration.greedy: INFO     ...quarantining 0 guys -> got 0 infected, 4 free as birds (+0)\n"
     ]
    },
    {
     "name": "stdout",
     "output_type": "stream",
     "text": [
      "t: 624.00 | 1200.00 hrs (50 d)"
     ]
    },
    {
     "name": "stderr",
     "output_type": "stream",
     "text": [
      "iteration.greedy: INFO     time:25\n",
      "iteration.greedy: INFO     adding contacts in the interval [600, 624]\n",
      "iteration.greedy: INFO     number of unique contacts: 2662\n",
      "iteration.greedy: INFO     number of tests today: 20\n",
      "iteration.greedy: INFO     True  : (S,I,R): (874.0, 12.0, 18.0)\n",
      "iteration.greedy: INFO     AUR_I : 0.177, prec100: 0, prec(1% of 888): 0.00, prec5%: 0.00\n",
      "iteration.greedy: INFO     sym: 0, results test algo (S,I,R): (20,0,0), infected test random: 0/0\n",
      "iteration.greedy: INFO     ...quarantining 0 guys -> got 0 infected, 4 free as birds (+0)\n"
     ]
    },
    {
     "name": "stdout",
     "output_type": "stream",
     "text": [
      "\n",
      "[Reached max time: 624h (26d)]\n",
      "All raw contacts 2758\n",
      "Contacts at midnight  144\n",
      "Contacts collected by coarse-graining  46\n",
      "Contacts in multiple days  0\n",
      "Coarse-grained contacts  2856\n",
      "Missing contacts  0\n",
      "Asymmetric contacts  0\n",
      "all contacts: 9758\n",
      "all contacts cut: 0\n",
      "t: 648.00 | 1200.00 hrs (50 d)"
     ]
    },
    {
     "name": "stderr",
     "output_type": "stream",
     "text": [
      "iteration.greedy: INFO     time:26\n",
      "iteration.greedy: INFO     adding contacts in the interval [624, 648]\n",
      "iteration.greedy: INFO     number of unique contacts: 2322\n",
      "iteration.greedy: INFO     number of tests today: 20\n",
      "iteration.greedy: INFO     True  : (S,I,R): (874.0, 9.0, 21.0)\n",
      "iteration.greedy: INFO     AUR_I : 0.232, prec100: 0, prec(1% of 888): 0.00, prec5%: 0.00\n",
      "iteration.greedy: INFO     sym: 0, results test algo (S,I,R): (20,0,0), infected test random: 0/0\n",
      "iteration.greedy: INFO     ...quarantining 0 guys -> got 0 infected, 4 free as birds (+0)\n"
     ]
    },
    {
     "name": "stdout",
     "output_type": "stream",
     "text": [
      "\n",
      "[Reached max time: 648h (27d)]\n",
      "All raw contacts 2404\n",
      "Contacts at midnight  212\n",
      "Contacts collected by coarse-graining  24\n",
      "Contacts in multiple days  0\n",
      "Coarse-grained contacts  2592\n",
      "Missing contacts  0\n",
      "Asymmetric contacts  0\n",
      "all contacts: 12080\n",
      "all contacts cut: 0\n",
      "t: 672.00 | 1200.00 hrs (50 d)\n",
      "[Reached max time: 672h (28d)]\n"
     ]
    },
    {
     "name": "stderr",
     "output_type": "stream",
     "text": [
      "iteration.greedy: INFO     time:27\n",
      "iteration.greedy: INFO     adding contacts in the interval [648, 672]\n",
      "iteration.greedy: INFO     number of unique contacts: 2310\n"
     ]
    },
    {
     "name": "stdout",
     "output_type": "stream",
     "text": [
      "All raw contacts 2412\n",
      "Contacts at midnight  204\n",
      "Contacts collected by coarse-graining  52\n",
      "Contacts in multiple days  0\n",
      "Coarse-grained contacts  2564\n",
      "Missing contacts  0\n",
      "Asymmetric contacts  0\n",
      "all contacts: 14390\n",
      "all contacts cut: 0\n"
     ]
    },
    {
     "name": "stderr",
     "output_type": "stream",
     "text": [
      "iteration.greedy: INFO     number of tests today: 20\n",
      "iteration.greedy: INFO     True  : (S,I,R): (874.0, 9.0, 21.0)\n",
      "iteration.greedy: INFO     AUR_I : 0.226, prec100: 0, prec(1% of 888): 0.00, prec5%: 0.00\n",
      "iteration.greedy: INFO     sym: 0, results test algo (S,I,R): (20,0,0), infected test random: 0/0\n",
      "iteration.greedy: INFO     ...quarantining 0 guys -> got 0 infected, 4 free as birds (+0)\n"
     ]
    },
    {
     "name": "stdout",
     "output_type": "stream",
     "text": [
      "t: 696.00 | 1200.00 hrs (50 d)"
     ]
    },
    {
     "name": "stderr",
     "output_type": "stream",
     "text": [
      "iteration.greedy: INFO     time:28\n"
     ]
    },
    {
     "name": "stdout",
     "output_type": "stream",
     "text": [
      "\n",
      "[Reached max time: 696h (29d)]\n"
     ]
    },
    {
     "name": "stderr",
     "output_type": "stream",
     "text": [
      "iteration.greedy: INFO     adding contacts in the interval [672, 696]\n",
      "iteration.greedy: INFO     number of unique contacts: 2466\n"
     ]
    },
    {
     "name": "stdout",
     "output_type": "stream",
     "text": [
      "All raw contacts 2578\n",
      "Contacts at midnight  166\n",
      "Contacts collected by coarse-graining  54\n",
      "Contacts in multiple days  0\n",
      "Coarse-grained contacts  2690\n",
      "Missing contacts  0\n",
      "Asymmetric contacts  0\n",
      "all contacts: 16856\n",
      "all contacts cut: 0\n"
     ]
    },
    {
     "name": "stderr",
     "output_type": "stream",
     "text": [
      "iteration.greedy: INFO     number of tests today: 20\n",
      "iteration.greedy: INFO     True  : (S,I,R): (874.0, 9.0, 21.0)\n",
      "iteration.greedy: INFO     AUR_I : 0.224, prec100: 0, prec(1% of 888): 0.00, prec5%: 0.00\n",
      "iteration.greedy: INFO     sym: 0, results test algo (S,I,R): (20,0,0), infected test random: 0/0\n",
      "iteration.greedy: INFO     ...quarantining 0 guys -> got 0 infected, 4 free as birds (+0)\n"
     ]
    },
    {
     "name": "stdout",
     "output_type": "stream",
     "text": [
      "t: 720.00 | 1200.00 hrs (50 d)"
     ]
    },
    {
     "name": "stderr",
     "output_type": "stream",
     "text": [
      "iteration.greedy: INFO     time:29\n"
     ]
    },
    {
     "name": "stdout",
     "output_type": "stream",
     "text": [
      "\n",
      "[Reached max time: 720h (30d)]\n"
     ]
    },
    {
     "name": "stderr",
     "output_type": "stream",
     "text": [
      "iteration.greedy: INFO     adding contacts in the interval [696, 720]\n",
      "iteration.greedy: INFO     number of unique contacts: 2080\n"
     ]
    },
    {
     "name": "stdout",
     "output_type": "stream",
     "text": [
      "All raw contacts 2230\n",
      "Contacts at midnight  146\n",
      "Contacts collected by coarse-graining  82\n",
      "Contacts in multiple days  0\n",
      "Coarse-grained contacts  2294\n",
      "Missing contacts  0\n",
      "Asymmetric contacts  0\n",
      "all contacts: 18936\n",
      "all contacts cut: 0\n"
     ]
    },
    {
     "name": "stderr",
     "output_type": "stream",
     "text": [
      "iteration.greedy: INFO     number of tests today: 20\n",
      "iteration.greedy: INFO     True  : (S,I,R): (874.0, 9.0, 21.0)\n",
      "iteration.greedy: INFO     AUR_I : 0.222, prec100: 0, prec(1% of 888): 0.00, prec5%: 0.00\n",
      "iteration.greedy: INFO     sym: 0, results test algo (S,I,R): (20,0,0), infected test random: 0/0\n",
      "iteration.greedy: INFO     ...quarantining 0 guys -> got 0 infected, 4 free as birds (+0)\n"
     ]
    },
    {
     "name": "stdout",
     "output_type": "stream",
     "text": [
      "t: 744.00 | 1200.00 hrs (50 d)"
     ]
    },
    {
     "name": "stderr",
     "output_type": "stream",
     "text": [
      "iteration.greedy: INFO     time:30\n"
     ]
    },
    {
     "name": "stdout",
     "output_type": "stream",
     "text": [
      "\n",
      "[Reached max time: 744h (31d)]\n"
     ]
    },
    {
     "name": "stderr",
     "output_type": "stream",
     "text": [
      "iteration.greedy: INFO     adding contacts in the interval [720, 744]\n",
      "iteration.greedy: INFO     number of unique contacts: 2412\n"
     ]
    },
    {
     "name": "stdout",
     "output_type": "stream",
     "text": [
      "All raw contacts 2490\n",
      "Contacts at midnight  136\n",
      "Contacts collected by coarse-graining  32\n",
      "Contacts in multiple days  0\n",
      "Coarse-grained contacts  2594\n",
      "Missing contacts  0\n",
      "Asymmetric contacts  0\n",
      "all contacts: 21348\n",
      "all contacts cut: 0\n"
     ]
    },
    {
     "name": "stderr",
     "output_type": "stream",
     "text": [
      "iteration.greedy: INFO     number of tests today: 20\n",
      "iteration.greedy: INFO     True  : (S,I,R): (874.0, 9.0, 21.0)\n",
      "iteration.greedy: INFO     AUR_I : 0.219, prec100: 0, prec(1% of 888): 0.00, prec5%: 0.00\n",
      "iteration.greedy: INFO     sym: 0, results test algo (S,I,R): (20,0,0), infected test random: 0/0\n",
      "iteration.greedy: INFO     ...quarantining 0 guys -> got 0 infected, 4 free as birds (+0)\n"
     ]
    },
    {
     "name": "stdout",
     "output_type": "stream",
     "text": [
      "t: 768.00 | 1200.00 hrs (50 d)"
     ]
    },
    {
     "name": "stderr",
     "output_type": "stream",
     "text": [
      "iteration.greedy: INFO     time:31\n"
     ]
    },
    {
     "name": "stdout",
     "output_type": "stream",
     "text": [
      "\n",
      "[Reached max time: 768h (32d)]\n"
     ]
    },
    {
     "name": "stderr",
     "output_type": "stream",
     "text": [
      "iteration.greedy: INFO     adding contacts in the interval [744, 768]\n",
      "iteration.greedy: INFO     number of unique contacts: 2294\n"
     ]
    },
    {
     "name": "stdout",
     "output_type": "stream",
     "text": [
      "All raw contacts 2436\n",
      "Contacts at midnight  156\n",
      "Contacts collected by coarse-graining  76\n",
      "Contacts in multiple days  0\n",
      "Coarse-grained contacts  2516\n",
      "Missing contacts  0\n",
      "Asymmetric contacts  0\n",
      "all contacts: 23642\n",
      "all contacts cut: 0\n"
     ]
    },
    {
     "name": "stderr",
     "output_type": "stream",
     "text": [
      "iteration.greedy: INFO     number of tests today: 20\n",
      "iteration.greedy: INFO     True  : (S,I,R): (874.0, 4.0, 26.0)\n",
      "iteration.greedy: INFO     AUR_I : 0.212, prec100: 0, prec(1% of 888): 0.00, prec5%: 0.00\n",
      "iteration.greedy: INFO     sym: 0, results test algo (S,I,R): (20,0,0), infected test random: 0/0\n",
      "iteration.greedy: INFO     ...quarantining 0 guys -> got 0 infected, 3 free as birds (-1)\n"
     ]
    },
    {
     "name": "stdout",
     "output_type": "stream",
     "text": [
      "t: 792.00 | 1200.00 hrs (50 d)"
     ]
    },
    {
     "name": "stderr",
     "output_type": "stream",
     "text": [
      "iteration.greedy: INFO     time:32\n",
      "iteration.greedy: INFO     adding contacts in the interval [768, 792]\n",
      "iteration.greedy: INFO     number of unique contacts: 2256\n"
     ]
    },
    {
     "name": "stdout",
     "output_type": "stream",
     "text": [
      "\n",
      "[Reached max time: 792h (33d)]\n",
      "All raw contacts 2378\n",
      "Contacts at midnight  178\n",
      "Contacts collected by coarse-graining  54\n",
      "Contacts in multiple days  0\n",
      "Coarse-grained contacts  2502\n",
      "Missing contacts  0\n",
      "Asymmetric contacts  0\n",
      "all contacts: 25898\n",
      "all contacts cut: 0\n"
     ]
    },
    {
     "name": "stderr",
     "output_type": "stream",
     "text": [
      "iteration.greedy: INFO     number of tests today: 20\n",
      "iteration.greedy: INFO     True  : (S,I,R): (874.0, 3.0, 27.0)\n",
      "iteration.greedy: INFO     AUR_I : 0.259, prec100: 0, prec(1% of 888): 0.00, prec5%: 0.00\n",
      "iteration.greedy: INFO     sym: 0, results test algo (S,I,R): (20,0,0), infected test random: 0/0\n",
      "iteration.greedy: INFO     ...quarantining 0 guys -> got 0 infected, 2 free as birds (-1)\n"
     ]
    },
    {
     "name": "stdout",
     "output_type": "stream",
     "text": [
      "t: 816.00 | 1200.00 hrs (50 d)"
     ]
    },
    {
     "name": "stderr",
     "output_type": "stream",
     "text": [
      "iteration.greedy: INFO     time:33\n",
      "iteration.greedy: INFO     adding contacts in the interval [792, 816]\n",
      "iteration.greedy: INFO     number of unique contacts: 2236\n"
     ]
    },
    {
     "name": "stdout",
     "output_type": "stream",
     "text": [
      "\n",
      "[Reached max time: 816h (34d)]\n",
      "All raw contacts 2312\n",
      "Contacts at midnight  178\n",
      "Contacts collected by coarse-graining  34\n",
      "Contacts in multiple days  0\n",
      "Coarse-grained contacts  2456\n",
      "Missing contacts  0\n",
      "Asymmetric contacts  0\n",
      "all contacts: 2236\n",
      "all contacts cut: 0\n"
     ]
    },
    {
     "name": "stderr",
     "output_type": "stream",
     "text": [
      "iteration.greedy: INFO     number of tests today: 20\n",
      "iteration.greedy: INFO     True  : (S,I,R): (874.0, 2.0, 28.0)\n",
      "iteration.greedy: INFO     AUR_I : 0.577, prec100: 0, prec(1% of 888): 0.00, prec5%: 0.00\n",
      "iteration.greedy: INFO     sym: 0, results test algo (S,I,R): (19,0,1), infected test random: 0/0\n",
      "iteration.greedy: INFO     ...quarantining 0 guys -> got 0 infected, 1 free as a bird (-1)\n"
     ]
    },
    {
     "name": "stdout",
     "output_type": "stream",
     "text": [
      "t: 840.00 | 1200.00 hrs (50 d)"
     ]
    },
    {
     "name": "stderr",
     "output_type": "stream",
     "text": [
      "iteration.greedy: INFO     time:34\n",
      "iteration.greedy: INFO     adding contacts in the interval [816, 840]\n",
      "iteration.greedy: INFO     number of unique contacts: 2606\n"
     ]
    },
    {
     "name": "stdout",
     "output_type": "stream",
     "text": [
      "\n",
      "[Reached max time: 840h (35d)]\n",
      "All raw contacts 2742\n",
      "Contacts at midnight  136\n",
      "Contacts collected by coarse-graining  48\n",
      "Contacts in multiple days  0\n",
      "Coarse-grained contacts  2830\n",
      "Missing contacts  0\n",
      "Asymmetric contacts  0\n"
     ]
    },
    {
     "name": "stderr",
     "output_type": "stream",
     "text": [
      "iteration.greedy: INFO     number of tests today: 20\n"
     ]
    },
    {
     "name": "stdout",
     "output_type": "stream",
     "text": [
      "all contacts: 4842\n",
      "all contacts cut: 0\n"
     ]
    },
    {
     "name": "stderr",
     "output_type": "stream",
     "text": [
      "iteration.greedy: INFO     True  : (S,I,R): (874.0, 2.0, 28.0)\n",
      "iteration.greedy: INFO     AUR_I : 0.400, prec100: 0, prec(1% of 887): 0.00, prec5%: 0.00\n",
      "iteration.greedy: INFO     sym: 0, results test algo (S,I,R): (20,0,0), infected test random: 0/0\n",
      "iteration.greedy: INFO     ...quarantining 0 guys -> got 0 infected, 1 free as a bird (+0)\n"
     ]
    },
    {
     "name": "stdout",
     "output_type": "stream",
     "text": [
      "t: 864.00 | 1200.00 hrs (50 d)"
     ]
    },
    {
     "name": "stderr",
     "output_type": "stream",
     "text": [
      "iteration.greedy: INFO     time:35\n",
      "iteration.greedy: INFO     adding contacts in the interval [840, 864]\n",
      "iteration.greedy: INFO     number of unique contacts: 2568\n"
     ]
    },
    {
     "name": "stdout",
     "output_type": "stream",
     "text": [
      "\n",
      "[Reached max time: 864h (36d)]\n",
      "All raw contacts 2686\n",
      "Contacts at midnight  126\n",
      "Contacts collected by coarse-graining  78\n",
      "Contacts in multiple days  0\n",
      "Coarse-grained contacts  2734\n",
      "Missing contacts  0\n",
      "Asymmetric contacts  0\n",
      "all contacts: 7410\n",
      "all contacts cut: 0\n"
     ]
    },
    {
     "name": "stderr",
     "output_type": "stream",
     "text": [
      "iteration.greedy: INFO     number of tests today: 20\n",
      "iteration.greedy: INFO     True  : (S,I,R): (874.0, 1.0, 29.0)\n",
      "iteration.greedy: INFO     AUR_I : nan, prec100: 0, prec(1% of 887): 0.00, prec5%: 0.00\n",
      "iteration.greedy: INFO     sym: 0, results test algo (S,I,R): (20,0,0), infected test random: 0/0\n",
      "iteration.greedy: INFO     ...quarantining 0 guys -> got 0 infected, 0 free as birds (-1)\n"
     ]
    },
    {
     "name": "stdout",
     "output_type": "stream",
     "text": [
      "t: 888.00 | 1200.00 hrs (50 d)"
     ]
    },
    {
     "name": "stderr",
     "output_type": "stream",
     "text": [
      "iteration.greedy: INFO     time:36\n",
      "iteration.greedy: INFO     adding contacts in the interval [864, 888]\n",
      "iteration.greedy: INFO     number of unique contacts: 2466\n"
     ]
    },
    {
     "name": "stdout",
     "output_type": "stream",
     "text": [
      "\n",
      "[Reached max time: 888h (37d)]\n",
      "All raw contacts 2544\n",
      "Contacts at midnight  146\n",
      "Contacts collected by coarse-graining  34\n",
      "Contacts in multiple days  0\n",
      "Coarse-grained contacts  2656\n",
      "Missing contacts  0\n",
      "Asymmetric contacts  0\n",
      "all contacts: 9876\n",
      "all contacts cut: 0\n"
     ]
    },
    {
     "name": "stderr",
     "output_type": "stream",
     "text": [
      "iteration.greedy: INFO     number of tests today: 20\n",
      "iteration.greedy: INFO     True  : (S,I,R): (874.0, 1.0, 29.0)\n",
      "iteration.greedy: INFO     AUR_I : nan, prec100: 0, prec(1% of 887): 0.00, prec5%: 0.00\n",
      "iteration.greedy: INFO     sym: 0, results test algo (S,I,R): (20,0,0), infected test random: 0/0\n",
      "iteration.greedy: INFO     ...quarantining 0 guys -> got 0 infected, 0 free as birds (+0)\n"
     ]
    },
    {
     "name": "stdout",
     "output_type": "stream",
     "text": [
      "t: 912.00 | 1200.00 hrs (50 d)"
     ]
    },
    {
     "name": "stderr",
     "output_type": "stream",
     "text": [
      "iteration.greedy: INFO     time:37\n"
     ]
    },
    {
     "name": "stdout",
     "output_type": "stream",
     "text": [
      "\n",
      "[Reached max time: 912h (38d)]\n"
     ]
    },
    {
     "name": "stderr",
     "output_type": "stream",
     "text": [
      "iteration.greedy: INFO     adding contacts in the interval [888, 912]\n",
      "iteration.greedy: INFO     number of unique contacts: 2574\n",
      "iteration.greedy: INFO     number of tests today: 20\n",
      "iteration.greedy: INFO     True  : (S,I,R): (874.0, 1.0, 29.0)\n",
      "iteration.greedy: INFO     AUR_I : nan, prec100: 0, prec(1% of 887): 0.00, prec5%: 0.00\n",
      "iteration.greedy: INFO     sym: 0, results test algo (S,I,R): (20,0,0), infected test random: 0/0\n",
      "iteration.greedy: INFO     ...quarantining 0 guys -> got 0 infected, 0 free as birds (+0)\n"
     ]
    },
    {
     "name": "stdout",
     "output_type": "stream",
     "text": [
      "All raw contacts 2672\n",
      "Contacts at midnight  118\n",
      "Contacts collected by coarse-graining  58\n",
      "Contacts in multiple days  0\n",
      "Coarse-grained contacts  2732\n",
      "Missing contacts  0\n",
      "Asymmetric contacts  0\n",
      "all contacts: 12450\n",
      "all contacts cut: 0\n",
      "t: 936.00 | 1200.00 hrs (50 d)"
     ]
    },
    {
     "name": "stderr",
     "output_type": "stream",
     "text": [
      "iteration.greedy: INFO     time:38\n"
     ]
    },
    {
     "name": "stdout",
     "output_type": "stream",
     "text": [
      "\n",
      "[Reached max time: 936h (39d)]\n"
     ]
    },
    {
     "name": "stderr",
     "output_type": "stream",
     "text": [
      "iteration.greedy: INFO     adding contacts in the interval [912, 936]\n",
      "iteration.greedy: INFO     number of unique contacts: 1864\n"
     ]
    },
    {
     "name": "stdout",
     "output_type": "stream",
     "text": [
      "All raw contacts 1944\n",
      "Contacts at midnight  78\n",
      "Contacts collected by coarse-graining  42\n",
      "Contacts in multiple days  0\n",
      "Coarse-grained contacts  1980\n",
      "Missing contacts  0\n",
      "Asymmetric contacts  0\n",
      "all contacts: 14314\n",
      "all contacts cut: 0\n"
     ]
    },
    {
     "name": "stderr",
     "output_type": "stream",
     "text": [
      "iteration.greedy: INFO     number of tests today: 20\n",
      "iteration.greedy: INFO     True  : (S,I,R): (874.0, 1.0, 29.0)\n",
      "iteration.greedy: INFO     AUR_I : nan, prec100: 0, prec(1% of 887): 0.00, prec5%: 0.00\n",
      "iteration.greedy: INFO     sym: 0, results test algo (S,I,R): (20,0,0), infected test random: 0/0\n",
      "iteration.greedy: INFO     ...quarantining 0 guys -> got 0 infected, 0 free as birds (+0)\n"
     ]
    },
    {
     "name": "stdout",
     "output_type": "stream",
     "text": [
      "t: 960.00 | 1200.00 hrs (50 d)"
     ]
    },
    {
     "name": "stderr",
     "output_type": "stream",
     "text": [
      "iteration.greedy: INFO     time:39\n"
     ]
    },
    {
     "name": "stdout",
     "output_type": "stream",
     "text": [
      "\n",
      "[Reached max time: 960h (40d)]\n"
     ]
    },
    {
     "name": "stderr",
     "output_type": "stream",
     "text": [
      "iteration.greedy: INFO     adding contacts in the interval [936, 960]\n",
      "iteration.greedy: INFO     number of unique contacts: 2356\n",
      "iteration.greedy: INFO     number of tests today: 20\n"
     ]
    },
    {
     "name": "stdout",
     "output_type": "stream",
     "text": [
      "All raw contacts 2490\n",
      "Contacts at midnight  130\n",
      "Contacts collected by coarse-graining  52\n",
      "Contacts in multiple days  0\n",
      "Coarse-grained contacts  2568\n",
      "Missing contacts  0\n",
      "Asymmetric contacts  0\n",
      "all contacts: 16670\n",
      "all contacts cut: 0\n"
     ]
    },
    {
     "name": "stderr",
     "output_type": "stream",
     "text": [
      "iteration.greedy: INFO     True  : (S,I,R): (874.0, 1.0, 29.0)\n",
      "iteration.greedy: INFO     AUR_I : nan, prec100: 0, prec(1% of 887): 0.00, prec5%: 0.00\n",
      "iteration.greedy: INFO     sym: 0, results test algo (S,I,R): (20,0,0), infected test random: 0/0\n",
      "iteration.greedy: INFO     ...quarantining 0 guys -> got 0 infected, 0 free as birds (+0)\n"
     ]
    },
    {
     "name": "stdout",
     "output_type": "stream",
     "text": [
      "t: 973.89 | 1200.00 hrs (50 d)"
     ]
    },
    {
     "name": "stderr",
     "output_type": "stream",
     "text": [
      "iteration.greedy: INFO     stopping simulation as there are no more infected individuals\n"
     ]
    },
    {
     "name": "stdout",
     "output_type": "stream",
     "text": [
      "Time  9.746892929077148\n",
      "t: 24.00 | 1200.00 hrs (50 d)"
     ]
    },
    {
     "name": "stderr",
     "output_type": "stream",
     "text": [
      "iteration.no_intervention: INFO     time:0\n"
     ]
    },
    {
     "name": "stdout",
     "output_type": "stream",
     "text": [
      "\n",
      "[Reached max time: 24h (1d)]\n",
      "t: 48.00 | 1200.00 hrs (50 d)"
     ]
    },
    {
     "name": "stderr",
     "output_type": "stream",
     "text": [
      "iteration.no_intervention: INFO     time:1\n"
     ]
    },
    {
     "name": "stdout",
     "output_type": "stream",
     "text": [
      "\n",
      "[Reached max time: 48h (2d)]\n",
      "t: 72.00 | 1200.00 hrs (50 d)"
     ]
    },
    {
     "name": "stderr",
     "output_type": "stream",
     "text": [
      "iteration.no_intervention: INFO     time:2\n"
     ]
    },
    {
     "name": "stdout",
     "output_type": "stream",
     "text": [
      "\n",
      "[Reached max time: 72h (3d)]\n",
      "t: 96.00 | 1200.00 hrs (50 d)"
     ]
    },
    {
     "name": "stderr",
     "output_type": "stream",
     "text": [
      "iteration.no_intervention: INFO     time:3\n"
     ]
    },
    {
     "name": "stdout",
     "output_type": "stream",
     "text": [
      "\n",
      "[Reached max time: 96h (4d)]\n",
      "t: 120.00 | 1200.00 hrs (50 d)"
     ]
    },
    {
     "name": "stderr",
     "output_type": "stream",
     "text": [
      "iteration.no_intervention: INFO     time:4\n"
     ]
    },
    {
     "name": "stdout",
     "output_type": "stream",
     "text": [
      "\n",
      "[Reached max time: 120h (5d)]\n",
      "t: 144.00 | 1200.00 hrs (50 d)"
     ]
    },
    {
     "name": "stderr",
     "output_type": "stream",
     "text": [
      "iteration.no_intervention: INFO     time:5\n"
     ]
    },
    {
     "name": "stdout",
     "output_type": "stream",
     "text": [
      "\n",
      "[Reached max time: 144h (6d)]\n",
      "t: 168.00 | 1200.00 hrs (50 d)"
     ]
    },
    {
     "name": "stderr",
     "output_type": "stream",
     "text": [
      "iteration.no_intervention: INFO     time:6\n"
     ]
    },
    {
     "name": "stdout",
     "output_type": "stream",
     "text": [
      "\n",
      "[Reached max time: 168h (7d)]\n",
      "t: 192.00 | 1200.00 hrs (50 d)"
     ]
    },
    {
     "name": "stderr",
     "output_type": "stream",
     "text": [
      "iteration.no_intervention: INFO     time:7\n"
     ]
    },
    {
     "name": "stdout",
     "output_type": "stream",
     "text": [
      "\n",
      "[Reached max time: 192h (8d)]\n",
      "t: 216.00 | 1200.00 hrs (50 d)"
     ]
    },
    {
     "name": "stderr",
     "output_type": "stream",
     "text": [
      "iteration.no_intervention: INFO     time:8\n"
     ]
    },
    {
     "name": "stdout",
     "output_type": "stream",
     "text": [
      "\n",
      "[Reached max time: 216h (9d)]\n",
      "t: 240.00 | 1200.00 hrs (50 d)"
     ]
    },
    {
     "name": "stderr",
     "output_type": "stream",
     "text": [
      "iteration.no_intervention: INFO     time:9\n"
     ]
    },
    {
     "name": "stdout",
     "output_type": "stream",
     "text": [
      "\n",
      "[Reached max time: 240h (10d)]\n",
      "t: 264.00 | 1200.00 hrs (50 d)"
     ]
    },
    {
     "name": "stderr",
     "output_type": "stream",
     "text": [
      "iteration.no_intervention: INFO     time:10\n"
     ]
    },
    {
     "name": "stdout",
     "output_type": "stream",
     "text": [
      "\n",
      "[Reached max time: 264h (11d)]\n",
      "t: 288.00 | 1200.00 hrs (50 d)"
     ]
    },
    {
     "name": "stderr",
     "output_type": "stream",
     "text": [
      "iteration.no_intervention: INFO     time:11\n"
     ]
    },
    {
     "name": "stdout",
     "output_type": "stream",
     "text": [
      "\n",
      "[Reached max time: 288h (12d)]\n",
      "t: 312.00 | 1200.00 hrs (50 d)"
     ]
    },
    {
     "name": "stderr",
     "output_type": "stream",
     "text": [
      "iteration.no_intervention: INFO     time:12\n"
     ]
    },
    {
     "name": "stdout",
     "output_type": "stream",
     "text": [
      "\n",
      "[Reached max time: 312h (13d)]\n",
      "t: 336.00 | 1200.00 hrs (50 d)"
     ]
    },
    {
     "name": "stderr",
     "output_type": "stream",
     "text": [
      "iteration.no_intervention: INFO     time:13\n"
     ]
    },
    {
     "name": "stdout",
     "output_type": "stream",
     "text": [
      "\n",
      "[Reached max time: 336h (14d)]\n",
      "t: 360.00 | 1200.00 hrs (50 d)\n",
      "[Reached max time: 360h (15d)]\n"
     ]
    },
    {
     "name": "stderr",
     "output_type": "stream",
     "text": [
      "iteration.no_intervention: INFO     time:14\n"
     ]
    },
    {
     "name": "stdout",
     "output_type": "stream",
     "text": [
      "t: 384.00 | 1200.00 hrs (50 d)\n",
      "[Reached max time: 384h (16d)]\n"
     ]
    },
    {
     "name": "stderr",
     "output_type": "stream",
     "text": [
      "iteration.no_intervention: INFO     time:15\n"
     ]
    },
    {
     "name": "stdout",
     "output_type": "stream",
     "text": [
      "t: 408.00 | 1200.00 hrs (50 d)\n",
      "[Reached max time: 408h (17d)]\n"
     ]
    },
    {
     "name": "stderr",
     "output_type": "stream",
     "text": [
      "iteration.no_intervention: INFO     time:16\n"
     ]
    },
    {
     "name": "stdout",
     "output_type": "stream",
     "text": [
      "t: 432.00 | 1200.00 hrs (50 d)"
     ]
    },
    {
     "name": "stderr",
     "output_type": "stream",
     "text": [
      "iteration.no_intervention: INFO     time:17\n"
     ]
    },
    {
     "name": "stdout",
     "output_type": "stream",
     "text": [
      "\n",
      "[Reached max time: 432h (18d)]\n",
      "t: 456.00 | 1200.00 hrs (50 d)"
     ]
    },
    {
     "name": "stderr",
     "output_type": "stream",
     "text": [
      "iteration.no_intervention: INFO     time:18\n"
     ]
    },
    {
     "name": "stdout",
     "output_type": "stream",
     "text": [
      "\n",
      "[Reached max time: 456h (19d)]\n",
      "t: 480.00 | 1200.00 hrs (50 d)"
     ]
    },
    {
     "name": "stderr",
     "output_type": "stream",
     "text": [
      "iteration.no_intervention: INFO     time:19\n"
     ]
    },
    {
     "name": "stdout",
     "output_type": "stream",
     "text": [
      "\n",
      "[Reached max time: 480h (20d)]\n",
      "t: 504.00 | 1200.00 hrs (50 d)\n",
      "[Reached max time: 504h (21d)]\n"
     ]
    },
    {
     "name": "stderr",
     "output_type": "stream",
     "text": [
      "iteration.no_intervention: INFO     time:20\n"
     ]
    },
    {
     "name": "stdout",
     "output_type": "stream",
     "text": [
      "t: 528.00 | 1200.00 hrs (50 d)"
     ]
    },
    {
     "name": "stderr",
     "output_type": "stream",
     "text": [
      "iteration.no_intervention: INFO     time:21\n"
     ]
    },
    {
     "name": "stdout",
     "output_type": "stream",
     "text": [
      "\n",
      "[Reached max time: 528h (22d)]\n",
      "t: 552.00 | 1200.00 hrs (50 d)\n",
      "[Reached max time: 552h (23d)]\n"
     ]
    },
    {
     "name": "stderr",
     "output_type": "stream",
     "text": [
      "iteration.no_intervention: INFO     time:22\n"
     ]
    },
    {
     "name": "stdout",
     "output_type": "stream",
     "text": [
      "t: 576.00 | 1200.00 hrs (50 d)"
     ]
    },
    {
     "name": "stderr",
     "output_type": "stream",
     "text": [
      "iteration.no_intervention: INFO     time:23\n"
     ]
    },
    {
     "name": "stdout",
     "output_type": "stream",
     "text": [
      "\n",
      "[Reached max time: 576h (24d)]\n",
      "t: 600.00 | 1200.00 hrs (50 d)\n",
      "[Reached max time: 600h (25d)]\n"
     ]
    },
    {
     "name": "stderr",
     "output_type": "stream",
     "text": [
      "iteration.no_intervention: INFO     time:24\n"
     ]
    },
    {
     "name": "stdout",
     "output_type": "stream",
     "text": [
      "t: 624.00 | 1200.00 hrs (50 d)"
     ]
    },
    {
     "name": "stderr",
     "output_type": "stream",
     "text": [
      "iteration.no_intervention: INFO     time:25\n"
     ]
    },
    {
     "name": "stdout",
     "output_type": "stream",
     "text": [
      "\n",
      "[Reached max time: 624h (26d)]\n",
      "t: 648.00 | 1200.00 hrs (50 d)\n",
      "[Reached max time: 648h (27d)]\n"
     ]
    },
    {
     "name": "stderr",
     "output_type": "stream",
     "text": [
      "iteration.no_intervention: INFO     time:26\n"
     ]
    },
    {
     "name": "stdout",
     "output_type": "stream",
     "text": [
      "t: 672.00 | 1200.00 hrs (50 d)\n",
      "[Reached max time: 672h (28d)]\n"
     ]
    },
    {
     "name": "stderr",
     "output_type": "stream",
     "text": [
      "iteration.no_intervention: INFO     time:27\n"
     ]
    },
    {
     "name": "stdout",
     "output_type": "stream",
     "text": [
      "t: 696.00 | 1200.00 hrs (50 d)\n",
      "[Reached max time: 696h (29d)]\n"
     ]
    },
    {
     "name": "stderr",
     "output_type": "stream",
     "text": [
      "iteration.no_intervention: INFO     time:28\n"
     ]
    },
    {
     "name": "stdout",
     "output_type": "stream",
     "text": [
      "t: 720.00 | 1200.00 hrs (50 d)\n",
      "[Reached max time: 720h (30d)]\n"
     ]
    },
    {
     "name": "stderr",
     "output_type": "stream",
     "text": [
      "iteration.no_intervention: INFO     time:29\n"
     ]
    },
    {
     "name": "stdout",
     "output_type": "stream",
     "text": [
      "t: 744.00 | 1200.00 hrs (50 d)\n",
      "[Reached max time: 744h (31d)]\n"
     ]
    },
    {
     "name": "stderr",
     "output_type": "stream",
     "text": [
      "iteration.no_intervention: INFO     time:30\n"
     ]
    },
    {
     "name": "stdout",
     "output_type": "stream",
     "text": [
      "t: 768.00 | 1200.00 hrs (50 d)"
     ]
    },
    {
     "name": "stderr",
     "output_type": "stream",
     "text": [
      "iteration.no_intervention: INFO     time:31\n"
     ]
    },
    {
     "name": "stdout",
     "output_type": "stream",
     "text": [
      "\n",
      "[Reached max time: 768h (32d)]\n",
      "t: 792.00 | 1200.00 hrs (50 d)\n",
      "[Reached max time: 792h (33d)]\n"
     ]
    },
    {
     "name": "stderr",
     "output_type": "stream",
     "text": [
      "iteration.no_intervention: INFO     time:32\n"
     ]
    },
    {
     "name": "stdout",
     "output_type": "stream",
     "text": [
      "t: 816.00 | 1200.00 hrs (50 d)"
     ]
    },
    {
     "name": "stderr",
     "output_type": "stream",
     "text": [
      "iteration.no_intervention: INFO     time:33\n"
     ]
    },
    {
     "name": "stdout",
     "output_type": "stream",
     "text": [
      "\n",
      "[Reached max time: 816h (34d)]\n",
      "t: 840.00 | 1200.00 hrs (50 d)"
     ]
    },
    {
     "name": "stderr",
     "output_type": "stream",
     "text": [
      "iteration.no_intervention: INFO     time:34\n"
     ]
    },
    {
     "name": "stdout",
     "output_type": "stream",
     "text": [
      "\n",
      "[Reached max time: 840h (35d)]\n",
      "t: 864.00 | 1200.00 hrs (50 d)"
     ]
    },
    {
     "name": "stderr",
     "output_type": "stream",
     "text": [
      "iteration.no_intervention: INFO     time:35\n"
     ]
    },
    {
     "name": "stdout",
     "output_type": "stream",
     "text": [
      "\n",
      "[Reached max time: 864h (36d)]\n",
      "t: 888.00 | 1200.00 hrs (50 d)"
     ]
    },
    {
     "name": "stderr",
     "output_type": "stream",
     "text": [
      "iteration.no_intervention: INFO     time:36\n"
     ]
    },
    {
     "name": "stdout",
     "output_type": "stream",
     "text": [
      "\n",
      "[Reached max time: 888h (37d)]\n",
      "t: 912.00 | 1200.00 hrs (50 d)"
     ]
    },
    {
     "name": "stderr",
     "output_type": "stream",
     "text": [
      "iteration.no_intervention: INFO     time:37\n"
     ]
    },
    {
     "name": "stdout",
     "output_type": "stream",
     "text": [
      "\n",
      "[Reached max time: 912h (38d)]\n",
      "t: 936.00 | 1200.00 hrs (50 d)\n",
      "[Reached max time: 936h (39d)]\n"
     ]
    },
    {
     "name": "stderr",
     "output_type": "stream",
     "text": [
      "iteration.no_intervention: INFO     time:38\n"
     ]
    },
    {
     "name": "stdout",
     "output_type": "stream",
     "text": [
      "t: 960.00 | 1200.00 hrs (50 d)\n",
      "[Reached max time: 960h (40d)]\n"
     ]
    },
    {
     "name": "stderr",
     "output_type": "stream",
     "text": [
      "iteration.no_intervention: INFO     time:39\n"
     ]
    },
    {
     "name": "stdout",
     "output_type": "stream",
     "text": [
      "t: 984.00 | 1200.00 hrs (50 d)\n",
      "[Reached max time: 984h (41d)]\n"
     ]
    },
    {
     "name": "stderr",
     "output_type": "stream",
     "text": [
      "iteration.no_intervention: INFO     time:40\n"
     ]
    },
    {
     "name": "stdout",
     "output_type": "stream",
     "text": [
      "t: 1008.00 | 1200.00 hrs (50 d)\n",
      "[Reached max time: 1008h (42d)]\n"
     ]
    },
    {
     "name": "stderr",
     "output_type": "stream",
     "text": [
      "iteration.no_intervention: INFO     time:41\n"
     ]
    },
    {
     "name": "stdout",
     "output_type": "stream",
     "text": [
      "t: 1032.00 | 1200.00 hrs (50 d)\n",
      "[Reached max time: 1032h (43d)]\n"
     ]
    },
    {
     "name": "stderr",
     "output_type": "stream",
     "text": [
      "iteration.no_intervention: INFO     time:42\n"
     ]
    },
    {
     "name": "stdout",
     "output_type": "stream",
     "text": [
      "t: 1056.00 | 1200.00 hrs (50 d)\n",
      "[Reached max time: 1056h (44d)]\n"
     ]
    },
    {
     "name": "stderr",
     "output_type": "stream",
     "text": [
      "iteration.no_intervention: INFO     time:43\n"
     ]
    },
    {
     "name": "stdout",
     "output_type": "stream",
     "text": [
      "t: 1080.00 | 1200.00 hrs (50 d)\n",
      "[Reached max time: 1080h (45d)]\n"
     ]
    },
    {
     "name": "stderr",
     "output_type": "stream",
     "text": [
      "iteration.no_intervention: INFO     time:44\n"
     ]
    },
    {
     "name": "stdout",
     "output_type": "stream",
     "text": [
      "t: 1104.00 | 1200.00 hrs (50 d)\n",
      "[Reached max time: 1104h (46d)]\n"
     ]
    },
    {
     "name": "stderr",
     "output_type": "stream",
     "text": [
      "iteration.no_intervention: INFO     time:45\n"
     ]
    },
    {
     "name": "stdout",
     "output_type": "stream",
     "text": [
      "t: 1128.00 | 1200.00 hrs (50 d)\n",
      "[Reached max time: 1128h (47d)]\n"
     ]
    },
    {
     "name": "stderr",
     "output_type": "stream",
     "text": [
      "iteration.no_intervention: INFO     time:46\n"
     ]
    },
    {
     "name": "stdout",
     "output_type": "stream",
     "text": [
      "t: 1152.00 | 1200.00 hrs (50 d)"
     ]
    },
    {
     "name": "stderr",
     "output_type": "stream",
     "text": [
      "iteration.no_intervention: INFO     time:47\n"
     ]
    },
    {
     "name": "stdout",
     "output_type": "stream",
     "text": [
      "\n",
      "[Reached max time: 1152h (48d)]\n",
      "t: 1176.00 | 1200.00 hrs (50 d)\n",
      "[Reached max time: 1176h (49d)]\n"
     ]
    },
    {
     "name": "stderr",
     "output_type": "stream",
     "text": [
      "iteration.no_intervention: INFO     time:48\n"
     ]
    },
    {
     "name": "stdout",
     "output_type": "stream",
     "text": [
      "t: 1199.26 | 1200.00 hrs (50 d)"
     ]
    },
    {
     "name": "stderr",
     "output_type": "stream",
     "text": [
      "iteration.no_intervention: INFO     time:49\n"
     ]
    },
    {
     "name": "stdout",
     "output_type": "stream",
     "text": [
      "Starting with guys:  {'expo': [70, 457, 218], 'iasy': [250, 39, 855, 486], 'ipre': [110, 72, 86, 695, 448]}\n",
      "t: 24.00 | 1200.00 hrs (50 d)"
     ]
    },
    {
     "name": "stderr",
     "output_type": "stream",
     "text": [
      "iteration.sib: INFO     time:0\n",
      "iteration.sib: INFO     adding contacts in the interval [0, 24]\n",
      "iteration.sib: INFO     number of unique contacts: 2094\n"
     ]
    },
    {
     "name": "stdout",
     "output_type": "stream",
     "text": [
      "\n",
      "[Reached max time: 24h (1d)]\n",
      "All raw contacts 2114\n",
      "Contacts at midnight  46\n",
      "Contacts collected by coarse-graining  20\n",
      "Contacts in multiple days  0\n",
      "Coarse-grained contacts  2140\n",
      "Missing contacts  0\n",
      "Asymmetric contacts  0\n",
      "sib.iterate(damp=0):  2/20 2.220e-16/0.001    \n",
      "sib.iterate(damp=0.5):  0/20 2.220e-16/0.001    \r"
     ]
    },
    {
     "name": "stderr",
     "output_type": "stream",
     "text": [
      "iteration.sib: INFO     winBP: (S,I,R): (903.0, 1.0, 0.0), seeds: 1.0, ll: -626.1\n",
      "iteration.sib: INFO     number of tests today: 0\n",
      "iteration.sib: INFO     True  : (S,I,R): (892.0, 12.0, 0.0)\n",
      "iteration.sib: INFO     AUR_I : 0.370, prec100: 1, prec(1% of 905): 0.00, prec5%: 0.02\n",
      "iteration.sib: INFO     sym: 0, results test algo (S,I,R): (0,0,0), infected test random: 0/0\n",
      "iteration.sib: INFO     ...quarantining 0 guys -> got 0 infected, 12 free as birds (+12)\n"
     ]
    },
    {
     "name": "stdout",
     "output_type": "stream",
     "text": [
      "\n",
      "t: 48.00 | 1200.00 hrs (50 d)"
     ]
    },
    {
     "name": "stderr",
     "output_type": "stream",
     "text": [
      "iteration.sib: INFO     time:1\n"
     ]
    },
    {
     "name": "stdout",
     "output_type": "stream",
     "text": [
      "\n",
      "[Reached max time: 48h (2d)]\n"
     ]
    },
    {
     "name": "stderr",
     "output_type": "stream",
     "text": [
      "iteration.sib: INFO     adding contacts in the interval [24, 48]\n",
      "iteration.sib: INFO     number of unique contacts: 2096\n"
     ]
    },
    {
     "name": "stdout",
     "output_type": "stream",
     "text": [
      "All raw contacts 2140\n",
      "Contacts at midnight  112\n",
      "Contacts collected by coarse-graining  44\n",
      "Contacts in multiple days  0\n",
      "Coarse-grained contacts  2208\n",
      "Missing contacts  0\n",
      "Asymmetric contacts  0\n",
      "sib.iterate(damp=0):  2/20 2.002e-12/0.001    \n",
      "sib.iterate(damp=0.5):  0/20 3.740e-16/0.001    \n"
     ]
    },
    {
     "name": "stderr",
     "output_type": "stream",
     "text": [
      "iteration.sib: INFO     winBP: (S,I,R): (903.0, 1.0, 0.0), seeds: 1.0, ll: -626.1\n",
      "iteration.sib: INFO     number of tests today: 0\n",
      "iteration.sib: INFO     True  : (S,I,R): (892.0, 12.0, 0.0)\n",
      "iteration.sib: INFO     AUR_I : 0.500, prec100: 1, prec(1% of 905): 0.00, prec5%: 0.02\n",
      "iteration.sib: INFO     sym: 0, results test algo (S,I,R): (0,0,0), infected test random: 0/0\n",
      "iteration.sib: INFO     ...quarantining 0 guys -> got 0 infected, 12 free as birds (+0)\n"
     ]
    },
    {
     "name": "stdout",
     "output_type": "stream",
     "text": [
      "t: 72.00 | 1200.00 hrs (50 d)"
     ]
    },
    {
     "name": "stderr",
     "output_type": "stream",
     "text": [
      "iteration.sib: INFO     time:2\n"
     ]
    },
    {
     "name": "stdout",
     "output_type": "stream",
     "text": [
      "\n",
      "[Reached max time: 72h (3d)]\n"
     ]
    },
    {
     "name": "stderr",
     "output_type": "stream",
     "text": [
      "iteration.sib: INFO     adding contacts in the interval [48, 72]\n",
      "iteration.sib: INFO     number of unique contacts: 2268\n"
     ]
    },
    {
     "name": "stdout",
     "output_type": "stream",
     "text": [
      "All raw contacts 2340\n",
      "Contacts at midnight  144\n",
      "Contacts collected by coarse-graining  72\n",
      "Contacts in multiple days  0\n",
      "Coarse-grained contacts  2412\n",
      "Missing contacts  0\n",
      "Asymmetric contacts  0\n",
      "sib.iterate(damp=0):  2/20 2.671e-11/0.001    \n",
      "sib.iterate(damp=0.5):  0/20 7.015e-16/0.001    \n"
     ]
    },
    {
     "name": "stderr",
     "output_type": "stream",
     "text": [
      "iteration.sib: INFO     winBP: (S,I,R): (903.0, 1.0, 0.0), seeds: 1.0, ll: -626.1\n",
      "iteration.sib: INFO     number of tests today: 0\n",
      "iteration.sib: INFO     True  : (S,I,R): (892.0, 12.0, 0.0)\n",
      "iteration.sib: INFO     AUR_I : 0.352, prec100: 0, prec(1% of 905): 0.00, prec5%: 0.00\n",
      "iteration.sib: INFO     sym: 0, results test algo (S,I,R): (0,0,0), infected test random: 0/0\n",
      "iteration.sib: INFO     ...quarantining 0 guys -> got 0 infected, 12 free as birds (+0)\n"
     ]
    },
    {
     "name": "stdout",
     "output_type": "stream",
     "text": [
      "t: 96.00 | 1200.00 hrs (50 d)"
     ]
    },
    {
     "name": "stderr",
     "output_type": "stream",
     "text": [
      "iteration.sib: INFO     time:3\n"
     ]
    },
    {
     "name": "stdout",
     "output_type": "stream",
     "text": [
      "\n",
      "[Reached max time: 96h (4d)]\n"
     ]
    },
    {
     "name": "stderr",
     "output_type": "stream",
     "text": [
      "iteration.sib: INFO     adding contacts in the interval [72, 96]\n",
      "iteration.sib: INFO     number of unique contacts: 2640\n"
     ]
    },
    {
     "name": "stdout",
     "output_type": "stream",
     "text": [
      "All raw contacts 2688\n",
      "Contacts at midnight  144\n",
      "Contacts collected by coarse-graining  48\n",
      "Contacts in multiple days  0\n",
      "Coarse-grained contacts  2784\n",
      "Missing contacts  0\n",
      "Asymmetric contacts  0\n",
      "sib.iterate(damp=0):  2/20 1.751e-10/0.001        \n",
      "sib.iterate(damp=0.5):  0/20 7.772e-16/0.001    \n"
     ]
    },
    {
     "name": "stderr",
     "output_type": "stream",
     "text": [
      "iteration.sib: INFO     winBP: (S,I,R): (903.0, 1.0, 0.0), seeds: 1.0, ll: -626.1\n",
      "iteration.sib: INFO     number of tests today: 0\n",
      "iteration.sib: INFO     True  : (S,I,R): (892.0, 12.0, 0.0)\n",
      "iteration.sib: INFO     AUR_I : 0.391, prec100: 0, prec(1% of 905): 0.00, prec5%: 0.00\n",
      "iteration.sib: INFO     sym: 0, results test algo (S,I,R): (0,0,0), infected test random: 0/0\n",
      "iteration.sib: INFO     ...quarantining 0 guys -> got 0 infected, 12 free as birds (+0)\n"
     ]
    },
    {
     "name": "stdout",
     "output_type": "stream",
     "text": [
      "t: 120.00 | 1200.00 hrs (50 d)"
     ]
    },
    {
     "name": "stderr",
     "output_type": "stream",
     "text": [
      "iteration.sib: INFO     time:4\n"
     ]
    },
    {
     "name": "stdout",
     "output_type": "stream",
     "text": [
      "\n",
      "[Reached max time: 120h (5d)]\n",
      "All raw contacts 2584\n",
      "Contacts at midnight  116\n",
      "Contacts collected by coarse-graining  52\n",
      "Contacts in multiple days  0\n",
      "Coarse-grained contacts  2648\n",
      "Missing contacts  0\n",
      "Asymmetric contacts  0\n"
     ]
    },
    {
     "name": "stderr",
     "output_type": "stream",
     "text": [
      "iteration.sib: INFO     adding contacts in the interval [96, 120]\n",
      "iteration.sib: INFO     number of unique contacts: 2532\n"
     ]
    },
    {
     "name": "stdout",
     "output_type": "stream",
     "text": [
      "sib.iterate(damp=0):  2/20 2.533e-09/0.001    \n",
      "sib.iterate(damp=0.5):  0/20 1.830e-15/0.001    \r"
     ]
    },
    {
     "name": "stderr",
     "output_type": "stream",
     "text": [
      "iteration.sib: INFO     winBP: (S,I,R): (903.0, 1.0, 0.0), seeds: 1.0, ll: -626.1\n",
      "iteration.sib: INFO     number of tests today: 0\n"
     ]
    },
    {
     "name": "stdout",
     "output_type": "stream",
     "text": [
      "\n"
     ]
    },
    {
     "name": "stderr",
     "output_type": "stream",
     "text": [
      "iteration.sib: INFO     True  : (S,I,R): (890.0, 14.0, 0.0)\n",
      "iteration.sib: INFO     AUR_I : 0.410, prec100: 1, prec(1% of 905): 0.00, prec5%: 0.00\n",
      "iteration.sib: INFO     sym: 0, results test algo (S,I,R): (0,0,0), infected test random: 0/0\n",
      "iteration.sib: INFO     ...quarantining 0 guys -> got 0 infected, 14 free as birds (+2)\n"
     ]
    },
    {
     "name": "stdout",
     "output_type": "stream",
     "text": [
      "t: 144.00 | 1200.00 hrs (50 d)"
     ]
    },
    {
     "name": "stderr",
     "output_type": "stream",
     "text": [
      "iteration.sib: INFO     \n",
      "observation-based inference algorithm starts now\n",
      "\n",
      "iteration.sib: INFO     time:5\n",
      "iteration.sib: INFO     adding contacts in the interval [120, 144]\n",
      "iteration.sib: INFO     number of unique contacts: 2498\n"
     ]
    },
    {
     "name": "stdout",
     "output_type": "stream",
     "text": [
      "\n",
      "[Reached max time: 144h (6d)]\n",
      "All raw contacts 2538\n",
      "Contacts at midnight  206\n",
      "Contacts collected by coarse-graining  40\n",
      "Contacts in multiple days  0\n",
      "Coarse-grained contacts  2704\n",
      "Missing contacts  0\n",
      "Asymmetric contacts  0\n",
      "sib.iterate(damp=0):  2/20 8.127e-09/0.001    \n",
      "sib.iterate(damp=0.5):  0/20 7.583e-14/0.001    \r"
     ]
    },
    {
     "name": "stderr",
     "output_type": "stream",
     "text": [
      "iteration.sib: INFO     winBP: (S,I,R): (903.0, 1.0, 0.0), seeds: 1.0, ll: -626.1\n",
      "iteration.sib: INFO     number of tests today: 20\n",
      "iteration.sib: INFO     True  : (S,I,R): (887.0, 17.0, 0.0)\n",
      "iteration.sib: INFO     AUR_I : 0.351, prec100: 0, prec(1% of 905): 0.00, prec5%: 0.00\n",
      "iteration.sib: INFO     sym: 0, results test algo (S,I,R): (20,0,0), infected test random: 0/0\n",
      "iteration.sib: INFO     ...quarantining 0 guys -> got 0 infected, 17 free as birds (+3)\n"
     ]
    },
    {
     "name": "stdout",
     "output_type": "stream",
     "text": [
      "\n",
      "t: 168.00 | 1200.00 hrs (50 d)"
     ]
    },
    {
     "name": "stderr",
     "output_type": "stream",
     "text": [
      "iteration.sib: INFO     time:6\n"
     ]
    },
    {
     "name": "stdout",
     "output_type": "stream",
     "text": [
      "\n",
      "[Reached max time: 168h (7d)]\n",
      "All raw contacts 2632\n"
     ]
    },
    {
     "name": "stderr",
     "output_type": "stream",
     "text": [
      "iteration.sib: INFO     adding contacts in the interval [144, 168]\n",
      "iteration.sib: INFO     number of unique contacts: 2550\n"
     ]
    },
    {
     "name": "stdout",
     "output_type": "stream",
     "text": [
      "Contacts at midnight  206\n",
      "Contacts collected by coarse-graining  82\n",
      "Contacts in multiple days  0\n",
      "Coarse-grained contacts  2756\n",
      "Missing contacts  0\n",
      "Asymmetric contacts  0\n",
      "sib.iterate(damp=0):  2/20 8.719e-08/0.001    \n",
      "sib.iterate(damp=0.5):  0/20 1.225e-10/0.001    \r"
     ]
    },
    {
     "name": "stderr",
     "output_type": "stream",
     "text": [
      "iteration.sib: INFO     winBP: (S,I,R): (903.0, 1.0, 0.0), seeds: 1.0, ll: -632.8\n",
      "iteration.sib: INFO     number of tests today: 20\n",
      "iteration.sib: INFO     True  : (S,I,R): (887.0, 17.0, 0.0)\n",
      "iteration.sib: INFO     AUR_I : 0.443, prec100: 1, prec(1% of 904): 0.00, prec5%: 0.00\n",
      "iteration.sib: INFO     sym: 0, results test algo (S,I,R): (19,1,0), infected test random: 0/0\n",
      "iteration.sib: INFO     ...quarantining 1 guys -> got 1 infected, 16 free as birds (-1)\n"
     ]
    },
    {
     "name": "stdout",
     "output_type": "stream",
     "text": [
      "\n",
      "t: 192.00 | 1200.00 hrs (50 d)"
     ]
    },
    {
     "name": "stderr",
     "output_type": "stream",
     "text": [
      "iteration.sib: INFO     time:7\n"
     ]
    },
    {
     "name": "stdout",
     "output_type": "stream",
     "text": [
      "\n",
      "[Reached max time: 192h (8d)]\n",
      "All raw contacts 2848\n",
      "Contacts at midnight  142\n",
      "Contacts collected by coarse-graining  68\n",
      "Contacts in multiple days  0\n",
      "Coarse-grained contacts  2922\n",
      "Missing contacts  0\n",
      "Asymmetric contacts  0\n"
     ]
    },
    {
     "name": "stderr",
     "output_type": "stream",
     "text": [
      "iteration.sib: INFO     adding contacts in the interval [168, 192]\n",
      "iteration.sib: INFO     number of unique contacts: 2770\n"
     ]
    },
    {
     "name": "stdout",
     "output_type": "stream",
     "text": [
      "sib.iterate(damp=0):  2/20 1.706e-05/0.001    \n",
      "sib.iterate(damp=0.5):  0/20 2.718e-07/0.001    \n"
     ]
    },
    {
     "name": "stderr",
     "output_type": "stream",
     "text": [
      "iteration.sib: INFO     winBP: (S,I,R): (901.9, 2.1, 0.0), seeds: 2.0, ll: -646.0\n",
      "iteration.sib: INFO     number of tests today: 20\n",
      "iteration.sib: INFO     True  : (S,I,R): (886.0, 18.0, 0.0)\n",
      "iteration.sib: INFO     AUR_I : 0.506, prec100: 1, prec(1% of 904): 0.00, prec5%: 0.02\n",
      "iteration.sib: INFO     sym: 0, results test algo (S,I,R): (20,0,0), infected test random: 0/0\n",
      "iteration.sib: INFO     ...quarantining 0 guys -> got 0 infected, 17 free as birds (+1)\n"
     ]
    },
    {
     "name": "stdout",
     "output_type": "stream",
     "text": [
      "t: 216.00 | 1200.00 hrs (50 d)"
     ]
    },
    {
     "name": "stderr",
     "output_type": "stream",
     "text": [
      "iteration.sib: INFO     time:8\n"
     ]
    },
    {
     "name": "stdout",
     "output_type": "stream",
     "text": [
      "\n",
      "[Reached max time: 216h (9d)]\n",
      "All raw contacts 2374\n",
      "Contacts at midnight  188\n",
      "Contacts collected by coarse-graining  42\n",
      "Contacts in multiple days  0\n",
      "Coarse-grained contacts  2520\n",
      "Missing contacts  0\n",
      "Asymmetric contacts  0\n"
     ]
    },
    {
     "name": "stderr",
     "output_type": "stream",
     "text": [
      "iteration.sib: INFO     adding contacts in the interval [192, 216]\n",
      "iteration.sib: INFO     number of unique contacts: 2312\n"
     ]
    },
    {
     "name": "stdout",
     "output_type": "stream",
     "text": [
      "sib.iterate(damp=0):  2/20 3.754e-05/0.001    \n",
      "sib.iterate(damp=0.5):  0/20 2.422e-07/0.001    \r"
     ]
    },
    {
     "name": "stderr",
     "output_type": "stream",
     "text": [
      "iteration.sib: INFO     winBP: (S,I,R): (902.0, 2.0, 0.0), seeds: 2.0, ll: -652.8\n",
      "iteration.sib: INFO     number of tests today: 20\n",
      "iteration.sib: INFO     True  : (S,I,R): (885.0, 19.0, 0.0)\n",
      "iteration.sib: INFO     AUR_I : 0.556, prec100: 2, prec(1% of 904): 0.00, prec5%: 0.00\n",
      "iteration.sib: INFO     sym: 0, results test algo (S,I,R): (20,0,0), infected test random: 0/0\n",
      "iteration.sib: INFO     ...quarantining 0 guys -> got 0 infected, 18 free as birds (+1)\n"
     ]
    },
    {
     "name": "stdout",
     "output_type": "stream",
     "text": [
      "\n",
      "t: 240.00 | 1200.00 hrs (50 d)"
     ]
    },
    {
     "name": "stderr",
     "output_type": "stream",
     "text": [
      "iteration.sib: INFO     time:9\n"
     ]
    },
    {
     "name": "stdout",
     "output_type": "stream",
     "text": [
      "\n",
      "[Reached max time: 240h (10d)]\n",
      "All raw contacts 2540\n"
     ]
    },
    {
     "name": "stderr",
     "output_type": "stream",
     "text": [
      "iteration.sib: INFO     adding contacts in the interval [216, 240]\n"
     ]
    },
    {
     "name": "stdout",
     "output_type": "stream",
     "text": [
      "Contacts at midnight  138\n",
      "Contacts collected by coarse-graining  52\n",
      "Contacts in multiple days  0\n",
      "Coarse-grained contacts  2626\n",
      "Missing contacts  0\n",
      "Asymmetric contacts  0\n"
     ]
    },
    {
     "name": "stderr",
     "output_type": "stream",
     "text": [
      "iteration.sib: INFO     number of unique contacts: 2474\n"
     ]
    },
    {
     "name": "stdout",
     "output_type": "stream",
     "text": [
      "sib.iterate(damp=0):  2/20 1.802e-05/0.001    \n",
      "sib.iterate(damp=0.5):  0/20 4.566e-08/0.001    \n"
     ]
    },
    {
     "name": "stderr",
     "output_type": "stream",
     "text": [
      "iteration.sib: INFO     winBP: (S,I,R): (902.0, 2.0, 0.0), seeds: 1.9, ll: -659.5\n",
      "iteration.sib: INFO     number of tests today: 20\n",
      "iteration.sib: INFO     True  : (S,I,R): (883.0, 21.0, 0.0)\n",
      "iteration.sib: INFO     AUR_I : 0.510, prec100: 3, prec(1% of 904): 0.00, prec5%: 0.02\n",
      "iteration.sib: INFO     sym: 0, results test algo (S,I,R): (20,0,0), infected test random: 0/0\n",
      "iteration.sib: INFO     ...quarantining 0 guys -> got 0 infected, 20 free as birds (+2)\n"
     ]
    },
    {
     "name": "stdout",
     "output_type": "stream",
     "text": [
      "t: 264.00 | 1200.00 hrs (50 d)"
     ]
    },
    {
     "name": "stderr",
     "output_type": "stream",
     "text": [
      "iteration.sib: INFO     time:10\n"
     ]
    },
    {
     "name": "stdout",
     "output_type": "stream",
     "text": [
      "\n",
      "[Reached max time: 264h (11d)]\n"
     ]
    },
    {
     "name": "stderr",
     "output_type": "stream",
     "text": [
      "iteration.sib: INFO     adding contacts in the interval [240, 264]\n"
     ]
    },
    {
     "name": "stdout",
     "output_type": "stream",
     "text": [
      "All raw contacts 2010\n",
      "Contacts at midnight  118\n",
      "Contacts collected by coarse-graining  42\n",
      "Contacts in multiple days  0\n",
      "Coarse-grained contacts  2086\n",
      "Missing contacts  0\n",
      "Asymmetric contacts  0\n"
     ]
    },
    {
     "name": "stderr",
     "output_type": "stream",
     "text": [
      "iteration.sib: INFO     number of unique contacts: 1968\n"
     ]
    },
    {
     "name": "stdout",
     "output_type": "stream",
     "text": [
      "sib.iterate(damp=0):  2/20 2.630e-06/0.001        \n",
      "sib.iterate(damp=0.5):  0/20 1.698e-08/0.001    \r"
     ]
    },
    {
     "name": "stderr",
     "output_type": "stream",
     "text": [
      "iteration.sib: INFO     winBP: (S,I,R): (902.0, 2.0, 0.0), seeds: 1.9, ll: -666.2\n",
      "iteration.sib: INFO     number of tests today: 20\n",
      "iteration.sib: INFO     True  : (S,I,R): (882.0, 22.0, 0.0)\n",
      "iteration.sib: INFO     AUR_I : 0.492, prec100: 2, prec(1% of 904): 0.00, prec5%: 0.00\n",
      "iteration.sib: INFO     sym: 0, results test algo (S,I,R): (20,0,0), infected test random: 0/0\n",
      "iteration.sib: INFO     ...quarantining 0 guys -> got 0 infected, 21 free as birds (+1)\n"
     ]
    },
    {
     "name": "stdout",
     "output_type": "stream",
     "text": [
      "\n",
      "t: 288.00 | 1200.00 hrs (50 d)"
     ]
    },
    {
     "name": "stderr",
     "output_type": "stream",
     "text": [
      "iteration.sib: INFO     time:11\n"
     ]
    },
    {
     "name": "stdout",
     "output_type": "stream",
     "text": [
      "\n",
      "[Reached max time: 288h (12d)]\n"
     ]
    },
    {
     "name": "stderr",
     "output_type": "stream",
     "text": [
      "iteration.sib: INFO     adding contacts in the interval [264, 288]\n"
     ]
    },
    {
     "name": "stdout",
     "output_type": "stream",
     "text": [
      "All raw contacts 2356\n",
      "Contacts at midnight  150\n",
      "Contacts collected by coarse-graining  58\n",
      "Contacts in multiple days  0\n",
      "Coarse-grained contacts  2448\n",
      "Missing contacts  0\n",
      "Asymmetric contacts  0\n"
     ]
    },
    {
     "name": "stderr",
     "output_type": "stream",
     "text": [
      "iteration.sib: INFO     number of unique contacts: 2290\n"
     ]
    },
    {
     "name": "stdout",
     "output_type": "stream",
     "text": [
      "sib.iterate(damp=0):  2/20 2.372e-06/0.001    \n",
      "sib.iterate(damp=0.5):  0/20 2.523e-09/0.001    \n"
     ]
    },
    {
     "name": "stderr",
     "output_type": "stream",
     "text": [
      "iteration.sib: INFO     winBP: (S,I,R): (902.0, 2.0, 0.0), seeds: 1.9, ll: -672.9\n",
      "iteration.sib: INFO     number of tests today: 20\n",
      "iteration.sib: INFO     True  : (S,I,R): (881.0, 23.0, 0.0)\n",
      "iteration.sib: INFO     AUR_I : 0.547, prec100: 4, prec(1% of 903): 0.00, prec5%: 0.04\n",
      "iteration.sib: INFO     sym: 0, results test algo (S,I,R): (20,0,0), infected test random: 0/0\n",
      "iteration.sib: INFO     ...quarantining 0 guys -> got 0 infected, 21 free as birds (+0)\n"
     ]
    },
    {
     "name": "stdout",
     "output_type": "stream",
     "text": [
      "t: 312.00 | 1200.00 hrs (50 d)"
     ]
    },
    {
     "name": "stderr",
     "output_type": "stream",
     "text": [
      "iteration.sib: INFO     time:12\n"
     ]
    },
    {
     "name": "stdout",
     "output_type": "stream",
     "text": [
      "\n",
      "[Reached max time: 312h (13d)]\n"
     ]
    },
    {
     "name": "stderr",
     "output_type": "stream",
     "text": [
      "iteration.sib: INFO     adding contacts in the interval [288, 312]\n"
     ]
    },
    {
     "name": "stdout",
     "output_type": "stream",
     "text": [
      "All raw contacts 2566\n",
      "Contacts at midnight  126\n",
      "Contacts collected by coarse-graining  44\n",
      "Contacts in multiple days  0\n",
      "Coarse-grained contacts  2648\n",
      "Missing contacts  0\n",
      "Asymmetric contacts  0\n"
     ]
    },
    {
     "name": "stderr",
     "output_type": "stream",
     "text": [
      "iteration.sib: INFO     number of unique contacts: 2514\n"
     ]
    },
    {
     "name": "stdout",
     "output_type": "stream",
     "text": [
      "sib.iterate(damp=0):  2/20 1.805e-07/0.001    \n",
      "sib.iterate(damp=0.5):  0/20 5.895e-09/0.001    \r"
     ]
    },
    {
     "name": "stderr",
     "output_type": "stream",
     "text": [
      "iteration.sib: INFO     winBP: (S,I,R): (902.0, 2.0, 0.0), seeds: 1.9, ll: -679.7\n",
      "iteration.sib: INFO     number of tests today: 20\n"
     ]
    },
    {
     "name": "stdout",
     "output_type": "stream",
     "text": [
      "\n"
     ]
    },
    {
     "name": "stderr",
     "output_type": "stream",
     "text": [
      "iteration.sib: INFO     True  : (S,I,R): (881.0, 21.0, 2.0)\n",
      "iteration.sib: INFO     AUR_I : 0.516, prec100: 3, prec(1% of 903): 0.00, prec5%: 0.02\n",
      "iteration.sib: INFO     sym: 0, results test algo (S,I,R): (20,0,0), infected test random: 0/0\n",
      "iteration.sib: INFO     ...quarantining 0 guys -> got 0 infected, 20 free as birds (-1)\n"
     ]
    },
    {
     "name": "stdout",
     "output_type": "stream",
     "text": [
      "t: 336.00 | 1200.00 hrs (50 d)"
     ]
    },
    {
     "name": "stderr",
     "output_type": "stream",
     "text": [
      "iteration.sib: INFO     time:13\n"
     ]
    },
    {
     "name": "stdout",
     "output_type": "stream",
     "text": [
      "\n",
      "[Reached max time: 336h (14d)]\n",
      "All raw contacts 2382\n",
      "Contacts at midnight  144\n",
      "Contacts collected by coarse-graining  84\n",
      "Contacts in multiple days  0\n"
     ]
    },
    {
     "name": "stderr",
     "output_type": "stream",
     "text": [
      "iteration.sib: INFO     adding contacts in the interval [312, 336]\n",
      "iteration.sib: INFO     number of unique contacts: 2298\n"
     ]
    },
    {
     "name": "stdout",
     "output_type": "stream",
     "text": [
      "Coarse-grained contacts  2442\n",
      "Missing contacts  0\n",
      "Asymmetric contacts  0\n",
      "sib.iterate(damp=0):  2/20 2.169e-07/0.001    \n",
      "sib.iterate(damp=0.5):  0/20 1.750e-09/0.001    \r"
     ]
    },
    {
     "name": "stderr",
     "output_type": "stream",
     "text": [
      "iteration.sib: INFO     winBP: (S,I,R): (902.0, 1.9, 0.0), seeds: 1.9, ll: -686.4\n",
      "iteration.sib: INFO     number of tests today: 20\n",
      "iteration.sib: INFO     True  : (S,I,R): (880.0, 20.0, 4.0)\n",
      "iteration.sib: INFO     AUR_I : 0.537, prec100: 3, prec(1% of 903): 0.00, prec5%: 0.02\n",
      "iteration.sib: INFO     sym: 0, results test algo (S,I,R): (19,0,1), infected test random: 0/0\n",
      "iteration.sib: INFO     ...quarantining 0 guys -> got 0 infected, 19 free as birds (-1)\n"
     ]
    },
    {
     "name": "stdout",
     "output_type": "stream",
     "text": [
      "\n",
      "t: 360.00 | 1200.00 hrs (50 d)"
     ]
    },
    {
     "name": "stderr",
     "output_type": "stream",
     "text": [
      "iteration.sib: INFO     time:14\n"
     ]
    },
    {
     "name": "stdout",
     "output_type": "stream",
     "text": [
      "\n",
      "[Reached max time: 360h (15d)]\n"
     ]
    },
    {
     "name": "stderr",
     "output_type": "stream",
     "text": [
      "iteration.sib: INFO     adding contacts in the interval [336, 360]\n"
     ]
    },
    {
     "name": "stdout",
     "output_type": "stream",
     "text": [
      "All raw contacts 2992\n",
      "Contacts at midnight  156\n",
      "Contacts collected by coarse-graining  70\n",
      "Contacts in multiple days  0\n",
      "Coarse-grained contacts  3078\n",
      "Missing contacts  0\n",
      "Asymmetric contacts  0\n"
     ]
    },
    {
     "name": "stderr",
     "output_type": "stream",
     "text": [
      "iteration.sib: INFO     number of unique contacts: 2912\n"
     ]
    },
    {
     "name": "stdout",
     "output_type": "stream",
     "text": [
      "sib.iterate(damp=0):  2/20 6.792e-07/0.001    \n",
      "sib.iterate(damp=0.5):  0/20 5.839e-09/0.001    \n"
     ]
    },
    {
     "name": "stderr",
     "output_type": "stream",
     "text": [
      "iteration.sib: INFO     winBP: (S,I,R): (902.1, 1.8, 0.1), seeds: 1.9, ll: -693.1\n",
      "iteration.sib: INFO     number of tests today: 20\n",
      "iteration.sib: INFO     True  : (S,I,R): (878.0, 19.0, 7.0)\n",
      "iteration.sib: INFO     AUR_I : 0.503, prec100: 1, prec(1% of 902): 0.00, prec5%: 0.00\n",
      "iteration.sib: INFO     sym: 0, results test algo (S,I,R): (20,0,0), infected test random: 0/0\n",
      "iteration.sib: INFO     ...quarantining 0 guys -> got 0 infected, 18 free as birds (-1)\n"
     ]
    },
    {
     "name": "stdout",
     "output_type": "stream",
     "text": [
      "t: 384.00 | 1200.00 hrs (50 d)"
     ]
    },
    {
     "name": "stderr",
     "output_type": "stream",
     "text": [
      "iteration.sib: INFO     time:15\n"
     ]
    },
    {
     "name": "stdout",
     "output_type": "stream",
     "text": [
      "\n",
      "[Reached max time: 384h (16d)]\n",
      "All raw contacts 2272\n",
      "Contacts at midnight  116\n",
      "Contacts collected by coarse-graining  50\n",
      "Contacts in multiple days  0\n",
      "Coarse-grained contacts  2338\n",
      "Missing contacts  0\n",
      "Asymmetric contacts  0\n"
     ]
    },
    {
     "name": "stderr",
     "output_type": "stream",
     "text": [
      "iteration.sib: INFO     adding contacts in the interval [360, 384]\n",
      "iteration.sib: INFO     number of unique contacts: 2218\n"
     ]
    },
    {
     "name": "stdout",
     "output_type": "stream",
     "text": [
      "sib.iterate(damp=0):  2/20 1.962e-06/0.001    \n",
      "sib.iterate(damp=0.5):  0/20 1.601e-08/0.001    \n"
     ]
    },
    {
     "name": "stderr",
     "output_type": "stream",
     "text": [
      "iteration.sib: INFO     winBP: (S,I,R): (902.1, 1.7, 0.2), seeds: 1.9, ll: -699.8\n",
      "iteration.sib: INFO     number of tests today: 20\n",
      "iteration.sib: INFO     True  : (S,I,R): (875.0, 21.0, 8.0)\n",
      "iteration.sib: INFO     AUR_I : 0.549, prec100: 2, prec(1% of 900): 0.11, prec5%: 0.02\n",
      "iteration.sib: INFO     sym: 0, results test algo (S,I,R): (17,2,1), infected test random: 0/0\n",
      "iteration.sib: INFO     ...quarantining 2 guys -> got 2 infected, 18 free as birds (+0)\n"
     ]
    },
    {
     "name": "stdout",
     "output_type": "stream",
     "text": [
      "t: 408.00 | 1200.00 hrs (50 d)"
     ]
    },
    {
     "name": "stderr",
     "output_type": "stream",
     "text": [
      "iteration.sib: INFO     time:16\n"
     ]
    },
    {
     "name": "stdout",
     "output_type": "stream",
     "text": [
      "\n",
      "[Reached max time: 408h (17d)]\n",
      "All raw contacts 2370\n"
     ]
    },
    {
     "name": "stderr",
     "output_type": "stream",
     "text": [
      "iteration.sib: INFO     adding contacts in the interval [384, 408]\n",
      "iteration.sib: INFO     number of unique contacts: 2294\n"
     ]
    },
    {
     "name": "stdout",
     "output_type": "stream",
     "text": [
      "Contacts at midnight  142\n",
      "Contacts collected by coarse-graining  36\n",
      "Contacts in multiple days  0\n",
      "Coarse-grained contacts  2476\n",
      "Missing contacts  0\n",
      "Asymmetric contacts  0\n",
      "sib.iterate(damp=0):  4/20 1.019e-04/0.001    \n",
      "sib.iterate(damp=0.5):  0/20 5.735e-05/0.001    \r"
     ]
    },
    {
     "name": "stderr",
     "output_type": "stream",
     "text": [
      "iteration.sib: INFO     winBP: (S,I,R): (899.9, 3.5, 0.5), seeds: 2.6, ll: -720.9\n"
     ]
    },
    {
     "name": "stdout",
     "output_type": "stream",
     "text": [
      "\n"
     ]
    },
    {
     "name": "stderr",
     "output_type": "stream",
     "text": [
      "iteration.sib: INFO     number of tests today: 20\n",
      "iteration.sib: INFO     True  : (S,I,R): (875.0, 21.0, 8.0)\n",
      "iteration.sib: INFO     AUR_I : 0.546, prec100: 0, prec(1% of 894): 0.00, prec5%: 0.00\n",
      "iteration.sib: INFO     sym: 0, results test algo (S,I,R): (18,2,0), infected test random: 0/0\n",
      "iteration.sib: INFO     ...quarantining 5 guys -> got 4 infected, 14 free as birds (-4)\n"
     ]
    },
    {
     "name": "stdout",
     "output_type": "stream",
     "text": [
      "t: 432.00 | 1200.00 hrs (50 d)"
     ]
    },
    {
     "name": "stderr",
     "output_type": "stream",
     "text": [
      "iteration.sib: INFO     time:17\n"
     ]
    },
    {
     "name": "stdout",
     "output_type": "stream",
     "text": [
      "\n",
      "[Reached max time: 432h (18d)]\n",
      "All raw contacts 2572\n",
      "Contacts at midnight  150\n",
      "Contacts collected by coarse-graining  72\n",
      "Contacts in multiple days  0\n",
      "Coarse-grained contacts  2650\n",
      "Missing contacts  0\n",
      "Asymmetric contacts  0\n"
     ]
    },
    {
     "name": "stderr",
     "output_type": "stream",
     "text": [
      "iteration.sib: INFO     adding contacts in the interval [408, 432]\n",
      "iteration.sib: INFO     number of unique contacts: 2476\n"
     ]
    },
    {
     "name": "stdout",
     "output_type": "stream",
     "text": [
      "sib.iterate(damp=0):  5/20 1.166e-04/0.001    \n",
      "sib.iterate(damp=0.5):  0/20 9.043e-06/0.001    \n"
     ]
    },
    {
     "name": "stderr",
     "output_type": "stream",
     "text": [
      "iteration.sib: INFO     winBP: (S,I,R): (896.9, 5.8, 1.2), seeds: 4.1, ll: -744.2\n",
      "iteration.sib: INFO     number of tests today: 20\n",
      "iteration.sib: INFO     True  : (S,I,R): (875.0, 20.0, 9.0)\n",
      "iteration.sib: INFO     AUR_I : 0.615, prec100: 2, prec(1% of 894): 0.12, prec5%: 0.02\n",
      "iteration.sib: INFO     sym: 0, results test algo (S,I,R): (19,1,0), infected test random: 0/0\n",
      "iteration.sib: INFO     ...quarantining 0 guys -> got 0 infected, 14 free as birds (+0)\n"
     ]
    },
    {
     "name": "stdout",
     "output_type": "stream",
     "text": [
      "t: 456.00 | 1200.00 hrs (50 d)"
     ]
    },
    {
     "name": "stderr",
     "output_type": "stream",
     "text": [
      "iteration.sib: INFO     time:18\n"
     ]
    },
    {
     "name": "stdout",
     "output_type": "stream",
     "text": [
      "\n",
      "[Reached max time: 456h (19d)]\n"
     ]
    },
    {
     "name": "stderr",
     "output_type": "stream",
     "text": [
      "iteration.sib: INFO     adding contacts in the interval [432, 456]\n",
      "iteration.sib: INFO     number of unique contacts: 2560\n"
     ]
    },
    {
     "name": "stdout",
     "output_type": "stream",
     "text": [
      "All raw contacts 2684\n",
      "Contacts at midnight  160\n",
      "Contacts collected by coarse-graining  74\n",
      "Contacts in multiple days  0\n",
      "Coarse-grained contacts  2770\n",
      "Missing contacts  0\n",
      "Asymmetric contacts  0\n",
      "sib.iterate(damp=0):  2/20 9.172e-04/0.001    \n",
      "sib.iterate(damp=0.5):  0/20 7.799e-04/0.001    \n"
     ]
    },
    {
     "name": "stderr",
     "output_type": "stream",
     "text": [
      "iteration.sib: INFO     winBP: (S,I,R): (897.0, 5.0, 2.1), seeds: 4.0, ll: -751.0\n",
      "iteration.sib: INFO     number of tests today: 20\n",
      "iteration.sib: INFO     True  : (S,I,R): (872.0, 22.0, 10.0)\n",
      "iteration.sib: INFO     AUR_I : 0.518, prec100: 1, prec(1% of 893): 0.00, prec5%: 0.00\n",
      "iteration.sib: INFO     sym: 0, results test algo (S,I,R): (19,1,0), infected test random: 0/0\n",
      "iteration.sib: INFO     ...quarantining 1 guys -> got 1 infected, 15 free as birds (+1)\n"
     ]
    },
    {
     "name": "stdout",
     "output_type": "stream",
     "text": [
      "t: 480.00 | 1200.00 hrs (50 d)"
     ]
    },
    {
     "name": "stderr",
     "output_type": "stream",
     "text": [
      "iteration.sib: INFO     time:19\n"
     ]
    },
    {
     "name": "stdout",
     "output_type": "stream",
     "text": [
      "\n",
      "[Reached max time: 480h (20d)]\n"
     ]
    },
    {
     "name": "stderr",
     "output_type": "stream",
     "text": [
      "iteration.sib: INFO     adding contacts in the interval [456, 480]\n",
      "iteration.sib: INFO     number of unique contacts: 2098\n"
     ]
    },
    {
     "name": "stdout",
     "output_type": "stream",
     "text": [
      "All raw contacts 2194\n",
      "Contacts at midnight  148\n",
      "Contacts collected by coarse-graining  50\n",
      "Contacts in multiple days  0\n",
      "Coarse-grained contacts  2292\n",
      "Missing contacts  0\n",
      "Asymmetric contacts  0\n",
      "sib.iterate(damp=0):  3/20 1.297e-04/0.001    \n",
      "sib.iterate(damp=0.5):  0/20 1.488e-05/0.001    \n"
     ]
    },
    {
     "name": "stderr",
     "output_type": "stream",
     "text": [
      "iteration.sib: INFO     winBP: (S,I,R): (896.0, 5.3, 2.7), seeds: 4.1, ll: -762.8\n",
      "iteration.sib: INFO     number of tests today: 20\n",
      "iteration.sib: INFO     True  : (S,I,R): (872.0, 22.0, 10.0)\n",
      "iteration.sib: INFO     AUR_I : 0.558, prec100: 2, prec(1% of 893): 0.00, prec5%: 0.02\n",
      "iteration.sib: INFO     sym: 0, results test algo (S,I,R): (20,0,0), infected test random: 0/0\n",
      "iteration.sib: INFO     ...quarantining 0 guys -> got 0 infected, 15 free as birds (+0)\n"
     ]
    },
    {
     "name": "stdout",
     "output_type": "stream",
     "text": [
      "t: 504.00 | 1200.00 hrs (50 d)"
     ]
    },
    {
     "name": "stderr",
     "output_type": "stream",
     "text": [
      "iteration.sib: INFO     time:20\n"
     ]
    },
    {
     "name": "stdout",
     "output_type": "stream",
     "text": [
      "\n",
      "[Reached max time: 504h (21d)]\n"
     ]
    },
    {
     "name": "stderr",
     "output_type": "stream",
     "text": [
      "iteration.sib: INFO     adding contacts in the interval [480, 504]\n",
      "iteration.sib: INFO     number of unique contacts: 2622\n"
     ]
    },
    {
     "name": "stdout",
     "output_type": "stream",
     "text": [
      "All raw contacts 2726\n",
      "Contacts at midnight  104\n",
      "Contacts collected by coarse-graining  60\n",
      "Contacts in multiple days  0\n",
      "Coarse-grained contacts  2770\n",
      "Missing contacts  0\n",
      "Asymmetric contacts  0\n",
      "sib.iterate(damp=0):  2/20 5.182e-04/0.001    \n",
      "sib.iterate(damp=0.5):  0/20 5.460e-05/0.001    \n"
     ]
    },
    {
     "name": "stderr",
     "output_type": "stream",
     "text": [
      "iteration.sib: INFO     winBP: (S,I,R): (896.0, 4.7, 3.4), seeds: 4.1, ll: -769.6\n",
      "iteration.sib: INFO     number of tests today: 20\n",
      "iteration.sib: INFO     True  : (S,I,R): (870.0, 23.0, 11.0)\n",
      "iteration.sib: INFO     AUR_I : 0.579, prec100: 3, prec(1% of 893): 0.00, prec5%: 0.02\n",
      "iteration.sib: INFO     sym: 0, results test algo (S,I,R): (19,1,0), infected test random: 0/0\n",
      "iteration.sib: INFO     ...quarantining 0 guys -> got 0 infected, 15 free as birds (+0)\n"
     ]
    },
    {
     "name": "stdout",
     "output_type": "stream",
     "text": [
      "t: 528.00 | 1200.00 hrs (50 d)"
     ]
    },
    {
     "name": "stderr",
     "output_type": "stream",
     "text": [
      "iteration.sib: INFO     time:21\n"
     ]
    },
    {
     "name": "stdout",
     "output_type": "stream",
     "text": [
      "\n",
      "[Reached max time: 528h (22d)]\n"
     ]
    },
    {
     "name": "stderr",
     "output_type": "stream",
     "text": [
      "iteration.sib: INFO     adding contacts in the interval [504, 528]\n",
      "iteration.sib: INFO     number of unique contacts: 2528\n"
     ]
    },
    {
     "name": "stdout",
     "output_type": "stream",
     "text": [
      "All raw contacts 2646\n",
      "Contacts at midnight  158\n",
      "Contacts collected by coarse-graining  92\n",
      "Contacts in multiple days  0\n",
      "Coarse-grained contacts  2712\n",
      "Missing contacts  0\n",
      "Asymmetric contacts  0\n",
      "...adjust prob_i0 and prob_r0\n",
      "...drop first time and reset observations\n",
      "pI at intial time: 0.9999950027670901\n",
      "sib.iterate(damp=0):  2/20 2.080e-04/0.001    \n",
      "sib.iterate(damp=0.5):  0/20 2.045e-05/0.001    \r"
     ]
    },
    {
     "name": "stderr",
     "output_type": "stream",
     "text": [
      "iteration.sib: INFO     winBP: (S,I,R): (896.0, 4.2, 3.8), seeds: 4.1, ll: -1142.3\n",
      "iteration.sib: INFO     number of tests today: 20\n",
      "iteration.sib: INFO     True  : (S,I,R): (869.0, 20.0, 15.0)\n",
      "iteration.sib: INFO     AUR_I : 0.500, prec100: 0, prec(1% of 889): 0.00, prec5%: 0.00\n",
      "iteration.sib: INFO     sym: 0, results test algo (S,I,R): (19,1,0), infected test random: 0/0\n",
      "iteration.sib: INFO     ...quarantining 4 guys -> got 1 infected, 11 free as birds (-4)\n"
     ]
    },
    {
     "name": "stdout",
     "output_type": "stream",
     "text": [
      "\n",
      "t: 552.00 | 1200.00 hrs (50 d)"
     ]
    },
    {
     "name": "stderr",
     "output_type": "stream",
     "text": [
      "iteration.sib: INFO     time:22\n"
     ]
    },
    {
     "name": "stdout",
     "output_type": "stream",
     "text": [
      "\n",
      "[Reached max time: 552h (23d)]\n"
     ]
    },
    {
     "name": "stderr",
     "output_type": "stream",
     "text": [
      "iteration.sib: INFO     adding contacts in the interval [528, 552]\n",
      "iteration.sib: INFO     number of unique contacts: 2384\n"
     ]
    },
    {
     "name": "stdout",
     "output_type": "stream",
     "text": [
      "All raw contacts 2530\n",
      "Contacts at midnight  168\n",
      "Contacts collected by coarse-graining  70\n",
      "Contacts in multiple days  0\n",
      "Coarse-grained contacts  2628\n",
      "Missing contacts  0\n",
      "Asymmetric contacts  0\n",
      "...adjust prob_i0 and prob_r0\n",
      "...drop first time and reset observations\n",
      "pI at intial time: 1.0009399481054302\n",
      "sib.iterate(damp=0):  5/20 9.104e-05/0.001        \n",
      "sib.iterate(damp=0.5):  0/20 3.482e-05/0.001    \r"
     ]
    },
    {
     "name": "stderr",
     "output_type": "stream",
     "text": [
      "iteration.sib: INFO     winBP: (S,I,R): (894.9, 5.0, 4.1), seeds: 4.0, ll: -1157.2\n",
      "iteration.sib: INFO     number of tests today: 20\n",
      "iteration.sib: INFO     True  : (S,I,R): (864.0, 24.0, 16.0)\n",
      "iteration.sib: INFO     AUR_I : 0.495, prec100: 1, prec(1% of 886): 0.00, prec5%: 0.02\n",
      "iteration.sib: INFO     sym: 0, results test algo (S,I,R): (17,2,1), infected test random: 0/0\n",
      "iteration.sib: INFO     ...quarantining 3 guys -> got 3 infected, 10 free as birds (-1)\n"
     ]
    },
    {
     "name": "stdout",
     "output_type": "stream",
     "text": [
      "\n",
      "t: 576.00 | 1200.00 hrs (50 d)"
     ]
    },
    {
     "name": "stderr",
     "output_type": "stream",
     "text": [
      "iteration.sib: INFO     time:23\n",
      "iteration.sib: INFO     adding contacts in the interval [552, 576]\n",
      "iteration.sib: INFO     number of unique contacts: 2354\n"
     ]
    },
    {
     "name": "stdout",
     "output_type": "stream",
     "text": [
      "\n",
      "[Reached max time: 576h (24d)]\n",
      "All raw contacts 2572\n",
      "Contacts at midnight  122\n",
      "Contacts collected by coarse-graining  62\n",
      "Contacts in multiple days  0\n",
      "Coarse-grained contacts  2632\n",
      "Missing contacts  0\n",
      "Asymmetric contacts  0\n",
      "...adjust prob_i0 and prob_r0\n",
      "...drop first time and reset observations\n",
      "pI at intial time: 1.0021372839019067\n",
      "sib.iterate(damp=0):  6/20 7.943e-04/0.001    \n",
      "sib.iterate(damp=0.5):  0/20 1.749e-04/0.001    \r"
     ]
    },
    {
     "name": "stderr",
     "output_type": "stream",
     "text": [
      "iteration.sib: INFO     winBP: (S,I,R): (891.3, 7.3, 5.4), seeds: 5.3, ll: -1186.3\n",
      "iteration.sib: INFO     number of tests today: 20\n",
      "iteration.sib: INFO     True  : (S,I,R): (862.0, 26.0, 16.0)\n",
      "iteration.sib: INFO     AUR_I : 0.430, prec100: 1, prec(1% of 885): 0.00, prec5%: 0.00\n",
      "iteration.sib: INFO     sym: 0, results test algo (S,I,R): (19,0,1), infected test random: 0/0\n",
      "iteration.sib: INFO     ...quarantining 0 guys -> got 0 infected, 11 free as birds (+1)\n"
     ]
    },
    {
     "name": "stdout",
     "output_type": "stream",
     "text": [
      "\n",
      "t: 600.00 | 1200.00 hrs (50 d)"
     ]
    },
    {
     "name": "stderr",
     "output_type": "stream",
     "text": [
      "iteration.sib: INFO     time:24\n"
     ]
    },
    {
     "name": "stdout",
     "output_type": "stream",
     "text": [
      "\n",
      "[Reached max time: 600h (25d)]\n"
     ]
    },
    {
     "name": "stderr",
     "output_type": "stream",
     "text": [
      "iteration.sib: INFO     adding contacts in the interval [576, 600]\n",
      "iteration.sib: INFO     number of unique contacts: 2318\n"
     ]
    },
    {
     "name": "stdout",
     "output_type": "stream",
     "text": [
      "All raw contacts 2476\n",
      "Contacts at midnight  120\n",
      "Contacts collected by coarse-graining  42\n",
      "Contacts in multiple days  0\n",
      "Coarse-grained contacts  2554\n",
      "Missing contacts  0\n",
      "Asymmetric contacts  0\n",
      "...adjust prob_i0 and prob_r0\n",
      "...drop first time and reset observations\n",
      "pI at intial time: 1.0045940315800845\n",
      "sib.iterate(damp=0):  3/20 2.369e-04/0.001    \n",
      "sib.iterate(damp=0.5):  0/20 1.066e-04/0.001    \r"
     ]
    },
    {
     "name": "stderr",
     "output_type": "stream",
     "text": [
      "iteration.sib: INFO     winBP: (S,I,R): (891.4, 6.7, 5.9), seeds: 5.4, ll: -1193.0\n",
      "iteration.sib: INFO     number of tests today: 20\n",
      "iteration.sib: INFO     True  : (S,I,R): (862.0, 24.0, 18.0)\n",
      "iteration.sib: INFO     AUR_I : 0.435, prec100: 1, prec(1% of 884): 0.00, prec5%: 0.00\n",
      "iteration.sib: INFO     sym: 0, results test algo (S,I,R): (20,0,0), infected test random: 0/0\n",
      "iteration.sib: INFO     ...quarantining 0 guys -> got 0 infected, 10 free as birds (-1)\n"
     ]
    },
    {
     "name": "stdout",
     "output_type": "stream",
     "text": [
      "\n",
      "t: 624.00 | 1200.00 hrs (50 d)"
     ]
    },
    {
     "name": "stderr",
     "output_type": "stream",
     "text": [
      "iteration.sib: INFO     time:25\n",
      "iteration.sib: INFO     adding contacts in the interval [600, 624]\n",
      "iteration.sib: INFO     number of unique contacts: 2630\n"
     ]
    },
    {
     "name": "stdout",
     "output_type": "stream",
     "text": [
      "\n",
      "[Reached max time: 624h (26d)]\n",
      "All raw contacts 2758\n",
      "Contacts at midnight  144\n",
      "Contacts collected by coarse-graining  46\n",
      "Contacts in multiple days  0\n",
      "Coarse-grained contacts  2856\n",
      "Missing contacts  0\n",
      "Asymmetric contacts  0\n",
      "...adjust prob_i0 and prob_r0\n",
      "...drop first time and reset observations\n",
      "pI at intial time: 1.0091715765031095\n",
      "sib.iterate(damp=0):  2/20 3.011e-04/0.001        \n",
      "sib.iterate(damp=0.5):  0/20 1.770e-04/0.001    \r"
     ]
    },
    {
     "name": "stderr",
     "output_type": "stream",
     "text": [
      "iteration.sib: INFO     winBP: (S,I,R): (891.5, 6.3, 6.2), seeds: 5.4, ll: -1199.7\n",
      "iteration.sib: INFO     number of tests today: 20\n",
      "iteration.sib: INFO     True  : (S,I,R): (860.0, 26.0, 18.0)\n",
      "iteration.sib: INFO     AUR_I : 0.524, prec100: 2, prec(1% of 884): 0.00, prec5%: 0.00\n",
      "iteration.sib: INFO     sym: 0, results test algo (S,I,R): (20,0,0), infected test random: 0/0\n",
      "iteration.sib: INFO     ...quarantining 0 guys -> got 0 infected, 12 free as birds (+2)\n"
     ]
    },
    {
     "name": "stdout",
     "output_type": "stream",
     "text": [
      "\n",
      "t: 648.00 | 1200.00 hrs (50 d)"
     ]
    },
    {
     "name": "stderr",
     "output_type": "stream",
     "text": [
      "iteration.sib: INFO     time:26\n",
      "iteration.sib: INFO     adding contacts in the interval [624, 648]\n",
      "iteration.sib: INFO     number of unique contacts: 2320\n"
     ]
    },
    {
     "name": "stdout",
     "output_type": "stream",
     "text": [
      "\n",
      "[Reached max time: 648h (27d)]\n",
      "All raw contacts 2404\n",
      "Contacts at midnight  212\n",
      "Contacts collected by coarse-graining  24\n",
      "Contacts in multiple days  0\n",
      "Coarse-grained contacts  2592\n",
      "Missing contacts  0\n",
      "Asymmetric contacts  0\n",
      "...adjust prob_i0 and prob_r0\n",
      "...drop first time and reset observations\n",
      "pI at intial time: 1.0148047885523694\n",
      "sib.iterate(damp=0):  3/20 6.589e-04/0.001    \n",
      "sib.iterate(damp=0.5):  0/20 3.658e-04/0.001    \r"
     ]
    },
    {
     "name": "stderr",
     "output_type": "stream",
     "text": [
      "iteration.sib: INFO     winBP: (S,I,R): (891.4, 6.0, 6.6), seeds: 6.3, ll: -1200.8\n",
      "iteration.sib: INFO     number of tests today: 20\n",
      "iteration.sib: INFO     True  : (S,I,R): (857.0, 26.0, 21.0)\n",
      "iteration.sib: INFO     AUR_I : 0.524, prec100: 2, prec(1% of 884): 0.00, prec5%: 0.02\n",
      "iteration.sib: INFO     sym: 0, results test algo (S,I,R): (20,0,0), infected test random: 0/0\n",
      "iteration.sib: INFO     ...quarantining 0 guys -> got 0 infected, 14 free as birds (+2)\n"
     ]
    },
    {
     "name": "stdout",
     "output_type": "stream",
     "text": [
      "\n",
      "t: 672.00 | 1200.00 hrs (50 d)"
     ]
    },
    {
     "name": "stderr",
     "output_type": "stream",
     "text": [
      "iteration.sib: INFO     time:27\n"
     ]
    },
    {
     "name": "stdout",
     "output_type": "stream",
     "text": [
      "\n",
      "[Reached max time: 672h (28d)]\n"
     ]
    },
    {
     "name": "stderr",
     "output_type": "stream",
     "text": [
      "iteration.sib: INFO     adding contacts in the interval [648, 672]\n",
      "iteration.sib: INFO     number of unique contacts: 2280\n"
     ]
    },
    {
     "name": "stdout",
     "output_type": "stream",
     "text": [
      "All raw contacts 2412\n",
      "Contacts at midnight  204\n",
      "Contacts collected by coarse-graining  52\n",
      "Contacts in multiple days  0\n",
      "Coarse-grained contacts  2564\n",
      "Missing contacts  0\n",
      "Asymmetric contacts  0\n",
      "...adjust prob_i0 and prob_r0\n",
      "...drop first time and reset observations\n",
      "pI at intial time: 1.0047927624526762\n",
      "sib.iterate(damp=0):  5/20 4.626e-04/0.001        \n",
      "sib.iterate(damp=0.5):  0/20 1.523e-04/0.001    \r"
     ]
    },
    {
     "name": "stderr",
     "output_type": "stream",
     "text": [
      "iteration.sib: INFO     winBP: (S,I,R): (892.5, 5.8, 5.7), seeds: 5.2, ll: -1194.6\n",
      "iteration.sib: INFO     number of tests today: 20\n",
      "iteration.sib: INFO     True  : (S,I,R): (857.0, 26.0, 21.0)\n"
     ]
    },
    {
     "name": "stdout",
     "output_type": "stream",
     "text": [
      "\n"
     ]
    },
    {
     "name": "stderr",
     "output_type": "stream",
     "text": [
      "iteration.sib: INFO     AUR_I : 0.531, prec100: 1, prec(1% of 882): 0.00, prec5%: 0.02\n",
      "iteration.sib: INFO     sym: 0, results test algo (S,I,R): (17,2,1), infected test random: 0/0\n",
      "iteration.sib: INFO     ...quarantining 2 guys -> got 2 infected, 12 free as birds (-2)\n"
     ]
    },
    {
     "name": "stdout",
     "output_type": "stream",
     "text": [
      "t: 696.00 | 1200.00 hrs (50 d)"
     ]
    },
    {
     "name": "stderr",
     "output_type": "stream",
     "text": [
      "iteration.sib: INFO     time:28\n",
      "iteration.sib: INFO     adding contacts in the interval [672, 696]\n",
      "iteration.sib: INFO     number of unique contacts: 2462\n"
     ]
    },
    {
     "name": "stdout",
     "output_type": "stream",
     "text": [
      "\n",
      "[Reached max time: 696h (29d)]\n",
      "All raw contacts 2578\n",
      "Contacts at midnight  166\n",
      "Contacts collected by coarse-graining  54\n",
      "Contacts in multiple days  0\n",
      "Coarse-grained contacts  2690\n",
      "Missing contacts  0\n",
      "Asymmetric contacts  0\n",
      "...adjust prob_i0 and prob_r0\n",
      "...drop first time and reset observations\n",
      "pI at intial time: 2.0830538816484414\n",
      "sib.iterate(damp=0):  4/20 6.110e-04/0.001    \n",
      "sib.iterate(damp=0.5):  0/20 3.842e-04/0.001    \r"
     ]
    },
    {
     "name": "stderr",
     "output_type": "stream",
     "text": [
      "iteration.sib: INFO     winBP: (S,I,R): (890.9, 6.2, 7.0), seeds: 6.2, ll: -1198.0\n",
      "iteration.sib: INFO     number of tests today: 20\n"
     ]
    },
    {
     "name": "stdout",
     "output_type": "stream",
     "text": [
      "\n"
     ]
    },
    {
     "name": "stderr",
     "output_type": "stream",
     "text": [
      "iteration.sib: INFO     True  : (S,I,R): (857.0, 26.0, 21.0)\n",
      "iteration.sib: INFO     AUR_I : 0.570, prec100: 1, prec(1% of 881): 0.00, prec5%: 0.00\n",
      "iteration.sib: INFO     sym: 0, results test algo (S,I,R): (20,0,0), infected test random: 0/0\n",
      "iteration.sib: INFO     ...quarantining 0 guys -> got 0 infected, 12 free as birds (+0)\n"
     ]
    },
    {
     "name": "stdout",
     "output_type": "stream",
     "text": [
      "t: 720.00 | 1200.00 hrs (50 d)"
     ]
    },
    {
     "name": "stderr",
     "output_type": "stream",
     "text": [
      "iteration.sib: INFO     time:29\n",
      "iteration.sib: INFO     adding contacts in the interval [696, 720]\n",
      "iteration.sib: INFO     number of unique contacts: 2056\n"
     ]
    },
    {
     "name": "stdout",
     "output_type": "stream",
     "text": [
      "\n",
      "[Reached max time: 720h (30d)]\n",
      "All raw contacts 2230\n",
      "Contacts at midnight  146\n",
      "Contacts collected by coarse-graining  82\n",
      "Contacts in multiple days  0\n",
      "Coarse-grained contacts  2294\n",
      "Missing contacts  0\n",
      "Asymmetric contacts  0\n",
      "...adjust prob_i0 and prob_r0\n",
      "...drop first time and reset observations\n",
      "pI at intial time: 2.0229907842600903\n",
      "sib.iterate(damp=0):  4/20 1.357e-04/0.001        \n",
      "sib.iterate(damp=0.5):  0/20 1.927e-05/0.001    \r"
     ]
    },
    {
     "name": "stderr",
     "output_type": "stream",
     "text": [
      "iteration.sib: INFO     winBP: (S,I,R): (891.0, 5.6, 7.4), seeds: 6.3, ll: -1198.8\n",
      "iteration.sib: INFO     number of tests today: 20\n",
      "iteration.sib: INFO     True  : (S,I,R): (857.0, 26.0, 21.0)\n",
      "iteration.sib: INFO     AUR_I : 0.552, prec100: 1, prec(1% of 881): 0.00, prec5%: 0.00\n",
      "iteration.sib: INFO     sym: 0, results test algo (S,I,R): (20,0,0), infected test random: 0/0\n",
      "iteration.sib: INFO     ...quarantining 0 guys -> got 0 infected, 12 free as birds (+0)\n"
     ]
    },
    {
     "name": "stdout",
     "output_type": "stream",
     "text": [
      "\n",
      "t: 744.00 | 1200.00 hrs (50 d)"
     ]
    },
    {
     "name": "stderr",
     "output_type": "stream",
     "text": [
      "iteration.sib: INFO     time:30\n",
      "iteration.sib: INFO     adding contacts in the interval [720, 744]\n"
     ]
    },
    {
     "name": "stdout",
     "output_type": "stream",
     "text": [
      "\n",
      "[Reached max time: 744h (31d)]\n",
      "All raw contacts 2490\n",
      "Contacts at midnight  136\n",
      "Contacts collected by coarse-graining  32\n",
      "Contacts in multiple days  0\n",
      "Coarse-grained contacts  2594\n",
      "Missing contacts  0\n",
      "Asymmetric contacts  0\n"
     ]
    },
    {
     "name": "stderr",
     "output_type": "stream",
     "text": [
      "iteration.sib: INFO     number of unique contacts: 2374\n"
     ]
    },
    {
     "name": "stdout",
     "output_type": "stream",
     "text": [
      "...adjust prob_i0 and prob_r0\n",
      "...drop first time and reset observations\n",
      "pI at intial time: 1.997277871357247\n",
      "sib.iterate(damp=0):  3/20 8.839e-04/0.001    \n",
      "sib.iterate(damp=0.5):  0/20 4.913e-04/0.001    \r"
     ]
    },
    {
     "name": "stderr",
     "output_type": "stream",
     "text": [
      "iteration.sib: INFO     winBP: (S,I,R): (891.0, 5.1, 7.9), seeds: 6.5, ll: -1200.2\n",
      "iteration.sib: INFO     number of tests today: 20\n",
      "iteration.sib: INFO     True  : (S,I,R): (857.0, 26.0, 21.0)\n",
      "iteration.sib: INFO     AUR_I : 0.533, prec100: 1, prec(1% of 881): 0.00, prec5%: 0.00\n",
      "iteration.sib: INFO     sym: 0, results test algo (S,I,R): (20,0,0), infected test random: 0/0\n",
      "iteration.sib: INFO     ...quarantining 0 guys -> got 0 infected, 12 free as birds (+0)\n"
     ]
    },
    {
     "name": "stdout",
     "output_type": "stream",
     "text": [
      "\n",
      "t: 768.00 | 1200.00 hrs (50 d)"
     ]
    },
    {
     "name": "stderr",
     "output_type": "stream",
     "text": [
      "iteration.sib: INFO     time:31\n",
      "iteration.sib: INFO     adding contacts in the interval [744, 768]\n",
      "iteration.sib: INFO     number of unique contacts: 2294\n"
     ]
    },
    {
     "name": "stdout",
     "output_type": "stream",
     "text": [
      "\n",
      "[Reached max time: 768h (32d)]\n",
      "All raw contacts 2436\n",
      "Contacts at midnight  156\n",
      "Contacts collected by coarse-graining  76\n",
      "Contacts in multiple days  0\n",
      "Coarse-grained contacts  2516\n",
      "Missing contacts  0\n",
      "Asymmetric contacts  0\n",
      "...adjust prob_i0 and prob_r0\n",
      "...drop first time and reset observations\n",
      "pI at intial time: 1.983978758331106\n",
      "sib.iterate(damp=0):  3/20 1.089e-04/0.001    \n",
      "sib.iterate(damp=0.5):  0/20 2.359e-05/0.001    \r"
     ]
    },
    {
     "name": "stderr",
     "output_type": "stream",
     "text": [
      "iteration.sib: INFO     winBP: (S,I,R): (891.2, 4.3, 8.4), seeds: 6.5, ll: -1200.4\n",
      "iteration.sib: INFO     number of tests today: 20\n",
      "iteration.sib: INFO     True  : (S,I,R): (856.0, 22.0, 26.0)\n",
      "iteration.sib: INFO     AUR_I : 0.517, prec100: 1, prec(1% of 881): 0.00, prec5%: 0.00\n",
      "iteration.sib: INFO     sym: 0, results test algo (S,I,R): (20,0,0), infected test random: 0/0\n",
      "iteration.sib: INFO     ...quarantining 0 guys -> got 0 infected, 12 free as birds (+0)\n"
     ]
    },
    {
     "name": "stdout",
     "output_type": "stream",
     "text": [
      "\n",
      "t: 792.00 | 1200.00 hrs (50 d)"
     ]
    },
    {
     "name": "stderr",
     "output_type": "stream",
     "text": [
      "iteration.sib: INFO     time:32\n",
      "iteration.sib: INFO     adding contacts in the interval [768, 792]\n",
      "iteration.sib: INFO     number of unique contacts: 2260\n"
     ]
    },
    {
     "name": "stdout",
     "output_type": "stream",
     "text": [
      "\n",
      "[Reached max time: 792h (33d)]\n",
      "All raw contacts 2378\n",
      "Contacts at midnight  178\n",
      "Contacts collected by coarse-graining  54\n",
      "Contacts in multiple days  0\n",
      "Coarse-grained contacts  2502\n",
      "Missing contacts  0\n",
      "Asymmetric contacts  0\n",
      "...adjust prob_i0 and prob_r0\n",
      "...drop first time and reset observations\n",
      "pI at intial time: 1.9707991478733928\n",
      "sib.iterate(damp=0):  7/20 9.122e-04/0.001        \n",
      "sib.iterate(damp=0.5):  0/20 5.878e-04/0.001    \r"
     ]
    },
    {
     "name": "stderr",
     "output_type": "stream",
     "text": [
      "iteration.sib: INFO     winBP: (S,I,R): (891.4, 3.5, 9.2), seeds: 7.1, ll: -1201.6\n",
      "iteration.sib: INFO     number of tests today: 20\n"
     ]
    },
    {
     "name": "stdout",
     "output_type": "stream",
     "text": [
      "\n"
     ]
    },
    {
     "name": "stderr",
     "output_type": "stream",
     "text": [
      "iteration.sib: INFO     True  : (S,I,R): (856.0, 21.0, 27.0)\n",
      "iteration.sib: INFO     AUR_I : 0.485, prec100: 1, prec(1% of 881): 0.00, prec5%: 0.02\n",
      "iteration.sib: INFO     sym: 0, results test algo (S,I,R): (20,0,0), infected test random: 0/0\n",
      "iteration.sib: INFO     ...quarantining 0 guys -> got 0 infected, 11 free as birds (-1)\n"
     ]
    },
    {
     "name": "stdout",
     "output_type": "stream",
     "text": [
      "t: 816.00 | 1200.00 hrs (50 d)"
     ]
    },
    {
     "name": "stderr",
     "output_type": "stream",
     "text": [
      "iteration.sib: INFO     time:33\n",
      "iteration.sib: INFO     adding contacts in the interval [792, 816]\n",
      "iteration.sib: INFO     number of unique contacts: 2182\n"
     ]
    },
    {
     "name": "stdout",
     "output_type": "stream",
     "text": [
      "\n",
      "[Reached max time: 816h (34d)]\n",
      "All raw contacts 2312\n",
      "Contacts at midnight  178\n",
      "Contacts collected by coarse-graining  34\n",
      "Contacts in multiple days  0\n",
      "Coarse-grained contacts  2456\n",
      "Missing contacts  0\n",
      "Asymmetric contacts  0\n",
      "...adjust prob_i0 and prob_r0\n",
      "...drop first time and reset observations\n",
      "pI at intial time: 1.9537917966430458\n",
      "sib.iterate(damp=0):  5/20 8.060e-04/0.001    \n",
      "sib.iterate(damp=0.5):  0/20 7.504e-04/0.001    \n"
     ]
    },
    {
     "name": "stderr",
     "output_type": "stream",
     "text": [
      "iteration.sib: INFO     winBP: (S,I,R): (891.4, 3.0, 9.6), seeds: 7.1, ll: -1202.4\n",
      "iteration.sib: INFO     number of tests today: 20\n",
      "iteration.sib: INFO     True  : (S,I,R): (853.0, 23.0, 28.0)\n",
      "iteration.sib: INFO     AUR_I : 0.488, prec100: 2, prec(1% of 881): 0.12, prec5%: 0.05\n",
      "iteration.sib: INFO     sym: 0, results test algo (S,I,R): (18,1,1), infected test random: 0/0\n",
      "iteration.sib: INFO     ...quarantining 0 guys -> got 0 infected, 14 free as birds (+3)\n"
     ]
    },
    {
     "name": "stdout",
     "output_type": "stream",
     "text": [
      "t: 840.00 | 1200.00 hrs (50 d)"
     ]
    },
    {
     "name": "stderr",
     "output_type": "stream",
     "text": [
      "iteration.sib: INFO     time:34\n"
     ]
    },
    {
     "name": "stdout",
     "output_type": "stream",
     "text": [
      "\n",
      "[Reached max time: 840h (35d)]\n",
      "All raw contacts 2742\n",
      "Contacts at midnight  136\n",
      "Contacts collected by coarse-graining  48\n",
      "Contacts in multiple days  0\n"
     ]
    },
    {
     "name": "stderr",
     "output_type": "stream",
     "text": [
      "iteration.sib: INFO     adding contacts in the interval [816, 840]\n",
      "iteration.sib: INFO     number of unique contacts: 2558\n"
     ]
    },
    {
     "name": "stdout",
     "output_type": "stream",
     "text": [
      "Coarse-grained contacts  2830\n",
      "Missing contacts  0\n",
      "Asymmetric contacts  0\n",
      "...adjust prob_i0 and prob_r0\n",
      "...drop first time and reset observations\n",
      "pI at intial time: 1.919523536316361\n",
      "sib.iterate(damp=0):  5/20 3.124e-04/0.001    \n",
      "sib.iterate(damp=0.5):  0/20 2.377e-04/0.001    \n"
     ]
    },
    {
     "name": "stderr",
     "output_type": "stream",
     "text": [
      "iteration.sib: INFO     winBP: (S,I,R): (891.5, 2.2, 10.3), seeds: 7.4, ll: -1203.6\n",
      "iteration.sib: INFO     number of tests today: 20\n",
      "iteration.sib: INFO     True  : (S,I,R): (847.0, 28.0, 29.0)\n",
      "iteration.sib: INFO     AUR_I : 0.450, prec100: 2, prec(1% of 880): 0.00, prec5%: 0.02\n",
      "iteration.sib: INFO     sym: 0, results test algo (S,I,R): (20,0,0), infected test random: 0/0\n",
      "iteration.sib: INFO     ...quarantining 0 guys -> got 0 infected, 19 free as birds (+5)\n"
     ]
    },
    {
     "name": "stdout",
     "output_type": "stream",
     "text": [
      "t: 864.00 | 1200.00 hrs (50 d)"
     ]
    },
    {
     "name": "stderr",
     "output_type": "stream",
     "text": [
      "iteration.sib: INFO     time:35\n",
      "iteration.sib: INFO     adding contacts in the interval [840, 864]\n"
     ]
    },
    {
     "name": "stdout",
     "output_type": "stream",
     "text": [
      "\n",
      "[Reached max time: 864h (36d)]\n",
      "All raw contacts 2686\n",
      "Contacts at midnight  126\n",
      "Contacts collected by coarse-graining  78\n",
      "Contacts in multiple days  0\n",
      "Coarse-grained contacts  2734\n",
      "Missing contacts  0\n",
      "Asymmetric contacts  0\n"
     ]
    },
    {
     "name": "stderr",
     "output_type": "stream",
     "text": [
      "iteration.sib: INFO     number of unique contacts: 2532\n"
     ]
    },
    {
     "name": "stdout",
     "output_type": "stream",
     "text": [
      "...adjust prob_i0 and prob_r0\n",
      "...drop first time and reset observations\n",
      "pI at intial time: 1.8430580340068838\n",
      "sib.iterate(damp=0):  3/20 1.252e-04/0.001    \n",
      "sib.iterate(damp=0.5):  0/20 6.684e-05/0.001    \n"
     ]
    },
    {
     "name": "stderr",
     "output_type": "stream",
     "text": [
      "iteration.sib: INFO     winBP: (S,I,R): (891.3, 1.3, 11.3), seeds: 10.1, ll: -1211.3\n",
      "iteration.sib: INFO     number of tests today: 20\n",
      "iteration.sib: INFO     True  : (S,I,R): (845.0, 29.0, 30.0)\n",
      "iteration.sib: INFO     AUR_I : 0.465, prec100: 2, prec(1% of 880): 0.12, prec5%: 0.02\n",
      "iteration.sib: INFO     sym: 0, results test algo (S,I,R): (19,1,0), infected test random: 0/0\n",
      "iteration.sib: INFO     ...quarantining 0 guys -> got 0 infected, 21 free as birds (+2)\n"
     ]
    },
    {
     "name": "stdout",
     "output_type": "stream",
     "text": [
      "t: 888.00 | 1200.00 hrs (50 d)"
     ]
    },
    {
     "name": "stderr",
     "output_type": "stream",
     "text": [
      "iteration.sib: INFO     time:36\n"
     ]
    },
    {
     "name": "stdout",
     "output_type": "stream",
     "text": [
      "\n",
      "[Reached max time: 888h (37d)]\n",
      "All raw contacts 2544\n",
      "Contacts at midnight  146\n",
      "Contacts collected by coarse-graining  34\n",
      "Contacts in multiple days  0\n",
      "Coarse-grained contacts  2656\n",
      "Missing contacts  0\n",
      "Asymmetric contacts  0\n"
     ]
    },
    {
     "name": "stderr",
     "output_type": "stream",
     "text": [
      "iteration.sib: INFO     adding contacts in the interval [864, 888]\n",
      "iteration.sib: INFO     number of unique contacts: 2406\n"
     ]
    },
    {
     "name": "stdout",
     "output_type": "stream",
     "text": [
      "...adjust prob_i0 and prob_r0\n",
      "...drop first time and reset observations\n",
      "pI at intial time: 1.6969606814751297\n",
      "sib.iterate(damp=0):  2/20 1.900e-04/0.001    \n",
      "sib.iterate(damp=0.5):  0/20 9.691e-06/0.001    \n"
     ]
    },
    {
     "name": "stderr",
     "output_type": "stream",
     "text": [
      "iteration.sib: INFO     winBP: (S,I,R): (893.6, 0.8, 9.5), seeds: 9.0, ll: -1199.5\n",
      "iteration.sib: INFO     number of tests today: 20\n",
      "iteration.sib: INFO     True  : (S,I,R): (840.0, 33.0, 31.0)\n",
      "iteration.sib: INFO     AUR_I : 0.473, prec100: 1, prec(1% of 876): 0.00, prec5%: 0.02\n",
      "iteration.sib: INFO     sym: 0, results test algo (S,I,R): (19,1,0), infected test random: 0/0\n",
      "iteration.sib: INFO     ...quarantining 4 guys -> got 4 infected, 22 free as birds (+1)\n"
     ]
    },
    {
     "name": "stdout",
     "output_type": "stream",
     "text": [
      "t: 912.00 | 1200.00 hrs (50 d)"
     ]
    },
    {
     "name": "stderr",
     "output_type": "stream",
     "text": [
      "iteration.sib: INFO     time:37\n"
     ]
    },
    {
     "name": "stdout",
     "output_type": "stream",
     "text": [
      "\n",
      "[Reached max time: 912h (38d)]\n",
      "All raw contacts 2672"
     ]
    },
    {
     "name": "stderr",
     "output_type": "stream",
     "text": [
      "iteration.sib: INFO     adding contacts in the interval [888, 912]\n",
      "iteration.sib: INFO     number of unique contacts: 2500\n"
     ]
    },
    {
     "name": "stdout",
     "output_type": "stream",
     "text": [
      "\n",
      "Contacts at midnight  118\n",
      "Contacts collected by coarse-graining  58\n",
      "Contacts in multiple days  0\n",
      "Coarse-grained contacts  2732\n",
      "Missing contacts  0\n",
      "Asymmetric contacts  0\n",
      "...adjust prob_i0 and prob_r0\n",
      "...drop first time and reset observations\n",
      "pI at intial time: 3.539115597125322\n",
      "sib.iterate(damp=0):  7/20 3.878e-04/0.001        \n",
      "sib.iterate(damp=0.5):  0/20 1.408e-04/0.001    \n"
     ]
    },
    {
     "name": "stderr",
     "output_type": "stream",
     "text": [
      "iteration.sib: INFO     winBP: (S,I,R): (893.2, 2.7, 8.1), seeds: 7.3, ll: -1197.5\n",
      "iteration.sib: INFO     number of tests today: 20\n",
      "iteration.sib: INFO     True  : (S,I,R): (832.0, 40.0, 32.0)\n",
      "iteration.sib: INFO     AUR_I : 0.496, prec100: 4, prec(1% of 876): 0.00, prec5%: 0.02\n",
      "iteration.sib: INFO     sym: 0, results test algo (S,I,R): (19,0,1), infected test random: 0/0\n",
      "iteration.sib: INFO     ...quarantining 0 guys -> got 0 infected, 29 free as birds (+7)\n"
     ]
    },
    {
     "name": "stdout",
     "output_type": "stream",
     "text": [
      "t: 936.00 | 1200.00 hrs (50 d)"
     ]
    },
    {
     "name": "stderr",
     "output_type": "stream",
     "text": [
      "iteration.sib: INFO     time:38\n"
     ]
    },
    {
     "name": "stdout",
     "output_type": "stream",
     "text": [
      "\n",
      "[Reached max time: 936h (39d)]\n",
      "All raw contacts 1944\n",
      "Contacts at midnight  78\n",
      "Contacts collected by coarse-graining  42\n",
      "Contacts in multiple days  0\n",
      "Coarse-grained contacts  1980\n",
      "Missing contacts  0\n",
      "Asymmetric contacts  0\n"
     ]
    },
    {
     "name": "stderr",
     "output_type": "stream",
     "text": [
      "iteration.sib: INFO     adding contacts in the interval [912, 936]\n",
      "iteration.sib: INFO     number of unique contacts: 1850\n"
     ]
    },
    {
     "name": "stdout",
     "output_type": "stream",
     "text": [
      "...adjust prob_i0 and prob_r0\n",
      "...drop first time and reset observations\n",
      "pI at intial time: 5.837341953783141\n",
      "sib.iterate(damp=0):  3/20 8.963e-04/0.001    \n",
      "sib.iterate(damp=0.5):  0/20 3.700e-04/0.001    \n"
     ]
    },
    {
     "name": "stderr",
     "output_type": "stream",
     "text": [
      "iteration.sib: INFO     winBP: (S,I,R): (892.4, 2.2, 9.4), seeds: 8.3, ll: -1193.5\n",
      "iteration.sib: INFO     number of tests today: 20\n",
      "iteration.sib: INFO     True  : (S,I,R): (830.0, 39.0, 35.0)\n",
      "iteration.sib: INFO     AUR_I : 0.467, prec100: 3, prec(1% of 875): 0.00, prec5%: 0.02\n",
      "iteration.sib: INFO     sym: 0, results test algo (S,I,R): (20,0,0), infected test random: 0/0\n",
      "iteration.sib: INFO     ...quarantining 0 guys -> got 0 infected, 29 free as birds (+0)\n"
     ]
    },
    {
     "name": "stdout",
     "output_type": "stream",
     "text": [
      "t: 960.00 | 1200.00 hrs (50 d)"
     ]
    },
    {
     "name": "stderr",
     "output_type": "stream",
     "text": [
      "iteration.sib: INFO     time:39\n",
      "iteration.sib: INFO     adding contacts in the interval [936, 960]\n"
     ]
    },
    {
     "name": "stdout",
     "output_type": "stream",
     "text": [
      "\n",
      "[Reached max time: 960h (40d)]\n",
      "All raw contacts 2490\n",
      "Contacts at midnight  130\n",
      "Contacts collected by coarse-graining  52\n",
      "Contacts in multiple days  0\n",
      "Coarse-grained contacts  2568\n",
      "Missing contacts  0\n",
      "Asymmetric contacts  0\n"
     ]
    },
    {
     "name": "stderr",
     "output_type": "stream",
     "text": [
      "iteration.sib: INFO     number of unique contacts: 2284\n"
     ]
    },
    {
     "name": "stdout",
     "output_type": "stream",
     "text": [
      "...adjust prob_i0 and prob_r0\n",
      "...drop first time and reset observations\n",
      "pI at intial time: 4.97630936456206\n",
      "sib.iterate(damp=0):  4/20 4.590e-04/0.001    \n",
      "sib.iterate(damp=0.5):  0/20 4.590e-05/0.001    \n"
     ]
    },
    {
     "name": "stderr",
     "output_type": "stream",
     "text": [
      "iteration.sib: INFO     winBP: (S,I,R): (894.1, 2.2, 7.7), seeds: 7.3, ll: -1193.4\n",
      "iteration.sib: INFO     number of tests today: 20\n",
      "iteration.sib: INFO     True  : (S,I,R): (830.0, 37.0, 37.0)\n",
      "iteration.sib: INFO     AUR_I : 0.453, prec100: 3, prec(1% of 875): 0.00, prec5%: 0.02\n",
      "iteration.sib: INFO     sym: 0, results test algo (S,I,R): (19,0,1), infected test random: 0/0\n",
      "iteration.sib: INFO     ...quarantining 0 guys -> got 0 infected, 29 free as birds (+0)\n"
     ]
    },
    {
     "name": "stdout",
     "output_type": "stream",
     "text": [
      "t: 984.00 | 1200.00 hrs (50 d)"
     ]
    },
    {
     "name": "stderr",
     "output_type": "stream",
     "text": [
      "iteration.sib: INFO     time:40\n"
     ]
    },
    {
     "name": "stdout",
     "output_type": "stream",
     "text": [
      "\n",
      "[Reached max time: 984h (41d)]\n"
     ]
    },
    {
     "name": "stderr",
     "output_type": "stream",
     "text": [
      "iteration.sib: INFO     adding contacts in the interval [960, 984]\n"
     ]
    },
    {
     "name": "stdout",
     "output_type": "stream",
     "text": [
      "All raw contacts 2426\n",
      "Contacts at midnight  216\n",
      "Contacts collected by coarse-graining  26\n",
      "Contacts in multiple days  0\n",
      "Coarse-grained contacts  2616\n",
      "Missing contacts  0\n",
      "Asymmetric contacts  0\n"
     ]
    },
    {
     "name": "stderr",
     "output_type": "stream",
     "text": [
      "iteration.sib: INFO     number of unique contacts: 2278\n"
     ]
    },
    {
     "name": "stdout",
     "output_type": "stream",
     "text": [
      "...adjust prob_i0 and prob_r0\n",
      "...drop first time and reset observations\n",
      "pI at intial time: 5.302969397415123\n",
      "sib.iterate(damp=0):  3/20 4.247e-05/0.001    \n",
      "sib.iterate(damp=0.5):  0/20 5.066e-06/0.001    \n"
     ]
    },
    {
     "name": "stderr",
     "output_type": "stream",
     "text": [
      "iteration.sib: INFO     winBP: (S,I,R): (894.0, 2.1, 7.9), seeds: 7.4, ll: -1193.5\n",
      "iteration.sib: INFO     number of tests today: 20\n",
      "iteration.sib: INFO     True  : (S,I,R): (823.0, 42.0, 39.0)\n",
      "iteration.sib: INFO     AUR_I : 0.445, prec100: 1, prec(1% of 872): 0.00, prec5%: 0.02\n",
      "iteration.sib: INFO     sym: 0, results test algo (S,I,R): (19,1,0), infected test random: 0/0\n",
      "iteration.sib: INFO     ...quarantining 2 guys -> got 2 infected, 34 free as birds (+5)\n"
     ]
    },
    {
     "name": "stdout",
     "output_type": "stream",
     "text": [
      "t: 1008.00 | 1200.00 hrs (50 d)"
     ]
    },
    {
     "name": "stderr",
     "output_type": "stream",
     "text": [
      "iteration.sib: INFO     time:41\n"
     ]
    },
    {
     "name": "stdout",
     "output_type": "stream",
     "text": [
      "\n",
      "[Reached max time: 1008h (42d)]\n"
     ]
    },
    {
     "name": "stderr",
     "output_type": "stream",
     "text": [
      "iteration.sib: INFO     adding contacts in the interval [984, 1008]\n",
      "iteration.sib: INFO     number of unique contacts: 2518\n"
     ]
    },
    {
     "name": "stdout",
     "output_type": "stream",
     "text": [
      "All raw contacts 2648\n",
      "Contacts at midnight  212\n",
      "Contacts collected by coarse-graining  34\n",
      "Contacts in multiple days  0\n",
      "Coarse-grained contacts  2826\n",
      "Missing contacts  0\n",
      "Asymmetric contacts  0\n",
      "...adjust prob_i0 and prob_r0\n",
      "...drop first time and reset observations\n",
      "pI at intial time: 4.653013928979746\n",
      "sib.iterate(damp=0):  4/20 3.269e-04/0.001    \n",
      "sib.iterate(damp=0.5):  0/20 3.450e-05/0.001    \n"
     ]
    },
    {
     "name": "stderr",
     "output_type": "stream",
     "text": [
      "iteration.sib: INFO     winBP: (S,I,R): (892.8, 2.7, 8.5), seeds: 7.6, ll: -1202.1\n",
      "iteration.sib: INFO     number of tests today: 20\n",
      "iteration.sib: INFO     True  : (S,I,R): (819.0, 45.0, 40.0)\n",
      "iteration.sib: INFO     AUR_I : 0.560, prec100: 3, prec(1% of 868): 0.00, prec5%: 0.02\n",
      "iteration.sib: INFO     sym: 0, results test algo (S,I,R): (17,2,1), infected test random: 0/0\n",
      "iteration.sib: INFO     ...quarantining 4 guys -> got 4 infected, 34 free as birds (+0)\n"
     ]
    },
    {
     "name": "stdout",
     "output_type": "stream",
     "text": [
      "t: 1032.00 | 1200.00 hrs (50 d)"
     ]
    },
    {
     "name": "stderr",
     "output_type": "stream",
     "text": [
      "iteration.sib: INFO     time:42\n",
      "iteration.sib: INFO     adding contacts in the interval [1008, 1032]\n",
      "iteration.sib: INFO     number of unique contacts: 2548\n"
     ]
    },
    {
     "name": "stdout",
     "output_type": "stream",
     "text": [
      "\n",
      "[Reached max time: 1032h (43d)]\n",
      "All raw contacts 2850\n",
      "Contacts at midnight  138\n",
      "Contacts collected by coarse-graining  56\n",
      "Contacts in multiple days  0\n",
      "Coarse-grained contacts  2932\n",
      "Missing contacts  0\n",
      "Asymmetric contacts  0\n",
      "...adjust prob_i0 and prob_r0\n",
      "...drop first time and reset observations\n",
      "pI at intial time: 4.1772669485779215\n",
      "sib.iterate(damp=0):  8/20 6.173e-04/0.001        \n",
      "sib.iterate(damp=0.5):  0/20 2.823e-04/0.001    \n"
     ]
    },
    {
     "name": "stderr",
     "output_type": "stream",
     "text": [
      "iteration.sib: INFO     winBP: (S,I,R): (889.7, 7.0, 7.3), seeds: 6.2, ll: -1233.8\n",
      "iteration.sib: INFO     number of tests today: 20\n",
      "iteration.sib: INFO     True  : (S,I,R): (814.0, 47.0, 43.0)\n",
      "iteration.sib: INFO     AUR_I : 0.517, prec100: 4, prec(1% of 862): 0.00, prec5%: 0.00\n",
      "iteration.sib: INFO     sym: 0, results test algo (S,I,R): (18,2,0), infected test random: 0/0\n",
      "iteration.sib: INFO     ...quarantining 5 guys -> got 3 infected, 34 free as birds (+0)\n"
     ]
    },
    {
     "name": "stdout",
     "output_type": "stream",
     "text": [
      "t: 1056.00 | 1200.00 hrs (50 d)"
     ]
    },
    {
     "name": "stderr",
     "output_type": "stream",
     "text": [
      "iteration.sib: INFO     time:43\n"
     ]
    },
    {
     "name": "stdout",
     "output_type": "stream",
     "text": [
      "\n",
      "[Reached max time: 1056h (44d)]\n",
      "All raw contacts 2528\n",
      "Contacts at midnight  92\n",
      "Contacts collected by coarse-graining  30\n",
      "Contacts in multiple days  0\n",
      "Coarse-grained contacts  2590\n",
      "Missing contacts  0\n",
      "Asymmetric contacts  0\n"
     ]
    },
    {
     "name": "stderr",
     "output_type": "stream",
     "text": [
      "iteration.sib: INFO     adding contacts in the interval [1032, 1056]\n",
      "iteration.sib: INFO     number of unique contacts: 2272\n"
     ]
    },
    {
     "name": "stdout",
     "output_type": "stream",
     "text": [
      "...adjust prob_i0 and prob_r0\n",
      "...drop first time and reset observations\n",
      "pI at intial time: 5.022790609782995\n",
      "sib.iterate(damp=0):  7/20 6.479e-04/0.001    \n",
      "sib.iterate(damp=0.5):  0/20 4.259e-04/0.001    \n"
     ]
    },
    {
     "name": "stderr",
     "output_type": "stream",
     "text": [
      "iteration.sib: INFO     winBP: (S,I,R): (890.5, 8.3, 5.2), seeds: 3.8, ll: -1216.2\n",
      "iteration.sib: INFO     number of tests today: 20\n",
      "iteration.sib: INFO     True  : (S,I,R): (813.0, 48.0, 43.0)\n",
      "iteration.sib: INFO     AUR_I : 0.528, prec100: 5, prec(1% of 861): 0.00, prec5%: 0.02\n",
      "iteration.sib: INFO     sym: 0, results test algo (S,I,R): (19,1,0), infected test random: 0/0\n",
      "iteration.sib: INFO     ...quarantining 1 guys -> got 1 infected, 34 free as birds (+0)\n"
     ]
    },
    {
     "name": "stdout",
     "output_type": "stream",
     "text": [
      "t: 1080.00 | 1200.00 hrs (50 d)"
     ]
    },
    {
     "name": "stderr",
     "output_type": "stream",
     "text": [
      "iteration.sib: INFO     time:44\n"
     ]
    },
    {
     "name": "stdout",
     "output_type": "stream",
     "text": [
      "\n",
      "[Reached max time: 1080h (45d)]\n"
     ]
    },
    {
     "name": "stderr",
     "output_type": "stream",
     "text": [
      "iteration.sib: INFO     adding contacts in the interval [1056, 1080]\n",
      "iteration.sib: INFO     number of unique contacts: 2222\n"
     ]
    },
    {
     "name": "stdout",
     "output_type": "stream",
     "text": [
      "All raw contacts 2424\n",
      "Contacts at midnight  110\n",
      "Contacts collected by coarse-graining  24\n",
      "Contacts in multiple days  0\n",
      "Coarse-grained contacts  2510\n",
      "Missing contacts  0\n",
      "Asymmetric contacts  0\n",
      "...adjust prob_i0 and prob_r0\n",
      "...drop first time and reset observations\n",
      "pI at intial time: 7.31567845349178\n",
      "sib.iterate(damp=0):  6/20 3.043e-04/0.001        \n",
      "sib.iterate(damp=0.5):  0/20 1.625e-04/0.001    \n"
     ]
    },
    {
     "name": "stderr",
     "output_type": "stream",
     "text": [
      "iteration.sib: INFO     winBP: (S,I,R): (889.2, 8.9, 5.9), seeds: 4.6, ll: -1219.9\n",
      "iteration.sib: INFO     number of tests today: 20\n",
      "iteration.sib: INFO     True  : (S,I,R): (806.0, 52.0, 46.0)\n",
      "iteration.sib: INFO     AUR_I : 0.532, prec100: 6, prec(1% of 861): 0.00, prec5%: 0.05\n",
      "iteration.sib: INFO     sym: 0, results test algo (S,I,R): (20,0,0), infected test random: 0/0\n",
      "iteration.sib: INFO     ...quarantining 0 guys -> got 0 infected, 38 free as birds (+4)\n"
     ]
    },
    {
     "name": "stdout",
     "output_type": "stream",
     "text": [
      "t: 1104.00 | 1200.00 hrs (50 d)"
     ]
    },
    {
     "name": "stderr",
     "output_type": "stream",
     "text": [
      "iteration.sib: INFO     time:45\n"
     ]
    },
    {
     "name": "stdout",
     "output_type": "stream",
     "text": [
      "\n",
      "[Reached max time: 1104h (46d)]\n",
      "All raw contacts 2134\n",
      "Contacts at midnight  126\n",
      "Contacts collected by coarse-graining  50\n",
      "Contacts in multiple days  0\n",
      "Coarse-grained contacts  2210\n",
      "Missing contacts  0\n",
      "Asymmetric contacts  0\n"
     ]
    },
    {
     "name": "stderr",
     "output_type": "stream",
     "text": [
      "iteration.sib: INFO     adding contacts in the interval [1080, 1104]\n",
      "iteration.sib: INFO     number of unique contacts: 1818\n"
     ]
    },
    {
     "name": "stdout",
     "output_type": "stream",
     "text": [
      "...adjust prob_i0 and prob_r0\n",
      "...drop first time and reset observations\n",
      "pI at intial time: 6.721020594852057\n",
      "sib.iterate(damp=0):  5/20 3.118e-04/0.001        \n",
      "sib.iterate(damp=0.5):  0/20 1.600e-04/0.001    \n"
     ]
    },
    {
     "name": "stderr",
     "output_type": "stream",
     "text": [
      "iteration.sib: INFO     winBP: (S,I,R): (889.7, 8.7, 5.7), seeds: 4.2, ll: -1221.2\n",
      "iteration.sib: INFO     number of tests today: 20\n",
      "iteration.sib: INFO     True  : (S,I,R): (802.0, 56.0, 46.0)\n",
      "iteration.sib: INFO     AUR_I : 0.529, prec100: 4, prec(1% of 857): 0.00, prec5%: 0.05\n",
      "iteration.sib: INFO     sym: 1, results test algo (S,I,R): (17,2,1), infected test random: 0/0\n",
      "iteration.sib: INFO     ...quarantining 6 guys -> got 6 infected, 36 free as birds (-2)\n"
     ]
    },
    {
     "name": "stdout",
     "output_type": "stream",
     "text": [
      "t: 1128.00 | 1200.00 hrs (50 d)"
     ]
    },
    {
     "name": "stderr",
     "output_type": "stream",
     "text": [
      "iteration.sib: INFO     time:46\n",
      "iteration.sib: INFO     adding contacts in the interval [1104, 1128]\n",
      "iteration.sib: INFO     number of unique contacts: 2026\n"
     ]
    },
    {
     "name": "stdout",
     "output_type": "stream",
     "text": [
      "\n",
      "[Reached max time: 1128h (47d)]\n",
      "All raw contacts 2316\n",
      "Contacts at midnight  148\n",
      "Contacts collected by coarse-graining  48\n",
      "Contacts in multiple days  0\n",
      "Coarse-grained contacts  2416\n",
      "Missing contacts  0\n",
      "Asymmetric contacts  0\n",
      "...adjust prob_i0 and prob_r0\n",
      "...drop first time and reset observations\n",
      "pI at intial time: 6.298501438063774\n",
      "sib.iterate(damp=0):  10/20 8.417e-04/0.001    \n",
      "sib.iterate(damp=0.5):  0/20 4.464e-04/0.001    \n"
     ]
    },
    {
     "name": "stderr",
     "output_type": "stream",
     "text": [
      "iteration.sib: INFO     winBP: (S,I,R): (884.9, 12.3, 6.8), seeds: 4.6, ll: -1254.4\n",
      "iteration.sib: INFO     number of tests today: 20\n",
      "iteration.sib: INFO     True  : (S,I,R): (798.0, 60.0, 46.0)\n",
      "iteration.sib: INFO     AUR_I : 0.532, prec100: 6, prec(1% of 845): 0.12, prec5%: 0.07\n",
      "iteration.sib: INFO     sym: 1, results test algo (S,I,R): (16,3,1), infected test random: 0/0\n",
      "iteration.sib: INFO     ...quarantining 14 guys -> got 11 infected, 29 free as birds (-7)\n"
     ]
    },
    {
     "name": "stdout",
     "output_type": "stream",
     "text": [
      "t: 1152.00 | 1200.00 hrs (50 d)"
     ]
    },
    {
     "name": "stderr",
     "output_type": "stream",
     "text": [
      "iteration.sib: INFO     time:47\n",
      "iteration.sib: INFO     adding contacts in the interval [1128, 1152]\n",
      "iteration.sib: INFO     number of unique contacts: 1938\n"
     ]
    },
    {
     "name": "stdout",
     "output_type": "stream",
     "text": [
      "\n",
      "[Reached max time: 1152h (48d)]\n",
      "All raw contacts 2328\n",
      "Contacts at midnight  152\n",
      "Contacts collected by coarse-graining  30\n",
      "Contacts in multiple days  0\n",
      "Coarse-grained contacts  2450\n",
      "Missing contacts  0\n",
      "Asymmetric contacts  0\n",
      "...adjust prob_i0 and prob_r0\n",
      "...drop first time and reset observations\n",
      "pI at intial time: 5.961906256772655\n",
      "sib.iterate(damp=0):  19/20 1.910e-01/0.001               \n",
      "sib.iterate(damp=0.5):  19/20 1.340e-02/0.001        \n"
     ]
    },
    {
     "name": "stderr",
     "output_type": "stream",
     "text": [
      "iteration.sib: INFO     winBP: (S,I,R): (874.7, 22.0, 7.3), seeds: 4.5, ll: -1333.8\n",
      "iteration.sib: INFO     number of tests today: 20\n",
      "iteration.sib: INFO     True  : (S,I,R): (795.0, 62.0, 47.0)\n",
      "iteration.sib: INFO     AUR_I : 0.558, prec100: 6, prec(1% of 828): 0.00, prec5%: 0.05\n",
      "iteration.sib: INFO     sym: 1, results test algo (S,I,R): (16,3,1), infected test random: 0/0\n",
      "iteration.sib: INFO     ...quarantining 13 guys -> got 6 infected, 25 free as birds (-4)\n"
     ]
    },
    {
     "name": "stdout",
     "output_type": "stream",
     "text": [
      "t: 1176.00 | 1200.00 hrs (50 d)"
     ]
    },
    {
     "name": "stderr",
     "output_type": "stream",
     "text": [
      "iteration.sib: INFO     time:48\n",
      "iteration.sib: INFO     adding contacts in the interval [1152, 1176]\n",
      "iteration.sib: INFO     number of unique contacts: 2048\n"
     ]
    },
    {
     "name": "stdout",
     "output_type": "stream",
     "text": [
      "\n",
      "[Reached max time: 1176h (49d)]\n",
      "All raw contacts 2432\n",
      "Contacts at midnight  134\n",
      "Contacts collected by coarse-graining  56\n",
      "Contacts in multiple days  0\n",
      "Coarse-grained contacts  2510\n",
      "Missing contacts  0\n",
      "Asymmetric contacts  0\n",
      "...adjust prob_i0 and prob_r0\n",
      "...drop first time and reset observations\n",
      "pI at intial time: 5.7510661136051136\n",
      "sib.iterate(damp=0):  19/20 1.137e-03/0.001        \n",
      "sib.iterate(damp=0.5):  1/20 4.853e-04/0.001    \n"
     ]
    },
    {
     "name": "stderr",
     "output_type": "stream",
     "text": [
      "iteration.sib: INFO     winBP: (S,I,R): (872.6, 23.5, 7.9), seeds: 4.4, ll: -1343.8\n",
      "iteration.sib: INFO     number of tests today: 20\n",
      "iteration.sib: INFO     True  : (S,I,R): (790.0, 66.0, 48.0)\n",
      "iteration.sib: INFO     AUR_I : 0.513, prec100: 4, prec(1% of 823): 0.00, prec5%: 0.02\n",
      "iteration.sib: INFO     sym: 1, results test algo (S,I,R): (18,1,1), infected test random: 0/0\n",
      "iteration.sib: INFO     ...quarantining 2 guys -> got 2 infected, 27 free as birds (+2)\n"
     ]
    },
    {
     "name": "stdout",
     "output_type": "stream",
     "text": [
      "t: 1197.19 | 1200.00 hrs (50 d)"
     ]
    },
    {
     "name": "stderr",
     "output_type": "stream",
     "text": [
      "iteration.sib: INFO     time:49\n"
     ]
    },
    {
     "name": "stdout",
     "output_type": "stream",
     "text": [
      "All raw contacts 2582\n",
      "Contacts at midnight  78\n",
      "Contacts collected by coarse-graining  64\n",
      "Contacts in multiple days  0\n",
      "Coarse-grained contacts  2596\n",
      "Missing contacts  0\n",
      "Asymmetric contacts  0\n"
     ]
    },
    {
     "name": "stderr",
     "output_type": "stream",
     "text": [
      "iteration.sib: INFO     adding contacts in the interval [1176, 1200]\n",
      "iteration.sib: INFO     number of unique contacts: 2132\n"
     ]
    },
    {
     "name": "stdout",
     "output_type": "stream",
     "text": [
      "...adjust prob_i0 and prob_r0\n",
      "...drop first time and reset observations\n",
      "pI at intial time: 6.157201606813541\n",
      "sib.iterate(damp=0):  19/20 3.617e-02/0.001        \n",
      "sib.iterate(damp=0.5):  13/20 8.008e-04/0.001               \n"
     ]
    },
    {
     "name": "stderr",
     "output_type": "stream",
     "text": [
      "iteration.sib: INFO     winBP: (S,I,R): (871.6, 23.9, 8.5), seeds: 4.7, ll: -1350.6\n",
      "iteration.sib: INFO     number of tests today: 20\n",
      "iteration.sib: INFO     True  : (S,I,R): (785.0, 67.0, 52.0)\n",
      "iteration.sib: INFO     AUR_I : 0.552, prec100: 7, prec(1% of 822): 0.00, prec5%: 0.05\n",
      "iteration.sib: INFO     sym: 1, results test algo (S,I,R): (20,0,0), infected test random: 0/0\n",
      "iteration.sib: INFO     ...quarantining 1 guys -> got 1 infected, 27 free as birds (+0)\n"
     ]
    },
    {
     "name": "stdout",
     "output_type": "stream",
     "text": [
      "Time  62.42926907539368\n"
     ]
    }
   ],
   "source": [
    "ress = {}\n",
    "for num_test_algo in [20]:  # number of test per day by ranking\n",
    "    for seed in [42]: # never use seed = 0\n",
    "        print(num_test_algo, seed)\n",
    "        for s in list(rankers.keys()):\n",
    "            data = {\"algo\": s}\n",
    "            if s == \"no_intervention\":\n",
    "                res_s = loop_mtpp.free_mtpp(mob,\n",
    "                                            country=country,\n",
    "                                            beta=beta,\n",
    "                                            T=T,\n",
    "                                            seed=seed,\n",
    "                                            logger=logging.getLogger(\n",
    "                                                f\"iteration.{s}\"),\n",
    "                                            data=data,\n",
    "                                            initial_counts=n_seeds,\n",
    "                                            name_file_res=s +\n",
    "                                            f\"_N_{N}_T_{T}_obs_{num_test_algo}_sym_obs_{fraction_sym_obs}_seed_{seed}\",\n",
    "                                            output_dir=output_dir,\n",
    "                                            )\n",
    "            else:\n",
    "                res_s = loop_mtpp.loop_mtpp(mob,\n",
    "                                            rankers[s],\n",
    "                                            country=country,\n",
    "                                            T=T,\n",
    "                                            seed=seed,\n",
    "                                            logger=logging.getLogger(\n",
    "                                                f\"iteration.{s}\"),\n",
    "                                            data=data,\n",
    "                                            initial_steps=initial_steps,\n",
    "                                            num_test_random=num_test_random,\n",
    "                                            num_test_algo=num_test_algo,\n",
    "                                            fraction_sym_obs=fraction_sym_obs,\n",
    "                                            initial_counts=n_seeds,\n",
    "                                            beta=beta,\n",
    "                                            test_HH=test_HH,\n",
    "                                            quarantine_HH=quarantine_HH,\n",
    "                                            name_file_res=s +\n",
    "                                            f\"_N_{N}_T_{T}_obs_{num_test_algo}_sym_obs_{fraction_sym_obs}_seed_{seed}\",\n",
    "                                            output_dir=output_dir,\n",
    "                                            save_every_iter=1,\n",
    "                                            adoption_fraction=adoption_fraction,\n",
    "                                            probability_th=probability_th,\n",
    "                                            adapt_th=adapt_th,\n",
    "                                            fp_rate=fp_rate,\n",
    "                                            fn_rate=fn_rate\n",
    "                                            )\n",
    "            ress[s] = res_s\n",
    "        del res_s\n"
   ]
  },
  {
   "cell_type": "code",
   "execution_count": 86,
   "metadata": {},
   "outputs": [
    {
     "data": {
      "image/png": "[encoded data removed]",
      "text/plain": [
       "<Figure size 1800x360 with 5 Axes>"
      ]
     },
     "metadata": {
      "needs_background": "light"
     },
     "output_type": "display_data"
    }
   ],
   "source": [
    "import matplotlib.pyplot as plt\n",
    "fig, axs = plt.subplots(1, 5, figsize=(25, 5))\n",
    "to_plot = ['I', 'infected_free', 'num_quarantined', \"q_algo\", \"n_test_algo\"]\n",
    "for s in ress.keys():\n",
    "    for il, l in enumerate(to_plot):\n",
    "        if s != \"no_intervention\":\n",
    "            axs[il].plot(range(T), ress[s][l], label=s)\n",
    "            if l != \"aurI\":\n",
    "                axs[il].set_yscale(\"log\")\n",
    "                axs[il].vlines(initial_steps, ymin=1, ymax=10**4,\n",
    "                               linestyle=\"--\", alpha=0.5, color=\"black\")\n",
    "            else:\n",
    "                axs[il].vlines(initial_steps, ymin=0, ymax=1,\n",
    "                               linestyle=\"--\", alpha=0.5, color=\"black\")\n",
    "\n",
    "            axs[il].set_title(l, fontsize=12)\n",
    "    axs[0].legend(loc='upper left')\n",
    "\n",
    "#fig.suptitle(f\"num test algo {num_test_algo} - adoption_fraction {adoption_fraction}\")\n",
    "fig.show()\n"
   ]
  },
  {
   "cell_type": "code",
   "execution_count": 87,
   "metadata": {},
   "outputs": [
    {
     "data": {
      "text/plain": [
       "[[[340.2019315565212, 70, 687], [131.95647805315014, 70, 767]],\n",
       " [],\n",
       " [],\n",
       " [],\n",
       " [[443.8642544391405, 457, 169], [446.58557659977487, 457, 859]],\n",
       " [],\n",
       " [[496.8092497974145, 425, 71]],\n",
       " [[180.7882932107915, 527, 811]],\n",
       " [[460.8312880643761, 811, 552],\n",
       "  [351.8889250369396, 811, 706],\n",
       "  [314.6034360979932, 811, 461]],\n",
       " [[273.9303402120962, 541, 20], [536.1035919047368, 541, 158]],\n",
       " [[369.49174753449853, 198, 325], [374.80358503279535, 459, 681]],\n",
       " [],\n",
       " [[557.962939520921, 278, 663]],\n",
       " [],\n",
       " [[556.5820615309623, 461, 853]],\n",
       " [],\n",
       " [[639.6565014806564, 706, 580], [701.1784311631366, 706, 638]],\n",
       " [[576.895929009193, 20, 434]],\n",
       " [[450.4022891933846, 687, 136]],\n",
       " [[799.6532574223716, 169, 726]],\n",
       " [],\n",
       " [[746.2472192386025, 325, 265],\n",
       "  [625.9571263362834, 325, 24],\n",
       "  [808.7581793433757, 136, 544],\n",
       "  [611.7930289026516, 136, 624]],\n",
       " [],\n",
       " [[879.2083996822297, 163, 427], [613.6761141561159, 163, 887]],\n",
       " [],\n",
       " [],\n",
       " [],\n",
       " [[903.6318364278113, 296, 633]],\n",
       " [[808.0428845981552, 24, 544],\n",
       "  [975.6866533383259, 24, 312],\n",
       "  [886.5503380383487, 24, 231]],\n",
       " [],\n",
       " [[822.8187487963547, 282, 313]],\n",
       " [],\n",
       " [],\n",
       " [[1089.8431965591797, 887, 814],\n",
       "  [1089.1393332804626, 887, 836],\n",
       "  [1130.523660237779, 887, 334]],\n",
       " [[829.0979999780033, 544, 829],\n",
       "  [1154.8396359594763, 544, 750],\n",
       "  [1076.7600303569595, 265, 244],\n",
       "  [1077.5992385124023, 265, 634],\n",
       "  [858.6494830087236, 590, 636]],\n",
       " [[1161.3325990860426, 845, 596],\n",
       "  [1017.2053518586096, 313, 556],\n",
       "  [1017.5161495412756, 313, 445],\n",
       "  [900.3793139502399, 313, 849]],\n",
       " [[975.641041716732, 622, 762],\n",
       "  [1088.8216939439121, 829, 359],\n",
       "  [1123.1458526083532, 420, 307],\n",
       "  [1186.0836675165262, 420, 851]],\n",
       " [],\n",
       " [[1016.6401523067505, 817, 539]],\n",
       " [[1190.6388542637592, 781, 897],\n",
       "  [1076.4136167365248, 781, 525],\n",
       "  [1129.4883481721918, 837, 876],\n",
       "  [973.4797856316551, 810, 799],\n",
       "  [986.5141859615162, 810, 819],\n",
       "  [1108.9182674824133, 810, 570],\n",
       "  [1108.2696700178956, 810, 711],\n",
       "  [1072.4598218253723, 633, 584],\n",
       "  [1072.0847196720572, 633, 75]],\n",
       " [[1002.9859938114969, 74, 452], [971.881194931683, 848, 398]],\n",
       " [[1024.6076215549767, 398, 498], [1101.9798335437013, 858, 119]],\n",
       " [],\n",
       " [[1109.0671397162887, 819, 99]],\n",
       " [],\n",
       " [[1092.4140750923443, 887, 814], [1171.128974142588, 539, 720]],\n",
       " [],\n",
       " [],\n",
       " [],\n",
       " []]"
      ]
     },
     "execution_count": 87,
     "metadata": {},
     "output_type": "execute_result"
    }
   ],
   "source": [
    "import pandas as pd\n",
    "\n",
    "filename = f\"sib_N_{N}_T_{T}_obs_{num_test_algo}_sym_obs_{fraction_sym_obs}_seed_{seed}_states.pkl\"\n",
    "\n",
    "object = pd.read_pickle(output_dir + filename)\n",
    "object['transmissions']"
   ]
  },
  {
   "cell_type": "code",
   "execution_count": 88,
   "metadata": {},
   "outputs": [],
   "source": [
    "x, y = object[\"ROC\"][12]\n"
   ]
  },
  {
   "cell_type": "code",
   "execution_count": 89,
   "metadata": {},
   "outputs": [
    {
     "data": {
      "text/plain": [
       "[<matplotlib.lines.Line2D at 0x7fa69df32250>]"
      ]
     },
     "execution_count": 89,
     "metadata": {},
     "output_type": "execute_result"
    },
    {
     "data": {
      "image/png": "[encoded data removed]",
      "text/plain": [
       "<Figure size 432x288 with 1 Axes>"
      ]
     },
     "metadata": {
      "needs_background": "light"
     },
     "output_type": "display_data"
    }
   ],
   "source": [
    "plt.plot(x,y)"
   ]
  }
 ],
 "metadata": {
  "interpreter": {
   "hash": "d4d1e4263499bec80672ea0156c357c1ee493ec2b1c70f0acce89fc37c4a6abe"
  },
  "kernelspec": {
   "display_name": "Python 3",
   "language": "python",
   "name": "python3"
  },
  "language_info": {
   "codemirror_mode": {
    "name": "ipython",
    "version": 3
   },
   "file_extension": ".py",
   "mimetype": "text/x-python",
   "name": "python",
   "nbconvert_exporter": "python",
   "pygments_lexer": "ipython3",
   "version": "3.8.10"
  }
 },
 "nbformat": 4,
 "nbformat_minor": 4
}
