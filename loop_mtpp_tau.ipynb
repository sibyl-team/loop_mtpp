{
 "cells": [
  {
   "cell_type": "code",
   "execution_count": 1,
   "metadata": {},
   "outputs": [
    {
     "output_type": "stream",
     "name": "stdout",
     "text": [
      "Log setup complete\n"
     ]
    }
   ],
   "source": [
    "import sys\n",
    "#sys.path.insert(0,'./src/')\n",
    "#simulator_path = \"../covid_de/sim/\" ##change simulatio path here \n",
    "sys.path.insert(0,'src/')\n",
    "sys.path.insert(0, '../sib/')\n",
    "simulator_path = \"../simulator/sim/\" ##change simulatio path here \n",
    "sys.path.insert(0,simulator_path)\n",
    "\n",
    "from pathlib import Path\n",
    "import numpy as np, pandas as pd, matplotlib.pyplot as plt\n",
    "import json, log, logging, loop_mtpp\n",
    "from importlib import reload\n",
    "import imp\n",
    "from math import exp\n",
    "import pickle\n",
    "#sys.path.insert(0,'./src/loop_ranker')\n",
    "from lib.mobilitysim import MobilitySimulator\n",
    "import loop_mtpp\n",
    "from mtpp_utils import contacts_cg\n",
    "\n",
    "\n",
    "#logging\n",
    "data_path = '../simulator/sim/lib/mobility/'\n",
    "\n",
    "output_dir = \"output_Tubingen_pop1_site1/\"\n",
    "fold_out = Path(output_dir)\n",
    "if not fold_out.exists():\n",
    "    fold_out.mkdir(parents=True)\n",
    "\n",
    "reload(log)\n",
    "logger = log.setup_logger()"
   ]
  },
  {
   "cell_type": "markdown",
   "metadata": {},
   "source": [
    "### Mobility simulation"
   ]
  },
  {
   "cell_type": "code",
   "execution_count": 2,
   "metadata": {
    "scrolled": true
   },
   "outputs": [
    {
     "output_type": "stream",
     "name": "stdout",
     "text": [
      "Simulate mobility for 1200.00 time units... "
     ]
    }
   ],
   "source": [
    "beta = 0.55 # from paper\n",
    "country = 'GER'\n",
    "#with open(data_path + 'Isle_of_Wight_settings_pop10_site5.pk', 'rb') as fp:\n",
    "with open(data_path + 'Tubingen_settings_pop1_site1.pk', 'rb') as fp:\n",
    "    mob_kwargs = pickle.load(fp)\n",
    "\n",
    "mob_kwargs[\"delta\"] = 0.2554120904376099\n",
    "T = 50\n",
    "seed_mob = 1\n",
    "seed = 1\n",
    "t_unit = 24\n",
    "t_res = 0.25 # drop contacts with a duration < t_res (in hours)\n",
    "max_time = T * t_unit  \n",
    "mob = MobilitySimulator(**mob_kwargs)\n",
    "mob.verbose = True\n",
    "out = mob.simulate(max_time=max_time, seed=seed_mob)\n",
    "#contacts_df = pd.DataFrame(contacts_cg(mob, t_res, t_unit, first_filter = True),columns = ['i','j','t','deltat'])\n",
    "N = mob.num_people \n",
    "#print(N)"
   ]
  },
  {
   "cell_type": "code",
   "execution_count": 3,
   "metadata": {
    "scrolled": true
   },
   "outputs": [
    {
     "output_type": "stream",
     "name": "stdout",
     "text": [
      "All raw contacts 57766082\n",
      "Coarse-grained contacts  58416403\n",
      "Missing contacts  5520255\n",
      "Asymmetric contacts  50869892\n"
     ]
    }
   ],
   "source": [
    "contacts_df = pd.DataFrame(contacts_cg(mob, t_res, t_unit, first_filter = False),columns = ['i','j','t','deltat'])"
   ]
  },
  {
   "cell_type": "code",
   "execution_count": 4,
   "metadata": {},
   "outputs": [],
   "source": [
    "contacts_df = contacts_df.sort_values(by=[\"t\",\"i\",\"j\"])"
   ]
  },
  {
   "cell_type": "code",
   "execution_count": 7,
   "metadata": {},
   "outputs": [
    {
     "output_type": "execute_result",
     "data": {
      "text/plain": [
       "              i      j   t    deltat\n",
       "639017        0    995   0  0.592178\n",
       "2111427       0   3316   0  0.571339\n",
       "2153281       0   3378   0  1.286172\n",
       "4327095       0   6804   0  1.286172\n",
       "6079277       0   9539   0  1.286172\n",
       "...         ...    ...  ..       ...\n",
       "29995600  90538  46402  49  0.188972\n",
       "36253631  90538  56093  49  0.258755\n",
       "44141712  90538  68297  49  0.409688\n",
       "54932615  90538  85046  49  0.961562\n",
       "55869483  90538  86545  49  0.791657\n",
       "\n",
       "[58416403 rows x 4 columns]"
      ],
      "text/html": "<div>\n<style scoped>\n    .dataframe tbody tr th:only-of-type {\n        vertical-align: middle;\n    }\n\n    .dataframe tbody tr th {\n        vertical-align: top;\n    }\n\n    .dataframe thead th {\n        text-align: right;\n    }\n</style>\n<table border=\"1\" class=\"dataframe\">\n  <thead>\n    <tr style=\"text-align: right;\">\n      <th></th>\n      <th>i</th>\n      <th>j</th>\n      <th>t</th>\n      <th>deltat</th>\n    </tr>\n  </thead>\n  <tbody>\n    <tr>\n      <th>639017</th>\n      <td>0</td>\n      <td>995</td>\n      <td>0</td>\n      <td>0.592178</td>\n    </tr>\n    <tr>\n      <th>2111427</th>\n      <td>0</td>\n      <td>3316</td>\n      <td>0</td>\n      <td>0.571339</td>\n    </tr>\n    <tr>\n      <th>2153281</th>\n      <td>0</td>\n      <td>3378</td>\n      <td>0</td>\n      <td>1.286172</td>\n    </tr>\n    <tr>\n      <th>4327095</th>\n      <td>0</td>\n      <td>6804</td>\n      <td>0</td>\n      <td>1.286172</td>\n    </tr>\n    <tr>\n      <th>6079277</th>\n      <td>0</td>\n      <td>9539</td>\n      <td>0</td>\n      <td>1.286172</td>\n    </tr>\n    <tr>\n      <th>...</th>\n      <td>...</td>\n      <td>...</td>\n      <td>...</td>\n      <td>...</td>\n    </tr>\n    <tr>\n      <th>29995600</th>\n      <td>90538</td>\n      <td>46402</td>\n      <td>49</td>\n      <td>0.188972</td>\n    </tr>\n    <tr>\n      <th>36253631</th>\n      <td>90538</td>\n      <td>56093</td>\n      <td>49</td>\n      <td>0.258755</td>\n    </tr>\n    <tr>\n      <th>44141712</th>\n      <td>90538</td>\n      <td>68297</td>\n      <td>49</td>\n      <td>0.409688</td>\n    </tr>\n    <tr>\n      <th>54932615</th>\n      <td>90538</td>\n      <td>85046</td>\n      <td>49</td>\n      <td>0.961562</td>\n    </tr>\n    <tr>\n      <th>55869483</th>\n      <td>90538</td>\n      <td>86545</td>\n      <td>49</td>\n      <td>0.791657</td>\n    </tr>\n  </tbody>\n</table>\n<p>58416403 rows × 4 columns</p>\n</div>"
     },
     "metadata": {},
     "execution_count": 7
    }
   ],
   "source": [
    "contacts_df"
   ]
  },
  {
   "cell_type": "markdown",
   "metadata": {},
   "source": [
    "## Set testing and quarantine rules"
   ]
  },
  {
   "cell_type": "code",
   "execution_count": 8,
   "metadata": {},
   "outputs": [],
   "source": [
    "#n_indiv=np.ceil(mob_kwargs['num_people_unscaled']/mob_kwargs['downsample_pop'])\n",
    "n_seeds = {'expo': 3, 'iasy':4,'ipre':5} # select initial infected seeds\n",
    "num_test_random = 0 #number of random tests per day\n",
    "fraction_sym_obs = 0.5 #fraction of Symptomatic tested positive\n",
    "initial_steps = 5 #starting time of intervention\n",
    "delta_days = 1 # intervention every delta_days days (for the moment keep to 1)\n",
    "#assert initial_steps % delta_days == 0\n",
    "test_HH = False\n",
    "quarantine_HH = True\n",
    "adoption_fraction = 1.0"
   ]
  },
  {
   "cell_type": "markdown",
   "metadata": {},
   "source": [
    "## Set the inference algorithm class"
   ]
  },
  {
   "cell_type": "code",
   "execution_count": 9,
   "metadata": {},
   "outputs": [],
   "source": [
    "import sib,  scipy\n",
    "\n",
    "from loop_ranker import sib_rank, sib_drop_rank, greedy_rank, dotd_rank, mean_field_rank, tracing_rank, winbp_rank, winbp_prob0_rank\n",
    "from tqdm.notebook import tqdm\n",
    "from scipy.stats import gamma\n",
    "sib.set_num_threads(6)\n",
    "\n",
    "import matplotlib.pyplot as plt\n",
    "\n",
    "mu = 1/12\n",
    "prob_seed = 1/N\n",
    "prob_sus = 0.5\n",
    "pautoinf = 1e-10\n",
    "pseed = prob_seed / (2 - prob_seed)\n",
    "psus = prob_sus * (1 - pseed)\n",
    "pautoinf = 1e-6\n",
    "fp_rate = 0.0\n",
    "fn_rate = 0.0\n",
    "\n",
    "rankers = {}\n",
    "rankers[\"dotd\"] = dotd_rank.DotdRanker()\n",
    "\n",
    "\n",
    "rankers[\"MF\"] = mean_field_rank.MeanFieldRanker(\n",
    "                tau = 5,\n",
    "                delta = 10,\n",
    "                mu = mu,\n",
    "                lamb = 1.0\n",
    "                )\n",
    "'''\n",
    "rankers[\"tracing\"] = tracing_rank.TracingRanker(\n",
    "                 tau=5,\n",
    "                 lamb=1.0\n",
    ")\n",
    "'''\n",
    "rankers[\"greedy\"] = greedy_rank.GreedyRanker(\n",
    "                 include_S = True,\n",
    "                tau=10)\n",
    "\n",
    "\n",
    "\"\"\"\n",
    "rankers[\"winbp20prob0\"] = winbp_prob0_rank.WinBPProb0Ranker(\n",
    "                 params = sib.Params(\n",
    "                                 prob_i = sib.Uniform(1.0),\n",
    "                                 prob_r = sib.Exponential(mu=mu),\n",
    "                                 #prob_i = sib.PriorDiscrete(list(0.25 * abm_utils.gamma_pdf_array(T+1,6,2.5))),\n",
    "                                 #prob_r = sib.PriorDiscrete(list(scipy.stats.gamma.sf(range(T+1), 10., scale=1.7452974337097158))),\n",
    "                                 #prob_i = sib.Uniform(0.014),\n",
    "                                 #prob_r = sib.Gamma(k = 10, mu = 1/1.7452974337097158),\n",
    "                                 pseed = pseed,\n",
    "                                 psus = psus,\n",
    "                                 fp_rate = fp_rate,\n",
    "                                 fn_rate = fn_rate,\n",
    "                                 pautoinf = pautoinf),\n",
    "                 maxit0 = 30,\n",
    "                 maxit1 = 30,\n",
    "                 damp0 = 0.5,\n",
    "                 damp1 = 0.9,\n",
    "                 tol = 1e-3,\n",
    "                 memory_decay = 1e-2,\n",
    "                 window_length = 20\n",
    ")\n",
    "\n",
    "\n",
    "rankers[\"no_intervention\"] = None\n",
    "\n",
    "rankers[\"winbp21_tau7\"] = winbp_prob0_rank.WinBPProb0Ranker(\n",
    "                 params = sib.Params(\n",
    "                                 prob_i = sib.Cached(sib.Scaled(sib.PDF(sib.Gamma(k=5.76, mu=0.96)), scale=0.25), T+1),\n",
    "                                 prob_r = sib.Cached(sib.Gamma(k = 10, mu = 1/1.7452974337097158), T+1),\n",
    "                                 pseed = pseed,\n",
    "                                 psus = psus,\n",
    "                                 fp_rate = fp_rate,\n",
    "                                 fn_rate = fn_rate,\n",
    "                                 pautoinf = pautoinf),\n",
    "                 maxit0 = 20,\n",
    "                 maxit1 = 20,\n",
    "                 tol = 1e-3,\n",
    "                 memory_decay = 1e-5,\n",
    "                 window_length = 21,\n",
    "                 tau=7\n",
    ")\n",
    "\n",
    "rankers[\"winbp21_tau0\"] = winbp_prob0_rank.WinBPProb0Ranker(\n",
    "                 params = sib.Params(\n",
    "                                 prob_i = sib.Cached(sib.Scaled(sib.PDF(sib.Gamma(k=5.76, mu=0.96)), scale=0.25), T+1),\n",
    "                                 prob_r = sib.Cached(sib.Gamma(k = 10, mu = 1/1.7452974337097158), T+1),\n",
    "                                 pseed = pseed,\n",
    "                                 psus = psus,\n",
    "                                 fp_rate = fp_rate,\n",
    "                                 fn_rate = fn_rate,\n",
    "                                 pautoinf = pautoinf),\n",
    "                 maxit0 = 20,\n",
    "                 maxit1 = 20,\n",
    "                 tol = 1e-3,\n",
    "                 memory_decay = 1e-5,\n",
    "                 window_length = 21,\n",
    "                 tau=0\n",
    ")\n",
    "\"\"\"\n",
    "\n",
    "rankers[\"winbp21_uninf\"] = winbp_prob0_rank.WinBPProb0Ranker(\n",
    "                 params = sib.Params(\n",
    "                                 prob_i = sib.Uniform(1.0), \n",
    "                                 prob_r = sib.Exponential(0.1), \n",
    "                                 pseed = pseed,\n",
    "                                 psus = psus,\n",
    "                                 fp_rate = fp_rate,\n",
    "                                 fn_rate = fn_rate,\n",
    "                                 pautoinf = pautoinf),\n",
    "                 maxit0 = 20,\n",
    "                 maxit1 = 20,\n",
    "                 tol = 1e-3,\n",
    "                 memory_decay = 1e-5,\n",
    "                 window_length = 21,\n",
    "                 tau=0\n",
    ")\n",
    "\n"
   ]
  },
  {
   "cell_type": "code",
   "execution_count": 10,
   "metadata": {},
   "outputs": [
    {
     "output_type": "execute_result",
     "data": {
      "text/plain": [
       "0.2554120904376099"
      ]
     },
     "metadata": {},
     "execution_count": 10
    }
   ],
   "source": [
    "mob.delta"
   ]
  },
  {
   "cell_type": "code",
   "execution_count": 11,
   "metadata": {
    "scrolled": true
   },
   "outputs": [
    {
     "output_type": "stream",
     "name": "stdout",
     "text": [
      "300 22\n",
      "Starting with guys:  {'expo': [78551, 33450, 40321], 'iasy': [62337, 36632, 53762, 73305], 'ipre': [1179, 41883, 7929, 1461, 68625]}\n",
      "t: 24.00 | 120.00 hrs (5 d)iteration.dotd: INFO     time:0\n",
      "\n",
      "[Reached max time: 24h (1d)]\n",
      "iteration.dotd: INFO     number of unique contacts: 1297604\n",
      "iteration.dotd: INFO     True  : (S,I,R): (90527.0, 12.0, 0.0)\n",
      "iteration.dotd: INFO     AUR_I : 0.617, prec100: 0, prec(1% of 90540): 0.00, prec5%: 0.00\n",
      "iteration.dotd: INFO     sym: 0, results test algo (S,I,R): (0,0,0), infected test random: 0/0\n",
      "iteration.dotd: INFO     ...quarantining 0 guys -> got 0 infected, 12 free as birds (+12)\n",
      "t: 48.00 | 120.00 hrs (5 d)iteration.dotd: INFO     time:1\n",
      "\n",
      "[Reached max time: 48h (2d)]\n",
      "iteration.dotd: INFO     number of unique contacts: 1421432\n",
      "iteration.dotd: INFO     True  : (S,I,R): (90527.0, 12.0, 0.0)\n",
      "iteration.dotd: INFO     AUR_I : 0.490, prec100: 0, prec(1% of 90540): 0.00, prec5%: 0.00\n",
      "iteration.dotd: INFO     sym: 0, results test algo (S,I,R): (0,0,0), infected test random: 0/0\n",
      "iteration.dotd: INFO     ...quarantining 0 guys -> got 0 infected, 12 free as birds (+0)\n",
      "t: 72.00 | 120.00 hrs (5 d)iteration.dotd: INFO     time:2\n",
      "\n",
      "[Reached max time: 72h (3d)]\n",
      "iteration.dotd: INFO     number of unique contacts: 1440112\n",
      "iteration.dotd: INFO     True  : (S,I,R): (90522.0, 17.0, 0.0)\n",
      "iteration.dotd: INFO     AUR_I : 0.564, prec100: 0, prec(1% of 90540): 0.00, prec5%: 0.00\n",
      "iteration.dotd: INFO     sym: 1, results test algo (S,I,R): (0,0,0), infected test random: 0/0\n",
      "iteration.dotd: INFO     ...quarantining 1 guys -> got 1 infected, 16 free as birds (+4)\n",
      "t: 96.00 | 120.00 hrs (5 d)iteration.dotd: INFO     time:3\n",
      "\n",
      "[Reached max time: 96h (4d)]\n",
      "iteration.dotd: INFO     number of unique contacts: 1410682\n",
      "iteration.dotd: INFO     True  : (S,I,R): (90518.0, 21.0, 0.0)\n",
      "iteration.dotd: INFO     AUR_I : 0.547, prec100: 0, prec(1% of 90539): 0.00, prec5%: 0.00\n",
      "iteration.dotd: INFO     sym: 2, results test algo (S,I,R): (0,0,0), infected test random: 0/0\n",
      "iteration.dotd: INFO     ...quarantining 8 guys -> got 6 infected, 14 free as birds (-2)\n",
      "t: 119.41 | 120.00 hrs (5 d)iteration.dotd: INFO     time:4\n",
      "iteration.dotd: INFO     number of unique contacts: 1292008\n",
      "iteration.dotd: INFO     True  : (S,I,R): (90516.0, 23.0, 0.0)\n",
      "iteration.dotd: INFO     AUR_I : 0.510, prec100: 1, prec(1% of 90531): 0.00, prec5%: 0.00\n",
      "iteration.dotd: INFO     sym: 1, results test algo (S,I,R): (0,0,0), infected test random: 0/0\n",
      "iteration.dotd: INFO     ...quarantining 3 guys -> got 1 infected, 15 free as birds (+1)\n",
      "Time  46.58959245681763\n",
      "Starting with guys:  {'expo': [78551, 33450, 40321], 'iasy': [62337, 36632, 53762, 73305], 'ipre': [1179, 41883, 7929, 1461, 68625]}\n",
      "t: 24.00 | 120.00 hrs (5 d)iteration.MF: INFO     time:0\n",
      "\n",
      "[Reached max time: 24h (1d)]\n",
      "iteration.MF: INFO     number of unique contacts: 1297604\n"
     ]
    }
   ],
   "source": [
    "ress = {}\n",
    "for num_test_algo in [300]: #number of test per day by ranking\n",
    "    for seed in [22,23,33,32]:\n",
    "        print(num_test_algo, seed)\n",
    "        for s in list(rankers.keys()):\n",
    "            data = {\"algo\":s}\n",
    "            if s== \"no_intervention\":\n",
    "                    res_s = loop_mtpp.free_mtpp(mob,\n",
    "                    country  = country,\n",
    "                    beta = beta,\n",
    "                    T = T,\n",
    "                    seed=seed,\n",
    "                    logger = logging.getLogger(f\"iteration.{s}\"),\n",
    "                    data = data,\n",
    "                    initial_counts = n_seeds,\n",
    "                    name_file_res = s + f\"_N_{N}_T_{T}_obs_{num_test_algo}_sym_obs_{fraction_sym_obs}_seed_{seed}\",\n",
    "                    output_dir = output_dir,\n",
    "                     )\n",
    "            else:\n",
    "                    res_s = loop_mtpp.loop_mtpp(mob,\n",
    "                    contacts_df,\n",
    "                    rankers[s],\n",
    "                    country  = country,\n",
    "                    T = T,\n",
    "                    seed=seed,\n",
    "                    logger = logging.getLogger(f\"iteration.{s}\"),\n",
    "                    data = data,\n",
    "                    initial_steps = initial_steps, \n",
    "                    num_test_random = num_test_random,\n",
    "                    num_test_algo = num_test_algo,\n",
    "                    fraction_sym_obs = fraction_sym_obs,\n",
    "                    initial_counts = n_seeds,\n",
    "                    beta = beta,\n",
    "                    test_HH = test_HH,\n",
    "                    quarantine_HH = quarantine_HH,\n",
    "                    name_file_res = s + f\"_N_{N}_T_{T}_obs_{num_test_algo}_sym_obs_{fraction_sym_obs}_seed_{seed}\",\n",
    "                    output_dir = output_dir,\n",
    "                    save_every_iter = 1,\n",
    "                    adoption_fraction = adoption_fraction\n",
    "                 )\n",
    "            ress[s] = res_s    \n",
    "        del res_s\n"
   ]
  },
  {
   "cell_type": "code",
   "execution_count": null,
   "metadata": {},
   "outputs": [],
   "source": [
    "import matplotlib.pyplot as plt\n",
    "fig,axs = plt.subplots(1,4,figsize = (25,5))\n",
    "to_plot = ['I','infected_free','num_quarantined', \"q_algo\"]\n",
    "for s in ress.keys():    \n",
    "    for il,l in enumerate(to_plot):\n",
    "        if s != \"no_intervention\":\n",
    "            axs[il].plot(range(T),ress[s][l],label = s)\n",
    "            if l!= \"aurI\":\n",
    "                axs[il].set_yscale (\"log\") \n",
    "                axs[il].vlines(initial_steps,ymin = 1,ymax = 10**4,linestyle = \"--\",alpha = 0.5, color = \"black\")\n",
    "            else:\n",
    "                axs[il].vlines(initial_steps,ymin = 0,ymax = 1,linestyle = \"--\",alpha = 0.5, color = \"black\")\n",
    "            \n",
    "            axs[il].set_title(l,fontsize = 12)\n",
    "    axs[0].legend(loc = 'upper left')\n",
    "    \n",
    "#fig.suptitle(f\"num test algo {num_test_algo} - adoption_fraction {adoption_fraction}\")\n",
    "fig.show()\n"
   ]
  },
  {
   "cell_type": "code",
   "execution_count": null,
   "metadata": {},
   "outputs": [],
   "source": []
  },
  {
   "cell_type": "code",
   "execution_count": null,
   "metadata": {},
   "outputs": [],
   "source": []
  }
 ],
 "metadata": {
  "kernelspec": {
   "name": "python3",
   "display_name": "Python 3.6.8 64-bit"
  },
  "language_info": {
   "codemirror_mode": {
    "name": "ipython",
    "version": 3
   },
   "file_extension": ".py",
   "mimetype": "text/x-python",
   "name": "python",
   "nbconvert_exporter": "python",
   "pygments_lexer": "ipython3",
   "version": "3.6.8-final"
  }
 },
 "nbformat": 4,
 "nbformat_minor": 4
}