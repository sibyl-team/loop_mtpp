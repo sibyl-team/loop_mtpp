{
 "cells": [
  {
   "cell_type": "code",
   "execution_count": 1,
   "metadata": {},
   "outputs": [
    {
     "name": "stdout",
     "output_type": "stream",
     "text": [
      "Log setup complete\n"
     ]
    }
   ],
   "source": [
    "import sys\n",
    "#sys.path.insert(0,'./src/')\n",
    "#simulator_path = \"../covid_de/sim/\" ##change simulatio path here \n",
    "sys.path.insert(0,'src/')\n",
    "sys.path.insert(0, '../sib/')\n",
    "simulator_path = \"../simulator/sim/\" ##change simulatio path here \n",
    "sys.path.insert(0, '../simulator/sim/lib/') # we need distributions.py\n",
    "sys.path.insert(0,simulator_path)\n",
    "sys.path.insert(0, \"../epidemic_mitigation/src/\") # correct rankers\n",
    "\n",
    "from pathlib import Path\n",
    "import numpy as np, pandas as pd, matplotlib.pyplot as plt\n",
    "import json, log, logging, loop_mtpp\n",
    "from importlib import reload\n",
    "import imp\n",
    "from math import exp\n",
    "import pickle\n",
    "#sys.path.insert(0,'./src/loop_ranker')\n",
    "from lib.mobilitysim import MobilitySimulator\n",
    "import loop_mtpp\n",
    "from mtpp_utils import contacts_cg\n",
    "from distributions import CovidDistributions\n",
    "\n",
    "\n",
    "\n",
    "#logging\n",
    "data_path = '../simulator/sim/lib/mobility/'\n",
    "\n",
    "output_dir = \"output_Tubingen_pop1_site1/\"\n",
    "fold_out = Path(output_dir)\n",
    "if not fold_out.exists():\n",
    "    fold_out.mkdir(parents=True)\n",
    "\n",
    "reload(log)\n",
    "logger = log.setup_logger()"
   ]
  },
  {
   "cell_type": "markdown",
   "metadata": {},
   "source": [
    "### Mobility simulation"
   ]
  },
  {
   "cell_type": "code",
   "execution_count": 2,
   "metadata": {
    "scrolled": true
   },
   "outputs": [
    {
     "name": "stdout",
     "output_type": "stream",
     "text": [
      "Simulate mobility for 480.00 time units... "
     ]
    }
   ],
   "source": [
    "beta = 0.05 # from paper\n",
    "country = 'GER'\n",
    "distr = CovidDistributions(country)\n",
    "#with open(data_path + 'Isle_of_Wight_settings_pop10_site5.pk', 'rb') as fp:\n",
    "with open(data_path + 'Tubingen_settings_pop1_site1.pk', 'rb') as fp:\n",
    "    mob_kwargs = pickle.load(fp)\n",
    "\n",
    "mob_kwargs[\"delta\"] = 0.2554120904376099\n",
    "T = 20\n",
    "seed_mob = 2\n",
    "seed = 1\n",
    "t_unit = 24\n",
    "t_res = 0.25 # drop contacts with a duration < t_res (in hours)\n",
    "max_time = T * t_unit  \n",
    "mob = MobilitySimulator(**mob_kwargs)\n",
    "mob.verbose = True\n",
    "out = mob.simulate(max_time=max_time, seed=seed_mob)\n",
    "N = mob.num_people \n",
    "#print(N)"
   ]
  },
  {
   "cell_type": "code",
   "execution_count": 3,
   "metadata": {
    "scrolled": true
   },
   "outputs": [],
   "source": [
    "#contacts_df = pd.DataFrame(contacts_cg(mob, t_res, t_unit, 0, np.inf, first_filter = False),columns = ['i','j','t','deltat'])"
   ]
  },
  {
   "cell_type": "code",
   "execution_count": 4,
   "metadata": {},
   "outputs": [],
   "source": [
    "#contacts_df = contacts_df.sort_values(by=[\"t\",\"i\",\"j\"])"
   ]
  },
  {
   "cell_type": "markdown",
   "metadata": {},
   "source": [
    "## Set testing and quarantine rules"
   ]
  },
  {
   "cell_type": "code",
   "execution_count": 5,
   "metadata": {},
   "outputs": [],
   "source": [
    "#n_indiv=np.ceil(mob_kwargs['num_people_unscaled']/mob_kwargs['downsample_pop'])\n",
    "n_seeds = {'expo': 3, 'iasy':4,'ipre':5} # select initial infected seeds\n",
    "num_test_random = 0 #number of random tests per day\n",
    "fraction_sym_obs = 0.5 #fraction of Symptomatic tested positive\n",
    "initial_steps = 5 #starting time of intervention\n",
    "delta_days = 1 # intervention every delta_days days\n",
    "#assert initial_steps % delta_days == 0\n",
    "test_HH = False\n",
    "quarantine_HH = True\n",
    "adoption_fraction = 1.0\n",
    "probability_th = 0.00\n",
    "adapt_th = True"
   ]
  },
  {
   "cell_type": "markdown",
   "metadata": {},
   "source": [
    "## Set the inference algorithm class"
   ]
  },
  {
   "cell_type": "code",
   "execution_count": 6,
   "metadata": {},
   "outputs": [
    {
     "data": {
      "text/plain": [
       "'\\nrankers[\"winbp21_tau0\"] = winbp_prob0_rank.WinBPProb0Ranker(\\n                 params = sib.Params(\\n                                 prob_i = sib.Cached(sib.Scaled(sib.PDF(sib.Gamma(k=5.76, mu=0.96)), scale=0.25), T+1),\\n                                 prob_r = sib.Cached(sib.Gamma(k = 10, mu = 1/1.7452974337097158), T+1),\\n                                 pseed = pseed,\\n                                 psus = psus,\\n                                 fp_rate = fp_rate,\\n                                 fn_rate = fn_rate,\\n                                 pautoinf = pautoinf),\\n                 maxit0 = 20,\\n                 maxit1 = 20,\\n                 tol = 1e-3,\\n                 memory_decay = 1e-5,\\n                 window_length = 21,\\n                 tau=0\\n)\\n\\n\\nrankers[\"winbp21_uninf\"] = winbp_prob0_rank.WinBPProb0Ranker(\\n                 params = sib.Params(\\n                                 prob_i = sib.Uniform(1.0), \\n                                 prob_r = sib.Exponential(0.1), \\n                                 pseed = pseed,\\n                                 psus = psus,\\n                                 fp_rate = fp_rate,\\n                                 fn_rate = fn_rate,\\n                                 pautoinf = pautoinf),\\n                 maxit0 = 20,\\n                 maxit1 = 20,\\n                 tol = 1e-3,\\n                 memory_decay = 1e-5,\\n                 window_length = 21,\\n                 tau=7\\n)\\n\\n'"
      ]
     },
     "execution_count": 6,
     "metadata": {},
     "output_type": "execute_result"
    }
   ],
   "source": [
    "import sib,  scipy\n",
    "\n",
    "from rankers import sib_rank, dotd_rank, mean_field_rank, tracing_rank\n",
    "from tqdm.notebook import tqdm\n",
    "from scipy.stats import gamma\n",
    "sib.set_num_threads(6)\n",
    "\n",
    "import matplotlib.pyplot as plt\n",
    "\n",
    "mu = 1/12\n",
    "prob_seed = 1/N\n",
    "prob_sus = 0.5\n",
    "pseed = prob_seed / (2 - prob_seed)\n",
    "psus = prob_sus * (1 - pseed)\n",
    "pautoinf = 1e-6\n",
    "fp_rate = 0.0\n",
    "fn_rate = 0.0\n",
    "\n",
    "rankers = {}\n",
    "#rankers[\"dotd\"] = dotd_rank.DotdRanker()\n",
    "\n",
    "\"\"\"\n",
    "rankers[\"MF\"] = mean_field_rank.MeanFieldRanker(\n",
    "                tau = 5,\n",
    "                delta = 10,\n",
    "                mu = mu,\n",
    "                lamb = 1.0\n",
    "                )\n",
    "                \n",
    "\n",
    "rankers[\"tracing\"] = tracing_rank.TracingRanker(\n",
    "                 tau=5,\n",
    "                 lamb=1.0\n",
    ")\n",
    "\n",
    "\n",
    "rankers[\"greedy\"] = greedy_rank.GreedyRanker(\n",
    "                 include_S = True,\n",
    "                tau=10)\n",
    "\n",
    "\n",
    "\n",
    "rankers[\"winbp20prob0\"] = winbp_prob0_rank.WinBPProb0Ranker(\n",
    "                 params = sib.Params(\n",
    "                                 prob_i = sib.Uniform(1.0),\n",
    "                                 prob_r = sib.Exponential(mu=mu),\n",
    "                                 #prob_i = sib.PriorDiscrete(list(0.25 * abm_utils.gamma_pdf_array(T+1,6,2.5))),\n",
    "                                 #prob_r = sib.PriorDiscrete(list(scipy.stats.gamma.sf(range(T+1), 10., scale=1.7452974337097158))),\n",
    "                                 #prob_i = sib.Uniform(0.014),\n",
    "                                 #prob_r = sib.Gamma(k = 10, mu = 1/1.7452974337097158),\n",
    "                                 pseed = pseed,\n",
    "                                 psus = psus,\n",
    "                                 fp_rate = fp_rate,\n",
    "                                 fn_rate = fn_rate,\n",
    "                                 pautoinf = pautoinf),\n",
    "                 maxit0 = 30,\n",
    "                 maxit1 = 30,\n",
    "                 damp0 = 0.5,\n",
    "                 damp1 = 0.9,\n",
    "                 tol = 1e-3,\n",
    "                 memory_decay = 1e-2,\n",
    "                 window_length = 20\n",
    ")\n",
    "\n",
    "\n",
    "rankers[\"no_intervention\"] = None\n",
    "\"\"\"\n",
    "k_rec_gamma = 62.484380808876004\n",
    "scale_rec_gamma = 0.2992112296058585\n",
    "t0 = distr.incubation_mean_of_lognormal - distr.median_infectious_without_symptom\n",
    "alpha = 2.0\n",
    "if probability_th:\n",
    "        tau = 0\n",
    "else:\n",
    "        tau =  7\n",
    "\n",
    "rankers[\"sib\"] = sib_rank.SibRanker(\n",
    "                 params = sib.Params(\n",
    "                                 #prob_i = sib.Cached(sib.Scaled(sib.PDF(sib.Gamma(k=5.76, mu=0.96)), scale=0.25), T+1),\n",
    "                                 #prob_r = sib.Cached(sib.Gamma(k = 10, mu = 1/1.7452974337097158), T+1),\n",
    "                                 prob_i = sib.PiecewiseLinear(sib.RealParams(list(scipy.special.expit(alpha*(range(T+1) -t0*np.ones(T+1)))))), \n",
    "                                 prob_r = sib.PiecewiseLinear(sib.RealParams(list(scipy.stats.gamma.sf(range(T+1), k_rec_gamma, scale=scale_rec_gamma)))),\n",
    "                                 pseed = pseed,\n",
    "                                 psus = psus,\n",
    "                                 fp_rate = fp_rate,\n",
    "                                 fn_rate = fn_rate,\n",
    "                                 pautoinf = pautoinf),\n",
    "                 maxit0 = 20,\n",
    "                 maxit1 = 20,\n",
    "                 tol = 1e-3,\n",
    "                 memory_decay = 1e-5,\n",
    "                 window_length = 21,\n",
    "                 tau=tau\n",
    ")\n",
    "\n",
    "\"\"\"\n",
    "rankers[\"winbp21_tau0\"] = winbp_prob0_rank.WinBPProb0Ranker(\n",
    "                 params = sib.Params(\n",
    "                                 prob_i = sib.Cached(sib.Scaled(sib.PDF(sib.Gamma(k=5.76, mu=0.96)), scale=0.25), T+1),\n",
    "                                 prob_r = sib.Cached(sib.Gamma(k = 10, mu = 1/1.7452974337097158), T+1),\n",
    "                                 pseed = pseed,\n",
    "                                 psus = psus,\n",
    "                                 fp_rate = fp_rate,\n",
    "                                 fn_rate = fn_rate,\n",
    "                                 pautoinf = pautoinf),\n",
    "                 maxit0 = 20,\n",
    "                 maxit1 = 20,\n",
    "                 tol = 1e-3,\n",
    "                 memory_decay = 1e-5,\n",
    "                 window_length = 21,\n",
    "                 tau=0\n",
    ")\n",
    "\n",
    "\n",
    "rankers[\"winbp21_uninf\"] = winbp_prob0_rank.WinBPProb0Ranker(\n",
    "                 params = sib.Params(\n",
    "                                 prob_i = sib.Uniform(1.0), \n",
    "                                 prob_r = sib.Exponential(0.1), \n",
    "                                 pseed = pseed,\n",
    "                                 psus = psus,\n",
    "                                 fp_rate = fp_rate,\n",
    "                                 fn_rate = fn_rate,\n",
    "                                 pautoinf = pautoinf),\n",
    "                 maxit0 = 20,\n",
    "                 maxit1 = 20,\n",
    "                 tol = 1e-3,\n",
    "                 memory_decay = 1e-5,\n",
    "                 window_length = 21,\n",
    "                 tau=7\n",
    ")\n",
    "\n",
    "\"\"\""
   ]
  },
  {
   "cell_type": "code",
   "execution_count": 7,
   "metadata": {},
   "outputs": [
    {
     "data": {
      "text/plain": [
       "0.2554120904376099"
      ]
     },
     "execution_count": 7,
     "metadata": {},
     "output_type": "execute_result"
    }
   ],
   "source": [
    "mob.delta"
   ]
  },
  {
   "cell_type": "code",
   "execution_count": 8,
   "metadata": {
    "scrolled": true
   },
   "outputs": [
    {
     "name": "stdout",
     "output_type": "stream",
     "text": [
      "300 0\n",
      "Starting with guys:  {'expo': [2529, 14544, 47560], 'iasy': [23291, 62890, 63479, 90427], 'ipre': [19479, 72336, 49207, 59093, 82846]}\n",
      "t: 24.00 | 480.00 hrs (20 d)"
     ]
    },
    {
     "name": "stderr",
     "output_type": "stream",
     "text": [
      "iteration.sib: INFO     time:0\n"
     ]
    },
    {
     "name": "stdout",
     "output_type": "stream",
     "text": [
      "\n",
      "[Reached max time: 24h (1d)]\n",
      "All raw contacts 984238\n",
      "Contacts at midnight  32414\n",
      "Contacts collected by coarse-graining  19656\n",
      "Contacts in multiple days  0\n",
      "Coarse-grained contacts  996996\n",
      "Missing contacts  0\n",
      "Asymmetric contacts  0\n"
     ]
    },
    {
     "name": "stderr",
     "output_type": "stream",
     "text": [
      "iteration.sib: INFO     adding contacts in the interval [0, 24]\n",
      "iteration.sib: INFO     number of unique contacts: 964582\n"
     ]
    },
    {
     "name": "stdout",
     "output_type": "stream",
     "text": [
      "\n",
      "\n"
     ]
    },
    {
     "name": "stderr",
     "output_type": "stream",
     "text": [
      "iteration.sib: INFO     winBP: (S,I,R): (90538.0, 1.0, 0.0), seeds: 1.0, ll: -62756.4\n",
      "iteration.sib: INFO     number of tests today: 0\n"
     ]
    },
    {
     "name": "stdout",
     "output_type": "stream",
     "text": [
      "0.9999999999947956 0 0.0 0\n"
     ]
    },
    {
     "name": "stderr",
     "output_type": "stream",
     "text": [
      "iteration.sib: INFO     True  : (S,I,R): (90527.0, 12.0, 0.0)\n",
      "iteration.sib: INFO     AUR_I : 0.595, prec100: 0, prec(1% of 90540): 0.00, prec5%: 0.00\n",
      "iteration.sib: INFO     sym: 0, results test algo (S,I,R): (0,0,0), infected test random: 0/0\n",
      "iteration.sib: INFO     ...quarantining 0 guys -> got 0 infected, 12 free as birds (+12)\n"
     ]
    },
    {
     "name": "stdout",
     "output_type": "stream",
     "text": [
      "t: 48.00 | 480.00 hrs (20 d)"
     ]
    },
    {
     "name": "stderr",
     "output_type": "stream",
     "text": [
      "iteration.sib: INFO     time:1\n"
     ]
    },
    {
     "name": "stdout",
     "output_type": "stream",
     "text": [
      "\n",
      "[Reached max time: 48h (2d)]\n",
      "All raw contacts 1077532\n",
      "Contacts at midnight  65054\n",
      "Contacts collected by coarse-graining  23500\n",
      "Contacts in multiple days  0\n",
      "Coarse-grained contacts  1119086\n",
      "Missing contacts  0\n",
      "Asymmetric contacts  0\n"
     ]
    },
    {
     "name": "stderr",
     "output_type": "stream",
     "text": [
      "iteration.sib: INFO     adding contacts in the interval [24, 48]\n",
      "iteration.sib: INFO     number of unique contacts: 1054032\n"
     ]
    },
    {
     "name": "stdout",
     "output_type": "stream",
     "text": [
      "\n",
      "\n"
     ]
    },
    {
     "name": "stderr",
     "output_type": "stream",
     "text": [
      "iteration.sib: INFO     winBP: (S,I,R): (90537.9, 1.1, 0.0), seeds: 1.0, ll: -62756.4\n",
      "iteration.sib: INFO     number of tests today: 0\n"
     ]
    },
    {
     "name": "stdout",
     "output_type": "stream",
     "text": [
      "1.0907388445630501 0.9999999999947956 0.09073884456872679 0.09897238248187926\n"
     ]
    },
    {
     "name": "stderr",
     "output_type": "stream",
     "text": [
      "iteration.sib: INFO     True  : (S,I,R): (90527.0, 12.0, 0.0)\n",
      "iteration.sib: INFO     AUR_I : 0.442, prec100: 0, prec(1% of 90540): 0.00, prec5%: 0.00\n",
      "iteration.sib: INFO     sym: 1, results test algo (S,I,R): (0,0,0), infected test random: 0/0\n",
      "iteration.sib: INFO     ...quarantining 2 guys -> got 1 infected, 11 free as birds (-1)\n"
     ]
    },
    {
     "name": "stdout",
     "output_type": "stream",
     "text": [
      "t: 72.00 | 480.00 hrs (20 d)"
     ]
    },
    {
     "name": "stderr",
     "output_type": "stream",
     "text": [
      "iteration.sib: INFO     time:2\n"
     ]
    },
    {
     "name": "stdout",
     "output_type": "stream",
     "text": [
      "\n",
      "[Reached max time: 72h (3d)]\n",
      "All raw contacts 1079330\n",
      "Contacts at midnight  68304\n",
      "Contacts collected by coarse-graining  23202\n",
      "Contacts in multiple days  0\n",
      "Coarse-grained contacts  1124432\n",
      "Missing contacts  0\n",
      "Asymmetric contacts  0\n"
     ]
    },
    {
     "name": "stderr",
     "output_type": "stream",
     "text": [
      "iteration.sib: INFO     adding contacts in the interval [48, 72]\n",
      "iteration.sib: INFO     number of unique contacts: 1056126\n"
     ]
    },
    {
     "name": "stdout",
     "output_type": "stream",
     "text": [
      "\n",
      "\n"
     ]
    },
    {
     "name": "stderr",
     "output_type": "stream",
     "text": [
      "iteration.sib: INFO     winBP: (S,I,R): (90536.8, 2.2, 0.0), seeds: 1.9, ll: -62767.7\n",
      "iteration.sib: INFO     number of tests today: 0\n"
     ]
    },
    {
     "name": "stdout",
     "output_type": "stream",
     "text": [
      "2.1828826027616595 1.0907388445630501 1.0012880385094582 2.185694239615643\n"
     ]
    },
    {
     "name": "stderr",
     "output_type": "stream",
     "text": [
      "iteration.sib: INFO     True  : (S,I,R): (90526.0, 13.0, 0.0)\n",
      "iteration.sib: INFO     AUR_I : 0.515, prec100: 0, prec(1% of 90538): 0.00, prec5%: 0.00\n",
      "iteration.sib: INFO     sym: 1, results test algo (S,I,R): (0,0,0), infected test random: 0/0\n",
      "iteration.sib: INFO     ...quarantining 3 guys -> got 1 infected, 11 free as birds (+0)\n"
     ]
    },
    {
     "name": "stdout",
     "output_type": "stream",
     "text": [
      "t: 96.00 | 480.00 hrs (20 d)"
     ]
    },
    {
     "name": "stderr",
     "output_type": "stream",
     "text": [
      "iteration.sib: INFO     time:3\n"
     ]
    },
    {
     "name": "stdout",
     "output_type": "stream",
     "text": [
      "\n",
      "[Reached max time: 96h (4d)]\n",
      "All raw contacts 1091106\n",
      "Contacts at midnight  73320\n",
      "Contacts collected by coarse-graining  24758\n",
      "Contacts in multiple days  0\n",
      "Coarse-grained contacts  1139668\n",
      "Missing contacts  0\n",
      "Asymmetric contacts  0\n"
     ]
    },
    {
     "name": "stderr",
     "output_type": "stream",
     "text": [
      "iteration.sib: INFO     adding contacts in the interval [72, 96]\n",
      "iteration.sib: INFO     number of unique contacts: 1066166\n"
     ]
    },
    {
     "name": "stdout",
     "output_type": "stream",
     "text": [
      "\n",
      "\n"
     ]
    },
    {
     "name": "stderr",
     "output_type": "stream",
     "text": [
      "iteration.sib: INFO     winBP: (S,I,R): (90535.7, 3.3, 0.0), seeds: 2.8, ll: -62778.9\n",
      "iteration.sib: INFO     number of tests today: 0\n"
     ]
    },
    {
     "name": "stdout",
     "output_type": "stream",
     "text": [
      "3.283378561006513 2.1828826027616595 0.5041480274076895 1.6553088247641317\n"
     ]
    },
    {
     "name": "stderr",
     "output_type": "stream",
     "text": [
      "iteration.sib: INFO     True  : (S,I,R): (90526.0, 13.0, 0.0)\n",
      "iteration.sib: INFO     AUR_I : 0.412, prec100: 0, prec(1% of 90535): 0.00, prec5%: 0.00\n",
      "iteration.sib: INFO     sym: 2, results test algo (S,I,R): (0,0,0), infected test random: 0/0\n",
      "iteration.sib: INFO     ...quarantining 7 guys -> got 3 infected, 8 free as birds (-3)\n"
     ]
    },
    {
     "name": "stdout",
     "output_type": "stream",
     "text": [
      "t: 120.00 | 480.00 hrs (20 d)"
     ]
    },
    {
     "name": "stderr",
     "output_type": "stream",
     "text": [
      "iteration.sib: INFO     time:4\n"
     ]
    },
    {
     "name": "stdout",
     "output_type": "stream",
     "text": [
      "\n",
      "[Reached max time: 120h (5d)]\n",
      "All raw contacts 1097742\n",
      "Contacts at midnight  71740\n",
      "Contacts collected by coarse-graining  23190\n",
      "Contacts in multiple days  0\n",
      "Coarse-grained contacts  1146292\n",
      "Missing contacts  0\n",
      "Asymmetric contacts  0\n"
     ]
    },
    {
     "name": "stderr",
     "output_type": "stream",
     "text": [
      "iteration.sib: INFO     adding contacts in the interval [96, 120]\n",
      "iteration.sib: INFO     number of unique contacts: 1074210\n"
     ]
    },
    {
     "name": "stdout",
     "output_type": "stream",
     "text": [
      "\n",
      "\n"
     ]
    },
    {
     "name": "stderr",
     "output_type": "stream",
     "text": [
      "iteration.sib: INFO     winBP: (S,I,R): (90532.5, 6.5, 0.0), seeds: 5.1, ll: -62812.4\n",
      "iteration.sib: INFO     number of tests today: 0\n"
     ]
    },
    {
     "name": "stdout",
     "output_type": "stream",
     "text": [
      "6.470409300495935 3.283378561006513 0.9706558900452964 6.280540898530245\n"
     ]
    },
    {
     "name": "stderr",
     "output_type": "stream",
     "text": [
      "iteration.sib: INFO     True  : (S,I,R): (90522.0, 17.0, 0.0)\n",
      "iteration.sib: INFO     AUR_I : 0.478, prec100: 0, prec(1% of 90528): 0.00, prec5%: 0.00\n",
      "iteration.sib: INFO     sym: 1, results test algo (S,I,R): (0,0,0), infected test random: 0/0\n",
      "iteration.sib: INFO     ...quarantining 5 guys -> got 1 infected, 11 free as birds (+3)\n"
     ]
    },
    {
     "name": "stdout",
     "output_type": "stream",
     "text": [
      "t: 144.00 | 480.00 hrs (20 d)"
     ]
    },
    {
     "name": "stderr",
     "output_type": "stream",
     "text": [
      "iteration.sib: INFO     \n",
      "observation-based inference algorithm starts now\n",
      "\n",
      "iteration.sib: INFO     time:5\n"
     ]
    },
    {
     "name": "stdout",
     "output_type": "stream",
     "text": [
      "\n",
      "[Reached max time: 144h (6d)]\n",
      "All raw contacts 1075272\n",
      "Contacts at midnight  68198\n",
      "Contacts collected by coarse-graining  22546\n",
      "Contacts in multiple days  0\n",
      "Coarse-grained contacts  1120924\n",
      "Missing contacts  0\n",
      "Asymmetric contacts  0\n"
     ]
    },
    {
     "name": "stderr",
     "output_type": "stream",
     "text": [
      "iteration.sib: INFO     adding contacts in the interval [120, 144]\n",
      "iteration.sib: INFO     number of unique contacts: 1052272\n"
     ]
    },
    {
     "name": "stdout",
     "output_type": "stream",
     "text": [
      "\n",
      "\n"
     ]
    },
    {
     "name": "stderr",
     "output_type": "stream",
     "text": [
      "iteration.sib: INFO     winBP: (S,I,R): (90531.4, 7.6, 0.0), seeds: 5.9, ll: -62823.5\n",
      "iteration.sib: INFO     number of tests today: 1\n"
     ]
    },
    {
     "name": "stdout",
     "output_type": "stream",
     "text": [
      "7.5824041202124235 6.470409300495935 0.17185849736449563 1.3031005785100676\n"
     ]
    },
    {
     "name": "stderr",
     "output_type": "stream",
     "text": [
      "iteration.sib: INFO     True  : (S,I,R): (90520.0, 19.0, 0.0)\n",
      "iteration.sib: INFO     AUR_I : 0.653, prec100: 0, prec(1% of 90523): 0.00, prec5%: 0.00\n",
      "iteration.sib: INFO     sym: 1, results test algo (S,I,R): (1,0,0), infected test random: 0/0\n",
      "iteration.sib: INFO     ...quarantining 2 guys -> got 1 infected, 12 free as birds (+1)\n"
     ]
    },
    {
     "name": "stdout",
     "output_type": "stream",
     "text": [
      "t: 168.00 | 480.00 hrs (20 d)"
     ]
    },
    {
     "name": "stderr",
     "output_type": "stream",
     "text": [
      "iteration.sib: INFO     time:6\n"
     ]
    },
    {
     "name": "stdout",
     "output_type": "stream",
     "text": [
      "\n",
      "[Reached max time: 168h (7d)]\n",
      "All raw contacts 1083536\n",
      "Contacts at midnight  69910\n",
      "Contacts collected by coarse-graining  22844\n",
      "Contacts in multiple days  0\n",
      "Coarse-grained contacts  1130602\n",
      "Missing contacts  0\n",
      "Asymmetric contacts  0\n"
     ]
    },
    {
     "name": "stderr",
     "output_type": "stream",
     "text": [
      "iteration.sib: INFO     adding contacts in the interval [144, 168]\n",
      "iteration.sib: INFO     number of unique contacts: 1060272\n"
     ]
    },
    {
     "name": "stdout",
     "output_type": "stream",
     "text": [
      "\n",
      "\n"
     ]
    },
    {
     "name": "stderr",
     "output_type": "stream",
     "text": [
      "iteration.sib: INFO     winBP: (S,I,R): (90530.3, 8.7, 0.0), seeds: 6.5, ll: -62834.6\n",
      "iteration.sib: INFO     number of tests today: 1\n"
     ]
    },
    {
     "name": "stdout",
     "output_type": "stream",
     "text": [
      "8.695572597453289 7.5824041202124235 0.14680943663679055 1.276592114266431\n"
     ]
    },
    {
     "name": "stderr",
     "output_type": "stream",
     "text": [
      "iteration.sib: INFO     True  : (S,I,R): (90513.0, 26.0, 0.0)\n",
      "iteration.sib: INFO     AUR_I : 0.583, prec100: 0, prec(1% of 90521): 0.00, prec5%: 0.00\n",
      "iteration.sib: INFO     sym: 0, results test algo (S,I,R): (1,0,0), infected test random: 0/0\n",
      "iteration.sib: INFO     ...quarantining 0 guys -> got 0 infected, 19 free as birds (+7)\n"
     ]
    },
    {
     "name": "stdout",
     "output_type": "stream",
     "text": [
      "t: 192.00 | 480.00 hrs (20 d)"
     ]
    },
    {
     "name": "stderr",
     "output_type": "stream",
     "text": [
      "iteration.sib: INFO     time:7\n"
     ]
    },
    {
     "name": "stdout",
     "output_type": "stream",
     "text": [
      "\n",
      "[Reached max time: 192h (8d)]\n",
      "All raw contacts 1083334\n",
      "Contacts at midnight  71448\n",
      "Contacts collected by coarse-graining  23530\n",
      "Contacts in multiple days  0\n",
      "Coarse-grained contacts  1131252\n",
      "Missing contacts  0\n",
      "Asymmetric contacts  0\n"
     ]
    },
    {
     "name": "stderr",
     "output_type": "stream",
     "text": [
      "iteration.sib: INFO     adding contacts in the interval [168, 192]\n",
      "iteration.sib: INFO     number of unique contacts: 1059368\n"
     ]
    },
    {
     "name": "stdout",
     "output_type": "stream",
     "text": [
      "\n",
      "\n"
     ]
    },
    {
     "name": "stderr",
     "output_type": "stream",
     "text": [
      "iteration.sib: INFO     winBP: (S,I,R): (90530.2, 8.8, 0.0), seeds: 6.5, ll: -62834.6\n",
      "iteration.sib: INFO     number of tests today: 0\n"
     ]
    },
    {
     "name": "stdout",
     "output_type": "stream",
     "text": [
      "8.807162878554417 8.695572597453289 0.01283299976516897 0.11302231915229369\n"
     ]
    },
    {
     "name": "stderr",
     "output_type": "stream",
     "text": [
      "iteration.sib: INFO     True  : (S,I,R): (90506.0, 33.0, 0.0)\n",
      "iteration.sib: INFO     AUR_I : 0.584, prec100: 0, prec(1% of 90521): 0.00, prec5%: 0.00\n",
      "iteration.sib: INFO     sym: 2, results test algo (S,I,R): (0,0,0), infected test random: 0/0\n",
      "iteration.sib: INFO     ...quarantining 10 guys -> got 9 infected, 17 free as birds (-2)\n"
     ]
    },
    {
     "name": "stdout",
     "output_type": "stream",
     "text": [
      "t: 216.00 | 480.00 hrs (20 d)"
     ]
    },
    {
     "name": "stderr",
     "output_type": "stream",
     "text": [
      "iteration.sib: INFO     time:8\n"
     ]
    },
    {
     "name": "stdout",
     "output_type": "stream",
     "text": [
      "\n",
      "[Reached max time: 216h (9d)]\n",
      "All raw contacts 1086386\n",
      "Contacts at midnight  69894\n",
      "Contacts collected by coarse-graining  24344\n",
      "Contacts in multiple days  0\n",
      "Coarse-grained contacts  1131936\n",
      "Missing contacts  0\n",
      "Asymmetric contacts  0\n"
     ]
    },
    {
     "name": "stderr",
     "output_type": "stream",
     "text": [
      "iteration.sib: INFO     adding contacts in the interval [192, 216]\n",
      "iteration.sib: INFO     number of unique contacts: 1061364\n"
     ]
    },
    {
     "name": "stdout",
     "output_type": "stream",
     "text": [
      "\n",
      "\n"
     ]
    },
    {
     "name": "stderr",
     "output_type": "stream",
     "text": [
      "iteration.sib: INFO     winBP: (S,I,R): (90518.9, 20.1, 0.0), seeds: 11.7, ll: -62926.7\n",
      "iteration.sib: INFO     number of tests today: 25\n"
     ]
    },
    {
     "name": "stdout",
     "output_type": "stream",
     "text": [
      "20.056902746557675 8.807162878554417 1.2773398224979529 25.619480594146683\n"
     ]
    },
    {
     "name": "stderr",
     "output_type": "stream",
     "text": [
      "iteration.sib: INFO     True  : (S,I,R): (90502.0, 37.0, 0.0)\n",
      "iteration.sib: INFO     AUR_I : 0.725, prec100: 0, prec(1% of 90511): 0.00, prec5%: 0.00\n",
      "iteration.sib: INFO     sym: 1, results test algo (S,I,R): (25,0,0), infected test random: 0/0\n",
      "iteration.sib: INFO     ...quarantining 3 guys -> got 3 infected, 17 free as birds (+0)\n"
     ]
    },
    {
     "name": "stdout",
     "output_type": "stream",
     "text": [
      "t: 240.00 | 480.00 hrs (20 d)"
     ]
    },
    {
     "name": "stderr",
     "output_type": "stream",
     "text": [
      "iteration.sib: INFO     time:9\n"
     ]
    },
    {
     "name": "stdout",
     "output_type": "stream",
     "text": [
      "\n",
      "[Reached max time: 240h (10d)]\n",
      "All raw contacts 1082304\n",
      "Contacts at midnight  66702\n",
      "Contacts collected by coarse-graining  22964\n",
      "Contacts in multiple days  0\n",
      "Coarse-grained contacts  1126042\n",
      "Missing contacts  0\n",
      "Asymmetric contacts  0\n"
     ]
    },
    {
     "name": "stderr",
     "output_type": "stream",
     "text": [
      "iteration.sib: INFO     adding contacts in the interval [216, 240]\n",
      "iteration.sib: INFO     number of unique contacts: 1058500\n"
     ]
    },
    {
     "name": "stdout",
     "output_type": "stream",
     "text": [
      "\n",
      "\n"
     ]
    },
    {
     "name": "stderr",
     "output_type": "stream",
     "text": [
      "iteration.sib: INFO     winBP: (S,I,R): (90515.8, 23.2, 0.0), seeds: 13.0, ll: -62955.2\n",
      "iteration.sib: INFO     number of tests today: 3\n"
     ]
    },
    {
     "name": "stdout",
     "output_type": "stream",
     "text": [
      "23.208905377997 20.056902746557675 0.15715300967794218 3.6473493314828067\n"
     ]
    },
    {
     "name": "stderr",
     "output_type": "stream",
     "text": [
      "iteration.sib: INFO     True  : (S,I,R): (90501.0, 38.0, 0.0)\n",
      "iteration.sib: INFO     AUR_I : 0.718, prec100: 2, prec(1% of 90508): 0.01, prec5%: 0.00\n",
      "iteration.sib: INFO     sym: 2, results test algo (S,I,R): (3,0,0), infected test random: 0/0\n",
      "iteration.sib: INFO     ...quarantining 3 guys -> got 2 infected, 16 free as birds (-1)\n"
     ]
    },
    {
     "name": "stdout",
     "output_type": "stream",
     "text": [
      "t: 264.00 | 480.00 hrs (20 d)"
     ]
    },
    {
     "name": "stderr",
     "output_type": "stream",
     "text": [
      "iteration.sib: INFO     time:10\n"
     ]
    },
    {
     "name": "stdout",
     "output_type": "stream",
     "text": [
      "\n",
      "[Reached max time: 264h (11d)]\n",
      "All raw contacts 1080964\n",
      "Contacts at midnight  67848\n",
      "Contacts collected by coarse-graining  22440\n",
      "Contacts in multiple days  0\n",
      "Coarse-grained contacts  1126372\n",
      "Missing contacts  0\n",
      "Asymmetric contacts  0\n"
     ]
    },
    {
     "name": "stderr",
     "output_type": "stream",
     "text": [
      "iteration.sib: INFO     adding contacts in the interval [240, 264]\n",
      "iteration.sib: INFO     number of unique contacts: 1057738\n"
     ]
    },
    {
     "name": "stdout",
     "output_type": "stream",
     "text": [
      "\n",
      "\n"
     ]
    },
    {
     "name": "stderr",
     "output_type": "stream",
     "text": [
      "iteration.sib: INFO     winBP: (S,I,R): (90513.2, 25.8, 0.0), seeds: 13.8, ll: -62974.9\n",
      "iteration.sib: INFO     number of tests today: 2\n"
     ]
    },
    {
     "name": "stdout",
     "output_type": "stream",
     "text": [
      "25.790876228055176 23.208905377997 0.11124914372333958 2.8692128962457724\n"
     ]
    },
    {
     "name": "stderr",
     "output_type": "stream",
     "text": [
      "iteration.sib: INFO     True  : (S,I,R): (90497.0, 42.0, 0.0)\n",
      "iteration.sib: INFO     AUR_I : 0.745, prec100: 1, prec(1% of 90505): 0.01, prec5%: 0.00\n",
      "iteration.sib: INFO     sym: 0, results test algo (S,I,R): (2,0,0), infected test random: 0/0\n",
      "iteration.sib: INFO     ...quarantining 0 guys -> got 0 infected, 20 free as birds (+4)\n"
     ]
    },
    {
     "name": "stdout",
     "output_type": "stream",
     "text": [
      "t: 288.00 | 480.00 hrs (20 d)"
     ]
    },
    {
     "name": "stderr",
     "output_type": "stream",
     "text": [
      "iteration.sib: INFO     time:11\n"
     ]
    },
    {
     "name": "stdout",
     "output_type": "stream",
     "text": [
      "\n",
      "[Reached max time: 288h (12d)]\n",
      "All raw contacts 1093712\n",
      "Contacts at midnight  72758\n",
      "Contacts collected by coarse-graining  23396\n",
      "Contacts in multiple days  0\n",
      "Coarse-grained contacts  1143074\n",
      "Missing contacts  0\n",
      "Asymmetric contacts  0\n"
     ]
    },
    {
     "name": "stderr",
     "output_type": "stream",
     "text": [
      "iteration.sib: INFO     adding contacts in the interval [264, 288]\n",
      "iteration.sib: INFO     number of unique contacts: 1069406\n"
     ]
    },
    {
     "name": "stdout",
     "output_type": "stream",
     "text": [
      "\n",
      "\n"
     ]
    },
    {
     "name": "stderr",
     "output_type": "stream",
     "text": [
      "iteration.sib: INFO     winBP: (S,I,R): (90513.2, 25.8, 0.0), seeds: 13.8, ll: -62974.4\n",
      "iteration.sib: INFO     number of tests today: 0\n"
     ]
    },
    {
     "name": "stdout",
     "output_type": "stream",
     "text": [
      "25.79319020413228 25.790876228055176 8.972072358624847e-05 0.002314183688712484\n"
     ]
    },
    {
     "name": "stderr",
     "output_type": "stream",
     "text": [
      "iteration.sib: INFO     True  : (S,I,R): (90490.0, 49.0, 0.0)\n",
      "iteration.sib: INFO     AUR_I : 0.709, prec100: 2, prec(1% of 90505): 0.01, prec5%: 0.00\n",
      "iteration.sib: INFO     sym: 1, results test algo (S,I,R): (0,0,0), infected test random: 0/0\n",
      "iteration.sib: INFO     ...quarantining 4 guys -> got 4 infected, 22 free as birds (+2)\n"
     ]
    },
    {
     "name": "stdout",
     "output_type": "stream",
     "text": [
      "t: 312.00 | 480.00 hrs (20 d)"
     ]
    },
    {
     "name": "stderr",
     "output_type": "stream",
     "text": [
      "iteration.sib: INFO     time:12\n"
     ]
    },
    {
     "name": "stdout",
     "output_type": "stream",
     "text": [
      "\n",
      "[Reached max time: 312h (13d)]\n",
      "All raw contacts 1088960\n",
      "Contacts at midnight  71020\n",
      "Contacts collected by coarse-graining  22932\n",
      "Contacts in multiple days  0\n",
      "Coarse-grained contacts  1137048\n",
      "Missing contacts  0\n",
      "Asymmetric contacts  0\n"
     ]
    },
    {
     "name": "stderr",
     "output_type": "stream",
     "text": [
      "iteration.sib: INFO     adding contacts in the interval [288, 312]\n",
      "iteration.sib: INFO     number of unique contacts: 1065064\n"
     ]
    },
    {
     "name": "stdout",
     "output_type": "stream",
     "text": [
      "\n",
      "\n"
     ]
    },
    {
     "name": "stderr",
     "output_type": "stream",
     "text": [
      "iteration.sib: INFO     winBP: (S,I,R): (90508.3, 30.6, 0.1), seeds: 15.2, ll: -63010.7\n",
      "iteration.sib: INFO     number of tests today: 5\n"
     ]
    },
    {
     "name": "stdout",
     "output_type": "stream",
     "text": [
      "30.61260872193283 25.79319020413228 0.18684848518770816 5.719919567337172\n"
     ]
    },
    {
     "name": "stderr",
     "output_type": "stream",
     "text": [
      "iteration.sib: INFO     True  : (S,I,R): (90482.0, 56.0, 1.0)\n",
      "iteration.sib: INFO     AUR_I : 0.741, prec100: 2, prec(1% of 90501): 0.01, prec5%: 0.00\n",
      "iteration.sib: INFO     sym: 0, results test algo (S,I,R): (5,0,0), infected test random: 0/0\n",
      "iteration.sib: INFO     ...quarantining 0 guys -> got 0 infected, 29 free as birds (+7)\n"
     ]
    },
    {
     "name": "stdout",
     "output_type": "stream",
     "text": [
      "t: 336.00 | 480.00 hrs (20 d)"
     ]
    },
    {
     "name": "stderr",
     "output_type": "stream",
     "text": [
      "iteration.sib: INFO     time:13\n"
     ]
    },
    {
     "name": "stdout",
     "output_type": "stream",
     "text": [
      "\n",
      "[Reached max time: 336h (14d)]\n",
      "All raw contacts 1089254\n",
      "Contacts at midnight  68108\n",
      "Contacts collected by coarse-graining  24032\n",
      "Contacts in multiple days  0\n",
      "Coarse-grained contacts  1133330\n",
      "Missing contacts  0\n",
      "Asymmetric contacts  0\n"
     ]
    },
    {
     "name": "stderr",
     "output_type": "stream",
     "text": [
      "iteration.sib: INFO     adding contacts in the interval [312, 336]\n",
      "iteration.sib: INFO     number of unique contacts: 1064126\n"
     ]
    },
    {
     "name": "stdout",
     "output_type": "stream",
     "text": [
      "\n",
      "\n"
     ]
    },
    {
     "name": "stderr",
     "output_type": "stream",
     "text": [
      "iteration.sib: INFO     winBP: (S,I,R): (90508.3, 30.4, 0.3), seeds: 15.3, ll: -63011.0\n",
      "iteration.sib: INFO     number of tests today: 0\n"
     ]
    },
    {
     "name": "stdout",
     "output_type": "stream",
     "text": [
      "30.444796079990194 30.61260872193283 -0.00548181448588548 0\n"
     ]
    },
    {
     "name": "stderr",
     "output_type": "stream",
     "text": [
      "iteration.sib: INFO     True  : (S,I,R): (90474.0, 63.0, 2.0)\n",
      "iteration.sib: INFO     AUR_I : 0.725, prec100: 3, prec(1% of 90501): 0.01, prec5%: 0.00\n",
      "iteration.sib: INFO     sym: 3, results test algo (S,I,R): (0,0,0), infected test random: 0/0\n",
      "iteration.sib: INFO     ...quarantining 8 guys -> got 8 infected, 28 free as birds (-1)\n"
     ]
    },
    {
     "name": "stdout",
     "output_type": "stream",
     "text": [
      "t: 360.00 | 480.00 hrs (20 d)"
     ]
    },
    {
     "name": "stderr",
     "output_type": "stream",
     "text": [
      "iteration.sib: INFO     time:14\n"
     ]
    },
    {
     "name": "stdout",
     "output_type": "stream",
     "text": [
      "\n",
      "[Reached max time: 360h (15d)]\n",
      "All raw contacts 1076566\n",
      "Contacts at midnight  69558\n",
      "Contacts collected by coarse-graining  22770\n",
      "Contacts in multiple days  0\n",
      "Coarse-grained contacts  1123354\n",
      "Missing contacts  0\n",
      "Asymmetric contacts  0\n"
     ]
    },
    {
     "name": "stderr",
     "output_type": "stream",
     "text": [
      "iteration.sib: INFO     adding contacts in the interval [336, 360]\n",
      "iteration.sib: INFO     number of unique contacts: 1052778\n"
     ]
    },
    {
     "name": "stdout",
     "output_type": "stream",
     "text": [
      "\n",
      "\n"
     ]
    },
    {
     "name": "stderr",
     "output_type": "stream",
     "text": [
      "iteration.sib: INFO     winBP: (S,I,R): (90497.2, 40.9, 0.9), seeds: 17.7, ll: -63215.8\n",
      "iteration.sib: INFO     number of tests today: 14\n"
     ]
    },
    {
     "name": "stdout",
     "output_type": "stream",
     "text": [
      "40.94968281784992 30.444796079990194 0.345047038917894 14.129566800926076\n"
     ]
    },
    {
     "name": "stderr",
     "output_type": "stream",
     "text": [
      "iteration.sib: INFO     True  : (S,I,R): (90466.0, 69.0, 4.0)\n",
      "iteration.sib: INFO     AUR_I : 0.707, prec100: 3, prec(1% of 90493): 0.01, prec5%: 0.00\n",
      "iteration.sib: INFO     sym: 0, results test algo (S,I,R): (14,0,0), infected test random: 0/0\n",
      "iteration.sib: INFO     ...quarantining 0 guys -> got 0 infected, 35 free as birds (+7)\n"
     ]
    },
    {
     "name": "stdout",
     "output_type": "stream",
     "text": [
      "t: 384.00 | 480.00 hrs (20 d)"
     ]
    },
    {
     "name": "stderr",
     "output_type": "stream",
     "text": [
      "iteration.sib: INFO     time:15\n"
     ]
    },
    {
     "name": "stdout",
     "output_type": "stream",
     "text": [
      "\n",
      "[Reached max time: 384h (16d)]\n",
      "All raw contacts 1084376\n",
      "Contacts at midnight  68956\n",
      "Contacts collected by coarse-graining  22938\n",
      "Contacts in multiple days  0\n",
      "Coarse-grained contacts  1130394\n",
      "Missing contacts  0\n",
      "Asymmetric contacts  0\n"
     ]
    },
    {
     "name": "stderr",
     "output_type": "stream",
     "text": [
      "iteration.sib: INFO     adding contacts in the interval [360, 384]\n",
      "iteration.sib: INFO     number of unique contacts: 1059948\n"
     ]
    },
    {
     "name": "stdout",
     "output_type": "stream",
     "text": [
      "\n",
      "\n"
     ]
    },
    {
     "name": "stderr",
     "output_type": "stream",
     "text": [
      "iteration.sib: INFO     winBP: (S,I,R): (90497.4, 39.3, 2.3), seeds: 17.7, ll: -63086.2\n",
      "iteration.sib: INFO     number of tests today: 0\n"
     ]
    },
    {
     "name": "stdout",
     "output_type": "stream",
     "text": [
      "39.333950264304896 40.94968281784992 -0.03945653402816411 0\n"
     ]
    },
    {
     "name": "stderr",
     "output_type": "stream",
     "text": [
      "iteration.sib: INFO     True  : (S,I,R): (90461.0, 73.0, 5.0)\n",
      "iteration.sib: INFO     AUR_I : 0.697, prec100: 4, prec(1% of 90493): 0.01, prec5%: 0.00\n",
      "iteration.sib: INFO     sym: 4, results test algo (S,I,R): (0,0,0), infected test random: 0/0\n",
      "iteration.sib: INFO     ...quarantining 14 guys -> got 13 infected, 27 free as birds (-8)\n"
     ]
    },
    {
     "name": "stdout",
     "output_type": "stream",
     "text": [
      "t: 408.00 | 480.00 hrs (20 d)"
     ]
    },
    {
     "name": "stderr",
     "output_type": "stream",
     "text": [
      "iteration.sib: INFO     time:16\n"
     ]
    },
    {
     "name": "stdout",
     "output_type": "stream",
     "text": [
      "\n",
      "[Reached max time: 408h (17d)]\n",
      "All raw contacts 1078892\n",
      "Contacts at midnight  65482\n",
      "Contacts collected by coarse-graining  23848\n",
      "Contacts in multiple days  0\n",
      "Coarse-grained contacts  1120526\n",
      "Missing contacts  0\n",
      "Asymmetric contacts  0\n"
     ]
    },
    {
     "name": "stderr",
     "output_type": "stream",
     "text": [
      "iteration.sib: INFO     adding contacts in the interval [384, 408]\n",
      "iteration.sib: INFO     number of unique contacts: 1053378\n"
     ]
    },
    {
     "name": "stdout",
     "output_type": "stream",
     "text": [
      "\n",
      "\n"
     ]
    },
    {
     "name": "stderr",
     "output_type": "stream",
     "text": [
      "iteration.sib: INFO     winBP: (S,I,R): (90477.5, 56.3, 5.2), seeds: 20.7, ll: -63162.3\n",
      "iteration.sib: INFO     number of tests today: 24\n"
     ]
    },
    {
     "name": "stdout",
     "output_type": "stream",
     "text": [
      "56.309565501110534 39.333950264304896 0.4315766690794545 24.30189471628065\n"
     ]
    },
    {
     "name": "stderr",
     "output_type": "stream",
     "text": [
      "iteration.sib: INFO     True  : (S,I,R): (90456.0, 75.0, 8.0)\n",
      "iteration.sib: INFO     AUR_I : 0.714, prec100: 1, prec(1% of 90469): 0.00, prec5%: 0.00\n",
      "iteration.sib: INFO     sym: 1, results test algo (S,I,R): (21,3,0), infected test random: 0/0\n",
      "iteration.sib: INFO     ...quarantining 14 guys -> got 7 infected, 23 free as birds (-4)\n"
     ]
    },
    {
     "name": "stdout",
     "output_type": "stream",
     "text": [
      "t: 432.00 | 480.00 hrs (20 d)"
     ]
    },
    {
     "name": "stderr",
     "output_type": "stream",
     "text": [
      "iteration.sib: INFO     time:17\n"
     ]
    },
    {
     "name": "stdout",
     "output_type": "stream",
     "text": [
      "\n",
      "[Reached max time: 432h (18d)]\n",
      "All raw contacts 1063872\n",
      "Contacts at midnight  66308\n",
      "Contacts collected by coarse-graining  22926\n",
      "Contacts in multiple days  0\n",
      "Coarse-grained contacts  1107254\n",
      "Missing contacts  0\n",
      "Asymmetric contacts  0\n"
     ]
    },
    {
     "name": "stderr",
     "output_type": "stream",
     "text": [
      "iteration.sib: INFO     adding contacts in the interval [408, 432]\n",
      "iteration.sib: INFO     number of unique contacts: 1039158\n"
     ]
    },
    {
     "name": "stdout",
     "output_type": "stream",
     "text": [
      "\n",
      "\n"
     ]
    },
    {
     "name": "stderr",
     "output_type": "stream",
     "text": [
      "iteration.sib: INFO     winBP: (S,I,R): (90467.7, 61.9, 9.3), seeds: 21.8, ll: -63306.5\n",
      "iteration.sib: INFO     number of tests today: 6\n"
     ]
    },
    {
     "name": "stdout",
     "output_type": "stream",
     "text": [
      "61.933223679179015 56.309565501110534 0.09987038841487016 6.185295104624642\n"
     ]
    },
    {
     "name": "stderr",
     "output_type": "stream",
     "text": [
      "iteration.sib: INFO     True  : (S,I,R): (90451.0, 79.0, 9.0)\n",
      "iteration.sib: INFO     AUR_I : 0.782, prec100: 3, prec(1% of 90465): 0.01, prec5%: 0.00\n",
      "iteration.sib: INFO     sym: 2, results test algo (S,I,R): (6,0,0), infected test random: 0/0\n",
      "iteration.sib: INFO     ...quarantining 6 guys -> got 4 infected, 22 free as birds (-1)\n"
     ]
    },
    {
     "name": "stdout",
     "output_type": "stream",
     "text": [
      "t: 456.00 | 480.00 hrs (20 d)"
     ]
    },
    {
     "name": "stderr",
     "output_type": "stream",
     "text": [
      "iteration.sib: INFO     time:18\n"
     ]
    },
    {
     "name": "stdout",
     "output_type": "stream",
     "text": [
      "\n",
      "[Reached max time: 456h (19d)]\n",
      "All raw contacts 1079596\n",
      "Contacts at midnight  69156\n",
      "Contacts collected by coarse-graining  22782\n",
      "Contacts in multiple days  0\n",
      "Coarse-grained contacts  1125970\n",
      "Missing contacts  0\n",
      "Asymmetric contacts  0\n"
     ]
    },
    {
     "name": "stderr",
     "output_type": "stream",
     "text": [
      "iteration.sib: INFO     adding contacts in the interval [432, 456]\n",
      "iteration.sib: INFO     number of unique contacts: 1054908\n"
     ]
    },
    {
     "name": "stdout",
     "output_type": "stream",
     "text": [
      "\n",
      "\n"
     ]
    },
    {
     "name": "stderr",
     "output_type": "stream",
     "text": [
      "iteration.sib: INFO     winBP: (S,I,R): (90461.9, 62.8, 14.3), seeds: 22.4, ll: -62761.1\n",
      "iteration.sib: INFO     number of tests today: 0\n"
     ]
    },
    {
     "name": "stdout",
     "output_type": "stream",
     "text": [
      "62.814243157697746 61.933223679179015 0.014225312783369868 0.893552256168901\n"
     ]
    },
    {
     "name": "stderr",
     "output_type": "stream",
     "text": [
      "iteration.sib: INFO     True  : (S,I,R): (90437.0, 91.0, 11.0)\n",
      "iteration.sib: INFO     AUR_I : 0.739, prec100: 3, prec(1% of 90459): 0.01, prec5%: 0.00\n",
      "iteration.sib: INFO     sym: 0, results test algo (S,I,R): (0,0,0), infected test random: 0/0\n",
      "iteration.sib: INFO     ...quarantining 0 guys -> got 0 infected, 32 free as birds (+10)\n"
     ]
    },
    {
     "name": "stdout",
     "output_type": "stream",
     "text": [
      "t: 479.93 | 480.00 hrs (20 d)"
     ]
    },
    {
     "name": "stderr",
     "output_type": "stream",
     "text": [
      "iteration.sib: INFO     time:19\n"
     ]
    },
    {
     "name": "stdout",
     "output_type": "stream",
     "text": [
      "All raw contacts 989390\n",
      "Contacts at midnight  34474\n",
      "Contacts collected by coarse-graining  19122\n",
      "Contacts in multiple days  0\n",
      "Coarse-grained contacts  1004742\n",
      "Missing contacts  0\n",
      "Asymmetric contacts  0\n"
     ]
    },
    {
     "name": "stderr",
     "output_type": "stream",
     "text": [
      "iteration.sib: INFO     adding contacts in the interval [456, 480]\n",
      "iteration.sib: INFO     number of unique contacts: 967958\n"
     ]
    },
    {
     "name": "stdout",
     "output_type": "stream",
     "text": []
    }
   ],
   "source": [
    "ress = {}\n",
    "for num_test_algo in [300]: #number of test per day by ranking\n",
    "    for seed in [0]:\n",
    "        print(num_test_algo, seed)\n",
    "        for s in list(rankers.keys()):\n",
    "            data = {\"algo\":s}\n",
    "            if s== \"no_intervention\":\n",
    "                    res_s = loop_mtpp.free_mtpp(mob,\n",
    "                    country  = country,\n",
    "                    beta = beta,\n",
    "                    T = T,\n",
    "                    seed=seed,\n",
    "                    logger = logging.getLogger(f\"iteration.{s}\"),\n",
    "                    data = data,\n",
    "                    initial_counts = n_seeds,\n",
    "                    name_file_res = s + f\"_N_{N}_T_{T}_obs_{num_test_algo}_sym_obs_{fraction_sym_obs}_seed_{seed}\",\n",
    "                    output_dir = output_dir,\n",
    "                     )\n",
    "            else:\n",
    "                    res_s = loop_mtpp.loop_mtpp(mob,\n",
    "                    rankers[s],\n",
    "                    country  = country,\n",
    "                    T = T,\n",
    "                    seed=seed,\n",
    "                    logger = logging.getLogger(f\"iteration.{s}\"),\n",
    "                    data = data,\n",
    "                    initial_steps = initial_steps, \n",
    "                    num_test_random = num_test_random,\n",
    "                    num_test_algo = num_test_algo,\n",
    "                    fraction_sym_obs = fraction_sym_obs,\n",
    "                    initial_counts = n_seeds,\n",
    "                    beta = beta,\n",
    "                    test_HH = test_HH,\n",
    "                    quarantine_HH = quarantine_HH,\n",
    "                    name_file_res = s + f\"_N_{N}_T_{T}_obs_{num_test_algo}_sym_obs_{fraction_sym_obs}_seed_{seed}\",\n",
    "                    output_dir = output_dir,\n",
    "                    save_every_iter = 1,\n",
    "                    adoption_fraction = adoption_fraction,\n",
    "                    probability_th = probability_th,\n",
    "                    adapt_th = adapt_th,\n",
    "                    fp_rate = fp_rate,\n",
    "                    fn_rate = fn_rate\n",
    "                 )\n",
    "            ress[s] = res_s    \n",
    "        del res_s\n"
   ]
  },
  {
   "cell_type": "code",
   "execution_count": null,
   "metadata": {},
   "outputs": [],
   "source": [
    "import matplotlib.pyplot as plt\n",
    "fig,axs = plt.subplots(1,5,figsize = (25,5))\n",
    "to_plot = ['I','infected_free','num_quarantined', \"q_algo\", \"n_test_algo\"]\n",
    "for s in ress.keys():    \n",
    "    for il,l in enumerate(to_plot):\n",
    "        if s != \"no_intervention\":\n",
    "            axs[il].plot(range(T),ress[s][l],label = s)\n",
    "            if l!= \"aurI\":\n",
    "                axs[il].set_yscale (\"log\") \n",
    "                axs[il].vlines(initial_steps,ymin = 1,ymax = 10**4,linestyle = \"--\",alpha = 0.5, color = \"black\")\n",
    "            else:\n",
    "                axs[il].vlines(initial_steps,ymin = 0,ymax = 1,linestyle = \"--\",alpha = 0.5, color = \"black\")\n",
    "            \n",
    "            axs[il].set_title(l,fontsize = 12)\n",
    "    axs[0].legend(loc = 'upper left')\n",
    "    \n",
    "#fig.suptitle(f\"num test algo {num_test_algo} - adoption_fraction {adoption_fraction}\")\n",
    "fig.show()\n",
    "\n",
    "\n"
   ]
  },
  {
   "cell_type": "code",
   "execution_count": null,
   "metadata": {},
   "outputs": [],
   "source": [
    "ress['sib']['vecH']"
   ]
  },
  {
   "cell_type": "code",
   "execution_count": null,
   "metadata": {},
   "outputs": [],
   "source": []
  },
  {
   "cell_type": "code",
   "execution_count": null,
   "metadata": {},
   "outputs": [],
   "source": []
  }
 ],
 "metadata": {
  "interpreter": {
   "hash": "d4d1e4263499bec80672ea0156c357c1ee493ec2b1c70f0acce89fc37c4a6abe"
  },
  "kernelspec": {
   "display_name": "Python 3.8.5 64-bit ('base': conda)",
   "name": "python3"
  },
  "language_info": {
   "codemirror_mode": {
    "name": "ipython",
    "version": 3
   },
   "file_extension": ".py",
   "mimetype": "text/x-python",
   "name": "python",
   "nbconvert_exporter": "python",
   "pygments_lexer": "ipython3",
   "version": "3.8.5"
  }
 },
 "nbformat": 4,
 "nbformat_minor": 4
}
