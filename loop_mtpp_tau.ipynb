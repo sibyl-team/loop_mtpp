{
 "cells": [
  {
   "cell_type": "code",
   "execution_count": 1,
   "source": [
    "import sys\n",
    "#sys.path.insert(0,'./src/')\n",
    "#simulator_path = \"../covid_de/sim/\" ##change simulatio path here \n",
    "sys.path.insert(0,'src/')\n",
    "sys.path.insert(0, '../sib/')\n",
    "simulator_path = \"../simulator/sim/\" ##change simulatio path here \n",
    "sys.path.insert(0, '../simulator/sim/lib/') # we need distributions.py\n",
    "\n",
    "sys.path.insert(0,simulator_path)\n",
    "\n",
    "from pathlib import Path\n",
    "import numpy as np, pandas as pd, matplotlib.pyplot as plt\n",
    "import json, log, logging, loop_mtpp\n",
    "from importlib import reload\n",
    "import imp\n",
    "from math import exp\n",
    "import pickle\n",
    "#sys.path.insert(0,'./src/loop_ranker')\n",
    "from lib.mobilitysim import MobilitySimulator\n",
    "import loop_mtpp\n",
    "from mtpp_utils import contacts_cg\n",
    "from distributions import CovidDistributions\n",
    "\n",
    "\n",
    "\n",
    "#logging\n",
    "data_path = '../simulator/sim/lib/mobility/'\n",
    "\n",
    "output_dir = \"output_Tubingen_pop1_site1/\"\n",
    "fold_out = Path(output_dir)\n",
    "if not fold_out.exists():\n",
    "    fold_out.mkdir(parents=True)\n",
    "\n",
    "reload(log)\n",
    "logger = log.setup_logger()"
   ],
   "outputs": [
    {
     "output_type": "stream",
     "name": "stdout",
     "text": [
      "Log setup complete\n"
     ]
    }
   ],
   "metadata": {}
  },
  {
   "cell_type": "markdown",
   "source": [
    "### Mobility simulation"
   ],
   "metadata": {}
  },
  {
   "cell_type": "code",
   "execution_count": 2,
   "source": [
    "beta = 0.05 # from paper\n",
    "country = 'GER'\n",
    "distr = CovidDistributions(country)\n",
    "#with open(data_path + 'Isle_of_Wight_settings_pop10_site5.pk', 'rb') as fp:\n",
    "with open(data_path + 'Tubingen_settings_pop1_site1.pk', 'rb') as fp:\n",
    "    mob_kwargs = pickle.load(fp)\n",
    "\n",
    "mob_kwargs[\"delta\"] = 0.2554120904376099\n",
    "T = 100\n",
    "seed_mob = 1\n",
    "seed = 1\n",
    "t_unit = 24\n",
    "t_res = 0.25 # drop contacts with a duration < t_res (in hours)\n",
    "max_time = T * t_unit  \n",
    "mob = MobilitySimulator(**mob_kwargs)\n",
    "mob.verbose = True\n",
    "out = mob.simulate(max_time=max_time, seed=seed_mob)\n",
    "N = mob.num_people \n",
    "#print(N)"
   ],
   "outputs": [
    {
     "output_type": "stream",
     "name": "stdout",
     "text": [
      "Simulate mobility for 240.00 time units... "
     ]
    }
   ],
   "metadata": {
    "scrolled": true
   }
  },
  {
   "cell_type": "code",
   "execution_count": 3,
   "source": [
    "#contacts_df = pd.DataFrame(contacts_cg(mob, t_res, t_unit, 0, np.inf, first_filter = False),columns = ['i','j','t','deltat'])"
   ],
   "outputs": [
    {
     "output_type": "stream",
     "name": "stdout",
     "text": [
      "All raw contacts 10312386\n",
      "Contacts at midnight  316328\n",
      "Contacts collected by coarse-graining  223582\n",
      "Contacts in multiple days  0\n",
      "Coarse-grained contacts  10405132\n",
      "Missing contacts  0\n",
      "Asymmetric contacts  0\n"
     ]
    }
   ],
   "metadata": {
    "scrolled": true
   }
  },
  {
   "cell_type": "code",
   "execution_count": 4,
   "source": [
    "#contacts_df = contacts_df.sort_values(by=[\"t\",\"i\",\"j\"])"
   ],
   "outputs": [],
   "metadata": {}
  },
  {
   "cell_type": "markdown",
   "source": [
    "## Set testing and quarantine rules"
   ],
   "metadata": {}
  },
  {
   "cell_type": "code",
   "execution_count": 6,
   "source": [
    "#n_indiv=np.ceil(mob_kwargs['num_people_unscaled']/mob_kwargs['downsample_pop'])\n",
    "n_seeds = {'expo': 3, 'iasy':4,'ipre':5} # select initial infected seeds\n",
    "num_test_random = 0 #number of random tests per day\n",
    "fraction_sym_obs = 0.5 #fraction of Symptomatic tested positive\n",
    "initial_steps = 5 #starting time of intervention\n",
    "delta_days = 1 # intervention every delta_days days (for the moment keep to 1)\n",
    "#assert initial_steps % delta_days == 0\n",
    "test_HH = False\n",
    "quarantine_HH = True\n",
    "adoption_fraction = 1.0"
   ],
   "outputs": [],
   "metadata": {}
  },
  {
   "cell_type": "markdown",
   "source": [
    "## Set the inference algorithm class"
   ],
   "metadata": {}
  },
  {
   "cell_type": "code",
   "execution_count": 7,
   "source": [
    "import sib,  scipy\n",
    "\n",
    "from loop_ranker import sib_rank, sib_drop_rank, greedy_rank, dotd_rank, mean_field_rank, tracing_rank, winbp_rank, winbp_prob0_rank\n",
    "from tqdm.notebook import tqdm\n",
    "from scipy.stats import gamma\n",
    "sib.set_num_threads(6)\n",
    "\n",
    "import matplotlib.pyplot as plt\n",
    "\n",
    "mu = 1/12\n",
    "prob_seed = 1/N\n",
    "prob_sus = 0.5\n",
    "pautoinf = 1e-10\n",
    "pseed = prob_seed / (2 - prob_seed)\n",
    "psus = prob_sus * (1 - pseed)\n",
    "pautoinf = 1e-6\n",
    "fp_rate = 0.0\n",
    "fn_rate = 0.0\n",
    "\n",
    "rankers = {}\n",
    "rankers[\"dotd\"] = dotd_rank.DotdRanker()\n",
    "\n",
    "\"\"\"\n",
    "rankers[\"MF\"] = mean_field_rank.MeanFieldRanker(\n",
    "                tau = 5,\n",
    "                delta = 10,\n",
    "                mu = mu,\n",
    "                lamb = 1.0\n",
    "                )\n",
    "                \n",
    "\n",
    "rankers[\"tracing\"] = tracing_rank.TracingRanker(\n",
    "                 tau=5,\n",
    "                 lamb=1.0\n",
    ")\n",
    "\n",
    "\n",
    "rankers[\"greedy\"] = greedy_rank.GreedyRanker(\n",
    "                 include_S = True,\n",
    "                tau=10)\n",
    "\n",
    "\n",
    "\n",
    "rankers[\"winbp20prob0\"] = winbp_prob0_rank.WinBPProb0Ranker(\n",
    "                 params = sib.Params(\n",
    "                                 prob_i = sib.Uniform(1.0),\n",
    "                                 prob_r = sib.Exponential(mu=mu),\n",
    "                                 #prob_i = sib.PriorDiscrete(list(0.25 * abm_utils.gamma_pdf_array(T+1,6,2.5))),\n",
    "                                 #prob_r = sib.PriorDiscrete(list(scipy.stats.gamma.sf(range(T+1), 10., scale=1.7452974337097158))),\n",
    "                                 #prob_i = sib.Uniform(0.014),\n",
    "                                 #prob_r = sib.Gamma(k = 10, mu = 1/1.7452974337097158),\n",
    "                                 pseed = pseed,\n",
    "                                 psus = psus,\n",
    "                                 fp_rate = fp_rate,\n",
    "                                 fn_rate = fn_rate,\n",
    "                                 pautoinf = pautoinf),\n",
    "                 maxit0 = 30,\n",
    "                 maxit1 = 30,\n",
    "                 damp0 = 0.5,\n",
    "                 damp1 = 0.9,\n",
    "                 tol = 1e-3,\n",
    "                 memory_decay = 1e-2,\n",
    "                 window_length = 20\n",
    ")\n",
    "\n",
    "\n",
    "rankers[\"no_intervention\"] = None\n",
    "\"\"\"\n",
    "k_rec_gamma = 62.484380808876004\n",
    "scale_rec_gamma = 0.2992112296058585\n",
    "t0 = distr.incubation_mean_of_lognormal - distr.median_infectious_without_symptom\n",
    "alpha = 2.0\n",
    "tau =  7\n",
    "\n",
    "\n",
    "rankers[\"sib\"] = winbp_prob0_rank.WinBPProb0Ranker(\n",
    "                 params = sib.Params(\n",
    "                                 #prob_i = sib.Cached(sib.Scaled(sib.PDF(sib.Gamma(k=5.76, mu=0.96)), scale=0.25), T+1),\n",
    "                                 #prob_r = sib.Cached(sib.Gamma(k = 10, mu = 1/1.7452974337097158), T+1),\n",
    "                                 prob_i = sib.PiecewiseLinear(sib.RealParams(list(scipy.special.expit(alpha*(range(T+1) -t0*np.ones(T+1)))))), \n",
    "                                 prob_r = sib.PiecewiseLinear(sib.RealParams(list(scipy.stats.gamma.sf(range(T+1), k_rec_gamma, scale=scale_rec_gamma)))),\n",
    "                                 pseed = pseed,\n",
    "                                 psus = psus,\n",
    "                                 fp_rate = fp_rate,\n",
    "                                 fn_rate = fn_rate,\n",
    "                                 pautoinf = pautoinf),\n",
    "                 maxit0 = 20,\n",
    "                 maxit1 = 20,\n",
    "                 tol = 1e-3,\n",
    "                 memory_decay = 1e-5,\n",
    "                 window_length = 21,\n",
    "                 tau=tau\n",
    ")\n",
    "\n",
    "\"\"\"\n",
    "rankers[\"winbp21_tau0\"] = winbp_prob0_rank.WinBPProb0Ranker(\n",
    "                 params = sib.Params(\n",
    "                                 prob_i = sib.Cached(sib.Scaled(sib.PDF(sib.Gamma(k=5.76, mu=0.96)), scale=0.25), T+1),\n",
    "                                 prob_r = sib.Cached(sib.Gamma(k = 10, mu = 1/1.7452974337097158), T+1),\n",
    "                                 pseed = pseed,\n",
    "                                 psus = psus,\n",
    "                                 fp_rate = fp_rate,\n",
    "                                 fn_rate = fn_rate,\n",
    "                                 pautoinf = pautoinf),\n",
    "                 maxit0 = 20,\n",
    "                 maxit1 = 20,\n",
    "                 tol = 1e-3,\n",
    "                 memory_decay = 1e-5,\n",
    "                 window_length = 21,\n",
    "                 tau=0\n",
    ")\n",
    "\n",
    "\n",
    "rankers[\"winbp21_uninf\"] = winbp_prob0_rank.WinBPProb0Ranker(\n",
    "                 params = sib.Params(\n",
    "                                 prob_i = sib.Uniform(1.0), \n",
    "                                 prob_r = sib.Exponential(0.1), \n",
    "                                 pseed = pseed,\n",
    "                                 psus = psus,\n",
    "                                 fp_rate = fp_rate,\n",
    "                                 fn_rate = fn_rate,\n",
    "                                 pautoinf = pautoinf),\n",
    "                 maxit0 = 20,\n",
    "                 maxit1 = 20,\n",
    "                 tol = 1e-3,\n",
    "                 memory_decay = 1e-5,\n",
    "                 window_length = 21,\n",
    "                 tau=7\n",
    ")\n",
    "\n",
    "\"\"\""
   ],
   "outputs": [
    {
     "output_type": "execute_result",
     "data": {
      "text/plain": [
       "'\\nrankers[\"winbp21_uninf\"] = winbp_prob0_rank.WinBPProb0Ranker(\\n                 params = sib.Params(\\n                                 prob_i = sib.Uniform(1.0), \\n                                 prob_r = sib.Exponential(0.1), \\n                                 pseed = pseed,\\n                                 psus = psus,\\n                                 fp_rate = fp_rate,\\n                                 fn_rate = fn_rate,\\n                                 pautoinf = pautoinf),\\n                 maxit0 = 20,\\n                 maxit1 = 20,\\n                 tol = 1e-3,\\n                 memory_decay = 1e-5,\\n                 window_length = 21,\\n                 tau=7\\n)\\n\\n'"
      ]
     },
     "metadata": {},
     "execution_count": 7
    }
   ],
   "metadata": {}
  },
  {
   "cell_type": "code",
   "execution_count": 8,
   "source": [
    "mob.delta"
   ],
   "outputs": [
    {
     "output_type": "execute_result",
     "data": {
      "text/plain": [
       "0.2554120904376099"
      ]
     },
     "metadata": {},
     "execution_count": 8
    }
   ],
   "metadata": {}
  },
  {
   "cell_type": "code",
   "execution_count": 9,
   "source": [
    "ress = {}\n",
    "for num_test_algo in [300]: #number of test per day by ranking\n",
    "    for seed in [0]:\n",
    "        print(num_test_algo, seed)\n",
    "        for s in list(rankers.keys()):\n",
    "            data = {\"algo\":s}\n",
    "            if s== \"no_intervention\":\n",
    "                    res_s = loop_mtpp.free_mtpp(mob,\n",
    "                    country  = country,\n",
    "                    beta = beta,\n",
    "                    T = T,\n",
    "                    seed=seed,\n",
    "                    logger = logging.getLogger(f\"iteration.{s}\"),\n",
    "                    data = data,\n",
    "                    initial_counts = n_seeds,\n",
    "                    name_file_res = s + f\"_N_{N}_T_{T}_obs_{num_test_algo}_sym_obs_{fraction_sym_obs}_seed_{seed}\",\n",
    "                    output_dir = output_dir,\n",
    "                     )\n",
    "            else:\n",
    "                    res_s = loop_mtpp.loop_mtpp(mob,\n",
    "                    rankers[s],\n",
    "                    country  = country,\n",
    "                    T = T,\n",
    "                    seed=seed,\n",
    "                    logger = logging.getLogger(f\"iteration.{s}\"),\n",
    "                    data = data,\n",
    "                    initial_steps = initial_steps, \n",
    "                    num_test_random = num_test_random,\n",
    "                    num_test_algo = num_test_algo,\n",
    "                    fraction_sym_obs = fraction_sym_obs,\n",
    "                    initial_counts = n_seeds,\n",
    "                    beta = beta,\n",
    "                    test_HH = test_HH,\n",
    "                    quarantine_HH = quarantine_HH,\n",
    "                    name_file_res = s + f\"_N_{N}_T_{T}_obs_{num_test_algo}_sym_obs_{fraction_sym_obs}_seed_{seed}\",\n",
    "                    output_dir = output_dir,\n",
    "                    save_every_iter = 1,\n",
    "                    adoption_fraction = adoption_fraction\n",
    "                 )\n",
    "            ress[s] = res_s    \n",
    "        del res_s\n"
   ],
   "outputs": [
    {
     "output_type": "stream",
     "name": "stdout",
     "text": [
      "300 0\n",
      "Starting with guys:  {'expo': [53551, 44855, 21873], 'iasy': [70851, 41074, 26964, 45836], 'ipre': [54521, 37051, 56361, 58576, 18919]}\n",
      "t: 24.00 | 240.00 hrs (10 d)"
     ]
    },
    {
     "output_type": "stream",
     "name": "stderr",
     "text": [
      "iteration.dotd_2: INFO     time:0\n"
     ]
    },
    {
     "output_type": "stream",
     "name": "stdout",
     "text": [
      "\n",
      "[Reached max time: 24h (1d)]\n",
      "All raw contacts 972670\n",
      "Contacts at midnight  34198\n",
      "Contacts collected by coarse-graining  19104\n",
      "Contacts in multiple days  0\n",
      "Coarse-grained contacts  987764\n",
      "Missing contacts  0\n",
      "Asymmetric contacts  0\n",
      "Taking contacts in the interval  [0, 24]\n"
     ]
    },
    {
     "output_type": "stream",
     "name": "stderr",
     "text": [
      "iteration.dotd_2: INFO     number of unique contacts: 953566\n",
      "iteration.dotd_2: INFO     True  : (S,I,R): (90527.0, 12.0, 0.0)\n",
      "iteration.dotd_2: INFO     AUR_I : 0.370, prec100: 0, prec(1% of 90540): 0.00, prec5%: 0.00\n",
      "iteration.dotd_2: INFO     sym: 0, results test algo (S,I,R): (0,0,0), infected test random: 0/0\n",
      "iteration.dotd_2: INFO     ...quarantining 0 guys -> got 0 infected, 12 free as birds (+12)\n"
     ]
    },
    {
     "output_type": "stream",
     "name": "stdout",
     "text": [
      "t: 48.00 | 240.00 hrs (10 d)"
     ]
    },
    {
     "output_type": "stream",
     "name": "stderr",
     "text": [
      "iteration.dotd_2: INFO     time:1\n"
     ]
    },
    {
     "output_type": "stream",
     "name": "stdout",
     "text": [
      "\n",
      "[Reached max time: 48h (2d)]\n",
      "All raw contacts 1081558\n",
      "Contacts at midnight  68230\n",
      "Contacts collected by coarse-graining  23286\n",
      "Contacts in multiple days  0\n",
      "Coarse-grained contacts  1126502\n",
      "Missing contacts  0\n",
      "Asymmetric contacts  0\n",
      "Taking contacts in the interval  [24, 48]\n"
     ]
    },
    {
     "output_type": "stream",
     "name": "stderr",
     "text": [
      "iteration.dotd_2: INFO     number of unique contacts: 1058272\n",
      "iteration.dotd_2: INFO     True  : (S,I,R): (90525.0, 14.0, 0.0)\n",
      "iteration.dotd_2: INFO     AUR_I : 0.591, prec100: 0, prec(1% of 90540): 0.00, prec5%: 0.00\n",
      "iteration.dotd_2: INFO     sym: 1, results test algo (S,I,R): (0,0,0), infected test random: 0/0\n",
      "iteration.dotd_2: INFO     ...quarantining 1 guys -> got 1 infected, 13 free as birds (+1)\n"
     ]
    },
    {
     "output_type": "stream",
     "name": "stdout",
     "text": [
      "t: 72.00 | 240.00 hrs (10 d)"
     ]
    },
    {
     "output_type": "stream",
     "name": "stderr",
     "text": [
      "iteration.dotd_2: INFO     time:2\n"
     ]
    },
    {
     "output_type": "stream",
     "name": "stdout",
     "text": [
      "\n",
      "[Reached max time: 72h (3d)]\n",
      "All raw contacts 1072966\n",
      "Contacts at midnight  68734\n",
      "Contacts collected by coarse-graining  22476\n",
      "Contacts in multiple days  0\n",
      "Coarse-grained contacts  1119224\n",
      "Missing contacts  0\n",
      "Asymmetric contacts  0\n",
      "Taking contacts in the interval  [48, 72]\n"
     ]
    },
    {
     "output_type": "stream",
     "name": "stderr",
     "text": [
      "iteration.dotd_2: INFO     number of unique contacts: 1050476\n",
      "iteration.dotd_2: INFO     True  : (S,I,R): (90525.0, 14.0, 0.0)\n",
      "iteration.dotd_2: INFO     AUR_I : 0.491, prec100: 0, prec(1% of 90539): 0.00, prec5%: 0.00\n",
      "iteration.dotd_2: INFO     sym: 2, results test algo (S,I,R): (0,0,0), infected test random: 0/0\n",
      "iteration.dotd_2: INFO     ...quarantining 5 guys -> got 2 infected, 11 free as birds (-2)\n"
     ]
    },
    {
     "output_type": "stream",
     "name": "stdout",
     "text": [
      "t: 96.00 | 240.00 hrs (10 d)"
     ]
    },
    {
     "output_type": "stream",
     "name": "stderr",
     "text": [
      "iteration.dotd_2: INFO     time:3\n"
     ]
    },
    {
     "output_type": "stream",
     "name": "stdout",
     "text": [
      "\n",
      "[Reached max time: 96h (4d)]\n",
      "All raw contacts 1091482\n",
      "Contacts at midnight  69984\n",
      "Contacts collected by coarse-graining  23882\n",
      "Contacts in multiple days  0\n",
      "Coarse-grained contacts  1137584\n",
      "Missing contacts  0\n",
      "Asymmetric contacts  0\n",
      "Taking contacts in the interval  [72, 96]\n"
     ]
    },
    {
     "output_type": "stream",
     "name": "stderr",
     "text": [
      "iteration.dotd_2: INFO     number of unique contacts: 1067406\n",
      "iteration.dotd_2: INFO     True  : (S,I,R): (90524.0, 15.0, 0.0)\n",
      "iteration.dotd_2: INFO     AUR_I : 0.556, prec100: 0, prec(1% of 90534): 0.00, prec5%: 0.00\n",
      "iteration.dotd_2: INFO     sym: 2, results test algo (S,I,R): (0,0,0), infected test random: 0/0\n",
      "iteration.dotd_2: INFO     ...quarantining 9 guys -> got 2 infected, 10 free as birds (-1)\n"
     ]
    },
    {
     "output_type": "stream",
     "name": "stdout",
     "text": [
      "t: 120.00 | 240.00 hrs (10 d)"
     ]
    },
    {
     "output_type": "stream",
     "name": "stderr",
     "text": [
      "iteration.dotd_2: INFO     time:4\n"
     ]
    },
    {
     "output_type": "stream",
     "name": "stdout",
     "text": [
      "\n",
      "[Reached max time: 120h (5d)]\n",
      "All raw contacts 1076386\n",
      "Contacts at midnight  72788\n",
      "Contacts collected by coarse-graining  23214\n",
      "Contacts in multiple days  0\n",
      "Coarse-grained contacts  1125960\n",
      "Missing contacts  0\n",
      "Asymmetric contacts  0\n",
      "Taking contacts in the interval  [96, 120]\n"
     ]
    },
    {
     "output_type": "stream",
     "name": "stderr",
     "text": [
      "iteration.dotd_2: INFO     number of unique contacts: 1052920\n",
      "iteration.dotd_2: INFO     True  : (S,I,R): (90522.0, 17.0, 0.0)\n",
      "iteration.dotd_2: INFO     AUR_I : 0.531, prec100: 0, prec(1% of 90525): 0.00, prec5%: 0.00\n",
      "iteration.dotd_2: INFO     sym: 1, results test algo (S,I,R): (0,0,0), infected test random: 0/0\n",
      "iteration.dotd_2: INFO     ...quarantining 5 guys -> got 3 infected, 9 free as birds (-1)\n"
     ]
    },
    {
     "output_type": "stream",
     "name": "stdout",
     "text": [
      "t: 144.00 | 240.00 hrs (10 d)"
     ]
    },
    {
     "output_type": "stream",
     "name": "stderr",
     "text": [
      "iteration.dotd_2: INFO     \n",
      "observation-based inference algorithm starts now\n",
      "\n",
      "iteration.dotd_2: INFO     time:5\n"
     ]
    },
    {
     "output_type": "stream",
     "name": "stdout",
     "text": [
      "\n",
      "[Reached max time: 144h (6d)]\n",
      "All raw contacts 1074894\n",
      "Contacts at midnight  71656\n",
      "Contacts collected by coarse-graining  22562\n",
      "Contacts in multiple days  0\n",
      "Coarse-grained contacts  1123988\n",
      "Missing contacts  0\n",
      "Asymmetric contacts  0\n",
      "Taking contacts in the interval  [120, 144]\n"
     ]
    },
    {
     "output_type": "stream",
     "name": "stderr",
     "text": [
      "iteration.dotd_2: INFO     number of unique contacts: 1051862\n",
      "iteration.dotd_2: INFO     True  : (S,I,R): (90520.0, 19.0, 0.0)\n",
      "iteration.dotd_2: INFO     AUR_I : 0.321, prec100: 0, prec(1% of 90520): 0.00, prec5%: 0.00\n",
      "iteration.dotd_2: INFO     sym: 0, results test algo (S,I,R): (300,0,0), infected test random: 0/0\n",
      "iteration.dotd_2: INFO     ...quarantining 0 guys -> got 0 infected, 10 free as birds (+1)\n"
     ]
    },
    {
     "output_type": "stream",
     "name": "stdout",
     "text": [
      "t: 168.00 | 240.00 hrs (10 d)"
     ]
    },
    {
     "output_type": "stream",
     "name": "stderr",
     "text": [
      "iteration.dotd_2: INFO     time:6\n"
     ]
    },
    {
     "output_type": "stream",
     "name": "stdout",
     "text": [
      "\n",
      "[Reached max time: 168h (7d)]\n",
      "All raw contacts 1084504\n",
      "Contacts at midnight  70534\n",
      "Contacts collected by coarse-graining  23504\n",
      "Contacts in multiple days  0\n",
      "Coarse-grained contacts  1131534\n",
      "Missing contacts  0\n",
      "Asymmetric contacts  0\n",
      "Taking contacts in the interval  [144, 168]\n"
     ]
    },
    {
     "output_type": "stream",
     "name": "stderr",
     "text": [
      "iteration.dotd_2: INFO     number of unique contacts: 1060712\n",
      "iteration.dotd_2: INFO     True  : (S,I,R): (90516.0, 23.0, 0.0)\n",
      "iteration.dotd_2: INFO     AUR_I : 0.449, prec100: 0, prec(1% of 90520): 0.00, prec5%: 0.00\n",
      "iteration.dotd_2: INFO     sym: 0, results test algo (S,I,R): (300,0,0), infected test random: 0/0\n",
      "iteration.dotd_2: INFO     ...quarantining 0 guys -> got 0 infected, 13 free as birds (+3)\n"
     ]
    },
    {
     "output_type": "stream",
     "name": "stdout",
     "text": [
      "t: 192.00 | 240.00 hrs (10 d)"
     ]
    },
    {
     "output_type": "stream",
     "name": "stderr",
     "text": [
      "iteration.dotd_2: INFO     time:7\n"
     ]
    },
    {
     "output_type": "stream",
     "name": "stdout",
     "text": [
      "\n",
      "[Reached max time: 192h (8d)]\n",
      "All raw contacts 1090388\n",
      "Contacts at midnight  69858\n",
      "Contacts collected by coarse-graining  22870\n",
      "Contacts in multiple days  0\n",
      "Coarse-grained contacts  1137376\n",
      "Missing contacts  0\n",
      "Asymmetric contacts  0\n",
      "Taking contacts in the interval  [168, 192]\n"
     ]
    },
    {
     "output_type": "stream",
     "name": "stderr",
     "text": [
      "iteration.dotd_2: INFO     number of unique contacts: 1067094\n",
      "iteration.dotd_2: INFO     True  : (S,I,R): (90513.0, 26.0, 0.0)\n",
      "iteration.dotd_2: INFO     AUR_I : 0.550, prec100: 0, prec(1% of 90520): 0.00, prec5%: 0.00\n",
      "iteration.dotd_2: INFO     sym: 2, results test algo (S,I,R): (300,0,0), infected test random: 0/0\n",
      "iteration.dotd_2: INFO     ...quarantining 5 guys -> got 5 infected, 11 free as birds (-2)\n"
     ]
    },
    {
     "output_type": "stream",
     "name": "stdout",
     "text": [
      "t: 216.00 | 240.00 hrs (10 d)"
     ]
    },
    {
     "output_type": "stream",
     "name": "stderr",
     "text": [
      "iteration.dotd_2: INFO     time:8\n"
     ]
    },
    {
     "output_type": "stream",
     "name": "stdout",
     "text": [
      "\n",
      "[Reached max time: 216h (9d)]\n",
      "All raw contacts 1092894\n",
      "Contacts at midnight  70074\n",
      "Contacts collected by coarse-graining  23394\n",
      "Contacts in multiple days  0\n",
      "Coarse-grained contacts  1139574\n",
      "Missing contacts  0\n",
      "Asymmetric contacts  0\n",
      "Taking contacts in the interval  [192, 216]\n"
     ]
    },
    {
     "output_type": "stream",
     "name": "stderr",
     "text": [
      "iteration.dotd_2: INFO     number of unique contacts: 1068984\n",
      "iteration.dotd_2: INFO     True  : (S,I,R): (90512.0, 27.0, 0.0)\n",
      "iteration.dotd_2: INFO     AUR_I : 0.607, prec100: 0, prec(1% of 90515): 0.00, prec5%: 0.00\n",
      "iteration.dotd_2: INFO     sym: 0, results test algo (S,I,R): (300,0,0), infected test random: 0/0\n",
      "iteration.dotd_2: INFO     ...quarantining 0 guys -> got 0 infected, 12 free as birds (+1)\n"
     ]
    },
    {
     "output_type": "stream",
     "name": "stdout",
     "text": [
      "t: 239.38 | 240.00 hrs (10 d)"
     ]
    },
    {
     "output_type": "stream",
     "name": "stderr",
     "text": [
      "iteration.dotd_2: INFO     time:9\n"
     ]
    },
    {
     "output_type": "stream",
     "name": "stdout",
     "text": [
      "All raw contacts 990972\n",
      "Contacts at midnight  36600\n",
      "Contacts collected by coarse-graining  19290\n",
      "Contacts in multiple days  0\n",
      "Coarse-grained contacts  1008282\n",
      "Missing contacts  0\n",
      "Asymmetric contacts  0\n",
      "Taking contacts in the interval  [216, 240]\n"
     ]
    },
    {
     "output_type": "stream",
     "name": "stderr",
     "text": [
      "iteration.dotd_2: INFO     number of unique contacts: 971050\n",
      "iteration.dotd_2: INFO     True  : (S,I,R): (90505.0, 34.0, 0.0)\n",
      "iteration.dotd_2: INFO     AUR_I : 0.475, prec100: 0, prec(1% of 90515): 0.00, prec5%: 0.00\n",
      "iteration.dotd_2: INFO     sym: 0, results test algo (S,I,R): (300,0,0), infected test random: 0/0\n",
      "iteration.dotd_2: INFO     ...quarantining 0 guys -> got 0 infected, 19 free as birds (+7)\n"
     ]
    },
    {
     "output_type": "stream",
     "name": "stdout",
     "text": [
      "Time  284.4567337036133\n",
      "Starting with guys:  {'expo': [53551, 44855, 21873], 'iasy': [70851, 41074, 26964, 45836], 'ipre': [54521, 37051, 56361, 58576, 18919]}\n",
      "t: 24.00 | 240.00 hrs (10 d)"
     ]
    },
    {
     "output_type": "stream",
     "name": "stderr",
     "text": [
      "iteration.winbp21_tau7_2: INFO     time:0\n"
     ]
    },
    {
     "output_type": "stream",
     "name": "stdout",
     "text": [
      "\n",
      "[Reached max time: 24h (1d)]\n",
      "All raw contacts 972670\n",
      "Contacts at midnight  34198\n",
      "Contacts collected by coarse-graining  19104\n",
      "Contacts in multiple days  0\n",
      "Coarse-grained contacts  987764\n",
      "Missing contacts  0\n",
      "Asymmetric contacts  0\n",
      "Taking contacts in the interval  [0, 24]\n"
     ]
    },
    {
     "output_type": "stream",
     "name": "stderr",
     "text": [
      "iteration.winbp21_tau7_2: INFO     number of unique contacts: 953566\n"
     ]
    },
    {
     "output_type": "stream",
     "name": "stdout",
     "text": []
    },
    {
     "output_type": "stream",
     "name": "stderr",
     "text": [
      "iteration.winbp21_tau7_2: INFO     winBP: (S,I,R): (90538.0, 1.0, 0.0), seeds: 1.0, ll: -62756.4\n",
      "iteration.winbp21_tau7_2: INFO     True  : (S,I,R): (90527.0, 12.0, 0.0)\n",
      "iteration.winbp21_tau7_2: INFO     AUR_I : 0.514, prec100: 1, prec(1% of 90540): 0.00, prec5%: 0.00\n",
      "iteration.winbp21_tau7_2: INFO     sym: 0, results test algo (S,I,R): (0,0,0), infected test random: 0/0\n",
      "iteration.winbp21_tau7_2: INFO     ...quarantining 0 guys -> got 0 infected, 12 free as birds (+12)\n"
     ]
    },
    {
     "output_type": "stream",
     "name": "stdout",
     "text": [
      "t: 48.00 | 240.00 hrs (10 d)"
     ]
    },
    {
     "output_type": "stream",
     "name": "stderr",
     "text": [
      "iteration.winbp21_tau7_2: INFO     time:1\n"
     ]
    },
    {
     "output_type": "stream",
     "name": "stdout",
     "text": [
      "\n",
      "[Reached max time: 48h (2d)]\n",
      "All raw contacts 1081558\n",
      "Contacts at midnight  68230\n",
      "Contacts collected by coarse-graining  23286\n",
      "Contacts in multiple days  0\n",
      "Coarse-grained contacts  1126502\n",
      "Missing contacts  0\n",
      "Asymmetric contacts  0\n",
      "Taking contacts in the interval  [24, 48]\n"
     ]
    },
    {
     "output_type": "stream",
     "name": "stderr",
     "text": [
      "iteration.winbp21_tau7_2: INFO     number of unique contacts: 1058272\n"
     ]
    },
    {
     "output_type": "stream",
     "name": "stdout",
     "text": []
    },
    {
     "output_type": "stream",
     "name": "stderr",
     "text": [
      "iteration.winbp21_tau7_2: INFO     winBP: (S,I,R): (90537.9, 1.1, 0.0), seeds: 1.0, ll: -62756.4\n",
      "iteration.winbp21_tau7_2: INFO     True  : (S,I,R): (90525.0, 14.0, 0.0)\n",
      "iteration.winbp21_tau7_2: INFO     AUR_I : 0.510, prec100: 0, prec(1% of 90540): 0.00, prec5%: 0.00\n",
      "iteration.winbp21_tau7_2: INFO     sym: 1, results test algo (S,I,R): (0,0,0), infected test random: 0/0\n",
      "iteration.winbp21_tau7_2: INFO     ...quarantining 1 guys -> got 1 infected, 13 free as birds (+1)\n"
     ]
    },
    {
     "output_type": "stream",
     "name": "stdout",
     "text": [
      "t: 72.00 | 240.00 hrs (10 d)"
     ]
    },
    {
     "output_type": "stream",
     "name": "stderr",
     "text": [
      "iteration.winbp21_tau7_2: INFO     time:2\n"
     ]
    },
    {
     "output_type": "stream",
     "name": "stdout",
     "text": [
      "\n",
      "[Reached max time: 72h (3d)]\n",
      "All raw contacts 1072966\n",
      "Contacts at midnight  68734\n",
      "Contacts collected by coarse-graining  22476\n",
      "Contacts in multiple days  0\n",
      "Coarse-grained contacts  1119224\n",
      "Missing contacts  0\n",
      "Asymmetric contacts  0\n",
      "Taking contacts in the interval  [48, 72]\n"
     ]
    },
    {
     "output_type": "stream",
     "name": "stderr",
     "text": [
      "iteration.winbp21_tau7_2: INFO     number of unique contacts: 1050476\n"
     ]
    },
    {
     "output_type": "stream",
     "name": "stdout",
     "text": []
    },
    {
     "output_type": "stream",
     "name": "stderr",
     "text": [
      "iteration.winbp21_tau7_2: INFO     winBP: (S,I,R): (90537.8, 1.2, 0.0), seeds: 1.0, ll: -62756.4\n",
      "iteration.winbp21_tau7_2: INFO     True  : (S,I,R): (90525.0, 14.0, 0.0)\n",
      "iteration.winbp21_tau7_2: INFO     AUR_I : 0.379, prec100: 0, prec(1% of 90539): 0.00, prec5%: 0.00\n",
      "iteration.winbp21_tau7_2: INFO     sym: 2, results test algo (S,I,R): (0,0,0), infected test random: 0/0\n",
      "iteration.winbp21_tau7_2: INFO     ...quarantining 5 guys -> got 2 infected, 11 free as birds (-2)\n"
     ]
    },
    {
     "output_type": "stream",
     "name": "stdout",
     "text": [
      "t: 96.00 | 240.00 hrs (10 d)"
     ]
    },
    {
     "output_type": "stream",
     "name": "stderr",
     "text": [
      "iteration.winbp21_tau7_2: INFO     time:3\n"
     ]
    },
    {
     "output_type": "stream",
     "name": "stdout",
     "text": [
      "\n",
      "[Reached max time: 96h (4d)]\n",
      "All raw contacts 1091482\n",
      "Contacts at midnight  69984\n",
      "Contacts collected by coarse-graining  23882\n",
      "Contacts in multiple days  0\n",
      "Coarse-grained contacts  1137584\n",
      "Missing contacts  0\n",
      "Asymmetric contacts  0\n",
      "Taking contacts in the interval  [72, 96]\n"
     ]
    },
    {
     "output_type": "stream",
     "name": "stderr",
     "text": [
      "iteration.winbp21_tau7_2: INFO     number of unique contacts: 1067406\n"
     ]
    },
    {
     "output_type": "stream",
     "name": "stdout",
     "text": []
    },
    {
     "output_type": "stream",
     "name": "stderr",
     "text": [
      "iteration.winbp21_tau7_2: INFO     winBP: (S,I,R): (90537.7, 1.3, 0.0), seeds: 1.0, ll: -62756.4\n",
      "iteration.winbp21_tau7_2: INFO     True  : (S,I,R): (90524.0, 15.0, 0.0)\n",
      "iteration.winbp21_tau7_2: INFO     AUR_I : 0.339, prec100: 0, prec(1% of 90534): 0.00, prec5%: 0.00\n",
      "iteration.winbp21_tau7_2: INFO     sym: 2, results test algo (S,I,R): (0,0,0), infected test random: 0/0\n",
      "iteration.winbp21_tau7_2: INFO     ...quarantining 9 guys -> got 2 infected, 10 free as birds (-1)\n"
     ]
    },
    {
     "output_type": "stream",
     "name": "stdout",
     "text": [
      "t: 120.00 | 240.00 hrs (10 d)"
     ]
    },
    {
     "output_type": "stream",
     "name": "stderr",
     "text": [
      "iteration.winbp21_tau7_2: INFO     time:4\n"
     ]
    },
    {
     "output_type": "stream",
     "name": "stdout",
     "text": [
      "\n",
      "[Reached max time: 120h (5d)]\n",
      "All raw contacts 1076386\n",
      "Contacts at midnight  72788\n",
      "Contacts collected by coarse-graining  23214\n",
      "Contacts in multiple days  0\n",
      "Coarse-grained contacts  1125960\n",
      "Missing contacts  0\n",
      "Asymmetric contacts  0\n",
      "Taking contacts in the interval  [96, 120]\n"
     ]
    },
    {
     "output_type": "stream",
     "name": "stderr",
     "text": [
      "iteration.winbp21_tau7_2: INFO     number of unique contacts: 1052920\n"
     ]
    },
    {
     "output_type": "stream",
     "name": "stdout",
     "text": []
    },
    {
     "output_type": "stream",
     "name": "stderr",
     "text": [
      "iteration.winbp21_tau7_2: INFO     winBP: (S,I,R): (90537.6, 1.4, 0.0), seeds: 1.0, ll: -62756.4\n",
      "iteration.winbp21_tau7_2: INFO     True  : (S,I,R): (90522.0, 17.0, 0.0)\n",
      "iteration.winbp21_tau7_2: INFO     AUR_I : 0.476, prec100: 0, prec(1% of 90525): 0.00, prec5%: 0.00\n",
      "iteration.winbp21_tau7_2: INFO     sym: 1, results test algo (S,I,R): (0,0,0), infected test random: 0/0\n",
      "iteration.winbp21_tau7_2: INFO     ...quarantining 5 guys -> got 3 infected, 9 free as birds (-1)\n"
     ]
    },
    {
     "output_type": "stream",
     "name": "stdout",
     "text": [
      "t: 144.00 | 240.00 hrs (10 d)"
     ]
    },
    {
     "output_type": "stream",
     "name": "stderr",
     "text": [
      "iteration.winbp21_tau7_2: INFO     \n",
      "observation-based inference algorithm starts now\n",
      "\n",
      "iteration.winbp21_tau7_2: INFO     time:5\n"
     ]
    },
    {
     "output_type": "stream",
     "name": "stdout",
     "text": [
      "\n",
      "[Reached max time: 144h (6d)]\n",
      "All raw contacts 1074894\n",
      "Contacts at midnight  71656\n",
      "Contacts collected by coarse-graining  22562\n",
      "Contacts in multiple days  0\n",
      "Coarse-grained contacts  1123988\n",
      "Missing contacts  0\n",
      "Asymmetric contacts  0\n",
      "Taking contacts in the interval  [120, 144]\n"
     ]
    },
    {
     "output_type": "stream",
     "name": "stderr",
     "text": [
      "iteration.winbp21_tau7_2: INFO     number of unique contacts: 1051862\n"
     ]
    },
    {
     "output_type": "stream",
     "name": "stdout",
     "text": []
    },
    {
     "output_type": "stream",
     "name": "stderr",
     "text": [
      "iteration.winbp21_tau7_2: INFO     winBP: (S,I,R): (90534.4, 4.6, 0.0), seeds: 3.2, ll: -62789.6\n",
      "iteration.winbp21_tau7_2: INFO     True  : (S,I,R): (90520.0, 19.0, 0.0)\n",
      "iteration.winbp21_tau7_2: INFO     AUR_I : 0.504, prec100: 0, prec(1% of 90520): 0.00, prec5%: 0.00\n",
      "iteration.winbp21_tau7_2: INFO     sym: 0, results test algo (S,I,R): (300,0,0), infected test random: 0/0\n",
      "iteration.winbp21_tau7_2: INFO     ...quarantining 0 guys -> got 0 infected, 10 free as birds (+1)\n"
     ]
    },
    {
     "output_type": "stream",
     "name": "stdout",
     "text": [
      "t: 168.00 | 240.00 hrs (10 d)"
     ]
    },
    {
     "output_type": "stream",
     "name": "stderr",
     "text": [
      "iteration.winbp21_tau7_2: INFO     time:6\n"
     ]
    },
    {
     "output_type": "stream",
     "name": "stdout",
     "text": [
      "\n",
      "[Reached max time: 168h (7d)]\n",
      "All raw contacts 1084504\n",
      "Contacts at midnight  70534\n",
      "Contacts collected by coarse-graining  23504\n",
      "Contacts in multiple days  0\n",
      "Coarse-grained contacts  1131534\n",
      "Missing contacts  0\n",
      "Asymmetric contacts  0\n",
      "Taking contacts in the interval  [144, 168]\n"
     ]
    },
    {
     "output_type": "stream",
     "name": "stderr",
     "text": [
      "iteration.winbp21_tau7_2: INFO     number of unique contacts: 1060712\n"
     ]
    },
    {
     "output_type": "stream",
     "name": "stdout",
     "text": []
    },
    {
     "output_type": "stream",
     "name": "stderr",
     "text": [
      "iteration.winbp21_tau7_2: INFO     winBP: (S,I,R): (90534.4, 4.6, 0.0), seeds: 3.2, ll: -62789.8\n",
      "iteration.winbp21_tau7_2: INFO     True  : (S,I,R): (90516.0, 23.0, 0.0)\n",
      "iteration.winbp21_tau7_2: INFO     AUR_I : 0.429, prec100: 0, prec(1% of 90520): 0.00, prec5%: 0.00\n",
      "iteration.winbp21_tau7_2: INFO     sym: 0, results test algo (S,I,R): (300,0,0), infected test random: 0/0\n",
      "iteration.winbp21_tau7_2: INFO     ...quarantining 0 guys -> got 0 infected, 13 free as birds (+3)\n"
     ]
    },
    {
     "output_type": "stream",
     "name": "stdout",
     "text": [
      "t: 192.00 | 240.00 hrs (10 d)"
     ]
    },
    {
     "output_type": "stream",
     "name": "stderr",
     "text": [
      "iteration.winbp21_tau7_2: INFO     time:7\n"
     ]
    },
    {
     "output_type": "stream",
     "name": "stdout",
     "text": [
      "\n",
      "[Reached max time: 192h (8d)]\n",
      "All raw contacts 1090388\n",
      "Contacts at midnight  69858\n",
      "Contacts collected by coarse-graining  22870\n",
      "Contacts in multiple days  0\n",
      "Coarse-grained contacts  1137376\n",
      "Missing contacts  0\n",
      "Asymmetric contacts  0\n",
      "Taking contacts in the interval  [168, 192]\n"
     ]
    },
    {
     "output_type": "stream",
     "name": "stderr",
     "text": [
      "iteration.winbp21_tau7_2: INFO     number of unique contacts: 1067094\n"
     ]
    },
    {
     "output_type": "stream",
     "name": "stdout",
     "text": []
    },
    {
     "output_type": "stream",
     "name": "stderr",
     "text": [
      "iteration.winbp21_tau7_2: INFO     winBP: (S,I,R): (90534.3, 4.7, 0.0), seeds: 3.2, ll: -62789.8\n",
      "iteration.winbp21_tau7_2: INFO     True  : (S,I,R): (90513.0, 26.0, 0.0)\n",
      "iteration.winbp21_tau7_2: INFO     AUR_I : 0.506, prec100: 0, prec(1% of 90520): 0.00, prec5%: 0.00\n",
      "iteration.winbp21_tau7_2: INFO     sym: 2, results test algo (S,I,R): (300,0,0), infected test random: 0/0\n",
      "iteration.winbp21_tau7_2: INFO     ...quarantining 5 guys -> got 5 infected, 11 free as birds (-2)\n"
     ]
    },
    {
     "output_type": "stream",
     "name": "stdout",
     "text": [
      "t: 216.00 | 240.00 hrs (10 d)"
     ]
    },
    {
     "output_type": "stream",
     "name": "stderr",
     "text": [
      "iteration.winbp21_tau7_2: INFO     time:8\n"
     ]
    },
    {
     "output_type": "stream",
     "name": "stdout",
     "text": [
      "\n",
      "[Reached max time: 216h (9d)]\n",
      "All raw contacts 1092894\n",
      "Contacts at midnight  70074\n",
      "Contacts collected by coarse-graining  23394\n",
      "Contacts in multiple days  0\n",
      "Coarse-grained contacts  1139574\n",
      "Missing contacts  0\n",
      "Asymmetric contacts  0\n",
      "Taking contacts in the interval  [192, 216]\n"
     ]
    },
    {
     "output_type": "stream",
     "name": "stderr",
     "text": [
      "iteration.winbp21_tau7_2: INFO     number of unique contacts: 1068984\n"
     ]
    },
    {
     "output_type": "stream",
     "name": "stdout",
     "text": []
    },
    {
     "output_type": "stream",
     "name": "stderr",
     "text": [
      "iteration.winbp21_tau7_2: INFO     winBP: (S,I,R): (90528.5, 10.5, 0.0), seeds: 6.3, ll: -62844.1\n",
      "iteration.winbp21_tau7_2: INFO     True  : (S,I,R): (90512.0, 27.0, 0.0)\n",
      "iteration.winbp21_tau7_2: INFO     AUR_I : 0.533, prec100: 0, prec(1% of 90499): 0.00, prec5%: 0.00\n",
      "iteration.winbp21_tau7_2: INFO     sym: 0, results test algo (S,I,R): (294,6,0), infected test random: 0/0\n",
      "iteration.winbp21_tau7_2: INFO     ...quarantining 16 guys -> got 6 infected, 6 free as birds (-5)\n"
     ]
    },
    {
     "output_type": "stream",
     "name": "stdout",
     "text": [
      "t: 239.38 | 240.00 hrs (10 d)"
     ]
    },
    {
     "output_type": "stream",
     "name": "stderr",
     "text": [
      "iteration.winbp21_tau7_2: INFO     time:9\n"
     ]
    },
    {
     "output_type": "stream",
     "name": "stdout",
     "text": [
      "All raw contacts 990972\n",
      "Contacts at midnight  36600\n",
      "Contacts collected by coarse-graining  19290\n",
      "Contacts in multiple days  0\n",
      "Coarse-grained contacts  1008282\n",
      "Missing contacts  0\n",
      "Asymmetric contacts  0\n",
      "Taking contacts in the interval  [216, 240]\n"
     ]
    },
    {
     "output_type": "stream",
     "name": "stderr",
     "text": [
      "iteration.winbp21_tau7_2: INFO     number of unique contacts: 970714\n"
     ]
    },
    {
     "output_type": "stream",
     "name": "stdout",
     "text": []
    },
    {
     "output_type": "stream",
     "name": "stderr",
     "text": [
      "iteration.winbp21_tau7_2: INFO     winBP: (S,I,R): (90522.9, 16.1, 0.0), seeds: 6.7, ll: -62878.6\n",
      "iteration.winbp21_tau7_2: INFO     True  : (S,I,R): (90506.0, 33.0, 0.0)\n",
      "iteration.winbp21_tau7_2: INFO     AUR_I : 0.595, prec100: 0, prec(1% of 90495): 0.00, prec5%: 0.00\n",
      "iteration.winbp21_tau7_2: INFO     sym: 0, results test algo (S,I,R): (299,1,0), infected test random: 0/0\n",
      "iteration.winbp21_tau7_2: INFO     ...quarantining 4 guys -> got 4 infected, 6 free as birds (+0)\n"
     ]
    },
    {
     "output_type": "stream",
     "name": "stdout",
     "text": [
      "Time  734.1247687339783\n"
     ]
    }
   ],
   "metadata": {
    "scrolled": true
   }
  },
  {
   "cell_type": "code",
   "execution_count": 10,
   "source": [
    "import matplotlib.pyplot as plt\n",
    "fig,axs = plt.subplots(1,4,figsize = (25,5))\n",
    "to_plot = ['I','infected_free','num_quarantined', \"q_algo\"]\n",
    "for s in ress.keys():    \n",
    "    for il,l in enumerate(to_plot):\n",
    "        if s != \"no_intervention\":\n",
    "            axs[il].plot(range(T),ress[s][l],label = s)\n",
    "            if l!= \"aurI\":\n",
    "                axs[il].set_yscale (\"log\") \n",
    "                axs[il].vlines(initial_steps,ymin = 1,ymax = 10**4,linestyle = \"--\",alpha = 0.5, color = \"black\")\n",
    "            else:\n",
    "                axs[il].vlines(initial_steps,ymin = 0,ymax = 1,linestyle = \"--\",alpha = 0.5, color = \"black\")\n",
    "            \n",
    "            axs[il].set_title(l,fontsize = 12)\n",
    "    axs[0].legend(loc = 'upper left')\n",
    "    \n",
    "#fig.suptitle(f\"num test algo {num_test_algo} - adoption_fraction {adoption_fraction}\")\n",
    "fig.show()\n"
   ],
   "outputs": [
    {
     "output_type": "display_data",
     "data": {
      "text/plain": [
       "<Figure size 1800x360 with 4 Axes>"
      ],
      "image/png": "[encoded data removed]"
     },
     "metadata": {
      "needs_background": "light"
     }
    }
   ],
   "metadata": {}
  },
  {
   "cell_type": "code",
   "execution_count": null,
   "source": [],
   "outputs": [],
   "metadata": {}
  },
  {
   "cell_type": "code",
   "execution_count": null,
   "source": [],
   "outputs": [],
   "metadata": {}
  }
 ],
 "metadata": {
  "kernelspec": {
   "name": "python3",
   "display_name": "Python 3.6.8 64-bit"
  },
  "language_info": {
   "codemirror_mode": {
    "name": "ipython",
    "version": 3
   },
   "file_extension": ".py",
   "mimetype": "text/x-python",
   "name": "python",
   "nbconvert_exporter": "python",
   "pygments_lexer": "ipython3",
   "version": "3.6.8-final"
  }
 },
 "nbformat": 4,
 "nbformat_minor": 4
}